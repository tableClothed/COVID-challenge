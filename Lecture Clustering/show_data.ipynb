{
 "cells": [
  {
   "cell_type": "code",
   "execution_count": 1,
   "metadata": {},
   "outputs": [],
   "source": [
    "import pandas as pd\n",
    "import os\n",
    "from IPython.core.display import display, HTML"
   ]
  },
  {
   "cell_type": "code",
   "execution_count": 44,
   "metadata": {},
   "outputs": [],
   "source": [
    "DIR = \"csvfiles/relevant/\"\n",
    "\n",
    "HEADERS = [\n",
    "    \"What is known about transmission, incubation, and environmental stability?\",\n",
    "    \"What do we know about COVID-19 risk factors? What have we learned from epidemiological studies?\",\n",
    "    \"What do we know about virus genetics, origin, and evolution?\",\n",
    "    \"What do we know about vaccines and therapeutics?\",\n",
    "    \"What has been published about medical care?\",\n",
    "    \"What do we know about the effectiveness of non-pharmaceutical interventions?\",\n",
    "    \"What do we know about diagnostics and surveillance?\",\n",
    "    \"\",\n",
    "    \"What has been published concerning ethical considerations for research?\",\n",
    "    \"What has been published about information sharing and inter-sectoral collaboration?\"\n",
    "]"
   ]
  },
  {
   "cell_type": "code",
   "execution_count": 64,
   "metadata": {},
   "outputs": [],
   "source": [
    "def read_data(TAGS, TASK):\n",
    "    display(HTML(\"<h1 style='font-size:30px'>\" + HEADERS[TASK-1]+\"</h1> </br>\"))\n",
    "    for i in range(len(TAGS)):\n",
    "        display(HTML(\"<h2>\" + str(i+1) + \". \" + TAGS[i] + \" </h2>\"))\n",
    "        df = pd.read_csv(DIR + \"task\" + str(TASK) + \"_\" + str(i) + \".csv\")\n",
    "        for j, row in df.iterrows():\n",
    "            year, month, day = row['publish_time'].split('-')\n",
    "            time = f\"{day}-{month}-{year}\"\n",
    "            display(HTML(\"<h4 style='text-align:center'>\" + time + \"</h4>\"))\n",
    "            display(HTML(\"<h3 style='text-align:center'> <a href='\" + row['url'] + \"'> \" + row['title'].upper() + \"</a></h2>\"))\n",
    "            display(HTML(\"<h4 style='text-align:center'> ~ <b>\" + row['authors'] + \"</b></h4>\"))\n",
    "\n",
    "            display(HTML(\"<blockquote>\" + row['text'] + \"</blockquote>\"))\n",
    "            display(HTML(\"<p style='text-align:center'> *** </p>\"))"
   ]
  },
  {
   "cell_type": "code",
   "execution_count": 65,
   "metadata": {},
   "outputs": [
    {
     "data": {
      "text/html": [
       "<h1 style='font-size:30px'>What is known about transmission, incubation, and environmental stability?</h1> </br>"
      ],
      "text/plain": [
       "<IPython.core.display.HTML object>"
      ]
     },
     "metadata": {},
     "output_type": "display_data"
    },
    {
     "data": {
      "text/html": [
       "<h2>1. Range of incubation periods for the disease in humans (and how this varies across age and health status) and how long individuals are contagious, even after recovery. </h2>"
      ],
      "text/plain": [
       "<IPython.core.display.HTML object>"
      ]
     },
     "metadata": {},
     "output_type": "display_data"
    },
    {
     "data": {
      "text/html": [
       "<h4 style='text-align:center'>20-02-2020</h4>"
      ],
      "text/plain": [
       "<IPython.core.display.HTML object>"
      ]
     },
     "metadata": {},
     "output_type": "display_data"
    },
    {
     "data": {
      "text/html": [
       "<h3 style='text-align:center'> <a href='https://doi.org/10.1101/2020.02.16.20023655'> SEIR TRANSMISSION DYNAMICS MODEL OF 2019 NCOV CORONAVIRUS WITH CONSIDERING THE WEAK INFECTIOUS ABILITY AND CHANGES IN LATENCY DURATION</a></h2>"
      ],
      "text/plain": [
       "<IPython.core.display.HTML object>"
      ]
     },
     "metadata": {},
     "output_type": "display_data"
    },
    {
     "data": {
      "text/html": [
       "<h4 style='text-align:center'> ~ <b>Pengpeng Shi; Shengli Cao; Peihua Feng</b></h4>"
      ],
      "text/plain": [
       "<IPython.core.display.HTML object>"
      ]
     },
     "metadata": {},
     "output_type": "display_data"
    },
    {
     "data": {
      "text/html": [
       "<blockquote>77 SARS epidemic [4] 。In the absence of comprehensive treatments or vaccines, China has adopted the most effective isolation prevention and control measures to isolate patients diagnosed with 2019-nCoV to control the spread of infection, but the number of 2019-nCoV infections has far exceeded that of SARS epidemics</blockquote>"
      ],
      "text/plain": [
       "<IPython.core.display.HTML object>"
      ]
     },
     "metadata": {},
     "output_type": "display_data"
    },
    {
     "data": {
      "text/html": [
       "<p style='text-align:center'> *** </p>"
      ],
      "text/plain": [
       "<IPython.core.display.HTML object>"
      ]
     },
     "metadata": {},
     "output_type": "display_data"
    },
    {
     "data": {
      "text/html": [
       "<h4 style='text-align:center'>21-01-2015</h4>"
      ],
      "text/plain": [
       "<IPython.core.display.HTML object>"
      ]
     },
     "metadata": {},
     "output_type": "display_data"
    },
    {
     "data": {
      "text/html": [
       "<h3 style='text-align:center'> <a href='https://www.ncbi.nlm.nih.gov/pmc/articles/PMC4301953/'> CHARACTERIZING THE TRANSMISSION DYNAMICS AND CONTROL OF EBOLA VIRUS DISEASE</a></h2>"
      ],
      "text/plain": [
       "<IPython.core.display.HTML object>"
      ]
     },
     "metadata": {},
     "output_type": "display_data"
    },
    {
     "data": {
      "text/html": [
       "<h4 style='text-align:center'> ~ <b>Chowell, Gerardo; Nishiura, Hiroshi</b></h4>"
      ],
      "text/plain": [
       "<IPython.core.display.HTML object>"
      ]
     },
     "metadata": {},
     "output_type": "display_data"
    },
    {
     "data": {
      "text/html": [
       "<blockquote> EVD contagiousness is most pronounced in the later and more severe stages of Ebola infection when infectious individuals are confined at home or health care settings and mostly exposed to caregivers (e</blockquote>"
      ],
      "text/plain": [
       "<IPython.core.display.HTML object>"
      ]
     },
     "metadata": {},
     "output_type": "display_data"
    },
    {
     "data": {
      "text/html": [
       "<p style='text-align:center'> *** </p>"
      ],
      "text/plain": [
       "<IPython.core.display.HTML object>"
      ]
     },
     "metadata": {},
     "output_type": "display_data"
    },
    {
     "data": {
      "text/html": [
       "<h4 style='text-align:center'>23-10-2014</h4>"
      ],
      "text/plain": [
       "<IPython.core.display.HTML object>"
      ]
     },
     "metadata": {},
     "output_type": "display_data"
    },
    {
     "data": {
      "text/html": [
       "<h3 style='text-align:center'> <a href='https://www.ncbi.nlm.nih.gov/pmc/articles/PMC4207809/'> CONTACT HETEROGENEITY, RATHER THAN TRANSMISSION EFFICIENCY, LIMITS THE EMERGENCE AND SPREAD OF CANINE INFLUENZA VIRUS</a></h2>"
      ],
      "text/plain": [
       "<IPython.core.display.HTML object>"
      ]
     },
     "metadata": {},
     "output_type": "display_data"
    },
    {
     "data": {
      "text/html": [
       "<h4 style='text-align:center'> ~ <b>Dalziel, Benjamin D.; Huang, Kai; Geoghegan, Jemma L.; Arinaminpathy, Nimalan; Dubovi, Edward J.; Grenfell, Bryan T.; Ellner, Stephen P.; Holmes, Edward C.; Parrish, Colin R.</b></h4>"
      ],
      "text/plain": [
       "<IPython.core.display.HTML object>"
      ]
     },
     "metadata": {},
     "output_type": "display_data"
    },
    {
     "data": {
      "text/html": [
       "<blockquote> Vaccination reduces a dog's susceptibility to infection by decreasing the probability that a virus population initially transferred through infectious contact will enter a phase of exponential growth, prerequisite to significant viral shedding and clinical symptoms [50] </blockquote>"
      ],
      "text/plain": [
       "<IPython.core.display.HTML object>"
      ]
     },
     "metadata": {},
     "output_type": "display_data"
    },
    {
     "data": {
      "text/html": [
       "<p style='text-align:center'> *** </p>"
      ],
      "text/plain": [
       "<IPython.core.display.HTML object>"
      ]
     },
     "metadata": {},
     "output_type": "display_data"
    },
    {
     "data": {
      "text/html": [
       "<h4 style='text-align:center'>24-07-2013</h4>"
      ],
      "text/plain": [
       "<IPython.core.display.HTML object>"
      ]
     },
     "metadata": {},
     "output_type": "display_data"
    },
    {
     "data": {
      "text/html": [
       "<h3 style='text-align:center'> <a href='https://www.ncbi.nlm.nih.gov/pmc/articles/PMC7086932/'> SEASONALITY AND PREVALENCE OF RESPIRATORY PATHOGENS DETECTED BY MULTIPLEX PCR AT A TERTIARY CARE MEDICAL CENTER</a></h2>"
      ],
      "text/plain": [
       "<IPython.core.display.HTML object>"
      ]
     },
     "metadata": {},
     "output_type": "display_data"
    },
    {
     "data": {
      "text/html": [
       "<h4 style='text-align:center'> ~ <b>Litwin, Christine M.; Bosley, James G.</b></h4>"
      ],
      "text/plain": [
       "<IPython.core.display.HTML object>"
      ]
     },
     "metadata": {},
     "output_type": "display_data"
    },
    {
     "data": {
      "text/html": [
       "<blockquote>Acute respiratory tract illnesses are the most common illness in all age groups and are an important cause of hospitalization and mortality, especially in the winter months</blockquote>"
      ],
      "text/plain": [
       "<IPython.core.display.HTML object>"
      ]
     },
     "metadata": {},
     "output_type": "display_data"
    },
    {
     "data": {
      "text/html": [
       "<p style='text-align:center'> *** </p>"
      ],
      "text/plain": [
       "<IPython.core.display.HTML object>"
      ]
     },
     "metadata": {},
     "output_type": "display_data"
    },
    {
     "data": {
      "text/html": [
       "<h4 style='text-align:center'>31-03-2008</h4>"
      ],
      "text/plain": [
       "<IPython.core.display.HTML object>"
      ]
     },
     "metadata": {},
     "output_type": "display_data"
    },
    {
     "data": {
      "text/html": [
       "<h3 style='text-align:center'> <a href='https://doi.org/10.1016/j.plrev.2007.12.001'> QUANTIFYING THE TRANSMISSION POTENTIAL OF PANDEMIC INFLUENZA</a></h2>"
      ],
      "text/plain": [
       "<IPython.core.display.HTML object>"
      ]
     },
     "metadata": {},
     "output_type": "display_data"
    },
    {
     "data": {
      "text/html": [
       "<h4 style='text-align:center'> ~ <b>Chowell, Gerardo; Nishiura, Hiroshi</b></h4>"
      ],
      "text/plain": [
       "<IPython.core.display.HTML object>"
      ]
     },
     "metadata": {},
     "output_type": "display_data"
    },
    {
     "data": {
      "text/html": [
       "<blockquote> Besides, for many recurrent infectious diseases including seasonal influenza, estimating the background immunity p in the population is extremely difficult due to cross-immunity of antigenically-related influenza strains and vaccination campaigns</blockquote>"
      ],
      "text/plain": [
       "<IPython.core.display.HTML object>"
      ]
     },
     "metadata": {},
     "output_type": "display_data"
    },
    {
     "data": {
      "text/html": [
       "<p style='text-align:center'> *** </p>"
      ],
      "text/plain": [
       "<IPython.core.display.HTML object>"
      ]
     },
     "metadata": {},
     "output_type": "display_data"
    },
    {
     "data": {
      "text/html": [
       "<h2>2. Prevalence of asymptomatic shedding and transmission (e.g., particularly children). </h2>"
      ],
      "text/plain": [
       "<IPython.core.display.HTML object>"
      ]
     },
     "metadata": {},
     "output_type": "display_data"
    },
    {
     "data": {
      "text/html": [
       "<h4 style='text-align:center'>12-03-2020</h4>"
      ],
      "text/plain": [
       "<IPython.core.display.HTML object>"
      ]
     },
     "metadata": {},
     "output_type": "display_data"
    },
    {
     "data": {
      "text/html": [
       "<h3 style='text-align:center'> <a href='https://doi.org/10.1101/2020.03.08.20032946'> QUANTIFYING DYNAMICS OF SARS-COV-2 TRANSMISSION SUGGESTS THAT EPIDEMIC CONTROL AND AVOIDANCE IS FEASIBLE THROUGH INSTANTANEOUS DIGITAL CONTACT TRACING</a></h2>"
      ],
      "text/plain": [
       "<IPython.core.display.HTML object>"
      ]
     },
     "metadata": {},
     "output_type": "display_data"
    },
    {
     "data": {
      "text/html": [
       "<h4 style='text-align:center'> ~ <b>Luca Ferretti; Chris Wymant; Michelle Kendall; Lele Zhao; Anel Nurtay; David G Bonsall; Christophe Fraser</b></h4>"
      ],
      "text/plain": [
       "<IPython.core.display.HTML object>"
      ]
     },
     "metadata": {},
     "output_type": "display_data"
    },
    {
     "data": {
      "text/html": [
       "<blockquote> Asymptomatic transmission: direct transmission from individuals who never experience noticeable symptoms</blockquote>"
      ],
      "text/plain": [
       "<IPython.core.display.HTML object>"
      ]
     },
     "metadata": {},
     "output_type": "display_data"
    },
    {
     "data": {
      "text/html": [
       "<p style='text-align:center'> *** </p>"
      ],
      "text/plain": [
       "<IPython.core.display.HTML object>"
      ]
     },
     "metadata": {},
     "output_type": "display_data"
    },
    {
     "data": {
      "text/html": [
       "<h4 style='text-align:center'>07-06-2019</h4>"
      ],
      "text/plain": [
       "<IPython.core.display.HTML object>"
      ]
     },
     "metadata": {},
     "output_type": "display_data"
    },
    {
     "data": {
      "text/html": [
       "<h3 style='text-align:center'> <a href='https://doi.org/10.1016/j.jtbi.2019.03.004'> INCREASED INFECTION SEVERITY IN DOWNSTREAM CITIES IN INFECTIOUS DISEASE TRANSMISSION AND TOURISTS SURVEILLANCE ANALYSIS</a></h2>"
      ],
      "text/plain": [
       "<IPython.core.display.HTML object>"
      ]
     },
     "metadata": {},
     "output_type": "display_data"
    },
    {
     "data": {
      "text/html": [
       "<h4 style='text-align:center'> ~ <b>Zhang, Nan; Zhao, Pengcheng; Li, Yuguo</b></h4>"
      ],
      "text/plain": [
       "<IPython.core.display.HTML object>"
      ]
     },
     "metadata": {},
     "output_type": "display_data"
    },
    {
     "data": {
      "text/html": [
       "<blockquote>Human mobility surveillance between cities influences infectious disease transmission ( Fig</blockquote>"
      ],
      "text/plain": [
       "<IPython.core.display.HTML object>"
      ]
     },
     "metadata": {},
     "output_type": "display_data"
    },
    {
     "data": {
      "text/html": [
       "<p style='text-align:center'> *** </p>"
      ],
      "text/plain": [
       "<IPython.core.display.HTML object>"
      ]
     },
     "metadata": {},
     "output_type": "display_data"
    },
    {
     "data": {
      "text/html": [
       "<h4 style='text-align:center'>09-06-2016</h4>"
      ],
      "text/plain": [
       "<IPython.core.display.HTML object>"
      ]
     },
     "metadata": {},
     "output_type": "display_data"
    },
    {
     "data": {
      "text/html": [
       "<h3 style='text-align:center'> <a href='https://www.ncbi.nlm.nih.gov/pmc/articles/PMC4899695/'> HOST GENETICS DETERMINE SUSCEPTIBILITY TO AVIAN INFLUENZA INFECTION AND TRANSMISSION DYNAMICS</a></h2>"
      ],
      "text/plain": [
       "<IPython.core.display.HTML object>"
      ]
     },
     "metadata": {},
     "output_type": "display_data"
    },
    {
     "data": {
      "text/html": [
       "<h4 style='text-align:center'> ~ <b>Ruiz-Hernandez, Raul; Mwangi, William; Peroval, Marylene; Sadeyen, Jean-Remy; Ascough, Stephanie; Balkissoon, Devanand; Staines, Karen; Boyd, Amy; McCauley, John; Smith, Adrian; Butter, Colin</b></h4>"
      ],
      "text/plain": [
       "<IPython.core.display.HTML object>"
      ]
     },
     "metadata": {},
     "output_type": "display_data"
    },
    {
     "data": {
      "text/html": [
       "<blockquote> H7N7-infected birds showed the characteristic pattern of viral shedding, transmission of infection and serological responses previously described (Fig</blockquote>"
      ],
      "text/plain": [
       "<IPython.core.display.HTML object>"
      ]
     },
     "metadata": {},
     "output_type": "display_data"
    },
    {
     "data": {
      "text/html": [
       "<p style='text-align:center'> *** </p>"
      ],
      "text/plain": [
       "<IPython.core.display.HTML object>"
      ]
     },
     "metadata": {},
     "output_type": "display_data"
    },
    {
     "data": {
      "text/html": [
       "<h4 style='text-align:center'>20-05-2015</h4>"
      ],
      "text/plain": [
       "<IPython.core.display.HTML object>"
      ]
     },
     "metadata": {},
     "output_type": "display_data"
    },
    {
     "data": {
      "text/html": [
       "<h3 style='text-align:center'> <a href='https://www.ncbi.nlm.nih.gov/pmc/articles/PMC4438980/'> WIDESPREAD RECOMBINATION, REASSORTMENT, AND TRANSMISSION OF UNBALANCED COMPOUND VIRAL GENOTYPES IN NATURAL ARENAVIRUS INFECTIONS</a></h2>"
      ],
      "text/plain": [
       "<IPython.core.display.HTML object>"
      ]
     },
     "metadata": {},
     "output_type": "display_data"
    },
    {
     "data": {
      "text/html": [
       "<h4 style='text-align:center'> ~ <b>Stenglein, Mark D.; Jacobson, Elliott R.; Chang, Li-Wen; Sanders, Chris; Hawkins, Michelle G.; Guzman, David S-M.; Drazenovich, Tracy; Dunker, Freeland; Kamaka, Elizabeth K.; Fisher, Debbie; Reavill, Drury R.; Meola, Linda F.; Levens, Gregory; DeRisi, Joseph L.</b></h4>"
      ],
      "text/plain": [
       "<IPython.core.display.HTML object>"
      ]
     },
     "metadata": {},
     "output_type": "display_data"
    },
    {
     "data": {
      "text/html": [
       "<blockquote> Severe disease such as Lassa hemorrhagic fever can result from these zoonotic infections</blockquote>"
      ],
      "text/plain": [
       "<IPython.core.display.HTML object>"
      ]
     },
     "metadata": {},
     "output_type": "display_data"
    },
    {
     "data": {
      "text/html": [
       "<p style='text-align:center'> *** </p>"
      ],
      "text/plain": [
       "<IPython.core.display.HTML object>"
      ]
     },
     "metadata": {},
     "output_type": "display_data"
    },
    {
     "data": {
      "text/html": [
       "<h4 style='text-align:center'>23-10-2014</h4>"
      ],
      "text/plain": [
       "<IPython.core.display.HTML object>"
      ]
     },
     "metadata": {},
     "output_type": "display_data"
    },
    {
     "data": {
      "text/html": [
       "<h3 style='text-align:center'> <a href='https://www.ncbi.nlm.nih.gov/pmc/articles/PMC4207809/'> CONTACT HETEROGENEITY, RATHER THAN TRANSMISSION EFFICIENCY, LIMITS THE EMERGENCE AND SPREAD OF CANINE INFLUENZA VIRUS</a></h2>"
      ],
      "text/plain": [
       "<IPython.core.display.HTML object>"
      ]
     },
     "metadata": {},
     "output_type": "display_data"
    },
    {
     "data": {
      "text/html": [
       "<h4 style='text-align:center'> ~ <b>Dalziel, Benjamin D.; Huang, Kai; Geoghegan, Jemma L.; Arinaminpathy, Nimalan; Dubovi, Edward J.; Grenfell, Bryan T.; Ellner, Stephen P.; Holmes, Edward C.; Parrish, Colin R.</b></h4>"
      ],
      "text/plain": [
       "<IPython.core.display.HTML object>"
      ]
     },
     "metadata": {},
     "output_type": "display_data"
    },
    {
     "data": {
      "text/html": [
       "<blockquote>By reducing viral load and viral shedding, vaccination reduces the risk of infection in vaccinated dogs and reduces the infectiousness of a dog who becomes infected despite vaccination</blockquote>"
      ],
      "text/plain": [
       "<IPython.core.display.HTML object>"
      ]
     },
     "metadata": {},
     "output_type": "display_data"
    },
    {
     "data": {
      "text/html": [
       "<p style='text-align:center'> *** </p>"
      ],
      "text/plain": [
       "<IPython.core.display.HTML object>"
      ]
     },
     "metadata": {},
     "output_type": "display_data"
    },
    {
     "data": {
      "text/html": [
       "<h4 style='text-align:center'>24-07-2013</h4>"
      ],
      "text/plain": [
       "<IPython.core.display.HTML object>"
      ]
     },
     "metadata": {},
     "output_type": "display_data"
    },
    {
     "data": {
      "text/html": [
       "<h3 style='text-align:center'> <a href='https://www.ncbi.nlm.nih.gov/pmc/articles/PMC7086932/'> SEASONALITY AND PREVALENCE OF RESPIRATORY PATHOGENS DETECTED BY MULTIPLEX PCR AT A TERTIARY CARE MEDICAL CENTER</a></h2>"
      ],
      "text/plain": [
       "<IPython.core.display.HTML object>"
      ]
     },
     "metadata": {},
     "output_type": "display_data"
    },
    {
     "data": {
      "text/html": [
       "<h4 style='text-align:center'> ~ <b>Litwin, Christine M.; Bosley, James G.</b></h4>"
      ],
      "text/plain": [
       "<IPython.core.display.HTML object>"
      ]
     },
     "metadata": {},
     "output_type": "display_data"
    },
    {
     "data": {
      "text/html": [
       "<blockquote>Multiplex respiratory PCR has been used in some cases to reduce nosocomial infections during specific seasonal respiratory epidemics</blockquote>"
      ],
      "text/plain": [
       "<IPython.core.display.HTML object>"
      ]
     },
     "metadata": {},
     "output_type": "display_data"
    },
    {
     "data": {
      "text/html": [
       "<p style='text-align:center'> *** </p>"
      ],
      "text/plain": [
       "<IPython.core.display.HTML object>"
      ]
     },
     "metadata": {},
     "output_type": "display_data"
    },
    {
     "data": {
      "text/html": [
       "<h4 style='text-align:center'>20-12-2011</h4>"
      ],
      "text/plain": [
       "<IPython.core.display.HTML object>"
      ]
     },
     "metadata": {},
     "output_type": "display_data"
    },
    {
     "data": {
      "text/html": [
       "<h3 style='text-align:center'> <a href='https://www.ncbi.nlm.nih.gov/pmc/articles/PMC3258204/'> VACCINATION OF INFLUENZA A VIRUS DECREASES TRANSMISSION RATES IN PIGS</a></h2>"
      ],
      "text/plain": [
       "<IPython.core.display.HTML object>"
      ]
     },
     "metadata": {},
     "output_type": "display_data"
    },
    {
     "data": {
      "text/html": [
       "<h4 style='text-align:center'> ~ <b>Romagosa, Anna; Allerson, Matt; Gramer, Marie; Joo, Han Soo; Deen, John; Detmer, Susan; Torremorell, Montserrat</b></h4>"
      ],
      "text/plain": [
       "<IPython.core.display.HTML object>"
      ]
     },
     "metadata": {},
     "output_type": "display_data"
    },
    {
     "data": {
      "text/html": [
       "<blockquote>The lung lesions of the heterologous vaccine treatment pigs were highly variable ranging from absent to severe\n",
       " The lung lesions of the homologous vaccine treatment pigs were absent to minimal\n",
       " Subclinical infections with virus shedding can occur in vaccinated animals, particularly when there is a mismatch between the vaccine and field virus strains [12, 53] </blockquote>"
      ],
      "text/plain": [
       "<IPython.core.display.HTML object>"
      ]
     },
     "metadata": {},
     "output_type": "display_data"
    },
    {
     "data": {
      "text/html": [
       "<p style='text-align:center'> *** </p>"
      ],
      "text/plain": [
       "<IPython.core.display.HTML object>"
      ]
     },
     "metadata": {},
     "output_type": "display_data"
    },
    {
     "data": {
      "text/html": [
       "<h2>3. Seasonality of transmission. </h2>"
      ],
      "text/plain": [
       "<IPython.core.display.HTML object>"
      ]
     },
     "metadata": {},
     "output_type": "display_data"
    },
    {
     "data": {
      "text/html": [
       "<h4 style='text-align:center'>12-10-2019</h4>"
      ],
      "text/plain": [
       "<IPython.core.display.HTML object>"
      ]
     },
     "metadata": {},
     "output_type": "display_data"
    },
    {
     "data": {
      "text/html": [
       "<h3 style='text-align:center'> <a href='https://www.ncbi.nlm.nih.gov/pmc/articles/PMC6832307/'> NOSOCOMIAL TRANSMISSION OF EMERGING VIRUSES VIA AEROSOL-GENERATING MEDICAL PROCEDURES</a></h2>"
      ],
      "text/plain": [
       "<IPython.core.display.HTML object>"
      ]
     },
     "metadata": {},
     "output_type": "display_data"
    },
    {
     "data": {
      "text/html": [
       "<h4 style='text-align:center'> ~ <b>Judson, Seth D.; Munster, Vincent J.</b></h4>"
      ],
      "text/plain": [
       "<IPython.core.display.HTML object>"
      ]
     },
     "metadata": {},
     "output_type": "display_data"
    },
    {
     "data": {
      "text/html": [
       "<blockquote> Understanding the characteristics of the aerosol transmission of different influenza A viruses and subtypes could help us determine the risk of influenza A viruses for nosocomial transmission due to AGMPs</blockquote>"
      ],
      "text/plain": [
       "<IPython.core.display.HTML object>"
      ]
     },
     "metadata": {},
     "output_type": "display_data"
    },
    {
     "data": {
      "text/html": [
       "<p style='text-align:center'> *** </p>"
      ],
      "text/plain": [
       "<IPython.core.display.HTML object>"
      ]
     },
     "metadata": {},
     "output_type": "display_data"
    },
    {
     "data": {
      "text/html": [
       "<h4 style='text-align:center'>13-05-2015</h4>"
      ],
      "text/plain": [
       "<IPython.core.display.HTML object>"
      ]
     },
     "metadata": {},
     "output_type": "display_data"
    },
    {
     "data": {
      "text/html": [
       "<h3 style='text-align:center'> <a href='https://www.ncbi.nlm.nih.gov/pmc/articles/PMC4430532/'> ENVIRONMENTAL CONDITIONS AFFECT EXHALATION OF H3N2 SEASONAL AND VARIANT INFLUENZA VIRUSES AND RESPIRATORY DROPLET TRANSMISSION IN FERRETS</a></h2>"
      ],
      "text/plain": [
       "<IPython.core.display.HTML object>"
      ]
     },
     "metadata": {},
     "output_type": "display_data"
    },
    {
     "data": {
      "text/html": [
       "<h4 style='text-align:center'> ~ <b>Gustin, Kortney M.; Belser, Jessica A.; Veguilla, Vic; Zeng, Hui; Katz, Jacqueline M.; Tumpey, Terrence M.; Maines, Taronna R.</b></h4>"
      ],
      "text/plain": [
       "<IPython.core.display.HTML object>"
      ]
     },
     "metadata": {},
     "output_type": "display_data"
    },
    {
     "data": {
      "text/html": [
       "<blockquote> Climatic conditions in tropical regions of the world represent a different set of parameters affecting transmission, and furthermore, routes of transmission not involving airborne virus (e</blockquote>"
      ],
      "text/plain": [
       "<IPython.core.display.HTML object>"
      ]
     },
     "metadata": {},
     "output_type": "display_data"
    },
    {
     "data": {
      "text/html": [
       "<p style='text-align:center'> *** </p>"
      ],
      "text/plain": [
       "<IPython.core.display.HTML object>"
      ]
     },
     "metadata": {},
     "output_type": "display_data"
    },
    {
     "data": {
      "text/html": [
       "<h4 style='text-align:center'>30-04-2014</h4>"
      ],
      "text/plain": [
       "<IPython.core.display.HTML object>"
      ]
     },
     "metadata": {},
     "output_type": "display_data"
    },
    {
     "data": {
      "text/html": [
       "<h3 style='text-align:center'> <a href='https://doi.org/10.1016/j.jhin.2014.01.010'> SPATIAL AND TEMPORAL ANALYSES TO INVESTIGATE INFECTIOUS DISEASE TRANSMISSION WITHIN HEALTHCARE SETTINGS</a></h2>"
      ],
      "text/plain": [
       "<IPython.core.display.HTML object>"
      ]
     },
     "metadata": {},
     "output_type": "display_data"
    },
    {
     "data": {
      "text/html": [
       "<h4 style='text-align:center'> ~ <b>Davis, G.S.; Sevdalis, N.; Drumright, L.N.</b></h4>"
      ],
      "text/plain": [
       "<IPython.core.display.HTML object>"
      ]
     },
     "metadata": {},
     "output_type": "display_data"
    },
    {
     "data": {
      "text/html": [
       "<blockquote> Analysis is key to furthering understanding of the epidemiology and dynamics of transmission of these organisms</blockquote>"
      ],
      "text/plain": [
       "<IPython.core.display.HTML object>"
      ]
     },
     "metadata": {},
     "output_type": "display_data"
    },
    {
     "data": {
      "text/html": [
       "<p style='text-align:center'> *** </p>"
      ],
      "text/plain": [
       "<IPython.core.display.HTML object>"
      ]
     },
     "metadata": {},
     "output_type": "display_data"
    },
    {
     "data": {
      "text/html": [
       "<h4 style='text-align:center'>20-12-2011</h4>"
      ],
      "text/plain": [
       "<IPython.core.display.HTML object>"
      ]
     },
     "metadata": {},
     "output_type": "display_data"
    },
    {
     "data": {
      "text/html": [
       "<h3 style='text-align:center'> <a href='https://www.ncbi.nlm.nih.gov/pmc/articles/PMC3258204/'> VACCINATION OF INFLUENZA A VIRUS DECREASES TRANSMISSION RATES IN PIGS</a></h2>"
      ],
      "text/plain": [
       "<IPython.core.display.HTML object>"
      ]
     },
     "metadata": {},
     "output_type": "display_data"
    },
    {
     "data": {
      "text/html": [
       "<h4 style='text-align:center'> ~ <b>Romagosa, Anna; Allerson, Matt; Gramer, Marie; Joo, Han Soo; Deen, John; Detmer, Susan; Torremorell, Montserrat</b></h4>"
      ],
      "text/plain": [
       "<IPython.core.display.HTML object>"
      ]
     },
     "metadata": {},
     "output_type": "display_data"
    },
    {
     "data": {
      "text/html": [
       "<blockquote>Understanding transmission of influenza and the factors that affect transmission is crucial for designing effective control strategies</blockquote>"
      ],
      "text/plain": [
       "<IPython.core.display.HTML object>"
      ]
     },
     "metadata": {},
     "output_type": "display_data"
    },
    {
     "data": {
      "text/html": [
       "<p style='text-align:center'> *** </p>"
      ],
      "text/plain": [
       "<IPython.core.display.HTML object>"
      ]
     },
     "metadata": {},
     "output_type": "display_data"
    },
    {
     "data": {
      "text/html": [
       "<h4 style='text-align:center'>27-01-2009</h4>"
      ],
      "text/plain": [
       "<IPython.core.display.HTML object>"
      ]
     },
     "metadata": {},
     "output_type": "display_data"
    },
    {
     "data": {
      "text/html": [
       "<h3 style='text-align:center'> <a href='https://www.ncbi.nlm.nih.gov/pmc/articles/PMC2660689/'> ENHANCED HYGIENE MEASURES AND NOROVIRUS TRANSMISSION DURING AN OUTBREAK</a></h2>"
      ],
      "text/plain": [
       "<IPython.core.display.HTML object>"
      ]
     },
     "metadata": {},
     "output_type": "display_data"
    },
    {
     "data": {
      "text/html": [
       "<h4 style='text-align:center'> ~ <b>Heijne, Janneke C.M.; Teunis, Peter; Morroy, Gabriella; Wijkmans, Clementine; Oostveen, Sandy; Duizer, Erwin; Kretzschmar, Mirjam; Wallinga, Jacco</b></h4>"
      ],
      "text/plain": [
       "<IPython.core.display.HTML object>"
      ]
     },
     "metadata": {},
     "output_type": "display_data"
    },
    {
     "data": {
      "text/html": [
       "<blockquote> No quantitative estimates exist of the results of such enhanced hygiene measures on reducing further transmission of norovirus</blockquote>"
      ],
      "text/plain": [
       "<IPython.core.display.HTML object>"
      ]
     },
     "metadata": {},
     "output_type": "display_data"
    },
    {
     "data": {
      "text/html": [
       "<p style='text-align:center'> *** </p>"
      ],
      "text/plain": [
       "<IPython.core.display.HTML object>"
      ]
     },
     "metadata": {},
     "output_type": "display_data"
    },
    {
     "data": {
      "text/html": [
       "<h4 style='text-align:center'>31-03-2008</h4>"
      ],
      "text/plain": [
       "<IPython.core.display.HTML object>"
      ]
     },
     "metadata": {},
     "output_type": "display_data"
    },
    {
     "data": {
      "text/html": [
       "<h3 style='text-align:center'> <a href='https://doi.org/10.1016/j.plrev.2007.12.001'> QUANTIFYING THE TRANSMISSION POTENTIAL OF PANDEMIC INFLUENZA</a></h2>"
      ],
      "text/plain": [
       "<IPython.core.display.HTML object>"
      ]
     },
     "metadata": {},
     "output_type": "display_data"
    },
    {
     "data": {
      "text/html": [
       "<h4 style='text-align:center'> ~ <b>Chowell, Gerardo; Nishiura, Hiroshi</b></h4>"
      ],
      "text/plain": [
       "<IPython.core.display.HTML object>"
      ]
     },
     "metadata": {},
     "output_type": "display_data"
    },
    {
     "data": {
      "text/html": [
       "<blockquote>One line of addressing heterogeneous patterns of transmission using the observed data is separating household transmission from community transmission\n",
       " In future studies, influenza models may better to highlight the increasing importance of considering household transmission to estimate the transmission potential using the temporal distribution of infection events</blockquote>"
      ],
      "text/plain": [
       "<IPython.core.display.HTML object>"
      ]
     },
     "metadata": {},
     "output_type": "display_data"
    },
    {
     "data": {
      "text/html": [
       "<p style='text-align:center'> *** </p>"
      ],
      "text/plain": [
       "<IPython.core.display.HTML object>"
      ]
     },
     "metadata": {},
     "output_type": "display_data"
    },
    {
     "data": {
      "text/html": [
       "<h2>4. Physical science of the coronavirus (e.g., charge distribution, adhesion to hydrophilic/phobic surfaces, environmental survival to inform decontamination efforts for affected areas and provide information about viral shedding). </h2>"
      ],
      "text/plain": [
       "<IPython.core.display.HTML object>"
      ]
     },
     "metadata": {},
     "output_type": "display_data"
    },
    {
     "data": {
      "text/html": [
       "<h4 style='text-align:center'>26-11-2019</h4>"
      ],
      "text/plain": [
       "<IPython.core.display.HTML object>"
      ]
     },
     "metadata": {},
     "output_type": "display_data"
    },
    {
     "data": {
      "text/html": [
       "<h3 style='text-align:center'> <a href='https://www.ncbi.nlm.nih.gov/pmc/articles/PMC6879112/'> TISSUE TROPISM AND TRANSMISSION ECOLOGY PREDICT VIRULENCE OF HUMAN RNA VIRUSES</a></h2>"
      ],
      "text/plain": [
       "<IPython.core.display.HTML object>"
      ]
     },
     "metadata": {},
     "output_type": "display_data"
    },
    {
     "data": {
      "text/html": [
       "<h4 style='text-align:center'> ~ <b>Brierley, Liam; Pedersen, Amy B.; Woolhouse, Mark E. J.</b></h4>"
      ],
      "text/plain": [
       "<IPython.core.display.HTML object>"
      ]
     },
     "metadata": {},
     "output_type": "display_data"
    },
    {
     "data": {
      "text/html": [
       "<blockquote> The virulence risk factors we identify suggest that broadly targeting direct contact or respiratory transmission interfaces within ecological systems and/or tailoring detection assays towards certain virus families (e</blockquote>"
      ],
      "text/plain": [
       "<IPython.core.display.HTML object>"
      ]
     },
     "metadata": {},
     "output_type": "display_data"
    },
    {
     "data": {
      "text/html": [
       "<p style='text-align:center'> *** </p>"
      ],
      "text/plain": [
       "<IPython.core.display.HTML object>"
      ]
     },
     "metadata": {},
     "output_type": "display_data"
    },
    {
     "data": {
      "text/html": [
       "<h4 style='text-align:center'>12-10-2019</h4>"
      ],
      "text/plain": [
       "<IPython.core.display.HTML object>"
      ]
     },
     "metadata": {},
     "output_type": "display_data"
    },
    {
     "data": {
      "text/html": [
       "<h3 style='text-align:center'> <a href='https://www.ncbi.nlm.nih.gov/pmc/articles/PMC6832307/'> NOSOCOMIAL TRANSMISSION OF EMERGING VIRUSES VIA AEROSOL-GENERATING MEDICAL PROCEDURES</a></h2>"
      ],
      "text/plain": [
       "<IPython.core.display.HTML object>"
      ]
     },
     "metadata": {},
     "output_type": "display_data"
    },
    {
     "data": {
      "text/html": [
       "<h4 style='text-align:center'> ~ <b>Judson, Seth D.; Munster, Vincent J.</b></h4>"
      ],
      "text/plain": [
       "<IPython.core.display.HTML object>"
      ]
     },
     "metadata": {},
     "output_type": "display_data"
    },
    {
     "data": {
      "text/html": [
       "<blockquote> Determining the quantity of viable virus expelled from certain patients during AGMPs could help determine phenomena like super-spreading events, while understanding aerosol characteristics such as particle size could elucidate mechanisms of transmission</blockquote>"
      ],
      "text/plain": [
       "<IPython.core.display.HTML object>"
      ]
     },
     "metadata": {},
     "output_type": "display_data"
    },
    {
     "data": {
      "text/html": [
       "<p style='text-align:center'> *** </p>"
      ],
      "text/plain": [
       "<IPython.core.display.HTML object>"
      ]
     },
     "metadata": {},
     "output_type": "display_data"
    },
    {
     "data": {
      "text/html": [
       "<h4 style='text-align:center'>31-07-2019</h4>"
      ],
      "text/plain": [
       "<IPython.core.display.HTML object>"
      ]
     },
     "metadata": {},
     "output_type": "display_data"
    },
    {
     "data": {
      "text/html": [
       "<h3 style='text-align:center'> <a href='https://www.ncbi.nlm.nih.gov/pmc/articles/PMC6668090/'> NATURALLY OCCURRING MUTATIONS IN PB1 AFFECT INFLUENZA A VIRUS REPLICATION FIDELITY, VIRULENCE, AND ADAPTABILITY</a></h2>"
      ],
      "text/plain": [
       "<IPython.core.display.HTML object>"
      ]
     },
     "metadata": {},
     "output_type": "display_data"
    },
    {
     "data": {
      "text/html": [
       "<h4 style='text-align:center'> ~ <b>Lin, Ruey-Wen; Chen, Guang-Wu; Sung, Hsiang-Hsuan; Lin, Ren-Jye; Yen, Li-Chen; Tseng, Yu-Ling; Chang, Yung-Kun; Lien, Shu-Pei; Shih, Shin-Ru; Liao, Ching-Len</b></h4>"
      ],
      "text/plain": [
       "<IPython.core.display.HTML object>"
      ]
     },
     "metadata": {},
     "output_type": "display_data"
    },
    {
     "data": {
      "text/html": [
       "<blockquote> Mutant clouds provide dynamic repositories of variants permitting certain viruses to undergo adaptation to selective pressures, including species barriers, host immune responses, and antiviral agents</blockquote>"
      ],
      "text/plain": [
       "<IPython.core.display.HTML object>"
      ]
     },
     "metadata": {},
     "output_type": "display_data"
    },
    {
     "data": {
      "text/html": [
       "<p style='text-align:center'> *** </p>"
      ],
      "text/plain": [
       "<IPython.core.display.HTML object>"
      ]
     },
     "metadata": {},
     "output_type": "display_data"
    },
    {
     "data": {
      "text/html": [
       "<h4 style='text-align:center'>13-02-2018</h4>"
      ],
      "text/plain": [
       "<IPython.core.display.HTML object>"
      ]
     },
     "metadata": {},
     "output_type": "display_data"
    },
    {
     "data": {
      "text/html": [
       "<h3 style='text-align:center'> <a href='https://www.ncbi.nlm.nih.gov/pmc/articles/PMC5876564/'> STABILITY OF PORCINE EPIDEMIC DIARRHEA VIRUS ON FOMITE MATERIALS AT DIFFERENT TEMPERATURES</a></h2>"
      ],
      "text/plain": [
       "<IPython.core.display.HTML object>"
      ]
     },
     "metadata": {},
     "output_type": "display_data"
    },
    {
     "data": {
      "text/html": [
       "<h4 style='text-align:center'> ~ <b>Kim, Yonghyan; Krishna, Venkatramana D.; Torremorell, Montserrat; Goyal, Sagar M.; Cheeran, Maxim C.-J.</b></h4>"
      ],
      "text/plain": [
       "<IPython.core.display.HTML object>"
      ]
     },
     "metadata": {},
     "output_type": "display_data"
    },
    {
     "data": {
      "text/html": [
       "<blockquote> In addition to storage temperature, porosity of fomite may also influence virus survival and hence virus transmission</blockquote>"
      ],
      "text/plain": [
       "<IPython.core.display.HTML object>"
      ]
     },
     "metadata": {},
     "output_type": "display_data"
    },
    {
     "data": {
      "text/html": [
       "<p style='text-align:center'> *** </p>"
      ],
      "text/plain": [
       "<IPython.core.display.HTML object>"
      ]
     },
     "metadata": {},
     "output_type": "display_data"
    },
    {
     "data": {
      "text/html": [
       "<h4 style='text-align:center'>01-07-2015</h4>"
      ],
      "text/plain": [
       "<IPython.core.display.HTML object>"
      ]
     },
     "metadata": {},
     "output_type": "display_data"
    },
    {
     "data": {
      "text/html": [
       "<h3 style='text-align:center'> <a href='http://europepmc.org/articles/pmc4507309?pdf=render'> TARGETING TRANSMISSION PATHWAYS FOR EMERGING ZOONOTIC DISEASE SURVEILLANCE AND CONTROL</a></h2>"
      ],
      "text/plain": [
       "<IPython.core.display.HTML object>"
      ]
     },
     "metadata": {},
     "output_type": "display_data"
    },
    {
     "data": {
      "text/html": [
       "<h4 style='text-align:center'> ~ <b>Loh, Elizabeth H.; Zambrana-Torrelio, Carlos; Olival, Kevin J.; Bogich, Tiffany L.; Johnson, Christine K.; Mazet, Jonna A. K.; Karesh, William; Daszak, Peter</b></h4>"
      ],
      "text/plain": [
       "<IPython.core.display.HTML object>"
      ]
     },
     "metadata": {},
     "output_type": "display_data"
    },
    {
     "data": {
      "text/html": [
       "<blockquote> Public health efforts could develop control strategies that focus on behavioral change in high-risk populations to minimize exposure to potential reservoirs and target relevant transmission pathways (e</blockquote>"
      ],
      "text/plain": [
       "<IPython.core.display.HTML object>"
      ]
     },
     "metadata": {},
     "output_type": "display_data"
    },
    {
     "data": {
      "text/html": [
       "<p style='text-align:center'> *** </p>"
      ],
      "text/plain": [
       "<IPython.core.display.HTML object>"
      ]
     },
     "metadata": {},
     "output_type": "display_data"
    },
    {
     "data": {
      "text/html": [
       "<h4 style='text-align:center'>13-05-2015</h4>"
      ],
      "text/plain": [
       "<IPython.core.display.HTML object>"
      ]
     },
     "metadata": {},
     "output_type": "display_data"
    },
    {
     "data": {
      "text/html": [
       "<h3 style='text-align:center'> <a href='https://www.ncbi.nlm.nih.gov/pmc/articles/PMC4430532/'> ENVIRONMENTAL CONDITIONS AFFECT EXHALATION OF H3N2 SEASONAL AND VARIANT INFLUENZA VIRUSES AND RESPIRATORY DROPLET TRANSMISSION IN FERRETS</a></h2>"
      ],
      "text/plain": [
       "<IPython.core.display.HTML object>"
      ]
     },
     "metadata": {},
     "output_type": "display_data"
    },
    {
     "data": {
      "text/html": [
       "<h4 style='text-align:center'> ~ <b>Gustin, Kortney M.; Belser, Jessica A.; Veguilla, Vic; Zeng, Hui; Katz, Jacqueline M.; Tumpey, Terrence M.; Maines, Taronna R.</b></h4>"
      ],
      "text/plain": [
       "<IPython.core.display.HTML object>"
      ]
     },
     "metadata": {},
     "output_type": "display_data"
    },
    {
     "data": {
      "text/html": [
       "<blockquote> Here, we Environmental Conditions Affect Influenza Transmission in Ferrets evaluated the transmissibility of two H3N2 influenza viruses (PN99 and IN11) using ferrets housed under diverse environmental conditions and concurrently evaluated the aerosol shedding profiles of infected animals</blockquote>"
      ],
      "text/plain": [
       "<IPython.core.display.HTML object>"
      ]
     },
     "metadata": {},
     "output_type": "display_data"
    },
    {
     "data": {
      "text/html": [
       "<p style='text-align:center'> *** </p>"
      ],
      "text/plain": [
       "<IPython.core.display.HTML object>"
      ]
     },
     "metadata": {},
     "output_type": "display_data"
    },
    {
     "data": {
      "text/html": [
       "<h4 style='text-align:center'>31-12-2013</h4>"
      ],
      "text/plain": [
       "<IPython.core.display.HTML object>"
      ]
     },
     "metadata": {},
     "output_type": "display_data"
    },
    {
     "data": {
      "text/html": [
       "<h3 style='text-align:center'> <a href='https://doi.org/10.1016/j.buildenv.2013.08.025'> HVAC FILTRATION FOR CONTROLLING INFECTIOUS AIRBORNE DISEASE TRANSMISSION IN INDOOR ENVIRONMENTS: PREDICTING RISK REDUCTIONS AND OPERATIONAL COSTS</a></h2>"
      ],
      "text/plain": [
       "<IPython.core.display.HTML object>"
      ]
     },
     "metadata": {},
     "output_type": "display_data"
    },
    {
     "data": {
      "text/html": [
       "<h4 style='text-align:center'> ~ <b>Azimi, Parham; Stephens, Brent</b></h4>"
      ],
      "text/plain": [
       "<IPython.core.display.HTML object>"
      ]
     },
     "metadata": {},
     "output_type": "display_data"
    },
    {
     "data": {
      "text/html": [
       "<blockquote>From a mass balance perspective, HVAC filtration and other removal mechanisms are treated similarly to outdoor air ventilation because they both can be used to reduce indoor concentrations of airborne infectious particles</blockquote>"
      ],
      "text/plain": [
       "<IPython.core.display.HTML object>"
      ]
     },
     "metadata": {},
     "output_type": "display_data"
    },
    {
     "data": {
      "text/html": [
       "<p style='text-align:center'> *** </p>"
      ],
      "text/plain": [
       "<IPython.core.display.HTML object>"
      ]
     },
     "metadata": {},
     "output_type": "display_data"
    },
    {
     "data": {
      "text/html": [
       "<h2>5. Persistence and stability on a multitude of substrates and sources (e.g., nasal discharge, sputum, urine, fecal matter, blood). </h2>"
      ],
      "text/plain": [
       "<IPython.core.display.HTML object>"
      ]
     },
     "metadata": {},
     "output_type": "display_data"
    },
    {
     "data": {
      "text/html": [
       "<h4 style='text-align:center'>17-01-2019</h4>"
      ],
      "text/plain": [
       "<IPython.core.display.HTML object>"
      ]
     },
     "metadata": {},
     "output_type": "display_data"
    },
    {
     "data": {
      "text/html": [
       "<h3 style='text-align:center'> <a href='https://www.ncbi.nlm.nih.gov/pmc/articles/PMC6340026/'> CHIKUNGUNYA VIRUS FIDELITY VARIANTS EXHIBIT DIFFERENTIAL ATTENUATION AND POPULATION DIVERSITY IN CELL CULTURE AND ADULT MICE</a></h2>"
      ],
      "text/plain": [
       "<IPython.core.display.HTML object>"
      ]
     },
     "metadata": {},
     "output_type": "display_data"
    },
    {
     "data": {
      "text/html": [
       "<h4 style='text-align:center'> ~ <b>Riemersma, Kasen K.; Steiner, Cody; Singapuri, Anil; Coffey, Lark L.</b></h4>"
      ],
      "text/plain": [
       "<IPython.core.display.HTML object>"
      ]
     },
     "metadata": {},
     "output_type": "display_data"
    },
    {
     "data": {
      "text/html": [
       "<blockquote>Fidelity mutant CHIKV impair serum neutralization of less diverse WT CHIKV in vitro\n",
       " Infectious CHIKV titers and CHIKV RNA levels in primary target tissues, muscle and ankle, and secondary tissues, brain and liver, were measured to determine whether clinical disease severity was associated with differential viral loads</blockquote>"
      ],
      "text/plain": [
       "<IPython.core.display.HTML object>"
      ]
     },
     "metadata": {},
     "output_type": "display_data"
    },
    {
     "data": {
      "text/html": [
       "<p style='text-align:center'> *** </p>"
      ],
      "text/plain": [
       "<IPython.core.display.HTML object>"
      ]
     },
     "metadata": {},
     "output_type": "display_data"
    },
    {
     "data": {
      "text/html": [
       "<h4 style='text-align:center'>13-02-2018</h4>"
      ],
      "text/plain": [
       "<IPython.core.display.HTML object>"
      ]
     },
     "metadata": {},
     "output_type": "display_data"
    },
    {
     "data": {
      "text/html": [
       "<h3 style='text-align:center'> <a href='https://www.ncbi.nlm.nih.gov/pmc/articles/PMC5876564/'> STABILITY OF PORCINE EPIDEMIC DIARRHEA VIRUS ON FOMITE MATERIALS AT DIFFERENT TEMPERATURES</a></h2>"
      ],
      "text/plain": [
       "<IPython.core.display.HTML object>"
      ]
     },
     "metadata": {},
     "output_type": "display_data"
    },
    {
     "data": {
      "text/html": [
       "<h4 style='text-align:center'> ~ <b>Kim, Yonghyan; Krishna, Venkatramana D.; Torremorell, Montserrat; Goyal, Sagar M.; Cheeran, Maxim C.-J.</b></h4>"
      ],
      "text/plain": [
       "<IPython.core.display.HTML object>"
      ]
     },
     "metadata": {},
     "output_type": "display_data"
    },
    {
     "data": {
      "text/html": [
       "<blockquote> In fact, eluates from fecal samples induced remarkable cell toxicity, making the infectious virus assays difficult to interpret</blockquote>"
      ],
      "text/plain": [
       "<IPython.core.display.HTML object>"
      ]
     },
     "metadata": {},
     "output_type": "display_data"
    },
    {
     "data": {
      "text/html": [
       "<p style='text-align:center'> *** </p>"
      ],
      "text/plain": [
       "<IPython.core.display.HTML object>"
      ]
     },
     "metadata": {},
     "output_type": "display_data"
    },
    {
     "data": {
      "text/html": [
       "<h4 style='text-align:center'>09-06-2016</h4>"
      ],
      "text/plain": [
       "<IPython.core.display.HTML object>"
      ]
     },
     "metadata": {},
     "output_type": "display_data"
    },
    {
     "data": {
      "text/html": [
       "<h3 style='text-align:center'> <a href='https://www.ncbi.nlm.nih.gov/pmc/articles/PMC4899695/'> HOST GENETICS DETERMINE SUSCEPTIBILITY TO AVIAN INFLUENZA INFECTION AND TRANSMISSION DYNAMICS</a></h2>"
      ],
      "text/plain": [
       "<IPython.core.display.HTML object>"
      ]
     },
     "metadata": {},
     "output_type": "display_data"
    },
    {
     "data": {
      "text/html": [
       "<h4 style='text-align:center'> ~ <b>Ruiz-Hernandez, Raul; Mwangi, William; Peroval, Marylene; Sadeyen, Jean-Remy; Ascough, Stephanie; Balkissoon, Devanand; Staines, Karen; Boyd, Amy; McCauley, John; Smith, Adrian; Butter, Colin</b></h4>"
      ],
      "text/plain": [
       "<IPython.core.display.HTML object>"
      ]
     },
     "metadata": {},
     "output_type": "display_data"
    },
    {
     "data": {
      "text/html": [
       "<blockquote> However, viral shedding did not extend to higher respiratory tissues as no shedding was detected in oropharyngeal swabs (Fig</blockquote>"
      ],
      "text/plain": [
       "<IPython.core.display.HTML object>"
      ]
     },
     "metadata": {},
     "output_type": "display_data"
    },
    {
     "data": {
      "text/html": [
       "<p style='text-align:center'> *** </p>"
      ],
      "text/plain": [
       "<IPython.core.display.HTML object>"
      ]
     },
     "metadata": {},
     "output_type": "display_data"
    },
    {
     "data": {
      "text/html": [
       "<h4 style='text-align:center'>13-05-2015</h4>"
      ],
      "text/plain": [
       "<IPython.core.display.HTML object>"
      ]
     },
     "metadata": {},
     "output_type": "display_data"
    },
    {
     "data": {
      "text/html": [
       "<h3 style='text-align:center'> <a href='https://www.ncbi.nlm.nih.gov/pmc/articles/PMC4430532/'> ENVIRONMENTAL CONDITIONS AFFECT EXHALATION OF H3N2 SEASONAL AND VARIANT INFLUENZA VIRUSES AND RESPIRATORY DROPLET TRANSMISSION IN FERRETS</a></h2>"
      ],
      "text/plain": [
       "<IPython.core.display.HTML object>"
      ]
     },
     "metadata": {},
     "output_type": "display_data"
    },
    {
     "data": {
      "text/html": [
       "<h4 style='text-align:center'> ~ <b>Gustin, Kortney M.; Belser, Jessica A.; Veguilla, Vic; Zeng, Hui; Katz, Jacqueline M.; Tumpey, Terrence M.; Maines, Taronna R.</b></h4>"
      ],
      "text/plain": [
       "<IPython.core.display.HTML object>"
      ]
     },
     "metadata": {},
     "output_type": "display_data"
    },
    {
     "data": {
      "text/html": [
       "<blockquote> Successful transmission was noted when virus was detected in nasal wash samples within 11 dpc and hemagglutination inhibition antibody titers against homologous virus were detected in convalescent serum collected after 18 dpc\n",
       " Droplet transmission occurs when larger droplets (>5 μm), typically expelled during coughing or sneezing, encounter the upper respiratory tract or ocular mucosa of a susceptible individual</blockquote>"
      ],
      "text/plain": [
       "<IPython.core.display.HTML object>"
      ]
     },
     "metadata": {},
     "output_type": "display_data"
    },
    {
     "data": {
      "text/html": [
       "<p style='text-align:center'> *** </p>"
      ],
      "text/plain": [
       "<IPython.core.display.HTML object>"
      ]
     },
     "metadata": {},
     "output_type": "display_data"
    },
    {
     "data": {
      "text/html": [
       "<h4 style='text-align:center'>20-12-2011</h4>"
      ],
      "text/plain": [
       "<IPython.core.display.HTML object>"
      ]
     },
     "metadata": {},
     "output_type": "display_data"
    },
    {
     "data": {
      "text/html": [
       "<h3 style='text-align:center'> <a href='https://www.ncbi.nlm.nih.gov/pmc/articles/PMC3258204/'> VACCINATION OF INFLUENZA A VIRUS DECREASES TRANSMISSION RATES IN PIGS</a></h2>"
      ],
      "text/plain": [
       "<IPython.core.display.HTML object>"
      ]
     },
     "metadata": {},
     "output_type": "display_data"
    },
    {
     "data": {
      "text/html": [
       "<h4 style='text-align:center'> ~ <b>Romagosa, Anna; Allerson, Matt; Gramer, Marie; Joo, Han Soo; Deen, John; Detmer, Susan; Torremorell, Montserrat</b></h4>"
      ],
      "text/plain": [
       "<IPython.core.display.HTML object>"
      ]
     },
     "metadata": {},
     "output_type": "display_data"
    },
    {
     "data": {
      "text/html": [
       "<blockquote> Lesions included moderate numbers of lymphocytes within the hyperplastic epithelium, intraluminal cellular debris and occasional bacterial colonies\n",
       " The lung lesions of the NV pigs had moderate to severe bronchoalveolar pneumonia with attenuation, hyperplasia, moderate numbers of lymphocytes admixed with macrophages in the epithelium, within the intraluminal necrotic cellular debris, and extending into the alveolar spaces</blockquote>"
      ],
      "text/plain": [
       "<IPython.core.display.HTML object>"
      ]
     },
     "metadata": {},
     "output_type": "display_data"
    },
    {
     "data": {
      "text/html": [
       "<p style='text-align:center'> *** </p>"
      ],
      "text/plain": [
       "<IPython.core.display.HTML object>"
      ]
     },
     "metadata": {},
     "output_type": "display_data"
    },
    {
     "data": {
      "text/html": [
       "<h4 style='text-align:center'>08-12-2011</h4>"
      ],
      "text/plain": [
       "<IPython.core.display.HTML object>"
      ]
     },
     "metadata": {},
     "output_type": "display_data"
    },
    {
     "data": {
      "text/html": [
       "<h3 style='text-align:center'> <a href='https://www.ncbi.nlm.nih.gov/pmc/articles/PMC3234230/'> SEQUENTIAL ADAPTIVE MUTATIONS ENHANCE EFFICIENT VECTOR SWITCHING BY CHIKUNGUNYA VIRUS AND ITS EPIDEMIC EMERGENCE</a></h2>"
      ],
      "text/plain": [
       "<IPython.core.display.HTML object>"
      ]
     },
     "metadata": {},
     "output_type": "display_data"
    },
    {
     "data": {
      "text/html": [
       "<h4 style='text-align:center'> ~ <b>Tsetsarkin, Konstantin A.; Weaver, Scott C.</b></h4>"
      ],
      "text/plain": [
       "<IPython.core.display.HTML object>"
      ]
     },
     "metadata": {},
     "output_type": "display_data"
    },
    {
     "data": {
      "text/html": [
       "<blockquote> BM indicates combined titers of competitors in blood meal used for mosquito infection</blockquote>"
      ],
      "text/plain": [
       "<IPython.core.display.HTML object>"
      ]
     },
     "metadata": {},
     "output_type": "display_data"
    },
    {
     "data": {
      "text/html": [
       "<p style='text-align:center'> *** </p>"
      ],
      "text/plain": [
       "<IPython.core.display.HTML object>"
      ]
     },
     "metadata": {},
     "output_type": "display_data"
    },
    {
     "data": {
      "text/html": [
       "<h2>6. Persistence of virus on surfaces of different materials (e,g., copper, stainless steel, plastic). </h2>"
      ],
      "text/plain": [
       "<IPython.core.display.HTML object>"
      ]
     },
     "metadata": {},
     "output_type": "display_data"
    },
    {
     "data": {
      "text/html": [
       "<h4 style='text-align:center'>13-02-2018</h4>"
      ],
      "text/plain": [
       "<IPython.core.display.HTML object>"
      ]
     },
     "metadata": {},
     "output_type": "display_data"
    },
    {
     "data": {
      "text/html": [
       "<h3 style='text-align:center'> <a href='https://www.ncbi.nlm.nih.gov/pmc/articles/PMC5876564/'> STABILITY OF PORCINE EPIDEMIC DIARRHEA VIRUS ON FOMITE MATERIALS AT DIFFERENT TEMPERATURES</a></h2>"
      ],
      "text/plain": [
       "<IPython.core.display.HTML object>"
      ]
     },
     "metadata": {},
     "output_type": "display_data"
    },
    {
     "data": {
      "text/html": [
       "<h4 style='text-align:center'> ~ <b>Kim, Yonghyan; Krishna, Venkatramana D.; Torremorell, Montserrat; Goyal, Sagar M.; Cheeran, Maxim C.-J.</b></h4>"
      ],
      "text/plain": [
       "<IPython.core.display.HTML object>"
      ]
     },
     "metadata": {},
     "output_type": "display_data"
    },
    {
     "data": {
      "text/html": [
       "<blockquote> Virus recovery from surfaces of Styrofoam, nitrile gloves, aluminum foil, Tyvek ® coverall, metal, rubber, plastic, cardboard, and cloth showed no significant differences between the materials at RT, suggesting that storage temperature had a substantial influence on virus survival\n",
       " Materials used were Styrofoam, nitrile gloves, cardboard, aluminum foil, Tyvek ® coveralls, cloth, metal, rubber, and plastic\n",
       " Specifically, Styrofoam, metal, and plastic provided extensive PEDV stability\n",
       " The rate of loss in infectivity was uniform on Styrofoam, aluminum, plastic, and Tyvek ® coverall, whereas viral infectivity on metal, nitrile gloves, and rubber dropped rapidly after 5 days at 4 • C\n",
       "Circular pieces (approximately 1 cm 2 ) of various fomite materials were cut to fit into individual wells of Costar ® 24-well cell culture plates (Corning Inc</blockquote>"
      ],
      "text/plain": [
       "<IPython.core.display.HTML object>"
      ]
     },
     "metadata": {},
     "output_type": "display_data"
    },
    {
     "data": {
      "text/html": [
       "<p style='text-align:center'> *** </p>"
      ],
      "text/plain": [
       "<IPython.core.display.HTML object>"
      ]
     },
     "metadata": {},
     "output_type": "display_data"
    },
    {
     "data": {
      "text/html": [
       "<h4 style='text-align:center'>31-12-2013</h4>"
      ],
      "text/plain": [
       "<IPython.core.display.HTML object>"
      ]
     },
     "metadata": {},
     "output_type": "display_data"
    },
    {
     "data": {
      "text/html": [
       "<h3 style='text-align:center'> <a href='https://doi.org/10.1016/j.buildenv.2013.08.025'> HVAC FILTRATION FOR CONTROLLING INFECTIOUS AIRBORNE DISEASE TRANSMISSION IN INDOOR ENVIRONMENTS: PREDICTING RISK REDUCTIONS AND OPERATIONAL COSTS</a></h2>"
      ],
      "text/plain": [
       "<IPython.core.display.HTML object>"
      ]
     },
     "metadata": {},
     "output_type": "display_data"
    },
    {
     "data": {
      "text/html": [
       "<h4 style='text-align:center'> ~ <b>Azimi, Parham; Stephens, Brent</b></h4>"
      ],
      "text/plain": [
       "<IPython.core.display.HTML object>"
      ]
     },
     "metadata": {},
     "output_type": "display_data"
    },
    {
     "data": {
      "text/html": [
       "<blockquote>From a mass balance perspective, HVAC filtration and other removal mechanisms are treated similarly to outdoor air ventilation because they both can be used to reduce indoor concentrations of airborne infectious particles</blockquote>"
      ],
      "text/plain": [
       "<IPython.core.display.HTML object>"
      ]
     },
     "metadata": {},
     "output_type": "display_data"
    },
    {
     "data": {
      "text/html": [
       "<p style='text-align:center'> *** </p>"
      ],
      "text/plain": [
       "<IPython.core.display.HTML object>"
      ]
     },
     "metadata": {},
     "output_type": "display_data"
    },
    {
     "data": {
      "text/html": [
       "<h4 style='text-align:center'>14-11-2009</h4>"
      ],
      "text/plain": [
       "<IPython.core.display.HTML object>"
      ]
     },
     "metadata": {},
     "output_type": "display_data"
    },
    {
     "data": {
      "text/html": [
       "<h3 style='text-align:center'> <a href='https://www.ncbi.nlm.nih.gov/pmc/articles/PMC2841756/'> EXAMINING LANDSCAPE FACTORS INFLUENCING RELATIVE DISTRIBUTION OF MOSQUITO GENERA AND FREQUENCY OF VIRUS INFECTION</a></h2>"
      ],
      "text/plain": [
       "<IPython.core.display.HTML object>"
      ]
     },
     "metadata": {},
     "output_type": "display_data"
    },
    {
     "data": {
      "text/html": [
       "<h4 style='text-align:center'> ~ <b>Junglen, S.; Kurth, A.; Kuehl, H.; Quan, P.-L.; Ellerbrok, H.; Pauli, G.; Nitsche, A.; Nunn, C.; Rich, S. M.; Lipkin, W. I.; Briese, T.; Leendertz, F. H.</b></h4>"
      ],
      "text/plain": [
       "<IPython.core.display.HTML object>"
      ]
     },
     "metadata": {},
     "output_type": "display_data"
    },
    {
     "data": {
      "text/html": [
       "<blockquote> Alternating Octanol, carbon dioxide-producing hand heaters, and unwashed socks were used as attractants for the light traps, which operated for 12-h periods from 6 p</blockquote>"
      ],
      "text/plain": [
       "<IPython.core.display.HTML object>"
      ]
     },
     "metadata": {},
     "output_type": "display_data"
    },
    {
     "data": {
      "text/html": [
       "<p style='text-align:center'> *** </p>"
      ],
      "text/plain": [
       "<IPython.core.display.HTML object>"
      ]
     },
     "metadata": {},
     "output_type": "display_data"
    },
    {
     "data": {
      "text/html": [
       "<h2>7. Natural history of the virus and shedding of it from an infected person </h2>"
      ],
      "text/plain": [
       "<IPython.core.display.HTML object>"
      ]
     },
     "metadata": {},
     "output_type": "display_data"
    },
    {
     "data": {
      "text/html": [
       "<h4 style='text-align:center'>26-11-2019</h4>"
      ],
      "text/plain": [
       "<IPython.core.display.HTML object>"
      ]
     },
     "metadata": {},
     "output_type": "display_data"
    },
    {
     "data": {
      "text/html": [
       "<h3 style='text-align:center'> <a href='https://www.ncbi.nlm.nih.gov/pmc/articles/PMC6879112/'> TISSUE TROPISM AND TRANSMISSION ECOLOGY PREDICT VIRULENCE OF HUMAN RNA VIRUSES</a></h2>"
      ],
      "text/plain": [
       "<IPython.core.display.HTML object>"
      ]
     },
     "metadata": {},
     "output_type": "display_data"
    },
    {
     "data": {
      "text/html": [
       "<h4 style='text-align:center'> ~ <b>Brierley, Liam; Pedersen, Amy B.; Woolhouse, Mark E. J.</b></h4>"
      ],
      "text/plain": [
       "<IPython.core.display.HTML object>"
      ]
     },
     "metadata": {},
     "output_type": "display_data"
    },
    {
     "data": {
      "text/html": [
       "<blockquote> All virulence and risk factor data pertained to natural or unintentional artificially acquired human infection only, and data from intentional human infection, animal infection, and in vitro infection were not considered</blockquote>"
      ],
      "text/plain": [
       "<IPython.core.display.HTML object>"
      ]
     },
     "metadata": {},
     "output_type": "display_data"
    },
    {
     "data": {
      "text/html": [
       "<p style='text-align:center'> *** </p>"
      ],
      "text/plain": [
       "<IPython.core.display.HTML object>"
      ]
     },
     "metadata": {},
     "output_type": "display_data"
    },
    {
     "data": {
      "text/html": [
       "<h4 style='text-align:center'>12-10-2019</h4>"
      ],
      "text/plain": [
       "<IPython.core.display.HTML object>"
      ]
     },
     "metadata": {},
     "output_type": "display_data"
    },
    {
     "data": {
      "text/html": [
       "<h3 style='text-align:center'> <a href='https://www.ncbi.nlm.nih.gov/pmc/articles/PMC6832307/'> NOSOCOMIAL TRANSMISSION OF EMERGING VIRUSES VIA AEROSOL-GENERATING MEDICAL PROCEDURES</a></h2>"
      ],
      "text/plain": [
       "<IPython.core.display.HTML object>"
      ]
     },
     "metadata": {},
     "output_type": "display_data"
    },
    {
     "data": {
      "text/html": [
       "<h4 style='text-align:center'> ~ <b>Judson, Seth D.; Munster, Vincent J.</b></h4>"
      ],
      "text/plain": [
       "<IPython.core.display.HTML object>"
      ]
     },
     "metadata": {},
     "output_type": "display_data"
    },
    {
     "data": {
      "text/html": [
       "<blockquote> Some of these viruses may cause stuttering chains of transmission before disappearing from human populations, while others, like Ebola virus or pandemic influenza A virus, may cause large outbreaks before being contained or establish themselves as endemic pathogens in the human population [18] </blockquote>"
      ],
      "text/plain": [
       "<IPython.core.display.HTML object>"
      ]
     },
     "metadata": {},
     "output_type": "display_data"
    },
    {
     "data": {
      "text/html": [
       "<p style='text-align:center'> *** </p>"
      ],
      "text/plain": [
       "<IPython.core.display.HTML object>"
      ]
     },
     "metadata": {},
     "output_type": "display_data"
    },
    {
     "data": {
      "text/html": [
       "<h4 style='text-align:center'>07-06-2019</h4>"
      ],
      "text/plain": [
       "<IPython.core.display.HTML object>"
      ]
     },
     "metadata": {},
     "output_type": "display_data"
    },
    {
     "data": {
      "text/html": [
       "<h3 style='text-align:center'> <a href='https://doi.org/10.1016/j.jtbi.2019.03.004'> INCREASED INFECTION SEVERITY IN DOWNSTREAM CITIES IN INFECTIOUS DISEASE TRANSMISSION AND TOURISTS SURVEILLANCE ANALYSIS</a></h2>"
      ],
      "text/plain": [
       "<IPython.core.display.HTML object>"
      ]
     },
     "metadata": {},
     "output_type": "display_data"
    },
    {
     "data": {
      "text/html": [
       "<h4 style='text-align:center'> ~ <b>Zhang, Nan; Zhao, Pengcheng; Li, Yuguo</b></h4>"
      ],
      "text/plain": [
       "<IPython.core.display.HTML object>"
      ]
     },
     "metadata": {},
     "output_type": "display_data"
    },
    {
     "data": {
      "text/html": [
       "<blockquote> Even the probability of tourists spreading infection or becoming infected decreases</blockquote>"
      ],
      "text/plain": [
       "<IPython.core.display.HTML object>"
      ]
     },
     "metadata": {},
     "output_type": "display_data"
    },
    {
     "data": {
      "text/html": [
       "<p style='text-align:center'> *** </p>"
      ],
      "text/plain": [
       "<IPython.core.display.HTML object>"
      ]
     },
     "metadata": {},
     "output_type": "display_data"
    },
    {
     "data": {
      "text/html": [
       "<h4 style='text-align:center'>08-08-2016</h4>"
      ],
      "text/plain": [
       "<IPython.core.display.HTML object>"
      ]
     },
     "metadata": {},
     "output_type": "display_data"
    },
    {
     "data": {
      "text/html": [
       "<h3 style='text-align:center'> <a href='https://www.ncbi.nlm.nih.gov/pmc/articles/PMC5155642/'> THE ECOLOGY AND ADAPTIVE EVOLUTION OF INFLUENZA A INTERSPECIES TRANSMISSION</a></h2>"
      ],
      "text/plain": [
       "<IPython.core.display.HTML object>"
      ]
     },
     "metadata": {},
     "output_type": "display_data"
    },
    {
     "data": {
      "text/html": [
       "<h4 style='text-align:center'> ~ <b>Joseph, Udayan; Su, Yvonne C. F.; Vijaykrishna, Dhanasekaran; Smith, Gavin J. D.</b></h4>"
      ],
      "text/plain": [
       "<IPython.core.display.HTML object>"
      ]
     },
     "metadata": {},
     "output_type": "display_data"
    },
    {
     "data": {
      "text/html": [
       "<blockquote> 15 However, there is serological evidence of H5N1 infection among Alaskan hunters who handled dead wild avian species, 16 indicating that exposure to IAVs from wild birds through close contact can potentially cause infection</blockquote>"
      ],
      "text/plain": [
       "<IPython.core.display.HTML object>"
      ]
     },
     "metadata": {},
     "output_type": "display_data"
    },
    {
     "data": {
      "text/html": [
       "<p style='text-align:center'> *** </p>"
      ],
      "text/plain": [
       "<IPython.core.display.HTML object>"
      ]
     },
     "metadata": {},
     "output_type": "display_data"
    },
    {
     "data": {
      "text/html": [
       "<h4 style='text-align:center'>23-10-2014</h4>"
      ],
      "text/plain": [
       "<IPython.core.display.HTML object>"
      ]
     },
     "metadata": {},
     "output_type": "display_data"
    },
    {
     "data": {
      "text/html": [
       "<h3 style='text-align:center'> <a href='https://www.ncbi.nlm.nih.gov/pmc/articles/PMC4207809/'> CONTACT HETEROGENEITY, RATHER THAN TRANSMISSION EFFICIENCY, LIMITS THE EMERGENCE AND SPREAD OF CANINE INFLUENZA VIRUS</a></h2>"
      ],
      "text/plain": [
       "<IPython.core.display.HTML object>"
      ]
     },
     "metadata": {},
     "output_type": "display_data"
    },
    {
     "data": {
      "text/html": [
       "<h4 style='text-align:center'> ~ <b>Dalziel, Benjamin D.; Huang, Kai; Geoghegan, Jemma L.; Arinaminpathy, Nimalan; Dubovi, Edward J.; Grenfell, Bryan T.; Ellner, Stephen P.; Holmes, Edward C.; Parrish, Colin R.</b></h4>"
      ],
      "text/plain": [
       "<IPython.core.display.HTML object>"
      ]
     },
     "metadata": {},
     "output_type": "display_data"
    },
    {
     "data": {
      "text/html": [
       "<blockquote>By reducing viral load and viral shedding, vaccination reduces the risk of infection in vaccinated dogs and reduces the infectiousness of a dog who becomes infected despite vaccination\n",
       " Transmission is inefficient because many potentially infectious contacts between infected and susceptible individuals fail to spread the infection</blockquote>"
      ],
      "text/plain": [
       "<IPython.core.display.HTML object>"
      ]
     },
     "metadata": {},
     "output_type": "display_data"
    },
    {
     "data": {
      "text/html": [
       "<p style='text-align:center'> *** </p>"
      ],
      "text/plain": [
       "<IPython.core.display.HTML object>"
      ]
     },
     "metadata": {},
     "output_type": "display_data"
    },
    {
     "data": {
      "text/html": [
       "<h4 style='text-align:center'>20-12-2011</h4>"
      ],
      "text/plain": [
       "<IPython.core.display.HTML object>"
      ]
     },
     "metadata": {},
     "output_type": "display_data"
    },
    {
     "data": {
      "text/html": [
       "<h3 style='text-align:center'> <a href='https://www.ncbi.nlm.nih.gov/pmc/articles/PMC3258204/'> VACCINATION OF INFLUENZA A VIRUS DECREASES TRANSMISSION RATES IN PIGS</a></h2>"
      ],
      "text/plain": [
       "<IPython.core.display.HTML object>"
      ]
     },
     "metadata": {},
     "output_type": "display_data"
    },
    {
     "data": {
      "text/html": [
       "<h4 style='text-align:center'> ~ <b>Romagosa, Anna; Allerson, Matt; Gramer, Marie; Joo, Han Soo; Deen, John; Detmer, Susan; Torremorell, Montserrat</b></h4>"
      ],
      "text/plain": [
       "<IPython.core.display.HTML object>"
      ]
     },
     "metadata": {},
     "output_type": "display_data"
    },
    {
     "data": {
      "text/html": [
       "<blockquote> Once the initial infected pig transmitted the infection to a susceptible pig, the infection chain proceeded until all or nearly all animals were infected</blockquote>"
      ],
      "text/plain": [
       "<IPython.core.display.HTML object>"
      ]
     },
     "metadata": {},
     "output_type": "display_data"
    },
    {
     "data": {
      "text/html": [
       "<p style='text-align:center'> *** </p>"
      ],
      "text/plain": [
       "<IPython.core.display.HTML object>"
      ]
     },
     "metadata": {},
     "output_type": "display_data"
    },
    {
     "data": {
      "text/html": [
       "<h4 style='text-align:center'>30-09-2010</h4>"
      ],
      "text/plain": [
       "<IPython.core.display.HTML object>"
      ]
     },
     "metadata": {},
     "output_type": "display_data"
    },
    {
     "data": {
      "text/html": [
       "<h3 style='text-align:center'> <a href='https://doi.org/10.1097/maj.0b013e3181e937ca'> THE BENEFITS OF TRANSMISSION DYNAMICS MODELS IN UNDERSTANDING EMERGING INFECTIOUS DISEASES</a></h2>"
      ],
      "text/plain": [
       "<IPython.core.display.HTML object>"
      ]
     },
     "metadata": {},
     "output_type": "display_data"
    },
    {
     "data": {
      "text/html": [
       "<h4 style='text-align:center'> ~ <b>Wendelboe, Aaron M.; Grafe, Carl; Carabin, Hélène</b></h4>"
      ],
      "text/plain": [
       "<IPython.core.display.HTML object>"
      ]
     },
     "metadata": {},
     "output_type": "display_data"
    },
    {
     "data": {
      "text/html": [
       "<blockquote> With infectious diseases, the number of individuals infected at any point in time influences the chance that a susceptible individual will contact an infected person</blockquote>"
      ],
      "text/plain": [
       "<IPython.core.display.HTML object>"
      ]
     },
     "metadata": {},
     "output_type": "display_data"
    },
    {
     "data": {
      "text/html": [
       "<p style='text-align:center'> *** </p>"
      ],
      "text/plain": [
       "<IPython.core.display.HTML object>"
      ]
     },
     "metadata": {},
     "output_type": "display_data"
    },
    {
     "data": {
      "text/html": [
       "<h4 style='text-align:center'>31-03-2008</h4>"
      ],
      "text/plain": [
       "<IPython.core.display.HTML object>"
      ]
     },
     "metadata": {},
     "output_type": "display_data"
    },
    {
     "data": {
      "text/html": [
       "<h3 style='text-align:center'> <a href='https://doi.org/10.1016/j.plrev.2007.12.001'> QUANTIFYING THE TRANSMISSION POTENTIAL OF PANDEMIC INFLUENZA</a></h2>"
      ],
      "text/plain": [
       "<IPython.core.display.HTML object>"
      ]
     },
     "metadata": {},
     "output_type": "display_data"
    },
    {
     "data": {
      "text/html": [
       "<h4 style='text-align:center'> ~ <b>Chowell, Gerardo; Nishiura, Hiroshi</b></h4>"
      ],
      "text/plain": [
       "<IPython.core.display.HTML object>"
      ]
     },
     "metadata": {},
     "output_type": "display_data"
    },
    {
     "data": {
      "text/html": [
       "<blockquote>Individuals that are infected with influenza are believed to become permanently immune against the specific virus strain</blockquote>"
      ],
      "text/plain": [
       "<IPython.core.display.HTML object>"
      ]
     },
     "metadata": {},
     "output_type": "display_data"
    },
    {
     "data": {
      "text/html": [
       "<p style='text-align:center'> *** </p>"
      ],
      "text/plain": [
       "<IPython.core.display.HTML object>"
      ]
     },
     "metadata": {},
     "output_type": "display_data"
    },
    {
     "data": {
      "text/html": [
       "<h2>8. Implementation of diagnostics and products to improve clinical processes </h2>"
      ],
      "text/plain": [
       "<IPython.core.display.HTML object>"
      ]
     },
     "metadata": {},
     "output_type": "display_data"
    },
    {
     "data": {
      "text/html": [
       "<h4 style='text-align:center'>26-11-2019</h4>"
      ],
      "text/plain": [
       "<IPython.core.display.HTML object>"
      ]
     },
     "metadata": {},
     "output_type": "display_data"
    },
    {
     "data": {
      "text/html": [
       "<h3 style='text-align:center'> <a href='https://www.ncbi.nlm.nih.gov/pmc/articles/PMC6879112/'> TISSUE TROPISM AND TRANSMISSION ECOLOGY PREDICT VIRULENCE OF HUMAN RNA VIRUSES</a></h2>"
      ],
      "text/plain": [
       "<IPython.core.display.HTML object>"
      ]
     },
     "metadata": {},
     "output_type": "display_data"
    },
    {
     "data": {
      "text/html": [
       "<h4 style='text-align:center'> ~ <b>Brierley, Liam; Pedersen, Amy B.; Woolhouse, Mark E. J.</b></h4>"
      ],
      "text/plain": [
       "<IPython.core.display.HTML object>"
      ]
     },
     "metadata": {},
     "output_type": "display_data"
    },
    {
     "data": {
      "text/html": [
       "<blockquote> The virulence risk factors we identify suggest that broadly targeting direct contact or respiratory transmission interfaces within ecological systems and/or tailoring detection assays towards certain virus families (e\n",
       "For each of the 214 recognised human-infective RNA virus species, following standardised data compilation efforts and critical assessment protocols [5] , data on virulence and potential risk factors were collected via a systematic search and review of clinical and epidemiological literature</blockquote>"
      ],
      "text/plain": [
       "<IPython.core.display.HTML object>"
      ]
     },
     "metadata": {},
     "output_type": "display_data"
    },
    {
     "data": {
      "text/html": [
       "<p style='text-align:center'> *** </p>"
      ],
      "text/plain": [
       "<IPython.core.display.HTML object>"
      ]
     },
     "metadata": {},
     "output_type": "display_data"
    },
    {
     "data": {
      "text/html": [
       "<h4 style='text-align:center'>12-10-2019</h4>"
      ],
      "text/plain": [
       "<IPython.core.display.HTML object>"
      ]
     },
     "metadata": {},
     "output_type": "display_data"
    },
    {
     "data": {
      "text/html": [
       "<h3 style='text-align:center'> <a href='https://www.ncbi.nlm.nih.gov/pmc/articles/PMC6832307/'> NOSOCOMIAL TRANSMISSION OF EMERGING VIRUSES VIA AEROSOL-GENERATING MEDICAL PROCEDURES</a></h2>"
      ],
      "text/plain": [
       "<IPython.core.display.HTML object>"
      ]
     },
     "metadata": {},
     "output_type": "display_data"
    },
    {
     "data": {
      "text/html": [
       "<h4 style='text-align:center'> ~ <b>Judson, Seth D.; Munster, Vincent J.</b></h4>"
      ],
      "text/plain": [
       "<IPython.core.display.HTML object>"
      ]
     },
     "metadata": {},
     "output_type": "display_data"
    },
    {
     "data": {
      "text/html": [
       "<blockquote> If we are to design proactive infection control guidelines and understand the underlying biology of viral transmission, we must conduct collaborative clinical and scientific research on nosocomial virus transmission and AGMPs</blockquote>"
      ],
      "text/plain": [
       "<IPython.core.display.HTML object>"
      ]
     },
     "metadata": {},
     "output_type": "display_data"
    },
    {
     "data": {
      "text/html": [
       "<p style='text-align:center'> *** </p>"
      ],
      "text/plain": [
       "<IPython.core.display.HTML object>"
      ]
     },
     "metadata": {},
     "output_type": "display_data"
    },
    {
     "data": {
      "text/html": [
       "<h4 style='text-align:center'>21-01-2015</h4>"
      ],
      "text/plain": [
       "<IPython.core.display.HTML object>"
      ]
     },
     "metadata": {},
     "output_type": "display_data"
    },
    {
     "data": {
      "text/html": [
       "<h3 style='text-align:center'> <a href='https://www.ncbi.nlm.nih.gov/pmc/articles/PMC4301953/'> CHARACTERIZING THE TRANSMISSION DYNAMICS AND CONTROL OF EBOLA VIRUS DISEASE</a></h2>"
      ],
      "text/plain": [
       "<IPython.core.display.HTML object>"
      ]
     },
     "metadata": {},
     "output_type": "display_data"
    },
    {
     "data": {
      "text/html": [
       "<h4 style='text-align:center'> ~ <b>Chowell, Gerardo; Nishiura, Hiroshi</b></h4>"
      ],
      "text/plain": [
       "<IPython.core.display.HTML object>"
      ]
     },
     "metadata": {},
     "output_type": "display_data"
    },
    {
     "data": {
      "text/html": [
       "<blockquote> These additional interventions include the use of household protection kits, designed to reduce transmission in the community; improvements in infection control protocols in health care settings that reduce transmission among health care workers; and the impact of rapid diagnostic kits in Ebola treatment centers, which reduce the time to isolation for infectious individuals seeking hospitalization</blockquote>"
      ],
      "text/plain": [
       "<IPython.core.display.HTML object>"
      ]
     },
     "metadata": {},
     "output_type": "display_data"
    },
    {
     "data": {
      "text/html": [
       "<p style='text-align:center'> *** </p>"
      ],
      "text/plain": [
       "<IPython.core.display.HTML object>"
      ]
     },
     "metadata": {},
     "output_type": "display_data"
    },
    {
     "data": {
      "text/html": [
       "<h4 style='text-align:center'>30-04-2014</h4>"
      ],
      "text/plain": [
       "<IPython.core.display.HTML object>"
      ]
     },
     "metadata": {},
     "output_type": "display_data"
    },
    {
     "data": {
      "text/html": [
       "<h3 style='text-align:center'> <a href='https://doi.org/10.1016/j.jhin.2014.01.010'> SPATIAL AND TEMPORAL ANALYSES TO INVESTIGATE INFECTIOUS DISEASE TRANSMISSION WITHIN HEALTHCARE SETTINGS</a></h2>"
      ],
      "text/plain": [
       "<IPython.core.display.HTML object>"
      ]
     },
     "metadata": {},
     "output_type": "display_data"
    },
    {
     "data": {
      "text/html": [
       "<h4 style='text-align:center'> ~ <b>Davis, G.S.; Sevdalis, N.; Drumright, L.N.</b></h4>"
      ],
      "text/plain": [
       "<IPython.core.display.HTML object>"
      ]
     },
     "metadata": {},
     "output_type": "display_data"
    },
    {
     "data": {
      "text/html": [
       "<blockquote> Use of interdisciplinary tools may increase the ability to identify transmission prospectively and implement preventive measures\n",
       " electronic medical databases), advancement in molecular and statistical techniques, development of analytical platforms that enable greater access to non-experts and increased interdisciplinary collaboration, the potential for using pre-existing data to prevent future avoidable infections and improve patient safety can become a reality\n",
       "Descriptive studies that included molecular data covered a range of applications including outbreak investigations, 94e102 cluster identification 103 and improving control interventions\n",
       " Findings were synthesized to evaluate the actual use of spatiotemporal analysis on infectious diseases in healthcare settings</blockquote>"
      ],
      "text/plain": [
       "<IPython.core.display.HTML object>"
      ]
     },
     "metadata": {},
     "output_type": "display_data"
    },
    {
     "data": {
      "text/html": [
       "<p style='text-align:center'> *** </p>"
      ],
      "text/plain": [
       "<IPython.core.display.HTML object>"
      ]
     },
     "metadata": {},
     "output_type": "display_data"
    },
    {
     "data": {
      "text/html": [
       "<h4 style='text-align:center'>24-07-2013</h4>"
      ],
      "text/plain": [
       "<IPython.core.display.HTML object>"
      ]
     },
     "metadata": {},
     "output_type": "display_data"
    },
    {
     "data": {
      "text/html": [
       "<h3 style='text-align:center'> <a href='https://www.ncbi.nlm.nih.gov/pmc/articles/PMC7086932/'> SEASONALITY AND PREVALENCE OF RESPIRATORY PATHOGENS DETECTED BY MULTIPLEX PCR AT A TERTIARY CARE MEDICAL CENTER</a></h2>"
      ],
      "text/plain": [
       "<IPython.core.display.HTML object>"
      ]
     },
     "metadata": {},
     "output_type": "display_data"
    },
    {
     "data": {
      "text/html": [
       "<h4 style='text-align:center'> ~ <b>Litwin, Christine M.; Bosley, James G.</b></h4>"
      ],
      "text/plain": [
       "<IPython.core.display.HTML object>"
      ]
     },
     "metadata": {},
     "output_type": "display_data"
    },
    {
     "data": {
      "text/html": [
       "<blockquote> The use of a rapid and accurate diagnostic test enhances clinical decision making and safely promotes implementation of cost-effective treatment strategies, including limiting the unnecessary use of antibiotics</blockquote>"
      ],
      "text/plain": [
       "<IPython.core.display.HTML object>"
      ]
     },
     "metadata": {},
     "output_type": "display_data"
    },
    {
     "data": {
      "text/html": [
       "<p style='text-align:center'> *** </p>"
      ],
      "text/plain": [
       "<IPython.core.display.HTML object>"
      ]
     },
     "metadata": {},
     "output_type": "display_data"
    },
    {
     "data": {
      "text/html": [
       "<h2>9. Disease models, including animal models for infection, disease and transmission </h2>"
      ],
      "text/plain": [
       "<IPython.core.display.HTML object>"
      ]
     },
     "metadata": {},
     "output_type": "display_data"
    },
    {
     "data": {
      "text/html": [
       "<h4 style='text-align:center'>12-10-2019</h4>"
      ],
      "text/plain": [
       "<IPython.core.display.HTML object>"
      ]
     },
     "metadata": {},
     "output_type": "display_data"
    },
    {
     "data": {
      "text/html": [
       "<h3 style='text-align:center'> <a href='https://www.ncbi.nlm.nih.gov/pmc/articles/PMC6832307/'> NOSOCOMIAL TRANSMISSION OF EMERGING VIRUSES VIA AEROSOL-GENERATING MEDICAL PROCEDURES</a></h2>"
      ],
      "text/plain": [
       "<IPython.core.display.HTML object>"
      ]
     },
     "metadata": {},
     "output_type": "display_data"
    },
    {
     "data": {
      "text/html": [
       "<h4 style='text-align:center'> ~ <b>Judson, Seth D.; Munster, Vincent J.</b></h4>"
      ],
      "text/plain": [
       "<IPython.core.display.HTML object>"
      ]
     },
     "metadata": {},
     "output_type": "display_data"
    },
    {
     "data": {
      "text/html": [
       "<blockquote> Both viruses are known to cause respiratory disease in humans, and nosocomial transmission was documented for Nipah virus [42] \n",
       " Nosocomial transmission [42] Lower respiratory: i, ii Causes human respiratory disease</blockquote>"
      ],
      "text/plain": [
       "<IPython.core.display.HTML object>"
      ]
     },
     "metadata": {},
     "output_type": "display_data"
    },
    {
     "data": {
      "text/html": [
       "<p style='text-align:center'> *** </p>"
      ],
      "text/plain": [
       "<IPython.core.display.HTML object>"
      ]
     },
     "metadata": {},
     "output_type": "display_data"
    },
    {
     "data": {
      "text/html": [
       "<h4 style='text-align:center'>07-06-2019</h4>"
      ],
      "text/plain": [
       "<IPython.core.display.HTML object>"
      ]
     },
     "metadata": {},
     "output_type": "display_data"
    },
    {
     "data": {
      "text/html": [
       "<h3 style='text-align:center'> <a href='https://doi.org/10.1016/j.jtbi.2019.03.004'> INCREASED INFECTION SEVERITY IN DOWNSTREAM CITIES IN INFECTIOUS DISEASE TRANSMISSION AND TOURISTS SURVEILLANCE ANALYSIS</a></h2>"
      ],
      "text/plain": [
       "<IPython.core.display.HTML object>"
      ]
     },
     "metadata": {},
     "output_type": "display_data"
    },
    {
     "data": {
      "text/html": [
       "<h4 style='text-align:center'> ~ <b>Zhang, Nan; Zhao, Pengcheng; Li, Yuguo</b></h4>"
      ],
      "text/plain": [
       "<IPython.core.display.HTML object>"
      ]
     },
     "metadata": {},
     "output_type": "display_data"
    },
    {
     "data": {
      "text/html": [
       "<blockquote>Human mobility surveillance between cities influences infectious disease transmission ( Fig</blockquote>"
      ],
      "text/plain": [
       "<IPython.core.display.HTML object>"
      ]
     },
     "metadata": {},
     "output_type": "display_data"
    },
    {
     "data": {
      "text/html": [
       "<p style='text-align:center'> *** </p>"
      ],
      "text/plain": [
       "<IPython.core.display.HTML object>"
      ]
     },
     "metadata": {},
     "output_type": "display_data"
    },
    {
     "data": {
      "text/html": [
       "<h4 style='text-align:center'>01-07-2015</h4>"
      ],
      "text/plain": [
       "<IPython.core.display.HTML object>"
      ]
     },
     "metadata": {},
     "output_type": "display_data"
    },
    {
     "data": {
      "text/html": [
       "<h3 style='text-align:center'> <a href='http://europepmc.org/articles/pmc4507309?pdf=render'> TARGETING TRANSMISSION PATHWAYS FOR EMERGING ZOONOTIC DISEASE SURVEILLANCE AND CONTROL</a></h2>"
      ],
      "text/plain": [
       "<IPython.core.display.HTML object>"
      ]
     },
     "metadata": {},
     "output_type": "display_data"
    },
    {
     "data": {
      "text/html": [
       "<h4 style='text-align:center'> ~ <b>Loh, Elizabeth H.; Zambrana-Torrelio, Carlos; Olival, Kevin J.; Bogich, Tiffany L.; Johnson, Christine K.; Mazet, Jonna A. K.; Karesh, William; Daszak, Peter</b></h4>"
      ],
      "text/plain": [
       "<IPython.core.display.HTML object>"
      ]
     },
     "metadata": {},
     "output_type": "display_data"
    },
    {
     "data": {
      "text/html": [
       "<blockquote> Last, the oral transmission pathway was most relevant for helminth and prion-driven diseases</blockquote>"
      ],
      "text/plain": [
       "<IPython.core.display.HTML object>"
      ]
     },
     "metadata": {},
     "output_type": "display_data"
    },
    {
     "data": {
      "text/html": [
       "<p style='text-align:center'> *** </p>"
      ],
      "text/plain": [
       "<IPython.core.display.HTML object>"
      ]
     },
     "metadata": {},
     "output_type": "display_data"
    },
    {
     "data": {
      "text/html": [
       "<h4 style='text-align:center'>13-05-2015</h4>"
      ],
      "text/plain": [
       "<IPython.core.display.HTML object>"
      ]
     },
     "metadata": {},
     "output_type": "display_data"
    },
    {
     "data": {
      "text/html": [
       "<h3 style='text-align:center'> <a href='https://www.ncbi.nlm.nih.gov/pmc/articles/PMC4430532/'> ENVIRONMENTAL CONDITIONS AFFECT EXHALATION OF H3N2 SEASONAL AND VARIANT INFLUENZA VIRUSES AND RESPIRATORY DROPLET TRANSMISSION IN FERRETS</a></h2>"
      ],
      "text/plain": [
       "<IPython.core.display.HTML object>"
      ]
     },
     "metadata": {},
     "output_type": "display_data"
    },
    {
     "data": {
      "text/html": [
       "<h4 style='text-align:center'> ~ <b>Gustin, Kortney M.; Belser, Jessica A.; Veguilla, Vic; Zeng, Hui; Katz, Jacqueline M.; Tumpey, Terrence M.; Maines, Taronna R.</b></h4>"
      ],
      "text/plain": [
       "<IPython.core.display.HTML object>"
      ]
     },
     "metadata": {},
     "output_type": "display_data"
    },
    {
     "data": {
      "text/html": [
       "<blockquote> Transmission studies using guinea pigs revealed reduced RD transmission capabilities of influenza virus at 50%RH [18] </blockquote>"
      ],
      "text/plain": [
       "<IPython.core.display.HTML object>"
      ]
     },
     "metadata": {},
     "output_type": "display_data"
    },
    {
     "data": {
      "text/html": [
       "<p style='text-align:center'> *** </p>"
      ],
      "text/plain": [
       "<IPython.core.display.HTML object>"
      ]
     },
     "metadata": {},
     "output_type": "display_data"
    },
    {
     "data": {
      "text/html": [
       "<h4 style='text-align:center'>20-12-2011</h4>"
      ],
      "text/plain": [
       "<IPython.core.display.HTML object>"
      ]
     },
     "metadata": {},
     "output_type": "display_data"
    },
    {
     "data": {
      "text/html": [
       "<h3 style='text-align:center'> <a href='https://www.ncbi.nlm.nih.gov/pmc/articles/PMC3258204/'> VACCINATION OF INFLUENZA A VIRUS DECREASES TRANSMISSION RATES IN PIGS</a></h2>"
      ],
      "text/plain": [
       "<IPython.core.display.HTML object>"
      ]
     },
     "metadata": {},
     "output_type": "display_data"
    },
    {
     "data": {
      "text/html": [
       "<h4 style='text-align:center'> ~ <b>Romagosa, Anna; Allerson, Matt; Gramer, Marie; Joo, Han Soo; Deen, John; Detmer, Susan; Torremorell, Montserrat</b></h4>"
      ],
      "text/plain": [
       "<IPython.core.display.HTML object>"
      ]
     },
     "metadata": {},
     "output_type": "display_data"
    },
    {
     "data": {
      "text/html": [
       "<blockquote>Influenza in pigs is a highly contagious viral disease of the respiratory tract\n",
       " Such populations can in turn also be a risk for interspecies transmission and zoonotic infections</blockquote>"
      ],
      "text/plain": [
       "<IPython.core.display.HTML object>"
      ]
     },
     "metadata": {},
     "output_type": "display_data"
    },
    {
     "data": {
      "text/html": [
       "<p style='text-align:center'> *** </p>"
      ],
      "text/plain": [
       "<IPython.core.display.HTML object>"
      ]
     },
     "metadata": {},
     "output_type": "display_data"
    },
    {
     "data": {
      "text/html": [
       "<h4 style='text-align:center'>30-09-2010</h4>"
      ],
      "text/plain": [
       "<IPython.core.display.HTML object>"
      ]
     },
     "metadata": {},
     "output_type": "display_data"
    },
    {
     "data": {
      "text/html": [
       "<h3 style='text-align:center'> <a href='https://doi.org/10.1097/maj.0b013e3181e937ca'> THE BENEFITS OF TRANSMISSION DYNAMICS MODELS IN UNDERSTANDING EMERGING INFECTIOUS DISEASES</a></h2>"
      ],
      "text/plain": [
       "<IPython.core.display.HTML object>"
      ]
     },
     "metadata": {},
     "output_type": "display_data"
    },
    {
     "data": {
      "text/html": [
       "<h4 style='text-align:center'> ~ <b>Wendelboe, Aaron M.; Grafe, Carl; Carabin, Hélène</b></h4>"
      ],
      "text/plain": [
       "<IPython.core.display.HTML object>"
      ]
     },
     "metadata": {},
     "output_type": "display_data"
    },
    {
     "data": {
      "text/html": [
       "<blockquote>Zoonoses are infectious diseases of humans that have an animal reservoir</blockquote>"
      ],
      "text/plain": [
       "<IPython.core.display.HTML object>"
      ]
     },
     "metadata": {},
     "output_type": "display_data"
    },
    {
     "data": {
      "text/html": [
       "<p style='text-align:center'> *** </p>"
      ],
      "text/plain": [
       "<IPython.core.display.HTML object>"
      ]
     },
     "metadata": {},
     "output_type": "display_data"
    },
    {
     "data": {
      "text/html": [
       "<h2>10. Tools and studies to monitor phenotypic change and potential adaptation of the virus </h2>"
      ],
      "text/plain": [
       "<IPython.core.display.HTML object>"
      ]
     },
     "metadata": {},
     "output_type": "display_data"
    },
    {
     "data": {
      "text/html": [
       "<h4 style='text-align:center'>26-11-2019</h4>"
      ],
      "text/plain": [
       "<IPython.core.display.HTML object>"
      ]
     },
     "metadata": {},
     "output_type": "display_data"
    },
    {
     "data": {
      "text/html": [
       "<h3 style='text-align:center'> <a href='https://www.ncbi.nlm.nih.gov/pmc/articles/PMC6879112/'> TISSUE TROPISM AND TRANSMISSION ECOLOGY PREDICT VIRULENCE OF HUMAN RNA VIRUSES</a></h2>"
      ],
      "text/plain": [
       "<IPython.core.display.HTML object>"
      ]
     },
     "metadata": {},
     "output_type": "display_data"
    },
    {
     "data": {
      "text/html": [
       "<h4 style='text-align:center'> ~ <b>Brierley, Liam; Pedersen, Amy B.; Woolhouse, Mark E. J.</b></h4>"
      ],
      "text/plain": [
       "<IPython.core.display.HTML object>"
      ]
     },
     "metadata": {},
     "output_type": "display_data"
    },
    {
     "data": {
      "text/html": [
       "<blockquote> Tissue tropism should be a key consideration for future comparative and evolutionary modelling efforts\n",
       " We propose that future predictive studies and preparedness initiatives with respect to emerging diseases should carefully consider potential for human virulence</blockquote>"
      ],
      "text/plain": [
       "<IPython.core.display.HTML object>"
      ]
     },
     "metadata": {},
     "output_type": "display_data"
    },
    {
     "data": {
      "text/html": [
       "<p style='text-align:center'> *** </p>"
      ],
      "text/plain": [
       "<IPython.core.display.HTML object>"
      ]
     },
     "metadata": {},
     "output_type": "display_data"
    },
    {
     "data": {
      "text/html": [
       "<h4 style='text-align:center'>17-01-2019</h4>"
      ],
      "text/plain": [
       "<IPython.core.display.HTML object>"
      ]
     },
     "metadata": {},
     "output_type": "display_data"
    },
    {
     "data": {
      "text/html": [
       "<h3 style='text-align:center'> <a href='https://www.ncbi.nlm.nih.gov/pmc/articles/PMC6340026/'> CHIKUNGUNYA VIRUS FIDELITY VARIANTS EXHIBIT DIFFERENTIAL ATTENUATION AND POPULATION DIVERSITY IN CELL CULTURE AND ADULT MICE</a></h2>"
      ],
      "text/plain": [
       "<IPython.core.display.HTML object>"
      ]
     },
     "metadata": {},
     "output_type": "display_data"
    },
    {
     "data": {
      "text/html": [
       "<h4 style='text-align:center'> ~ <b>Riemersma, Kasen K.; Steiner, Cody; Singapuri, Anil; Coffey, Lark L.</b></h4>"
      ],
      "text/plain": [
       "<IPython.core.display.HTML object>"
      ]
     },
     "metadata": {},
     "output_type": "display_data"
    },
    {
     "data": {
      "text/html": [
       "<blockquote> To assess the potential contribution of genetic diversification by antiviral host deaminases, we evaluated mutant spectra for evidence of mutational biases\n",
       " Phenotypic characterization of these mutations by reverse genetics is warranted to elucidate their fitness effects\n",
       " Fidelity variant viruses allow for manipulation of intrahost diversity and can be harnessed to study phenotypic effects of intrahost diversity</blockquote>"
      ],
      "text/plain": [
       "<IPython.core.display.HTML object>"
      ]
     },
     "metadata": {},
     "output_type": "display_data"
    },
    {
     "data": {
      "text/html": [
       "<p style='text-align:center'> *** </p>"
      ],
      "text/plain": [
       "<IPython.core.display.HTML object>"
      ]
     },
     "metadata": {},
     "output_type": "display_data"
    },
    {
     "data": {
      "text/html": [
       "<h4 style='text-align:center'>20-05-2015</h4>"
      ],
      "text/plain": [
       "<IPython.core.display.HTML object>"
      ]
     },
     "metadata": {},
     "output_type": "display_data"
    },
    {
     "data": {
      "text/html": [
       "<h3 style='text-align:center'> <a href='https://www.ncbi.nlm.nih.gov/pmc/articles/PMC4438980/'> WIDESPREAD RECOMBINATION, REASSORTMENT, AND TRANSMISSION OF UNBALANCED COMPOUND VIRAL GENOTYPES IN NATURAL ARENAVIRUS INFECTIONS</a></h2>"
      ],
      "text/plain": [
       "<IPython.core.display.HTML object>"
      ]
     },
     "metadata": {},
     "output_type": "display_data"
    },
    {
     "data": {
      "text/html": [
       "<h4 style='text-align:center'> ~ <b>Stenglein, Mark D.; Jacobson, Elliott R.; Chang, Li-Wen; Sanders, Chris; Hawkins, Michelle G.; Guzman, David S-M.; Drazenovich, Tracy; Dunker, Freeland; Kamaka, Elizabeth K.; Fisher, Debbie; Reavill, Drury R.; Meola, Linda F.; Levens, Gregory; DeRisi, Joseph L.</b></h4>"
      ],
      "text/plain": [
       "<IPython.core.display.HTML object>"
      ]
     },
     "metadata": {},
     "output_type": "display_data"
    },
    {
     "data": {
      "text/html": [
       "<blockquote> These findings provide an opportunity to study basic mechanisms of virus evolution and fitness through the identification of genetic determinants underpinning their action</blockquote>"
      ],
      "text/plain": [
       "<IPython.core.display.HTML object>"
      ]
     },
     "metadata": {},
     "output_type": "display_data"
    },
    {
     "data": {
      "text/html": [
       "<p style='text-align:center'> *** </p>"
      ],
      "text/plain": [
       "<IPython.core.display.HTML object>"
      ]
     },
     "metadata": {},
     "output_type": "display_data"
    },
    {
     "data": {
      "text/html": [
       "<h4 style='text-align:center'>20-02-2014</h4>"
      ],
      "text/plain": [
       "<IPython.core.display.HTML object>"
      ]
     },
     "metadata": {},
     "output_type": "display_data"
    },
    {
     "data": {
      "text/html": [
       "<h3 style='text-align:center'> <a href='https://www.ncbi.nlm.nih.gov/pmc/articles/PMC3930559/'> UNIFYING VIRAL GENETICS AND HUMAN TRANSPORTATION DATA TO PREDICT THE GLOBAL TRANSMISSION DYNAMICS OF HUMAN INFLUENZA H3N2</a></h2>"
      ],
      "text/plain": [
       "<IPython.core.display.HTML object>"
      ]
     },
     "metadata": {},
     "output_type": "display_data"
    },
    {
     "data": {
      "text/html": [
       "<h4 style='text-align:center'> ~ <b>Lemey, Philippe; Rambaut, Andrew; Bedford, Trevor; Faria, Nuno; Bielejec, Filip; Baele, Guy; Russell, Colin A.; Smith, Derek J.; Pybus, Oliver G.; Brockmann, Dirk; Suchard, Marc A.</b></h4>"
      ],
      "text/plain": [
       "<IPython.core.display.HTML object>"
      ]
     },
     "metadata": {},
     "output_type": "display_data"
    },
    {
     "data": {
      "text/html": [
       "<blockquote>Here we use a model-based approach to explicitly tests spatial epidemiological hypotheses by integrating empirical data on human movement patterns with viral genetic data\n",
       " In conclusion, our framework is applicable to different infectious diseases and provides new opportunities for explicitly testing how host behavior and ecology shapes the spatial distribution of pathogen genetic diversity</blockquote>"
      ],
      "text/plain": [
       "<IPython.core.display.HTML object>"
      ]
     },
     "metadata": {},
     "output_type": "display_data"
    },
    {
     "data": {
      "text/html": [
       "<p style='text-align:center'> *** </p>"
      ],
      "text/plain": [
       "<IPython.core.display.HTML object>"
      ]
     },
     "metadata": {},
     "output_type": "display_data"
    },
    {
     "data": {
      "text/html": [
       "<h4 style='text-align:center'>22-08-2008</h4>"
      ],
      "text/plain": [
       "<IPython.core.display.HTML object>"
      ]
     },
     "metadata": {},
     "output_type": "display_data"
    },
    {
     "data": {
      "text/html": [
       "<h3 style='text-align:center'> <a href='https://www.ncbi.nlm.nih.gov/pmc/articles/PMC2515348/'> EVOLUTIONARY AND TRANSMISSION DYNAMICS OF REASSORTANT H5N1 INFLUENZA VIRUS IN INDONESIA</a></h2>"
      ],
      "text/plain": [
       "<IPython.core.display.HTML object>"
      ]
     },
     "metadata": {},
     "output_type": "display_data"
    },
    {
     "data": {
      "text/html": [
       "<h4 style='text-align:center'> ~ <b>Lam, Tommy Tsan-Yuk; Hon, Chung-Chau; Pybus, Oliver G.; Kosakovsky Pond, Sergei L.; Wong, Raymond Tze-Yeung; Yip, Chi-Wai; Zeng, Fanya; Leung, Frederick Chi-Ching</b></h4>"
      ],
      "text/plain": [
       "<IPython.core.display.HTML object>"
      ]
     },
     "metadata": {},
     "output_type": "display_data"
    },
    {
     "data": {
      "text/html": [
       "<blockquote> We expect future development of analysis methods will help to shed more light on the interaction between viral migration and genetic diversity</blockquote>"
      ],
      "text/plain": [
       "<IPython.core.display.HTML object>"
      ]
     },
     "metadata": {},
     "output_type": "display_data"
    },
    {
     "data": {
      "text/html": [
       "<p style='text-align:center'> *** </p>"
      ],
      "text/plain": [
       "<IPython.core.display.HTML object>"
      ]
     },
     "metadata": {},
     "output_type": "display_data"
    },
    {
     "data": {
      "text/html": [
       "<h2>11. Immune response and immunity </h2>"
      ],
      "text/plain": [
       "<IPython.core.display.HTML object>"
      ]
     },
     "metadata": {},
     "output_type": "display_data"
    },
    {
     "data": {
      "text/html": [
       "<h4 style='text-align:center'>31-07-2019</h4>"
      ],
      "text/plain": [
       "<IPython.core.display.HTML object>"
      ]
     },
     "metadata": {},
     "output_type": "display_data"
    },
    {
     "data": {
      "text/html": [
       "<h3 style='text-align:center'> <a href='https://www.ncbi.nlm.nih.gov/pmc/articles/PMC6668090/'> NATURALLY OCCURRING MUTATIONS IN PB1 AFFECT INFLUENZA A VIRUS REPLICATION FIDELITY, VIRULENCE, AND ADAPTABILITY</a></h2>"
      ],
      "text/plain": [
       "<IPython.core.display.HTML object>"
      ]
     },
     "metadata": {},
     "output_type": "display_data"
    },
    {
     "data": {
      "text/html": [
       "<h4 style='text-align:center'> ~ <b>Lin, Ruey-Wen; Chen, Guang-Wu; Sung, Hsiang-Hsuan; Lin, Ren-Jye; Yen, Li-Chen; Tseng, Yu-Ling; Chang, Yung-Kun; Lien, Shu-Pei; Shih, Shin-Ru; Liao, Ching-Len</b></h4>"
      ],
      "text/plain": [
       "<IPython.core.display.HTML object>"
      ]
     },
     "metadata": {},
     "output_type": "display_data"
    },
    {
     "data": {
      "text/html": [
       "<blockquote> Nucleotide misincorporation by RdRp during replication contributes to antigenic drift, which increases the probability of the virus evading host immunity against seasonal influenza viruses</blockquote>"
      ],
      "text/plain": [
       "<IPython.core.display.HTML object>"
      ]
     },
     "metadata": {},
     "output_type": "display_data"
    },
    {
     "data": {
      "text/html": [
       "<p style='text-align:center'> *** </p>"
      ],
      "text/plain": [
       "<IPython.core.display.HTML object>"
      ]
     },
     "metadata": {},
     "output_type": "display_data"
    },
    {
     "data": {
      "text/html": [
       "<h4 style='text-align:center'>08-08-2016</h4>"
      ],
      "text/plain": [
       "<IPython.core.display.HTML object>"
      ]
     },
     "metadata": {},
     "output_type": "display_data"
    },
    {
     "data": {
      "text/html": [
       "<h3 style='text-align:center'> <a href='https://www.ncbi.nlm.nih.gov/pmc/articles/PMC5155642/'> THE ECOLOGY AND ADAPTIVE EVOLUTION OF INFLUENZA A INTERSPECIES TRANSMISSION</a></h2>"
      ],
      "text/plain": [
       "<IPython.core.display.HTML object>"
      ]
     },
     "metadata": {},
     "output_type": "display_data"
    },
    {
     "data": {
      "text/html": [
       "<h4 style='text-align:center'> ~ <b>Joseph, Udayan; Su, Yvonne C. F.; Vijaykrishna, Dhanasekaran; Smith, Gavin J. D.</b></h4>"
      ],
      "text/plain": [
       "<IPython.core.display.HTML object>"
      ]
     },
     "metadata": {},
     "output_type": "display_data"
    },
    {
     "data": {
      "text/html": [
       "<blockquote> The immune response to IAV infection in swine is similar to that of the human antiviral responses, with experimental evidence showing similar activation and secretion of cytokines is triggered in response to infection with the same virus</blockquote>"
      ],
      "text/plain": [
       "<IPython.core.display.HTML object>"
      ]
     },
     "metadata": {},
     "output_type": "display_data"
    },
    {
     "data": {
      "text/html": [
       "<p style='text-align:center'> *** </p>"
      ],
      "text/plain": [
       "<IPython.core.display.HTML object>"
      ]
     },
     "metadata": {},
     "output_type": "display_data"
    },
    {
     "data": {
      "text/html": [
       "<h4 style='text-align:center'>09-06-2016</h4>"
      ],
      "text/plain": [
       "<IPython.core.display.HTML object>"
      ]
     },
     "metadata": {},
     "output_type": "display_data"
    },
    {
     "data": {
      "text/html": [
       "<h3 style='text-align:center'> <a href='https://www.ncbi.nlm.nih.gov/pmc/articles/PMC4899695/'> HOST GENETICS DETERMINE SUSCEPTIBILITY TO AVIAN INFLUENZA INFECTION AND TRANSMISSION DYNAMICS</a></h2>"
      ],
      "text/plain": [
       "<IPython.core.display.HTML object>"
      ]
     },
     "metadata": {},
     "output_type": "display_data"
    },
    {
     "data": {
      "text/html": [
       "<h4 style='text-align:center'> ~ <b>Ruiz-Hernandez, Raul; Mwangi, William; Peroval, Marylene; Sadeyen, Jean-Remy; Ascough, Stephanie; Balkissoon, Devanand; Staines, Karen; Boyd, Amy; McCauley, John; Smith, Adrian; Butter, Colin</b></h4>"
      ],
      "text/plain": [
       "<IPython.core.display.HTML object>"
      ]
     },
     "metadata": {},
     "output_type": "display_data"
    },
    {
     "data": {
      "text/html": [
       "<blockquote>The magnitude of adaptive immune responses does not explain differences in susceptibility to infection\n",
       " Genetic resistance to infection, viral transmission, route of infection and regulation by immune responses were all subject to investigation\n",
       " Firstly, differences in resistance and susceptibility were observed within 2-3 days postinfection, too early for an adaptive immune response and indicative of innate factors including innate immune mechanisms</blockquote>"
      ],
      "text/plain": [
       "<IPython.core.display.HTML object>"
      ]
     },
     "metadata": {},
     "output_type": "display_data"
    },
    {
     "data": {
      "text/html": [
       "<p style='text-align:center'> *** </p>"
      ],
      "text/plain": [
       "<IPython.core.display.HTML object>"
      ]
     },
     "metadata": {},
     "output_type": "display_data"
    },
    {
     "data": {
      "text/html": [
       "<h2>12. Effectiveness of movement control strategies to prevent secondary transmission in health care and community settings </h2>"
      ],
      "text/plain": [
       "<IPython.core.display.HTML object>"
      ]
     },
     "metadata": {},
     "output_type": "display_data"
    },
    {
     "data": {
      "text/html": [
       "<h4 style='text-align:center'>29-10-2015</h4>"
      ],
      "text/plain": [
       "<IPython.core.display.HTML object>"
      ]
     },
     "metadata": {},
     "output_type": "display_data"
    },
    {
     "data": {
      "text/html": [
       "<h3 style='text-align:center'> <a href='https://www.ncbi.nlm.nih.gov/pmc/articles/PMC4626028/'> EFFECTIVELY COMMUNICATING THE UNCERTAINTIES SURROUNDING EBOLA VIRUS TRANSMISSION</a></h2>"
      ],
      "text/plain": [
       "<IPython.core.display.HTML object>"
      ]
     },
     "metadata": {},
     "output_type": "display_data"
    },
    {
     "data": {
      "text/html": [
       "<h4 style='text-align:center'> ~ <b>Kilianski, Andy; Evans, Nicholas G.</b></h4>"
      ],
      "text/plain": [
       "<IPython.core.display.HTML object>"
      ]
     },
     "metadata": {},
     "output_type": "display_data"
    },
    {
     "data": {
      "text/html": [
       "<blockquote> The potential of EBOV spread via aerosol routes drastically changes health care and public health interventions</blockquote>"
      ],
      "text/plain": [
       "<IPython.core.display.HTML object>"
      ]
     },
     "metadata": {},
     "output_type": "display_data"
    },
    {
     "data": {
      "text/html": [
       "<p style='text-align:center'> *** </p>"
      ],
      "text/plain": [
       "<IPython.core.display.HTML object>"
      ]
     },
     "metadata": {},
     "output_type": "display_data"
    },
    {
     "data": {
      "text/html": [
       "<h4 style='text-align:center'>01-07-2015</h4>"
      ],
      "text/plain": [
       "<IPython.core.display.HTML object>"
      ]
     },
     "metadata": {},
     "output_type": "display_data"
    },
    {
     "data": {
      "text/html": [
       "<h3 style='text-align:center'> <a href='http://europepmc.org/articles/pmc4507309?pdf=render'> TARGETING TRANSMISSION PATHWAYS FOR EMERGING ZOONOTIC DISEASE SURVEILLANCE AND CONTROL</a></h2>"
      ],
      "text/plain": [
       "<IPython.core.display.HTML object>"
      ]
     },
     "metadata": {},
     "output_type": "display_data"
    },
    {
     "data": {
      "text/html": [
       "<h4 style='text-align:center'> ~ <b>Loh, Elizabeth H.; Zambrana-Torrelio, Carlos; Olival, Kevin J.; Bogich, Tiffany L.; Johnson, Christine K.; Mazet, Jonna A. K.; Karesh, William; Daszak, Peter</b></h4>"
      ],
      "text/plain": [
       "<IPython.core.display.HTML object>"
      ]
     },
     "metadata": {},
     "output_type": "display_data"
    },
    {
     "data": {
      "text/html": [
       "<blockquote> Public health efforts could develop control strategies that focus on behavioral change in high-risk populations to minimize exposure to potential reservoirs and target relevant transmission pathways (e</blockquote>"
      ],
      "text/plain": [
       "<IPython.core.display.HTML object>"
      ]
     },
     "metadata": {},
     "output_type": "display_data"
    },
    {
     "data": {
      "text/html": [
       "<p style='text-align:center'> *** </p>"
      ],
      "text/plain": [
       "<IPython.core.display.HTML object>"
      ]
     },
     "metadata": {},
     "output_type": "display_data"
    },
    {
     "data": {
      "text/html": [
       "<h4 style='text-align:center'>21-01-2015</h4>"
      ],
      "text/plain": [
       "<IPython.core.display.HTML object>"
      ]
     },
     "metadata": {},
     "output_type": "display_data"
    },
    {
     "data": {
      "text/html": [
       "<h3 style='text-align:center'> <a href='https://www.ncbi.nlm.nih.gov/pmc/articles/PMC4301953/'> CHARACTERIZING THE TRANSMISSION DYNAMICS AND CONTROL OF EBOLA VIRUS DISEASE</a></h2>"
      ],
      "text/plain": [
       "<IPython.core.display.HTML object>"
      ]
     },
     "metadata": {},
     "output_type": "display_data"
    },
    {
     "data": {
      "text/html": [
       "<h4 style='text-align:center'> ~ <b>Chowell, Gerardo; Nishiura, Hiroshi</b></h4>"
      ],
      "text/plain": [
       "<IPython.core.display.HTML object>"
      ]
     },
     "metadata": {},
     "output_type": "display_data"
    },
    {
     "data": {
      "text/html": [
       "<blockquote> These additional interventions include the use of household protection kits, designed to reduce transmission in the community; improvements in infection control protocols in health care settings that reduce transmission among health care workers; and the impact of rapid diagnostic kits in Ebola treatment centers, which reduce the time to isolation for infectious individuals seeking hospitalization\n",
       " The modeled population can be structured according to the contributions of community, hospital, and unsafe burials to transmission as EVD transmission has been amplified in health care settings with ineffective infection control measures and during unsafe burials [23] \n",
       "Drake and colleague's elegant modeling approach describes EVD transmission according to infection generations by calculating probability distributions of the number of secondary cases that arise in the community via nursing care or during unsafe burials and in health care settings via infections to health care workers and visitors</blockquote>"
      ],
      "text/plain": [
       "<IPython.core.display.HTML object>"
      ]
     },
     "metadata": {},
     "output_type": "display_data"
    },
    {
     "data": {
      "text/html": [
       "<p style='text-align:center'> *** </p>"
      ],
      "text/plain": [
       "<IPython.core.display.HTML object>"
      ]
     },
     "metadata": {},
     "output_type": "display_data"
    },
    {
     "data": {
      "text/html": [
       "<h4 style='text-align:center'>30-04-2014</h4>"
      ],
      "text/plain": [
       "<IPython.core.display.HTML object>"
      ]
     },
     "metadata": {},
     "output_type": "display_data"
    },
    {
     "data": {
      "text/html": [
       "<h3 style='text-align:center'> <a href='https://doi.org/10.1016/j.jhin.2014.01.010'> SPATIAL AND TEMPORAL ANALYSES TO INVESTIGATE INFECTIOUS DISEASE TRANSMISSION WITHIN HEALTHCARE SETTINGS</a></h2>"
      ],
      "text/plain": [
       "<IPython.core.display.HTML object>"
      ]
     },
     "metadata": {},
     "output_type": "display_data"
    },
    {
     "data": {
      "text/html": [
       "<h4 style='text-align:center'> ~ <b>Davis, G.S.; Sevdalis, N.; Drumright, L.N.</b></h4>"
      ],
      "text/plain": [
       "<IPython.core.display.HTML object>"
      ]
     },
     "metadata": {},
     "output_type": "display_data"
    },
    {
     "data": {
      "text/html": [
       "<blockquote>With movement of patients between care structures, differentiation between infection control in primary and secondary care is becoming more difficult</blockquote>"
      ],
      "text/plain": [
       "<IPython.core.display.HTML object>"
      ]
     },
     "metadata": {},
     "output_type": "display_data"
    },
    {
     "data": {
      "text/html": [
       "<p style='text-align:center'> *** </p>"
      ],
      "text/plain": [
       "<IPython.core.display.HTML object>"
      ]
     },
     "metadata": {},
     "output_type": "display_data"
    },
    {
     "data": {
      "text/html": [
       "<h4 style='text-align:center'>07-02-2012</h4>"
      ],
      "text/plain": [
       "<IPython.core.display.HTML object>"
      ]
     },
     "metadata": {},
     "output_type": "display_data"
    },
    {
     "data": {
      "text/html": [
       "<h3 style='text-align:center'> <a href='https://www.ncbi.nlm.nih.gov/pmc/articles/PMC3243390/'> INTERNAL VERSUS EXTERNAL DETERMINANTS OF SCHISTOSOMA JAPONICUM TRANSMISSION IN IRRIGATED AGRICULTURAL VILLAGES</a></h2>"
      ],
      "text/plain": [
       "<IPython.core.display.HTML object>"
      ]
     },
     "metadata": {},
     "output_type": "display_data"
    },
    {
     "data": {
      "text/html": [
       "<h4 style='text-align:center'> ~ <b>Spear, Robert C.</b></h4>"
      ],
      "text/plain": [
       "<IPython.core.display.HTML object>"
      ]
     },
     "metadata": {},
     "output_type": "display_data"
    },
    {
     "data": {
      "text/html": [
       "<blockquote> In order to influence rural development priorities for disease control purposes at least a semi-quantitative understanding of the effects of environmental modification on disease transmission is needed</blockquote>"
      ],
      "text/plain": [
       "<IPython.core.display.HTML object>"
      ]
     },
     "metadata": {},
     "output_type": "display_data"
    },
    {
     "data": {
      "text/html": [
       "<p style='text-align:center'> *** </p>"
      ],
      "text/plain": [
       "<IPython.core.display.HTML object>"
      ]
     },
     "metadata": {},
     "output_type": "display_data"
    },
    {
     "data": {
      "text/html": [
       "<h4 style='text-align:center'>20-12-2011</h4>"
      ],
      "text/plain": [
       "<IPython.core.display.HTML object>"
      ]
     },
     "metadata": {},
     "output_type": "display_data"
    },
    {
     "data": {
      "text/html": [
       "<h3 style='text-align:center'> <a href='https://www.ncbi.nlm.nih.gov/pmc/articles/PMC3258204/'> VACCINATION OF INFLUENZA A VIRUS DECREASES TRANSMISSION RATES IN PIGS</a></h2>"
      ],
      "text/plain": [
       "<IPython.core.display.HTML object>"
      ]
     },
     "metadata": {},
     "output_type": "display_data"
    },
    {
     "data": {
      "text/html": [
       "<h4 style='text-align:center'> ~ <b>Romagosa, Anna; Allerson, Matt; Gramer, Marie; Joo, Han Soo; Deen, John; Detmer, Susan; Torremorell, Montserrat</b></h4>"
      ],
      "text/plain": [
       "<IPython.core.display.HTML object>"
      ]
     },
     "metadata": {},
     "output_type": "display_data"
    },
    {
     "data": {
      "text/html": [
       "<blockquote>Understanding transmission of influenza and the factors that affect transmission is crucial for designing effective control strategies</blockquote>"
      ],
      "text/plain": [
       "<IPython.core.display.HTML object>"
      ]
     },
     "metadata": {},
     "output_type": "display_data"
    },
    {
     "data": {
      "text/html": [
       "<p style='text-align:center'> *** </p>"
      ],
      "text/plain": [
       "<IPython.core.display.HTML object>"
      ]
     },
     "metadata": {},
     "output_type": "display_data"
    },
    {
     "data": {
      "text/html": [
       "<h2>13. Effectiveness of personal protective equipment (PPE) and its usefulness to reduce risk of transmission in health care and community settings, Role of the environment in transmission </h2>"
      ],
      "text/plain": [
       "<IPython.core.display.HTML object>"
      ]
     },
     "metadata": {},
     "output_type": "display_data"
    },
    {
     "data": {
      "text/html": [
       "<h4 style='text-align:center'>12-10-2019</h4>"
      ],
      "text/plain": [
       "<IPython.core.display.HTML object>"
      ]
     },
     "metadata": {},
     "output_type": "display_data"
    },
    {
     "data": {
      "text/html": [
       "<h3 style='text-align:center'> <a href='https://www.ncbi.nlm.nih.gov/pmc/articles/PMC6832307/'> NOSOCOMIAL TRANSMISSION OF EMERGING VIRUSES VIA AEROSOL-GENERATING MEDICAL PROCEDURES</a></h2>"
      ],
      "text/plain": [
       "<IPython.core.display.HTML object>"
      ]
     },
     "metadata": {},
     "output_type": "display_data"
    },
    {
     "data": {
      "text/html": [
       "<h4 style='text-align:center'> ~ <b>Judson, Seth D.; Munster, Vincent J.</b></h4>"
      ],
      "text/plain": [
       "<IPython.core.display.HTML object>"
      ]
     },
     "metadata": {},
     "output_type": "display_data"
    },
    {
     "data": {
      "text/html": [
       "<blockquote> The updated guidelines further emphasized proper personal protective equipment (PPE) and isolation when performing AGMPs on EVD patients</blockquote>"
      ],
      "text/plain": [
       "<IPython.core.display.HTML object>"
      ]
     },
     "metadata": {},
     "output_type": "display_data"
    },
    {
     "data": {
      "text/html": [
       "<p style='text-align:center'> *** </p>"
      ],
      "text/plain": [
       "<IPython.core.display.HTML object>"
      ]
     },
     "metadata": {},
     "output_type": "display_data"
    },
    {
     "data": {
      "text/html": [
       "<h4 style='text-align:center'>29-10-2015</h4>"
      ],
      "text/plain": [
       "<IPython.core.display.HTML object>"
      ]
     },
     "metadata": {},
     "output_type": "display_data"
    },
    {
     "data": {
      "text/html": [
       "<h3 style='text-align:center'> <a href='https://www.ncbi.nlm.nih.gov/pmc/articles/PMC4626028/'> EFFECTIVELY COMMUNICATING THE UNCERTAINTIES SURROUNDING EBOLA VIRUS TRANSMISSION</a></h2>"
      ],
      "text/plain": [
       "<IPython.core.display.HTML object>"
      ]
     },
     "metadata": {},
     "output_type": "display_data"
    },
    {
     "data": {
      "text/html": [
       "<h4 style='text-align:center'> ~ <b>Kilianski, Andy; Evans, Nicholas G.</b></h4>"
      ],
      "text/plain": [
       "<IPython.core.display.HTML object>"
      ]
     },
     "metadata": {},
     "output_type": "display_data"
    },
    {
     "data": {
      "text/html": [
       "<blockquote> The potential of EBOV spread via aerosol routes drastically changes health care and public health interventions\n",
       "The impact of an airborne EBOV on public health and clinical medicine would entail large structural changes in contact tracing, the use of PPE, and patient isolation</blockquote>"
      ],
      "text/plain": [
       "<IPython.core.display.HTML object>"
      ]
     },
     "metadata": {},
     "output_type": "display_data"
    },
    {
     "data": {
      "text/html": [
       "<p style='text-align:center'> *** </p>"
      ],
      "text/plain": [
       "<IPython.core.display.HTML object>"
      ]
     },
     "metadata": {},
     "output_type": "display_data"
    },
    {
     "data": {
      "text/html": [
       "<h4 style='text-align:center'>01-07-2015</h4>"
      ],
      "text/plain": [
       "<IPython.core.display.HTML object>"
      ]
     },
     "metadata": {},
     "output_type": "display_data"
    },
    {
     "data": {
      "text/html": [
       "<h3 style='text-align:center'> <a href='http://europepmc.org/articles/pmc4507309?pdf=render'> TARGETING TRANSMISSION PATHWAYS FOR EMERGING ZOONOTIC DISEASE SURVEILLANCE AND CONTROL</a></h2>"
      ],
      "text/plain": [
       "<IPython.core.display.HTML object>"
      ]
     },
     "metadata": {},
     "output_type": "display_data"
    },
    {
     "data": {
      "text/html": [
       "<h4 style='text-align:center'> ~ <b>Loh, Elizabeth H.; Zambrana-Torrelio, Carlos; Olival, Kevin J.; Bogich, Tiffany L.; Johnson, Christine K.; Mazet, Jonna A. K.; Karesh, William; Daszak, Peter</b></h4>"
      ],
      "text/plain": [
       "<IPython.core.display.HTML object>"
      ]
     },
     "metadata": {},
     "output_type": "display_data"
    },
    {
     "data": {
      "text/html": [
       "<blockquote> Public health efforts could develop control strategies that focus on behavioral change in high-risk populations to minimize exposure to potential reservoirs and target relevant transmission pathways (e</blockquote>"
      ],
      "text/plain": [
       "<IPython.core.display.HTML object>"
      ]
     },
     "metadata": {},
     "output_type": "display_data"
    },
    {
     "data": {
      "text/html": [
       "<p style='text-align:center'> *** </p>"
      ],
      "text/plain": [
       "<IPython.core.display.HTML object>"
      ]
     },
     "metadata": {},
     "output_type": "display_data"
    },
    {
     "data": {
      "text/html": [
       "<h4 style='text-align:center'>21-01-2015</h4>"
      ],
      "text/plain": [
       "<IPython.core.display.HTML object>"
      ]
     },
     "metadata": {},
     "output_type": "display_data"
    },
    {
     "data": {
      "text/html": [
       "<h3 style='text-align:center'> <a href='https://www.ncbi.nlm.nih.gov/pmc/articles/PMC4301953/'> CHARACTERIZING THE TRANSMISSION DYNAMICS AND CONTROL OF EBOLA VIRUS DISEASE</a></h2>"
      ],
      "text/plain": [
       "<IPython.core.display.HTML object>"
      ]
     },
     "metadata": {},
     "output_type": "display_data"
    },
    {
     "data": {
      "text/html": [
       "<h4 style='text-align:center'> ~ <b>Chowell, Gerardo; Nishiura, Hiroshi</b></h4>"
      ],
      "text/plain": [
       "<IPython.core.display.HTML object>"
      ]
     },
     "metadata": {},
     "output_type": "display_data"
    },
    {
     "data": {
      "text/html": [
       "<blockquote> These additional interventions include the use of household protection kits, designed to reduce transmission in the community; improvements in infection control protocols in health care settings that reduce transmission among health care workers; and the impact of rapid diagnostic kits in Ebola treatment centers, which reduce the time to isolation for infectious individuals seeking hospitalization</blockquote>"
      ],
      "text/plain": [
       "<IPython.core.display.HTML object>"
      ]
     },
     "metadata": {},
     "output_type": "display_data"
    },
    {
     "data": {
      "text/html": [
       "<p style='text-align:center'> *** </p>"
      ],
      "text/plain": [
       "<IPython.core.display.HTML object>"
      ]
     },
     "metadata": {},
     "output_type": "display_data"
    },
    {
     "data": {
      "text/html": [
       "<h4 style='text-align:center'>24-07-2013</h4>"
      ],
      "text/plain": [
       "<IPython.core.display.HTML object>"
      ]
     },
     "metadata": {},
     "output_type": "display_data"
    },
    {
     "data": {
      "text/html": [
       "<h3 style='text-align:center'> <a href='https://www.ncbi.nlm.nih.gov/pmc/articles/PMC7086932/'> SEASONALITY AND PREVALENCE OF RESPIRATORY PATHOGENS DETECTED BY MULTIPLEX PCR AT A TERTIARY CARE MEDICAL CENTER</a></h2>"
      ],
      "text/plain": [
       "<IPython.core.display.HTML object>"
      ]
     },
     "metadata": {},
     "output_type": "display_data"
    },
    {
     "data": {
      "text/html": [
       "<h4 style='text-align:center'> ~ <b>Litwin, Christine M.; Bosley, James G.</b></h4>"
      ],
      "text/plain": [
       "<IPython.core.display.HTML object>"
      ]
     },
     "metadata": {},
     "output_type": "display_data"
    },
    {
     "data": {
      "text/html": [
       "<blockquote> The use of a rapid and accurate diagnostic test enhances clinical decision making and safely promotes implementation of cost-effective treatment strategies, including limiting the unnecessary use of antibiotics</blockquote>"
      ],
      "text/plain": [
       "<IPython.core.display.HTML object>"
      ]
     },
     "metadata": {},
     "output_type": "display_data"
    },
    {
     "data": {
      "text/html": [
       "<p style='text-align:center'> *** </p>"
      ],
      "text/plain": [
       "<IPython.core.display.HTML object>"
      ]
     },
     "metadata": {},
     "output_type": "display_data"
    },
    {
     "data": {
      "text/html": [
       "<h4 style='text-align:center'>20-12-2011</h4>"
      ],
      "text/plain": [
       "<IPython.core.display.HTML object>"
      ]
     },
     "metadata": {},
     "output_type": "display_data"
    },
    {
     "data": {
      "text/html": [
       "<h3 style='text-align:center'> <a href='https://www.ncbi.nlm.nih.gov/pmc/articles/PMC3258204/'> VACCINATION OF INFLUENZA A VIRUS DECREASES TRANSMISSION RATES IN PIGS</a></h2>"
      ],
      "text/plain": [
       "<IPython.core.display.HTML object>"
      ]
     },
     "metadata": {},
     "output_type": "display_data"
    },
    {
     "data": {
      "text/html": [
       "<h4 style='text-align:center'> ~ <b>Romagosa, Anna; Allerson, Matt; Gramer, Marie; Joo, Han Soo; Deen, John; Detmer, Susan; Torremorell, Montserrat</b></h4>"
      ],
      "text/plain": [
       "<IPython.core.display.HTML object>"
      ]
     },
     "metadata": {},
     "output_type": "display_data"
    },
    {
     "data": {
      "text/html": [
       "<blockquote>Understanding transmission of influenza and the factors that affect transmission is crucial for designing effective control strategies</blockquote>"
      ],
      "text/plain": [
       "<IPython.core.display.HTML object>"
      ]
     },
     "metadata": {},
     "output_type": "display_data"
    },
    {
     "data": {
      "text/html": [
       "<p style='text-align:center'> *** </p>"
      ],
      "text/plain": [
       "<IPython.core.display.HTML object>"
      ]
     },
     "metadata": {},
     "output_type": "display_data"
    },
    {
     "data": {
      "text/html": [
       "<h4 style='text-align:center'>27-01-2006</h4>"
      ],
      "text/plain": [
       "<IPython.core.display.HTML object>"
      ]
     },
     "metadata": {},
     "output_type": "display_data"
    },
    {
     "data": {
      "text/html": [
       "<h3 style='text-align:center'> <a href='https://www.ncbi.nlm.nih.gov/pmc/articles/PMC3291384/'> PATHOGEN TRANSMISSION AND CLINIC SCHEDULING</a></h2>"
      ],
      "text/plain": [
       "<IPython.core.display.HTML object>"
      ]
     },
     "metadata": {},
     "output_type": "display_data"
    },
    {
     "data": {
      "text/html": [
       "<h4 style='text-align:center'> ~ <b>Hotchkiss, John R.; Strike, David G.; Crooke, Philip S.</b></h4>"
      ],
      "text/plain": [
       "<IPython.core.display.HTML object>"
      ]
     },
     "metadata": {},
     "output_type": "display_data"
    },
    {
     "data": {
      "text/html": [
       "<blockquote>Improved hand hygiene, barrier precautions, patient use of hand sanitizers or facemasks, and avoidance of environmental fomites can each diminish dissemination risk</blockquote>"
      ],
      "text/plain": [
       "<IPython.core.display.HTML object>"
      ]
     },
     "metadata": {},
     "output_type": "display_data"
    },
    {
     "data": {
      "text/html": [
       "<p style='text-align:center'> *** </p>"
      ],
      "text/plain": [
       "<IPython.core.display.HTML object>"
      ]
     },
     "metadata": {},
     "output_type": "display_data"
    }
   ],
   "source": [
    "tags = [\n",
    "\"Range of incubation periods for the disease in humans (and how this varies across age and health status) and how long individuals are contagious, even after recovery.\",\n",
    "\"Prevalence of asymptomatic shedding and transmission (e.g., particularly children).\",\n",
    "\"Seasonality of transmission.\",\n",
    "\"Physical science of the coronavirus (e.g., charge distribution, adhesion to hydrophilic/phobic surfaces, environmental survival to inform decontamination efforts for affected areas and provide information about viral shedding).\",\n",
    "\"Persistence and stability on a multitude of substrates and sources (e.g., nasal discharge, sputum, urine, fecal matter, blood).\",\n",
    "\"Persistence of virus on surfaces of different materials (e,g., copper, stainless steel, plastic).\",\n",
    "\"Natural history of the virus and shedding of it from an infected person\",\n",
    "\"Implementation of diagnostics and products to improve clinical processes\",\n",
    "\"Disease models, including animal models for infection, disease and transmission\",\n",
    "\"Tools and studies to monitor phenotypic change and potential adaptation of the virus\",\n",
    "\"Immune response and immunity\",\n",
    "\"Effectiveness of movement control strategies to prevent secondary transmission in health care and community settings\",\n",
    "\"Effectiveness of personal protective equipment (PPE) and its usefulness to reduce risk of transmission in health care and community settings, Role of the environment in transmission\"\n",
    "]\n",
    "\n",
    "read_data(tags, 1)"
   ]
  },
  {
   "cell_type": "code",
   "execution_count": 66,
   "metadata": {},
   "outputs": [
    {
     "data": {
      "text/html": [
       "<h1 style='font-size:30px'>What do we know about COVID-19 risk factors? What have we learned from epidemiological studies?</h1> </br>"
      ],
      "text/plain": [
       "<IPython.core.display.HTML object>"
      ]
     },
     "metadata": {},
     "output_type": "display_data"
    },
    {
     "data": {
      "text/html": [
       "<h2>1. Data on potential risks factors </h2>"
      ],
      "text/plain": [
       "<IPython.core.display.HTML object>"
      ]
     },
     "metadata": {},
     "output_type": "display_data"
    },
    {
     "data": {
      "text/html": [
       "<h4 style='text-align:center'>31-03-2020</h4>"
      ],
      "text/plain": [
       "<IPython.core.display.HTML object>"
      ]
     },
     "metadata": {},
     "output_type": "display_data"
    },
    {
     "data": {
      "text/html": [
       "<h3 style='text-align:center'> <a href='https://doi.org/10.1016/j.cyto.2019.154965'> IL-33 AND ST2 AS PREDICTORS OF DISEASE SEVERITY IN CHILDREN WITH VIRAL ACUTE LOWER RESPIRATORY INFECTION</a></h2>"
      ],
      "text/plain": [
       "<IPython.core.display.HTML object>"
      ]
     },
     "metadata": {},
     "output_type": "display_data"
    },
    {
     "data": {
      "text/html": [
       "<h4 style='text-align:center'> ~ <b>Portugal, Carolina Augusta Arantes; de Araújo Castro, Ítalo; Prates, Mirela Cristina Moreira; Gagliardi, Talita Bianca; Martins, Ronaldo Bragança; de Jesus, Bruna Laís Santos; de Souza Cardoso, Ricardo; da Silva, Marcus Vinícius Gomes; Aragon, Davi Casale; Arruda Neto, Eurico; Alves Filho, José Carlos Farias; Cunha, Fernando de Queiroz; Carlotti, Ana Paula de Carvalho Panzeri</b></h4>"
      ],
      "text/plain": [
       "<IPython.core.display.HTML object>"
      ]
     },
     "metadata": {},
     "output_type": "display_data"
    },
    {
     "data": {
      "text/html": [
       "<blockquote> The identification of predictors of disease severity may help to identify potential therapeutic targets</blockquote>"
      ],
      "text/plain": [
       "<IPython.core.display.HTML object>"
      ]
     },
     "metadata": {},
     "output_type": "display_data"
    },
    {
     "data": {
      "text/html": [
       "<p style='text-align:center'> *** </p>"
      ],
      "text/plain": [
       "<IPython.core.display.HTML object>"
      ]
     },
     "metadata": {},
     "output_type": "display_data"
    },
    {
     "data": {
      "text/html": [
       "<h4 style='text-align:center'>30-08-2019</h4>"
      ],
      "text/plain": [
       "<IPython.core.display.HTML object>"
      ]
     },
     "metadata": {},
     "output_type": "display_data"
    },
    {
     "data": {
      "text/html": [
       "<h3 style='text-align:center'> <a href='https://www.ncbi.nlm.nih.gov/pmc/articles/PMC6716891/'> RESPIRATORY VIRAL INFECTIONS AND THE RISK OF RHEUMATOID ARTHRITIS</a></h2>"
      ],
      "text/plain": [
       "<IPython.core.display.HTML object>"
      ]
     },
     "metadata": {},
     "output_type": "display_data"
    },
    {
     "data": {
      "text/html": [
       "<h4 style='text-align:center'> ~ <b>Joo, Young Bin; Lim, Youn-Hee; Kim, Ki-Jo; Park, Kyung-Su; Park, Yune-Jung</b></h4>"
      ],
      "text/plain": [
       "<IPython.core.display.HTML object>"
      ]
     },
     "metadata": {},
     "output_type": "display_data"
    },
    {
     "data": {
      "text/html": [
       "<blockquote> More complex interactions among these virus factors or other environmental factors may be involved</blockquote>"
      ],
      "text/plain": [
       "<IPython.core.display.HTML object>"
      ]
     },
     "metadata": {},
     "output_type": "display_data"
    },
    {
     "data": {
      "text/html": [
       "<p style='text-align:center'> *** </p>"
      ],
      "text/plain": [
       "<IPython.core.display.HTML object>"
      ]
     },
     "metadata": {},
     "output_type": "display_data"
    },
    {
     "data": {
      "text/html": [
       "<h4 style='text-align:center'>02-03-2018</h4>"
      ],
      "text/plain": [
       "<IPython.core.display.HTML object>"
      ]
     },
     "metadata": {},
     "output_type": "display_data"
    },
    {
     "data": {
      "text/html": [
       "<h3 style='text-align:center'> <a href='https://www.ncbi.nlm.nih.gov/pmc/articles/PMC5851717/'> RISK FACTORS FOR SEVERE BRONCHIOLITIS CAUSED BY RESPIRATORY VIRUS INFECTIONS AMONG MEXICAN CHILDREN IN AN EMERGENCY DEPARTMENT</a></h2>"
      ],
      "text/plain": [
       "<IPython.core.display.HTML object>"
      ]
     },
     "metadata": {},
     "output_type": "display_data"
    },
    {
     "data": {
      "text/html": [
       "<h4 style='text-align:center'> ~ <b>Robledo-Aceves, Mireya; Moreno-Peregrina, María de Jesús; Velarde-Rivera, Fernando; Ascencio-Esparza, Elba; Preciado-Figueroa, Francisco M.; Caniza, Miguela A.; Escobedo-Melendez, Griselda</b></h4>"
      ],
      "text/plain": [
       "<IPython.core.display.HTML object>"
      ]
     },
     "metadata": {},
     "output_type": "display_data"
    },
    {
     "data": {
      "text/html": [
       "<blockquote> These risk factors can be categorized as environmental, maternal, and host factors</blockquote>"
      ],
      "text/plain": [
       "<IPython.core.display.HTML object>"
      ]
     },
     "metadata": {},
     "output_type": "display_data"
    },
    {
     "data": {
      "text/html": [
       "<p style='text-align:center'> *** </p>"
      ],
      "text/plain": [
       "<IPython.core.display.HTML object>"
      ]
     },
     "metadata": {},
     "output_type": "display_data"
    },
    {
     "data": {
      "text/html": [
       "<h4 style='text-align:center'>01-12-2015</h4>"
      ],
      "text/plain": [
       "<IPython.core.display.HTML object>"
      ]
     },
     "metadata": {},
     "output_type": "display_data"
    },
    {
     "data": {
      "text/html": [
       "<h3 style='text-align:center'> <a href='http://europepmc.org/articles/pmc4875771?pdf=render'> HUMAN METAPNEUMOVIRUS INFECTION IN JORDANIAN CHILDREN: EPIDEMIOLOGY AND RISK FACTORS FOR SEVERE DISEASE</a></h2>"
      ],
      "text/plain": [
       "<IPython.core.display.HTML object>"
      ]
     },
     "metadata": {},
     "output_type": "display_data"
    },
    {
     "data": {
      "text/html": [
       "<h4 style='text-align:center'> ~ <b>Schuster, Jennifer E.; Khuri-Bulos, Najwa; Faouri, Samir; Shehabi, Asem; Johnson, Monika; Wang, Li; Fonnesbeck, Christopher; Williams, John V.; Halasa, Natasha</b></h4>"
      ],
      "text/plain": [
       "<IPython.core.display.HTML object>"
      ]
     },
     "metadata": {},
     "output_type": "display_data"
    },
    {
     "data": {
      "text/html": [
       "<blockquote> Thus, the epidemiology of previously established risk factors in this population are different than other cohorts where these factors are often predictors of respiratory virus severity\n",
       " Our study highlights that the epidemiology of established risk factors are unique to specific populations\n",
       " Prematurity and daycare are underrepresented factors in this population, highlighting that factors contributing to severe disease differ substantially between geographic and developing regions</blockquote>"
      ],
      "text/plain": [
       "<IPython.core.display.HTML object>"
      ]
     },
     "metadata": {},
     "output_type": "display_data"
    },
    {
     "data": {
      "text/html": [
       "<p style='text-align:center'> *** </p>"
      ],
      "text/plain": [
       "<IPython.core.display.HTML object>"
      ]
     },
     "metadata": {},
     "output_type": "display_data"
    },
    {
     "data": {
      "text/html": [
       "<h2>2. Smoking, pre-existing pulmonary disease </h2>"
      ],
      "text/plain": [
       "<IPython.core.display.HTML object>"
      ]
     },
     "metadata": {},
     "output_type": "display_data"
    },
    {
     "data": {
      "text/html": [
       "<h4 style='text-align:center'>31-08-2019</h4>"
      ],
      "text/plain": [
       "<IPython.core.display.HTML object>"
      ]
     },
     "metadata": {},
     "output_type": "display_data"
    },
    {
     "data": {
      "text/html": [
       "<h3 style='text-align:center'> <a href='https://doi.org/10.1016/j.jcv.2019.07.001'> CLINICAL MANIFESTATIONS AND OUTCOMES OF RESPIRATORY SYNCYTIAL VIRUS INFECTION IN ADULT HOSPITALIZED PATIENTS</a></h2>"
      ],
      "text/plain": [
       "<IPython.core.display.HTML object>"
      ]
     },
     "metadata": {},
     "output_type": "display_data"
    },
    {
     "data": {
      "text/html": [
       "<h4 style='text-align:center'> ~ <b>Chuaychoo, Benjamas; Ngamwongwan, Sopita; Kaewnaphan, Bualan; Athipanyasilp, Niracha; Horthongkham, Navin; Kantakamalakul, Wannee; Muangman, Nisa</b></h4>"
      ],
      "text/plain": [
       "<IPython.core.display.HTML object>"
      ]
     },
     "metadata": {},
     "output_type": "display_data"
    },
    {
     "data": {
      "text/html": [
       "<blockquote> RSV, respiratory syncytial virus; ARI, acute respiratory illness; COPD, chronic obstructive pulmonary disease; HAP, hospital-acquired pneumonia; VAP, ventilator-associated pneumonia</blockquote>"
      ],
      "text/plain": [
       "<IPython.core.display.HTML object>"
      ]
     },
     "metadata": {},
     "output_type": "display_data"
    },
    {
     "data": {
      "text/html": [
       "<p style='text-align:center'> *** </p>"
      ],
      "text/plain": [
       "<IPython.core.display.HTML object>"
      ]
     },
     "metadata": {},
     "output_type": "display_data"
    },
    {
     "data": {
      "text/html": [
       "<h4 style='text-align:center'>15-07-2019</h4>"
      ],
      "text/plain": [
       "<IPython.core.display.HTML object>"
      ]
     },
     "metadata": {},
     "output_type": "display_data"
    },
    {
     "data": {
      "text/html": [
       "<h3 style='text-align:center'> <a href='https://www.ncbi.nlm.nih.gov/pmc/articles/PMC6603263/'> SEVERE MORBIDITY AND MORTALITY ASSOCIATED WITH RESPIRATORY SYNCYTIAL VIRUS VERSUS INFLUENZA INFECTION IN HOSPITALIZED OLDER ADULTS</a></h2>"
      ],
      "text/plain": [
       "<IPython.core.display.HTML object>"
      ]
     },
     "metadata": {},
     "output_type": "display_data"
    },
    {
     "data": {
      "text/html": [
       "<h4 style='text-align:center'> ~ <b>Ackerson, Bradley; Tseng, Hung Fu; Sy, Lina S; Solano, Zendi; Slezak, Jeff; Luo, Yi; Fischetti, Christine A; Shinde, Vivek</b></h4>"
      ],
      "text/plain": [
       "<IPython.core.display.HTML object>"
      ]
     },
     "metadata": {},
     "output_type": "display_data"
    },
    {
     "data": {
      "text/html": [
       "<blockquote> While increased baseline cardiopulmonary disease in the RSV cohort likely increased their risk of pulmonary complications, including exacerbation of chronic respiratory disease and asthma, these differences were observed after adjustment for comorbidities, including baseline cardiopulmonary disease</blockquote>"
      ],
      "text/plain": [
       "<IPython.core.display.HTML object>"
      ]
     },
     "metadata": {},
     "output_type": "display_data"
    },
    {
     "data": {
      "text/html": [
       "<p style='text-align:center'> *** </p>"
      ],
      "text/plain": [
       "<IPython.core.display.HTML object>"
      ]
     },
     "metadata": {},
     "output_type": "display_data"
    },
    {
     "data": {
      "text/html": [
       "<h4 style='text-align:center'>31-03-2019</h4>"
      ],
      "text/plain": [
       "<IPython.core.display.HTML object>"
      ]
     },
     "metadata": {},
     "output_type": "display_data"
    },
    {
     "data": {
      "text/html": [
       "<h3 style='text-align:center'> <a href='https://doi.org/10.1016/j.ppedcard.2018.09.003'> EPIDEMIOLOGY OF VIRAL RESPIRATORY INFECTIONS IN CHILDREN UNDERGOING HEART SURGERY</a></h2>"
      ],
      "text/plain": [
       "<IPython.core.display.HTML object>"
      ]
     },
     "metadata": {},
     "output_type": "display_data"
    },
    {
     "data": {
      "text/html": [
       "<h4 style='text-align:center'> ~ <b>Silva, Thalis Henrique da; Pinho, João Renato Rebello; Silva Junior, Tarcísio José da; Carmona, Fabio</b></h4>"
      ],
      "text/plain": [
       "<IPython.core.display.HTML object>"
      ]
     },
     "metadata": {},
     "output_type": "display_data"
    },
    {
     "data": {
      "text/html": [
       "<blockquote>Children with CHD have altered lung mechanics, decreased lung compliance and increased pulmonary vascular resistance</blockquote>"
      ],
      "text/plain": [
       "<IPython.core.display.HTML object>"
      ]
     },
     "metadata": {},
     "output_type": "display_data"
    },
    {
     "data": {
      "text/html": [
       "<p style='text-align:center'> *** </p>"
      ],
      "text/plain": [
       "<IPython.core.display.HTML object>"
      ]
     },
     "metadata": {},
     "output_type": "display_data"
    },
    {
     "data": {
      "text/html": [
       "<h4 style='text-align:center'>30-04-2017</h4>"
      ],
      "text/plain": [
       "<IPython.core.display.HTML object>"
      ]
     },
     "metadata": {},
     "output_type": "display_data"
    },
    {
     "data": {
      "text/html": [
       "<h3 style='text-align:center'> <a href='https://doi.org/10.1016/j.cmi.2016.11.014'> CLINICAL CHARACTERISTICS AND OUTCOME OF RESPIRATORY SYNCYTIAL VIRUS INFECTION AMONG ADULTS HOSPITALIZED WITH INFLUENZA-LIKE ILLNESS IN FRANCE</a></h2>"
      ],
      "text/plain": [
       "<IPython.core.display.HTML object>"
      ]
     },
     "metadata": {},
     "output_type": "display_data"
    },
    {
     "data": {
      "text/html": [
       "<h4 style='text-align:center'> ~ <b>Loubet, P.; Lenzi, N.; Valette, M.; Foulongne, V.; Krivine, A.; Houhou, N.; Lagathu, G.; Rogez, S.; Alain, S.; Duval, X.; Galtier, F.; Postil, D.; Tattevin, P.; Vanhems, P.; Carrat, F.; Lina, B.; Launay, O.; Seddik, K.; Lesieur, Z.; Bonmarin, I.; Loulergue, P.; Bodilis, H.; Servera-Miyalou, M.; Sadler, I.; Momcilovic, S.; Kanaan, R.; Coolent, N.; Tan Boun, K.; Blanche, P.; Charpentier, J.; Daviaud, F.; Mongardon, N.; Bretagnol, A.; Claessens, Y.E.; Rozenberg, F.; Yazdanpanah, Y.; Burdet, C.; Harent, S.; Lachatre, M.; Rioux, C.; Bleibtreu, A.; Casalino, E.; Choquet, C.; Leleu, A.; Belghalem, K.; Colosi, L.; Ranaivoson, M.; Verry, V.; Pereira, L.; Dupeyrat, E.; Bernard, J.; Emeyrat, N.; Chavance, P.; Debit, A.; Aubier, M.; Pradere, P.; Justet, A.; Mal, H.; Brugiere, O.; Papo, T.; Goulenok, T.; Boisseau, M.; Jouenne, R.; Alexandra, J.F.; Raynaud-Simon, A.; Lilamand, M.; Cloppet-Fontaine, A.; Becheur, K.; Pelletier, A.L.; Fidouh, N.; Ralaimazava, P.; Beaumale, F.; Costa, Y.; Munier, E.; Betend, F.; Amour, S.; Loeffert, S.; Francourt, K.; Merle, C.; Letois, F.; Géraud, P.; Driss, V.; Noslier, S.; Ray, M.; Sebbane, M.; Konaté, A.; Bourdin, A.; Klouche, K.; Léglise, M.S.; Couve-Deacon, E.; Fruit, D.; Fenerol, C.; Vallejo, C.; Jouneau, S.; Lainé, F.; Thébault, E.; Fillatre, P.; Le Pape, C.; Beuzit, L.; Chau, F.; Carrat, F.; Chau, F.; Goderel, I.</b></h4>"
      ],
      "text/plain": [
       "<IPython.core.display.HTML object>"
      ]
     },
     "metadata": {},
     "output_type": "display_data"
    },
    {
     "data": {
      "text/html": [
       "<blockquote> Furthermore, three patients had chronic heart disease</blockquote>"
      ],
      "text/plain": [
       "<IPython.core.display.HTML object>"
      ]
     },
     "metadata": {},
     "output_type": "display_data"
    },
    {
     "data": {
      "text/html": [
       "<p style='text-align:center'> *** </p>"
      ],
      "text/plain": [
       "<IPython.core.display.HTML object>"
      ]
     },
     "metadata": {},
     "output_type": "display_data"
    },
    {
     "data": {
      "text/html": [
       "<h4 style='text-align:center'>31-08-2013</h4>"
      ],
      "text/plain": [
       "<IPython.core.display.HTML object>"
      ]
     },
     "metadata": {},
     "output_type": "display_data"
    },
    {
     "data": {
      "text/html": [
       "<h3 style='text-align:center'> <a href='https://doi.org/10.1378/chest.12-1956'> A PROSPECTIVE STUDY OF RESPIRATORY VIRAL INFECTION IN PREGNANT WOMEN WITH AND WITHOUT ASTHMA</a></h2>"
      ],
      "text/plain": [
       "<IPython.core.display.HTML object>"
      ]
     },
     "metadata": {},
     "output_type": "display_data"
    },
    {
     "data": {
      "text/html": [
       "<h4 style='text-align:center'> ~ <b>Murphy, Vanessa E.; Powell, Heather; Wark, Peter A.B.; Gibson, Peter G.</b></h4>"
      ],
      "text/plain": [
       "<IPython.core.display.HTML object>"
      ]
     },
     "metadata": {},
     "output_type": "display_data"
    },
    {
     "data": {
      "text/html": [
       "<blockquote> Prevention of respiratory viral infections may improve asthma outcomes during pregnancy</blockquote>"
      ],
      "text/plain": [
       "<IPython.core.display.HTML object>"
      ]
     },
     "metadata": {},
     "output_type": "display_data"
    },
    {
     "data": {
      "text/html": [
       "<p style='text-align:center'> *** </p>"
      ],
      "text/plain": [
       "<IPython.core.display.HTML object>"
      ]
     },
     "metadata": {},
     "output_type": "display_data"
    },
    {
     "data": {
      "text/html": [
       "<h4 style='text-align:center'>31-05-2007</h4>"
      ],
      "text/plain": [
       "<IPython.core.display.HTML object>"
      ]
     },
     "metadata": {},
     "output_type": "display_data"
    },
    {
     "data": {
      "text/html": [
       "<h3 style='text-align:center'> <a href='https://doi.org/10.1016/j.ogrm.2007.03.006'> RESPIRATORY DISEASE IN PREGNANCY</a></h2>"
      ],
      "text/plain": [
       "<IPython.core.display.HTML object>"
      ]
     },
     "metadata": {},
     "output_type": "display_data"
    },
    {
     "data": {
      "text/html": [
       "<h4 style='text-align:center'> ~ <b>Stone, Sophia; Nelson-Piercy, Catherine</b></h4>"
      ],
      "text/plain": [
       "<IPython.core.display.HTML object>"
      ]
     },
     "metadata": {},
     "output_type": "display_data"
    },
    {
     "data": {
      "text/html": [
       "<blockquote> Respiratory diseases complicated by pulmonary hypertension and cor pulmonale have a poor prognosis in pregnancy\n",
       " Coexisting maternal disease, including asthma and anaemia, and immunosuppressive therapy increase the risk of contracting pneumonia</blockquote>"
      ],
      "text/plain": [
       "<IPython.core.display.HTML object>"
      ]
     },
     "metadata": {},
     "output_type": "display_data"
    },
    {
     "data": {
      "text/html": [
       "<p style='text-align:center'> *** </p>"
      ],
      "text/plain": [
       "<IPython.core.display.HTML object>"
      ]
     },
     "metadata": {},
     "output_type": "display_data"
    },
    {
     "data": {
      "text/html": [
       "<h4 style='text-align:center'>30-06-2004</h4>"
      ],
      "text/plain": [
       "<IPython.core.display.HTML object>"
      ]
     },
     "metadata": {},
     "output_type": "display_data"
    },
    {
     "data": {
      "text/html": [
       "<h3 style='text-align:center'> <a href='https://doi.org/10.1016/j.curobgyn.2004.02.002'> RESPIRATORY DISEASE IN PREGNANCY</a></h2>"
      ],
      "text/plain": [
       "<IPython.core.display.HTML object>"
      ]
     },
     "metadata": {},
     "output_type": "display_data"
    },
    {
     "data": {
      "text/html": [
       "<h4 style='text-align:center'> ~ <b>Bhide, Amarnath; Shehata, Hassan A</b></h4>"
      ],
      "text/plain": [
       "<IPython.core.display.HTML object>"
      ]
     },
     "metadata": {},
     "output_type": "display_data"
    },
    {
     "data": {
      "text/html": [
       "<blockquote> Respiratory diseases complicated by pulmonary hypertension and cor pulmonale have a poor prognosis in pregnancy\n",
       " Coexisting maternal disease, including asthma and anaemia, and immunosuppressive therapy increase the risk of contracting pneumonia</blockquote>"
      ],
      "text/plain": [
       "<IPython.core.display.HTML object>"
      ]
     },
     "metadata": {},
     "output_type": "display_data"
    },
    {
     "data": {
      "text/html": [
       "<p style='text-align:center'> *** </p>"
      ],
      "text/plain": [
       "<IPython.core.display.HTML object>"
      ]
     },
     "metadata": {},
     "output_type": "display_data"
    },
    {
     "data": {
      "text/html": [
       "<h2>3. Co-infections (determine whether co-existing respiratory/viral infections make the virus more transmissible or virulent) and other co-morbidities </h2>"
      ],
      "text/plain": [
       "<IPython.core.display.HTML object>"
      ]
     },
     "metadata": {},
     "output_type": "display_data"
    },
    {
     "data": {
      "text/html": [
       "<h4 style='text-align:center'>06-06-2019</h4>"
      ],
      "text/plain": [
       "<IPython.core.display.HTML object>"
      ]
     },
     "metadata": {},
     "output_type": "display_data"
    },
    {
     "data": {
      "text/html": [
       "<h3 style='text-align:center'> <a href='https://doi.org/10.1016/j.vaccine.2019.04.098'> CLINICAL CHARACTERISTICS AND OUTCOMES OF RESPIRATORY SYNCYTIAL VIRUS INFECTION IN PREGNANT WOMEN</a></h2>"
      ],
      "text/plain": [
       "<IPython.core.display.HTML object>"
      ]
     },
     "metadata": {},
     "output_type": "display_data"
    },
    {
     "data": {
      "text/html": [
       "<h4 style='text-align:center'> ~ <b>Hause, Anne M.; Avadhanula, Vasanthi; Maccato, Maurizio L.; Pinell, Phillip M.; Bond, Nanette; Santarcangelo, Patricia; Ferlic-Stark, Laura; Ye, Xunyan; Iwuchukwu, Obinna; Maurer, Lauren; Aideyan, Letisha; Dao, Kelly; McBride, Trevor; Piedra, Pedro A.; Munoz, Flor M.</b></h4>"
      ],
      "text/plain": [
       "<IPython.core.display.HTML object>"
      ]
     },
     "metadata": {},
     "output_type": "display_data"
    },
    {
     "data": {
      "text/html": [
       "<blockquote>At their first enrollment there were 65 pregnant women with ARI and 90 healthy pregnant women controls</blockquote>"
      ],
      "text/plain": [
       "<IPython.core.display.HTML object>"
      ]
     },
     "metadata": {},
     "output_type": "display_data"
    },
    {
     "data": {
      "text/html": [
       "<p style='text-align:center'> *** </p>"
      ],
      "text/plain": [
       "<IPython.core.display.HTML object>"
      ]
     },
     "metadata": {},
     "output_type": "display_data"
    },
    {
     "data": {
      "text/html": [
       "<h4 style='text-align:center'>01-02-2018</h4>"
      ],
      "text/plain": [
       "<IPython.core.display.HTML object>"
      ]
     },
     "metadata": {},
     "output_type": "display_data"
    },
    {
     "data": {
      "text/html": [
       "<h3 style='text-align:center'> <a href='https://www.ncbi.nlm.nih.gov/pmc/articles/PMC5794984/'> PREGNANCY AND INFECTION: USING DISEASE PATHOGENESIS TO INFORM VACCINE STRATEGY</a></h2>"
      ],
      "text/plain": [
       "<IPython.core.display.HTML object>"
      ]
     },
     "metadata": {},
     "output_type": "display_data"
    },
    {
     "data": {
      "text/html": [
       "<h4 style='text-align:center'> ~ <b>Vermillion, Meghan S.; Klein, Sabra L.</b></h4>"
      ],
      "text/plain": [
       "<IPython.core.display.HTML object>"
      ]
     },
     "metadata": {},
     "output_type": "display_data"
    },
    {
     "data": {
      "text/html": [
       "<blockquote> 16 Several studies evaluating adverse vaccine reactions in pregnant women have concluded that there is no link between pregnancy complications or adverse fetal outcomes among women who are vaccinated during pregnancy</blockquote>"
      ],
      "text/plain": [
       "<IPython.core.display.HTML object>"
      ]
     },
     "metadata": {},
     "output_type": "display_data"
    },
    {
     "data": {
      "text/html": [
       "<p style='text-align:center'> *** </p>"
      ],
      "text/plain": [
       "<IPython.core.display.HTML object>"
      ]
     },
     "metadata": {},
     "output_type": "display_data"
    },
    {
     "data": {
      "text/html": [
       "<h4 style='text-align:center'>31-03-2017</h4>"
      ],
      "text/plain": [
       "<IPython.core.display.HTML object>"
      ]
     },
     "metadata": {},
     "output_type": "display_data"
    },
    {
     "data": {
      "text/html": [
       "<h3 style='text-align:center'> <a href='https://doi.org/10.1016/j.jpeds.2016.11.077'> VIRAL RESPIRATORY INFECTIONS IN PRETERM INFANTS DURING AND AFTER HOSPITALIZATION</a></h2>"
      ],
      "text/plain": [
       "<IPython.core.display.HTML object>"
      ]
     },
     "metadata": {},
     "output_type": "display_data"
    },
    {
     "data": {
      "text/html": [
       "<h4 style='text-align:center'> ~ <b>Caserta, Mary T.; Yang, Hongmei; Gill, Steven R.; Holden-Wiltse, Jeanne; Pryhuber, Gloria</b></h4>"
      ],
      "text/plain": [
       "<IPython.core.display.HTML object>"
      ]
     },
     "metadata": {},
     "output_type": "display_data"
    },
    {
     "data": {
      "text/html": [
       "<blockquote> 1 Preterm infants suffer significant respiratory morbidity because of lung immaturity at birth, especially those born before 32 weeks gestation</blockquote>"
      ],
      "text/plain": [
       "<IPython.core.display.HTML object>"
      ]
     },
     "metadata": {},
     "output_type": "display_data"
    },
    {
     "data": {
      "text/html": [
       "<p style='text-align:center'> *** </p>"
      ],
      "text/plain": [
       "<IPython.core.display.HTML object>"
      ]
     },
     "metadata": {},
     "output_type": "display_data"
    },
    {
     "data": {
      "text/html": [
       "<h4 style='text-align:center'>31-08-2013</h4>"
      ],
      "text/plain": [
       "<IPython.core.display.HTML object>"
      ]
     },
     "metadata": {},
     "output_type": "display_data"
    },
    {
     "data": {
      "text/html": [
       "<h3 style='text-align:center'> <a href='https://doi.org/10.1378/chest.12-1956'> A PROSPECTIVE STUDY OF RESPIRATORY VIRAL INFECTION IN PREGNANT WOMEN WITH AND WITHOUT ASTHMA</a></h2>"
      ],
      "text/plain": [
       "<IPython.core.display.HTML object>"
      ]
     },
     "metadata": {},
     "output_type": "display_data"
    },
    {
     "data": {
      "text/html": [
       "<h4 style='text-align:center'> ~ <b>Murphy, Vanessa E.; Powell, Heather; Wark, Peter A.B.; Gibson, Peter G.</b></h4>"
      ],
      "text/plain": [
       "<IPython.core.display.HTML object>"
      ]
     },
     "metadata": {},
     "output_type": "display_data"
    },
    {
     "data": {
      "text/html": [
       "<blockquote> 21 Pregnant women with asthma are at increased risk of preeclampsia compared with pregnant women without asthma\n",
       "Pregnant women with asthma have more common colds during pregnancy than pregnant women without asthma, both by self-report and questionnaire</blockquote>"
      ],
      "text/plain": [
       "<IPython.core.display.HTML object>"
      ]
     },
     "metadata": {},
     "output_type": "display_data"
    },
    {
     "data": {
      "text/html": [
       "<p style='text-align:center'> *** </p>"
      ],
      "text/plain": [
       "<IPython.core.display.HTML object>"
      ]
     },
     "metadata": {},
     "output_type": "display_data"
    },
    {
     "data": {
      "text/html": [
       "<h4 style='text-align:center'>30-01-2013</h4>"
      ],
      "text/plain": [
       "<IPython.core.display.HTML object>"
      ]
     },
     "metadata": {},
     "output_type": "display_data"
    },
    {
     "data": {
      "text/html": [
       "<h3 style='text-align:center'> <a href='https://www.ncbi.nlm.nih.gov/pmc/articles/PMC7088837/'> DOES AN UPPER RESPIRATORY TRACT INFECTION DURING PREGNANCY AFFECT PERINATAL OUTCOMES? A LITERATURE REVIEW</a></h2>"
      ],
      "text/plain": [
       "<IPython.core.display.HTML object>"
      ]
     },
     "metadata": {},
     "output_type": "display_data"
    },
    {
     "data": {
      "text/html": [
       "<h4 style='text-align:center'> ~ <b>Harris, Julia; Sheiner, Eyal</b></h4>"
      ],
      "text/plain": [
       "<IPython.core.display.HTML object>"
      ]
     },
     "metadata": {},
     "output_type": "display_data"
    },
    {
     "data": {
      "text/html": [
       "<blockquote> Therefore, pregnant women with pneumonia are usually hospitalized and monitored</blockquote>"
      ],
      "text/plain": [
       "<IPython.core.display.HTML object>"
      ]
     },
     "metadata": {},
     "output_type": "display_data"
    },
    {
     "data": {
      "text/html": [
       "<p style='text-align:center'> *** </p>"
      ],
      "text/plain": [
       "<IPython.core.display.HTML object>"
      ]
     },
     "metadata": {},
     "output_type": "display_data"
    },
    {
     "data": {
      "text/html": [
       "<h4 style='text-align:center'>30-09-2005</h4>"
      ],
      "text/plain": [
       "<IPython.core.display.HTML object>"
      ]
     },
     "metadata": {},
     "output_type": "display_data"
    },
    {
     "data": {
      "text/html": [
       "<h3 style='text-align:center'> <a href='https://doi.org/10.1016/j.clp.2005.04.008'> EMERGING INFECTIONS AND PREGNANCY: WEST NILE VIRUS, MONKEYPOX, SEVERE ACUTE RESPIRATORY SYNDROME, AND BIOTERRORISM</a></h2>"
      ],
      "text/plain": [
       "<IPython.core.display.HTML object>"
      ]
     },
     "metadata": {},
     "output_type": "display_data"
    },
    {
     "data": {
      "text/html": [
       "<h4 style='text-align:center'> ~ <b>Jamieson, Denise J.; Jernigan, Daniel B.; Ellis, Jane E.; Treadwell, Tracee A.</b></h4>"
      ],
      "text/plain": [
       "<IPython.core.display.HTML object>"
      ]
     },
     "metadata": {},
     "output_type": "display_data"
    },
    {
     "data": {
      "text/html": [
       "<blockquote>Smallpox is generally more severe in pregnant women than in nonpregnant women or in men [46] </blockquote>"
      ],
      "text/plain": [
       "<IPython.core.display.HTML object>"
      ]
     },
     "metadata": {},
     "output_type": "display_data"
    },
    {
     "data": {
      "text/html": [
       "<p style='text-align:center'> *** </p>"
      ],
      "text/plain": [
       "<IPython.core.display.HTML object>"
      ]
     },
     "metadata": {},
     "output_type": "display_data"
    },
    {
     "data": {
      "text/html": [
       "<h4 style='text-align:center'>30-09-2005</h4>"
      ],
      "text/plain": [
       "<IPython.core.display.HTML object>"
      ]
     },
     "metadata": {},
     "output_type": "display_data"
    },
    {
     "data": {
      "text/html": [
       "<h3 style='text-align:center'> <a href='https://doi.org/10.1016/j.clp.2005.04.006'> MATERNAL INFECTION AND ADVERSE FETAL AND NEONATAL OUTCOMES</a></h2>"
      ],
      "text/plain": [
       "<IPython.core.display.HTML object>"
      ]
     },
     "metadata": {},
     "output_type": "display_data"
    },
    {
     "data": {
      "text/html": [
       "<h4 style='text-align:center'> ~ <b>Goldenberg, Robert L.; Culhane, Jennifer F.; Johnson, Derek C.</b></h4>"
      ],
      "text/plain": [
       "<IPython.core.display.HTML object>"
      ]
     },
     "metadata": {},
     "output_type": "display_data"
    },
    {
     "data": {
      "text/html": [
       "<blockquote>3 million pregnant women are infected/colonized with CMV</blockquote>"
      ],
      "text/plain": [
       "<IPython.core.display.HTML object>"
      ]
     },
     "metadata": {},
     "output_type": "display_data"
    },
    {
     "data": {
      "text/html": [
       "<p style='text-align:center'> *** </p>"
      ],
      "text/plain": [
       "<IPython.core.display.HTML object>"
      ]
     },
     "metadata": {},
     "output_type": "display_data"
    },
    {
     "data": {
      "text/html": [
       "<h4 style='text-align:center'>31-07-2004</h4>"
      ],
      "text/plain": [
       "<IPython.core.display.HTML object>"
      ]
     },
     "metadata": {},
     "output_type": "display_data"
    },
    {
     "data": {
      "text/html": [
       "<h3 style='text-align:center'> <a href='https://doi.org/10.1016/j.ajog.2003.11.019'> PREGNANCY AND PERINATAL OUTCOMES OF WOMEN WITH SEVERE ACUTE RESPIRATORY SYNDROME</a></h2>"
      ],
      "text/plain": [
       "<IPython.core.display.HTML object>"
      ]
     },
     "metadata": {},
     "output_type": "display_data"
    },
    {
     "data": {
      "text/html": [
       "<h4 style='text-align:center'> ~ <b>Wong, Shell F; Chow, Kam M; Leung, Tse N; Ng, Wai F; Ng, Tak K; Shek, Chi C; Ng, Pak C; Lam, Pansy W.Y; Ho, Lau C; To, William W.K; Lai, Sik T; Yan, Wing W; Tan, Peggy Y.H</b></h4>"
      ],
      "text/plain": [
       "<IPython.core.display.HTML object>"
      ]
     },
     "metadata": {},
     "output_type": "display_data"
    },
    {
     "data": {
      "text/html": [
       "<blockquote>Pregnancies in the first trimester were identified by pregnancy tests offered to all female SARS patients suspected to be pregnant</blockquote>"
      ],
      "text/plain": [
       "<IPython.core.display.HTML object>"
      ]
     },
     "metadata": {},
     "output_type": "display_data"
    },
    {
     "data": {
      "text/html": [
       "<p style='text-align:center'> *** </p>"
      ],
      "text/plain": [
       "<IPython.core.display.HTML object>"
      ]
     },
     "metadata": {},
     "output_type": "display_data"
    },
    {
     "data": {
      "text/html": [
       "<h2>4. Neonates and pregnant women </h2>"
      ],
      "text/plain": [
       "<IPython.core.display.HTML object>"
      ]
     },
     "metadata": {},
     "output_type": "display_data"
    },
    {
     "data": {
      "text/html": [
       "<h4 style='text-align:center'>31-12-2019</h4>"
      ],
      "text/plain": [
       "<IPython.core.display.HTML object>"
      ]
     },
     "metadata": {},
     "output_type": "display_data"
    },
    {
     "data": {
      "text/html": [
       "<h3 style='text-align:center'> <a href='https://doi.org/10.1016/j.cmi.2019.04.012'> RESPIRATORY VIRUS INFECTION AMONG HOSPITALIZED ADULT PATIENTS WITH OR WITHOUT CLINICALLY APPARENT RESPIRATORY INFECTION: A PROSPECTIVE COHORT STUDY</a></h2>"
      ],
      "text/plain": [
       "<IPython.core.display.HTML object>"
      ]
     },
     "metadata": {},
     "output_type": "display_data"
    },
    {
     "data": {
      "text/html": [
       "<h4 style='text-align:center'> ~ <b>To, K.K.W.; Chan, K.-H.; Ho, J.; Pang, P.K.P.; Ho, D.T.Y.; Chang, A.C.H.; Seng, C.W.; Yip, C.C.Y.; Cheng, V.C.C.; Hung, I.F.N.; Yuen, K.-Y.</b></h4>"
      ],
      "text/plain": [
       "<IPython.core.display.HTML object>"
      ]
     },
     "metadata": {},
     "output_type": "display_data"
    },
    {
     "data": {
      "text/html": [
       "<blockquote> However, non-respiratory symptoms and extrapulmonary complications are common among patients with respiratory virus infection [15e18] </blockquote>"
      ],
      "text/plain": [
       "<IPython.core.display.HTML object>"
      ]
     },
     "metadata": {},
     "output_type": "display_data"
    },
    {
     "data": {
      "text/html": [
       "<p style='text-align:center'> *** </p>"
      ],
      "text/plain": [
       "<IPython.core.display.HTML object>"
      ]
     },
     "metadata": {},
     "output_type": "display_data"
    },
    {
     "data": {
      "text/html": [
       "<h4 style='text-align:center'>20-12-2017</h4>"
      ],
      "text/plain": [
       "<IPython.core.display.HTML object>"
      ]
     },
     "metadata": {},
     "output_type": "display_data"
    },
    {
     "data": {
      "text/html": [
       "<h3 style='text-align:center'> <a href='https://www.ncbi.nlm.nih.gov/pmc/articles/PMC5738863/'> RISK OF MORTALITY ASSOCIATED WITH RESPIRATORY SYNCYTIAL VIRUS AND INFLUENZA INFECTION IN ADULTS</a></h2>"
      ],
      "text/plain": [
       "<IPython.core.display.HTML object>"
      ]
     },
     "metadata": {},
     "output_type": "display_data"
    },
    {
     "data": {
      "text/html": [
       "<h4 style='text-align:center'> ~ <b>Kwon, Yong Shik; Park, Sun Hyo; Kim, Mi-Ae; Kim, Hyun Jung; Park, Jae Seok; Lee, Mi Young; Lee, Choong Won; Dauti, Sonila; Choi, Won-Il</b></h4>"
      ],
      "text/plain": [
       "<IPython.core.display.HTML object>"
      ]
     },
     "metadata": {},
     "output_type": "display_data"
    },
    {
     "data": {
      "text/html": [
       "<blockquote> Thus, the results may underestimate RSV infection or influenza in lower respiratory tract infection</blockquote>"
      ],
      "text/plain": [
       "<IPython.core.display.HTML object>"
      ]
     },
     "metadata": {},
     "output_type": "display_data"
    },
    {
     "data": {
      "text/html": [
       "<p style='text-align:center'> *** </p>"
      ],
      "text/plain": [
       "<IPython.core.display.HTML object>"
      ]
     },
     "metadata": {},
     "output_type": "display_data"
    },
    {
     "data": {
      "text/html": [
       "<h4 style='text-align:center'>03-02-2017</h4>"
      ],
      "text/plain": [
       "<IPython.core.display.HTML object>"
      ]
     },
     "metadata": {},
     "output_type": "display_data"
    },
    {
     "data": {
      "text/html": [
       "<h3 style='text-align:center'> <a href='https://www.ncbi.nlm.nih.gov/pmc/articles/PMC5414085/'> HOSPITAL-ACQUIRED RESPIRATORY VIRAL INFECTIONS: INCIDENCE, MORBIDITY, AND MORTALITY IN PEDIATRIC AND ADULT PATIENTS</a></h2>"
      ],
      "text/plain": [
       "<IPython.core.display.HTML object>"
      ]
     },
     "metadata": {},
     "output_type": "display_data"
    },
    {
     "data": {
      "text/html": [
       "<h4 style='text-align:center'> ~ <b>Chow, Eric J.; Mermel, Leonard A.</b></h4>"
      ],
      "text/plain": [
       "<IPython.core.display.HTML object>"
      ]
     },
     "metadata": {},
     "output_type": "display_data"
    },
    {
     "data": {
      "text/html": [
       "<blockquote> Despite this policy, nosocomial respiratory viral infections occurred\n",
       " Thus, cases of nosocomial respiratory viral infections are often unrecognized</blockquote>"
      ],
      "text/plain": [
       "<IPython.core.display.HTML object>"
      ]
     },
     "metadata": {},
     "output_type": "display_data"
    },
    {
     "data": {
      "text/html": [
       "<p style='text-align:center'> *** </p>"
      ],
      "text/plain": [
       "<IPython.core.display.HTML object>"
      ]
     },
     "metadata": {},
     "output_type": "display_data"
    },
    {
     "data": {
      "text/html": [
       "<h4 style='text-align:center'>01-12-2015</h4>"
      ],
      "text/plain": [
       "<IPython.core.display.HTML object>"
      ]
     },
     "metadata": {},
     "output_type": "display_data"
    },
    {
     "data": {
      "text/html": [
       "<h3 style='text-align:center'> <a href='http://europepmc.org/articles/pmc4875771?pdf=render'> HUMAN METAPNEUMOVIRUS INFECTION IN JORDANIAN CHILDREN: EPIDEMIOLOGY AND RISK FACTORS FOR SEVERE DISEASE</a></h2>"
      ],
      "text/plain": [
       "<IPython.core.display.HTML object>"
      ]
     },
     "metadata": {},
     "output_type": "display_data"
    },
    {
     "data": {
      "text/html": [
       "<h4 style='text-align:center'> ~ <b>Schuster, Jennifer E.; Khuri-Bulos, Najwa; Faouri, Samir; Shehabi, Asem; Johnson, Monika; Wang, Li; Fonnesbeck, Christopher; Williams, John V.; Halasa, Natasha</b></h4>"
      ],
      "text/plain": [
       "<IPython.core.display.HTML object>"
      ]
     },
     "metadata": {},
     "output_type": "display_data"
    },
    {
     "data": {
      "text/html": [
       "<blockquote> Table 1 Viruses detected during acute respiratory tract infection admissions\n",
       "Viral respiratory co-infection in young children is common</blockquote>"
      ],
      "text/plain": [
       "<IPython.core.display.HTML object>"
      ]
     },
     "metadata": {},
     "output_type": "display_data"
    },
    {
     "data": {
      "text/html": [
       "<p style='text-align:center'> *** </p>"
      ],
      "text/plain": [
       "<IPython.core.display.HTML object>"
      ]
     },
     "metadata": {},
     "output_type": "display_data"
    },
    {
     "data": {
      "text/html": [
       "<h4 style='text-align:center'>31-08-2013</h4>"
      ],
      "text/plain": [
       "<IPython.core.display.HTML object>"
      ]
     },
     "metadata": {},
     "output_type": "display_data"
    },
    {
     "data": {
      "text/html": [
       "<h3 style='text-align:center'> <a href='https://doi.org/10.1378/chest.12-1956'> A PROSPECTIVE STUDY OF RESPIRATORY VIRAL INFECTION IN PREGNANT WOMEN WITH AND WITHOUT ASTHMA</a></h2>"
      ],
      "text/plain": [
       "<IPython.core.display.HTML object>"
      ]
     },
     "metadata": {},
     "output_type": "display_data"
    },
    {
     "data": {
      "text/html": [
       "<h4 style='text-align:center'> ~ <b>Murphy, Vanessa E.; Powell, Heather; Wark, Peter A.B.; Gibson, Peter G.</b></h4>"
      ],
      "text/plain": [
       "<IPython.core.display.HTML object>"
      ]
     },
     "metadata": {},
     "output_type": "display_data"
    },
    {
     "data": {
      "text/html": [
       "<blockquote> Prevention of respiratory viral infections may improve asthma outcomes during pregnancy</blockquote>"
      ],
      "text/plain": [
       "<IPython.core.display.HTML object>"
      ]
     },
     "metadata": {},
     "output_type": "display_data"
    },
    {
     "data": {
      "text/html": [
       "<p style='text-align:center'> *** </p>"
      ],
      "text/plain": [
       "<IPython.core.display.HTML object>"
      ]
     },
     "metadata": {},
     "output_type": "display_data"
    },
    {
     "data": {
      "text/html": [
       "<h4 style='text-align:center'>28-02-2007</h4>"
      ],
      "text/plain": [
       "<IPython.core.display.HTML object>"
      ]
     },
     "metadata": {},
     "output_type": "display_data"
    },
    {
     "data": {
      "text/html": [
       "<h3 style='text-align:center'> <a href='https://doi.org/10.1016/j.jaci.2006.08.041'> PREVALENCE OF VIRAL RESPIRATORY TRACT INFECTIONS IN CHILDREN WITH ASTHMA</a></h2>"
      ],
      "text/plain": [
       "<IPython.core.display.HTML object>"
      ]
     },
     "metadata": {},
     "output_type": "display_data"
    },
    {
     "data": {
      "text/html": [
       "<h4 style='text-align:center'> ~ <b>Khetsuriani, Nino; Kazerouni, N. Neely; Erdman, Dean D.; Lu, Xiaoyan; Redd, Stephen C.; Anderson, Larry J.; Teague, W. Gerald</b></h4>"
      ],
      "text/plain": [
       "<IPython.core.display.HTML object>"
      ]
     },
     "metadata": {},
     "output_type": "display_data"
    },
    {
     "data": {
      "text/html": [
       "<blockquote>05) or symptomatic respiratory tract viral infections (39</blockquote>"
      ],
      "text/plain": [
       "<IPython.core.display.HTML object>"
      ]
     },
     "metadata": {},
     "output_type": "display_data"
    },
    {
     "data": {
      "text/html": [
       "<p style='text-align:center'> *** </p>"
      ],
      "text/plain": [
       "<IPython.core.display.HTML object>"
      ]
     },
     "metadata": {},
     "output_type": "display_data"
    },
    {
     "data": {
      "text/html": [
       "<h2>5. Socio-economic and behavioral factors to understand the economic impact of the virus and whether there were differences. </h2>"
      ],
      "text/plain": [
       "<IPython.core.display.HTML object>"
      ]
     },
     "metadata": {},
     "output_type": "display_data"
    },
    {
     "data": {
      "text/html": [
       "<h4 style='text-align:center'>20-02-2018</h4>"
      ],
      "text/plain": [
       "<IPython.core.display.HTML object>"
      ]
     },
     "metadata": {},
     "output_type": "display_data"
    },
    {
     "data": {
      "text/html": [
       "<h3 style='text-align:center'> <a href='https://www.ncbi.nlm.nih.gov/pmc/articles/PMC5819164/'> OBESITY AND RISK OF RESPIRATORY TRACT INFECTIONS: RESULTS OF AN INFECTION-DIARY BASED COHORT STUDY</a></h2>"
      ],
      "text/plain": [
       "<IPython.core.display.HTML object>"
      ]
     },
     "metadata": {},
     "output_type": "display_data"
    },
    {
     "data": {
      "text/html": [
       "<h4 style='text-align:center'> ~ <b>Maccioni, Livia; Weber, Susanne; Elgizouli, Magdeldin; Stoehlker, Anne-Sophie; Geist, Ilona; Peter, Hans-Hartmut; Vach, Werner; Nieters, Alexandra</b></h4>"
      ],
      "text/plain": [
       "<IPython.core.display.HTML object>"
      ]
     },
     "metadata": {},
     "output_type": "display_data"
    },
    {
     "data": {
      "text/html": [
       "<blockquote> This supports arguments that the observed associations between obesity and RTI burden are due to physiological differences in the immune responsiveness between obese and non-obese individuals rather than lifestyle differences</blockquote>"
      ],
      "text/plain": [
       "<IPython.core.display.HTML object>"
      ]
     },
     "metadata": {},
     "output_type": "display_data"
    },
    {
     "data": {
      "text/html": [
       "<p style='text-align:center'> *** </p>"
      ],
      "text/plain": [
       "<IPython.core.display.HTML object>"
      ]
     },
     "metadata": {},
     "output_type": "display_data"
    },
    {
     "data": {
      "text/html": [
       "<h4 style='text-align:center'>01-12-2015</h4>"
      ],
      "text/plain": [
       "<IPython.core.display.HTML object>"
      ]
     },
     "metadata": {},
     "output_type": "display_data"
    },
    {
     "data": {
      "text/html": [
       "<h3 style='text-align:center'> <a href='http://europepmc.org/articles/pmc4875771?pdf=render'> HUMAN METAPNEUMOVIRUS INFECTION IN JORDANIAN CHILDREN: EPIDEMIOLOGY AND RISK FACTORS FOR SEVERE DISEASE</a></h2>"
      ],
      "text/plain": [
       "<IPython.core.display.HTML object>"
      ]
     },
     "metadata": {},
     "output_type": "display_data"
    },
    {
     "data": {
      "text/html": [
       "<h4 style='text-align:center'> ~ <b>Schuster, Jennifer E.; Khuri-Bulos, Najwa; Faouri, Samir; Shehabi, Asem; Johnson, Monika; Wang, Li; Fonnesbeck, Christopher; Williams, John V.; Halasa, Natasha</b></h4>"
      ],
      "text/plain": [
       "<IPython.core.display.HTML object>"
      ]
     },
     "metadata": {},
     "output_type": "display_data"
    },
    {
     "data": {
      "text/html": [
       "<blockquote> Prematurity and daycare are underrepresented factors in this population, highlighting that factors contributing to severe disease differ substantially between geographic and developing regions\n",
       " Our study highlights that the epidemiology of established risk factors are unique to specific populations</blockquote>"
      ],
      "text/plain": [
       "<IPython.core.display.HTML object>"
      ]
     },
     "metadata": {},
     "output_type": "display_data"
    },
    {
     "data": {
      "text/html": [
       "<p style='text-align:center'> *** </p>"
      ],
      "text/plain": [
       "<IPython.core.display.HTML object>"
      ]
     },
     "metadata": {},
     "output_type": "display_data"
    },
    {
     "data": {
      "text/html": [
       "<h4 style='text-align:center'>30-01-2013</h4>"
      ],
      "text/plain": [
       "<IPython.core.display.HTML object>"
      ]
     },
     "metadata": {},
     "output_type": "display_data"
    },
    {
     "data": {
      "text/html": [
       "<h3 style='text-align:center'> <a href='https://www.ncbi.nlm.nih.gov/pmc/articles/PMC7088837/'> DOES AN UPPER RESPIRATORY TRACT INFECTION DURING PREGNANCY AFFECT PERINATAL OUTCOMES? A LITERATURE REVIEW</a></h2>"
      ],
      "text/plain": [
       "<IPython.core.display.HTML object>"
      ]
     },
     "metadata": {},
     "output_type": "display_data"
    },
    {
     "data": {
      "text/html": [
       "<h4 style='text-align:center'> ~ <b>Harris, Julia; Sheiner, Eyal</b></h4>"
      ],
      "text/plain": [
       "<IPython.core.display.HTML object>"
      ]
     },
     "metadata": {},
     "output_type": "display_data"
    },
    {
     "data": {
      "text/html": [
       "<blockquote>Few data exist on the explicit topic of URTI and adverse perinatal outcomes</blockquote>"
      ],
      "text/plain": [
       "<IPython.core.display.HTML object>"
      ]
     },
     "metadata": {},
     "output_type": "display_data"
    },
    {
     "data": {
      "text/html": [
       "<p style='text-align:center'> *** </p>"
      ],
      "text/plain": [
       "<IPython.core.display.HTML object>"
      ]
     },
     "metadata": {},
     "output_type": "display_data"
    },
    {
     "data": {
      "text/html": [
       "<h4 style='text-align:center'>25-01-2013</h4>"
      ],
      "text/plain": [
       "<IPython.core.display.HTML object>"
      ]
     },
     "metadata": {},
     "output_type": "display_data"
    },
    {
     "data": {
      "text/html": [
       "<h3 style='text-align:center'> <a href='https://www.ncbi.nlm.nih.gov/pmc/articles/PMC3598993/'> SEVERE LOWER RESPIRATORY TRACT INFECTION IN INFANTS AND TODDLERS FROM A NON-AFFLUENT POPULATION: VIRAL ETIOLOGY AND CO-DETECTION AS RISK FACTORS</a></h2>"
      ],
      "text/plain": [
       "<IPython.core.display.HTML object>"
      ]
     },
     "metadata": {},
     "output_type": "display_data"
    },
    {
     "data": {
      "text/html": [
       "<h4 style='text-align:center'> ~ <b>da Silva, Emerson Rodrigues; Pitrez, Márcio Condessa Paulo; Arruda, Eurico; Mattiello, Rita; Sarria, Edgar E; de Paula, Flávia Escremim; Proença-Modena, José Luis; Delcaro, Luana Sella; Cintra, Otávio; Jones, Marcus H; Ribeiro, José Dirceu; Stein, Renato T</b></h4>"
      ],
      "text/plain": [
       "<IPython.core.display.HTML object>"
      ]
     },
     "metadata": {},
     "output_type": "display_data"
    },
    {
     "data": {
      "text/html": [
       "<blockquote> Our data also reinforce previous findings that identified RSV as the major agent associated with severe LRTIs among children in a hospital setting, in populations of low socio-economic status, where other environmental and social variables potentially play a role [16, 17] </blockquote>"
      ],
      "text/plain": [
       "<IPython.core.display.HTML object>"
      ]
     },
     "metadata": {},
     "output_type": "display_data"
    },
    {
     "data": {
      "text/html": [
       "<p style='text-align:center'> *** </p>"
      ],
      "text/plain": [
       "<IPython.core.display.HTML object>"
      ]
     },
     "metadata": {},
     "output_type": "display_data"
    },
    {
     "data": {
      "text/html": [
       "<h4 style='text-align:center'>30-09-2005</h4>"
      ],
      "text/plain": [
       "<IPython.core.display.HTML object>"
      ]
     },
     "metadata": {},
     "output_type": "display_data"
    },
    {
     "data": {
      "text/html": [
       "<h3 style='text-align:center'> <a href='https://doi.org/10.1016/j.clp.2005.04.006'> MATERNAL INFECTION AND ADVERSE FETAL AND NEONATAL OUTCOMES</a></h2>"
      ],
      "text/plain": [
       "<IPython.core.display.HTML object>"
      ]
     },
     "metadata": {},
     "output_type": "display_data"
    },
    {
     "data": {
      "text/html": [
       "<h4 style='text-align:center'> ~ <b>Goldenberg, Robert L.; Culhane, Jennifer F.; Johnson, Derek C.</b></h4>"
      ],
      "text/plain": [
       "<IPython.core.display.HTML object>"
      ]
     },
     "metadata": {},
     "output_type": "display_data"
    },
    {
     "data": {
      "text/html": [
       "<blockquote> These differences may reflect differences in study design, laboratory methodology, or population differences (race and socioeconomic status or size of study population), or case definition</blockquote>"
      ],
      "text/plain": [
       "<IPython.core.display.HTML object>"
      ]
     },
     "metadata": {},
     "output_type": "display_data"
    },
    {
     "data": {
      "text/html": [
       "<p style='text-align:center'> *** </p>"
      ],
      "text/plain": [
       "<IPython.core.display.HTML object>"
      ]
     },
     "metadata": {},
     "output_type": "display_data"
    },
    {
     "data": {
      "text/html": [
       "<h2>6. Transmission dynamics of the virus, including the basic reproductive number, incubation period, serial interval, modes of transmission and environmental factors </h2>"
      ],
      "text/plain": [
       "<IPython.core.display.HTML object>"
      ]
     },
     "metadata": {},
     "output_type": "display_data"
    },
    {
     "data": {
      "text/html": [
       "<h4 style='text-align:center'>01-02-2018</h4>"
      ],
      "text/plain": [
       "<IPython.core.display.HTML object>"
      ]
     },
     "metadata": {},
     "output_type": "display_data"
    },
    {
     "data": {
      "text/html": [
       "<h3 style='text-align:center'> <a href='https://www.ncbi.nlm.nih.gov/pmc/articles/PMC5794984/'> PREGNANCY AND INFECTION: USING DISEASE PATHOGENESIS TO INFORM VACCINE STRATEGY</a></h2>"
      ],
      "text/plain": [
       "<IPython.core.display.HTML object>"
      ]
     },
     "metadata": {},
     "output_type": "display_data"
    },
    {
     "data": {
      "text/html": [
       "<h4 style='text-align:center'> ~ <b>Vermillion, Meghan S.; Klein, Sabra L.</b></h4>"
      ],
      "text/plain": [
       "<IPython.core.display.HTML object>"
      ]
     },
     "metadata": {},
     "output_type": "display_data"
    },
    {
     "data": {
      "text/html": [
       "<blockquote> 56 More research on the pathogenesis CMV infection is needed to define immunological correlates of protection against CMV transmission during pregnancy to inform vaccine development\n",
       " Understanding the pathogenesis of infectious diseases during pregnancy should inform vaccine design and the implementation of appropriate immunization protocols that optimize protection of pregnant women, fetuses and neonates they breach the placental barrier during critical developmental periods during pregnancy\n",
       " 6 Overall, vertical transmission of these viruses is relatively uncommon, but adverse pregnancy outcomes, including spontaneous abortion and pre-term birth can still occur as an indirect consequence of maternal inflammation</blockquote>"
      ],
      "text/plain": [
       "<IPython.core.display.HTML object>"
      ]
     },
     "metadata": {},
     "output_type": "display_data"
    },
    {
     "data": {
      "text/html": [
       "<p style='text-align:center'> *** </p>"
      ],
      "text/plain": [
       "<IPython.core.display.HTML object>"
      ]
     },
     "metadata": {},
     "output_type": "display_data"
    },
    {
     "data": {
      "text/html": [
       "<h4 style='text-align:center'>31-12-2015</h4>"
      ],
      "text/plain": [
       "<IPython.core.display.HTML object>"
      ]
     },
     "metadata": {},
     "output_type": "display_data"
    },
    {
     "data": {
      "text/html": [
       "<h3 style='text-align:center'> <a href='https://doi.org/10.1016/j.clp.2015.08.002'> POSTNATAL INFECTIONS AND IMMUNOLOGY AFFECTING CHRONIC LUNG DISEASE OF PREMATURITY</a></h2>"
      ],
      "text/plain": [
       "<IPython.core.display.HTML object>"
      ]
     },
     "metadata": {},
     "output_type": "display_data"
    },
    {
     "data": {
      "text/html": [
       "<h4 style='text-align:center'> ~ <b>Pryhuber, Gloria S.</b></h4>"
      ],
      "text/plain": [
       "<IPython.core.display.HTML object>"
      ]
     },
     "metadata": {},
     "output_type": "display_data"
    },
    {
     "data": {
      "text/html": [
       "<blockquote> 130 The fetal and neonatal periods are unique immune developmental stages in which adaptive responses are highly plastic and dependent on gestational age\n",
       " 114 A number of additional studies, evaluating exome sequencing in extremes of disease, epigenomic regulation, transcriptome responses to exposures such as hyperoxia, and pathway analyses are ongoing to identify gene and gene regulatory susceptibility factors involved in pathogenesis of BPD\n",
       " Perinatal therapeutic and environmental exposures, most notably oxygen exposure and environmental tobacco smoke, have been reproducibly related to chronic respiratory morbidity, independent of mechanical ventilation and Pryhuber the diagnosis of BPD</blockquote>"
      ],
      "text/plain": [
       "<IPython.core.display.HTML object>"
      ]
     },
     "metadata": {},
     "output_type": "display_data"
    },
    {
     "data": {
      "text/html": [
       "<p style='text-align:center'> *** </p>"
      ],
      "text/plain": [
       "<IPython.core.display.HTML object>"
      ]
     },
     "metadata": {},
     "output_type": "display_data"
    },
    {
     "data": {
      "text/html": [
       "<h4 style='text-align:center'>30-09-2005</h4>"
      ],
      "text/plain": [
       "<IPython.core.display.HTML object>"
      ]
     },
     "metadata": {},
     "output_type": "display_data"
    },
    {
     "data": {
      "text/html": [
       "<h3 style='text-align:center'> <a href='https://doi.org/10.1016/j.clp.2005.04.006'> MATERNAL INFECTION AND ADVERSE FETAL AND NEONATAL OUTCOMES</a></h2>"
      ],
      "text/plain": [
       "<IPython.core.display.HTML object>"
      ]
     },
     "metadata": {},
     "output_type": "display_data"
    },
    {
     "data": {
      "text/html": [
       "<h4 style='text-align:center'> ~ <b>Goldenberg, Robert L.; Culhane, Jennifer F.; Johnson, Derek C.</b></h4>"
      ],
      "text/plain": [
       "<IPython.core.display.HTML object>"
      ]
     },
     "metadata": {},
     "output_type": "display_data"
    },
    {
     "data": {
      "text/html": [
       "<blockquote> Transmission rates to the fetus vary depending on whether the infection is primary or recurrent</blockquote>"
      ],
      "text/plain": [
       "<IPython.core.display.HTML object>"
      ]
     },
     "metadata": {},
     "output_type": "display_data"
    },
    {
     "data": {
      "text/html": [
       "<p style='text-align:center'> *** </p>"
      ],
      "text/plain": [
       "<IPython.core.display.HTML object>"
      ]
     },
     "metadata": {},
     "output_type": "display_data"
    },
    {
     "data": {
      "text/html": [
       "<h2>7. Severity of disease, including risk of fatality among symptomatic hospitalized patients, and high-risk patient groups </h2>"
      ],
      "text/plain": [
       "<IPython.core.display.HTML object>"
      ]
     },
     "metadata": {},
     "output_type": "display_data"
    },
    {
     "data": {
      "text/html": [
       "<h4 style='text-align:center'>31-08-2019</h4>"
      ],
      "text/plain": [
       "<IPython.core.display.HTML object>"
      ]
     },
     "metadata": {},
     "output_type": "display_data"
    },
    {
     "data": {
      "text/html": [
       "<h3 style='text-align:center'> <a href='https://doi.org/10.1016/j.jcv.2019.07.001'> CLINICAL MANIFESTATIONS AND OUTCOMES OF RESPIRATORY SYNCYTIAL VIRUS INFECTION IN ADULT HOSPITALIZED PATIENTS</a></h2>"
      ],
      "text/plain": [
       "<IPython.core.display.HTML object>"
      ]
     },
     "metadata": {},
     "output_type": "display_data"
    },
    {
     "data": {
      "text/html": [
       "<h4 style='text-align:center'> ~ <b>Chuaychoo, Benjamas; Ngamwongwan, Sopita; Kaewnaphan, Bualan; Athipanyasilp, Niracha; Horthongkham, Navin; Kantakamalakul, Wannee; Muangman, Nisa</b></h4>"
      ],
      "text/plain": [
       "<IPython.core.display.HTML object>"
      ]
     },
     "metadata": {},
     "output_type": "display_data"
    },
    {
     "data": {
      "text/html": [
       "<blockquote> The pre-existing coronary arterial disease (CAD) was the risk factor of overall cardiovascular complications in hospitalized adult patients with RSV infection with odds ratio 6</blockquote>"
      ],
      "text/plain": [
       "<IPython.core.display.HTML object>"
      ]
     },
     "metadata": {},
     "output_type": "display_data"
    },
    {
     "data": {
      "text/html": [
       "<p style='text-align:center'> *** </p>"
      ],
      "text/plain": [
       "<IPython.core.display.HTML object>"
      ]
     },
     "metadata": {},
     "output_type": "display_data"
    },
    {
     "data": {
      "text/html": [
       "<h4 style='text-align:center'>15-07-2019</h4>"
      ],
      "text/plain": [
       "<IPython.core.display.HTML object>"
      ]
     },
     "metadata": {},
     "output_type": "display_data"
    },
    {
     "data": {
      "text/html": [
       "<h3 style='text-align:center'> <a href='https://www.ncbi.nlm.nih.gov/pmc/articles/PMC6603263/'> SEVERE MORBIDITY AND MORTALITY ASSOCIATED WITH RESPIRATORY SYNCYTIAL VIRUS VERSUS INFLUENZA INFECTION IN HOSPITALIZED OLDER ADULTS</a></h2>"
      ],
      "text/plain": [
       "<IPython.core.display.HTML object>"
      ]
     },
     "metadata": {},
     "output_type": "display_data"
    },
    {
     "data": {
      "text/html": [
       "<h4 style='text-align:center'> ~ <b>Ackerson, Bradley; Tseng, Hung Fu; Sy, Lina S; Solano, Zendi; Slezak, Jeff; Luo, Yi; Fischetti, Christine A; Shinde, Vivek</b></h4>"
      ],
      "text/plain": [
       "<IPython.core.display.HTML object>"
      ]
     },
     "metadata": {},
     "output_type": "display_data"
    },
    {
     "data": {
      "text/html": [
       "<blockquote> While increased baseline cardiopulmonary disease in the RSV cohort likely increased their risk of pulmonary complications, including exacerbation of chronic respiratory disease and asthma, these differences were observed after adjustment for comorbidities, including baseline cardiopulmonary disease</blockquote>"
      ],
      "text/plain": [
       "<IPython.core.display.HTML object>"
      ]
     },
     "metadata": {},
     "output_type": "display_data"
    },
    {
     "data": {
      "text/html": [
       "<p style='text-align:center'> *** </p>"
      ],
      "text/plain": [
       "<IPython.core.display.HTML object>"
      ]
     },
     "metadata": {},
     "output_type": "display_data"
    },
    {
     "data": {
      "text/html": [
       "<h4 style='text-align:center'>20-12-2017</h4>"
      ],
      "text/plain": [
       "<IPython.core.display.HTML object>"
      ]
     },
     "metadata": {},
     "output_type": "display_data"
    },
    {
     "data": {
      "text/html": [
       "<h3 style='text-align:center'> <a href='https://www.ncbi.nlm.nih.gov/pmc/articles/PMC5738863/'> RISK OF MORTALITY ASSOCIATED WITH RESPIRATORY SYNCYTIAL VIRUS AND INFLUENZA INFECTION IN ADULTS</a></h2>"
      ],
      "text/plain": [
       "<IPython.core.display.HTML object>"
      ]
     },
     "metadata": {},
     "output_type": "display_data"
    },
    {
     "data": {
      "text/html": [
       "<h4 style='text-align:center'> ~ <b>Kwon, Yong Shik; Park, Sun Hyo; Kim, Mi-Ae; Kim, Hyun Jung; Park, Jae Seok; Lee, Mi Young; Lee, Choong Won; Dauti, Sonila; Choi, Won-Il</b></h4>"
      ],
      "text/plain": [
       "<IPython.core.display.HTML object>"
      ]
     },
     "metadata": {},
     "output_type": "display_data"
    },
    {
     "data": {
      "text/html": [
       "<blockquote>All-cause 20-day mortality rates were higher in RSV patients than in influenza patients (18\n",
       " RSV infection can cause significant morbidity in hospitalized patients, with mortality rates up to 12% [12] </blockquote>"
      ],
      "text/plain": [
       "<IPython.core.display.HTML object>"
      ]
     },
     "metadata": {},
     "output_type": "display_data"
    },
    {
     "data": {
      "text/html": [
       "<p style='text-align:center'> *** </p>"
      ],
      "text/plain": [
       "<IPython.core.display.HTML object>"
      ]
     },
     "metadata": {},
     "output_type": "display_data"
    },
    {
     "data": {
      "text/html": [
       "<h4 style='text-align:center'>30-04-2017</h4>"
      ],
      "text/plain": [
       "<IPython.core.display.HTML object>"
      ]
     },
     "metadata": {},
     "output_type": "display_data"
    },
    {
     "data": {
      "text/html": [
       "<h3 style='text-align:center'> <a href='https://doi.org/10.1016/j.cmi.2016.11.014'> CLINICAL CHARACTERISTICS AND OUTCOME OF RESPIRATORY SYNCYTIAL VIRUS INFECTION AMONG ADULTS HOSPITALIZED WITH INFLUENZA-LIKE ILLNESS IN FRANCE</a></h2>"
      ],
      "text/plain": [
       "<IPython.core.display.HTML object>"
      ]
     },
     "metadata": {},
     "output_type": "display_data"
    },
    {
     "data": {
      "text/html": [
       "<h4 style='text-align:center'> ~ <b>Loubet, P.; Lenzi, N.; Valette, M.; Foulongne, V.; Krivine, A.; Houhou, N.; Lagathu, G.; Rogez, S.; Alain, S.; Duval, X.; Galtier, F.; Postil, D.; Tattevin, P.; Vanhems, P.; Carrat, F.; Lina, B.; Launay, O.; Seddik, K.; Lesieur, Z.; Bonmarin, I.; Loulergue, P.; Bodilis, H.; Servera-Miyalou, M.; Sadler, I.; Momcilovic, S.; Kanaan, R.; Coolent, N.; Tan Boun, K.; Blanche, P.; Charpentier, J.; Daviaud, F.; Mongardon, N.; Bretagnol, A.; Claessens, Y.E.; Rozenberg, F.; Yazdanpanah, Y.; Burdet, C.; Harent, S.; Lachatre, M.; Rioux, C.; Bleibtreu, A.; Casalino, E.; Choquet, C.; Leleu, A.; Belghalem, K.; Colosi, L.; Ranaivoson, M.; Verry, V.; Pereira, L.; Dupeyrat, E.; Bernard, J.; Emeyrat, N.; Chavance, P.; Debit, A.; Aubier, M.; Pradere, P.; Justet, A.; Mal, H.; Brugiere, O.; Papo, T.; Goulenok, T.; Boisseau, M.; Jouenne, R.; Alexandra, J.F.; Raynaud-Simon, A.; Lilamand, M.; Cloppet-Fontaine, A.; Becheur, K.; Pelletier, A.L.; Fidouh, N.; Ralaimazava, P.; Beaumale, F.; Costa, Y.; Munier, E.; Betend, F.; Amour, S.; Loeffert, S.; Francourt, K.; Merle, C.; Letois, F.; Géraud, P.; Driss, V.; Noslier, S.; Ray, M.; Sebbane, M.; Konaté, A.; Bourdin, A.; Klouche, K.; Léglise, M.S.; Couve-Deacon, E.; Fruit, D.; Fenerol, C.; Vallejo, C.; Jouneau, S.; Lainé, F.; Thébault, E.; Fillatre, P.; Le Pape, C.; Beuzit, L.; Chau, F.; Carrat, F.; Chau, F.; Goderel, I.</b></h4>"
      ],
      "text/plain": [
       "<IPython.core.display.HTML object>"
      ]
     },
     "metadata": {},
     "output_type": "display_data"
    },
    {
     "data": {
      "text/html": [
       "<blockquote> that underlying pulmonary disease was a significant risk factor for severe RSV illness requiring hospitalization [18] </blockquote>"
      ],
      "text/plain": [
       "<IPython.core.display.HTML object>"
      ]
     },
     "metadata": {},
     "output_type": "display_data"
    },
    {
     "data": {
      "text/html": [
       "<p style='text-align:center'> *** </p>"
      ],
      "text/plain": [
       "<IPython.core.display.HTML object>"
      ]
     },
     "metadata": {},
     "output_type": "display_data"
    },
    {
     "data": {
      "text/html": [
       "<h4 style='text-align:center'>01-12-2015</h4>"
      ],
      "text/plain": [
       "<IPython.core.display.HTML object>"
      ]
     },
     "metadata": {},
     "output_type": "display_data"
    },
    {
     "data": {
      "text/html": [
       "<h3 style='text-align:center'> <a href='http://europepmc.org/articles/pmc4875771?pdf=render'> HUMAN METAPNEUMOVIRUS INFECTION IN JORDANIAN CHILDREN: EPIDEMIOLOGY AND RISK FACTORS FOR SEVERE DISEASE</a></h2>"
      ],
      "text/plain": [
       "<IPython.core.display.HTML object>"
      ]
     },
     "metadata": {},
     "output_type": "display_data"
    },
    {
     "data": {
      "text/html": [
       "<h4 style='text-align:center'> ~ <b>Schuster, Jennifer E.; Khuri-Bulos, Najwa; Faouri, Samir; Shehabi, Asem; Johnson, Monika; Wang, Li; Fonnesbeck, Christopher; Williams, John V.; Halasa, Natasha</b></h4>"
      ],
      "text/plain": [
       "<IPython.core.display.HTML object>"
      ]
     },
     "metadata": {},
     "output_type": "display_data"
    },
    {
     "data": {
      "text/html": [
       "<blockquote> Previous studies have used hospitalization, clinical severity scores, and ICU mortality as markers of disease severity</blockquote>"
      ],
      "text/plain": [
       "<IPython.core.display.HTML object>"
      ]
     },
     "metadata": {},
     "output_type": "display_data"
    },
    {
     "data": {
      "text/html": [
       "<p style='text-align:center'> *** </p>"
      ],
      "text/plain": [
       "<IPython.core.display.HTML object>"
      ]
     },
     "metadata": {},
     "output_type": "display_data"
    },
    {
     "data": {
      "text/html": [
       "<h4 style='text-align:center'>31-05-2007</h4>"
      ],
      "text/plain": [
       "<IPython.core.display.HTML object>"
      ]
     },
     "metadata": {},
     "output_type": "display_data"
    },
    {
     "data": {
      "text/html": [
       "<h3 style='text-align:center'> <a href='https://doi.org/10.1016/j.ogrm.2007.03.006'> RESPIRATORY DISEASE IN PREGNANCY</a></h2>"
      ],
      "text/plain": [
       "<IPython.core.display.HTML object>"
      ]
     },
     "metadata": {},
     "output_type": "display_data"
    },
    {
     "data": {
      "text/html": [
       "<h4 style='text-align:center'> ~ <b>Stone, Sophia; Nelson-Piercy, Catherine</b></h4>"
      ],
      "text/plain": [
       "<IPython.core.display.HTML object>"
      ]
     },
     "metadata": {},
     "output_type": "display_data"
    },
    {
     "data": {
      "text/html": [
       "<blockquote> There is an increased risk of serious maternal complications, including respiratory failure</blockquote>"
      ],
      "text/plain": [
       "<IPython.core.display.HTML object>"
      ]
     },
     "metadata": {},
     "output_type": "display_data"
    },
    {
     "data": {
      "text/html": [
       "<p style='text-align:center'> *** </p>"
      ],
      "text/plain": [
       "<IPython.core.display.HTML object>"
      ]
     },
     "metadata": {},
     "output_type": "display_data"
    },
    {
     "data": {
      "text/html": [
       "<h4 style='text-align:center'>31-07-2004</h4>"
      ],
      "text/plain": [
       "<IPython.core.display.HTML object>"
      ]
     },
     "metadata": {},
     "output_type": "display_data"
    },
    {
     "data": {
      "text/html": [
       "<h3 style='text-align:center'> <a href='https://doi.org/10.1016/j.ajog.2003.11.019'> PREGNANCY AND PERINATAL OUTCOMES OF WOMEN WITH SEVERE ACUTE RESPIRATORY SYNDROME</a></h2>"
      ],
      "text/plain": [
       "<IPython.core.display.HTML object>"
      ]
     },
     "metadata": {},
     "output_type": "display_data"
    },
    {
     "data": {
      "text/html": [
       "<h4 style='text-align:center'> ~ <b>Wong, Shell F; Chow, Kam M; Leung, Tse N; Ng, Wai F; Ng, Tak K; Shek, Chi C; Ng, Pak C; Lam, Pansy W.Y; Ho, Lau C; To, William W.K; Lai, Sik T; Yan, Wing W; Tan, Peggy Y.H</b></h4>"
      ],
      "text/plain": [
       "<IPython.core.display.HTML object>"
      ]
     },
     "metadata": {},
     "output_type": "display_data"
    },
    {
     "data": {
      "text/html": [
       "<blockquote> Given the significant maternal and perinatal morbidity and mortality of most viral pneumonia in pregnancy, SARS may impose greater risk in pregnant compared to nonpregnant individuals</blockquote>"
      ],
      "text/plain": [
       "<IPython.core.display.HTML object>"
      ]
     },
     "metadata": {},
     "output_type": "display_data"
    },
    {
     "data": {
      "text/html": [
       "<p style='text-align:center'> *** </p>"
      ],
      "text/plain": [
       "<IPython.core.display.HTML object>"
      ]
     },
     "metadata": {},
     "output_type": "display_data"
    },
    {
     "data": {
      "text/html": [
       "<h4 style='text-align:center'>30-06-2004</h4>"
      ],
      "text/plain": [
       "<IPython.core.display.HTML object>"
      ]
     },
     "metadata": {},
     "output_type": "display_data"
    },
    {
     "data": {
      "text/html": [
       "<h3 style='text-align:center'> <a href='https://doi.org/10.1016/j.curobgyn.2004.02.002'> RESPIRATORY DISEASE IN PREGNANCY</a></h2>"
      ],
      "text/plain": [
       "<IPython.core.display.HTML object>"
      ]
     },
     "metadata": {},
     "output_type": "display_data"
    },
    {
     "data": {
      "text/html": [
       "<h4 style='text-align:center'> ~ <b>Bhide, Amarnath; Shehata, Hassan A</b></h4>"
      ],
      "text/plain": [
       "<IPython.core.display.HTML object>"
      ]
     },
     "metadata": {},
     "output_type": "display_data"
    },
    {
     "data": {
      "text/html": [
       "<blockquote> There is an increased risk of serious maternal complications, including respiratory failure</blockquote>"
      ],
      "text/plain": [
       "<IPython.core.display.HTML object>"
      ]
     },
     "metadata": {},
     "output_type": "display_data"
    },
    {
     "data": {
      "text/html": [
       "<p style='text-align:center'> *** </p>"
      ],
      "text/plain": [
       "<IPython.core.display.HTML object>"
      ]
     },
     "metadata": {},
     "output_type": "display_data"
    },
    {
     "data": {
      "text/html": [
       "<h2>8. Susceptibility of populations </h2>"
      ],
      "text/plain": [
       "<IPython.core.display.HTML object>"
      ]
     },
     "metadata": {},
     "output_type": "display_data"
    },
    {
     "data": {
      "text/html": [
       "<h4 style='text-align:center'>31-03-2019</h4>"
      ],
      "text/plain": [
       "<IPython.core.display.HTML object>"
      ]
     },
     "metadata": {},
     "output_type": "display_data"
    },
    {
     "data": {
      "text/html": [
       "<h3 style='text-align:center'> <a href='https://doi.org/10.1016/j.ppedcard.2018.09.003'> EPIDEMIOLOGY OF VIRAL RESPIRATORY INFECTIONS IN CHILDREN UNDERGOING HEART SURGERY</a></h2>"
      ],
      "text/plain": [
       "<IPython.core.display.HTML object>"
      ]
     },
     "metadata": {},
     "output_type": "display_data"
    },
    {
     "data": {
      "text/html": [
       "<h4 style='text-align:center'> ~ <b>Silva, Thalis Henrique da; Pinho, João Renato Rebello; Silva Junior, Tarcísio José da; Carmona, Fabio</b></h4>"
      ],
      "text/plain": [
       "<IPython.core.display.HTML object>"
      ]
     },
     "metadata": {},
     "output_type": "display_data"
    },
    {
     "data": {
      "text/html": [
       "<blockquote> studied incidence and etiology of viral infections among hospitalized children with VRI symptoms</blockquote>"
      ],
      "text/plain": [
       "<IPython.core.display.HTML object>"
      ]
     },
     "metadata": {},
     "output_type": "display_data"
    },
    {
     "data": {
      "text/html": [
       "<p style='text-align:center'> *** </p>"
      ],
      "text/plain": [
       "<IPython.core.display.HTML object>"
      ]
     },
     "metadata": {},
     "output_type": "display_data"
    },
    {
     "data": {
      "text/html": [
       "<h4 style='text-align:center'>01-02-2018</h4>"
      ],
      "text/plain": [
       "<IPython.core.display.HTML object>"
      ]
     },
     "metadata": {},
     "output_type": "display_data"
    },
    {
     "data": {
      "text/html": [
       "<h3 style='text-align:center'> <a href='https://www.ncbi.nlm.nih.gov/pmc/articles/PMC5794984/'> PREGNANCY AND INFECTION: USING DISEASE PATHOGENESIS TO INFORM VACCINE STRATEGY</a></h2>"
      ],
      "text/plain": [
       "<IPython.core.display.HTML object>"
      ]
     },
     "metadata": {},
     "output_type": "display_data"
    },
    {
     "data": {
      "text/html": [
       "<h4 style='text-align:center'> ~ <b>Vermillion, Meghan S.; Klein, Sabra L.</b></h4>"
      ],
      "text/plain": [
       "<IPython.core.display.HTML object>"
      ]
     },
     "metadata": {},
     "output_type": "display_data"
    },
    {
     "data": {
      "text/html": [
       "<blockquote>Vaccination significantly reduces the health burden of many infectious disease, especially in high-risk populations</blockquote>"
      ],
      "text/plain": [
       "<IPython.core.display.HTML object>"
      ]
     },
     "metadata": {},
     "output_type": "display_data"
    },
    {
     "data": {
      "text/html": [
       "<p style='text-align:center'> *** </p>"
      ],
      "text/plain": [
       "<IPython.core.display.HTML object>"
      ]
     },
     "metadata": {},
     "output_type": "display_data"
    },
    {
     "data": {
      "text/html": [
       "<h4 style='text-align:center'>03-02-2017</h4>"
      ],
      "text/plain": [
       "<IPython.core.display.HTML object>"
      ]
     },
     "metadata": {},
     "output_type": "display_data"
    },
    {
     "data": {
      "text/html": [
       "<h3 style='text-align:center'> <a href='https://www.ncbi.nlm.nih.gov/pmc/articles/PMC5414085/'> HOSPITAL-ACQUIRED RESPIRATORY VIRAL INFECTIONS: INCIDENCE, MORBIDITY, AND MORTALITY IN PEDIATRIC AND ADULT PATIENTS</a></h2>"
      ],
      "text/plain": [
       "<IPython.core.display.HTML object>"
      ]
     },
     "metadata": {},
     "output_type": "display_data"
    },
    {
     "data": {
      "text/html": [
       "<h4 style='text-align:center'> ~ <b>Chow, Eric J.; Mermel, Leonard A.</b></h4>"
      ],
      "text/plain": [
       "<IPython.core.display.HTML object>"
      ]
     },
     "metadata": {},
     "output_type": "display_data"
    },
    {
     "data": {
      "text/html": [
       "<blockquote> These publications suggest that nosocomial respiratory viral infections can lead to significant morbidity and mortality</blockquote>"
      ],
      "text/plain": [
       "<IPython.core.display.HTML object>"
      ]
     },
     "metadata": {},
     "output_type": "display_data"
    },
    {
     "data": {
      "text/html": [
       "<p style='text-align:center'> *** </p>"
      ],
      "text/plain": [
       "<IPython.core.display.HTML object>"
      ]
     },
     "metadata": {},
     "output_type": "display_data"
    },
    {
     "data": {
      "text/html": [
       "<h4 style='text-align:center'>31-12-2015</h4>"
      ],
      "text/plain": [
       "<IPython.core.display.HTML object>"
      ]
     },
     "metadata": {},
     "output_type": "display_data"
    },
    {
     "data": {
      "text/html": [
       "<h3 style='text-align:center'> <a href='https://doi.org/10.1016/j.clp.2015.08.002'> POSTNATAL INFECTIONS AND IMMUNOLOGY AFFECTING CHRONIC LUNG DISEASE OF PREMATURITY</a></h2>"
      ],
      "text/plain": [
       "<IPython.core.display.HTML object>"
      ]
     },
     "metadata": {},
     "output_type": "display_data"
    },
    {
     "data": {
      "text/html": [
       "<h4 style='text-align:center'> ~ <b>Pryhuber, Gloria S.</b></h4>"
      ],
      "text/plain": [
       "<IPython.core.display.HTML object>"
      ]
     },
     "metadata": {},
     "output_type": "display_data"
    },
    {
     "data": {
      "text/html": [
       "<blockquote> 111 In infants, twin studies suggest significant genetic susceptibility to BPD\n",
       " 114 A number of additional studies, evaluating exome sequencing in extremes of disease, epigenomic regulation, transcriptome responses to exposures such as hyperoxia, and pathway analyses are ongoing to identify gene and gene regulatory susceptibility factors involved in pathogenesis of BPD</blockquote>"
      ],
      "text/plain": [
       "<IPython.core.display.HTML object>"
      ]
     },
     "metadata": {},
     "output_type": "display_data"
    },
    {
     "data": {
      "text/html": [
       "<p style='text-align:center'> *** </p>"
      ],
      "text/plain": [
       "<IPython.core.display.HTML object>"
      ]
     },
     "metadata": {},
     "output_type": "display_data"
    },
    {
     "data": {
      "text/html": [
       "<h4 style='text-align:center'>01-12-2015</h4>"
      ],
      "text/plain": [
       "<IPython.core.display.HTML object>"
      ]
     },
     "metadata": {},
     "output_type": "display_data"
    },
    {
     "data": {
      "text/html": [
       "<h3 style='text-align:center'> <a href='http://europepmc.org/articles/pmc4875771?pdf=render'> HUMAN METAPNEUMOVIRUS INFECTION IN JORDANIAN CHILDREN: EPIDEMIOLOGY AND RISK FACTORS FOR SEVERE DISEASE</a></h2>"
      ],
      "text/plain": [
       "<IPython.core.display.HTML object>"
      ]
     },
     "metadata": {},
     "output_type": "display_data"
    },
    {
     "data": {
      "text/html": [
       "<h4 style='text-align:center'> ~ <b>Schuster, Jennifer E.; Khuri-Bulos, Najwa; Faouri, Samir; Shehabi, Asem; Johnson, Monika; Wang, Li; Fonnesbeck, Christopher; Williams, John V.; Halasa, Natasha</b></h4>"
      ],
      "text/plain": [
       "<IPython.core.display.HTML object>"
      ]
     },
     "metadata": {},
     "output_type": "display_data"
    },
    {
     "data": {
      "text/html": [
       "<blockquote> Prematurity and daycare are underrepresented factors in this population, highlighting that factors contributing to severe disease differ substantially between geographic and developing regions</blockquote>"
      ],
      "text/plain": [
       "<IPython.core.display.HTML object>"
      ]
     },
     "metadata": {},
     "output_type": "display_data"
    },
    {
     "data": {
      "text/html": [
       "<p style='text-align:center'> *** </p>"
      ],
      "text/plain": [
       "<IPython.core.display.HTML object>"
      ]
     },
     "metadata": {},
     "output_type": "display_data"
    },
    {
     "data": {
      "text/html": [
       "<h4 style='text-align:center'>31-08-2010</h4>"
      ],
      "text/plain": [
       "<IPython.core.display.HTML object>"
      ]
     },
     "metadata": {},
     "output_type": "display_data"
    },
    {
     "data": {
      "text/html": [
       "<h3 style='text-align:center'> <a href='https://doi.org/10.1016/j.jcv.2010.05.007'> CORRELATION OF VIRAL LOAD OF RESPIRATORY PATHOGENS AND CO-INFECTIONS WITH DISEASE SEVERITY IN CHILDREN HOSPITALIZED FOR LOWER RESPIRATORY TRACT INFECTION</a></h2>"
      ],
      "text/plain": [
       "<IPython.core.display.HTML object>"
      ]
     },
     "metadata": {},
     "output_type": "display_data"
    },
    {
     "data": {
      "text/html": [
       "<h4 style='text-align:center'> ~ <b>Franz, Anna; Adams, Ortwin; Willems, Rhea; Bonzel, Linda; Neuhausen, Nicole; Schweizer-Krantz, Susanne; Ruggeberg, Jens U.; Willers, Reinhart; Henrich, Birgit; Schroten, Horst; Tenenbaum, Tobias</b></h4>"
      ],
      "text/plain": [
       "<IPython.core.display.HTML object>"
      ]
     },
     "metadata": {},
     "output_type": "display_data"
    },
    {
     "data": {
      "text/html": [
       "<blockquote> influenzae (NTHi) and Streptococcus pneumoniae adhering to human respiratory epithelial cells have been detected in RSV infections in vitro</blockquote>"
      ],
      "text/plain": [
       "<IPython.core.display.HTML object>"
      ]
     },
     "metadata": {},
     "output_type": "display_data"
    },
    {
     "data": {
      "text/html": [
       "<p style='text-align:center'> *** </p>"
      ],
      "text/plain": [
       "<IPython.core.display.HTML object>"
      ]
     },
     "metadata": {},
     "output_type": "display_data"
    },
    {
     "data": {
      "text/html": [
       "<h4 style='text-align:center'>31-05-2007</h4>"
      ],
      "text/plain": [
       "<IPython.core.display.HTML object>"
      ]
     },
     "metadata": {},
     "output_type": "display_data"
    },
    {
     "data": {
      "text/html": [
       "<h3 style='text-align:center'> <a href='https://doi.org/10.1016/j.ogrm.2007.03.006'> RESPIRATORY DISEASE IN PREGNANCY</a></h2>"
      ],
      "text/plain": [
       "<IPython.core.display.HTML object>"
      ]
     },
     "metadata": {},
     "output_type": "display_data"
    },
    {
     "data": {
      "text/html": [
       "<h4 style='text-align:center'> ~ <b>Stone, Sophia; Nelson-Piercy, Catherine</b></h4>"
      ],
      "text/plain": [
       "<IPython.core.display.HTML object>"
      ]
     },
     "metadata": {},
     "output_type": "display_data"
    },
    {
     "data": {
      "text/html": [
       "<blockquote> Current antiviral and respiratory therapies can reduce maternal morbidity and mortality</blockquote>"
      ],
      "text/plain": [
       "<IPython.core.display.HTML object>"
      ]
     },
     "metadata": {},
     "output_type": "display_data"
    },
    {
     "data": {
      "text/html": [
       "<p style='text-align:center'> *** </p>"
      ],
      "text/plain": [
       "<IPython.core.display.HTML object>"
      ]
     },
     "metadata": {},
     "output_type": "display_data"
    },
    {
     "data": {
      "text/html": [
       "<h4 style='text-align:center'>30-06-2004</h4>"
      ],
      "text/plain": [
       "<IPython.core.display.HTML object>"
      ]
     },
     "metadata": {},
     "output_type": "display_data"
    },
    {
     "data": {
      "text/html": [
       "<h3 style='text-align:center'> <a href='https://doi.org/10.1016/j.curobgyn.2004.02.002'> RESPIRATORY DISEASE IN PREGNANCY</a></h2>"
      ],
      "text/plain": [
       "<IPython.core.display.HTML object>"
      ]
     },
     "metadata": {},
     "output_type": "display_data"
    },
    {
     "data": {
      "text/html": [
       "<h4 style='text-align:center'> ~ <b>Bhide, Amarnath; Shehata, Hassan A</b></h4>"
      ],
      "text/plain": [
       "<IPython.core.display.HTML object>"
      ]
     },
     "metadata": {},
     "output_type": "display_data"
    },
    {
     "data": {
      "text/html": [
       "<blockquote> Current antiviral and respiratory therapies can reduce maternal morbidity and mortality</blockquote>"
      ],
      "text/plain": [
       "<IPython.core.display.HTML object>"
      ]
     },
     "metadata": {},
     "output_type": "display_data"
    },
    {
     "data": {
      "text/html": [
       "<p style='text-align:center'> *** </p>"
      ],
      "text/plain": [
       "<IPython.core.display.HTML object>"
      ]
     },
     "metadata": {},
     "output_type": "display_data"
    },
    {
     "data": {
      "text/html": [
       "<h2>9. Public health mitigation measures that could be effective for control </h2>"
      ],
      "text/plain": [
       "<IPython.core.display.HTML object>"
      ]
     },
     "metadata": {},
     "output_type": "display_data"
    },
    {
     "data": {
      "text/html": [
       "<h4 style='text-align:center'>31-12-2019</h4>"
      ],
      "text/plain": [
       "<IPython.core.display.HTML object>"
      ]
     },
     "metadata": {},
     "output_type": "display_data"
    },
    {
     "data": {
      "text/html": [
       "<h3 style='text-align:center'> <a href='https://doi.org/10.1016/j.cmi.2019.04.012'> RESPIRATORY VIRUS INFECTION AMONG HOSPITALIZED ADULT PATIENTS WITH OR WITHOUT CLINICALLY APPARENT RESPIRATORY INFECTION: A PROSPECTIVE COHORT STUDY</a></h2>"
      ],
      "text/plain": [
       "<IPython.core.display.HTML object>"
      ]
     },
     "metadata": {},
     "output_type": "display_data"
    },
    {
     "data": {
      "text/html": [
       "<h4 style='text-align:center'> ~ <b>To, K.K.W.; Chan, K.-H.; Ho, J.; Pang, P.K.P.; Ho, D.T.Y.; Chang, A.C.H.; Seng, C.W.; Yip, C.C.Y.; Cheng, V.C.C.; Hung, I.F.N.; Yuen, K.-Y.</b></h4>"
      ],
      "text/plain": [
       "<IPython.core.display.HTML object>"
      ]
     },
     "metadata": {},
     "output_type": "display_data"
    },
    {
     "data": {
      "text/html": [
       "<blockquote> Accurate data on the burden of respiratory virus infection is critical for patient management, infection control measures and public health policies</blockquote>"
      ],
      "text/plain": [
       "<IPython.core.display.HTML object>"
      ]
     },
     "metadata": {},
     "output_type": "display_data"
    },
    {
     "data": {
      "text/html": [
       "<p style='text-align:center'> *** </p>"
      ],
      "text/plain": [
       "<IPython.core.display.HTML object>"
      ]
     },
     "metadata": {},
     "output_type": "display_data"
    },
    {
     "data": {
      "text/html": [
       "<h4 style='text-align:center'>03-02-2017</h4>"
      ],
      "text/plain": [
       "<IPython.core.display.HTML object>"
      ]
     },
     "metadata": {},
     "output_type": "display_data"
    },
    {
     "data": {
      "text/html": [
       "<h3 style='text-align:center'> <a href='https://www.ncbi.nlm.nih.gov/pmc/articles/PMC5414085/'> HOSPITAL-ACQUIRED RESPIRATORY VIRAL INFECTIONS: INCIDENCE, MORBIDITY, AND MORTALITY IN PEDIATRIC AND ADULT PATIENTS</a></h2>"
      ],
      "text/plain": [
       "<IPython.core.display.HTML object>"
      ]
     },
     "metadata": {},
     "output_type": "display_data"
    },
    {
     "data": {
      "text/html": [
       "<h4 style='text-align:center'> ~ <b>Chow, Eric J.; Mermel, Leonard A.</b></h4>"
      ],
      "text/plain": [
       "<IPython.core.display.HTML object>"
      ]
     },
     "metadata": {},
     "output_type": "display_data"
    },
    {
     "data": {
      "text/html": [
       "<blockquote> Our hospital occupational health policy followed the Centers for Disease Control and Prevention guidelines for mitigating risk of influenza transmission from infected healthcare workers to patients that uses fever as a determining factor for which healthcare workers should not have patient contact [16] </blockquote>"
      ],
      "text/plain": [
       "<IPython.core.display.HTML object>"
      ]
     },
     "metadata": {},
     "output_type": "display_data"
    },
    {
     "data": {
      "text/html": [
       "<p style='text-align:center'> *** </p>"
      ],
      "text/plain": [
       "<IPython.core.display.HTML object>"
      ]
     },
     "metadata": {},
     "output_type": "display_data"
    },
    {
     "data": {
      "text/html": [
       "<h4 style='text-align:center'>31-03-2016</h4>"
      ],
      "text/plain": [
       "<IPython.core.display.HTML object>"
      ]
     },
     "metadata": {},
     "output_type": "display_data"
    },
    {
     "data": {
      "text/html": [
       "<h3 style='text-align:center'> <a href='https://www.ncbi.nlm.nih.gov/pmc/articles/PMC4816499/'> CLINICAL PRESENTATION AND BIRTH OUTCOMES ASSOCIATED WITH RESPIRATORY SYNCYTIAL VIRUS INFECTION IN PREGNANCY</a></h2>"
      ],
      "text/plain": [
       "<IPython.core.display.HTML object>"
      ]
     },
     "metadata": {},
     "output_type": "display_data"
    },
    {
     "data": {
      "text/html": [
       "<h4 style='text-align:center'> ~ <b>Chu, Helen Y.; Katz, Joanne; Tielsch, James; Khatry, Subarna K.; Shrestha, Laxman; LeClerq, Steven C.; Magaret, Amalia; Kuypers, Jane; Steinhoff, Mark C.; Englund, Janet A.</b></h4>"
      ],
      "text/plain": [
       "<IPython.core.display.HTML object>"
      ]
     },
     "metadata": {},
     "output_type": "display_data"
    },
    {
     "data": {
      "text/html": [
       "<blockquote> These data will inform prevention and therapeutic strategies against RSV in resource-limited settings</blockquote>"
      ],
      "text/plain": [
       "<IPython.core.display.HTML object>"
      ]
     },
     "metadata": {},
     "output_type": "display_data"
    },
    {
     "data": {
      "text/html": [
       "<p style='text-align:center'> *** </p>"
      ],
      "text/plain": [
       "<IPython.core.display.HTML object>"
      ]
     },
     "metadata": {},
     "output_type": "display_data"
    },
    {
     "data": {
      "text/html": [
       "<h4 style='text-align:center'>17-11-2015</h4>"
      ],
      "text/plain": [
       "<IPython.core.display.HTML object>"
      ]
     },
     "metadata": {},
     "output_type": "display_data"
    },
    {
     "data": {
      "text/html": [
       "<h3 style='text-align:center'> <a href='https://www.ncbi.nlm.nih.gov/pmc/articles/PMC4648489/'> VIRAL INFECTION IN ADULTS WITH SEVERE ACUTE RESPIRATORY INFECTION IN COLOMBIA</a></h2>"
      ],
      "text/plain": [
       "<IPython.core.display.HTML object>"
      ]
     },
     "metadata": {},
     "output_type": "display_data"
    },
    {
     "data": {
      "text/html": [
       "<h4 style='text-align:center'> ~ <b>Remolina, Yuly Andrea; Ulloa, María Mercedes; Vargas, Hernán; Díaz, Liliana; Gómez, Sandra Liliana; Saavedra, Alfredo; Sánchez, Edgar; Cortés, Jorge Alberto</b></h4>"
      ],
      "text/plain": [
       "<IPython.core.display.HTML object>"
      ]
     },
     "metadata": {},
     "output_type": "display_data"
    },
    {
     "data": {
      "text/html": [
       "<blockquote>Due to its implications for Public Health, the efforts in reinforcing and improving the epidemiological surveillance of respiratory infections have increased</blockquote>"
      ],
      "text/plain": [
       "<IPython.core.display.HTML object>"
      ]
     },
     "metadata": {},
     "output_type": "display_data"
    },
    {
     "data": {
      "text/html": [
       "<p style='text-align:center'> *** </p>"
      ],
      "text/plain": [
       "<IPython.core.display.HTML object>"
      ]
     },
     "metadata": {},
     "output_type": "display_data"
    },
    {
     "data": {
      "text/html": [
       "<h4 style='text-align:center'>31-05-2007</h4>"
      ],
      "text/plain": [
       "<IPython.core.display.HTML object>"
      ]
     },
     "metadata": {},
     "output_type": "display_data"
    },
    {
     "data": {
      "text/html": [
       "<h3 style='text-align:center'> <a href='https://doi.org/10.1016/j.ogrm.2007.03.006'> RESPIRATORY DISEASE IN PREGNANCY</a></h2>"
      ],
      "text/plain": [
       "<IPython.core.display.HTML object>"
      ]
     },
     "metadata": {},
     "output_type": "display_data"
    },
    {
     "data": {
      "text/html": [
       "<h4 style='text-align:center'> ~ <b>Stone, Sophia; Nelson-Piercy, Catherine</b></h4>"
      ],
      "text/plain": [
       "<IPython.core.display.HTML object>"
      ]
     },
     "metadata": {},
     "output_type": "display_data"
    },
    {
     "data": {
      "text/html": [
       "<blockquote>In order to achieve a successful outcome, multidisciplinary management aims to ensure adequate maternal nutrition, control of pulmonary infection and avoidance of prolonged hypoxia</blockquote>"
      ],
      "text/plain": [
       "<IPython.core.display.HTML object>"
      ]
     },
     "metadata": {},
     "output_type": "display_data"
    },
    {
     "data": {
      "text/html": [
       "<p style='text-align:center'> *** </p>"
      ],
      "text/plain": [
       "<IPython.core.display.HTML object>"
      ]
     },
     "metadata": {},
     "output_type": "display_data"
    },
    {
     "data": {
      "text/html": [
       "<h4 style='text-align:center'>30-06-2004</h4>"
      ],
      "text/plain": [
       "<IPython.core.display.HTML object>"
      ]
     },
     "metadata": {},
     "output_type": "display_data"
    },
    {
     "data": {
      "text/html": [
       "<h3 style='text-align:center'> <a href='https://doi.org/10.1016/j.curobgyn.2004.02.002'> RESPIRATORY DISEASE IN PREGNANCY</a></h2>"
      ],
      "text/plain": [
       "<IPython.core.display.HTML object>"
      ]
     },
     "metadata": {},
     "output_type": "display_data"
    },
    {
     "data": {
      "text/html": [
       "<h4 style='text-align:center'> ~ <b>Bhide, Amarnath; Shehata, Hassan A</b></h4>"
      ],
      "text/plain": [
       "<IPython.core.display.HTML object>"
      ]
     },
     "metadata": {},
     "output_type": "display_data"
    },
    {
     "data": {
      "text/html": [
       "<blockquote>In order to achieve a successful outcome, multidisciplinary management aims to ensure adequate maternal nutrition, control of pulmonary infection and avoidance of prolonged hypoxia</blockquote>"
      ],
      "text/plain": [
       "<IPython.core.display.HTML object>"
      ]
     },
     "metadata": {},
     "output_type": "display_data"
    },
    {
     "data": {
      "text/html": [
       "<p style='text-align:center'> *** </p>"
      ],
      "text/plain": [
       "<IPython.core.display.HTML object>"
      ]
     },
     "metadata": {},
     "output_type": "display_data"
    }
   ],
   "source": [
    "tags = [\n",
    "\"Data on potential risks factors\",\n",
    "\"Smoking, pre-existing pulmonary disease\",\n",
    "\"Co-infections (determine whether co-existing respiratory/viral infections make the virus more transmissible or virulent) and other co-morbidities\",\n",
    "\"Neonates and pregnant women\",\n",
    "\"Socio-economic and behavioral factors to understand the economic impact of the virus and whether there were differences.\",\n",
    "\"Transmission dynamics of the virus, including the basic reproductive number, incubation period, serial interval, modes of transmission and environmental factors\",\n",
    "\"Severity of disease, including risk of fatality among symptomatic hospitalized patients, and high-risk patient groups\",\n",
    "\"Susceptibility of populations\",\n",
    "\"Public health mitigation measures that could be effective for control\"\n",
    "]\n",
    "\n",
    "read_data(tags, 2)"
   ]
  },
  {
   "cell_type": "code",
   "execution_count": 67,
   "metadata": {},
   "outputs": [
    {
     "data": {
      "text/html": [
       "<h1 style='font-size:30px'>What do we know about virus genetics, origin, and evolution?</h1> </br>"
      ],
      "text/plain": [
       "<IPython.core.display.HTML object>"
      ]
     },
     "metadata": {},
     "output_type": "display_data"
    },
    {
     "data": {
      "text/html": [
       "<h2>1. Real-time tracking of whole genomes and a mechanism for coordinating the rapid dissemination of that information to inform the development of diagnostics and therapeutics and to track variations of the virus over time. </h2>"
      ],
      "text/plain": [
       "<IPython.core.display.HTML object>"
      ]
     },
     "metadata": {},
     "output_type": "display_data"
    },
    {
     "data": {
      "text/html": [
       "<h4 style='text-align:center'>31-12-2018</h4>"
      ],
      "text/plain": [
       "<IPython.core.display.HTML object>"
      ]
     },
     "metadata": {},
     "output_type": "display_data"
    },
    {
     "data": {
      "text/html": [
       "<h3 style='text-align:center'> <a href='https://doi.org/10.1016/j.meegid.2017.09.028'> GENETIC SUSCEPTIBILITY TO INFECTIOUS DISEASES: CURRENT STATUS AND FUTURE PERSPECTIVES FROM GENOME-WIDE APPROACHES</a></h2>"
      ],
      "text/plain": [
       "<IPython.core.display.HTML object>"
      ]
     },
     "metadata": {},
     "output_type": "display_data"
    },
    {
     "data": {
      "text/html": [
       "<h4 style='text-align:center'> ~ <b>Mozzi, Alessandra; Pontremoli, Chiara; Sironi, Manuela</b></h4>"
      ],
      "text/plain": [
       "<IPython.core.display.HTML object>"
      ]
     },
     "metadata": {},
     "output_type": "display_data"
    },
    {
     "data": {
      "text/html": [
       "<blockquote> Thus, these data highlight the ability of GWASs to pinpoint molecular disease pathways</blockquote>"
      ],
      "text/plain": [
       "<IPython.core.display.HTML object>"
      ]
     },
     "metadata": {},
     "output_type": "display_data"
    },
    {
     "data": {
      "text/html": [
       "<p style='text-align:center'> *** </p>"
      ],
      "text/plain": [
       "<IPython.core.display.HTML object>"
      ]
     },
     "metadata": {},
     "output_type": "display_data"
    },
    {
     "data": {
      "text/html": [
       "<h4 style='text-align:center'>04-07-2018</h4>"
      ],
      "text/plain": [
       "<IPython.core.display.HTML object>"
      ]
     },
     "metadata": {},
     "output_type": "display_data"
    },
    {
     "data": {
      "text/html": [
       "<h3 style='text-align:center'> <a href='https://www.ncbi.nlm.nih.gov/pmc/articles/PMC6145280/'> ORIGIN, GENETIC DIVERSITY, AND EVOLUTIONARY DYNAMICS OF NOVEL PORCINE CIRCOVIRUS 3</a></h2>"
      ],
      "text/plain": [
       "<IPython.core.display.HTML object>"
      ]
     },
     "metadata": {},
     "output_type": "display_data"
    },
    {
     "data": {
      "text/html": [
       "<h4 style='text-align:center'> ~ <b>Li, Gairu; He, Wanting; Zhu, Henan; Bi, Yuhai; Wang, Ruyi; Xing, Gang; Zhang, Cheng; Zhou, Jiyong; Yuen, Kwok‐Yung; Gao, George F.; Su, Shuo</b></h4>"
      ],
      "text/plain": [
       "<IPython.core.display.HTML object>"
      ]
     },
     "metadata": {},
     "output_type": "display_data"
    },
    {
     "data": {
      "text/html": [
       "<blockquote>Continuous epidemiological surveillance of emerging viruses is crucial to control widespread</blockquote>"
      ],
      "text/plain": [
       "<IPython.core.display.HTML object>"
      ]
     },
     "metadata": {},
     "output_type": "display_data"
    },
    {
     "data": {
      "text/html": [
       "<p style='text-align:center'> *** </p>"
      ],
      "text/plain": [
       "<IPython.core.display.HTML object>"
      ]
     },
     "metadata": {},
     "output_type": "display_data"
    },
    {
     "data": {
      "text/html": [
       "<h4 style='text-align:center'>18-08-2015</h4>"
      ],
      "text/plain": [
       "<IPython.core.display.HTML object>"
      ]
     },
     "metadata": {},
     "output_type": "display_data"
    },
    {
     "data": {
      "text/html": [
       "<h3 style='text-align:center'> <a href='https://www.ncbi.nlm.nih.gov/pmc/articles/PMC4540470/'> COMPARATIVE ANALYSIS OF TRANSCRIPTIONAL PROFILES OF ADULT SCHISTOSOMA JAPONICUM FROM DIFFERENT LABORATORY ANIMALS AND THE NATURAL HOST, WATER BUFFALO</a></h2>"
      ],
      "text/plain": [
       "<IPython.core.display.HTML object>"
      ]
     },
     "metadata": {},
     "output_type": "display_data"
    },
    {
     "data": {
      "text/html": [
       "<h4 style='text-align:center'> ~ <b>Liu, Shuai; Zhou, Xiaosu; Piao, Xianyu; Wu, Chuang; Hou, Nan; Chen, Qijun</b></h4>"
      ],
      "text/plain": [
       "<IPython.core.display.HTML object>"
      ]
     },
     "metadata": {},
     "output_type": "display_data"
    },
    {
     "data": {
      "text/html": [
       "<blockquote>Comparative genomics analysis of well characterized signaling pathways between schistosome and mammalian host indicates that schistosome genome encodes various growth factors, receptors and other critical components to regulate numerous cellular processes during tissue development and organogenesis</blockquote>"
      ],
      "text/plain": [
       "<IPython.core.display.HTML object>"
      ]
     },
     "metadata": {},
     "output_type": "display_data"
    },
    {
     "data": {
      "text/html": [
       "<p style='text-align:center'> *** </p>"
      ],
      "text/plain": [
       "<IPython.core.display.HTML object>"
      ]
     },
     "metadata": {},
     "output_type": "display_data"
    },
    {
     "data": {
      "text/html": [
       "<h4 style='text-align:center'>29-04-2014</h4>"
      ],
      "text/plain": [
       "<IPython.core.display.HTML object>"
      ]
     },
     "metadata": {},
     "output_type": "display_data"
    },
    {
     "data": {
      "text/html": [
       "<h3 style='text-align:center'> <a href='http://europepmc.org/articles/pmc4912034?pdf=render'> NATURAL SELECTION AND INFECTIOUS DISEASE IN HUMAN POPULATIONS</a></h2>"
      ],
      "text/plain": [
       "<IPython.core.display.HTML object>"
      ]
     },
     "metadata": {},
     "output_type": "display_data"
    },
    {
     "data": {
      "text/html": [
       "<h4 style='text-align:center'> ~ <b>Karlsson, Elinor K.; Kwiatkowski, Dominic P.; Sabeti, Pardis C.</b></h4>"
      ],
      "text/plain": [
       "<IPython.core.display.HTML object>"
      ]
     },
     "metadata": {},
     "output_type": "display_data"
    },
    {
     "data": {
      "text/html": [
       "<blockquote> Incorporating ancient history into disease susceptibility studies will identify functional variants and elucidate cellular mechanisms, and facilitate the development of new therapies for a surprisingly wide range of human illnesses</blockquote>"
      ],
      "text/plain": [
       "<IPython.core.display.HTML object>"
      ]
     },
     "metadata": {},
     "output_type": "display_data"
    },
    {
     "data": {
      "text/html": [
       "<p style='text-align:center'> *** </p>"
      ],
      "text/plain": [
       "<IPython.core.display.HTML object>"
      ]
     },
     "metadata": {},
     "output_type": "display_data"
    },
    {
     "data": {
      "text/html": [
       "<h4 style='text-align:center'>01-02-2011</h4>"
      ],
      "text/plain": [
       "<IPython.core.display.HTML object>"
      ]
     },
     "metadata": {},
     "output_type": "display_data"
    },
    {
     "data": {
      "text/html": [
       "<h3 style='text-align:center'> <a href='https://www.ncbi.nlm.nih.gov/pmc/articles/PMC3034460/'> A SYSTEMS BIOLOGY APPROACH TO INFECTIOUS DISEASE RESEARCH: INNOVATING THE PATHOGEN-HOST RESEARCH PARADIGM</a></h2>"
      ],
      "text/plain": [
       "<IPython.core.display.HTML object>"
      ]
     },
     "metadata": {},
     "output_type": "display_data"
    },
    {
     "data": {
      "text/html": [
       "<h4 style='text-align:center'> ~ <b>Aderem, Alan; Adkins, Joshua N.; Ansong, Charles; Galagan, James; Kaiser, Shari; Korth, Marcus J.; Law, G. Lynn; McDermott, Jason G.; Proll, Sean C.; Rosenberger, Carrie; Schoolnik, Gary; Katze, Michael G.</b></h4>"
      ],
      "text/plain": [
       "<IPython.core.display.HTML object>"
      ]
     },
     "metadata": {},
     "output_type": "display_data"
    },
    {
     "data": {
      "text/html": [
       "<blockquote> Proteomic technologies and accompanying informatics pipelines are evolving rapidly, with throughput and sensitivity approaching that of microarrays\n",
       " Computational integration of the transcriptomic, proteomic, and lipidomic data into an appropriate network model will illuminate the detailed signatures of extreme virulence and identify the molecular mechanisms underlying these responses\n",
       " A comprehensive model of the influenza virus-host interaction, aided significantly by recent advances in sequencing technologies and advances in viral genetic manipulation, will serve to calibrate the global public health response to a newly emergent strain as well as uncover novel targets for therapeutic intervention\n",
       " Understanding the regulatory and metabolic programs required for infection will enable the development of effective therapeutic treatments in the future</blockquote>"
      ],
      "text/plain": [
       "<IPython.core.display.HTML object>"
      ]
     },
     "metadata": {},
     "output_type": "display_data"
    },
    {
     "data": {
      "text/html": [
       "<p style='text-align:center'> *** </p>"
      ],
      "text/plain": [
       "<IPython.core.display.HTML object>"
      ]
     },
     "metadata": {},
     "output_type": "display_data"
    },
    {
     "data": {
      "text/html": [
       "<h4 style='text-align:center'>01-05-2008</h4>"
      ],
      "text/plain": [
       "<IPython.core.display.HTML object>"
      ]
     },
     "metadata": {},
     "output_type": "display_data"
    },
    {
     "data": {
      "text/html": [
       "<h3 style='text-align:center'> <a href='http://europepmc.org/articles/pmc2774529?pdf=render'> EVOLUTION OF FELINE IMMUNODEFICIENCY VIRUS IN FELIDAE: IMPLICATIONS FOR HUMAN HEALTH AND WILDLIFE ECOLOGY</a></h2>"
      ],
      "text/plain": [
       "<IPython.core.display.HTML object>"
      ]
     },
     "metadata": {},
     "output_type": "display_data"
    },
    {
     "data": {
      "text/html": [
       "<h4 style='text-align:center'> ~ <b>Pecon-Slattery, Jill; Troyer, Jennifer L.; Johnson, Warren E.; O’Brien, Stephen J.</b></h4>"
      ],
      "text/plain": [
       "<IPython.core.display.HTML object>"
      ]
     },
     "metadata": {},
     "output_type": "display_data"
    },
    {
     "data": {
      "text/html": [
       "<blockquote>Molecular genetic tools are informative in evaluating emerging pathogens and provide essential information such as pathogen identification, association of particular or novel strains with disease outbreaks, mutational changes leading to increased or decreased pathogenesis, and geographic and/or evolutionary origins of the pathogen\n",
       " Emerging pathogens utilize diverse strategies for genome adaptation and re-organization to successfully infect new host species that are only discernable through full genome scans</blockquote>"
      ],
      "text/plain": [
       "<IPython.core.display.HTML object>"
      ]
     },
     "metadata": {},
     "output_type": "display_data"
    },
    {
     "data": {
      "text/html": [
       "<p style='text-align:center'> *** </p>"
      ],
      "text/plain": [
       "<IPython.core.display.HTML object>"
      ]
     },
     "metadata": {},
     "output_type": "display_data"
    },
    {
     "data": {
      "text/html": [
       "<h2>2. Access to geographic and temporal diverse sample sets to understand geographic distribution and genomic differences, and determine whether there is more than one strain in circulation. Multi-lateral agreements such as the Nagoya Protocol could be leveraged.Evidence that livestock could be infected (e.g., field surveillance, genetic sequencing, receptor binding) and serve as a reservoir after the epidemic appears to be over. </h2>"
      ],
      "text/plain": [
       "<IPython.core.display.HTML object>"
      ]
     },
     "metadata": {},
     "output_type": "display_data"
    },
    {
     "data": {
      "text/html": [
       "<h4 style='text-align:center'>31-01-2019</h4>"
      ],
      "text/plain": [
       "<IPython.core.display.HTML object>"
      ]
     },
     "metadata": {},
     "output_type": "display_data"
    },
    {
     "data": {
      "text/html": [
       "<h3 style='text-align:center'> <a href='https://www.ncbi.nlm.nih.gov/pmc/articles/PMC6372212/'> PATHOGEN DIVERSITY DRIVES THE EVOLUTION OF GENERALIST MHC-II ALLELES IN HUMAN POPULATIONS</a></h2>"
      ],
      "text/plain": [
       "<IPython.core.display.HTML object>"
      ]
     },
     "metadata": {},
     "output_type": "display_data"
    },
    {
     "data": {
      "text/html": [
       "<h4 style='text-align:center'> ~ <b>Manczinger, Máté; Boross, Gábor; Kemény, Lajos; Müller, Viktor; Lenz, Tobias L.; Papp, Balázs; Pál, Csaba</b></h4>"
      ],
      "text/plain": [
       "<IPython.core.display.HTML object>"
      ]
     },
     "metadata": {},
     "output_type": "display_data"
    },
    {
     "data": {
      "text/html": [
       "<blockquote>To test this hypothesis, we combined data on the geographic distribution of human MHC class II alleles and prevalence of extracellular pathogens, empirical/computational estimates of epitope-binding promiscuity, and phylogenetic analyses</blockquote>"
      ],
      "text/plain": [
       "<IPython.core.display.HTML object>"
      ]
     },
     "metadata": {},
     "output_type": "display_data"
    },
    {
     "data": {
      "text/html": [
       "<p style='text-align:center'> *** </p>"
      ],
      "text/plain": [
       "<IPython.core.display.HTML object>"
      ]
     },
     "metadata": {},
     "output_type": "display_data"
    },
    {
     "data": {
      "text/html": [
       "<h4 style='text-align:center'>26-08-2015</h4>"
      ],
      "text/plain": [
       "<IPython.core.display.HTML object>"
      ]
     },
     "metadata": {},
     "output_type": "display_data"
    },
    {
     "data": {
      "text/html": [
       "<h3 style='text-align:center'> <a href='https://www.ncbi.nlm.nih.gov/pmc/articles/PMC4550055/'> GENOMIC ANALYSIS OF CODON USAGE SHOWS INFLUENCE OF MUTATION PRESSURE, NATURAL SELECTION, AND HOST FEATURES ON MARBURG VIRUS EVOLUTION</a></h2>"
      ],
      "text/plain": [
       "<IPython.core.display.HTML object>"
      ]
     },
     "metadata": {},
     "output_type": "display_data"
    },
    {
     "data": {
      "text/html": [
       "<h4 style='text-align:center'> ~ <b>Nasrullah, Izza; Butt, Azeem M; Tahir, Shifa; Idrees, Muhammad; Tong, Yigang</b></h4>"
      ],
      "text/plain": [
       "<IPython.core.display.HTML object>"
      ]
     },
     "metadata": {},
     "output_type": "display_data"
    },
    {
     "data": {
      "text/html": [
       "<blockquote>Our initial analysis indicated influence of nucleotide constraints on MARV codon usage patterns</blockquote>"
      ],
      "text/plain": [
       "<IPython.core.display.HTML object>"
      ]
     },
     "metadata": {},
     "output_type": "display_data"
    },
    {
     "data": {
      "text/html": [
       "<p style='text-align:center'> *** </p>"
      ],
      "text/plain": [
       "<IPython.core.display.HTML object>"
      ]
     },
     "metadata": {},
     "output_type": "display_data"
    },
    {
     "data": {
      "text/html": [
       "<h4 style='text-align:center'>18-08-2015</h4>"
      ],
      "text/plain": [
       "<IPython.core.display.HTML object>"
      ]
     },
     "metadata": {},
     "output_type": "display_data"
    },
    {
     "data": {
      "text/html": [
       "<h3 style='text-align:center'> <a href='https://www.ncbi.nlm.nih.gov/pmc/articles/PMC4540470/'> COMPARATIVE ANALYSIS OF TRANSCRIPTIONAL PROFILES OF ADULT SCHISTOSOMA JAPONICUM FROM DIFFERENT LABORATORY ANIMALS AND THE NATURAL HOST, WATER BUFFALO</a></h2>"
      ],
      "text/plain": [
       "<IPython.core.display.HTML object>"
      ]
     },
     "metadata": {},
     "output_type": "display_data"
    },
    {
     "data": {
      "text/html": [
       "<h4 style='text-align:center'> ~ <b>Liu, Shuai; Zhou, Xiaosu; Piao, Xianyu; Wu, Chuang; Hou, Nan; Chen, Qijun</b></h4>"
      ],
      "text/plain": [
       "<IPython.core.display.HTML object>"
      ]
     },
     "metadata": {},
     "output_type": "display_data"
    },
    {
     "data": {
      "text/html": [
       "<blockquote>Comparative genomics analysis of well characterized signaling pathways between schistosome and mammalian host indicates that schistosome genome encodes various growth factors, receptors and other critical components to regulate numerous cellular processes during tissue development and organogenesis</blockquote>"
      ],
      "text/plain": [
       "<IPython.core.display.HTML object>"
      ]
     },
     "metadata": {},
     "output_type": "display_data"
    },
    {
     "data": {
      "text/html": [
       "<p style='text-align:center'> *** </p>"
      ],
      "text/plain": [
       "<IPython.core.display.HTML object>"
      ]
     },
     "metadata": {},
     "output_type": "display_data"
    },
    {
     "data": {
      "text/html": [
       "<h4 style='text-align:center'>29-04-2014</h4>"
      ],
      "text/plain": [
       "<IPython.core.display.HTML object>"
      ]
     },
     "metadata": {},
     "output_type": "display_data"
    },
    {
     "data": {
      "text/html": [
       "<h3 style='text-align:center'> <a href='http://europepmc.org/articles/pmc4912034?pdf=render'> NATURAL SELECTION AND INFECTIOUS DISEASE IN HUMAN POPULATIONS</a></h2>"
      ],
      "text/plain": [
       "<IPython.core.display.HTML object>"
      ]
     },
     "metadata": {},
     "output_type": "display_data"
    },
    {
     "data": {
      "text/html": [
       "<h4 style='text-align:center'> ~ <b>Karlsson, Elinor K.; Kwiatkowski, Dominic P.; Sabeti, Pardis C.</b></h4>"
      ],
      "text/plain": [
       "<IPython.core.display.HTML object>"
      ]
     },
     "metadata": {},
     "output_type": "display_data"
    },
    {
     "data": {
      "text/html": [
       "<blockquote> Population events that alter genetic diversity -including bottlenecks, expansions, splits and admixture -complicate accurate detection of selected loci</blockquote>"
      ],
      "text/plain": [
       "<IPython.core.display.HTML object>"
      ]
     },
     "metadata": {},
     "output_type": "display_data"
    },
    {
     "data": {
      "text/html": [
       "<p style='text-align:center'> *** </p>"
      ],
      "text/plain": [
       "<IPython.core.display.HTML object>"
      ]
     },
     "metadata": {},
     "output_type": "display_data"
    },
    {
     "data": {
      "text/html": [
       "<h4 style='text-align:center'>01-05-2008</h4>"
      ],
      "text/plain": [
       "<IPython.core.display.HTML object>"
      ]
     },
     "metadata": {},
     "output_type": "display_data"
    },
    {
     "data": {
      "text/html": [
       "<h3 style='text-align:center'> <a href='http://europepmc.org/articles/pmc2774529?pdf=render'> EVOLUTION OF FELINE IMMUNODEFICIENCY VIRUS IN FELIDAE: IMPLICATIONS FOR HUMAN HEALTH AND WILDLIFE ECOLOGY</a></h2>"
      ],
      "text/plain": [
       "<IPython.core.display.HTML object>"
      ]
     },
     "metadata": {},
     "output_type": "display_data"
    },
    {
     "data": {
      "text/html": [
       "<h4 style='text-align:center'> ~ <b>Pecon-Slattery, Jill; Troyer, Jennifer L.; Johnson, Warren E.; O’Brien, Stephen J.</b></h4>"
      ],
      "text/plain": [
       "<IPython.core.display.HTML object>"
      ]
     },
     "metadata": {},
     "output_type": "display_data"
    },
    {
     "data": {
      "text/html": [
       "<blockquote> Patterns of divergence describe substantial genetic differences among strains across the entire FIV genome and define monophyletic viral lineages unique to specific host species (Barr et al\n",
       "Phylogenetic analyses of concatenated sequences from coding regions excluding env (6435 bp) recapitulate that FIV strains are specific to their host species\n",
       "Although sharing conserved genome organization, large genetic differences exist among species-specific FIV strains</blockquote>"
      ],
      "text/plain": [
       "<IPython.core.display.HTML object>"
      ]
     },
     "metadata": {},
     "output_type": "display_data"
    },
    {
     "data": {
      "text/html": [
       "<p style='text-align:center'> *** </p>"
      ],
      "text/plain": [
       "<IPython.core.display.HTML object>"
      ]
     },
     "metadata": {},
     "output_type": "display_data"
    },
    {
     "data": {
      "text/html": [
       "<h2>3. Evidence of whether farmers are infected, and whether farmers could have played a role in the origin. </h2>"
      ],
      "text/plain": [
       "<IPython.core.display.HTML object>"
      ]
     },
     "metadata": {},
     "output_type": "display_data"
    },
    {
     "data": {
      "text/html": [
       "<h4 style='text-align:center'>31-01-2019</h4>"
      ],
      "text/plain": [
       "<IPython.core.display.HTML object>"
      ]
     },
     "metadata": {},
     "output_type": "display_data"
    },
    {
     "data": {
      "text/html": [
       "<h3 style='text-align:center'> <a href='https://www.ncbi.nlm.nih.gov/pmc/articles/PMC6372212/'> PATHOGEN DIVERSITY DRIVES THE EVOLUTION OF GENERALIST MHC-II ALLELES IN HUMAN POPULATIONS</a></h2>"
      ],
      "text/plain": [
       "<IPython.core.display.HTML object>"
      ]
     },
     "metadata": {},
     "output_type": "display_data"
    },
    {
     "data": {
      "text/html": [
       "<h4 style='text-align:center'> ~ <b>Manczinger, Máté; Boross, Gábor; Kemény, Lajos; Müller, Viktor; Lenz, Tobias L.; Papp, Balázs; Pál, Csaba</b></h4>"
      ],
      "text/plain": [
       "<IPython.core.display.HTML object>"
      ]
     },
     "metadata": {},
     "output_type": "display_data"
    },
    {
     "data": {
      "text/html": [
       "<blockquote> The authors suggested that the breadth of epitope-binding repertoire shapes genetic susceptibility to Marek's disease virus in chickens and HIV disease progression in humans\n",
       " Immunization of the corresponding HLA transgenic mouse strains with a set of dengue virus-derived peptides revealed a positive relationship between epitope repertoire size and immunogenicity</blockquote>"
      ],
      "text/plain": [
       "<IPython.core.display.HTML object>"
      ]
     },
     "metadata": {},
     "output_type": "display_data"
    },
    {
     "data": {
      "text/html": [
       "<p style='text-align:center'> *** </p>"
      ],
      "text/plain": [
       "<IPython.core.display.HTML object>"
      ]
     },
     "metadata": {},
     "output_type": "display_data"
    },
    {
     "data": {
      "text/html": [
       "<h4 style='text-align:center'>29-04-2014</h4>"
      ],
      "text/plain": [
       "<IPython.core.display.HTML object>"
      ]
     },
     "metadata": {},
     "output_type": "display_data"
    },
    {
     "data": {
      "text/html": [
       "<h3 style='text-align:center'> <a href='http://europepmc.org/articles/pmc4912034?pdf=render'> NATURAL SELECTION AND INFECTIOUS DISEASE IN HUMAN POPULATIONS</a></h2>"
      ],
      "text/plain": [
       "<IPython.core.display.HTML object>"
      ]
     },
     "metadata": {},
     "output_type": "display_data"
    },
    {
     "data": {
      "text/html": [
       "<h4 style='text-align:center'> ~ <b>Karlsson, Elinor K.; Kwiatkowski, Dominic P.; Sabeti, Pardis C.</b></h4>"
      ],
      "text/plain": [
       "<IPython.core.display.HTML object>"
      ]
     },
     "metadata": {},
     "output_type": "display_data"
    },
    {
     "data": {
      "text/html": [
       "<blockquote> tuberculosis strain, an accurate phenotype would include sequence data from the pathogen</blockquote>"
      ],
      "text/plain": [
       "<IPython.core.display.HTML object>"
      ]
     },
     "metadata": {},
     "output_type": "display_data"
    },
    {
     "data": {
      "text/html": [
       "<p style='text-align:center'> *** </p>"
      ],
      "text/plain": [
       "<IPython.core.display.HTML object>"
      ]
     },
     "metadata": {},
     "output_type": "display_data"
    },
    {
     "data": {
      "text/html": [
       "<h4 style='text-align:center'>10-10-2013</h4>"
      ],
      "text/plain": [
       "<IPython.core.display.HTML object>"
      ]
     },
     "metadata": {},
     "output_type": "display_data"
    },
    {
     "data": {
      "text/html": [
       "<h3 style='text-align:center'> <a href='https://www.ncbi.nlm.nih.gov/pmc/articles/PMC3794897/'> FEATURE SELECTION METHODS FOR IDENTIFYING GENETIC DETERMINANTS OF HOST SPECIES IN RNA VIRUSES</a></h2>"
      ],
      "text/plain": [
       "<IPython.core.display.HTML object>"
      ]
     },
     "metadata": {},
     "output_type": "display_data"
    },
    {
     "data": {
      "text/html": [
       "<h4 style='text-align:center'> ~ <b>Aguas, Ricardo; Ferguson, Neil M.</b></h4>"
      ],
      "text/plain": [
       "<IPython.core.display.HTML object>"
      ]
     },
     "metadata": {},
     "output_type": "display_data"
    },
    {
     "data": {
      "text/html": [
       "<blockquote>We first analyse polymerase gene sequences of RNA viruses to identify the genetic signatures predicting host species</blockquote>"
      ],
      "text/plain": [
       "<IPython.core.display.HTML object>"
      ]
     },
     "metadata": {},
     "output_type": "display_data"
    },
    {
     "data": {
      "text/html": [
       "<p style='text-align:center'> *** </p>"
      ],
      "text/plain": [
       "<IPython.core.display.HTML object>"
      ]
     },
     "metadata": {},
     "output_type": "display_data"
    },
    {
     "data": {
      "text/html": [
       "<h4 style='text-align:center'>31-08-2012</h4>"
      ],
      "text/plain": [
       "<IPython.core.display.HTML object>"
      ]
     },
     "metadata": {},
     "output_type": "display_data"
    },
    {
     "data": {
      "text/html": [
       "<h3 style='text-align:center'> <a href='https://doi.org/10.1016/j.meegid.2012.05.003'> MOLECULAR EVOLUTION AND EMERGENCE OF AVIAN GAMMACORONAVIRUSES</a></h2>"
      ],
      "text/plain": [
       "<IPython.core.display.HTML object>"
      ]
     },
     "metadata": {},
     "output_type": "display_data"
    },
    {
     "data": {
      "text/html": [
       "<h4 style='text-align:center'> ~ <b>Jackwood, Mark W.; Hall, David; Handel, Andreas</b></h4>"
      ],
      "text/plain": [
       "<IPython.core.display.HTML object>"
      ]
     },
     "metadata": {},
     "output_type": "display_data"
    },
    {
     "data": {
      "text/html": [
       "<blockquote>Avian coronavirus IBV creates genetic diversity through rapid replication and large population sizes coupled with a high mutation rate and recombination</blockquote>"
      ],
      "text/plain": [
       "<IPython.core.display.HTML object>"
      ]
     },
     "metadata": {},
     "output_type": "display_data"
    },
    {
     "data": {
      "text/html": [
       "<p style='text-align:center'> *** </p>"
      ],
      "text/plain": [
       "<IPython.core.display.HTML object>"
      ]
     },
     "metadata": {},
     "output_type": "display_data"
    },
    {
     "data": {
      "text/html": [
       "<h4 style='text-align:center'>01-05-2008</h4>"
      ],
      "text/plain": [
       "<IPython.core.display.HTML object>"
      ]
     },
     "metadata": {},
     "output_type": "display_data"
    },
    {
     "data": {
      "text/html": [
       "<h3 style='text-align:center'> <a href='http://europepmc.org/articles/pmc2774529?pdf=render'> EVOLUTION OF FELINE IMMUNODEFICIENCY VIRUS IN FELIDAE: IMPLICATIONS FOR HUMAN HEALTH AND WILDLIFE ECOLOGY</a></h2>"
      ],
      "text/plain": [
       "<IPython.core.display.HTML object>"
      ]
     },
     "metadata": {},
     "output_type": "display_data"
    },
    {
     "data": {
      "text/html": [
       "<h4 style='text-align:center'> ~ <b>Pecon-Slattery, Jill; Troyer, Jennifer L.; Johnson, Warren E.; O’Brien, Stephen J.</b></h4>"
      ],
      "text/plain": [
       "<IPython.core.display.HTML object>"
      ]
     },
     "metadata": {},
     "output_type": "display_data"
    },
    {
     "data": {
      "text/html": [
       "<blockquote>Molecular genetic tools are informative in evaluating emerging pathogens and provide essential information such as pathogen identification, association of particular or novel strains with disease outbreaks, mutational changes leading to increased or decreased pathogenesis, and geographic and/or evolutionary origins of the pathogen\n",
       " These are but a few of the growing number of studies using molecular genomic technologies in nonhuman animal species that will advance our ability to identify regulatory/virulence genes in pathogens as well as host genes that regulate transmission, incubation, latency, virulence, morbidity, mortality and the immune response</blockquote>"
      ],
      "text/plain": [
       "<IPython.core.display.HTML object>"
      ]
     },
     "metadata": {},
     "output_type": "display_data"
    },
    {
     "data": {
      "text/html": [
       "<p style='text-align:center'> *** </p>"
      ],
      "text/plain": [
       "<IPython.core.display.HTML object>"
      ]
     },
     "metadata": {},
     "output_type": "display_data"
    },
    {
     "data": {
      "text/html": [
       "<h2>4. Surveillance of mixed wildlife- livestock farms for SARS-CoV-2 and other coronaviruses in Southeast Asia. </h2>"
      ],
      "text/plain": [
       "<IPython.core.display.HTML object>"
      ]
     },
     "metadata": {},
     "output_type": "display_data"
    },
    {
     "data": {
      "text/html": [
       "<h4 style='text-align:center'>25-05-2019</h4>"
      ],
      "text/plain": [
       "<IPython.core.display.HTML object>"
      ]
     },
     "metadata": {},
     "output_type": "display_data"
    },
    {
     "data": {
      "text/html": [
       "<h3 style='text-align:center'> <a href='https://www.ncbi.nlm.nih.gov/pmc/articles/PMC6631033/'> ANIMAL VIRUS ECOLOGY AND EVOLUTION ARE SHAPED BY THE VIRUS HOST-BODY INFILTRATION AND COLONIZATION PATTERN</a></h2>"
      ],
      "text/plain": [
       "<IPython.core.display.HTML object>"
      ]
     },
     "metadata": {},
     "output_type": "display_data"
    },
    {
     "data": {
      "text/html": [
       "<h4 style='text-align:center'> ~ <b>Slingenbergh, Jan</b></h4>"
      ],
      "text/plain": [
       "<IPython.core.display.HTML object>"
      ]
     },
     "metadata": {},
     "output_type": "display_data"
    },
    {
     "data": {
      "text/html": [
       "<blockquote> For example, an opportunistic, epithelial virus of wildlife origin is likely to be found circulating in livestock before becoming first detected in humans as host</blockquote>"
      ],
      "text/plain": [
       "<IPython.core.display.HTML object>"
      ]
     },
     "metadata": {},
     "output_type": "display_data"
    },
    {
     "data": {
      "text/html": [
       "<p style='text-align:center'> *** </p>"
      ],
      "text/plain": [
       "<IPython.core.display.HTML object>"
      ]
     },
     "metadata": {},
     "output_type": "display_data"
    },
    {
     "data": {
      "text/html": [
       "<h4 style='text-align:center'>14-01-2019</h4>"
      ],
      "text/plain": [
       "<IPython.core.display.HTML object>"
      ]
     },
     "metadata": {},
     "output_type": "display_data"
    },
    {
     "data": {
      "text/html": [
       "<h3 style='text-align:center'> <a href='https://www.ncbi.nlm.nih.gov/pmc/articles/PMC6356246/'> GENETIC DIVERSITY AND PHYLODYNAMICS OF AVIAN CORONAVIRUSES IN EGYPTIAN WILD BIRDS</a></h2>"
      ],
      "text/plain": [
       "<IPython.core.display.HTML object>"
      ]
     },
     "metadata": {},
     "output_type": "display_data"
    },
    {
     "data": {
      "text/html": [
       "<h4 style='text-align:center'> ~ <b>A. Rohaim, Mohammed; F. El Naggar, Rania; M. Helal, Ahmed; M. Bayoumi, Mahmoud; A. El-Saied, Mohamed; A. Ahmed, Kawkab; Z. Shabbir, Muhammad; Munir, Muhammad</b></h4>"
      ],
      "text/plain": [
       "<IPython.core.display.HTML object>"
      ]
     },
     "metadata": {},
     "output_type": "display_data"
    },
    {
     "data": {
      "text/html": [
       "<blockquote> Phylodynamic and evolutionary analysis indicate that wild bird ACoV strains are closely related to the infectious bronchitis viruses (IBVs) reported from commercial poultry, indicating their possible threat to commercial poultry</blockquote>"
      ],
      "text/plain": [
       "<IPython.core.display.HTML object>"
      ]
     },
     "metadata": {},
     "output_type": "display_data"
    },
    {
     "data": {
      "text/html": [
       "<p style='text-align:center'> *** </p>"
      ],
      "text/plain": [
       "<IPython.core.display.HTML object>"
      ]
     },
     "metadata": {},
     "output_type": "display_data"
    },
    {
     "data": {
      "text/html": [
       "<h4 style='text-align:center'>31-12-2018</h4>"
      ],
      "text/plain": [
       "<IPython.core.display.HTML object>"
      ]
     },
     "metadata": {},
     "output_type": "display_data"
    },
    {
     "data": {
      "text/html": [
       "<h3 style='text-align:center'> <a href='https://doi.org/10.1016/j.meegid.2017.09.028'> GENETIC SUSCEPTIBILITY TO INFECTIOUS DISEASES: CURRENT STATUS AND FUTURE PERSPECTIVES FROM GENOME-WIDE APPROACHES</a></h2>"
      ],
      "text/plain": [
       "<IPython.core.display.HTML object>"
      ]
     },
     "metadata": {},
     "output_type": "display_data"
    },
    {
     "data": {
      "text/html": [
       "<h4 style='text-align:center'> ~ <b>Mozzi, Alessandra; Pontremoli, Chiara; Sironi, Manuela</b></h4>"
      ],
      "text/plain": [
       "<IPython.core.display.HTML object>"
      ]
     },
     "metadata": {},
     "output_type": "display_data"
    },
    {
     "data": {
      "text/html": [
       "<blockquote> The majority of patients recruited in the study were infected with genotype 3 and HCV is genetically heterogeneous, suggesting that other and possibly different interactions exist in patients infected by distinct HCV genotypes</blockquote>"
      ],
      "text/plain": [
       "<IPython.core.display.HTML object>"
      ]
     },
     "metadata": {},
     "output_type": "display_data"
    },
    {
     "data": {
      "text/html": [
       "<p style='text-align:center'> *** </p>"
      ],
      "text/plain": [
       "<IPython.core.display.HTML object>"
      ]
     },
     "metadata": {},
     "output_type": "display_data"
    },
    {
     "data": {
      "text/html": [
       "<h4 style='text-align:center'>04-07-2018</h4>"
      ],
      "text/plain": [
       "<IPython.core.display.HTML object>"
      ]
     },
     "metadata": {},
     "output_type": "display_data"
    },
    {
     "data": {
      "text/html": [
       "<h3 style='text-align:center'> <a href='https://www.ncbi.nlm.nih.gov/pmc/articles/PMC6145280/'> ORIGIN, GENETIC DIVERSITY, AND EVOLUTIONARY DYNAMICS OF NOVEL PORCINE CIRCOVIRUS 3</a></h2>"
      ],
      "text/plain": [
       "<IPython.core.display.HTML object>"
      ]
     },
     "metadata": {},
     "output_type": "display_data"
    },
    {
     "data": {
      "text/html": [
       "<h4 style='text-align:center'> ~ <b>Li, Gairu; He, Wanting; Zhu, Henan; Bi, Yuhai; Wang, Ruyi; Xing, Gang; Zhang, Cheng; Zhou, Jiyong; Yuen, Kwok‐Yung; Gao, George F.; Su, Shuo</b></h4>"
      ],
      "text/plain": [
       "<IPython.core.display.HTML object>"
      ]
     },
     "metadata": {},
     "output_type": "display_data"
    },
    {
     "data": {
      "text/html": [
       "<blockquote> This suggests the potential to become endemic in pigs, at least if compared to human influenza viruses</blockquote>"
      ],
      "text/plain": [
       "<IPython.core.display.HTML object>"
      ]
     },
     "metadata": {},
     "output_type": "display_data"
    },
    {
     "data": {
      "text/html": [
       "<p style='text-align:center'> *** </p>"
      ],
      "text/plain": [
       "<IPython.core.display.HTML object>"
      ]
     },
     "metadata": {},
     "output_type": "display_data"
    },
    {
     "data": {
      "text/html": [
       "<h4 style='text-align:center'>29-04-2014</h4>"
      ],
      "text/plain": [
       "<IPython.core.display.HTML object>"
      ]
     },
     "metadata": {},
     "output_type": "display_data"
    },
    {
     "data": {
      "text/html": [
       "<h3 style='text-align:center'> <a href='http://europepmc.org/articles/pmc4912034?pdf=render'> NATURAL SELECTION AND INFECTIOUS DISEASE IN HUMAN POPULATIONS</a></h2>"
      ],
      "text/plain": [
       "<IPython.core.display.HTML object>"
      ]
     },
     "metadata": {},
     "output_type": "display_data"
    },
    {
     "data": {
      "text/html": [
       "<h4 style='text-align:center'> ~ <b>Karlsson, Elinor K.; Kwiatkowski, Dominic P.; Sabeti, Pardis C.</b></h4>"
      ],
      "text/plain": [
       "<IPython.core.display.HTML object>"
      ]
     },
     "metadata": {},
     "output_type": "display_data"
    },
    {
     "data": {
      "text/html": [
       "<blockquote> Consistent with long host-pathogen co-evolution, only 10% of infected individuals develop active disease; in most infected individuals the host immune system contains the pathogen</blockquote>"
      ],
      "text/plain": [
       "<IPython.core.display.HTML object>"
      ]
     },
     "metadata": {},
     "output_type": "display_data"
    },
    {
     "data": {
      "text/html": [
       "<p style='text-align:center'> *** </p>"
      ],
      "text/plain": [
       "<IPython.core.display.HTML object>"
      ]
     },
     "metadata": {},
     "output_type": "display_data"
    },
    {
     "data": {
      "text/html": [
       "<h4 style='text-align:center'>20-06-2012</h4>"
      ],
      "text/plain": [
       "<IPython.core.display.HTML object>"
      ]
     },
     "metadata": {},
     "output_type": "display_data"
    },
    {
     "data": {
      "text/html": [
       "<h3 style='text-align:center'> <a href='https://www.nature.com/articles/hdy201233.pdf'> DOES GENETIC DIVERSITY LIMIT DISEASE SPREAD IN NATURAL HOST POPULATIONS?</a></h2>"
      ],
      "text/plain": [
       "<IPython.core.display.HTML object>"
      ]
     },
     "metadata": {},
     "output_type": "display_data"
    },
    {
     "data": {
      "text/html": [
       "<h4 style='text-align:center'> ~ <b>King, K C; Lively, C M</b></h4>"
      ],
      "text/plain": [
       "<IPython.core.display.HTML object>"
      ]
     },
     "metadata": {},
     "output_type": "display_data"
    },
    {
     "data": {
      "text/html": [
       "<blockquote> Thus, host population genetic diversity seems to have an important role in buffering populations against epidemics\n",
       "Consistent with results from agricultural populations, the existing literature suggests that high genetic diversity could buffer host populations against disease spread</blockquote>"
      ],
      "text/plain": [
       "<IPython.core.display.HTML object>"
      ]
     },
     "metadata": {},
     "output_type": "display_data"
    },
    {
     "data": {
      "text/html": [
       "<p style='text-align:center'> *** </p>"
      ],
      "text/plain": [
       "<IPython.core.display.HTML object>"
      ]
     },
     "metadata": {},
     "output_type": "display_data"
    },
    {
     "data": {
      "text/html": [
       "<h4 style='text-align:center'>01-05-2008</h4>"
      ],
      "text/plain": [
       "<IPython.core.display.HTML object>"
      ]
     },
     "metadata": {},
     "output_type": "display_data"
    },
    {
     "data": {
      "text/html": [
       "<h3 style='text-align:center'> <a href='http://europepmc.org/articles/pmc2774529?pdf=render'> EVOLUTION OF FELINE IMMUNODEFICIENCY VIRUS IN FELIDAE: IMPLICATIONS FOR HUMAN HEALTH AND WILDLIFE ECOLOGY</a></h2>"
      ],
      "text/plain": [
       "<IPython.core.display.HTML object>"
      ]
     },
     "metadata": {},
     "output_type": "display_data"
    },
    {
     "data": {
      "text/html": [
       "<h4 style='text-align:center'> ~ <b>Pecon-Slattery, Jill; Troyer, Jennifer L.; Johnson, Warren E.; O’Brien, Stephen J.</b></h4>"
      ],
      "text/plain": [
       "<IPython.core.display.HTML object>"
      ]
     },
     "metadata": {},
     "output_type": "display_data"
    },
    {
     "data": {
      "text/html": [
       "<blockquote>The emergence of infectious disease within new host species or naïve populations can greatly influence species survival and adaptation</blockquote>"
      ],
      "text/plain": [
       "<IPython.core.display.HTML object>"
      ]
     },
     "metadata": {},
     "output_type": "display_data"
    },
    {
     "data": {
      "text/html": [
       "<p style='text-align:center'> *** </p>"
      ],
      "text/plain": [
       "<IPython.core.display.HTML object>"
      ]
     },
     "metadata": {},
     "output_type": "display_data"
    },
    {
     "data": {
      "text/html": [
       "<h2>5. Experimental infections to test host range for this pathogen. </h2>"
      ],
      "text/plain": [
       "<IPython.core.display.HTML object>"
      ]
     },
     "metadata": {},
     "output_type": "display_data"
    },
    {
     "data": {
      "text/html": [
       "<h4 style='text-align:center'>25-05-2019</h4>"
      ],
      "text/plain": [
       "<IPython.core.display.HTML object>"
      ]
     },
     "metadata": {},
     "output_type": "display_data"
    },
    {
     "data": {
      "text/html": [
       "<h3 style='text-align:center'> <a href='https://www.ncbi.nlm.nih.gov/pmc/articles/PMC6631033/'> ANIMAL VIRUS ECOLOGY AND EVOLUTION ARE SHAPED BY THE VIRUS HOST-BODY INFILTRATION AND COLONIZATION PATTERN</a></h2>"
      ],
      "text/plain": [
       "<IPython.core.display.HTML object>"
      ]
     },
     "metadata": {},
     "output_type": "display_data"
    },
    {
     "data": {
      "text/html": [
       "<h4 style='text-align:center'> ~ <b>Slingenbergh, Jan</b></h4>"
      ],
      "text/plain": [
       "<IPython.core.display.HTML object>"
      ]
     },
     "metadata": {},
     "output_type": "display_data"
    },
    {
     "data": {
      "text/html": [
       "<blockquote> Livestock infections and diseases resulting from virus spill-over from wildlife were excluded from the analysis\n",
       " For this, the ruminant plus equine viruses were contrasted to the poultry plus pig viruses</blockquote>"
      ],
      "text/plain": [
       "<IPython.core.display.HTML object>"
      ]
     },
     "metadata": {},
     "output_type": "display_data"
    },
    {
     "data": {
      "text/html": [
       "<p style='text-align:center'> *** </p>"
      ],
      "text/plain": [
       "<IPython.core.display.HTML object>"
      ]
     },
     "metadata": {},
     "output_type": "display_data"
    },
    {
     "data": {
      "text/html": [
       "<h4 style='text-align:center'>31-08-2018</h4>"
      ],
      "text/plain": [
       "<IPython.core.display.HTML object>"
      ]
     },
     "metadata": {},
     "output_type": "display_data"
    },
    {
     "data": {
      "text/html": [
       "<h3 style='text-align:center'> <a href='https://doi.org/10.1016/j.meegid.2018.04.031'> NEWLY EMERGED PORCINE ENTERIC ALPHACORONAVIRUS IN SOUTHERN CHINA: IDENTIFICATION, ORIGIN AND EVOLUTIONARY HISTORY ANALYSIS</a></h2>"
      ],
      "text/plain": [
       "<IPython.core.display.HTML object>"
      ]
     },
     "metadata": {},
     "output_type": "display_data"
    },
    {
     "data": {
      "text/html": [
       "<h4 style='text-align:center'> ~ <b>Fu, Xinliang; Fang, Bo; Liu, Yixing; Cai, Mengkai; Jun, Junming; Ma, Jun; Bu, Dexin; Wang, Lifang; Zhou, Pei; Wang, Heng; Zhang, Guihong</b></h4>"
      ],
      "text/plain": [
       "<IPython.core.display.HTML object>"
      ]
     },
     "metadata": {},
     "output_type": "display_data"
    },
    {
     "data": {
      "text/html": [
       "<blockquote> Small intestinal and fecal samples were collected from ill pigs and submitted to the Animal Disease Detection Diagnosis Center of Southern China Agricultural University for pathogen detection\n",
       "In March 2017, an acute diarrheal outbreak of newborn-piglet diarrhea occurred in a commercial pig farm in Guangdong Province, China</blockquote>"
      ],
      "text/plain": [
       "<IPython.core.display.HTML object>"
      ]
     },
     "metadata": {},
     "output_type": "display_data"
    },
    {
     "data": {
      "text/html": [
       "<p style='text-align:center'> *** </p>"
      ],
      "text/plain": [
       "<IPython.core.display.HTML object>"
      ]
     },
     "metadata": {},
     "output_type": "display_data"
    },
    {
     "data": {
      "text/html": [
       "<h4 style='text-align:center'>31-08-2012</h4>"
      ],
      "text/plain": [
       "<IPython.core.display.HTML object>"
      ]
     },
     "metadata": {},
     "output_type": "display_data"
    },
    {
     "data": {
      "text/html": [
       "<h3 style='text-align:center'> <a href='https://doi.org/10.1016/j.meegid.2012.05.003'> MOLECULAR EVOLUTION AND EMERGENCE OF AVIAN GAMMACORONAVIRUSES</a></h2>"
      ],
      "text/plain": [
       "<IPython.core.display.HTML object>"
      ]
     },
     "metadata": {},
     "output_type": "display_data"
    },
    {
     "data": {
      "text/html": [
       "<h4 style='text-align:center'> ~ <b>Jackwood, Mark W.; Hall, David; Handel, Andreas</b></h4>"
      ],
      "text/plain": [
       "<IPython.core.display.HTML object>"
      ]
     },
     "metadata": {},
     "output_type": "display_data"
    },
    {
     "data": {
      "text/html": [
       "<blockquote>Gammacoronaviruses frequently emerge in avian species</blockquote>"
      ],
      "text/plain": [
       "<IPython.core.display.HTML object>"
      ]
     },
     "metadata": {},
     "output_type": "display_data"
    },
    {
     "data": {
      "text/html": [
       "<p style='text-align:center'> *** </p>"
      ],
      "text/plain": [
       "<IPython.core.display.HTML object>"
      ]
     },
     "metadata": {},
     "output_type": "display_data"
    },
    {
     "data": {
      "text/html": [
       "<h2>6. Animal host(s) and any evidence of continued spill-over to humans </h2>"
      ],
      "text/plain": [
       "<IPython.core.display.HTML object>"
      ]
     },
     "metadata": {},
     "output_type": "display_data"
    },
    {
     "data": {
      "text/html": [
       "<h4 style='text-align:center'>31-01-2019</h4>"
      ],
      "text/plain": [
       "<IPython.core.display.HTML object>"
      ]
     },
     "metadata": {},
     "output_type": "display_data"
    },
    {
     "data": {
      "text/html": [
       "<h3 style='text-align:center'> <a href='https://www.ncbi.nlm.nih.gov/pmc/articles/PMC6372212/'> PATHOGEN DIVERSITY DRIVES THE EVOLUTION OF GENERALIST MHC-II ALLELES IN HUMAN POPULATIONS</a></h2>"
      ],
      "text/plain": [
       "<IPython.core.display.HTML object>"
      ]
     },
     "metadata": {},
     "output_type": "display_data"
    },
    {
     "data": {
      "text/html": [
       "<h4 style='text-align:center'> ~ <b>Manczinger, Máté; Boross, Gábor; Kemény, Lajos; Müller, Viktor; Lenz, Tobias L.; Papp, Balázs; Pál, Csaba</b></h4>"
      ],
      "text/plain": [
       "<IPython.core.display.HTML object>"
      ]
     },
     "metadata": {},
     "output_type": "display_data"
    },
    {
     "data": {
      "text/html": [
       "<blockquote> It consists of 95 diseases caused by 168 extracellular pathogens, including diverse bacterial species, fungi, protozoa, and helminthes</blockquote>"
      ],
      "text/plain": [
       "<IPython.core.display.HTML object>"
      ]
     },
     "metadata": {},
     "output_type": "display_data"
    },
    {
     "data": {
      "text/html": [
       "<p style='text-align:center'> *** </p>"
      ],
      "text/plain": [
       "<IPython.core.display.HTML object>"
      ]
     },
     "metadata": {},
     "output_type": "display_data"
    },
    {
     "data": {
      "text/html": [
       "<h4 style='text-align:center'>06-11-2014</h4>"
      ],
      "text/plain": [
       "<IPython.core.display.HTML object>"
      ]
     },
     "metadata": {},
     "output_type": "display_data"
    },
    {
     "data": {
      "text/html": [
       "<h3 style='text-align:center'> <a href='https://www.ncbi.nlm.nih.gov/pmc/articles/PMC4223060/'> THE EVOLUTION AND GENETICS OF VIRUS HOST SHIFTS</a></h2>"
      ],
      "text/plain": [
       "<IPython.core.display.HTML object>"
      ]
     },
     "metadata": {},
     "output_type": "display_data"
    },
    {
     "data": {
      "text/html": [
       "<h4 style='text-align:center'> ~ <b>Longdon, Ben; Brockhurst, Michael A.; Russell, Colin A.; Welch, John J.; Jiggins, Francis M.</b></h4>"
      ],
      "text/plain": [
       "<IPython.core.display.HTML object>"
      ]
     },
     "metadata": {},
     "output_type": "display_data"
    },
    {
     "data": {
      "text/html": [
       "<blockquote> Avian influenza viruses bind SAa-2,3 receptors in the respiratory The pathogen is less successful in host clades more distantly related to its natural host\n",
       " Both processes result in closely related host species harbouring similar pathogens, and in some host clades harbouring more pathogen species</blockquote>"
      ],
      "text/plain": [
       "<IPython.core.display.HTML object>"
      ]
     },
     "metadata": {},
     "output_type": "display_data"
    },
    {
     "data": {
      "text/html": [
       "<p style='text-align:center'> *** </p>"
      ],
      "text/plain": [
       "<IPython.core.display.HTML object>"
      ]
     },
     "metadata": {},
     "output_type": "display_data"
    },
    {
     "data": {
      "text/html": [
       "<h4 style='text-align:center'>29-04-2014</h4>"
      ],
      "text/plain": [
       "<IPython.core.display.HTML object>"
      ]
     },
     "metadata": {},
     "output_type": "display_data"
    },
    {
     "data": {
      "text/html": [
       "<h3 style='text-align:center'> <a href='http://europepmc.org/articles/pmc4912034?pdf=render'> NATURAL SELECTION AND INFECTIOUS DISEASE IN HUMAN POPULATIONS</a></h2>"
      ],
      "text/plain": [
       "<IPython.core.display.HTML object>"
      ]
     },
     "metadata": {},
     "output_type": "display_data"
    },
    {
     "data": {
      "text/html": [
       "<h4 style='text-align:center'> ~ <b>Karlsson, Elinor K.; Kwiatkowski, Dominic P.; Sabeti, Pardis C.</b></h4>"
      ],
      "text/plain": [
       "<IPython.core.display.HTML object>"
      ]
     },
     "metadata": {},
     "output_type": "display_data"
    },
    {
     "data": {
      "text/html": [
       "<blockquote> The range of diseases affected by ancient pathogen-driven selection extends beyond infectious diseases and immune-mediated disorders\n",
       " tuberculosis strain, an accurate phenotype would include sequence data from the pathogen</blockquote>"
      ],
      "text/plain": [
       "<IPython.core.display.HTML object>"
      ]
     },
     "metadata": {},
     "output_type": "display_data"
    },
    {
     "data": {
      "text/html": [
       "<p style='text-align:center'> *** </p>"
      ],
      "text/plain": [
       "<IPython.core.display.HTML object>"
      ]
     },
     "metadata": {},
     "output_type": "display_data"
    },
    {
     "data": {
      "text/html": [
       "<h4 style='text-align:center'>20-02-2014</h4>"
      ],
      "text/plain": [
       "<IPython.core.display.HTML object>"
      ]
     },
     "metadata": {},
     "output_type": "display_data"
    },
    {
     "data": {
      "text/html": [
       "<h3 style='text-align:center'> <a href='https://www.ncbi.nlm.nih.gov/pmc/articles/PMC3930559/'> UNIFYING VIRAL GENETICS AND HUMAN TRANSPORTATION DATA TO PREDICT THE GLOBAL TRANSMISSION DYNAMICS OF HUMAN INFLUENZA H3N2</a></h2>"
      ],
      "text/plain": [
       "<IPython.core.display.HTML object>"
      ]
     },
     "metadata": {},
     "output_type": "display_data"
    },
    {
     "data": {
      "text/html": [
       "<h4 style='text-align:center'> ~ <b>Lemey, Philippe; Rambaut, Andrew; Bedford, Trevor; Faria, Nuno; Bielejec, Filip; Baele, Guy; Russell, Colin A.; Smith, Derek J.; Pybus, Oliver G.; Brockmann, Dirk; Suchard, Marc A.</b></h4>"
      ],
      "text/plain": [
       "<IPython.core.display.HTML object>"
      ]
     },
     "metadata": {},
     "output_type": "display_data"
    },
    {
     "data": {
      "text/html": [
       "<blockquote>Notable recent examples include novel influenza strains, severe acute respiratory syndrome (SARS) virus and Methicillin-resistant Staphylococcus aureus, which all exploit today's complex and voluminous transport networks to rapidly disseminate in a globalized world</blockquote>"
      ],
      "text/plain": [
       "<IPython.core.display.HTML object>"
      ]
     },
     "metadata": {},
     "output_type": "display_data"
    },
    {
     "data": {
      "text/html": [
       "<p style='text-align:center'> *** </p>"
      ],
      "text/plain": [
       "<IPython.core.display.HTML object>"
      ]
     },
     "metadata": {},
     "output_type": "display_data"
    },
    {
     "data": {
      "text/html": [
       "<h4 style='text-align:center'>20-06-2012</h4>"
      ],
      "text/plain": [
       "<IPython.core.display.HTML object>"
      ]
     },
     "metadata": {},
     "output_type": "display_data"
    },
    {
     "data": {
      "text/html": [
       "<h3 style='text-align:center'> <a href='https://www.nature.com/articles/hdy201233.pdf'> DOES GENETIC DIVERSITY LIMIT DISEASE SPREAD IN NATURAL HOST POPULATIONS?</a></h2>"
      ],
      "text/plain": [
       "<IPython.core.display.HTML object>"
      ]
     },
     "metadata": {},
     "output_type": "display_data"
    },
    {
     "data": {
      "text/html": [
       "<h4 style='text-align:center'> ~ <b>King, K C; Lively, C M</b></h4>"
      ],
      "text/plain": [
       "<IPython.core.display.HTML object>"
      ]
     },
     "metadata": {},
     "output_type": "display_data"
    },
    {
     "data": {
      "text/html": [
       "<blockquote> In these models, hosts varied in susceptibility to a single pathogen strain, but no host genotype was completely resistant to infection</blockquote>"
      ],
      "text/plain": [
       "<IPython.core.display.HTML object>"
      ]
     },
     "metadata": {},
     "output_type": "display_data"
    },
    {
     "data": {
      "text/html": [
       "<p style='text-align:center'> *** </p>"
      ],
      "text/plain": [
       "<IPython.core.display.HTML object>"
      ]
     },
     "metadata": {},
     "output_type": "display_data"
    },
    {
     "data": {
      "text/html": [
       "<h4 style='text-align:center'>01-02-2011</h4>"
      ],
      "text/plain": [
       "<IPython.core.display.HTML object>"
      ]
     },
     "metadata": {},
     "output_type": "display_data"
    },
    {
     "data": {
      "text/html": [
       "<h3 style='text-align:center'> <a href='https://www.ncbi.nlm.nih.gov/pmc/articles/PMC3034460/'> A SYSTEMS BIOLOGY APPROACH TO INFECTIOUS DISEASE RESEARCH: INNOVATING THE PATHOGEN-HOST RESEARCH PARADIGM</a></h2>"
      ],
      "text/plain": [
       "<IPython.core.display.HTML object>"
      ]
     },
     "metadata": {},
     "output_type": "display_data"
    },
    {
     "data": {
      "text/html": [
       "<h4 style='text-align:center'> ~ <b>Aderem, Alan; Adkins, Joshua N.; Ansong, Charles; Galagan, James; Kaiser, Shari; Korth, Marcus J.; Law, G. Lynn; McDermott, Jason G.; Proll, Sean C.; Rosenberger, Carrie; Schoolnik, Gary; Katze, Michael G.</b></h4>"
      ],
      "text/plain": [
       "<IPython.core.display.HTML object>"
      ]
     },
     "metadata": {},
     "output_type": "display_data"
    },
    {
     "data": {
      "text/html": [
       "<blockquote> These studies are being extended to identify and model those hostvirus interactions that predispose an infected lung to secondary bacterial invasion by Staphylococcus aureus</blockquote>"
      ],
      "text/plain": [
       "<IPython.core.display.HTML object>"
      ]
     },
     "metadata": {},
     "output_type": "display_data"
    },
    {
     "data": {
      "text/html": [
       "<p style='text-align:center'> *** </p>"
      ],
      "text/plain": [
       "<IPython.core.display.HTML object>"
      ]
     },
     "metadata": {},
     "output_type": "display_data"
    },
    {
     "data": {
      "text/html": [
       "<h4 style='text-align:center'>01-05-2008</h4>"
      ],
      "text/plain": [
       "<IPython.core.display.HTML object>"
      ]
     },
     "metadata": {},
     "output_type": "display_data"
    },
    {
     "data": {
      "text/html": [
       "<h3 style='text-align:center'> <a href='http://europepmc.org/articles/pmc2774529?pdf=render'> EVOLUTION OF FELINE IMMUNODEFICIENCY VIRUS IN FELIDAE: IMPLICATIONS FOR HUMAN HEALTH AND WILDLIFE ECOLOGY</a></h2>"
      ],
      "text/plain": [
       "<IPython.core.display.HTML object>"
      ]
     },
     "metadata": {},
     "output_type": "display_data"
    },
    {
     "data": {
      "text/html": [
       "<h4 style='text-align:center'> ~ <b>Pecon-Slattery, Jill; Troyer, Jennifer L.; Johnson, Warren E.; O’Brien, Stephen J.</b></h4>"
      ],
      "text/plain": [
       "<IPython.core.display.HTML object>"
      ]
     },
     "metadata": {},
     "output_type": "display_data"
    },
    {
     "data": {
      "text/html": [
       "<blockquote>Molecular genetic tools are informative in evaluating emerging pathogens and provide essential information such as pathogen identification, association of particular or novel strains with disease outbreaks, mutational changes leading to increased or decreased pathogenesis, and geographic and/or evolutionary origins of the pathogen</blockquote>"
      ],
      "text/plain": [
       "<IPython.core.display.HTML object>"
      ]
     },
     "metadata": {},
     "output_type": "display_data"
    },
    {
     "data": {
      "text/html": [
       "<p style='text-align:center'> *** </p>"
      ],
      "text/plain": [
       "<IPython.core.display.HTML object>"
      ]
     },
     "metadata": {},
     "output_type": "display_data"
    },
    {
     "data": {
      "text/html": [
       "<h2>7. Socioeconomic and behavioral risk factors for this spill-over </h2>"
      ],
      "text/plain": [
       "<IPython.core.display.HTML object>"
      ]
     },
     "metadata": {},
     "output_type": "display_data"
    },
    {
     "data": {
      "text/html": [
       "<h4 style='text-align:center'>28-12-2019</h4>"
      ],
      "text/plain": [
       "<IPython.core.display.HTML object>"
      ]
     },
     "metadata": {},
     "output_type": "display_data"
    },
    {
     "data": {
      "text/html": [
       "<h3 style='text-align:center'> <a href='https://www.ncbi.nlm.nih.gov/pmc/articles/PMC6935492/'> MICROBIAL GENOMES FROM NON-HUMAN PRIMATE GUT METAGENOMES EXPAND THE PRIMATE-ASSOCIATED BACTERIAL TREE OF LIFE WITH OVER 1000 NOVEL SPECIES</a></h2>"
      ],
      "text/plain": [
       "<IPython.core.display.HTML object>"
      ]
     },
     "metadata": {},
     "output_type": "display_data"
    },
    {
     "data": {
      "text/html": [
       "<h4 style='text-align:center'> ~ <b>Manara, Serena; Asnicar, Francesco; Beghini, Francesco; Bazzani, Davide; Cumbo, Fabio; Zolfo, Moreno; Nigro, Eleonora; Karcher, Nicolai; Manghi, Paolo; Metzger, Marisa Isabell; Pasolli, Edoardo; Segata, Nicola</b></h4>"
      ],
      "text/plain": [
       "<IPython.core.display.HTML object>"
      ]
     },
     "metadata": {},
     "output_type": "display_data"
    },
    {
     "data": {
      "text/html": [
       "<blockquote>Despite the low overall degree of microbial sharing between human and non-human hosts at the species level, some bacterial families were common among primate hosts (Fig</blockquote>"
      ],
      "text/plain": [
       "<IPython.core.display.HTML object>"
      ]
     },
     "metadata": {},
     "output_type": "display_data"
    },
    {
     "data": {
      "text/html": [
       "<p style='text-align:center'> *** </p>"
      ],
      "text/plain": [
       "<IPython.core.display.HTML object>"
      ]
     },
     "metadata": {},
     "output_type": "display_data"
    },
    {
     "data": {
      "text/html": [
       "<h4 style='text-align:center'>18-09-2019</h4>"
      ],
      "text/plain": [
       "<IPython.core.display.HTML object>"
      ]
     },
     "metadata": {},
     "output_type": "display_data"
    },
    {
     "data": {
      "text/html": [
       "<h3 style='text-align:center'> <a href='https://doi.org/10.1101/771394'> EVOLUTIONARY ORIGINS OF EPIDEMIC POTENTIAL AMONG HUMAN RNA VIRUSES</a></h2>"
      ],
      "text/plain": [
       "<IPython.core.display.HTML object>"
      ]
     },
     "metadata": {},
     "output_type": "display_data"
    },
    {
     "data": {
      "text/html": [
       "<h4 style='text-align:center'> ~ <b>Lu Lu; Liam Brierley; Gail Robertson; Feifei Zhang; Samantha Lycett; Donald Smith; Margo Chase-Topping; Peter Simmonds; Mark Woolhouse</b></h4>"
      ],
      "text/plain": [
       "<IPython.core.display.HTML object>"
      ]
     },
     "metadata": {},
     "output_type": "display_data"
    },
    {
     "data": {
      "text/html": [
       "<blockquote> L2 and L3/4 viruses in non-human hosts may cross the species barrier and enter human populations</blockquote>"
      ],
      "text/plain": [
       "<IPython.core.display.HTML object>"
      ]
     },
     "metadata": {},
     "output_type": "display_data"
    },
    {
     "data": {
      "text/html": [
       "<p style='text-align:center'> *** </p>"
      ],
      "text/plain": [
       "<IPython.core.display.HTML object>"
      ]
     },
     "metadata": {},
     "output_type": "display_data"
    },
    {
     "data": {
      "text/html": [
       "<h4 style='text-align:center'>27-08-2019</h4>"
      ],
      "text/plain": [
       "<IPython.core.display.HTML object>"
      ]
     },
     "metadata": {},
     "output_type": "display_data"
    },
    {
     "data": {
      "text/html": [
       "<h3 style='text-align:center'> <a href='https://www.ncbi.nlm.nih.gov/pmc/articles/PMC6783837/'> EVOLUTION AND GENETIC DIVERSITY OF PORCINE CIRCOVIRUS 3 IN CHINA</a></h2>"
      ],
      "text/plain": [
       "<IPython.core.display.HTML object>"
      ]
     },
     "metadata": {},
     "output_type": "display_data"
    },
    {
     "data": {
      "text/html": [
       "<h4 style='text-align:center'> ~ <b>Chen, Ye; Xu, Quanming; Chen, Hong; Luo, Xian; Wu, Qi; Tan, Chen; Pan, Qidong; Chen, Ji-Long</b></h4>"
      ],
      "text/plain": [
       "<IPython.core.display.HTML object>"
      ]
     },
     "metadata": {},
     "output_type": "display_data"
    },
    {
     "data": {
      "text/html": [
       "<blockquote>The Circovirus genus claimed veterinarians' attention shortly after its discovery, most members infect avian species but swine also serve as natural hosts [1, 2] </blockquote>"
      ],
      "text/plain": [
       "<IPython.core.display.HTML object>"
      ]
     },
     "metadata": {},
     "output_type": "display_data"
    },
    {
     "data": {
      "text/html": [
       "<p style='text-align:center'> *** </p>"
      ],
      "text/plain": [
       "<IPython.core.display.HTML object>"
      ]
     },
     "metadata": {},
     "output_type": "display_data"
    },
    {
     "data": {
      "text/html": [
       "<h4 style='text-align:center'>25-05-2019</h4>"
      ],
      "text/plain": [
       "<IPython.core.display.HTML object>"
      ]
     },
     "metadata": {},
     "output_type": "display_data"
    },
    {
     "data": {
      "text/html": [
       "<h3 style='text-align:center'> <a href='https://www.ncbi.nlm.nih.gov/pmc/articles/PMC6631033/'> ANIMAL VIRUS ECOLOGY AND EVOLUTION ARE SHAPED BY THE VIRUS HOST-BODY INFILTRATION AND COLONIZATION PATTERN</a></h2>"
      ],
      "text/plain": [
       "<IPython.core.display.HTML object>"
      ]
     },
     "metadata": {},
     "output_type": "display_data"
    },
    {
     "data": {
      "text/html": [
       "<h4 style='text-align:center'> ~ <b>Slingenbergh, Jan</b></h4>"
      ],
      "text/plain": [
       "<IPython.core.display.HTML object>"
      ]
     },
     "metadata": {},
     "output_type": "display_data"
    },
    {
     "data": {
      "text/html": [
       "<blockquote> Further, the SARS corona virus infected civet cats raised as food animals before appearing in humans as host [26] </blockquote>"
      ],
      "text/plain": [
       "<IPython.core.display.HTML object>"
      ]
     },
     "metadata": {},
     "output_type": "display_data"
    },
    {
     "data": {
      "text/html": [
       "<p style='text-align:center'> *** </p>"
      ],
      "text/plain": [
       "<IPython.core.display.HTML object>"
      ]
     },
     "metadata": {},
     "output_type": "display_data"
    },
    {
     "data": {
      "text/html": [
       "<h4 style='text-align:center'>27-11-2018</h4>"
      ],
      "text/plain": [
       "<IPython.core.display.HTML object>"
      ]
     },
     "metadata": {},
     "output_type": "display_data"
    },
    {
     "data": {
      "text/html": [
       "<h3 style='text-align:center'> <a href='https://www.ncbi.nlm.nih.gov/pmc/articles/PMC6282212/'> ORIGINS AND EVOLUTION OF THE GLOBAL RNA VIROME</a></h2>"
      ],
      "text/plain": [
       "<IPython.core.display.HTML object>"
      ]
     },
     "metadata": {},
     "output_type": "display_data"
    },
    {
     "data": {
      "text/html": [
       "<h4 style='text-align:center'> ~ <b>Wolf, Yuri I.; Kazlauskas, Darius; Iranzo, Jaime; Lucía-Sanz, Adriana; Kuhn, Jens H.; Krupovic, Mart; Dolja, Valerian V.; Koonin, Eugene V.</b></h4>"
      ],
      "text/plain": [
       "<IPython.core.display.HTML object>"
      ]
     },
     "metadata": {},
     "output_type": "display_data"
    },
    {
     "data": {
      "text/html": [
       "<blockquote> Finally, it seems plausible that, given the high prevalence of ϪRNA viruses in metazoa and their virtual absence in protists (with the exception of the recently discovered \"leishbuviruses\" that likely invaded their parasitic protist hosts via HVT from an animal host [49, 50] ), the viruses that comprise RdRp branch 5 evolved in animals via mixing and matching genes from reovirus-like and flavivirus-like ancestors</blockquote>"
      ],
      "text/plain": [
       "<IPython.core.display.HTML object>"
      ]
     },
     "metadata": {},
     "output_type": "display_data"
    },
    {
     "data": {
      "text/html": [
       "<p style='text-align:center'> *** </p>"
      ],
      "text/plain": [
       "<IPython.core.display.HTML object>"
      ]
     },
     "metadata": {},
     "output_type": "display_data"
    },
    {
     "data": {
      "text/html": [
       "<h4 style='text-align:center'>24-10-2018</h4>"
      ],
      "text/plain": [
       "<IPython.core.display.HTML object>"
      ]
     },
     "metadata": {},
     "output_type": "display_data"
    },
    {
     "data": {
      "text/html": [
       "<h3 style='text-align:center'> <a href='https://doi.org/10.1101/451740'> ORIGINS AND EVOLUTION OF THE GLOBAL RNA VIROME</a></h2>"
      ],
      "text/plain": [
       "<IPython.core.display.HTML object>"
      ]
     },
     "metadata": {},
     "output_type": "display_data"
    },
    {
     "data": {
      "text/html": [
       "<h4 style='text-align:center'> ~ <b>Yuri I. Wolf; Darius Kazlauskas; Jaime Iranzo; Adriana LucÍa-Sanz; Jens H. Kuhn; Mart Krupovic; Valerian V. Dolja; Eugene V. Koonin</b></h4>"
      ],
      "text/plain": [
       "<IPython.core.display.HTML object>"
      ]
     },
     "metadata": {},
     "output_type": "display_data"
    },
    {
     "data": {
      "text/html": [
       "<blockquote> Finally, it seems plausible that, given the high prevalence of ϪRNA viruses in metazoa and their virtual absence in protists (with the exception of the recently discovered \"leishbuviruses\" that likely invaded their parasitic protist hosts via HVT from an animal host [49, 50] ), the viruses that comprise RdRp branch 5 evolved in animals via mixing and matching genes from reovirus-like and flavivirus-like ancestors</blockquote>"
      ],
      "text/plain": [
       "<IPython.core.display.HTML object>"
      ]
     },
     "metadata": {},
     "output_type": "display_data"
    },
    {
     "data": {
      "text/html": [
       "<p style='text-align:center'> *** </p>"
      ],
      "text/plain": [
       "<IPython.core.display.HTML object>"
      ]
     },
     "metadata": {},
     "output_type": "display_data"
    },
    {
     "data": {
      "text/html": [
       "<h4 style='text-align:center'>31-08-2018</h4>"
      ],
      "text/plain": [
       "<IPython.core.display.HTML object>"
      ]
     },
     "metadata": {},
     "output_type": "display_data"
    },
    {
     "data": {
      "text/html": [
       "<h3 style='text-align:center'> <a href='https://doi.org/10.1016/j.coviro.2018.07.017'> THE DIVERSITY, EVOLUTION AND ORIGINS OF VERTEBRATE RNA VIRUSES</a></h2>"
      ],
      "text/plain": [
       "<IPython.core.display.HTML object>"
      ]
     },
     "metadata": {},
     "output_type": "display_data"
    },
    {
     "data": {
      "text/html": [
       "<h4 style='text-align:center'> ~ <b>Zhang, Yong-Zhen; Wu, Wei-Chen; Shi, Mang; Holmes, Edward C</b></h4>"
      ],
      "text/plain": [
       "<IPython.core.display.HTML object>"
      ]
     },
     "metadata": {},
     "output_type": "display_data"
    },
    {
     "data": {
      "text/html": [
       "<blockquote> As mammals and birds often experience relatively similar infectious disease to humans, and live in close proximity to us, they are commonly thought to be the natural reservoir hosts of the RNA viruses that subsequently emerge and cause diseases in humans through a process of cross-species transmission [1, 2] </blockquote>"
      ],
      "text/plain": [
       "<IPython.core.display.HTML object>"
      ]
     },
     "metadata": {},
     "output_type": "display_data"
    },
    {
     "data": {
      "text/html": [
       "<p style='text-align:center'> *** </p>"
      ],
      "text/plain": [
       "<IPython.core.display.HTML object>"
      ]
     },
     "metadata": {},
     "output_type": "display_data"
    },
    {
     "data": {
      "text/html": [
       "<h4 style='text-align:center'>06-11-2014</h4>"
      ],
      "text/plain": [
       "<IPython.core.display.HTML object>"
      ]
     },
     "metadata": {},
     "output_type": "display_data"
    },
    {
     "data": {
      "text/html": [
       "<h3 style='text-align:center'> <a href='https://www.ncbi.nlm.nih.gov/pmc/articles/PMC4223060/'> THE EVOLUTION AND GENETICS OF VIRUS HOST SHIFTS</a></h2>"
      ],
      "text/plain": [
       "<IPython.core.display.HTML object>"
      ]
     },
     "metadata": {},
     "output_type": "display_data"
    },
    {
     "data": {
      "text/html": [
       "<h4 style='text-align:center'> ~ <b>Longdon, Ben; Brockhurst, Michael A.; Russell, Colin A.; Welch, John J.; Jiggins, Francis M.</b></h4>"
      ],
      "text/plain": [
       "<IPython.core.display.HTML object>"
      ]
     },
     "metadata": {},
     "output_type": "display_data"
    },
    {
     "data": {
      "text/html": [
       "<blockquote>Emerging infectious diseases affecting humans, wildlife, and agriculture are often the result of a pathogen jumping from its original host into a novel host species\n",
       "One little-explored consequence of host shifts is how they affect the distribution of pathogens across host species [85] </blockquote>"
      ],
      "text/plain": [
       "<IPython.core.display.HTML object>"
      ]
     },
     "metadata": {},
     "output_type": "display_data"
    },
    {
     "data": {
      "text/html": [
       "<p style='text-align:center'> *** </p>"
      ],
      "text/plain": [
       "<IPython.core.display.HTML object>"
      ]
     },
     "metadata": {},
     "output_type": "display_data"
    },
    {
     "data": {
      "text/html": [
       "<h2>8. Sustainable risk reduction strategies </h2>"
      ],
      "text/plain": [
       "<IPython.core.display.HTML object>"
      ]
     },
     "metadata": {},
     "output_type": "display_data"
    },
    {
     "data": {
      "text/html": [
       "<h4 style='text-align:center'>31-01-2019</h4>"
      ],
      "text/plain": [
       "<IPython.core.display.HTML object>"
      ]
     },
     "metadata": {},
     "output_type": "display_data"
    },
    {
     "data": {
      "text/html": [
       "<h3 style='text-align:center'> <a href='https://www.ncbi.nlm.nih.gov/pmc/articles/PMC6372212/'> PATHOGEN DIVERSITY DRIVES THE EVOLUTION OF GENERALIST MHC-II ALLELES IN HUMAN POPULATIONS</a></h2>"
      ],
      "text/plain": [
       "<IPython.core.display.HTML object>"
      ]
     },
     "metadata": {},
     "output_type": "display_data"
    },
    {
     "data": {
      "text/html": [
       "<h4 style='text-align:center'> ~ <b>Manczinger, Máté; Boross, Gábor; Kemény, Lajos; Müller, Viktor; Lenz, Tobias L.; Papp, Balázs; Pál, Csaba</b></h4>"
      ],
      "text/plain": [
       "<IPython.core.display.HTML object>"
      ]
     },
     "metadata": {},
     "output_type": "display_data"
    },
    {
     "data": {
      "text/html": [
       "<blockquote> Clearly, future work should elucidate the evolutionary trade-offs between protection from pathogens and genetic susceptibility to autoimmune diseases</blockquote>"
      ],
      "text/plain": [
       "<IPython.core.display.HTML object>"
      ]
     },
     "metadata": {},
     "output_type": "display_data"
    },
    {
     "data": {
      "text/html": [
       "<p style='text-align:center'> *** </p>"
      ],
      "text/plain": [
       "<IPython.core.display.HTML object>"
      ]
     },
     "metadata": {},
     "output_type": "display_data"
    },
    {
     "data": {
      "text/html": [
       "<h4 style='text-align:center'>31-12-2018</h4>"
      ],
      "text/plain": [
       "<IPython.core.display.HTML object>"
      ]
     },
     "metadata": {},
     "output_type": "display_data"
    },
    {
     "data": {
      "text/html": [
       "<h3 style='text-align:center'> <a href='https://doi.org/10.1016/j.meegid.2017.09.028'> GENETIC SUSCEPTIBILITY TO INFECTIOUS DISEASES: CURRENT STATUS AND FUTURE PERSPECTIVES FROM GENOME-WIDE APPROACHES</a></h2>"
      ],
      "text/plain": [
       "<IPython.core.display.HTML object>"
      ]
     },
     "metadata": {},
     "output_type": "display_data"
    },
    {
     "data": {
      "text/html": [
       "<h4 style='text-align:center'> ~ <b>Mozzi, Alessandra; Pontremoli, Chiara; Sironi, Manuela</b></h4>"
      ],
      "text/plain": [
       "<IPython.core.display.HTML object>"
      ]
     },
     "metadata": {},
     "output_type": "display_data"
    },
    {
     "data": {
      "text/html": [
       "<blockquote> Indeed, poor socioeconomic conditions represent a risk factor for several infectious diseases (Baker et al\n",
       " These data suggest that both immunological and carcinogenic factors contribute to the risk of cervical cancer development\n",
       " This exemplifies how the combined effect of genetic admixture and environmental factors has the potential to affect genetic associations</blockquote>"
      ],
      "text/plain": [
       "<IPython.core.display.HTML object>"
      ]
     },
     "metadata": {},
     "output_type": "display_data"
    },
    {
     "data": {
      "text/html": [
       "<p style='text-align:center'> *** </p>"
      ],
      "text/plain": [
       "<IPython.core.display.HTML object>"
      ]
     },
     "metadata": {},
     "output_type": "display_data"
    },
    {
     "data": {
      "text/html": [
       "<h4 style='text-align:center'>20-02-2014</h4>"
      ],
      "text/plain": [
       "<IPython.core.display.HTML object>"
      ]
     },
     "metadata": {},
     "output_type": "display_data"
    },
    {
     "data": {
      "text/html": [
       "<h3 style='text-align:center'> <a href='https://www.ncbi.nlm.nih.gov/pmc/articles/PMC3930559/'> UNIFYING VIRAL GENETICS AND HUMAN TRANSPORTATION DATA TO PREDICT THE GLOBAL TRANSMISSION DYNAMICS OF HUMAN INFLUENZA H3N2</a></h2>"
      ],
      "text/plain": [
       "<IPython.core.display.HTML object>"
      ]
     },
     "metadata": {},
     "output_type": "display_data"
    },
    {
     "data": {
      "text/html": [
       "<h4 style='text-align:center'> ~ <b>Lemey, Philippe; Rambaut, Andrew; Bedford, Trevor; Faria, Nuno; Bielejec, Filip; Baele, Guy; Russell, Colin A.; Smith, Derek J.; Pybus, Oliver G.; Brockmann, Dirk; Suchard, Marc A.</b></h4>"
      ],
      "text/plain": [
       "<IPython.core.display.HTML object>"
      ]
     },
     "metadata": {},
     "output_type": "display_data"
    },
    {
     "data": {
      "text/html": [
       "<blockquote>Our analysis reveals that many potential predictors of global influenza virus spread are not associated with viral lineage movement, specifically, geographical proximity, demography and economic measures, antigenic divergence, epidemiological synchronity and seasonality do not yield noticeable support (Fig</blockquote>"
      ],
      "text/plain": [
       "<IPython.core.display.HTML object>"
      ]
     },
     "metadata": {},
     "output_type": "display_data"
    },
    {
     "data": {
      "text/html": [
       "<p style='text-align:center'> *** </p>"
      ],
      "text/plain": [
       "<IPython.core.display.HTML object>"
      ]
     },
     "metadata": {},
     "output_type": "display_data"
    },
    {
     "data": {
      "text/html": [
       "<h4 style='text-align:center'>10-10-2013</h4>"
      ],
      "text/plain": [
       "<IPython.core.display.HTML object>"
      ]
     },
     "metadata": {},
     "output_type": "display_data"
    },
    {
     "data": {
      "text/html": [
       "<h3 style='text-align:center'> <a href='https://www.ncbi.nlm.nih.gov/pmc/articles/PMC3794897/'> FEATURE SELECTION METHODS FOR IDENTIFYING GENETIC DETERMINANTS OF HOST SPECIES IN RNA VIRUSES</a></h2>"
      ],
      "text/plain": [
       "<IPython.core.display.HTML object>"
      ]
     },
     "metadata": {},
     "output_type": "display_data"
    },
    {
     "data": {
      "text/html": [
       "<h4 style='text-align:center'> ~ <b>Aguas, Ricardo; Ferguson, Neil M.</b></h4>"
      ],
      "text/plain": [
       "<IPython.core.display.HTML object>"
      ]
     },
     "metadata": {},
     "output_type": "display_data"
    },
    {
     "data": {
      "text/html": [
       "<blockquote>The identification of genetic markers predicting cross-species disease emergence faces many of the same challenges as genotypeto-phenotype mapping in other spheres, such as human genomewide association studies of risk factors for chronic diseases [13] </blockquote>"
      ],
      "text/plain": [
       "<IPython.core.display.HTML object>"
      ]
     },
     "metadata": {},
     "output_type": "display_data"
    },
    {
     "data": {
      "text/html": [
       "<p style='text-align:center'> *** </p>"
      ],
      "text/plain": [
       "<IPython.core.display.HTML object>"
      ]
     },
     "metadata": {},
     "output_type": "display_data"
    },
    {
     "data": {
      "text/html": [
       "<h4 style='text-align:center'>20-06-2012</h4>"
      ],
      "text/plain": [
       "<IPython.core.display.HTML object>"
      ]
     },
     "metadata": {},
     "output_type": "display_data"
    },
    {
     "data": {
      "text/html": [
       "<h3 style='text-align:center'> <a href='https://www.nature.com/articles/hdy201233.pdf'> DOES GENETIC DIVERSITY LIMIT DISEASE SPREAD IN NATURAL HOST POPULATIONS?</a></h2>"
      ],
      "text/plain": [
       "<IPython.core.display.HTML object>"
      ]
     },
     "metadata": {},
     "output_type": "display_data"
    },
    {
     "data": {
      "text/html": [
       "<h4 style='text-align:center'> ~ <b>King, K C; Lively, C M</b></h4>"
      ],
      "text/plain": [
       "<IPython.core.display.HTML object>"
      ]
     },
     "metadata": {},
     "output_type": "display_data"
    },
    {
     "data": {
      "text/html": [
       "<blockquote>By reducing individual-level and population-level genetic heterozygosity, inbreeding can increase host susceptibility to infectious parasites (Dwyer et al</blockquote>"
      ],
      "text/plain": [
       "<IPython.core.display.HTML object>"
      ]
     },
     "metadata": {},
     "output_type": "display_data"
    },
    {
     "data": {
      "text/html": [
       "<p style='text-align:center'> *** </p>"
      ],
      "text/plain": [
       "<IPython.core.display.HTML object>"
      ]
     },
     "metadata": {},
     "output_type": "display_data"
    }
   ],
   "source": [
    "tags = [\n",
    "\"Real-time tracking of whole genomes and a mechanism for coordinating the rapid dissemination of that information to inform the development of diagnostics and therapeutics and to track variations of the virus over time.\",\n",
    "\"Access to geographic and temporal diverse sample sets to understand geographic distribution and genomic differences, and determine whether there is more than one strain in circulation. Multi-lateral agreements such as the Nagoya Protocol could be leveraged.\"\n",
    "\"Evidence that livestock could be infected (e.g., field surveillance, genetic sequencing, receptor binding) and serve as a reservoir after the epidemic appears to be over.\",\n",
    "\"Evidence of whether farmers are infected, and whether farmers could have played a role in the origin.\",\n",
    "\"Surveillance of mixed wildlife- livestock farms for SARS-CoV-2 and other coronaviruses in Southeast Asia.\",\n",
    "\"Experimental infections to test host range for this pathogen.\",\n",
    "\"Animal host(s) and any evidence of continued spill-over to humans\",\n",
    "\"Socioeconomic and behavioral risk factors for this spill-over\",\n",
    "\"Sustainable risk reduction strategies\"\n",
    "]\n",
    "\n",
    "read_data(tags, 3)"
   ]
  },
  {
   "cell_type": "code",
   "execution_count": 68,
   "metadata": {},
   "outputs": [
    {
     "data": {
      "text/html": [
       "<h1 style='font-size:30px'>What do we know about vaccines and therapeutics?</h1> </br>"
      ],
      "text/plain": [
       "<IPython.core.display.HTML object>"
      ]
     },
     "metadata": {},
     "output_type": "display_data"
    },
    {
     "data": {
      "text/html": [
       "<h2>1. Effectiveness of drugs being developed and tried to treat COVID-19 patients. </h2>"
      ],
      "text/plain": [
       "<IPython.core.display.HTML object>"
      ]
     },
     "metadata": {},
     "output_type": "display_data"
    },
    {
     "data": {
      "text/html": [
       "<h4 style='text-align:center'>30-01-2020</h4>"
      ],
      "text/plain": [
       "<IPython.core.display.HTML object>"
      ]
     },
     "metadata": {},
     "output_type": "display_data"
    },
    {
     "data": {
      "text/html": [
       "<h3 style='text-align:center'> <a href='https://www.ncbi.nlm.nih.gov/pmc/articles/PMC7002362/'> VACCINES AND THERAPEUTICS AGAINST HANTAVIRUSES</a></h2>"
      ],
      "text/plain": [
       "<IPython.core.display.HTML object>"
      ]
     },
     "metadata": {},
     "output_type": "display_data"
    },
    {
     "data": {
      "text/html": [
       "<h4 style='text-align:center'> ~ <b>Liu, Rongrong; Ma, Hongwei; Shu, Jiayi; Zhang, Qiang; Han, Mingwei; Liu, Ziyu; Jin, Xia; Zhang, Fanglin; Wu, Xingan</b></h4>"
      ],
      "text/plain": [
       "<IPython.core.display.HTML object>"
      ]
     },
     "metadata": {},
     "output_type": "display_data"
    },
    {
     "data": {
      "text/html": [
       "<blockquote>, 2018) , it is feasible to repurpose those FDA-approved drugs targeting vasoactive mediators for use as hantaviral infection therapy</blockquote>"
      ],
      "text/plain": [
       "<IPython.core.display.HTML object>"
      ]
     },
     "metadata": {},
     "output_type": "display_data"
    },
    {
     "data": {
      "text/html": [
       "<p style='text-align:center'> *** </p>"
      ],
      "text/plain": [
       "<IPython.core.display.HTML object>"
      ]
     },
     "metadata": {},
     "output_type": "display_data"
    },
    {
     "data": {
      "text/html": [
       "<h4 style='text-align:center'>08-02-2010</h4>"
      ],
      "text/plain": [
       "<IPython.core.display.HTML object>"
      ]
     },
     "metadata": {},
     "output_type": "display_data"
    },
    {
     "data": {
      "text/html": [
       "<h3 style='text-align:center'> <a href='https://www.ncbi.nlm.nih.gov/pmc/articles/PMC2817000/'> NEW CLASS OF MONOCLONAL ANTIBODIES AGAINST SEVERE INFLUENZA: PROPHYLACTIC AND THERAPEUTIC EFFICACY IN FERRETS</a></h2>"
      ],
      "text/plain": [
       "<IPython.core.display.HTML object>"
      ]
     },
     "metadata": {},
     "output_type": "display_data"
    },
    {
     "data": {
      "text/html": [
       "<h4 style='text-align:center'> ~ <b>Friesen, Robert H. E.; Koudstaal, Wouter; Koldijk, Martin H.; Weverling, Gerrit Jan; Brakenhoff, Just P. J.; Lenting, Peter J.; Stittelaar, Koert J.; Osterhaus, Albert D. M. E.; Kompier, Ronald; Goudsmit, Jaap</b></h4>"
      ],
      "text/plain": [
       "<IPython.core.display.HTML object>"
      ]
     },
     "metadata": {},
     "output_type": "display_data"
    },
    {
     "data": {
      "text/html": [
       "<blockquote>In the absence of reliable antiviral drugs and vaccines, development of alternative strategies for influenza prophylaxis and therapy is urgently required</blockquote>"
      ],
      "text/plain": [
       "<IPython.core.display.HTML object>"
      ]
     },
     "metadata": {},
     "output_type": "display_data"
    },
    {
     "data": {
      "text/html": [
       "<p style='text-align:center'> *** </p>"
      ],
      "text/plain": [
       "<IPython.core.display.HTML object>"
      ]
     },
     "metadata": {},
     "output_type": "display_data"
    },
    {
     "data": {
      "text/html": [
       "<h4 style='text-align:center'>30-12-2009</h4>"
      ],
      "text/plain": [
       "<IPython.core.display.HTML object>"
      ]
     },
     "metadata": {},
     "output_type": "display_data"
    },
    {
     "data": {
      "text/html": [
       "<h3 style='text-align:center'> <a href='https://doi.org/10.1016/j.vaccine.2009.09.105'> MONOCLONAL ANTIBODY-BASED THERAPIES FOR MICROBIAL DISEASES</a></h2>"
      ],
      "text/plain": [
       "<IPython.core.display.HTML object>"
      ]
     },
     "metadata": {},
     "output_type": "display_data"
    },
    {
     "data": {
      "text/html": [
       "<h4 style='text-align:center'> ~ <b>Saylor, Carolyn; Dadachova, Ekaterina; Casadevall, Arturo</b></h4>"
      ],
      "text/plain": [
       "<IPython.core.display.HTML object>"
      ]
     },
     "metadata": {},
     "output_type": "display_data"
    },
    {
     "data": {
      "text/html": [
       "<blockquote> Consequently, mAbs are unlikely to successfully compete with antimicrobial drugs against diseases for which cheap effective therapy is available unless a clear superiority is established for the immunoglobulin therapy alone or in combination with conventional antimicrobial therapy\n",
       " Although there are numerous antiretroviral drugs available for the treatment of HIV, the availability of effective mAb therapy could complement chemotherapy by slowing the onset of resistance and possibly enhancing therapeutic efficacy</blockquote>"
      ],
      "text/plain": [
       "<IPython.core.display.HTML object>"
      ]
     },
     "metadata": {},
     "output_type": "display_data"
    },
    {
     "data": {
      "text/html": [
       "<p style='text-align:center'> *** </p>"
      ],
      "text/plain": [
       "<IPython.core.display.HTML object>"
      ]
     },
     "metadata": {},
     "output_type": "display_data"
    },
    {
     "data": {
      "text/html": [
       "<h2>2. Clinical and bench trials to investigate less common viral inhibitors against COVID-19 such as naproxen, clarithromycin, and minocyclinethat that may exert effects on viral replication. </h2>"
      ],
      "text/plain": [
       "<IPython.core.display.HTML object>"
      ]
     },
     "metadata": {},
     "output_type": "display_data"
    },
    {
     "data": {
      "text/html": [
       "<h4 style='text-align:center'>10-07-2017</h4>"
      ],
      "text/plain": [
       "<IPython.core.display.HTML object>"
      ]
     },
     "metadata": {},
     "output_type": "display_data"
    },
    {
     "data": {
      "text/html": [
       "<h3 style='text-align:center'> <a href='https://www.ncbi.nlm.nih.gov/pmc/articles/PMC5627241/'> ANTIBODY THERAPIES FOR THE PREVENTION AND TREATMENT OF VIRAL INFECTIONS</a></h2>"
      ],
      "text/plain": [
       "<IPython.core.display.HTML object>"
      ]
     },
     "metadata": {},
     "output_type": "display_data"
    },
    {
     "data": {
      "text/html": [
       "<h4 style='text-align:center'> ~ <b>Salazar, Georgina; Zhang, Ningyan; Fu, Tong-Ming; An, Zhiqiang</b></h4>"
      ],
      "text/plain": [
       "<IPython.core.display.HTML object>"
      ]
     },
     "metadata": {},
     "output_type": "display_data"
    },
    {
     "data": {
      "text/html": [
       "<blockquote> Typical therapy involves respiratory precautions and medication such as oseltamivir (Tamiflu), that inhibit the influenza protein neuraminidase involved in release of virus particles</blockquote>"
      ],
      "text/plain": [
       "<IPython.core.display.HTML object>"
      ]
     },
     "metadata": {},
     "output_type": "display_data"
    },
    {
     "data": {
      "text/html": [
       "<p style='text-align:center'> *** </p>"
      ],
      "text/plain": [
       "<IPython.core.display.HTML object>"
      ]
     },
     "metadata": {},
     "output_type": "display_data"
    },
    {
     "data": {
      "text/html": [
       "<h4 style='text-align:center'>01-02-2017</h4>"
      ],
      "text/plain": [
       "<IPython.core.display.HTML object>"
      ]
     },
     "metadata": {},
     "output_type": "display_data"
    },
    {
     "data": {
      "text/html": [
       "<h3 style='text-align:center'> <a href='http://europepmc.org/articles/pmc5448557?pdf=render'> THERAPY WITH CTLA4-IG AND AN ANTIVIRAL MONOCLONAL ANTIBODY CONTROLS CHIKUNGUNYA VIRUS ARTHRITIS</a></h2>"
      ],
      "text/plain": [
       "<IPython.core.display.HTML object>"
      ]
     },
     "metadata": {},
     "output_type": "display_data"
    },
    {
     "data": {
      "text/html": [
       "<h4 style='text-align:center'> ~ <b>Miner, Jonathan J.; Cook, Lindsey E.; Hong, Jun P.; Smith, Amber M.; Richner, Justin M.; Shimak, Raeann M.; Young, Alissa R.; Monte, Kristen; Poddar, Subhajit; Crowe, James E.; Lenschow, Deborah J.; Diamond, Michael S.</b></h4>"
      ],
      "text/plain": [
       "<IPython.core.display.HTML object>"
      ]
     },
     "metadata": {},
     "output_type": "display_data"
    },
    {
     "data": {
      "text/html": [
       "<blockquote> Tofacitinib therapy may blunt cytokine production and/or leukocyte infiltration without enhancement of CHIKV replication</blockquote>"
      ],
      "text/plain": [
       "<IPython.core.display.HTML object>"
      ]
     },
     "metadata": {},
     "output_type": "display_data"
    },
    {
     "data": {
      "text/html": [
       "<p style='text-align:center'> *** </p>"
      ],
      "text/plain": [
       "<IPython.core.display.HTML object>"
      ]
     },
     "metadata": {},
     "output_type": "display_data"
    },
    {
     "data": {
      "text/html": [
       "<h4 style='text-align:center'>25-09-2016</h4>"
      ],
      "text/plain": [
       "<IPython.core.display.HTML object>"
      ]
     },
     "metadata": {},
     "output_type": "display_data"
    },
    {
     "data": {
      "text/html": [
       "<h3 style='text-align:center'> <a href='https://www.ncbi.nlm.nih.gov/pmc/articles/PMC5075008/'> INHIBITOR-BASED THERAPEUTICS FOR TREATMENT OF VIRAL HEPATITIS</a></h2>"
      ],
      "text/plain": [
       "<IPython.core.display.HTML object>"
      ]
     },
     "metadata": {},
     "output_type": "display_data"
    },
    {
     "data": {
      "text/html": [
       "<h4 style='text-align:center'> ~ <b>Dey, Debajit; Banerjee, Manidipa</b></h4>"
      ],
      "text/plain": [
       "<IPython.core.display.HTML object>"
      ]
     },
     "metadata": {},
     "output_type": "display_data"
    },
    {
     "data": {
      "text/html": [
       "<blockquote> These include potent polymerase inhibitors, entry inhibitors, cccDNA inhibitors, nucleocapsid assembly inhibitors, inhibitors of viral gene expression and HBsAg release inhibitors</blockquote>"
      ],
      "text/plain": [
       "<IPython.core.display.HTML object>"
      ]
     },
     "metadata": {},
     "output_type": "display_data"
    },
    {
     "data": {
      "text/html": [
       "<p style='text-align:center'> *** </p>"
      ],
      "text/plain": [
       "<IPython.core.display.HTML object>"
      ]
     },
     "metadata": {},
     "output_type": "display_data"
    },
    {
     "data": {
      "text/html": [
       "<h4 style='text-align:center'>28-12-2015</h4>"
      ],
      "text/plain": [
       "<IPython.core.display.HTML object>"
      ]
     },
     "metadata": {},
     "output_type": "display_data"
    },
    {
     "data": {
      "text/html": [
       "<h3 style='text-align:center'> <a href='http://europepmc.org/articles/pmc4955855?pdf=render'> MOLECULAR MECHANISMS FOR ENHANCED DNA VACCINE IMMUNOGENICITY</a></h2>"
      ],
      "text/plain": [
       "<IPython.core.display.HTML object>"
      ]
     },
     "metadata": {},
     "output_type": "display_data"
    },
    {
     "data": {
      "text/html": [
       "<h4 style='text-align:center'> ~ <b>Li, Lei; Petrovsky, Nikolai</b></h4>"
      ],
      "text/plain": [
       "<IPython.core.display.HTML object>"
      ]
     },
     "metadata": {},
     "output_type": "display_data"
    },
    {
     "data": {
      "text/html": [
       "<blockquote> A recent study showed that cation-complexed HIV-1 plasmid DNA vaccines applied topically to the murine pulmonary mucosa induced both mucosal and systemic immune responses models [175] \n",
       " Hence combinations of multiple cytokines in a DNA vaccine formulation or sequential vaccination with cytokines may enhance vaccine efficacy</blockquote>"
      ],
      "text/plain": [
       "<IPython.core.display.HTML object>"
      ]
     },
     "metadata": {},
     "output_type": "display_data"
    },
    {
     "data": {
      "text/html": [
       "<p style='text-align:center'> *** </p>"
      ],
      "text/plain": [
       "<IPython.core.display.HTML object>"
      ]
     },
     "metadata": {},
     "output_type": "display_data"
    },
    {
     "data": {
      "text/html": [
       "<h4 style='text-align:center'>27-04-2004</h4>"
      ],
      "text/plain": [
       "<IPython.core.display.HTML object>"
      ]
     },
     "metadata": {},
     "output_type": "display_data"
    },
    {
     "data": {
      "text/html": [
       "<h3 style='text-align:center'> <a href='https://www.ncbi.nlm.nih.gov/pmc/articles/PMC3323075/'> INHIBITION OF SARS CORONAVIRUS INFECTION IN VITRO WITH CLINICALLY APPROVED ANTIVIRAL DRUGS</a></h2>"
      ],
      "text/plain": [
       "<IPython.core.display.HTML object>"
      ]
     },
     "metadata": {},
     "output_type": "display_data"
    },
    {
     "data": {
      "text/html": [
       "<h4 style='text-align:center'> ~ <b>Tan, Emily L.C.; Ooi, Eng Eong; Lin, Chin-Yo; Tan, Hwee Cheng; Ling, Ai Ee; Lim, Bing; Stanton, Lawrence W.</b></h4>"
      ],
      "text/plain": [
       "<IPython.core.display.HTML object>"
      ]
     },
     "metadata": {},
     "output_type": "display_data"
    },
    {
     "data": {
      "text/html": [
       "<blockquote> They are representative compounds from major antiviral pharmacologic classes that are currently commercially available: nucleoside analogs, interferons, protease inhibitors, reverse transcriptase inhibitors and neuraminidase inhibitors\n",
       " Antiretroviral (HIV) drugs include reverse transcriptase (RT) inhibitors and protease inhibitors</blockquote>"
      ],
      "text/plain": [
       "<IPython.core.display.HTML object>"
      ]
     },
     "metadata": {},
     "output_type": "display_data"
    },
    {
     "data": {
      "text/html": [
       "<p style='text-align:center'> *** </p>"
      ],
      "text/plain": [
       "<IPython.core.display.HTML object>"
      ]
     },
     "metadata": {},
     "output_type": "display_data"
    },
    {
     "data": {
      "text/html": [
       "<h2>3. Methods evaluating potential complication of Antibody-Dependent Enhancement (ADE) in vaccine recipients. </h2>"
      ],
      "text/plain": [
       "<IPython.core.display.HTML object>"
      ]
     },
     "metadata": {},
     "output_type": "display_data"
    },
    {
     "data": {
      "text/html": [
       "<h4 style='text-align:center'>30-01-2020</h4>"
      ],
      "text/plain": [
       "<IPython.core.display.HTML object>"
      ]
     },
     "metadata": {},
     "output_type": "display_data"
    },
    {
     "data": {
      "text/html": [
       "<h3 style='text-align:center'> <a href='https://www.ncbi.nlm.nih.gov/pmc/articles/PMC7002362/'> VACCINES AND THERAPEUTICS AGAINST HANTAVIRUSES</a></h2>"
      ],
      "text/plain": [
       "<IPython.core.display.HTML object>"
      ]
     },
     "metadata": {},
     "output_type": "display_data"
    },
    {
     "data": {
      "text/html": [
       "<h4 style='text-align:center'> ~ <b>Liu, Rongrong; Ma, Hongwei; Shu, Jiayi; Zhang, Qiang; Han, Mingwei; Liu, Ziyu; Jin, Xia; Zhang, Fanglin; Wu, Xingan</b></h4>"
      ],
      "text/plain": [
       "<IPython.core.display.HTML object>"
      ]
     },
     "metadata": {},
     "output_type": "display_data"
    },
    {
     "data": {
      "text/html": [
       "<blockquote> Rabbits vaccinated with SNV DNA vaccine with muscle electroporation (mEP) produced increased neutralizing antibody titers</blockquote>"
      ],
      "text/plain": [
       "<IPython.core.display.HTML object>"
      ]
     },
     "metadata": {},
     "output_type": "display_data"
    },
    {
     "data": {
      "text/html": [
       "<p style='text-align:center'> *** </p>"
      ],
      "text/plain": [
       "<IPython.core.display.HTML object>"
      ]
     },
     "metadata": {},
     "output_type": "display_data"
    },
    {
     "data": {
      "text/html": [
       "<h4 style='text-align:center'>31-10-2017</h4>"
      ],
      "text/plain": [
       "<IPython.core.display.HTML object>"
      ]
     },
     "metadata": {},
     "output_type": "display_data"
    },
    {
     "data": {
      "text/html": [
       "<h3 style='text-align:center'> <a href='https://doi.org/10.1016/j.jviromet.2017.06.007'> ANTIBODY-DEPENDENT NK CELL DEGRANULATION AS A MARKER FOR ASSESSING ANTIBODY-DEPENDENT CYTOTOXICITY AGAINST PANDEMIC 2009 INFLUENZA A(H1N1) INFECTION IN HUMAN PLASMA AND INFLUENZA-VACCINATED TRANSCHROMOSOMIC BOVINE INTRAVENOUS IMMUNOGLOBULIN THERAPY</a></h2>"
      ],
      "text/plain": [
       "<IPython.core.display.HTML object>"
      ]
     },
     "metadata": {},
     "output_type": "display_data"
    },
    {
     "data": {
      "text/html": [
       "<h4 style='text-align:center'> ~ <b>Morrison, Brian J.; Roman, Jessica A.; Luke, Thomas C.; Nagabhushana, Nishith; Raviprakash, Kanakatte; Williams, Maya; Sun, Peifang</b></h4>"
      ],
      "text/plain": [
       "<IPython.core.display.HTML object>"
      ]
     },
     "metadata": {},
     "output_type": "display_data"
    },
    {
     "data": {
      "text/html": [
       "<blockquote> Influenza passive immunotherapy treatments include use of convalescent plasma, hyperimmune immunoglobulins, or monoclonal antibody therapies\n",
       " Using our assay and assessing an influenza-vaccinated Tc bovine IVIG therapeutic, NK cell degranulation was specific for virally-infected cells and demonstrated a high titer of NK degranulation antibodies (1:5000)</blockquote>"
      ],
      "text/plain": [
       "<IPython.core.display.HTML object>"
      ]
     },
     "metadata": {},
     "output_type": "display_data"
    },
    {
     "data": {
      "text/html": [
       "<p style='text-align:center'> *** </p>"
      ],
      "text/plain": [
       "<IPython.core.display.HTML object>"
      ]
     },
     "metadata": {},
     "output_type": "display_data"
    },
    {
     "data": {
      "text/html": [
       "<h4 style='text-align:center'>10-07-2017</h4>"
      ],
      "text/plain": [
       "<IPython.core.display.HTML object>"
      ]
     },
     "metadata": {},
     "output_type": "display_data"
    },
    {
     "data": {
      "text/html": [
       "<h3 style='text-align:center'> <a href='https://www.ncbi.nlm.nih.gov/pmc/articles/PMC5627241/'> ANTIBODY THERAPIES FOR THE PREVENTION AND TREATMENT OF VIRAL INFECTIONS</a></h2>"
      ],
      "text/plain": [
       "<IPython.core.display.HTML object>"
      ]
     },
     "metadata": {},
     "output_type": "display_data"
    },
    {
     "data": {
      "text/html": [
       "<h4 style='text-align:center'> ~ <b>Salazar, Georgina; Zhang, Ningyan; Fu, Tong-Ming; An, Zhiqiang</b></h4>"
      ],
      "text/plain": [
       "<IPython.core.display.HTML object>"
      ]
     },
     "metadata": {},
     "output_type": "display_data"
    },
    {
     "data": {
      "text/html": [
       "<blockquote> Hepatitis B immunoglobulin antibody preparations are one form of countermeasure under investigation</blockquote>"
      ],
      "text/plain": [
       "<IPython.core.display.HTML object>"
      ]
     },
     "metadata": {},
     "output_type": "display_data"
    },
    {
     "data": {
      "text/html": [
       "<p style='text-align:center'> *** </p>"
      ],
      "text/plain": [
       "<IPython.core.display.HTML object>"
      ]
     },
     "metadata": {},
     "output_type": "display_data"
    },
    {
     "data": {
      "text/html": [
       "<h4 style='text-align:center'>28-12-2015</h4>"
      ],
      "text/plain": [
       "<IPython.core.display.HTML object>"
      ]
     },
     "metadata": {},
     "output_type": "display_data"
    },
    {
     "data": {
      "text/html": [
       "<h3 style='text-align:center'> <a href='http://europepmc.org/articles/pmc4955855?pdf=render'> MOLECULAR MECHANISMS FOR ENHANCED DNA VACCINE IMMUNOGENICITY</a></h2>"
      ],
      "text/plain": [
       "<IPython.core.display.HTML object>"
      ]
     },
     "metadata": {},
     "output_type": "display_data"
    },
    {
     "data": {
      "text/html": [
       "<h4 style='text-align:center'> ~ <b>Li, Lei; Petrovsky, Nikolai</b></h4>"
      ],
      "text/plain": [
       "<IPython.core.display.HTML object>"
      ]
     },
     "metadata": {},
     "output_type": "display_data"
    },
    {
     "data": {
      "text/html": [
       "<blockquote> Hence combinations of multiple cytokines in a DNA vaccine formulation or sequential vaccination with cytokines may enhance vaccine efficacy\n",
       " Using this system, increased neutralizing antibody titers to HIV-1 gp120 DNA vaccination was achieved in rabbits [47] </blockquote>"
      ],
      "text/plain": [
       "<IPython.core.display.HTML object>"
      ]
     },
     "metadata": {},
     "output_type": "display_data"
    },
    {
     "data": {
      "text/html": [
       "<p style='text-align:center'> *** </p>"
      ],
      "text/plain": [
       "<IPython.core.display.HTML object>"
      ]
     },
     "metadata": {},
     "output_type": "display_data"
    },
    {
     "data": {
      "text/html": [
       "<h4 style='text-align:center'>01-02-2008</h4>"
      ],
      "text/plain": [
       "<IPython.core.display.HTML object>"
      ]
     },
     "metadata": {},
     "output_type": "display_data"
    },
    {
     "data": {
      "text/html": [
       "<h3 style='text-align:center'> <a href='http://europepmc.org/articles/pmc2254135?pdf=render'> IMMUNOGENICITY AND PROTECTION EFFICACY OF SUBUNIT-BASED SMALLPOX VACCINES USING VARIOLA MAJOR ANTIGENS</a></h2>"
      ],
      "text/plain": [
       "<IPython.core.display.HTML object>"
      ]
     },
     "metadata": {},
     "output_type": "display_data"
    },
    {
     "data": {
      "text/html": [
       "<h4 style='text-align:center'> ~ <b>Sakhatskyy, Pavlo; Wang, Shixia; Zhang, Chuanyou; Chou, Te-Hui; Kishko, Michael; Lu, Shan</b></h4>"
      ],
      "text/plain": [
       "<IPython.core.display.HTML object>"
      ]
     },
     "metadata": {},
     "output_type": "display_data"
    },
    {
     "data": {
      "text/html": [
       "<blockquote> The protein immunization elicited significantly higher antibody when compared to DNA immunization (* indicates p<0\n",
       " Immunization with the polyvalent recombinant VARV protein vaccines was significantly more immunogenic than immunization with the polyvalent VARV DNA vaccines (p<0</blockquote>"
      ],
      "text/plain": [
       "<IPython.core.display.HTML object>"
      ]
     },
     "metadata": {},
     "output_type": "display_data"
    },
    {
     "data": {
      "text/html": [
       "<p style='text-align:center'> *** </p>"
      ],
      "text/plain": [
       "<IPython.core.display.HTML object>"
      ]
     },
     "metadata": {},
     "output_type": "display_data"
    },
    {
     "data": {
      "text/html": [
       "<h4 style='text-align:center'>31-12-2007</h4>"
      ],
      "text/plain": [
       "<IPython.core.display.HTML object>"
      ]
     },
     "metadata": {},
     "output_type": "display_data"
    },
    {
     "data": {
      "text/html": [
       "<h3 style='text-align:center'> <a href='https://doi.org/10.1016/s1387-2656(07)13004-0'> PREPARATION OF RECOMBINANT VACCINES</a></h2>"
      ],
      "text/plain": [
       "<IPython.core.display.HTML object>"
      ]
     },
     "metadata": {},
     "output_type": "display_data"
    },
    {
     "data": {
      "text/html": [
       "<h4 style='text-align:center'> ~ <b>Soler, Eric; Houdebine, Louis-Marie</b></h4>"
      ],
      "text/plain": [
       "<IPython.core.display.HTML object>"
      ]
     },
     "metadata": {},
     "output_type": "display_data"
    },
    {
     "data": {
      "text/html": [
       "<blockquote> Mice vaccinated with an influenza virus vaccine with LTB showed higher systemic and mucosal antibody responses than mice receiving the vaccine alone [82] </blockquote>"
      ],
      "text/plain": [
       "<IPython.core.display.HTML object>"
      ]
     },
     "metadata": {},
     "output_type": "display_data"
    },
    {
     "data": {
      "text/html": [
       "<p style='text-align:center'> *** </p>"
      ],
      "text/plain": [
       "<IPython.core.display.HTML object>"
      ]
     },
     "metadata": {},
     "output_type": "display_data"
    },
    {
     "data": {
      "text/html": [
       "<h2>4. Exploration of use of best animal models and their predictive value for a human vaccine. </h2>"
      ],
      "text/plain": [
       "<IPython.core.display.HTML object>"
      ]
     },
     "metadata": {},
     "output_type": "display_data"
    },
    {
     "data": {
      "text/html": [
       "<h4 style='text-align:center'>02-01-2019</h4>"
      ],
      "text/plain": [
       "<IPython.core.display.HTML object>"
      ]
     },
     "metadata": {},
     "output_type": "display_data"
    },
    {
     "data": {
      "text/html": [
       "<h3 style='text-align:center'> <a href='https://doi.org/10.1016/j.ymthe.2018.10.016'> DEVELOPMENT OF NOVEL DNA-ENCODED PCSK9 MONOCLONAL ANTIBODIES AS LIPID-LOWERING THERAPEUTICS</a></h2>"
      ],
      "text/plain": [
       "<IPython.core.display.HTML object>"
      ]
     },
     "metadata": {},
     "output_type": "display_data"
    },
    {
     "data": {
      "text/html": [
       "<h4 style='text-align:center'> ~ <b>Khoshnejad, Makan; Patel, Ami; Wojtak, Krzysztof; Kudchodkar, Sagar B.; Humeau, Laurent; Lyssenko, Nicholas N.; Rader, Daniel J.; Muthumani, Kar; Weiner, David B.</b></h4>"
      ],
      "text/plain": [
       "<IPython.core.display.HTML object>"
      ]
     },
     "metadata": {},
     "output_type": "display_data"
    },
    {
     "data": {
      "text/html": [
       "<blockquote> 81 In a phase I clinical trial evaluating the safety and immunogenicity of DNA vaccine GLS-5700, healthy adults demonstrated development of both binding and neutralizing antibodies, associated with protection in animal models</blockquote>"
      ],
      "text/plain": [
       "<IPython.core.display.HTML object>"
      ]
     },
     "metadata": {},
     "output_type": "display_data"
    },
    {
     "data": {
      "text/html": [
       "<p style='text-align:center'> *** </p>"
      ],
      "text/plain": [
       "<IPython.core.display.HTML object>"
      ]
     },
     "metadata": {},
     "output_type": "display_data"
    },
    {
     "data": {
      "text/html": [
       "<h4 style='text-align:center'>28-12-2015</h4>"
      ],
      "text/plain": [
       "<IPython.core.display.HTML object>"
      ]
     },
     "metadata": {},
     "output_type": "display_data"
    },
    {
     "data": {
      "text/html": [
       "<h3 style='text-align:center'> <a href='http://europepmc.org/articles/pmc4955855?pdf=render'> MOLECULAR MECHANISMS FOR ENHANCED DNA VACCINE IMMUNOGENICITY</a></h2>"
      ],
      "text/plain": [
       "<IPython.core.display.HTML object>"
      ]
     },
     "metadata": {},
     "output_type": "display_data"
    },
    {
     "data": {
      "text/html": [
       "<h4 style='text-align:center'> ~ <b>Li, Lei; Petrovsky, Nikolai</b></h4>"
      ],
      "text/plain": [
       "<IPython.core.display.HTML object>"
      ]
     },
     "metadata": {},
     "output_type": "display_data"
    },
    {
     "data": {
      "text/html": [
       "<blockquote>As in traditional vaccine research, small rodent laboratory animals are principally used for DNA vaccine research\n",
       " While vaccine success in small animal models does not guarantee translation to humans, such studies remain an important part of the vaccine development pipeline</blockquote>"
      ],
      "text/plain": [
       "<IPython.core.display.HTML object>"
      ]
     },
     "metadata": {},
     "output_type": "display_data"
    },
    {
     "data": {
      "text/html": [
       "<p style='text-align:center'> *** </p>"
      ],
      "text/plain": [
       "<IPython.core.display.HTML object>"
      ]
     },
     "metadata": {},
     "output_type": "display_data"
    },
    {
     "data": {
      "text/html": [
       "<h4 style='text-align:center'>30-04-2015</h4>"
      ],
      "text/plain": [
       "<IPython.core.display.HTML object>"
      ]
     },
     "metadata": {},
     "output_type": "display_data"
    },
    {
     "data": {
      "text/html": [
       "<h3 style='text-align:center'> <a href='https://www.ncbi.nlm.nih.gov/pmc/articles/PMC4530203/'> PRECLINICAL SAFETY AND TOLERABILITY OF A REPEATEDLY ADMINISTERED HUMAN LEISHMANIASIS DNA VACCINE</a></h2>"
      ],
      "text/plain": [
       "<IPython.core.display.HTML object>"
      ]
     },
     "metadata": {},
     "output_type": "display_data"
    },
    {
     "data": {
      "text/html": [
       "<h4 style='text-align:center'> ~ <b>Riede, O; Seifert, K; Oswald, D; Endmann, A; Hock, C; Winkler, A; Salguero, F J; Schroff, M; Croft, S L; Juhls, C</b></h4>"
      ],
      "text/plain": [
       "<IPython.core.display.HTML object>"
      ]
     },
     "metadata": {},
     "output_type": "display_data"
    },
    {
     "data": {
      "text/html": [
       "<blockquote> 12 However, immunogenicity of DNA vaccines was often modest in humans, necessitating better delivery methods and improved vaccine antigen expression</blockquote>"
      ],
      "text/plain": [
       "<IPython.core.display.HTML object>"
      ]
     },
     "metadata": {},
     "output_type": "display_data"
    },
    {
     "data": {
      "text/html": [
       "<p style='text-align:center'> *** </p>"
      ],
      "text/plain": [
       "<IPython.core.display.HTML object>"
      ]
     },
     "metadata": {},
     "output_type": "display_data"
    },
    {
     "data": {
      "text/html": [
       "<h4 style='text-align:center'>12-06-2014</h4>"
      ],
      "text/plain": [
       "<IPython.core.display.HTML object>"
      ]
     },
     "metadata": {},
     "output_type": "display_data"
    },
    {
     "data": {
      "text/html": [
       "<h3 style='text-align:center'> <a href='https://www.ncbi.nlm.nih.gov/pmc/articles/PMC4055766/'> PROTECTIVE EFFICACY OF PASSIVE IMMUNIZATION WITH MONOCLONAL ANTIBODIES IN ANIMAL MODELS OF H5N1 HIGHLY PATHOGENIC AVIAN INFLUENZA VIRUS INFECTION</a></h2>"
      ],
      "text/plain": [
       "<IPython.core.display.HTML object>"
      ]
     },
     "metadata": {},
     "output_type": "display_data"
    },
    {
     "data": {
      "text/html": [
       "<h4 style='text-align:center'> ~ <b>Itoh, Yasushi; Yoshida, Reiko; Shichinohe, Shintaro; Higuchi, Megumi; Ishigaki, Hirohito; Nakayama, Misako; Pham, Van Loi; Ishida, Hideaki; Kitano, Mitsutaka; Arikata, Masahiko; Kitagawa, Naoko; Mitsuishi, Yachiyo; Ogasawara, Kazumasa; Tsuchiya, Hideaki; Hiono, Takahiro; Okamatsu, Masatoshi; Sakoda, Yoshihiro; Kida, Hiroshi; Ito, Mutsumi; Quynh Mai, Le; Kawaoka, Yoshihiro; Miyamoto, Hiroko; Ishijima, Mari; Igarashi, Manabu; Suzuki, Yasuhiko; Takada, Ayato</b></h4>"
      ],
      "text/plain": [
       "<IPython.core.display.HTML object>"
      ]
     },
     "metadata": {},
     "output_type": "display_data"
    },
    {
     "data": {
      "text/html": [
       "<blockquote> In particular, we used a cynomolgus macaque model, which simulates the H5N1 HPAI virus infection of humans more faithfully and thus has been used as an animal model for vaccine and pathogenesis studies on influenza virus infection [50] </blockquote>"
      ],
      "text/plain": [
       "<IPython.core.display.HTML object>"
      ]
     },
     "metadata": {},
     "output_type": "display_data"
    },
    {
     "data": {
      "text/html": [
       "<p style='text-align:center'> *** </p>"
      ],
      "text/plain": [
       "<IPython.core.display.HTML object>"
      ]
     },
     "metadata": {},
     "output_type": "display_data"
    },
    {
     "data": {
      "text/html": [
       "<h4 style='text-align:center'>08-02-2010</h4>"
      ],
      "text/plain": [
       "<IPython.core.display.HTML object>"
      ]
     },
     "metadata": {},
     "output_type": "display_data"
    },
    {
     "data": {
      "text/html": [
       "<h3 style='text-align:center'> <a href='https://www.ncbi.nlm.nih.gov/pmc/articles/PMC2817000/'> NEW CLASS OF MONOCLONAL ANTIBODIES AGAINST SEVERE INFLUENZA: PROPHYLACTIC AND THERAPEUTIC EFFICACY IN FERRETS</a></h2>"
      ],
      "text/plain": [
       "<IPython.core.display.HTML object>"
      ]
     },
     "metadata": {},
     "output_type": "display_data"
    },
    {
     "data": {
      "text/html": [
       "<h4 style='text-align:center'> ~ <b>Friesen, Robert H. E.; Koudstaal, Wouter; Koldijk, Martin H.; Weverling, Gerrit Jan; Brakenhoff, Just P. J.; Lenting, Peter J.; Stittelaar, Koert J.; Osterhaus, Albert D. M. E.; Kompier, Ronald; Goudsmit, Jaap</b></h4>"
      ],
      "text/plain": [
       "<IPython.core.display.HTML object>"
      ]
     },
     "metadata": {},
     "output_type": "display_data"
    },
    {
     "data": {
      "text/html": [
       "<blockquote> The data of these two experiments demonstrate the prophylactic and therapeutic efficacy of this new class of human monoclonal antibodies in a highly stringent and clinically relevant ferret model of human influenza</blockquote>"
      ],
      "text/plain": [
       "<IPython.core.display.HTML object>"
      ]
     },
     "metadata": {},
     "output_type": "display_data"
    },
    {
     "data": {
      "text/html": [
       "<p style='text-align:center'> *** </p>"
      ],
      "text/plain": [
       "<IPython.core.display.HTML object>"
      ]
     },
     "metadata": {},
     "output_type": "display_data"
    },
    {
     "data": {
      "text/html": [
       "<h2>5. Capabilities to discover a therapeutic (not vaccine) for the disease, and clinical effectiveness studies to discover therapeutics, to include antiviral agents. </h2>"
      ],
      "text/plain": [
       "<IPython.core.display.HTML object>"
      ]
     },
     "metadata": {},
     "output_type": "display_data"
    },
    {
     "data": {
      "text/html": [
       "<h4 style='text-align:center'>02-01-2019</h4>"
      ],
      "text/plain": [
       "<IPython.core.display.HTML object>"
      ]
     },
     "metadata": {},
     "output_type": "display_data"
    },
    {
     "data": {
      "text/html": [
       "<h3 style='text-align:center'> <a href='https://doi.org/10.1016/j.ymthe.2018.10.016'> DEVELOPMENT OF NOVEL DNA-ENCODED PCSK9 MONOCLONAL ANTIBODIES AS LIPID-LOWERING THERAPEUTICS</a></h2>"
      ],
      "text/plain": [
       "<IPython.core.display.HTML object>"
      ]
     },
     "metadata": {},
     "output_type": "display_data"
    },
    {
     "data": {
      "text/html": [
       "<h4 style='text-align:center'> ~ <b>Khoshnejad, Makan; Patel, Ami; Wojtak, Krzysztof; Kudchodkar, Sagar B.; Humeau, Laurent; Lyssenko, Nicholas N.; Rader, Daniel J.; Muthumani, Kar; Weiner, David B.</b></h4>"
      ],
      "text/plain": [
       "<IPython.core.display.HTML object>"
      ]
     },
     "metadata": {},
     "output_type": "display_data"
    },
    {
     "data": {
      "text/html": [
       "<blockquote> Clinical trials on highrisk cardiovascular patients have demonstrated their efficacy in reducing LDL-C</blockquote>"
      ],
      "text/plain": [
       "<IPython.core.display.HTML object>"
      ]
     },
     "metadata": {},
     "output_type": "display_data"
    },
    {
     "data": {
      "text/html": [
       "<p style='text-align:center'> *** </p>"
      ],
      "text/plain": [
       "<IPython.core.display.HTML object>"
      ]
     },
     "metadata": {},
     "output_type": "display_data"
    },
    {
     "data": {
      "text/html": [
       "<h4 style='text-align:center'>10-07-2017</h4>"
      ],
      "text/plain": [
       "<IPython.core.display.HTML object>"
      ]
     },
     "metadata": {},
     "output_type": "display_data"
    },
    {
     "data": {
      "text/html": [
       "<h3 style='text-align:center'> <a href='https://www.ncbi.nlm.nih.gov/pmc/articles/PMC5627241/'> ANTIBODY THERAPIES FOR THE PREVENTION AND TREATMENT OF VIRAL INFECTIONS</a></h2>"
      ],
      "text/plain": [
       "<IPython.core.display.HTML object>"
      ]
     },
     "metadata": {},
     "output_type": "display_data"
    },
    {
     "data": {
      "text/html": [
       "<h4 style='text-align:center'> ~ <b>Salazar, Georgina; Zhang, Ningyan; Fu, Tong-Ming; An, Zhiqiang</b></h4>"
      ],
      "text/plain": [
       "<IPython.core.display.HTML object>"
      ]
     },
     "metadata": {},
     "output_type": "display_data"
    },
    {
     "data": {
      "text/html": [
       "<blockquote> Although no dengue antibody therapeutics have reached the stage of clinical trials, some of Antibody therapies for viral infections G Salazar et al</blockquote>"
      ],
      "text/plain": [
       "<IPython.core.display.HTML object>"
      ]
     },
     "metadata": {},
     "output_type": "display_data"
    },
    {
     "data": {
      "text/html": [
       "<p style='text-align:center'> *** </p>"
      ],
      "text/plain": [
       "<IPython.core.display.HTML object>"
      ]
     },
     "metadata": {},
     "output_type": "display_data"
    },
    {
     "data": {
      "text/html": [
       "<h4 style='text-align:center'>01-02-2017</h4>"
      ],
      "text/plain": [
       "<IPython.core.display.HTML object>"
      ]
     },
     "metadata": {},
     "output_type": "display_data"
    },
    {
     "data": {
      "text/html": [
       "<h3 style='text-align:center'> <a href='http://europepmc.org/articles/pmc5448557?pdf=render'> THERAPY WITH CTLA4-IG AND AN ANTIVIRAL MONOCLONAL ANTIBODY CONTROLS CHIKUNGUNYA VIRUS ARTHRITIS</a></h2>"
      ],
      "text/plain": [
       "<IPython.core.display.HTML object>"
      ]
     },
     "metadata": {},
     "output_type": "display_data"
    },
    {
     "data": {
      "text/html": [
       "<h4 style='text-align:center'> ~ <b>Miner, Jonathan J.; Cook, Lindsey E.; Hong, Jun P.; Smith, Amber M.; Richner, Justin M.; Shimak, Raeann M.; Young, Alissa R.; Monte, Kristen; Poddar, Subhajit; Crowe, James E.; Lenschow, Deborah J.; Diamond, Michael S.</b></h4>"
      ],
      "text/plain": [
       "<IPython.core.display.HTML object>"
      ]
     },
     "metadata": {},
     "output_type": "display_data"
    },
    {
     "data": {
      "text/html": [
       "<blockquote>We initiated this study to determine whether anti-inflammatory and antiviral therapy control acute CHIKV arthritis in mice</blockquote>"
      ],
      "text/plain": [
       "<IPython.core.display.HTML object>"
      ]
     },
     "metadata": {},
     "output_type": "display_data"
    },
    {
     "data": {
      "text/html": [
       "<p style='text-align:center'> *** </p>"
      ],
      "text/plain": [
       "<IPython.core.display.HTML object>"
      ]
     },
     "metadata": {},
     "output_type": "display_data"
    },
    {
     "data": {
      "text/html": [
       "<h4 style='text-align:center'>12-06-2014</h4>"
      ],
      "text/plain": [
       "<IPython.core.display.HTML object>"
      ]
     },
     "metadata": {},
     "output_type": "display_data"
    },
    {
     "data": {
      "text/html": [
       "<h3 style='text-align:center'> <a href='https://www.ncbi.nlm.nih.gov/pmc/articles/PMC4055766/'> PROTECTIVE EFFICACY OF PASSIVE IMMUNIZATION WITH MONOCLONAL ANTIBODIES IN ANIMAL MODELS OF H5N1 HIGHLY PATHOGENIC AVIAN INFLUENZA VIRUS INFECTION</a></h2>"
      ],
      "text/plain": [
       "<IPython.core.display.HTML object>"
      ]
     },
     "metadata": {},
     "output_type": "display_data"
    },
    {
     "data": {
      "text/html": [
       "<h4 style='text-align:center'> ~ <b>Itoh, Yasushi; Yoshida, Reiko; Shichinohe, Shintaro; Higuchi, Megumi; Ishigaki, Hirohito; Nakayama, Misako; Pham, Van Loi; Ishida, Hideaki; Kitano, Mitsutaka; Arikata, Masahiko; Kitagawa, Naoko; Mitsuishi, Yachiyo; Ogasawara, Kazumasa; Tsuchiya, Hideaki; Hiono, Takahiro; Okamatsu, Masatoshi; Sakoda, Yoshihiro; Kida, Hiroshi; Ito, Mutsumi; Quynh Mai, Le; Kawaoka, Yoshihiro; Miyamoto, Hiroko; Ishijima, Mari; Igarashi, Manabu; Suzuki, Yasuhiko; Takada, Ayato</b></h4>"
      ],
      "text/plain": [
       "<IPython.core.display.HTML object>"
      ]
     },
     "metadata": {},
     "output_type": "display_data"
    },
    {
     "data": {
      "text/html": [
       "<blockquote>Current strategies for the control of influenza include vaccination and antiviral drug treatment</blockquote>"
      ],
      "text/plain": [
       "<IPython.core.display.HTML object>"
      ]
     },
     "metadata": {},
     "output_type": "display_data"
    },
    {
     "data": {
      "text/html": [
       "<p style='text-align:center'> *** </p>"
      ],
      "text/plain": [
       "<IPython.core.display.HTML object>"
      ]
     },
     "metadata": {},
     "output_type": "display_data"
    },
    {
     "data": {
      "text/html": [
       "<h4 style='text-align:center'>08-02-2010</h4>"
      ],
      "text/plain": [
       "<IPython.core.display.HTML object>"
      ]
     },
     "metadata": {},
     "output_type": "display_data"
    },
    {
     "data": {
      "text/html": [
       "<h3 style='text-align:center'> <a href='https://www.ncbi.nlm.nih.gov/pmc/articles/PMC2817000/'> NEW CLASS OF MONOCLONAL ANTIBODIES AGAINST SEVERE INFLUENZA: PROPHYLACTIC AND THERAPEUTIC EFFICACY IN FERRETS</a></h2>"
      ],
      "text/plain": [
       "<IPython.core.display.HTML object>"
      ]
     },
     "metadata": {},
     "output_type": "display_data"
    },
    {
     "data": {
      "text/html": [
       "<h4 style='text-align:center'> ~ <b>Friesen, Robert H. E.; Koudstaal, Wouter; Koldijk, Martin H.; Weverling, Gerrit Jan; Brakenhoff, Just P. J.; Lenting, Peter J.; Stittelaar, Koert J.; Osterhaus, Albert D. M. E.; Kompier, Ronald; Goudsmit, Jaap</b></h4>"
      ],
      "text/plain": [
       "<IPython.core.display.HTML object>"
      ]
     },
     "metadata": {},
     "output_type": "display_data"
    },
    {
     "data": {
      "text/html": [
       "<blockquote>In the absence of reliable antiviral drugs and vaccines, development of alternative strategies for influenza prophylaxis and therapy is urgently required</blockquote>"
      ],
      "text/plain": [
       "<IPython.core.display.HTML object>"
      ]
     },
     "metadata": {},
     "output_type": "display_data"
    },
    {
     "data": {
      "text/html": [
       "<p style='text-align:center'> *** </p>"
      ],
      "text/plain": [
       "<IPython.core.display.HTML object>"
      ]
     },
     "metadata": {},
     "output_type": "display_data"
    },
    {
     "data": {
      "text/html": [
       "<h4 style='text-align:center'>31-07-2002</h4>"
      ],
      "text/plain": [
       "<IPython.core.display.HTML object>"
      ]
     },
     "metadata": {},
     "output_type": "display_data"
    },
    {
     "data": {
      "text/html": [
       "<h3 style='text-align:center'> <a href='https://doi.org/10.1097/00000441-200207000-00004'> THERAPEUTIC APPLICATIONS OF MONOCLONAL ANTIBODIES</a></h2>"
      ],
      "text/plain": [
       "<IPython.core.display.HTML object>"
      ]
     },
     "metadata": {},
     "output_type": "display_data"
    },
    {
     "data": {
      "text/html": [
       "<h4 style='text-align:center'> ~ <b>Berger, Mitchell; Shankar, Vidya; Vafai, Abbas</b></h4>"
      ],
      "text/plain": [
       "<IPython.core.display.HTML object>"
      ]
     },
     "metadata": {},
     "output_type": "display_data"
    },
    {
     "data": {
      "text/html": [
       "<blockquote> Many physicians use a combination of antiviral agents and immunoglobulins in patients at risk for CMV infection</blockquote>"
      ],
      "text/plain": [
       "<IPython.core.display.HTML object>"
      ]
     },
     "metadata": {},
     "output_type": "display_data"
    },
    {
     "data": {
      "text/html": [
       "<p style='text-align:center'> *** </p>"
      ],
      "text/plain": [
       "<IPython.core.display.HTML object>"
      ]
     },
     "metadata": {},
     "output_type": "display_data"
    },
    {
     "data": {
      "text/html": [
       "<h2>6. Alternative models to aid decision makers in determining how to prioritize and distribute scarce, newly proven therapeutics as production ramps up. This could include identifying approaches for expanding production capacity to ensure equitable and timely distribution to populations in need. </h2>"
      ],
      "text/plain": [
       "<IPython.core.display.HTML object>"
      ]
     },
     "metadata": {},
     "output_type": "display_data"
    },
    {
     "data": {
      "text/html": [
       "<h4 style='text-align:center'>04-10-2018</h4>"
      ],
      "text/plain": [
       "<IPython.core.display.HTML object>"
      ]
     },
     "metadata": {},
     "output_type": "display_data"
    },
    {
     "data": {
      "text/html": [
       "<h3 style='text-align:center'> <a href='https://www.ncbi.nlm.nih.gov/pmc/articles/PMC6180194/'> NANOPARTICLE VACCINES AGAINST INFECTIOUS DISEASES</a></h2>"
      ],
      "text/plain": [
       "<IPython.core.display.HTML object>"
      ]
     },
     "metadata": {},
     "output_type": "display_data"
    },
    {
     "data": {
      "text/html": [
       "<h4 style='text-align:center'> ~ <b>Pati, Rashmirekha; Shevtsov, Maxim; Sonawane, Avinash</b></h4>"
      ],
      "text/plain": [
       "<IPython.core.display.HTML object>"
      ]
     },
     "metadata": {},
     "output_type": "display_data"
    },
    {
     "data": {
      "text/html": [
       "<blockquote> Nanotechnology based formulations offer numerous advantages for the development of new generation vaccines</blockquote>"
      ],
      "text/plain": [
       "<IPython.core.display.HTML object>"
      ]
     },
     "metadata": {},
     "output_type": "display_data"
    },
    {
     "data": {
      "text/html": [
       "<p style='text-align:center'> *** </p>"
      ],
      "text/plain": [
       "<IPython.core.display.HTML object>"
      ]
     },
     "metadata": {},
     "output_type": "display_data"
    },
    {
     "data": {
      "text/html": [
       "<h4 style='text-align:center'>20-11-2017</h4>"
      ],
      "text/plain": [
       "<IPython.core.display.HTML object>"
      ]
     },
     "metadata": {},
     "output_type": "display_data"
    },
    {
     "data": {
      "text/html": [
       "<h3 style='text-align:center'> <a href='https://www.ncbi.nlm.nih.gov/pmc/articles/PMC7088856/'> HUMAN MONOCLONAL ANTIBODIES AS CANDIDATE THERAPEUTICS AGAINST EMERGING VIRUSES</a></h2>"
      ],
      "text/plain": [
       "<IPython.core.display.HTML object>"
      ]
     },
     "metadata": {},
     "output_type": "display_data"
    },
    {
     "data": {
      "text/html": [
       "<h4 style='text-align:center'> ~ <b>Jin, Yujia; Lei, Cheng; Hu, Dan; Dimitrov, Dimiter S.; Ying, Tianlei</b></h4>"
      ],
      "text/plain": [
       "<IPython.core.display.HTML object>"
      ]
     },
     "metadata": {},
     "output_type": "display_data"
    },
    {
     "data": {
      "text/html": [
       "<blockquote> Among these methods, large naïve antibody phage library-based technologies have enabled the rapid development of highaffinity hmAbs against emerging viral diseases that occur in an outbreak setting</blockquote>"
      ],
      "text/plain": [
       "<IPython.core.display.HTML object>"
      ]
     },
     "metadata": {},
     "output_type": "display_data"
    },
    {
     "data": {
      "text/html": [
       "<p style='text-align:center'> *** </p>"
      ],
      "text/plain": [
       "<IPython.core.display.HTML object>"
      ]
     },
     "metadata": {},
     "output_type": "display_data"
    },
    {
     "data": {
      "text/html": [
       "<h4 style='text-align:center'>10-07-2017</h4>"
      ],
      "text/plain": [
       "<IPython.core.display.HTML object>"
      ]
     },
     "metadata": {},
     "output_type": "display_data"
    },
    {
     "data": {
      "text/html": [
       "<h3 style='text-align:center'> <a href='https://www.ncbi.nlm.nih.gov/pmc/articles/PMC5627241/'> ANTIBODY THERAPIES FOR THE PREVENTION AND TREATMENT OF VIRAL INFECTIONS</a></h2>"
      ],
      "text/plain": [
       "<IPython.core.display.HTML object>"
      ]
     },
     "metadata": {},
     "output_type": "display_data"
    },
    {
     "data": {
      "text/html": [
       "<h4 style='text-align:center'> ~ <b>Salazar, Georgina; Zhang, Ningyan; Fu, Tong-Ming; An, Zhiqiang</b></h4>"
      ],
      "text/plain": [
       "<IPython.core.display.HTML object>"
      ]
     },
     "metadata": {},
     "output_type": "display_data"
    },
    {
     "data": {
      "text/html": [
       "<blockquote> One key challenge is the relatively small market for antibody treatments of viral diseases, and potentially higher cost associated with production of recombinant antibodies, as compared to small molecule antivirals</blockquote>"
      ],
      "text/plain": [
       "<IPython.core.display.HTML object>"
      ]
     },
     "metadata": {},
     "output_type": "display_data"
    },
    {
     "data": {
      "text/html": [
       "<p style='text-align:center'> *** </p>"
      ],
      "text/plain": [
       "<IPython.core.display.HTML object>"
      ]
     },
     "metadata": {},
     "output_type": "display_data"
    },
    {
     "data": {
      "text/html": [
       "<h4 style='text-align:center'>28-12-2015</h4>"
      ],
      "text/plain": [
       "<IPython.core.display.HTML object>"
      ]
     },
     "metadata": {},
     "output_type": "display_data"
    },
    {
     "data": {
      "text/html": [
       "<h3 style='text-align:center'> <a href='http://europepmc.org/articles/pmc4955855?pdf=render'> MOLECULAR MECHANISMS FOR ENHANCED DNA VACCINE IMMUNOGENICITY</a></h2>"
      ],
      "text/plain": [
       "<IPython.core.display.HTML object>"
      ]
     },
     "metadata": {},
     "output_type": "display_data"
    },
    {
     "data": {
      "text/html": [
       "<h4 style='text-align:center'> ~ <b>Li, Lei; Petrovsky, Nikolai</b></h4>"
      ],
      "text/plain": [
       "<IPython.core.display.HTML object>"
      ]
     },
     "metadata": {},
     "output_type": "display_data"
    },
    {
     "data": {
      "text/html": [
       "<blockquote>Developments in next-generation sequencing, microarrays, and high throughput proteomics approaches now provide opportunity to identify additional potential molecular adjuvants for DNA vaccines</blockquote>"
      ],
      "text/plain": [
       "<IPython.core.display.HTML object>"
      ]
     },
     "metadata": {},
     "output_type": "display_data"
    },
    {
     "data": {
      "text/html": [
       "<p style='text-align:center'> *** </p>"
      ],
      "text/plain": [
       "<IPython.core.display.HTML object>"
      ]
     },
     "metadata": {},
     "output_type": "display_data"
    },
    {
     "data": {
      "text/html": [
       "<h4 style='text-align:center'>30-12-2009</h4>"
      ],
      "text/plain": [
       "<IPython.core.display.HTML object>"
      ]
     },
     "metadata": {},
     "output_type": "display_data"
    },
    {
     "data": {
      "text/html": [
       "<h3 style='text-align:center'> <a href='https://doi.org/10.1016/j.vaccine.2009.09.105'> MONOCLONAL ANTIBODY-BASED THERAPIES FOR MICROBIAL DISEASES</a></h2>"
      ],
      "text/plain": [
       "<IPython.core.display.HTML object>"
      ]
     },
     "metadata": {},
     "output_type": "display_data"
    },
    {
     "data": {
      "text/html": [
       "<h4 style='text-align:center'> ~ <b>Saylor, Carolyn; Dadachova, Ekaterina; Casadevall, Arturo</b></h4>"
      ],
      "text/plain": [
       "<IPython.core.display.HTML object>"
      ]
     },
     "metadata": {},
     "output_type": "display_data"
    },
    {
     "data": {
      "text/html": [
       "<blockquote> This combined with the relatively high costs of producing and delivering immunoglobulin therapies can make the market analysis of many reagents not economically viable</blockquote>"
      ],
      "text/plain": [
       "<IPython.core.display.HTML object>"
      ]
     },
     "metadata": {},
     "output_type": "display_data"
    },
    {
     "data": {
      "text/html": [
       "<p style='text-align:center'> *** </p>"
      ],
      "text/plain": [
       "<IPython.core.display.HTML object>"
      ]
     },
     "metadata": {},
     "output_type": "display_data"
    },
    {
     "data": {
      "text/html": [
       "<h4 style='text-align:center'>31-12-2007</h4>"
      ],
      "text/plain": [
       "<IPython.core.display.HTML object>"
      ]
     },
     "metadata": {},
     "output_type": "display_data"
    },
    {
     "data": {
      "text/html": [
       "<h3 style='text-align:center'> <a href='https://doi.org/10.1016/s1387-2656(07)13004-0'> PREPARATION OF RECOMBINANT VACCINES</a></h2>"
      ],
      "text/plain": [
       "<IPython.core.display.HTML object>"
      ]
     },
     "metadata": {},
     "output_type": "display_data"
    },
    {
     "data": {
      "text/html": [
       "<h4 style='text-align:center'> ~ <b>Soler, Eric; Houdebine, Louis-Marie</b></h4>"
      ],
      "text/plain": [
       "<IPython.core.display.HTML object>"
      ]
     },
     "metadata": {},
     "output_type": "display_data"
    },
    {
     "data": {
      "text/html": [
       "<blockquote> The demand of vaccines including recombinant vaccines remains relatively modest as these biopharmaceuticals require relatively a high investment in research\n",
       "Several systems are becoming efficient to produce large amount of recombinant proteins including vaccines\n",
       "The different systems to produce recombinant vaccines Different systems are being implemented to produce recombinant proteins for experimental use or for biotechnological applications\n",
       " Apart from their use for basic studies, transgenic plants are increasingly used to improve food production</blockquote>"
      ],
      "text/plain": [
       "<IPython.core.display.HTML object>"
      ]
     },
     "metadata": {},
     "output_type": "display_data"
    },
    {
     "data": {
      "text/html": [
       "<p style='text-align:center'> *** </p>"
      ],
      "text/plain": [
       "<IPython.core.display.HTML object>"
      ]
     },
     "metadata": {},
     "output_type": "display_data"
    },
    {
     "data": {
      "text/html": [
       "<h2>7. Efforts targeted at a universal coronavirus vaccine. </h2>"
      ],
      "text/plain": [
       "<IPython.core.display.HTML object>"
      ]
     },
     "metadata": {},
     "output_type": "display_data"
    },
    {
     "data": {
      "text/html": [
       "<h4 style='text-align:center'>12-06-2018</h4>"
      ],
      "text/plain": [
       "<IPython.core.display.HTML object>"
      ]
     },
     "metadata": {},
     "output_type": "display_data"
    },
    {
     "data": {
      "text/html": [
       "<h3 style='text-align:center'> <a href='https://www.ncbi.nlm.nih.gov/pmc/articles/PMC6136076/'> ANTIVIRAL THERAPEUTIC APPROACHES FOR HUMAN RHINOVIRUS INFECTIONS</a></h2>"
      ],
      "text/plain": [
       "<IPython.core.display.HTML object>"
      ]
     },
     "metadata": {},
     "output_type": "display_data"
    },
    {
     "data": {
      "text/html": [
       "<h4 style='text-align:center'> ~ <b>Casanova, Victor; Sousa, Filipa H; Stevens, Craig; Barlow, Peter G</b></h4>"
      ],
      "text/plain": [
       "<IPython.core.display.HTML object>"
      ]
     },
     "metadata": {},
     "output_type": "display_data"
    },
    {
     "data": {
      "text/html": [
       "<blockquote> The viral infections with antiviral treatment options include HIV, hepatitis B and C virus, herpesvirus, influenza virus, human cytomegalovirus, varicella-zoster virus, respiratory syncytial virus (RSV) and human papillomavirus</blockquote>"
      ],
      "text/plain": [
       "<IPython.core.display.HTML object>"
      ]
     },
     "metadata": {},
     "output_type": "display_data"
    },
    {
     "data": {
      "text/html": [
       "<p style='text-align:center'> *** </p>"
      ],
      "text/plain": [
       "<IPython.core.display.HTML object>"
      ]
     },
     "metadata": {},
     "output_type": "display_data"
    },
    {
     "data": {
      "text/html": [
       "<h4 style='text-align:center'>20-11-2017</h4>"
      ],
      "text/plain": [
       "<IPython.core.display.HTML object>"
      ]
     },
     "metadata": {},
     "output_type": "display_data"
    },
    {
     "data": {
      "text/html": [
       "<h3 style='text-align:center'> <a href='https://www.ncbi.nlm.nih.gov/pmc/articles/PMC7088856/'> HUMAN MONOCLONAL ANTIBODIES AS CANDIDATE THERAPEUTICS AGAINST EMERGING VIRUSES</a></h2>"
      ],
      "text/plain": [
       "<IPython.core.display.HTML object>"
      ]
     },
     "metadata": {},
     "output_type": "display_data"
    },
    {
     "data": {
      "text/html": [
       "<h4 style='text-align:center'> ~ <b>Jin, Yujia; Lei, Cheng; Hu, Dan; Dimitrov, Dimiter S.; Ying, Tianlei</b></h4>"
      ],
      "text/plain": [
       "<IPython.core.display.HTML object>"
      ]
     },
     "metadata": {},
     "output_type": "display_data"
    },
    {
     "data": {
      "text/html": [
       "<blockquote>SARS-CoV belongs to the Coronavirus family, Coronavirus genus</blockquote>"
      ],
      "text/plain": [
       "<IPython.core.display.HTML object>"
      ]
     },
     "metadata": {},
     "output_type": "display_data"
    },
    {
     "data": {
      "text/html": [
       "<p style='text-align:center'> *** </p>"
      ],
      "text/plain": [
       "<IPython.core.display.HTML object>"
      ]
     },
     "metadata": {},
     "output_type": "display_data"
    },
    {
     "data": {
      "text/html": [
       "<h4 style='text-align:center'>01-02-2008</h4>"
      ],
      "text/plain": [
       "<IPython.core.display.HTML object>"
      ]
     },
     "metadata": {},
     "output_type": "display_data"
    },
    {
     "data": {
      "text/html": [
       "<h3 style='text-align:center'> <a href='http://europepmc.org/articles/pmc2254135?pdf=render'> IMMUNOGENICITY AND PROTECTION EFFICACY OF SUBUNIT-BASED SMALLPOX VACCINES USING VARIOLA MAJOR ANTIGENS</a></h2>"
      ],
      "text/plain": [
       "<IPython.core.display.HTML object>"
      ]
     },
     "metadata": {},
     "output_type": "display_data"
    },
    {
     "data": {
      "text/html": [
       "<h4 style='text-align:center'> ~ <b>Sakhatskyy, Pavlo; Wang, Shixia; Zhang, Chuanyou; Chou, Te-Hui; Kishko, Michael; Lu, Shan</b></h4>"
      ],
      "text/plain": [
       "<IPython.core.display.HTML object>"
      ]
     },
     "metadata": {},
     "output_type": "display_data"
    },
    {
     "data": {
      "text/html": [
       "<blockquote> Immunogenicity and protection efficacy of polyvalent recombinant variola protein vaccines and polyvalent DNA vaccines expressing variola antigens\n",
       " Immunization with the polyvalent recombinant VARV protein vaccines was significantly more immunogenic than immunization with the polyvalent VARV DNA vaccines (p<0\n",
       ") VACV challenge in Balb/C mice immunized with DNA vaccines expressing variola antigens\n",
       " The protein vaccine was even more immunogenic than the live vaccinia vaccine in generating specific antibodies against three tested pox antigens</blockquote>"
      ],
      "text/plain": [
       "<IPython.core.display.HTML object>"
      ]
     },
     "metadata": {},
     "output_type": "display_data"
    },
    {
     "data": {
      "text/html": [
       "<p style='text-align:center'> *** </p>"
      ],
      "text/plain": [
       "<IPython.core.display.HTML object>"
      ]
     },
     "metadata": {},
     "output_type": "display_data"
    },
    {
     "data": {
      "text/html": [
       "<h4 style='text-align:center'>31-12-2007</h4>"
      ],
      "text/plain": [
       "<IPython.core.display.HTML object>"
      ]
     },
     "metadata": {},
     "output_type": "display_data"
    },
    {
     "data": {
      "text/html": [
       "<h3 style='text-align:center'> <a href='https://doi.org/10.1016/s1387-2656(07)13004-0'> PREPARATION OF RECOMBINANT VACCINES</a></h2>"
      ],
      "text/plain": [
       "<IPython.core.display.HTML object>"
      ]
     },
     "metadata": {},
     "output_type": "display_data"
    },
    {
     "data": {
      "text/html": [
       "<h4 style='text-align:center'> ~ <b>Soler, Eric; Houdebine, Louis-Marie</b></h4>"
      ],
      "text/plain": [
       "<IPython.core.display.HTML object>"
      ]
     },
     "metadata": {},
     "output_type": "display_data"
    },
    {
     "data": {
      "text/html": [
       "<blockquote> Mice vaccinated with an influenza virus vaccine with LTB showed higher systemic and mucosal antibody responses than mice receiving the vaccine alone [82] </blockquote>"
      ],
      "text/plain": [
       "<IPython.core.display.HTML object>"
      ]
     },
     "metadata": {},
     "output_type": "display_data"
    },
    {
     "data": {
      "text/html": [
       "<p style='text-align:center'> *** </p>"
      ],
      "text/plain": [
       "<IPython.core.display.HTML object>"
      ]
     },
     "metadata": {},
     "output_type": "display_data"
    },
    {
     "data": {
      "text/html": [
       "<h2>8. Efforts to develop animal models and standardize challenge studies </h2>"
      ],
      "text/plain": [
       "<IPython.core.display.HTML object>"
      ]
     },
     "metadata": {},
     "output_type": "display_data"
    },
    {
     "data": {
      "text/html": [
       "<h4 style='text-align:center'>02-01-2019</h4>"
      ],
      "text/plain": [
       "<IPython.core.display.HTML object>"
      ]
     },
     "metadata": {},
     "output_type": "display_data"
    },
    {
     "data": {
      "text/html": [
       "<h3 style='text-align:center'> <a href='https://doi.org/10.1016/j.ymthe.2018.10.016'> DEVELOPMENT OF NOVEL DNA-ENCODED PCSK9 MONOCLONAL ANTIBODIES AS LIPID-LOWERING THERAPEUTICS</a></h2>"
      ],
      "text/plain": [
       "<IPython.core.display.HTML object>"
      ]
     },
     "metadata": {},
     "output_type": "display_data"
    },
    {
     "data": {
      "text/html": [
       "<h4 style='text-align:center'> ~ <b>Khoshnejad, Makan; Patel, Ami; Wojtak, Krzysztof; Kudchodkar, Sagar B.; Humeau, Laurent; Lyssenko, Nicholas N.; Rader, Daniel J.; Muthumani, Kar; Weiner, David B.</b></h4>"
      ],
      "text/plain": [
       "<IPython.core.display.HTML object>"
      ]
     },
     "metadata": {},
     "output_type": "display_data"
    },
    {
     "data": {
      "text/html": [
       "<blockquote> The results of human DMAb studies in wild-type mice demonstrate the importance of considering intraspecies differences in antibody evaluation and how this may impact translation to other models</blockquote>"
      ],
      "text/plain": [
       "<IPython.core.display.HTML object>"
      ]
     },
     "metadata": {},
     "output_type": "display_data"
    },
    {
     "data": {
      "text/html": [
       "<p style='text-align:center'> *** </p>"
      ],
      "text/plain": [
       "<IPython.core.display.HTML object>"
      ]
     },
     "metadata": {},
     "output_type": "display_data"
    },
    {
     "data": {
      "text/html": [
       "<h4 style='text-align:center'>28-12-2015</h4>"
      ],
      "text/plain": [
       "<IPython.core.display.HTML object>"
      ]
     },
     "metadata": {},
     "output_type": "display_data"
    },
    {
     "data": {
      "text/html": [
       "<h3 style='text-align:center'> <a href='http://europepmc.org/articles/pmc4955855?pdf=render'> MOLECULAR MECHANISMS FOR ENHANCED DNA VACCINE IMMUNOGENICITY</a></h2>"
      ],
      "text/plain": [
       "<IPython.core.display.HTML object>"
      ]
     },
     "metadata": {},
     "output_type": "display_data"
    },
    {
     "data": {
      "text/html": [
       "<h4 style='text-align:center'> ~ <b>Li, Lei; Petrovsky, Nikolai</b></h4>"
      ],
      "text/plain": [
       "<IPython.core.display.HTML object>"
      ]
     },
     "metadata": {},
     "output_type": "display_data"
    },
    {
     "data": {
      "text/html": [
       "<blockquote>As in traditional vaccine research, small rodent laboratory animals are principally used for DNA vaccine research\n",
       " An increasing number of these advances from preclinical models have advanced into human clinical trials\n",
       " While vaccine success in small animal models does not guarantee translation to humans, such studies remain an important part of the vaccine development pipeline</blockquote>"
      ],
      "text/plain": [
       "<IPython.core.display.HTML object>"
      ]
     },
     "metadata": {},
     "output_type": "display_data"
    },
    {
     "data": {
      "text/html": [
       "<p style='text-align:center'> *** </p>"
      ],
      "text/plain": [
       "<IPython.core.display.HTML object>"
      ]
     },
     "metadata": {},
     "output_type": "display_data"
    },
    {
     "data": {
      "text/html": [
       "<h4 style='text-align:center'>26-09-2012</h4>"
      ],
      "text/plain": [
       "<IPython.core.display.HTML object>"
      ]
     },
     "metadata": {},
     "output_type": "display_data"
    },
    {
     "data": {
      "text/html": [
       "<h3 style='text-align:center'> <a href='https://www.ncbi.nlm.nih.gov/pmc/articles/PMC3503649/'> COMPARATIVE IMMUNOLOGICAL EVALUATION OF RECOMBINANT SALMONELLA TYPHIMURIUM STRAINS EXPRESSING MODEL ANTIGENS AS LIVE ORAL VACCINES</a></h2>"
      ],
      "text/plain": [
       "<IPython.core.display.HTML object>"
      ]
     },
     "metadata": {},
     "output_type": "display_data"
    },
    {
     "data": {
      "text/html": [
       "<h4 style='text-align:center'> ~ <b>Zheng, Song-yue; Yu, Bin; Zhang, Ke; Chen, Min; Hua, Yan-Hong; Yuan, Shuofeng; Watt, Rory M; Zheng, Bo-Jian; Yuen, Kwok-Yung; Huang, Jian-Dong</b></h4>"
      ],
      "text/plain": [
       "<IPython.core.display.HTML object>"
      ]
     },
     "metadata": {},
     "output_type": "display_data"
    },
    {
     "data": {
      "text/html": [
       "<blockquote>All animal work was conducted according to relevant national and international guidelines (Animal Research: Reporting In Vivo Experiments guidelines)</blockquote>"
      ],
      "text/plain": [
       "<IPython.core.display.HTML object>"
      ]
     },
     "metadata": {},
     "output_type": "display_data"
    },
    {
     "data": {
      "text/html": [
       "<p style='text-align:center'> *** </p>"
      ],
      "text/plain": [
       "<IPython.core.display.HTML object>"
      ]
     },
     "metadata": {},
     "output_type": "display_data"
    },
    {
     "data": {
      "text/html": [
       "<h4 style='text-align:center'>31-12-2007</h4>"
      ],
      "text/plain": [
       "<IPython.core.display.HTML object>"
      ]
     },
     "metadata": {},
     "output_type": "display_data"
    },
    {
     "data": {
      "text/html": [
       "<h3 style='text-align:center'> <a href='https://doi.org/10.1016/s1387-2656(07)13004-0'> PREPARATION OF RECOMBINANT VACCINES</a></h2>"
      ],
      "text/plain": [
       "<IPython.core.display.HTML object>"
      ]
     },
     "metadata": {},
     "output_type": "display_data"
    },
    {
     "data": {
      "text/html": [
       "<h4 style='text-align:center'> ~ <b>Soler, Eric; Houdebine, Louis-Marie</b></h4>"
      ],
      "text/plain": [
       "<IPython.core.display.HTML object>"
      ]
     },
     "metadata": {},
     "output_type": "display_data"
    },
    {
     "data": {
      "text/html": [
       "<blockquote> Validating a mode of administration and determining the valuable adjuvant require specific studies on animal models</blockquote>"
      ],
      "text/plain": [
       "<IPython.core.display.HTML object>"
      ]
     },
     "metadata": {},
     "output_type": "display_data"
    },
    {
     "data": {
      "text/html": [
       "<p style='text-align:center'> *** </p>"
      ],
      "text/plain": [
       "<IPython.core.display.HTML object>"
      ]
     },
     "metadata": {},
     "output_type": "display_data"
    },
    {
     "data": {
      "text/html": [
       "<h2>9. Efforts to develop prophylaxis clinical studies and prioritize in healthcare workers </h2>"
      ],
      "text/plain": [
       "<IPython.core.display.HTML object>"
      ]
     },
     "metadata": {},
     "output_type": "display_data"
    },
    {
     "data": {
      "text/html": [
       "<h4 style='text-align:center'>02-01-2019</h4>"
      ],
      "text/plain": [
       "<IPython.core.display.HTML object>"
      ]
     },
     "metadata": {},
     "output_type": "display_data"
    },
    {
     "data": {
      "text/html": [
       "<h3 style='text-align:center'> <a href='https://doi.org/10.1016/j.ymthe.2018.10.016'> DEVELOPMENT OF NOVEL DNA-ENCODED PCSK9 MONOCLONAL ANTIBODIES AS LIPID-LOWERING THERAPEUTICS</a></h2>"
      ],
      "text/plain": [
       "<IPython.core.display.HTML object>"
      ]
     },
     "metadata": {},
     "output_type": "display_data"
    },
    {
     "data": {
      "text/html": [
       "<h4 style='text-align:center'> ~ <b>Khoshnejad, Makan; Patel, Ami; Wojtak, Krzysztof; Kudchodkar, Sagar B.; Humeau, Laurent; Lyssenko, Nicholas N.; Rader, Daniel J.; Muthumani, Kar; Weiner, David B.</b></h4>"
      ],
      "text/plain": [
       "<IPython.core.display.HTML object>"
      ]
     },
     "metadata": {},
     "output_type": "display_data"
    },
    {
     "data": {
      "text/html": [
       "<blockquote> Clinical trials on highrisk cardiovascular patients have demonstrated their efficacy in reducing LDL-C</blockquote>"
      ],
      "text/plain": [
       "<IPython.core.display.HTML object>"
      ]
     },
     "metadata": {},
     "output_type": "display_data"
    },
    {
     "data": {
      "text/html": [
       "<p style='text-align:center'> *** </p>"
      ],
      "text/plain": [
       "<IPython.core.display.HTML object>"
      ]
     },
     "metadata": {},
     "output_type": "display_data"
    },
    {
     "data": {
      "text/html": [
       "<h4 style='text-align:center'>31-10-2017</h4>"
      ],
      "text/plain": [
       "<IPython.core.display.HTML object>"
      ]
     },
     "metadata": {},
     "output_type": "display_data"
    },
    {
     "data": {
      "text/html": [
       "<h3 style='text-align:center'> <a href='https://doi.org/10.1016/j.jviromet.2017.06.007'> ANTIBODY-DEPENDENT NK CELL DEGRANULATION AS A MARKER FOR ASSESSING ANTIBODY-DEPENDENT CYTOTOXICITY AGAINST PANDEMIC 2009 INFLUENZA A(H1N1) INFECTION IN HUMAN PLASMA AND INFLUENZA-VACCINATED TRANSCHROMOSOMIC BOVINE INTRAVENOUS IMMUNOGLOBULIN THERAPY</a></h2>"
      ],
      "text/plain": [
       "<IPython.core.display.HTML object>"
      ]
     },
     "metadata": {},
     "output_type": "display_data"
    },
    {
     "data": {
      "text/html": [
       "<h4 style='text-align:center'> ~ <b>Morrison, Brian J.; Roman, Jessica A.; Luke, Thomas C.; Nagabhushana, Nishith; Raviprakash, Kanakatte; Williams, Maya; Sun, Peifang</b></h4>"
      ],
      "text/plain": [
       "<IPython.core.display.HTML object>"
      ]
     },
     "metadata": {},
     "output_type": "display_data"
    },
    {
     "data": {
      "text/html": [
       "<blockquote> However, influenza-vaccinated Tc bovine IVIG therapy deserves additional evaluation as a potential therapeutic for critically ill H1N1-infected patients</blockquote>"
      ],
      "text/plain": [
       "<IPython.core.display.HTML object>"
      ]
     },
     "metadata": {},
     "output_type": "display_data"
    },
    {
     "data": {
      "text/html": [
       "<p style='text-align:center'> *** </p>"
      ],
      "text/plain": [
       "<IPython.core.display.HTML object>"
      ]
     },
     "metadata": {},
     "output_type": "display_data"
    },
    {
     "data": {
      "text/html": [
       "<h4 style='text-align:center'>10-07-2017</h4>"
      ],
      "text/plain": [
       "<IPython.core.display.HTML object>"
      ]
     },
     "metadata": {},
     "output_type": "display_data"
    },
    {
     "data": {
      "text/html": [
       "<h3 style='text-align:center'> <a href='https://www.ncbi.nlm.nih.gov/pmc/articles/PMC5627241/'> ANTIBODY THERAPIES FOR THE PREVENTION AND TREATMENT OF VIRAL INFECTIONS</a></h2>"
      ],
      "text/plain": [
       "<IPython.core.display.HTML object>"
      ]
     },
     "metadata": {},
     "output_type": "display_data"
    },
    {
     "data": {
      "text/html": [
       "<h4 style='text-align:center'> ~ <b>Salazar, Georgina; Zhang, Ningyan; Fu, Tong-Ming; An, Zhiqiang</b></h4>"
      ],
      "text/plain": [
       "<IPython.core.display.HTML object>"
      ]
     },
     "metadata": {},
     "output_type": "display_data"
    },
    {
     "data": {
      "text/html": [
       "<blockquote> 63 MHAA4549A is currently in Phase 2 clinical trials for the treatment of patients hospitalized with severe influenza A infection</blockquote>"
      ],
      "text/plain": [
       "<IPython.core.display.HTML object>"
      ]
     },
     "metadata": {},
     "output_type": "display_data"
    },
    {
     "data": {
      "text/html": [
       "<p style='text-align:center'> *** </p>"
      ],
      "text/plain": [
       "<IPython.core.display.HTML object>"
      ]
     },
     "metadata": {},
     "output_type": "display_data"
    },
    {
     "data": {
      "text/html": [
       "<h4 style='text-align:center'>25-09-2016</h4>"
      ],
      "text/plain": [
       "<IPython.core.display.HTML object>"
      ]
     },
     "metadata": {},
     "output_type": "display_data"
    },
    {
     "data": {
      "text/html": [
       "<h3 style='text-align:center'> <a href='https://www.ncbi.nlm.nih.gov/pmc/articles/PMC5075008/'> INHIBITOR-BASED THERAPEUTICS FOR TREATMENT OF VIRAL HEPATITIS</a></h2>"
      ],
      "text/plain": [
       "<IPython.core.display.HTML object>"
      ]
     },
     "metadata": {},
     "output_type": "display_data"
    },
    {
     "data": {
      "text/html": [
       "<h4 style='text-align:center'> ~ <b>Dey, Debajit; Banerjee, Manidipa</b></h4>"
      ],
      "text/plain": [
       "<IPython.core.display.HTML object>"
      ]
     },
     "metadata": {},
     "output_type": "display_data"
    },
    {
     "data": {
      "text/html": [
       "<blockquote> 44, 45 Studies suggest that poor prenatal care and nutrition may constitute major contributory factors for such severe outcomes in selected populations</blockquote>"
      ],
      "text/plain": [
       "<IPython.core.display.HTML object>"
      ]
     },
     "metadata": {},
     "output_type": "display_data"
    },
    {
     "data": {
      "text/html": [
       "<p style='text-align:center'> *** </p>"
      ],
      "text/plain": [
       "<IPython.core.display.HTML object>"
      ]
     },
     "metadata": {},
     "output_type": "display_data"
    },
    {
     "data": {
      "text/html": [
       "<h4 style='text-align:center'>08-02-2010</h4>"
      ],
      "text/plain": [
       "<IPython.core.display.HTML object>"
      ]
     },
     "metadata": {},
     "output_type": "display_data"
    },
    {
     "data": {
      "text/html": [
       "<h3 style='text-align:center'> <a href='https://www.ncbi.nlm.nih.gov/pmc/articles/PMC2817000/'> NEW CLASS OF MONOCLONAL ANTIBODIES AGAINST SEVERE INFLUENZA: PROPHYLACTIC AND THERAPEUTIC EFFICACY IN FERRETS</a></h2>"
      ],
      "text/plain": [
       "<IPython.core.display.HTML object>"
      ]
     },
     "metadata": {},
     "output_type": "display_data"
    },
    {
     "data": {
      "text/html": [
       "<h4 style='text-align:center'> ~ <b>Friesen, Robert H. E.; Koudstaal, Wouter; Koldijk, Martin H.; Weverling, Gerrit Jan; Brakenhoff, Just P. J.; Lenting, Peter J.; Stittelaar, Koert J.; Osterhaus, Albert D. M. E.; Kompier, Ronald; Goudsmit, Jaap</b></h4>"
      ],
      "text/plain": [
       "<IPython.core.display.HTML object>"
      ]
     },
     "metadata": {},
     "output_type": "display_data"
    },
    {
     "data": {
      "text/html": [
       "<blockquote>In the absence of reliable antiviral drugs and vaccines, development of alternative strategies for influenza prophylaxis and therapy is urgently required</blockquote>"
      ],
      "text/plain": [
       "<IPython.core.display.HTML object>"
      ]
     },
     "metadata": {},
     "output_type": "display_data"
    },
    {
     "data": {
      "text/html": [
       "<p style='text-align:center'> *** </p>"
      ],
      "text/plain": [
       "<IPython.core.display.HTML object>"
      ]
     },
     "metadata": {},
     "output_type": "display_data"
    },
    {
     "data": {
      "text/html": [
       "<h4 style='text-align:center'>31-12-2007</h4>"
      ],
      "text/plain": [
       "<IPython.core.display.HTML object>"
      ]
     },
     "metadata": {},
     "output_type": "display_data"
    },
    {
     "data": {
      "text/html": [
       "<h3 style='text-align:center'> <a href='https://doi.org/10.1016/s1387-2656(07)13004-0'> PREPARATION OF RECOMBINANT VACCINES</a></h2>"
      ],
      "text/plain": [
       "<IPython.core.display.HTML object>"
      ]
     },
     "metadata": {},
     "output_type": "display_data"
    },
    {
     "data": {
      "text/html": [
       "<h4 style='text-align:center'> ~ <b>Soler, Eric; Houdebine, Louis-Marie</b></h4>"
      ],
      "text/plain": [
       "<IPython.core.display.HTML object>"
      ]
     },
     "metadata": {},
     "output_type": "display_data"
    },
    {
     "data": {
      "text/html": [
       "<blockquote> CpG ODN are currently evaluated in clinical trials in humans in the field of infectious diseases, cancer treatment and asthma/allergy</blockquote>"
      ],
      "text/plain": [
       "<IPython.core.display.HTML object>"
      ]
     },
     "metadata": {},
     "output_type": "display_data"
    },
    {
     "data": {
      "text/html": [
       "<p style='text-align:center'> *** </p>"
      ],
      "text/plain": [
       "<IPython.core.display.HTML object>"
      ]
     },
     "metadata": {},
     "output_type": "display_data"
    },
    {
     "data": {
      "text/html": [
       "<h4 style='text-align:center'>27-04-2004</h4>"
      ],
      "text/plain": [
       "<IPython.core.display.HTML object>"
      ]
     },
     "metadata": {},
     "output_type": "display_data"
    },
    {
     "data": {
      "text/html": [
       "<h3 style='text-align:center'> <a href='https://www.ncbi.nlm.nih.gov/pmc/articles/PMC3323075/'> INHIBITION OF SARS CORONAVIRUS INFECTION IN VITRO WITH CLINICALLY APPROVED ANTIVIRAL DRUGS</a></h2>"
      ],
      "text/plain": [
       "<IPython.core.display.HTML object>"
      ]
     },
     "metadata": {},
     "output_type": "display_data"
    },
    {
     "data": {
      "text/html": [
       "<h4 style='text-align:center'> ~ <b>Tan, Emily L.C.; Ooi, Eng Eong; Lin, Chin-Yo; Tan, Hwee Cheng; Ling, Ai Ee; Lim, Bing; Stanton, Lawrence W.</b></h4>"
      ],
      "text/plain": [
       "<IPython.core.display.HTML object>"
      ]
     },
     "metadata": {},
     "output_type": "display_data"
    },
    {
     "data": {
      "text/html": [
       "<blockquote> Centers for Disease Control and Prevention concluded that further in vitro testing of antiviral drugs on other coronavirus isolates and more information on the clinical outcome of patients treated with ribavirin or other antiviral drugs in controlled trials is needed (5) </blockquote>"
      ],
      "text/plain": [
       "<IPython.core.display.HTML object>"
      ]
     },
     "metadata": {},
     "output_type": "display_data"
    },
    {
     "data": {
      "text/html": [
       "<p style='text-align:center'> *** </p>"
      ],
      "text/plain": [
       "<IPython.core.display.HTML object>"
      ]
     },
     "metadata": {},
     "output_type": "display_data"
    },
    {
     "data": {
      "text/html": [
       "<h4 style='text-align:center'>31-07-2002</h4>"
      ],
      "text/plain": [
       "<IPython.core.display.HTML object>"
      ]
     },
     "metadata": {},
     "output_type": "display_data"
    },
    {
     "data": {
      "text/html": [
       "<h3 style='text-align:center'> <a href='https://doi.org/10.1097/00000441-200207000-00004'> THERAPEUTIC APPLICATIONS OF MONOCLONAL ANTIBODIES</a></h2>"
      ],
      "text/plain": [
       "<IPython.core.display.HTML object>"
      ]
     },
     "metadata": {},
     "output_type": "display_data"
    },
    {
     "data": {
      "text/html": [
       "<h4 style='text-align:center'> ~ <b>Berger, Mitchell; Shankar, Vidya; Vafai, Abbas</b></h4>"
      ],
      "text/plain": [
       "<IPython.core.display.HTML object>"
      ]
     },
     "metadata": {},
     "output_type": "display_data"
    },
    {
     "data": {
      "text/html": [
       "<blockquote> Many physicians use a combination of antiviral agents and immunoglobulins in patients at risk for CMV infection</blockquote>"
      ],
      "text/plain": [
       "<IPython.core.display.HTML object>"
      ]
     },
     "metadata": {},
     "output_type": "display_data"
    },
    {
     "data": {
      "text/html": [
       "<p style='text-align:center'> *** </p>"
      ],
      "text/plain": [
       "<IPython.core.display.HTML object>"
      ]
     },
     "metadata": {},
     "output_type": "display_data"
    },
    {
     "data": {
      "text/html": [
       "<h2>10. Approaches to evaluate risk for enhanced disease after vaccination </h2>"
      ],
      "text/plain": [
       "<IPython.core.display.HTML object>"
      ]
     },
     "metadata": {},
     "output_type": "display_data"
    },
    {
     "data": {
      "text/html": [
       "<h4 style='text-align:center'>25-09-2019</h4>"
      ],
      "text/plain": [
       "<IPython.core.display.HTML object>"
      ]
     },
     "metadata": {},
     "output_type": "display_data"
    },
    {
     "data": {
      "text/html": [
       "<h3 style='text-align:center'> <a href='https://www.ncbi.nlm.nih.gov/pmc/articles/PMC6773823/'> HUMAN MONOCLONAL ANTIBODIES AS ADJUVANT TREATMENT OF CHRONIC HEPATITIS B VIRUS INFECTION</a></h2>"
      ],
      "text/plain": [
       "<IPython.core.display.HTML object>"
      ]
     },
     "metadata": {},
     "output_type": "display_data"
    },
    {
     "data": {
      "text/html": [
       "<h4 style='text-align:center'> ~ <b>Cerino, Antonella; Mantovani, Stefania; Mele, Dalila; Oliviero, Barbara; Varchetta, Stefania; Mondelli, Mario U.</b></h4>"
      ],
      "text/plain": [
       "<IPython.core.display.HTML object>"
      ]
     },
     "metadata": {},
     "output_type": "display_data"
    },
    {
     "data": {
      "text/html": [
       "<blockquote>Despite the availability of an effective prophylactic vaccine leading to sterilizing immunity, hepatitis B virus (HBV) is responsible for chronic liver disease in more than 250 million individuals, potentially leading to cirrhosis and hepatocellular carcinoma</blockquote>"
      ],
      "text/plain": [
       "<IPython.core.display.HTML object>"
      ]
     },
     "metadata": {},
     "output_type": "display_data"
    },
    {
     "data": {
      "text/html": [
       "<p style='text-align:center'> *** </p>"
      ],
      "text/plain": [
       "<IPython.core.display.HTML object>"
      ]
     },
     "metadata": {},
     "output_type": "display_data"
    },
    {
     "data": {
      "text/html": [
       "<h4 style='text-align:center'>31-10-2017</h4>"
      ],
      "text/plain": [
       "<IPython.core.display.HTML object>"
      ]
     },
     "metadata": {},
     "output_type": "display_data"
    },
    {
     "data": {
      "text/html": [
       "<h3 style='text-align:center'> <a href='https://doi.org/10.1016/j.jviromet.2017.06.007'> ANTIBODY-DEPENDENT NK CELL DEGRANULATION AS A MARKER FOR ASSESSING ANTIBODY-DEPENDENT CYTOTOXICITY AGAINST PANDEMIC 2009 INFLUENZA A(H1N1) INFECTION IN HUMAN PLASMA AND INFLUENZA-VACCINATED TRANSCHROMOSOMIC BOVINE INTRAVENOUS IMMUNOGLOBULIN THERAPY</a></h2>"
      ],
      "text/plain": [
       "<IPython.core.display.HTML object>"
      ]
     },
     "metadata": {},
     "output_type": "display_data"
    },
    {
     "data": {
      "text/html": [
       "<h4 style='text-align:center'> ~ <b>Morrison, Brian J.; Roman, Jessica A.; Luke, Thomas C.; Nagabhushana, Nishith; Raviprakash, Kanakatte; Williams, Maya; Sun, Peifang</b></h4>"
      ],
      "text/plain": [
       "<IPython.core.display.HTML object>"
      ]
     },
     "metadata": {},
     "output_type": "display_data"
    },
    {
     "data": {
      "text/html": [
       "<blockquote>ADCC-mediated clearance of virally infectected cells and ADCC protection following vaccination or natural infection are potentially important immune mechanisms against influenza infection\n",
       " However, influenza-vaccinated Tc bovine IVIG therapy deserves additional evaluation as a potential therapeutic for critically ill H1N1-infected patients</blockquote>"
      ],
      "text/plain": [
       "<IPython.core.display.HTML object>"
      ]
     },
     "metadata": {},
     "output_type": "display_data"
    },
    {
     "data": {
      "text/html": [
       "<p style='text-align:center'> *** </p>"
      ],
      "text/plain": [
       "<IPython.core.display.HTML object>"
      ]
     },
     "metadata": {},
     "output_type": "display_data"
    },
    {
     "data": {
      "text/html": [
       "<h4 style='text-align:center'>01-02-2017</h4>"
      ],
      "text/plain": [
       "<IPython.core.display.HTML object>"
      ]
     },
     "metadata": {},
     "output_type": "display_data"
    },
    {
     "data": {
      "text/html": [
       "<h3 style='text-align:center'> <a href='http://europepmc.org/articles/pmc5448557?pdf=render'> THERAPY WITH CTLA4-IG AND AN ANTIVIRAL MONOCLONAL ANTIBODY CONTROLS CHIKUNGUNYA VIRUS ARTHRITIS</a></h2>"
      ],
      "text/plain": [
       "<IPython.core.display.HTML object>"
      ]
     },
     "metadata": {},
     "output_type": "display_data"
    },
    {
     "data": {
      "text/html": [
       "<h4 style='text-align:center'> ~ <b>Miner, Jonathan J.; Cook, Lindsey E.; Hong, Jun P.; Smith, Amber M.; Richner, Justin M.; Shimak, Raeann M.; Young, Alissa R.; Monte, Kristen; Poddar, Subhajit; Crowe, James E.; Lenschow, Deborah J.; Diamond, Michael S.</b></h4>"
      ],
      "text/plain": [
       "<IPython.core.display.HTML object>"
      ]
     },
     "metadata": {},
     "output_type": "display_data"
    },
    {
     "data": {
      "text/html": [
       "<blockquote> The near-complete effectiveness of combination therapy in our mouse model of acute CHIKV arthritis has implications for treatment of other viral infections in which both virus-and immune-mediated pathology result in morbidity and mortality (for example, influenza and severe acute respiratory syndrome coronavirus)</blockquote>"
      ],
      "text/plain": [
       "<IPython.core.display.HTML object>"
      ]
     },
     "metadata": {},
     "output_type": "display_data"
    },
    {
     "data": {
      "text/html": [
       "<p style='text-align:center'> *** </p>"
      ],
      "text/plain": [
       "<IPython.core.display.HTML object>"
      ]
     },
     "metadata": {},
     "output_type": "display_data"
    },
    {
     "data": {
      "text/html": [
       "<h4 style='text-align:center'>08-02-2010</h4>"
      ],
      "text/plain": [
       "<IPython.core.display.HTML object>"
      ]
     },
     "metadata": {},
     "output_type": "display_data"
    },
    {
     "data": {
      "text/html": [
       "<h3 style='text-align:center'> <a href='https://www.ncbi.nlm.nih.gov/pmc/articles/PMC2817000/'> NEW CLASS OF MONOCLONAL ANTIBODIES AGAINST SEVERE INFLUENZA: PROPHYLACTIC AND THERAPEUTIC EFFICACY IN FERRETS</a></h2>"
      ],
      "text/plain": [
       "<IPython.core.display.HTML object>"
      ]
     },
     "metadata": {},
     "output_type": "display_data"
    },
    {
     "data": {
      "text/html": [
       "<h4 style='text-align:center'> ~ <b>Friesen, Robert H. E.; Koudstaal, Wouter; Koldijk, Martin H.; Weverling, Gerrit Jan; Brakenhoff, Just P. J.; Lenting, Peter J.; Stittelaar, Koert J.; Osterhaus, Albert D. M. E.; Kompier, Ronald; Goudsmit, Jaap</b></h4>"
      ],
      "text/plain": [
       "<IPython.core.display.HTML object>"
      ]
     },
     "metadata": {},
     "output_type": "display_data"
    },
    {
     "data": {
      "text/html": [
       "<blockquote>These findings show that, in a dose dependent way, prophylactically administered CR6261 confers protection against lethal H5N1 challenge, prevents morbidity and viral dissemination and reduces pulmonary pathology</blockquote>"
      ],
      "text/plain": [
       "<IPython.core.display.HTML object>"
      ]
     },
     "metadata": {},
     "output_type": "display_data"
    },
    {
     "data": {
      "text/html": [
       "<p style='text-align:center'> *** </p>"
      ],
      "text/plain": [
       "<IPython.core.display.HTML object>"
      ]
     },
     "metadata": {},
     "output_type": "display_data"
    },
    {
     "data": {
      "text/html": [
       "<h4 style='text-align:center'>31-12-2007</h4>"
      ],
      "text/plain": [
       "<IPython.core.display.HTML object>"
      ]
     },
     "metadata": {},
     "output_type": "display_data"
    },
    {
     "data": {
      "text/html": [
       "<h3 style='text-align:center'> <a href='https://doi.org/10.1016/s1387-2656(07)13004-0'> PREPARATION OF RECOMBINANT VACCINES</a></h2>"
      ],
      "text/plain": [
       "<IPython.core.display.HTML object>"
      ]
     },
     "metadata": {},
     "output_type": "display_data"
    },
    {
     "data": {
      "text/html": [
       "<h4 style='text-align:center'> ~ <b>Soler, Eric; Houdebine, Louis-Marie</b></h4>"
      ],
      "text/plain": [
       "<IPython.core.display.HTML object>"
      ]
     },
     "metadata": {},
     "output_type": "display_data"
    },
    {
     "data": {
      "text/html": [
       "<blockquote> Other diseases like hepatitis B and gastroenteritis induced by rotavirus might also be markedly reduced using vaccination\n",
       " Mice vaccinated with an influenza virus vaccine with LTB showed higher systemic and mucosal antibody responses than mice receiving the vaccine alone [82] </blockquote>"
      ],
      "text/plain": [
       "<IPython.core.display.HTML object>"
      ]
     },
     "metadata": {},
     "output_type": "display_data"
    },
    {
     "data": {
      "text/html": [
       "<p style='text-align:center'> *** </p>"
      ],
      "text/plain": [
       "<IPython.core.display.HTML object>"
      ]
     },
     "metadata": {},
     "output_type": "display_data"
    },
    {
     "data": {
      "text/html": [
       "<h2>11. Assays to evaluate vaccine immune response and process development for vaccines, alongside suitable animal models </h2>"
      ],
      "text/plain": [
       "<IPython.core.display.HTML object>"
      ]
     },
     "metadata": {},
     "output_type": "display_data"
    },
    {
     "data": {
      "text/html": [
       "<h4 style='text-align:center'>31-10-2017</h4>"
      ],
      "text/plain": [
       "<IPython.core.display.HTML object>"
      ]
     },
     "metadata": {},
     "output_type": "display_data"
    },
    {
     "data": {
      "text/html": [
       "<h3 style='text-align:center'> <a href='https://doi.org/10.1016/j.jviromet.2017.06.007'> ANTIBODY-DEPENDENT NK CELL DEGRANULATION AS A MARKER FOR ASSESSING ANTIBODY-DEPENDENT CYTOTOXICITY AGAINST PANDEMIC 2009 INFLUENZA A(H1N1) INFECTION IN HUMAN PLASMA AND INFLUENZA-VACCINATED TRANSCHROMOSOMIC BOVINE INTRAVENOUS IMMUNOGLOBULIN THERAPY</a></h2>"
      ],
      "text/plain": [
       "<IPython.core.display.HTML object>"
      ]
     },
     "metadata": {},
     "output_type": "display_data"
    },
    {
     "data": {
      "text/html": [
       "<h4 style='text-align:center'> ~ <b>Morrison, Brian J.; Roman, Jessica A.; Luke, Thomas C.; Nagabhushana, Nishith; Raviprakash, Kanakatte; Williams, Maya; Sun, Peifang</b></h4>"
      ],
      "text/plain": [
       "<IPython.core.display.HTML object>"
      ]
     },
     "metadata": {},
     "output_type": "display_data"
    },
    {
     "data": {
      "text/html": [
       "<blockquote> Vaccine induction or therapeutic production of antibodies that target influenza internal proteins via ADCC response may prove to be a new development for influenza vaccine/treatment design\n",
       " Routine evaluation of vaccine-induced antibody responses and determination of protective titers will potentially benefit from utilizing additional influenza assays such as NI, MN, and ADCC assays</blockquote>"
      ],
      "text/plain": [
       "<IPython.core.display.HTML object>"
      ]
     },
     "metadata": {},
     "output_type": "display_data"
    },
    {
     "data": {
      "text/html": [
       "<p style='text-align:center'> *** </p>"
      ],
      "text/plain": [
       "<IPython.core.display.HTML object>"
      ]
     },
     "metadata": {},
     "output_type": "display_data"
    },
    {
     "data": {
      "text/html": [
       "<h4 style='text-align:center'>28-12-2015</h4>"
      ],
      "text/plain": [
       "<IPython.core.display.HTML object>"
      ]
     },
     "metadata": {},
     "output_type": "display_data"
    },
    {
     "data": {
      "text/html": [
       "<h3 style='text-align:center'> <a href='http://europepmc.org/articles/pmc4955855?pdf=render'> MOLECULAR MECHANISMS FOR ENHANCED DNA VACCINE IMMUNOGENICITY</a></h2>"
      ],
      "text/plain": [
       "<IPython.core.display.HTML object>"
      ]
     },
     "metadata": {},
     "output_type": "display_data"
    },
    {
     "data": {
      "text/html": [
       "<h4 style='text-align:center'> ~ <b>Li, Lei; Petrovsky, Nikolai</b></h4>"
      ],
      "text/plain": [
       "<IPython.core.display.HTML object>"
      ]
     },
     "metadata": {},
     "output_type": "display_data"
    },
    {
     "data": {
      "text/html": [
       "<blockquote> Hence combinations of multiple cytokines in a DNA vaccine formulation or sequential vaccination with cytokines may enhance vaccine efficacy\n",
       "Targeting DNA vaccine to specific cells or subcellular compartments can greatly increase antigen processing and presentation and promote the desired immune responses, while minimizing systemic toxicity</blockquote>"
      ],
      "text/plain": [
       "<IPython.core.display.HTML object>"
      ]
     },
     "metadata": {},
     "output_type": "display_data"
    },
    {
     "data": {
      "text/html": [
       "<p style='text-align:center'> *** </p>"
      ],
      "text/plain": [
       "<IPython.core.display.HTML object>"
      ]
     },
     "metadata": {},
     "output_type": "display_data"
    },
    {
     "data": {
      "text/html": [
       "<h4 style='text-align:center'>12-06-2014</h4>"
      ],
      "text/plain": [
       "<IPython.core.display.HTML object>"
      ]
     },
     "metadata": {},
     "output_type": "display_data"
    },
    {
     "data": {
      "text/html": [
       "<h3 style='text-align:center'> <a href='https://www.ncbi.nlm.nih.gov/pmc/articles/PMC4055766/'> PROTECTIVE EFFICACY OF PASSIVE IMMUNIZATION WITH MONOCLONAL ANTIBODIES IN ANIMAL MODELS OF H5N1 HIGHLY PATHOGENIC AVIAN INFLUENZA VIRUS INFECTION</a></h2>"
      ],
      "text/plain": [
       "<IPython.core.display.HTML object>"
      ]
     },
     "metadata": {},
     "output_type": "display_data"
    },
    {
     "data": {
      "text/html": [
       "<h4 style='text-align:center'> ~ <b>Itoh, Yasushi; Yoshida, Reiko; Shichinohe, Shintaro; Higuchi, Megumi; Ishigaki, Hirohito; Nakayama, Misako; Pham, Van Loi; Ishida, Hideaki; Kitano, Mitsutaka; Arikata, Masahiko; Kitagawa, Naoko; Mitsuishi, Yachiyo; Ogasawara, Kazumasa; Tsuchiya, Hideaki; Hiono, Takahiro; Okamatsu, Masatoshi; Sakoda, Yoshihiro; Kida, Hiroshi; Ito, Mutsumi; Quynh Mai, Le; Kawaoka, Yoshihiro; Miyamoto, Hiroko; Ishijima, Mari; Igarashi, Manabu; Suzuki, Yasuhiko; Takada, Ayato</b></h4>"
      ],
      "text/plain": [
       "<IPython.core.display.HTML object>"
      ]
     },
     "metadata": {},
     "output_type": "display_data"
    },
    {
     "data": {
      "text/html": [
       "<blockquote>To help develop a clinical antibody therapy, we also generated a human-mouse chimeric monoclonal antibody (MAb ch61) that showed strong neutralizing activity against H5N1 HPAI viruses isolated from humans and evaluated its protective potential in animal models</blockquote>"
      ],
      "text/plain": [
       "<IPython.core.display.HTML object>"
      ]
     },
     "metadata": {},
     "output_type": "display_data"
    },
    {
     "data": {
      "text/html": [
       "<p style='text-align:center'> *** </p>"
      ],
      "text/plain": [
       "<IPython.core.display.HTML object>"
      ]
     },
     "metadata": {},
     "output_type": "display_data"
    },
    {
     "data": {
      "text/html": [
       "<h4 style='text-align:center'>08-03-2011</h4>"
      ],
      "text/plain": [
       "<IPython.core.display.HTML object>"
      ]
     },
     "metadata": {},
     "output_type": "display_data"
    },
    {
     "data": {
      "text/html": [
       "<h3 style='text-align:center'> <a href='https://www.ncbi.nlm.nih.gov/pmc/articles/PMC3062584/'> VASCULAR DISRUPTING AGENT DMXAA ENHANCES THE ANTITUMOR EFFECTS GENERATED BY THERAPEUTIC HPV DNA VACCINES</a></h2>"
      ],
      "text/plain": [
       "<IPython.core.display.HTML object>"
      ]
     },
     "metadata": {},
     "output_type": "display_data"
    },
    {
     "data": {
      "text/html": [
       "<h4 style='text-align:center'> ~ <b>Peng, Shiwen; Monie, Archana; Pang, Xiaowu; Hung, Chien-Fu; Wu, T-C</b></h4>"
      ],
      "text/plain": [
       "<IPython.core.display.HTML object>"
      ]
     },
     "metadata": {},
     "output_type": "display_data"
    },
    {
     "data": {
      "text/html": [
       "<blockquote> Thus, CRT has been shown to be highly potent in enhancing the antigen-specific immune responses and antitumor effects generated by DNA vaccination in several preclinical models</blockquote>"
      ],
      "text/plain": [
       "<IPython.core.display.HTML object>"
      ]
     },
     "metadata": {},
     "output_type": "display_data"
    },
    {
     "data": {
      "text/html": [
       "<p style='text-align:center'> *** </p>"
      ],
      "text/plain": [
       "<IPython.core.display.HTML object>"
      ]
     },
     "metadata": {},
     "output_type": "display_data"
    },
    {
     "data": {
      "text/html": [
       "<h4 style='text-align:center'>31-12-2007</h4>"
      ],
      "text/plain": [
       "<IPython.core.display.HTML object>"
      ]
     },
     "metadata": {},
     "output_type": "display_data"
    },
    {
     "data": {
      "text/html": [
       "<h3 style='text-align:center'> <a href='https://doi.org/10.1016/s1387-2656(07)13004-0'> PREPARATION OF RECOMBINANT VACCINES</a></h2>"
      ],
      "text/plain": [
       "<IPython.core.display.HTML object>"
      ]
     },
     "metadata": {},
     "output_type": "display_data"
    },
    {
     "data": {
      "text/html": [
       "<h4 style='text-align:center'> ~ <b>Soler, Eric; Houdebine, Louis-Marie</b></h4>"
      ],
      "text/plain": [
       "<IPython.core.display.HTML object>"
      ]
     },
     "metadata": {},
     "output_type": "display_data"
    },
    {
     "data": {
      "text/html": [
       "<blockquote> ISCOM-based vaccines are able to induce strong antibody and cellular immune response\n",
       " Studies in mice showed that CpG ODN can boost both humoral and cell-mediated immune responses against a broad range of proteins or vaccines</blockquote>"
      ],
      "text/plain": [
       "<IPython.core.display.HTML object>"
      ]
     },
     "metadata": {},
     "output_type": "display_data"
    },
    {
     "data": {
      "text/html": [
       "<p style='text-align:center'> *** </p>"
      ],
      "text/plain": [
       "<IPython.core.display.HTML object>"
      ]
     },
     "metadata": {},
     "output_type": "display_data"
    }
   ],
   "source": [
    "tags = [\n",
    "\"Effectiveness of drugs being developed and tried to treat COVID-19 patients.\",\n",
    "\"Clinical and bench trials to investigate less common viral inhibitors against COVID-19 such as naproxen, clarithromycin, and minocyclinethat that may exert effects on viral replication.\",\n",
    "\"Methods evaluating potential complication of Antibody-Dependent Enhancement (ADE) in vaccine recipients.\",\n",
    "\"Exploration of use of best animal models and their predictive value for a human vaccine.\",\n",
    "\"Capabilities to discover a therapeutic (not vaccine) for the disease, and clinical effectiveness studies to discover therapeutics, to include antiviral agents.\",\n",
    "\"Alternative models to aid decision makers in determining how to prioritize and distribute scarce, newly proven therapeutics as production ramps up. This could include identifying approaches for expanding production capacity to ensure equitable and timely distribution to populations in need.\",\n",
    "\"Efforts targeted at a universal coronavirus vaccine.\",\n",
    "\"Efforts to develop animal models and standardize challenge studies\",\n",
    "\"Efforts to develop prophylaxis clinical studies and prioritize in healthcare workers\",\n",
    "\"Approaches to evaluate risk for enhanced disease after vaccination\",\n",
    "\"Assays to evaluate vaccine immune response and process development for vaccines, alongside suitable animal models\"\n",
    "]\n",
    "\n",
    "read_data(tags, 4)"
   ]
  },
  {
   "cell_type": "code",
   "execution_count": 69,
   "metadata": {},
   "outputs": [
    {
     "data": {
      "text/html": [
       "<h1 style='font-size:30px'>What has been published about medical care?</h1> </br>"
      ],
      "text/plain": [
       "<IPython.core.display.HTML object>"
      ]
     },
     "metadata": {},
     "output_type": "display_data"
    },
    {
     "data": {
      "text/html": [
       "<h2>1. Resources to support skilled nursing facilities and long term care facilities. </h2>"
      ],
      "text/plain": [
       "<IPython.core.display.HTML object>"
      ]
     },
     "metadata": {},
     "output_type": "display_data"
    },
    {
     "data": {
      "text/html": [
       "<h4 style='text-align:center'>31-12-2013</h4>"
      ],
      "text/plain": [
       "<IPython.core.display.HTML object>"
      ]
     },
     "metadata": {},
     "output_type": "display_data"
    },
    {
     "data": {
      "text/html": [
       "<h3 style='text-align:center'> <a href='https://doi.org/10.1016/j.ajic.2013.02.017'> PHYSIOLOGIC AND OTHER EFFECTS AND COMPLIANCE WITH LONG-TERM RESPIRATOR USE AMONG MEDICAL INTENSIVE CARE UNIT NURSES</a></h2>"
      ],
      "text/plain": [
       "<IPython.core.display.HTML object>"
      ]
     },
     "metadata": {},
     "output_type": "display_data"
    },
    {
     "data": {
      "text/html": [
       "<h4 style='text-align:center'> ~ <b>Rebmann, Terri; Carrico, Ruth; Wang, Jing</b></h4>"
      ],
      "text/plain": [
       "<IPython.core.display.HTML object>"
      ]
     },
     "metadata": {},
     "output_type": "display_data"
    },
    {
     "data": {
      "text/html": [
       "<blockquote> Researchers have indicated that intensive care unit staff are often more compliant with N95s than health care personnel in other areas/units\n",
       " 1, 7 Last, because only intensive care unit nurses were recruited, the findings may not be generalizable to workers in other areas of the hospital or to non-nurse health care personnel\n",
       " 16 A prospective study examining tolerance and observed compliance with long-term N95 use among health care personnel providing routine patient care in an actual work environment has never been conducted</blockquote>"
      ],
      "text/plain": [
       "<IPython.core.display.HTML object>"
      ]
     },
     "metadata": {},
     "output_type": "display_data"
    },
    {
     "data": {
      "text/html": [
       "<p style='text-align:center'> *** </p>"
      ],
      "text/plain": [
       "<IPython.core.display.HTML object>"
      ]
     },
     "metadata": {},
     "output_type": "display_data"
    },
    {
     "data": {
      "text/html": [
       "<h4 style='text-align:center'>30-11-2009</h4>"
      ],
      "text/plain": [
       "<IPython.core.display.HTML object>"
      ]
     },
     "metadata": {},
     "output_type": "display_data"
    },
    {
     "data": {
      "text/html": [
       "<h3 style='text-align:center'> <a href='https://doi.org/10.1016/j.ajic.2009.03.007'> HEALTH CARE WORKERS' PERCEPTIONS OF RESPIRATORY AND GASTROINTESTINAL ALGORITHMS FOR PATIENT MANAGEMENT IN EMERGENCY CARE SETTINGS</a></h2>"
      ],
      "text/plain": [
       "<IPython.core.display.HTML object>"
      ]
     },
     "metadata": {},
     "output_type": "display_data"
    },
    {
     "data": {
      "text/html": [
       "<h4 style='text-align:center'> ~ <b>Siow, Serena; Bryce, Elizabeth A.; Scharf, Sydney</b></h4>"
      ],
      "text/plain": [
       "<IPython.core.display.HTML object>"
      ]
     },
     "metadata": {},
     "output_type": "display_data"
    },
    {
     "data": {
      "text/html": [
       "<blockquote> VGH is a 955-bed, adult, tertiary care teaching hospital, offering 24-hour emergency services to residents from across British Columbia</blockquote>"
      ],
      "text/plain": [
       "<IPython.core.display.HTML object>"
      ]
     },
     "metadata": {},
     "output_type": "display_data"
    },
    {
     "data": {
      "text/html": [
       "<p style='text-align:center'> *** </p>"
      ],
      "text/plain": [
       "<IPython.core.display.HTML object>"
      ]
     },
     "metadata": {},
     "output_type": "display_data"
    },
    {
     "data": {
      "text/html": [
       "<h4 style='text-align:center'>30-11-2009</h4>"
      ],
      "text/plain": [
       "<IPython.core.display.HTML object>"
      ]
     },
     "metadata": {},
     "output_type": "display_data"
    },
    {
     "data": {
      "text/html": [
       "<h3 style='text-align:center'> <a href='https://doi.org/10.1016/j.ajic.2009.05.002'> STOCKPILE OF PERSONAL PROTECTIVE EQUIPMENT IN HOSPITAL SETTINGS: PREPAREDNESS FOR INFLUENZA PANDEMICS</a></h2>"
      ],
      "text/plain": [
       "<IPython.core.display.HTML object>"
      ]
     },
     "metadata": {},
     "output_type": "display_data"
    },
    {
     "data": {
      "text/html": [
       "<h4 style='text-align:center'> ~ <b>Hashikura, Mayuko; Kizu, Junko</b></h4>"
      ],
      "text/plain": [
       "<IPython.core.display.HTML object>"
      ]
     },
     "metadata": {},
     "output_type": "display_data"
    },
    {
     "data": {
      "text/html": [
       "<blockquote> 5 All medical and nonmedical workers in the hospital, such as doctors, nurses, medical technologists, pharmacists, caregivers who provide critical care or spiritual care, respiratory therapists, reprocessors of reusable medical devices, and cafeteria workers, in addition to the family members and visitors, also require at least 2 surgical masks per day</blockquote>"
      ],
      "text/plain": [
       "<IPython.core.display.HTML object>"
      ]
     },
     "metadata": {},
     "output_type": "display_data"
    },
    {
     "data": {
      "text/html": [
       "<p style='text-align:center'> *** </p>"
      ],
      "text/plain": [
       "<IPython.core.display.HTML object>"
      ]
     },
     "metadata": {},
     "output_type": "display_data"
    },
    {
     "data": {
      "text/html": [
       "<h4 style='text-align:center'>30-09-2008</h4>"
      ],
      "text/plain": [
       "<IPython.core.display.HTML object>"
      ]
     },
     "metadata": {},
     "output_type": "display_data"
    },
    {
     "data": {
      "text/html": [
       "<h3 style='text-align:center'> <a href='https://doi.org/10.1016/j.ajic.2007.12.004'> THE INDIVIDUAL, ENVIRONMENTAL, AND ORGANIZATIONAL FACTORS THAT INFLUENCE NURSES' USE OF FACIAL PROTECTION TO PREVENT OCCUPATIONAL TRANSMISSION OF COMMUNICABLE RESPIRATORY ILLNESS IN ACUTE CARE HOSPITALS</a></h2>"
      ],
      "text/plain": [
       "<IPython.core.display.HTML object>"
      ]
     },
     "metadata": {},
     "output_type": "display_data"
    },
    {
     "data": {
      "text/html": [
       "<h4 style='text-align:center'> ~ <b>Nichol, Kathryn; Bigelow, Philip; O'Brien-Pallas, Linda; McGeer, Allison; Manno, Mike; Holness, D. Linn</b></h4>"
      ],
      "text/plain": [
       "<IPython.core.display.HTML object>"
      ]
     },
     "metadata": {},
     "output_type": "display_data"
    },
    {
     "data": {
      "text/html": [
       "<blockquote>According to the 2005 Canadian Nurses Association RN Workforce Profile by Area of Responsibility, our sample is fairly representative of the population of nurses working in medicine/surgery, critical care, and emergency</blockquote>"
      ],
      "text/plain": [
       "<IPython.core.display.HTML object>"
      ]
     },
     "metadata": {},
     "output_type": "display_data"
    },
    {
     "data": {
      "text/html": [
       "<p style='text-align:center'> *** </p>"
      ],
      "text/plain": [
       "<IPython.core.display.HTML object>"
      ]
     },
     "metadata": {},
     "output_type": "display_data"
    },
    {
     "data": {
      "text/html": [
       "<h2>2. Mobilization of surge medical staff to address shortages in overwhelmed communities </h2>"
      ],
      "text/plain": [
       "<IPython.core.display.HTML object>"
      ]
     },
     "metadata": {},
     "output_type": "display_data"
    },
    {
     "data": {
      "text/html": [
       "<h4 style='text-align:center'>30-06-2019</h4>"
      ],
      "text/plain": [
       "<IPython.core.display.HTML object>"
      ]
     },
     "metadata": {},
     "output_type": "display_data"
    },
    {
     "data": {
      "text/html": [
       "<h3 style='text-align:center'> <a href='https://doi.org/10.1016/j.ajic.2018.11.021'> USER ACCEPTANCE OF REUSABLE RESPIRATORS IN HEALTH CARE</a></h2>"
      ],
      "text/plain": [
       "<IPython.core.display.HTML object>"
      ]
     },
     "metadata": {},
     "output_type": "display_data"
    },
    {
     "data": {
      "text/html": [
       "<h4 style='text-align:center'> ~ <b>Hines, Stella E.; Brown, Clayton; Oliver, Marc; Gucer, Patricia; Frisch, Melissa; Hogan, Regina; Roth, Tracy; Chang, James; McDiarmid, Melissa</b></h4>"
      ],
      "text/plain": [
       "<IPython.core.display.HTML object>"
      ]
     },
     "metadata": {},
     "output_type": "display_data"
    },
    {
     "data": {
      "text/html": [
       "<blockquote> Thus, the health care sector must plan to address these foreseeable shortages</blockquote>"
      ],
      "text/plain": [
       "<IPython.core.display.HTML object>"
      ]
     },
     "metadata": {},
     "output_type": "display_data"
    },
    {
     "data": {
      "text/html": [
       "<p style='text-align:center'> *** </p>"
      ],
      "text/plain": [
       "<IPython.core.display.HTML object>"
      ]
     },
     "metadata": {},
     "output_type": "display_data"
    },
    {
     "data": {
      "text/html": [
       "<h4 style='text-align:center'>01-04-2017</h4>"
      ],
      "text/plain": [
       "<IPython.core.display.HTML object>"
      ]
     },
     "metadata": {},
     "output_type": "display_data"
    },
    {
     "data": {
      "text/html": [
       "<h3 style='text-align:center'> <a href='http://europepmc.org/articles/pmc5583561?pdf=render'> PUBLIC UNDERSTANDING OF MEDICAL COUNTERMEASURES</a></h2>"
      ],
      "text/plain": [
       "<IPython.core.display.HTML object>"
      ]
     },
     "metadata": {},
     "output_type": "display_data"
    },
    {
     "data": {
      "text/html": [
       "<h4 style='text-align:center'> ~ <b>Liu, Brooke Fisher; Quinn, Sandra C.; Egnoto, Michael; Freimuth, Vicki; Boonchaisri, Natalie</b></h4>"
      ],
      "text/plain": [
       "<IPython.core.display.HTML object>"
      ]
     },
     "metadata": {},
     "output_type": "display_data"
    },
    {
     "data": {
      "text/html": [
       "<blockquote> Prior research linked high public anxiety to crisis and emergency risk communication\n",
       " 1, 2 Ongoing research is developing medical countermeasures deployable in public health emergencies, enabling the best emergency medicines and tools to be available when disaster strikes</blockquote>"
      ],
      "text/plain": [
       "<IPython.core.display.HTML object>"
      ]
     },
     "metadata": {},
     "output_type": "display_data"
    },
    {
     "data": {
      "text/html": [
       "<p style='text-align:center'> *** </p>"
      ],
      "text/plain": [
       "<IPython.core.display.HTML object>"
      ]
     },
     "metadata": {},
     "output_type": "display_data"
    },
    {
     "data": {
      "text/html": [
       "<h4 style='text-align:center'>01-11-2015</h4>"
      ],
      "text/plain": [
       "<IPython.core.display.HTML object>"
      ]
     },
     "metadata": {},
     "output_type": "display_data"
    },
    {
     "data": {
      "text/html": [
       "<h3 style='text-align:center'> <a href='https://doi.org/10.1016/j.clinthera.2015.07.007'> PERSONAL PROTECTIVE EQUIPMENT: PROTECTING HEALTH CARE PROVIDERS IN AN EBOLA OUTBREAK</a></h2>"
      ],
      "text/plain": [
       "<IPython.core.display.HTML object>"
      ]
     },
     "metadata": {},
     "output_type": "display_data"
    },
    {
     "data": {
      "text/html": [
       "<h4 style='text-align:center'> ~ <b>Fischer, William A.; Weber, David J.; Wohl, David A.</b></h4>"
      ],
      "text/plain": [
       "<IPython.core.display.HTML object>"
      ]
     },
     "metadata": {},
     "output_type": "display_data"
    },
    {
     "data": {
      "text/html": [
       "<blockquote>The recent Ebola epidemic that devastated West Africa evolved within months from a regional humanitarian crisis to a global public health emergency</blockquote>"
      ],
      "text/plain": [
       "<IPython.core.display.HTML object>"
      ]
     },
     "metadata": {},
     "output_type": "display_data"
    },
    {
     "data": {
      "text/html": [
       "<p style='text-align:center'> *** </p>"
      ],
      "text/plain": [
       "<IPython.core.display.HTML object>"
      ]
     },
     "metadata": {},
     "output_type": "display_data"
    },
    {
     "data": {
      "text/html": [
       "<h4 style='text-align:center'>01-11-2015</h4>"
      ],
      "text/plain": [
       "<IPython.core.display.HTML object>"
      ]
     },
     "metadata": {},
     "output_type": "display_data"
    },
    {
     "data": {
      "text/html": [
       "<h3 style='text-align:center'> <a href='https://doi.org/10.1016/j.ajic.2015.06.014'> RESISTANCE TO SYNTHETIC BLOOD PENETRATION OF NATIONAL INSTITUTE FOR OCCUPATIONAL SAFETY AND HEALTH-APPROVED N95 FILTERING FACEPIECE RESPIRATORS AND SURGICAL N95 RESPIRATORS</a></h2>"
      ],
      "text/plain": [
       "<IPython.core.display.HTML object>"
      ]
     },
     "metadata": {},
     "output_type": "display_data"
    },
    {
     "data": {
      "text/html": [
       "<h4 style='text-align:center'> ~ <b>Rengasamy, Samy; Sbarra, Deborah; Nwoko, Julian; Shaffer, Ronald</b></h4>"
      ],
      "text/plain": [
       "<IPython.core.display.HTML object>"
      ]
     },
     "metadata": {},
     "output_type": "display_data"
    },
    {
     "data": {
      "text/html": [
       "<blockquote> The extensive use of surgical N95 FFRs in surgical and nonsurgical health care practices results in shortages during emergencies and pandemic events involving a respiratory pathogen</blockquote>"
      ],
      "text/plain": [
       "<IPython.core.display.HTML object>"
      ]
     },
     "metadata": {},
     "output_type": "display_data"
    },
    {
     "data": {
      "text/html": [
       "<p style='text-align:center'> *** </p>"
      ],
      "text/plain": [
       "<IPython.core.display.HTML object>"
      ]
     },
     "metadata": {},
     "output_type": "display_data"
    },
    {
     "data": {
      "text/html": [
       "<h4 style='text-align:center'>30-11-2009</h4>"
      ],
      "text/plain": [
       "<IPython.core.display.HTML object>"
      ]
     },
     "metadata": {},
     "output_type": "display_data"
    },
    {
     "data": {
      "text/html": [
       "<h3 style='text-align:center'> <a href='https://doi.org/10.1016/j.ajic.2009.03.007'> HEALTH CARE WORKERS' PERCEPTIONS OF RESPIRATORY AND GASTROINTESTINAL ALGORITHMS FOR PATIENT MANAGEMENT IN EMERGENCY CARE SETTINGS</a></h2>"
      ],
      "text/plain": [
       "<IPython.core.display.HTML object>"
      ]
     },
     "metadata": {},
     "output_type": "display_data"
    },
    {
     "data": {
      "text/html": [
       "<h4 style='text-align:center'> ~ <b>Siow, Serena; Bryce, Elizabeth A.; Scharf, Sydney</b></h4>"
      ],
      "text/plain": [
       "<IPython.core.display.HTML object>"
      ]
     },
     "metadata": {},
     "output_type": "display_data"
    },
    {
     "data": {
      "text/html": [
       "<blockquote>The current study advances knowledge surrounding HCWs perceptions of organizational-specific guidelines for managing patients with suspected communicable respiratory and GI illnesses in emergency departments</blockquote>"
      ],
      "text/plain": [
       "<IPython.core.display.HTML object>"
      ]
     },
     "metadata": {},
     "output_type": "display_data"
    },
    {
     "data": {
      "text/html": [
       "<p style='text-align:center'> *** </p>"
      ],
      "text/plain": [
       "<IPython.core.display.HTML object>"
      ]
     },
     "metadata": {},
     "output_type": "display_data"
    },
    {
     "data": {
      "text/html": [
       "<h2>3. Age-adjusted mortality data for Acute Respiratory Distress Syndrome (ARDS) with/without other organ - failure – particularly for viral etiologies </h2>"
      ],
      "text/plain": [
       "<IPython.core.display.HTML object>"
      ]
     },
     "metadata": {},
     "output_type": "display_data"
    },
    {
     "data": {
      "text/html": [
       "<h4 style='text-align:center'>03-03-2020</h4>"
      ],
      "text/plain": [
       "<IPython.core.display.HTML object>"
      ]
     },
     "metadata": {},
     "output_type": "display_data"
    },
    {
     "data": {
      "text/html": [
       "<h3 style='text-align:center'> <a href='https://doi.org/10.1101/2020.02.29.20027698'> PRECAUTIONS ARE NEEDED FOR COVID-19 PATIENTS WITH COINFECTION OF COMMON RESPIRATORY PATHOGENS</a></h2>"
      ],
      "text/plain": [
       "<IPython.core.display.HTML object>"
      ]
     },
     "metadata": {},
     "output_type": "display_data"
    },
    {
     "data": {
      "text/html": [
       "<h4 style='text-align:center'> ~ <b>Quansheng Xing; Guoju Li; Yuhan Xing; Ting Chen; Wenjie Li; Wei Ni; Kai Deng; Ruqin Gao; Changzheng Chen; Yang Gao; Qiang Li; Guiling Yu; Jianning Tong; Wei Li; Guiliang Hao; Yue Sun; Ai Zhang; Qin Wu; Zipu Li; Silin Pan</b></h4>"
      ],
      "text/plain": [
       "<IPython.core.display.HTML object>"
      ]
     },
     "metadata": {},
     "output_type": "display_data"
    },
    {
     "data": {
      "text/html": [
       "<blockquote>20027698 doi: medRxiv preprint the pathogenesis and outcome of severe acute respiratory illnesses like SARS and MERS</blockquote>"
      ],
      "text/plain": [
       "<IPython.core.display.HTML object>"
      ]
     },
     "metadata": {},
     "output_type": "display_data"
    },
    {
     "data": {
      "text/html": [
       "<p style='text-align:center'> *** </p>"
      ],
      "text/plain": [
       "<IPython.core.display.HTML object>"
      ]
     },
     "metadata": {},
     "output_type": "display_data"
    },
    {
     "data": {
      "text/html": [
       "<h4 style='text-align:center'>12-10-2019</h4>"
      ],
      "text/plain": [
       "<IPython.core.display.HTML object>"
      ]
     },
     "metadata": {},
     "output_type": "display_data"
    },
    {
     "data": {
      "text/html": [
       "<h3 style='text-align:center'> <a href='https://www.ncbi.nlm.nih.gov/pmc/articles/PMC6832307/'> NOSOCOMIAL TRANSMISSION OF EMERGING VIRUSES VIA AEROSOL-GENERATING MEDICAL PROCEDURES</a></h2>"
      ],
      "text/plain": [
       "<IPython.core.display.HTML object>"
      ]
     },
     "metadata": {},
     "output_type": "display_data"
    },
    {
     "data": {
      "text/html": [
       "<h4 style='text-align:center'> ~ <b>Judson, Seth D.; Munster, Vincent J.</b></h4>"
      ],
      "text/plain": [
       "<IPython.core.display.HTML object>"
      ]
     },
     "metadata": {},
     "output_type": "display_data"
    },
    {
     "data": {
      "text/html": [
       "<blockquote> Arenavirus infections can cause viral hemorrhagic fevers (VHFs) in humans</blockquote>"
      ],
      "text/plain": [
       "<IPython.core.display.HTML object>"
      ]
     },
     "metadata": {},
     "output_type": "display_data"
    },
    {
     "data": {
      "text/html": [
       "<p style='text-align:center'> *** </p>"
      ],
      "text/plain": [
       "<IPython.core.display.HTML object>"
      ]
     },
     "metadata": {},
     "output_type": "display_data"
    },
    {
     "data": {
      "text/html": [
       "<h4 style='text-align:center'>22-12-2018</h4>"
      ],
      "text/plain": [
       "<IPython.core.display.HTML object>"
      ]
     },
     "metadata": {},
     "output_type": "display_data"
    },
    {
     "data": {
      "text/html": [
       "<h3 style='text-align:center'> <a href='https://www.ncbi.nlm.nih.gov/pmc/articles/PMC6303998/'> SELF-CONTAMINATION DURING DOFFING OF PERSONAL PROTECTIVE EQUIPMENT BY HEALTHCARE WORKERS TO PREVENT EBOLA TRANSMISSION</a></h2>"
      ],
      "text/plain": [
       "<IPython.core.display.HTML object>"
      ]
     },
     "metadata": {},
     "output_type": "display_data"
    },
    {
     "data": {
      "text/html": [
       "<h4 style='text-align:center'> ~ <b>Suen, Lorna K. P.; Guo, Yue Ping; Tong, Danny W. K.; Leung, Polly H. M.; Lung, David; Ng, Mandy S. P.; Lai, Timothy K. H.; Lo, Kiki Y. K.; Au-Yeung, Cypher H.; Yu, Winnie</b></h4>"
      ],
      "text/plain": [
       "<IPython.core.display.HTML object>"
      ]
     },
     "metadata": {},
     "output_type": "display_data"
    },
    {
     "data": {
      "text/html": [
       "<blockquote> Pregnant females and participants suffering from upper respiratory tract infection and respiratory diseases requiring treatment were excluded</blockquote>"
      ],
      "text/plain": [
       "<IPython.core.display.HTML object>"
      ]
     },
     "metadata": {},
     "output_type": "display_data"
    },
    {
     "data": {
      "text/html": [
       "<p style='text-align:center'> *** </p>"
      ],
      "text/plain": [
       "<IPython.core.display.HTML object>"
      ]
     },
     "metadata": {},
     "output_type": "display_data"
    },
    {
     "data": {
      "text/html": [
       "<h4 style='text-align:center'>14-03-2014</h4>"
      ],
      "text/plain": [
       "<IPython.core.display.HTML object>"
      ]
     },
     "metadata": {},
     "output_type": "display_data"
    },
    {
     "data": {
      "text/html": [
       "<h3 style='text-align:center'> <a href='http://europepmc.org/articles/pmc4610368?pdf=render'> COMMENTARY CONSIDERATIONS FOR RECOMMENDING EXTENDED USE AND LIMITED REUSE OF FILTERING FACEPIECE RESPIRATORS IN HEALTH CARE SETTINGS</a></h2>"
      ],
      "text/plain": [
       "<IPython.core.display.HTML object>"
      ]
     },
     "metadata": {},
     "output_type": "display_data"
    },
    {
     "data": {
      "text/html": [
       "<h4 style='text-align:center'> ~ <b>Fisher, Edward M.; Shaffer, Ronald E.</b></h4>"
      ],
      "text/plain": [
       "<IPython.core.display.HTML object>"
      ]
     },
     "metadata": {},
     "output_type": "display_data"
    },
    {
     "data": {
      "text/html": [
       "<blockquote>, epidemiologically important organisms such as severe acute respiratory syndrome (SARS)] and influenza), CDC publishes detailed specialized infection control guidance</blockquote>"
      ],
      "text/plain": [
       "<IPython.core.display.HTML object>"
      ]
     },
     "metadata": {},
     "output_type": "display_data"
    },
    {
     "data": {
      "text/html": [
       "<p style='text-align:center'> *** </p>"
      ],
      "text/plain": [
       "<IPython.core.display.HTML object>"
      ]
     },
     "metadata": {},
     "output_type": "display_data"
    },
    {
     "data": {
      "text/html": [
       "<h4 style='text-align:center'>26-04-2012</h4>"
      ],
      "text/plain": [
       "<IPython.core.display.HTML object>"
      ]
     },
     "metadata": {},
     "output_type": "display_data"
    },
    {
     "data": {
      "text/html": [
       "<h3 style='text-align:center'> <a href='https://www.ncbi.nlm.nih.gov/pmc/articles/PMC3338532/'> AEROSOL GENERATING PROCEDURES AND RISK OF TRANSMISSION OF ACUTE RESPIRATORY INFECTIONS TO HEALTHCARE WORKERS: A SYSTEMATIC REVIEW</a></h2>"
      ],
      "text/plain": [
       "<IPython.core.display.HTML object>"
      ]
     },
     "metadata": {},
     "output_type": "display_data"
    },
    {
     "data": {
      "text/html": [
       "<h4 style='text-align:center'> ~ <b>Tran, Khai; Cimon, Karen; Severn, Melissa; Pessoa-Silva, Carmem L.; Conly, John</b></h4>"
      ],
      "text/plain": [
       "<IPython.core.display.HTML object>"
      ]
     },
     "metadata": {},
     "output_type": "display_data"
    },
    {
     "data": {
      "text/html": [
       "<blockquote> The study population involved HCWs caring for patients with acute respiratory infections</blockquote>"
      ],
      "text/plain": [
       "<IPython.core.display.HTML object>"
      ]
     },
     "metadata": {},
     "output_type": "display_data"
    },
    {
     "data": {
      "text/html": [
       "<p style='text-align:center'> *** </p>"
      ],
      "text/plain": [
       "<IPython.core.display.HTML object>"
      ]
     },
     "metadata": {},
     "output_type": "display_data"
    },
    {
     "data": {
      "text/html": [
       "<h4 style='text-align:center'>31-03-2006</h4>"
      ],
      "text/plain": [
       "<IPython.core.display.HTML object>"
      ]
     },
     "metadata": {},
     "output_type": "display_data"
    },
    {
     "data": {
      "text/html": [
       "<h3 style='text-align:center'> <a href='https://doi.org/10.1016/j.annemergmed.2005.11.022'> VALIDATION OF SYNDROMIC SURVEILLANCE FOR RESPIRATORY INFECTIONS</a></h2>"
      ],
      "text/plain": [
       "<IPython.core.display.HTML object>"
      ]
     },
     "metadata": {},
     "output_type": "display_data"
    },
    {
     "data": {
      "text/html": [
       "<h4 style='text-align:center'> ~ <b>Bourgeois, Florence T.; Olson, Karen L.; Brownstein, John S.; McAdam, Alexander J.; Mandl, Kenneth D.</b></h4>"
      ],
      "text/plain": [
       "<IPython.core.display.HTML object>"
      ]
     },
     "metadata": {},
     "output_type": "display_data"
    },
    {
     "data": {
      "text/html": [
       "<blockquote> Figure 3 demonstrates the correlation of respiratory syndrome frequencies with RSV and influenza</blockquote>"
      ],
      "text/plain": [
       "<IPython.core.display.HTML object>"
      ]
     },
     "metadata": {},
     "output_type": "display_data"
    },
    {
     "data": {
      "text/html": [
       "<p style='text-align:center'> *** </p>"
      ],
      "text/plain": [
       "<IPython.core.display.HTML object>"
      ]
     },
     "metadata": {},
     "output_type": "display_data"
    },
    {
     "data": {
      "text/html": [
       "<h2>4. Extracorporeal membrane oxygenation (ECMO) outcomes data of COVID-19 patients </h2>"
      ],
      "text/plain": [
       "<IPython.core.display.HTML object>"
      ]
     },
     "metadata": {},
     "output_type": "display_data"
    },
    {
     "data": {
      "text/html": [
       "<h4 style='text-align:center'>10-07-2014</h4>"
      ],
      "text/plain": [
       "<IPython.core.display.HTML object>"
      ]
     },
     "metadata": {},
     "output_type": "display_data"
    },
    {
     "data": {
      "text/html": [
       "<h3 style='text-align:center'> <a href='https://www.ncbi.nlm.nih.gov/pmc/articles/PMC4190526/'> INTRANASAL DNA VACCINE FOR PROTECTION AGAINST RESPIRATORY INFECTIOUS DISEASES: THE DELIVERY PERSPECTIVES</a></h2>"
      ],
      "text/plain": [
       "<IPython.core.display.HTML object>"
      ]
     },
     "metadata": {},
     "output_type": "display_data"
    },
    {
     "data": {
      "text/html": [
       "<h4 style='text-align:center'> ~ <b>Xu, Yingying; Yuen, Pak-Wai; Lam, Jenny Ka-Wing</b></h4>"
      ],
      "text/plain": [
       "<IPython.core.display.HTML object>"
      ]
     },
     "metadata": {},
     "output_type": "display_data"
    },
    {
     "data": {
      "text/html": [
       "<blockquote>Liposomes are vesicles comprised of phospholipid bilayers\n",
       " Effective mucosal immunity often correlates with the uptake of antigen by mucosal inductive tissues, such as NALT in the upper respiratory tract following intranasal immunization\n",
       " Apart from cellular uptake, particle size also affects the kinetics of lymphatic drainage\n",
       " In addition, the overlying epithelium of mucosal follicles forms a specialized cell layer</blockquote>"
      ],
      "text/plain": [
       "<IPython.core.display.HTML object>"
      ]
     },
     "metadata": {},
     "output_type": "display_data"
    },
    {
     "data": {
      "text/html": [
       "<p style='text-align:center'> *** </p>"
      ],
      "text/plain": [
       "<IPython.core.display.HTML object>"
      ]
     },
     "metadata": {},
     "output_type": "display_data"
    },
    {
     "data": {
      "text/html": [
       "<h4 style='text-align:center'>26-04-2012</h4>"
      ],
      "text/plain": [
       "<IPython.core.display.HTML object>"
      ]
     },
     "metadata": {},
     "output_type": "display_data"
    },
    {
     "data": {
      "text/html": [
       "<h3 style='text-align:center'> <a href='https://www.ncbi.nlm.nih.gov/pmc/articles/PMC3338532/'> AEROSOL GENERATING PROCEDURES AND RISK OF TRANSMISSION OF ACUTE RESPIRATORY INFECTIONS TO HEALTHCARE WORKERS: A SYSTEMATIC REVIEW</a></h2>"
      ],
      "text/plain": [
       "<IPython.core.display.HTML object>"
      ]
     },
     "metadata": {},
     "output_type": "display_data"
    },
    {
     "data": {
      "text/html": [
       "<h4 style='text-align:center'> ~ <b>Tran, Khai; Cimon, Karen; Severn, Melissa; Pessoa-Silva, Carmem L.; Conly, John</b></h4>"
      ],
      "text/plain": [
       "<IPython.core.display.HTML object>"
      ]
     },
     "metadata": {},
     "output_type": "display_data"
    },
    {
     "data": {
      "text/html": [
       "<blockquote> Procedures that might promote the generation of droplets or aerosols (nonexhaustive list) included non-invasive ventilation (CPAP and BiPAP), endotracheal intubation, airway suctioning, high frequency oscillatory ventilation, bag-valve mask ventilation, chest physiotherapy, nebulizer therapies, aerosol humidification, bronchoscopy or other upper airway endoscopy, tracheotomy, and open thoracotomy</blockquote>"
      ],
      "text/plain": [
       "<IPython.core.display.HTML object>"
      ]
     },
     "metadata": {},
     "output_type": "display_data"
    },
    {
     "data": {
      "text/html": [
       "<p style='text-align:center'> *** </p>"
      ],
      "text/plain": [
       "<IPython.core.display.HTML object>"
      ]
     },
     "metadata": {},
     "output_type": "display_data"
    },
    {
     "data": {
      "text/html": [
       "<h4 style='text-align:center'>28-02-2010</h4>"
      ],
      "text/plain": [
       "<IPython.core.display.HTML object>"
      ]
     },
     "metadata": {},
     "output_type": "display_data"
    },
    {
     "data": {
      "text/html": [
       "<h3 style='text-align:center'> <a href='https://doi.org/10.1016/j.ajic.2009.08.006'> EVALUATION OF THE SURVIVABILITY OF MS2 VIRAL AEROSOLS DEPOSITED ON FILTERING FACE PIECE RESPIRATOR SAMPLES INCORPORATING ANTIMICROBIAL TECHNOLOGIES</a></h2>"
      ],
      "text/plain": [
       "<IPython.core.display.HTML object>"
      ]
     },
     "metadata": {},
     "output_type": "display_data"
    },
    {
     "data": {
      "text/html": [
       "<h4 style='text-align:center'> ~ <b>Rengasamy, Samy; Fisher, Edward; Shaffer, Ronald E.</b></h4>"
      ],
      "text/plain": [
       "<IPython.core.display.HTML object>"
      ]
     },
     "metadata": {},
     "output_type": "display_data"
    },
    {
     "data": {
      "text/html": [
       "<blockquote> The aerosol particles undergo desiccation to become droplet nuclei</blockquote>"
      ],
      "text/plain": [
       "<IPython.core.display.HTML object>"
      ]
     },
     "metadata": {},
     "output_type": "display_data"
    },
    {
     "data": {
      "text/html": [
       "<p style='text-align:center'> *** </p>"
      ],
      "text/plain": [
       "<IPython.core.display.HTML object>"
      ]
     },
     "metadata": {},
     "output_type": "display_data"
    },
    {
     "data": {
      "text/html": [
       "<h2>5. Outcomes data for COVID-19 after mechanical ventilation adjusted for age. </h2>"
      ],
      "text/plain": [
       "<IPython.core.display.HTML object>"
      ]
     },
     "metadata": {},
     "output_type": "display_data"
    },
    {
     "data": {
      "text/html": [
       "<h4 style='text-align:center'>01-11-2015</h4>"
      ],
      "text/plain": [
       "<IPython.core.display.HTML object>"
      ]
     },
     "metadata": {},
     "output_type": "display_data"
    },
    {
     "data": {
      "text/html": [
       "<h3 style='text-align:center'> <a href='https://doi.org/10.1016/j.ajic.2015.06.014'> RESISTANCE TO SYNTHETIC BLOOD PENETRATION OF NATIONAL INSTITUTE FOR OCCUPATIONAL SAFETY AND HEALTH-APPROVED N95 FILTERING FACEPIECE RESPIRATORS AND SURGICAL N95 RESPIRATORS</a></h2>"
      ],
      "text/plain": [
       "<IPython.core.display.HTML object>"
      ]
     },
     "metadata": {},
     "output_type": "display_data"
    },
    {
     "data": {
      "text/html": [
       "<h4 style='text-align:center'> ~ <b>Rengasamy, Samy; Sbarra, Deborah; Nwoko, Julian; Shaffer, Ronald</b></h4>"
      ],
      "text/plain": [
       "<IPython.core.display.HTML object>"
      ]
     },
     "metadata": {},
     "output_type": "display_data"
    },
    {
     "data": {
      "text/html": [
       "<blockquote> 8 For N95 FFRs, the primary tests are filtration efficiency and airflow resistance</blockquote>"
      ],
      "text/plain": [
       "<IPython.core.display.HTML object>"
      ]
     },
     "metadata": {},
     "output_type": "display_data"
    },
    {
     "data": {
      "text/html": [
       "<p style='text-align:center'> *** </p>"
      ],
      "text/plain": [
       "<IPython.core.display.HTML object>"
      ]
     },
     "metadata": {},
     "output_type": "display_data"
    },
    {
     "data": {
      "text/html": [
       "<h4 style='text-align:center'>26-04-2012</h4>"
      ],
      "text/plain": [
       "<IPython.core.display.HTML object>"
      ]
     },
     "metadata": {},
     "output_type": "display_data"
    },
    {
     "data": {
      "text/html": [
       "<h3 style='text-align:center'> <a href='https://www.ncbi.nlm.nih.gov/pmc/articles/PMC3338532/'> AEROSOL GENERATING PROCEDURES AND RISK OF TRANSMISSION OF ACUTE RESPIRATORY INFECTIONS TO HEALTHCARE WORKERS: A SYSTEMATIC REVIEW</a></h2>"
      ],
      "text/plain": [
       "<IPython.core.display.HTML object>"
      ]
     },
     "metadata": {},
     "output_type": "display_data"
    },
    {
     "data": {
      "text/html": [
       "<h4 style='text-align:center'> ~ <b>Tran, Khai; Cimon, Karen; Severn, Melissa; Pessoa-Silva, Carmem L.; Conly, John</b></h4>"
      ],
      "text/plain": [
       "<IPython.core.display.HTML object>"
      ]
     },
     "metadata": {},
     "output_type": "display_data"
    },
    {
     "data": {
      "text/html": [
       "<blockquote> Procedures that might promote the generation of droplets or aerosols (nonexhaustive list) included non-invasive ventilation (CPAP and BiPAP), endotracheal intubation, airway suctioning, high frequency oscillatory ventilation, bag-valve mask ventilation, chest physiotherapy, nebulizer therapies, aerosol humidification, bronchoscopy or other upper airway endoscopy, tracheotomy, and open thoracotomy</blockquote>"
      ],
      "text/plain": [
       "<IPython.core.display.HTML object>"
      ]
     },
     "metadata": {},
     "output_type": "display_data"
    },
    {
     "data": {
      "text/html": [
       "<p style='text-align:center'> *** </p>"
      ],
      "text/plain": [
       "<IPython.core.display.HTML object>"
      ]
     },
     "metadata": {},
     "output_type": "display_data"
    },
    {
     "data": {
      "text/html": [
       "<h4 style='text-align:center'>30-06-2010</h4>"
      ],
      "text/plain": [
       "<IPython.core.display.HTML object>"
      ]
     },
     "metadata": {},
     "output_type": "display_data"
    },
    {
     "data": {
      "text/html": [
       "<h3 style='text-align:center'> <a href='https://doi.org/10.1016/j.ajic.2010.04.208'> APPLICATIONS OF ULTRAVIOLET GERMICIDAL IRRADIATION DISINFECTION IN HEALTH CARE FACILITIES: EFFECTIVE ADJUNCT, BUT NOT STAND-ALONE TECHNOLOGY</a></h2>"
      ],
      "text/plain": [
       "<IPython.core.display.HTML object>"
      ]
     },
     "metadata": {},
     "output_type": "display_data"
    },
    {
     "data": {
      "text/html": [
       "<h4 style='text-align:center'> ~ <b>Memarzadeh, Farhad; Olmsted, Russell N.; Bartley, Judene M.</b></h4>"
      ],
      "text/plain": [
       "<IPython.core.display.HTML object>"
      ]
     },
     "metadata": {},
     "output_type": "display_data"
    },
    {
     "data": {
      "text/html": [
       "<blockquote> Under experimental laboratory conditions with mechanical ventilation rates of up to 6 ACH, the rate at which microorganisms are killed or inactivated by UVGI systems appears to be additive with mechanical ventilation systems in well-mixed rooms\n",
       " Experimental research has indicated that mechanical ventilation of up to 6 ACH does not have a significant effect on the effectiveness of upper-room UVGI systems; studies are needed to examine whether mechanical ventilation \n",
       " Thus, room airflow is governed primarily, but not solely, by mechanical ventilation\n",
       " High ventilation rates, in terms of high values of air changes/hour (ACH), control particles by removal through ventilation</blockquote>"
      ],
      "text/plain": [
       "<IPython.core.display.HTML object>"
      ]
     },
     "metadata": {},
     "output_type": "display_data"
    },
    {
     "data": {
      "text/html": [
       "<p style='text-align:center'> *** </p>"
      ],
      "text/plain": [
       "<IPython.core.display.HTML object>"
      ]
     },
     "metadata": {},
     "output_type": "display_data"
    },
    {
     "data": {
      "text/html": [
       "<h4 style='text-align:center'>31-03-2008</h4>"
      ],
      "text/plain": [
       "<IPython.core.display.HTML object>"
      ]
     },
     "metadata": {},
     "output_type": "display_data"
    },
    {
     "data": {
      "text/html": [
       "<h3 style='text-align:center'> <a href='https://doi.org/10.1016/j.ajic.2007.04.284'> EVALUATION OF THE RATIONALE FOR CONCURRENT USE OF N95 FILTERING FACEPIECE RESPIRATORS WITH LOOSE-FITTING POWERED AIR-PURIFYING RESPIRATORS DURING AEROSOL-GENERATING MEDICAL PROCEDURES</a></h2>"
      ],
      "text/plain": [
       "<IPython.core.display.HTML object>"
      ]
     },
     "metadata": {},
     "output_type": "display_data"
    },
    {
     "data": {
      "text/html": [
       "<h4 style='text-align:center'> ~ <b>Roberge, Raymond J.</b></h4>"
      ],
      "text/plain": [
       "<IPython.core.display.HTML object>"
      ]
     },
     "metadata": {},
     "output_type": "display_data"
    },
    {
     "data": {
      "text/html": [
       "<blockquote> Hospital engineering controls (eg, negative pressure rooms, room ventilation systems with high efficiency particulate filters, ultraviolet radiation, etc 8 ) and the use of medications to suppress coughing and salivation during airway procedures 4,10,35,38,39 further limit the airborne spread of respiratory pathogens and would additionally decrease the PAPR wearer's potential inhalational exposure</blockquote>"
      ],
      "text/plain": [
       "<IPython.core.display.HTML object>"
      ]
     },
     "metadata": {},
     "output_type": "display_data"
    },
    {
     "data": {
      "text/html": [
       "<p style='text-align:center'> *** </p>"
      ],
      "text/plain": [
       "<IPython.core.display.HTML object>"
      ]
     },
     "metadata": {},
     "output_type": "display_data"
    },
    {
     "data": {
      "text/html": [
       "<h2>6. Knowledge of the frequency, manifestations, and course of extrapulmonary manifestations of COVID-19, including, but not limited to, possible cardiomyopathy and cardiac arrest. </h2>"
      ],
      "text/plain": [
       "<IPython.core.display.HTML object>"
      ]
     },
     "metadata": {},
     "output_type": "display_data"
    },
    {
     "data": {
      "text/html": [
       "<h4 style='text-align:center'>03-03-2020</h4>"
      ],
      "text/plain": [
       "<IPython.core.display.HTML object>"
      ]
     },
     "metadata": {},
     "output_type": "display_data"
    },
    {
     "data": {
      "text/html": [
       "<h3 style='text-align:center'> <a href='https://doi.org/10.1101/2020.02.29.20027698'> PRECAUTIONS ARE NEEDED FOR COVID-19 PATIENTS WITH COINFECTION OF COMMON RESPIRATORY PATHOGENS</a></h2>"
      ],
      "text/plain": [
       "<IPython.core.display.HTML object>"
      ]
     },
     "metadata": {},
     "output_type": "display_data"
    },
    {
     "data": {
      "text/html": [
       "<h4 style='text-align:center'> ~ <b>Quansheng Xing; Guoju Li; Yuhan Xing; Ting Chen; Wenjie Li; Wei Ni; Kai Deng; Ruqin Gao; Changzheng Chen; Yang Gao; Qiang Li; Guiling Yu; Jianning Tong; Wei Li; Guiliang Hao; Yue Sun; Ai Zhang; Qin Wu; Zipu Li; Silin Pan</b></h4>"
      ],
      "text/plain": [
       "<IPython.core.display.HTML object>"
      ]
     },
     "metadata": {},
     "output_type": "display_data"
    },
    {
     "data": {
      "text/html": [
       "<blockquote>20027698 doi: medRxiv preprint the pathogenesis and outcome of severe acute respiratory illnesses like SARS and MERS</blockquote>"
      ],
      "text/plain": [
       "<IPython.core.display.HTML object>"
      ]
     },
     "metadata": {},
     "output_type": "display_data"
    },
    {
     "data": {
      "text/html": [
       "<p style='text-align:center'> *** </p>"
      ],
      "text/plain": [
       "<IPython.core.display.HTML object>"
      ]
     },
     "metadata": {},
     "output_type": "display_data"
    },
    {
     "data": {
      "text/html": [
       "<h4 style='text-align:center'>31-01-2020</h4>"
      ],
      "text/plain": [
       "<IPython.core.display.HTML object>"
      ]
     },
     "metadata": {},
     "output_type": "display_data"
    },
    {
     "data": {
      "text/html": [
       "<h3 style='text-align:center'> <a href='https://doi.org/10.1016/j.ajem.2019.03.041'> N95 FILTERING FACEPIECE RESPIRATORS DO NOT RELIABLY AFFORD RESPIRATORY PROTECTION DURING CHEST COMPRESSION: A SIMULATION STUDY</a></h2>"
      ],
      "text/plain": [
       "<IPython.core.display.HTML object>"
      ]
     },
     "metadata": {},
     "output_type": "display_data"
    },
    {
     "data": {
      "text/html": [
       "<h4 style='text-align:center'> ~ <b>Hwang, Sung Yeon; Yoon, Hee; Yoon, Aerin; Kim, Taerim; Lee, Guntak; Jung, Kwang Yul; Park, Joo Hyun; Shin, Tae Gun; Cha, Won Chul; Sim, Min Seob; Kim, Seonwoo</b></h4>"
      ],
      "text/plain": [
       "<IPython.core.display.HTML object>"
      ]
     },
     "metadata": {},
     "output_type": "display_data"
    },
    {
     "data": {
      "text/html": [
       "<blockquote> One retrospective cohort study has reported that one of nine HCWs who participated in cardiac compression developed severe acute respiratory syndrome (SARS) [25] </blockquote>"
      ],
      "text/plain": [
       "<IPython.core.display.HTML object>"
      ]
     },
     "metadata": {},
     "output_type": "display_data"
    },
    {
     "data": {
      "text/html": [
       "<p style='text-align:center'> *** </p>"
      ],
      "text/plain": [
       "<IPython.core.display.HTML object>"
      ]
     },
     "metadata": {},
     "output_type": "display_data"
    },
    {
     "data": {
      "text/html": [
       "<h4 style='text-align:center'>22-12-2018</h4>"
      ],
      "text/plain": [
       "<IPython.core.display.HTML object>"
      ]
     },
     "metadata": {},
     "output_type": "display_data"
    },
    {
     "data": {
      "text/html": [
       "<h3 style='text-align:center'> <a href='https://www.ncbi.nlm.nih.gov/pmc/articles/PMC6303998/'> SELF-CONTAMINATION DURING DOFFING OF PERSONAL PROTECTIVE EQUIPMENT BY HEALTHCARE WORKERS TO PREVENT EBOLA TRANSMISSION</a></h2>"
      ],
      "text/plain": [
       "<IPython.core.display.HTML object>"
      ]
     },
     "metadata": {},
     "output_type": "display_data"
    },
    {
     "data": {
      "text/html": [
       "<h4 style='text-align:center'> ~ <b>Suen, Lorna K. P.; Guo, Yue Ping; Tong, Danny W. K.; Leung, Polly H. M.; Lung, David; Ng, Mandy S. P.; Lai, Timothy K. H.; Lo, Kiki Y. K.; Au-Yeung, Cypher H.; Yu, Winnie</b></h4>"
      ],
      "text/plain": [
       "<IPython.core.display.HTML object>"
      ]
     },
     "metadata": {},
     "output_type": "display_data"
    },
    {
     "data": {
      "text/html": [
       "<blockquote> Pregnant females and participants suffering from upper respiratory tract infection and respiratory diseases requiring treatment were excluded</blockquote>"
      ],
      "text/plain": [
       "<IPython.core.display.HTML object>"
      ]
     },
     "metadata": {},
     "output_type": "display_data"
    },
    {
     "data": {
      "text/html": [
       "<p style='text-align:center'> *** </p>"
      ],
      "text/plain": [
       "<IPython.core.display.HTML object>"
      ]
     },
     "metadata": {},
     "output_type": "display_data"
    },
    {
     "data": {
      "text/html": [
       "<h4 style='text-align:center'>26-04-2012</h4>"
      ],
      "text/plain": [
       "<IPython.core.display.HTML object>"
      ]
     },
     "metadata": {},
     "output_type": "display_data"
    },
    {
     "data": {
      "text/html": [
       "<h3 style='text-align:center'> <a href='https://www.ncbi.nlm.nih.gov/pmc/articles/PMC3338532/'> AEROSOL GENERATING PROCEDURES AND RISK OF TRANSMISSION OF ACUTE RESPIRATORY INFECTIONS TO HEALTHCARE WORKERS: A SYSTEMATIC REVIEW</a></h2>"
      ],
      "text/plain": [
       "<IPython.core.display.HTML object>"
      ]
     },
     "metadata": {},
     "output_type": "display_data"
    },
    {
     "data": {
      "text/html": [
       "<h4 style='text-align:center'> ~ <b>Tran, Khai; Cimon, Karen; Severn, Melissa; Pessoa-Silva, Carmem L.; Conly, John</b></h4>"
      ],
      "text/plain": [
       "<IPython.core.display.HTML object>"
      ]
     },
     "metadata": {},
     "output_type": "display_data"
    },
    {
     "data": {
      "text/html": [
       "<blockquote> The study population involved HCWs caring for patients with acute respiratory infections</blockquote>"
      ],
      "text/plain": [
       "<IPython.core.display.HTML object>"
      ]
     },
     "metadata": {},
     "output_type": "display_data"
    },
    {
     "data": {
      "text/html": [
       "<p style='text-align:center'> *** </p>"
      ],
      "text/plain": [
       "<IPython.core.display.HTML object>"
      ]
     },
     "metadata": {},
     "output_type": "display_data"
    },
    {
     "data": {
      "text/html": [
       "<h2>7. Application of regulatory standards (e.g., EUA, CLIA) and ability to adapt care to crisis standards of care level. </h2>"
      ],
      "text/plain": [
       "<IPython.core.display.HTML object>"
      ]
     },
     "metadata": {},
     "output_type": "display_data"
    },
    {
     "data": {
      "text/html": [
       "<h4 style='text-align:center'>30-06-2019</h4>"
      ],
      "text/plain": [
       "<IPython.core.display.HTML object>"
      ]
     },
     "metadata": {},
     "output_type": "display_data"
    },
    {
     "data": {
      "text/html": [
       "<h3 style='text-align:center'> <a href='https://doi.org/10.1016/j.ajic.2018.11.021'> USER ACCEPTANCE OF REUSABLE RESPIRATORS IN HEALTH CARE</a></h2>"
      ],
      "text/plain": [
       "<IPython.core.display.HTML object>"
      ]
     },
     "metadata": {},
     "output_type": "display_data"
    },
    {
     "data": {
      "text/html": [
       "<h4 style='text-align:center'> ~ <b>Hines, Stella E.; Brown, Clayton; Oliver, Marc; Gucer, Patricia; Frisch, Melissa; Hogan, Regina; Roth, Tracy; Chang, James; McDiarmid, Melissa</b></h4>"
      ],
      "text/plain": [
       "<IPython.core.display.HTML object>"
      ]
     },
     "metadata": {},
     "output_type": "display_data"
    },
    {
     "data": {
      "text/html": [
       "<blockquote> Thus, the health care sector must plan to address these foreseeable shortages</blockquote>"
      ],
      "text/plain": [
       "<IPython.core.display.HTML object>"
      ]
     },
     "metadata": {},
     "output_type": "display_data"
    },
    {
     "data": {
      "text/html": [
       "<p style='text-align:center'> *** </p>"
      ],
      "text/plain": [
       "<IPython.core.display.HTML object>"
      ]
     },
     "metadata": {},
     "output_type": "display_data"
    },
    {
     "data": {
      "text/html": [
       "<h4 style='text-align:center'>14-03-2014</h4>"
      ],
      "text/plain": [
       "<IPython.core.display.HTML object>"
      ]
     },
     "metadata": {},
     "output_type": "display_data"
    },
    {
     "data": {
      "text/html": [
       "<h3 style='text-align:center'> <a href='http://europepmc.org/articles/pmc4610368?pdf=render'> COMMENTARY CONSIDERATIONS FOR RECOMMENDING EXTENDED USE AND LIMITED REUSE OF FILTERING FACEPIECE RESPIRATORS IN HEALTH CARE SETTINGS</a></h2>"
      ],
      "text/plain": [
       "<IPython.core.display.HTML object>"
      ]
     },
     "metadata": {},
     "output_type": "display_data"
    },
    {
     "data": {
      "text/html": [
       "<h4 style='text-align:center'> ~ <b>Fisher, Edward M.; Shaffer, Ronald E.</b></h4>"
      ],
      "text/plain": [
       "<IPython.core.display.HTML object>"
      ]
     },
     "metadata": {},
     "output_type": "display_data"
    },
    {
     "data": {
      "text/html": [
       "<blockquote> OSHA develops and enforces workplace regulations on respiratory protection\n",
       " NIOSH certifies respirators and develops recommendations on the use of respiratory protection in health care workplaces to protect workers\n",
       " There is also a general lack of awareness among infection control professionals and safety/ employee health administrators in understanding FDA's role in regulating surgical N95 respirators\n",
       "While OSHA is responsible for regulating employers to provide a safe workplace for their employees and CDC makes public health recommendations that are often adopted by hospitals, FDA has a different role in health care settings</blockquote>"
      ],
      "text/plain": [
       "<IPython.core.display.HTML object>"
      ]
     },
     "metadata": {},
     "output_type": "display_data"
    },
    {
     "data": {
      "text/html": [
       "<p style='text-align:center'> *** </p>"
      ],
      "text/plain": [
       "<IPython.core.display.HTML object>"
      ]
     },
     "metadata": {},
     "output_type": "display_data"
    },
    {
     "data": {
      "text/html": [
       "<h4 style='text-align:center'>28-02-2014</h4>"
      ],
      "text/plain": [
       "<IPython.core.display.HTML object>"
      ]
     },
     "metadata": {},
     "output_type": "display_data"
    },
    {
     "data": {
      "text/html": [
       "<h3 style='text-align:center'> <a href='https://doi.org/10.1016/s1473-3099(13)70244-5'> INTERNET-BASED SURVEILLANCE SYSTEMS FOR MONITORING EMERGING INFECTIOUS DISEASES</a></h2>"
      ],
      "text/plain": [
       "<IPython.core.display.HTML object>"
      ]
     },
     "metadata": {},
     "output_type": "display_data"
    },
    {
     "data": {
      "text/html": [
       "<h4 style='text-align:center'> ~ <b>Milinovich, Gabriel J; Williams, Gail M; Clements, Archie C A; Hu, Wenbiao</b></h4>"
      ],
      "text/plain": [
       "<IPython.core.display.HTML object>"
      ]
     },
     "metadata": {},
     "output_type": "display_data"
    },
    {
     "data": {
      "text/html": [
       "<blockquote> A global response requires concerted international approaches to strengthen the capacity of emerging infectious diseases surveillance systems worldwide</blockquote>"
      ],
      "text/plain": [
       "<IPython.core.display.HTML object>"
      ]
     },
     "metadata": {},
     "output_type": "display_data"
    },
    {
     "data": {
      "text/html": [
       "<p style='text-align:center'> *** </p>"
      ],
      "text/plain": [
       "<IPython.core.display.HTML object>"
      ]
     },
     "metadata": {},
     "output_type": "display_data"
    },
    {
     "data": {
      "text/html": [
       "<h4 style='text-align:center'>30-11-2009</h4>"
      ],
      "text/plain": [
       "<IPython.core.display.HTML object>"
      ]
     },
     "metadata": {},
     "output_type": "display_data"
    },
    {
     "data": {
      "text/html": [
       "<h3 style='text-align:center'> <a href='https://doi.org/10.1016/j.ajic.2009.03.007'> HEALTH CARE WORKERS' PERCEPTIONS OF RESPIRATORY AND GASTROINTESTINAL ALGORITHMS FOR PATIENT MANAGEMENT IN EMERGENCY CARE SETTINGS</a></h2>"
      ],
      "text/plain": [
       "<IPython.core.display.HTML object>"
      ]
     },
     "metadata": {},
     "output_type": "display_data"
    },
    {
     "data": {
      "text/html": [
       "<h4 style='text-align:center'> ~ <b>Siow, Serena; Bryce, Elizabeth A.; Scharf, Sydney</b></h4>"
      ],
      "text/plain": [
       "<IPython.core.display.HTML object>"
      ]
     },
     "metadata": {},
     "output_type": "display_data"
    },
    {
     "data": {
      "text/html": [
       "<blockquote>The current study advances knowledge surrounding HCWs perceptions of organizational-specific guidelines for managing patients with suspected communicable respiratory and GI illnesses in emergency departments</blockquote>"
      ],
      "text/plain": [
       "<IPython.core.display.HTML object>"
      ]
     },
     "metadata": {},
     "output_type": "display_data"
    },
    {
     "data": {
      "text/html": [
       "<p style='text-align:center'> *** </p>"
      ],
      "text/plain": [
       "<IPython.core.display.HTML object>"
      ]
     },
     "metadata": {},
     "output_type": "display_data"
    },
    {
     "data": {
      "text/html": [
       "<h4 style='text-align:center'>30-09-2008</h4>"
      ],
      "text/plain": [
       "<IPython.core.display.HTML object>"
      ]
     },
     "metadata": {},
     "output_type": "display_data"
    },
    {
     "data": {
      "text/html": [
       "<h3 style='text-align:center'> <a href='https://doi.org/10.1016/j.ajic.2007.12.004'> THE INDIVIDUAL, ENVIRONMENTAL, AND ORGANIZATIONAL FACTORS THAT INFLUENCE NURSES' USE OF FACIAL PROTECTION TO PREVENT OCCUPATIONAL TRANSMISSION OF COMMUNICABLE RESPIRATORY ILLNESS IN ACUTE CARE HOSPITALS</a></h2>"
      ],
      "text/plain": [
       "<IPython.core.display.HTML object>"
      ]
     },
     "metadata": {},
     "output_type": "display_data"
    },
    {
     "data": {
      "text/html": [
       "<h4 style='text-align:center'> ~ <b>Nichol, Kathryn; Bigelow, Philip; O'Brien-Pallas, Linda; McGeer, Allison; Manno, Mike; Holness, D. Linn</b></h4>"
      ],
      "text/plain": [
       "<IPython.core.display.HTML object>"
      ]
     },
     "metadata": {},
     "output_type": "display_data"
    },
    {
     "data": {
      "text/html": [
       "<blockquote> Reinforcing factors are organizational factors such as communication, policies and procedures, and management commitment to health and safety</blockquote>"
      ],
      "text/plain": [
       "<IPython.core.display.HTML object>"
      ]
     },
     "metadata": {},
     "output_type": "display_data"
    },
    {
     "data": {
      "text/html": [
       "<p style='text-align:center'> *** </p>"
      ],
      "text/plain": [
       "<IPython.core.display.HTML object>"
      ]
     },
     "metadata": {},
     "output_type": "display_data"
    },
    {
     "data": {
      "text/html": [
       "<h2>8. Approaches for encouraging and facilitating the production of elastomeric respirators, which can save thousands of N95 masks. </h2>"
      ],
      "text/plain": [
       "<IPython.core.display.HTML object>"
      ]
     },
     "metadata": {},
     "output_type": "display_data"
    },
    {
     "data": {
      "text/html": [
       "<h4 style='text-align:center'>31-01-2020</h4>"
      ],
      "text/plain": [
       "<IPython.core.display.HTML object>"
      ]
     },
     "metadata": {},
     "output_type": "display_data"
    },
    {
     "data": {
      "text/html": [
       "<h3 style='text-align:center'> <a href='https://doi.org/10.1016/j.ajem.2019.03.041'> N95 FILTERING FACEPIECE RESPIRATORS DO NOT RELIABLY AFFORD RESPIRATORY PROTECTION DURING CHEST COMPRESSION: A SIMULATION STUDY</a></h2>"
      ],
      "text/plain": [
       "<IPython.core.display.HTML object>"
      ]
     },
     "metadata": {},
     "output_type": "display_data"
    },
    {
     "data": {
      "text/html": [
       "<h4 style='text-align:center'> ~ <b>Hwang, Sung Yeon; Yoon, Hee; Yoon, Aerin; Kim, Taerim; Lee, Guntak; Jung, Kwang Yul; Park, Joo Hyun; Shin, Tae Gun; Cha, Won Chul; Sim, Min Seob; Kim, Seonwoo</b></h4>"
      ],
      "text/plain": [
       "<IPython.core.display.HTML object>"
      ]
     },
     "metadata": {},
     "output_type": "display_data"
    },
    {
     "data": {
      "text/html": [
       "<blockquote> In addition, HCWs engaging in chest compression of patients with airborne diseases could wear powered air-purifying respirators with hoods (PAPRs) rather than N95 respirators</blockquote>"
      ],
      "text/plain": [
       "<IPython.core.display.HTML object>"
      ]
     },
     "metadata": {},
     "output_type": "display_data"
    },
    {
     "data": {
      "text/html": [
       "<p style='text-align:center'> *** </p>"
      ],
      "text/plain": [
       "<IPython.core.display.HTML object>"
      ]
     },
     "metadata": {},
     "output_type": "display_data"
    },
    {
     "data": {
      "text/html": [
       "<h4 style='text-align:center'>30-06-2019</h4>"
      ],
      "text/plain": [
       "<IPython.core.display.HTML object>"
      ]
     },
     "metadata": {},
     "output_type": "display_data"
    },
    {
     "data": {
      "text/html": [
       "<h3 style='text-align:center'> <a href='https://doi.org/10.1016/j.ajic.2018.11.021'> USER ACCEPTANCE OF REUSABLE RESPIRATORS IN HEALTH CARE</a></h2>"
      ],
      "text/plain": [
       "<IPython.core.display.HTML object>"
      ]
     },
     "metadata": {},
     "output_type": "display_data"
    },
    {
     "data": {
      "text/html": [
       "<h4 style='text-align:center'> ~ <b>Hines, Stella E.; Brown, Clayton; Oliver, Marc; Gucer, Patricia; Frisch, Melissa; Hogan, Regina; Roth, Tracy; Chang, James; McDiarmid, Melissa</b></h4>"
      ],
      "text/plain": [
       "<IPython.core.display.HTML object>"
      ]
     },
     "metadata": {},
     "output_type": "display_data"
    },
    {
     "data": {
      "text/html": [
       "<blockquote> EHFR, elastomeric half-face respirator; N95-FFR, N95 filtering facepiece respirator; PAPR, powered air-purifying respirator</blockquote>"
      ],
      "text/plain": [
       "<IPython.core.display.HTML object>"
      ]
     },
     "metadata": {},
     "output_type": "display_data"
    },
    {
     "data": {
      "text/html": [
       "<p style='text-align:center'> *** </p>"
      ],
      "text/plain": [
       "<IPython.core.display.HTML object>"
      ]
     },
     "metadata": {},
     "output_type": "display_data"
    },
    {
     "data": {
      "text/html": [
       "<h4 style='text-align:center'>22-12-2018</h4>"
      ],
      "text/plain": [
       "<IPython.core.display.HTML object>"
      ]
     },
     "metadata": {},
     "output_type": "display_data"
    },
    {
     "data": {
      "text/html": [
       "<h3 style='text-align:center'> <a href='https://www.ncbi.nlm.nih.gov/pmc/articles/PMC6303998/'> SELF-CONTAMINATION DURING DOFFING OF PERSONAL PROTECTIVE EQUIPMENT BY HEALTHCARE WORKERS TO PREVENT EBOLA TRANSMISSION</a></h2>"
      ],
      "text/plain": [
       "<IPython.core.display.HTML object>"
      ]
     },
     "metadata": {},
     "output_type": "display_data"
    },
    {
     "data": {
      "text/html": [
       "<h4 style='text-align:center'> ~ <b>Suen, Lorna K. P.; Guo, Yue Ping; Tong, Danny W. K.; Leung, Polly H. M.; Lung, David; Ng, Mandy S. P.; Lai, Timothy K. H.; Lo, Kiki Y. K.; Au-Yeung, Cypher H.; Yu, Winnie</b></h4>"
      ],
      "text/plain": [
       "<IPython.core.display.HTML object>"
      ]
     },
     "metadata": {},
     "output_type": "display_data"
    },
    {
     "data": {
      "text/html": [
       "<blockquote> The whole outfit includes double gloves, boots, disposable face shield and an N95 respirator</blockquote>"
      ],
      "text/plain": [
       "<IPython.core.display.HTML object>"
      ]
     },
     "metadata": {},
     "output_type": "display_data"
    },
    {
     "data": {
      "text/html": [
       "<p style='text-align:center'> *** </p>"
      ],
      "text/plain": [
       "<IPython.core.display.HTML object>"
      ]
     },
     "metadata": {},
     "output_type": "display_data"
    },
    {
     "data": {
      "text/html": [
       "<h4 style='text-align:center'>30-08-2017</h4>"
      ],
      "text/plain": [
       "<IPython.core.display.HTML object>"
      ]
     },
     "metadata": {},
     "output_type": "display_data"
    },
    {
     "data": {
      "text/html": [
       "<h3 style='text-align:center'> <a href='https://www.ncbi.nlm.nih.gov/pmc/articles/PMC5705692/'> THE EFFICACY OF MEDICAL MASKS AND RESPIRATORS AGAINST RESPIRATORY INFECTION IN HEALTHCARE WORKERS</a></h2>"
      ],
      "text/plain": [
       "<IPython.core.display.HTML object>"
      ]
     },
     "metadata": {},
     "output_type": "display_data"
    },
    {
     "data": {
      "text/html": [
       "<h4 style='text-align:center'> ~ <b>MacIntyre, Chandini Raina; Chughtai, Abrar Ahmad; Rahman, Bayzidur; Peng, Yang; Zhang, Yi; Seale, Holly; Wang, Xiaoli; Wang, Quanyi</b></h4>"
      ],
      "text/plain": [
       "<IPython.core.display.HTML object>"
      ]
     },
     "metadata": {},
     "output_type": "display_data"
    },
    {
     "data": {
      "text/html": [
       "<blockquote> Respirators are designed to provide respiratory protection through filtration and fit, and properly fitted respirators provide better protection compared to medical masks</blockquote>"
      ],
      "text/plain": [
       "<IPython.core.display.HTML object>"
      ]
     },
     "metadata": {},
     "output_type": "display_data"
    },
    {
     "data": {
      "text/html": [
       "<p style='text-align:center'> *** </p>"
      ],
      "text/plain": [
       "<IPython.core.display.HTML object>"
      ]
     },
     "metadata": {},
     "output_type": "display_data"
    },
    {
     "data": {
      "text/html": [
       "<h4 style='text-align:center'>01-11-2015</h4>"
      ],
      "text/plain": [
       "<IPython.core.display.HTML object>"
      ]
     },
     "metadata": {},
     "output_type": "display_data"
    },
    {
     "data": {
      "text/html": [
       "<h3 style='text-align:center'> <a href='https://doi.org/10.1016/j.ajic.2015.06.014'> RESISTANCE TO SYNTHETIC BLOOD PENETRATION OF NATIONAL INSTITUTE FOR OCCUPATIONAL SAFETY AND HEALTH-APPROVED N95 FILTERING FACEPIECE RESPIRATORS AND SURGICAL N95 RESPIRATORS</a></h2>"
      ],
      "text/plain": [
       "<IPython.core.display.HTML object>"
      ]
     },
     "metadata": {},
     "output_type": "display_data"
    },
    {
     "data": {
      "text/html": [
       "<h4 style='text-align:center'> ~ <b>Rengasamy, Samy; Sbarra, Deborah; Nwoko, Julian; Shaffer, Ronald</b></h4>"
      ],
      "text/plain": [
       "<IPython.core.display.HTML object>"
      ]
     },
     "metadata": {},
     "output_type": "display_data"
    },
    {
     "data": {
      "text/html": [
       "<blockquote> FDA clears only a small percentage of NIOSHapproved N95 FFRs as surgical N95 respirators</blockquote>"
      ],
      "text/plain": [
       "<IPython.core.display.HTML object>"
      ]
     },
     "metadata": {},
     "output_type": "display_data"
    },
    {
     "data": {
      "text/html": [
       "<p style='text-align:center'> *** </p>"
      ],
      "text/plain": [
       "<IPython.core.display.HTML object>"
      ]
     },
     "metadata": {},
     "output_type": "display_data"
    },
    {
     "data": {
      "text/html": [
       "<h4 style='text-align:center'>14-03-2014</h4>"
      ],
      "text/plain": [
       "<IPython.core.display.HTML object>"
      ]
     },
     "metadata": {},
     "output_type": "display_data"
    },
    {
     "data": {
      "text/html": [
       "<h3 style='text-align:center'> <a href='http://europepmc.org/articles/pmc4610368?pdf=render'> COMMENTARY CONSIDERATIONS FOR RECOMMENDING EXTENDED USE AND LIMITED REUSE OF FILTERING FACEPIECE RESPIRATORS IN HEALTH CARE SETTINGS</a></h2>"
      ],
      "text/plain": [
       "<IPython.core.display.HTML object>"
      ]
     },
     "metadata": {},
     "output_type": "display_data"
    },
    {
     "data": {
      "text/html": [
       "<h4 style='text-align:center'> ~ <b>Fisher, Edward M.; Shaffer, Ronald E.</b></h4>"
      ],
      "text/plain": [
       "<IPython.core.display.HTML object>"
      ]
     },
     "metadata": {},
     "output_type": "display_data"
    },
    {
     "data": {
      "text/html": [
       "<blockquote>The most commonly used type of respirator in health care settings are NIOSH certified N95 filtering facepiece respirators (FFRs)</blockquote>"
      ],
      "text/plain": [
       "<IPython.core.display.HTML object>"
      ]
     },
     "metadata": {},
     "output_type": "display_data"
    },
    {
     "data": {
      "text/html": [
       "<p style='text-align:center'> *** </p>"
      ],
      "text/plain": [
       "<IPython.core.display.HTML object>"
      ]
     },
     "metadata": {},
     "output_type": "display_data"
    },
    {
     "data": {
      "text/html": [
       "<h4 style='text-align:center'>28-02-2010</h4>"
      ],
      "text/plain": [
       "<IPython.core.display.HTML object>"
      ]
     },
     "metadata": {},
     "output_type": "display_data"
    },
    {
     "data": {
      "text/html": [
       "<h3 style='text-align:center'> <a href='https://doi.org/10.1016/j.ajic.2009.08.006'> EVALUATION OF THE SURVIVABILITY OF MS2 VIRAL AEROSOLS DEPOSITED ON FILTERING FACE PIECE RESPIRATOR SAMPLES INCORPORATING ANTIMICROBIAL TECHNOLOGIES</a></h2>"
      ],
      "text/plain": [
       "<IPython.core.display.HTML object>"
      ]
     },
     "metadata": {},
     "output_type": "display_data"
    },
    {
     "data": {
      "text/html": [
       "<h4 style='text-align:center'> ~ <b>Rengasamy, Samy; Fisher, Edward; Shaffer, Ronald E.</b></h4>"
      ],
      "text/plain": [
       "<IPython.core.display.HTML object>"
      ]
     },
     "metadata": {},
     "output_type": "display_data"
    },
    {
     "data": {
      "text/html": [
       "<blockquote> One of them was a NIOSH-approved P95 particulate respirator</blockquote>"
      ],
      "text/plain": [
       "<IPython.core.display.HTML object>"
      ]
     },
     "metadata": {},
     "output_type": "display_data"
    },
    {
     "data": {
      "text/html": [
       "<p style='text-align:center'> *** </p>"
      ],
      "text/plain": [
       "<IPython.core.display.HTML object>"
      ]
     },
     "metadata": {},
     "output_type": "display_data"
    },
    {
     "data": {
      "text/html": [
       "<h4 style='text-align:center'>30-11-2009</h4>"
      ],
      "text/plain": [
       "<IPython.core.display.HTML object>"
      ]
     },
     "metadata": {},
     "output_type": "display_data"
    },
    {
     "data": {
      "text/html": [
       "<h3 style='text-align:center'> <a href='https://doi.org/10.1016/j.ajic.2009.05.002'> STOCKPILE OF PERSONAL PROTECTIVE EQUIPMENT IN HOSPITAL SETTINGS: PREPAREDNESS FOR INFLUENZA PANDEMICS</a></h2>"
      ],
      "text/plain": [
       "<IPython.core.display.HTML object>"
      ]
     },
     "metadata": {},
     "output_type": "display_data"
    },
    {
     "data": {
      "text/html": [
       "<h4 style='text-align:center'> ~ <b>Hashikura, Mayuko; Kizu, Junko</b></h4>"
      ],
      "text/plain": [
       "<IPython.core.display.HTML object>"
      ]
     },
     "metadata": {},
     "output_type": "display_data"
    },
    {
     "data": {
      "text/html": [
       "<blockquote> According to this system, the total number of PPE is 10,528 N95 respirators (with exhalation valve), 8848 N95 respirators, 122,192 surgical masks, 21,280 goggles and gowns, 34,832 aprons, and 172,480 pairs of gloves</blockquote>"
      ],
      "text/plain": [
       "<IPython.core.display.HTML object>"
      ]
     },
     "metadata": {},
     "output_type": "display_data"
    },
    {
     "data": {
      "text/html": [
       "<p style='text-align:center'> *** </p>"
      ],
      "text/plain": [
       "<IPython.core.display.HTML object>"
      ]
     },
     "metadata": {},
     "output_type": "display_data"
    },
    {
     "data": {
      "text/html": [
       "<h2>9. Best telemedicine practices, barriers and faciitators, and specific actions to remove/expand them within and across state boundaries. </h2>"
      ],
      "text/plain": [
       "<IPython.core.display.HTML object>"
      ]
     },
     "metadata": {},
     "output_type": "display_data"
    },
    {
     "data": {
      "text/html": [
       "<h4 style='text-align:center'>01-04-2017</h4>"
      ],
      "text/plain": [
       "<IPython.core.display.HTML object>"
      ]
     },
     "metadata": {},
     "output_type": "display_data"
    },
    {
     "data": {
      "text/html": [
       "<h3 style='text-align:center'> <a href='http://europepmc.org/articles/pmc5583561?pdf=render'> PUBLIC UNDERSTANDING OF MEDICAL COUNTERMEASURES</a></h2>"
      ],
      "text/plain": [
       "<IPython.core.display.HTML object>"
      ]
     },
     "metadata": {},
     "output_type": "display_data"
    },
    {
     "data": {
      "text/html": [
       "<h4 style='text-align:center'> ~ <b>Liu, Brooke Fisher; Quinn, Sandra C.; Egnoto, Michael; Freimuth, Vicki; Boonchaisri, Natalie</b></h4>"
      ],
      "text/plain": [
       "<IPython.core.display.HTML object>"
      ]
     },
     "metadata": {},
     "output_type": "display_data"
    },
    {
     "data": {
      "text/html": [
       "<blockquote> 18 Other key elements for effective crisis and emergency risk communication include enhancing trust through education efforts with community-based organizations and including targeted risk communication materials that are culturally relevant and appropriate, while paying specific attention to literacy levels\n",
       " 17 Although strong emotions can create substantial barriers to effective communication during a crisis, several studies find that increased perceived risk correlates with greater public adherence to public health recommendations</blockquote>"
      ],
      "text/plain": [
       "<IPython.core.display.HTML object>"
      ]
     },
     "metadata": {},
     "output_type": "display_data"
    },
    {
     "data": {
      "text/html": [
       "<p style='text-align:center'> *** </p>"
      ],
      "text/plain": [
       "<IPython.core.display.HTML object>"
      ]
     },
     "metadata": {},
     "output_type": "display_data"
    },
    {
     "data": {
      "text/html": [
       "<h4 style='text-align:center'>01-06-2016</h4>"
      ],
      "text/plain": [
       "<IPython.core.display.HTML object>"
      ]
     },
     "metadata": {},
     "output_type": "display_data"
    },
    {
     "data": {
      "text/html": [
       "<h3 style='text-align:center'> <a href='https://doi.org/10.1016/j.ajic.2015.12.022'> OCCUPATIONAL EXPOSURE TO INFECTION RISK AND USE OF PERSONAL PROTECTIVE EQUIPMENT BY EMERGENCY MEDICAL PERSONNEL IN THE REPUBLIC OF KOREA</a></h2>"
      ],
      "text/plain": [
       "<IPython.core.display.HTML object>"
      ]
     },
     "metadata": {},
     "output_type": "display_data"
    },
    {
     "data": {
      "text/html": [
       "<h4 style='text-align:center'> ~ <b>Oh, Hyang Soon; Uhm, Dongchoon</b></h4>"
      ],
      "text/plain": [
       "<IPython.core.display.HTML object>"
      ]
     },
     "metadata": {},
     "output_type": "display_data"
    },
    {
     "data": {
      "text/html": [
       "<blockquote> Furthermore, national occupational exposure prevention programs should be developed to address regional disparities</blockquote>"
      ],
      "text/plain": [
       "<IPython.core.display.HTML object>"
      ]
     },
     "metadata": {},
     "output_type": "display_data"
    },
    {
     "data": {
      "text/html": [
       "<p style='text-align:center'> *** </p>"
      ],
      "text/plain": [
       "<IPython.core.display.HTML object>"
      ]
     },
     "metadata": {},
     "output_type": "display_data"
    },
    {
     "data": {
      "text/html": [
       "<h4 style='text-align:center'>30-11-2009</h4>"
      ],
      "text/plain": [
       "<IPython.core.display.HTML object>"
      ]
     },
     "metadata": {},
     "output_type": "display_data"
    },
    {
     "data": {
      "text/html": [
       "<h3 style='text-align:center'> <a href='https://doi.org/10.1016/j.ajic.2009.03.007'> HEALTH CARE WORKERS' PERCEPTIONS OF RESPIRATORY AND GASTROINTESTINAL ALGORITHMS FOR PATIENT MANAGEMENT IN EMERGENCY CARE SETTINGS</a></h2>"
      ],
      "text/plain": [
       "<IPython.core.display.HTML object>"
      ]
     },
     "metadata": {},
     "output_type": "display_data"
    },
    {
     "data": {
      "text/html": [
       "<h4 style='text-align:center'> ~ <b>Siow, Serena; Bryce, Elizabeth A.; Scharf, Sydney</b></h4>"
      ],
      "text/plain": [
       "<IPython.core.display.HTML object>"
      ]
     },
     "metadata": {},
     "output_type": "display_data"
    },
    {
     "data": {
      "text/html": [
       "<blockquote>The current study advances knowledge surrounding HCWs perceptions of organizational-specific guidelines for managing patients with suspected communicable respiratory and GI illnesses in emergency departments\n",
       "'' Physicians act as role models to other professionals in the delivery of patient care, and their compliance with institutional policy is critical in ensuring success of implementation</blockquote>"
      ],
      "text/plain": [
       "<IPython.core.display.HTML object>"
      ]
     },
     "metadata": {},
     "output_type": "display_data"
    },
    {
     "data": {
      "text/html": [
       "<p style='text-align:center'> *** </p>"
      ],
      "text/plain": [
       "<IPython.core.display.HTML object>"
      ]
     },
     "metadata": {},
     "output_type": "display_data"
    },
    {
     "data": {
      "text/html": [
       "<h4 style='text-align:center'>30-09-2008</h4>"
      ],
      "text/plain": [
       "<IPython.core.display.HTML object>"
      ]
     },
     "metadata": {},
     "output_type": "display_data"
    },
    {
     "data": {
      "text/html": [
       "<h3 style='text-align:center'> <a href='https://doi.org/10.1016/j.ajic.2007.12.004'> THE INDIVIDUAL, ENVIRONMENTAL, AND ORGANIZATIONAL FACTORS THAT INFLUENCE NURSES' USE OF FACIAL PROTECTION TO PREVENT OCCUPATIONAL TRANSMISSION OF COMMUNICABLE RESPIRATORY ILLNESS IN ACUTE CARE HOSPITALS</a></h2>"
      ],
      "text/plain": [
       "<IPython.core.display.HTML object>"
      ]
     },
     "metadata": {},
     "output_type": "display_data"
    },
    {
     "data": {
      "text/html": [
       "<h4 style='text-align:center'> ~ <b>Nichol, Kathryn; Bigelow, Philip; O'Brien-Pallas, Linda; McGeer, Allison; Manno, Mike; Holness, D. Linn</b></h4>"
      ],
      "text/plain": [
       "<IPython.core.display.HTML object>"
      ]
     },
     "metadata": {},
     "output_type": "display_data"
    },
    {
     "data": {
      "text/html": [
       "<blockquote> Reinforcing factors are organizational factors such as communication, policies and procedures, and management commitment to health and safety</blockquote>"
      ],
      "text/plain": [
       "<IPython.core.display.HTML object>"
      ]
     },
     "metadata": {},
     "output_type": "display_data"
    },
    {
     "data": {
      "text/html": [
       "<p style='text-align:center'> *** </p>"
      ],
      "text/plain": [
       "<IPython.core.display.HTML object>"
      ]
     },
     "metadata": {},
     "output_type": "display_data"
    },
    {
     "data": {
      "text/html": [
       "<h4 style='text-align:center'>31-03-2005</h4>"
      ],
      "text/plain": [
       "<IPython.core.display.HTML object>"
      ]
     },
     "metadata": {},
     "output_type": "display_data"
    },
    {
     "data": {
      "text/html": [
       "<h3 style='text-align:center'> <a href='https://doi.org/10.1016/j.ajic.2004.11.003'> PROTECTING HEALTH CARE WORKERS FROM SARS AND OTHER RESPIRATORY PATHOGENS: ORGANIZATIONAL AND INDIVIDUAL FACTORS THAT AFFECT ADHERENCE TO INFECTION CONTROL GUIDELINES</a></h2>"
      ],
      "text/plain": [
       "<IPython.core.display.HTML object>"
      ]
     },
     "metadata": {},
     "output_type": "display_data"
    },
    {
     "data": {
      "text/html": [
       "<h4 style='text-align:center'> ~ <b>Moore, David; Gamage, Bruce; Bryce, Elizabeth; Copes, Ray; Yassi, Annalee; other members of The BC Interdisciplinary Respiratory Protection Study Group, </b></h4>"
      ],
      "text/plain": [
       "<IPython.core.display.HTML object>"
      ]
     },
     "metadata": {},
     "output_type": "display_data"
    },
    {
     "data": {
      "text/html": [
       "<blockquote>Certainly, organizational issues impact individual attitudes considerably</blockquote>"
      ],
      "text/plain": [
       "<IPython.core.display.HTML object>"
      ]
     },
     "metadata": {},
     "output_type": "display_data"
    },
    {
     "data": {
      "text/html": [
       "<p style='text-align:center'> *** </p>"
      ],
      "text/plain": [
       "<IPython.core.display.HTML object>"
      ]
     },
     "metadata": {},
     "output_type": "display_data"
    },
    {
     "data": {
      "text/html": [
       "<h2>10. Guidance on the simple things people can do at home to take care of sick people and manage disease. </h2>"
      ],
      "text/plain": [
       "<IPython.core.display.HTML object>"
      ]
     },
     "metadata": {},
     "output_type": "display_data"
    },
    {
     "data": {
      "text/html": [
       "<h4 style='text-align:center'>28-02-2014</h4>"
      ],
      "text/plain": [
       "<IPython.core.display.HTML object>"
      ]
     },
     "metadata": {},
     "output_type": "display_data"
    },
    {
     "data": {
      "text/html": [
       "<h3 style='text-align:center'> <a href='https://doi.org/10.1016/s1473-3099(13)70244-5'> INTERNET-BASED SURVEILLANCE SYSTEMS FOR MONITORING EMERGING INFECTIOUS DISEASES</a></h2>"
      ],
      "text/plain": [
       "<IPython.core.display.HTML object>"
      ]
     },
     "metadata": {},
     "output_type": "display_data"
    },
    {
     "data": {
      "text/html": [
       "<h4 style='text-align:center'> ~ <b>Milinovich, Gabriel J; Williams, Gail M; Clements, Archie C A; Hu, Wenbiao</b></h4>"
      ],
      "text/plain": [
       "<IPython.core.display.HTML object>"
      ]
     },
     "metadata": {},
     "output_type": "display_data"
    },
    {
     "data": {
      "text/html": [
       "<blockquote> Attrition during disease pathogenesis or healthseeking pathways is both high and cumulative-results of a study done in rural Cambodia showed that 67% of cases of haemorrhagic fever were treated at home, rather than in a health facility; thus, a health-care-based surveillance system would miss 67% of information before it even becomes accessible</blockquote>"
      ],
      "text/plain": [
       "<IPython.core.display.HTML object>"
      ]
     },
     "metadata": {},
     "output_type": "display_data"
    },
    {
     "data": {
      "text/html": [
       "<p style='text-align:center'> *** </p>"
      ],
      "text/plain": [
       "<IPython.core.display.HTML object>"
      ]
     },
     "metadata": {},
     "output_type": "display_data"
    },
    {
     "data": {
      "text/html": [
       "<h4 style='text-align:center'>30-11-2009</h4>"
      ],
      "text/plain": [
       "<IPython.core.display.HTML object>"
      ]
     },
     "metadata": {},
     "output_type": "display_data"
    },
    {
     "data": {
      "text/html": [
       "<h3 style='text-align:center'> <a href='https://doi.org/10.1016/j.ajic.2009.05.002'> STOCKPILE OF PERSONAL PROTECTIVE EQUIPMENT IN HOSPITAL SETTINGS: PREPAREDNESS FOR INFLUENZA PANDEMICS</a></h2>"
      ],
      "text/plain": [
       "<IPython.core.display.HTML object>"
      ]
     },
     "metadata": {},
     "output_type": "display_data"
    },
    {
     "data": {
      "text/html": [
       "<h4 style='text-align:center'> ~ <b>Hashikura, Mayuko; Kizu, Junko</b></h4>"
      ],
      "text/plain": [
       "<IPython.core.display.HTML object>"
      ]
     },
     "metadata": {},
     "output_type": "display_data"
    },
    {
     "data": {
      "text/html": [
       "<blockquote>During the SARS period, another key factor occurred: many health care workers (HCWs) who cared for SARS patients in hospital settings became infected</blockquote>"
      ],
      "text/plain": [
       "<IPython.core.display.HTML object>"
      ]
     },
     "metadata": {},
     "output_type": "display_data"
    },
    {
     "data": {
      "text/html": [
       "<p style='text-align:center'> *** </p>"
      ],
      "text/plain": [
       "<IPython.core.display.HTML object>"
      ]
     },
     "metadata": {},
     "output_type": "display_data"
    },
    {
     "data": {
      "text/html": [
       "<h4 style='text-align:center'>30-11-2009</h4>"
      ],
      "text/plain": [
       "<IPython.core.display.HTML object>"
      ]
     },
     "metadata": {},
     "output_type": "display_data"
    },
    {
     "data": {
      "text/html": [
       "<h3 style='text-align:center'> <a href='https://doi.org/10.1016/j.ajic.2009.03.007'> HEALTH CARE WORKERS' PERCEPTIONS OF RESPIRATORY AND GASTROINTESTINAL ALGORITHMS FOR PATIENT MANAGEMENT IN EMERGENCY CARE SETTINGS</a></h2>"
      ],
      "text/plain": [
       "<IPython.core.display.HTML object>"
      ]
     },
     "metadata": {},
     "output_type": "display_data"
    },
    {
     "data": {
      "text/html": [
       "<h4 style='text-align:center'> ~ <b>Siow, Serena; Bryce, Elizabeth A.; Scharf, Sydney</b></h4>"
      ],
      "text/plain": [
       "<IPython.core.display.HTML object>"
      ]
     },
     "metadata": {},
     "output_type": "display_data"
    },
    {
     "data": {
      "text/html": [
       "<blockquote>Health care workers' perceptions of respiratory and gastrointestinal algorithms for patient management in emergency care settings Patients presenting with respiratory or gastrointestinal illness in emergency care settings are often not yet diagnosed but are potentially capable of transmitting disease</blockquote>"
      ],
      "text/plain": [
       "<IPython.core.display.HTML object>"
      ]
     },
     "metadata": {},
     "output_type": "display_data"
    },
    {
     "data": {
      "text/html": [
       "<p style='text-align:center'> *** </p>"
      ],
      "text/plain": [
       "<IPython.core.display.HTML object>"
      ]
     },
     "metadata": {},
     "output_type": "display_data"
    },
    {
     "data": {
      "text/html": [
       "<h4 style='text-align:center'>30-09-2008</h4>"
      ],
      "text/plain": [
       "<IPython.core.display.HTML object>"
      ]
     },
     "metadata": {},
     "output_type": "display_data"
    },
    {
     "data": {
      "text/html": [
       "<h3 style='text-align:center'> <a href='https://doi.org/10.1016/j.ajic.2007.12.004'> THE INDIVIDUAL, ENVIRONMENTAL, AND ORGANIZATIONAL FACTORS THAT INFLUENCE NURSES' USE OF FACIAL PROTECTION TO PREVENT OCCUPATIONAL TRANSMISSION OF COMMUNICABLE RESPIRATORY ILLNESS IN ACUTE CARE HOSPITALS</a></h2>"
      ],
      "text/plain": [
       "<IPython.core.display.HTML object>"
      ]
     },
     "metadata": {},
     "output_type": "display_data"
    },
    {
     "data": {
      "text/html": [
       "<h4 style='text-align:center'> ~ <b>Nichol, Kathryn; Bigelow, Philip; O'Brien-Pallas, Linda; McGeer, Allison; Manno, Mike; Holness, D. Linn</b></h4>"
      ],
      "text/plain": [
       "<IPython.core.display.HTML object>"
      ]
     },
     "metadata": {},
     "output_type": "display_data"
    },
    {
     "data": {
      "text/html": [
       "<blockquote> 19 The Canadian Nurses Association profile indicates that the average age of this population was Health care workers' compliance with safe work behaviors to prevent the spread of infectious disease is historically poor\n",
       " Although this relationship may have some inherent contributory bias, it is important to note that nurses who report daily, weekly, or monthly use of facial protection should be the ones to care for patients with communicable respiratory disease or supervise those who are providing the care</blockquote>"
      ],
      "text/plain": [
       "<IPython.core.display.HTML object>"
      ]
     },
     "metadata": {},
     "output_type": "display_data"
    },
    {
     "data": {
      "text/html": [
       "<p style='text-align:center'> *** </p>"
      ],
      "text/plain": [
       "<IPython.core.display.HTML object>"
      ]
     },
     "metadata": {},
     "output_type": "display_data"
    },
    {
     "data": {
      "text/html": [
       "<h4 style='text-align:center'>31-03-2008</h4>"
      ],
      "text/plain": [
       "<IPython.core.display.HTML object>"
      ]
     },
     "metadata": {},
     "output_type": "display_data"
    },
    {
     "data": {
      "text/html": [
       "<h3 style='text-align:center'> <a href='https://doi.org/10.1016/j.ajic.2007.04.284'> EVALUATION OF THE RATIONALE FOR CONCURRENT USE OF N95 FILTERING FACEPIECE RESPIRATORS WITH LOOSE-FITTING POWERED AIR-PURIFYING RESPIRATORS DURING AEROSOL-GENERATING MEDICAL PROCEDURES</a></h2>"
      ],
      "text/plain": [
       "<IPython.core.display.HTML object>"
      ]
     },
     "metadata": {},
     "output_type": "display_data"
    },
    {
     "data": {
      "text/html": [
       "<h4 style='text-align:center'> ~ <b>Roberge, Raymond J.</b></h4>"
      ],
      "text/plain": [
       "<IPython.core.display.HTML object>"
      ]
     },
     "metadata": {},
     "output_type": "display_data"
    },
    {
     "data": {
      "text/html": [
       "<blockquote> 46 HCWs treating patients infected with severe respiratory pathogens have every right to be concerned about their own safety</blockquote>"
      ],
      "text/plain": [
       "<IPython.core.display.HTML object>"
      ]
     },
     "metadata": {},
     "output_type": "display_data"
    },
    {
     "data": {
      "text/html": [
       "<p style='text-align:center'> *** </p>"
      ],
      "text/plain": [
       "<IPython.core.display.HTML object>"
      ]
     },
     "metadata": {},
     "output_type": "display_data"
    },
    {
     "data": {
      "text/html": [
       "<h2>11. Oral medications that might potentially work. </h2>"
      ],
      "text/plain": [
       "<IPython.core.display.HTML object>"
      ]
     },
     "metadata": {},
     "output_type": "display_data"
    },
    {
     "data": {
      "text/html": [
       "<h4 style='text-align:center'>22-12-2018</h4>"
      ],
      "text/plain": [
       "<IPython.core.display.HTML object>"
      ]
     },
     "metadata": {},
     "output_type": "display_data"
    },
    {
     "data": {
      "text/html": [
       "<h3 style='text-align:center'> <a href='https://www.ncbi.nlm.nih.gov/pmc/articles/PMC6303998/'> SELF-CONTAMINATION DURING DOFFING OF PERSONAL PROTECTIVE EQUIPMENT BY HEALTHCARE WORKERS TO PREVENT EBOLA TRANSMISSION</a></h2>"
      ],
      "text/plain": [
       "<IPython.core.display.HTML object>"
      ]
     },
     "metadata": {},
     "output_type": "display_data"
    },
    {
     "data": {
      "text/html": [
       "<h4 style='text-align:center'> ~ <b>Suen, Lorna K. P.; Guo, Yue Ping; Tong, Danny W. K.; Leung, Polly H. M.; Lung, David; Ng, Mandy S. P.; Lai, Timothy K. H.; Lo, Kiki Y. K.; Au-Yeung, Cypher H.; Yu, Winnie</b></h4>"
      ],
      "text/plain": [
       "<IPython.core.display.HTML object>"
      ]
     },
     "metadata": {},
     "output_type": "display_data"
    },
    {
     "data": {
      "text/html": [
       "<blockquote> Pregnant females and participants suffering from upper respiratory tract infection and respiratory diseases requiring treatment were excluded</blockquote>"
      ],
      "text/plain": [
       "<IPython.core.display.HTML object>"
      ]
     },
     "metadata": {},
     "output_type": "display_data"
    },
    {
     "data": {
      "text/html": [
       "<p style='text-align:center'> *** </p>"
      ],
      "text/plain": [
       "<IPython.core.display.HTML object>"
      ]
     },
     "metadata": {},
     "output_type": "display_data"
    },
    {
     "data": {
      "text/html": [
       "<h4 style='text-align:center'>01-06-2016</h4>"
      ],
      "text/plain": [
       "<IPython.core.display.HTML object>"
      ]
     },
     "metadata": {},
     "output_type": "display_data"
    },
    {
     "data": {
      "text/html": [
       "<h3 style='text-align:center'> <a href='https://doi.org/10.1016/j.ajic.2015.12.022'> OCCUPATIONAL EXPOSURE TO INFECTION RISK AND USE OF PERSONAL PROTECTIVE EQUIPMENT BY EMERGENCY MEDICAL PERSONNEL IN THE REPUBLIC OF KOREA</a></h2>"
      ],
      "text/plain": [
       "<IPython.core.display.HTML object>"
      ]
     },
     "metadata": {},
     "output_type": "display_data"
    },
    {
     "data": {
      "text/html": [
       "<h4 style='text-align:center'> ~ <b>Oh, Hyang Soon; Uhm, Dongchoon</b></h4>"
      ],
      "text/plain": [
       "<IPython.core.display.HTML object>"
      ]
     },
     "metadata": {},
     "output_type": "display_data"
    },
    {
     "data": {
      "text/html": [
       "<blockquote> The duties of EMT-P include invasive medical treatments (including endotracheal intubation, initiating intravenous access, and injecting intravenous glucose for hypoglycemic shock), administering medication (sublingual nitroglycerin and bronchodilator for asthma attack), and performing cardiopulmonary resuscitation and ventilator support</blockquote>"
      ],
      "text/plain": [
       "<IPython.core.display.HTML object>"
      ]
     },
     "metadata": {},
     "output_type": "display_data"
    },
    {
     "data": {
      "text/html": [
       "<p style='text-align:center'> *** </p>"
      ],
      "text/plain": [
       "<IPython.core.display.HTML object>"
      ]
     },
     "metadata": {},
     "output_type": "display_data"
    },
    {
     "data": {
      "text/html": [
       "<h4 style='text-align:center'>10-07-2014</h4>"
      ],
      "text/plain": [
       "<IPython.core.display.HTML object>"
      ]
     },
     "metadata": {},
     "output_type": "display_data"
    },
    {
     "data": {
      "text/html": [
       "<h3 style='text-align:center'> <a href='https://www.ncbi.nlm.nih.gov/pmc/articles/PMC4190526/'> INTRANASAL DNA VACCINE FOR PROTECTION AGAINST RESPIRATORY INFECTIOUS DISEASES: THE DELIVERY PERSPECTIVES</a></h2>"
      ],
      "text/plain": [
       "<IPython.core.display.HTML object>"
      ]
     },
     "metadata": {},
     "output_type": "display_data"
    },
    {
     "data": {
      "text/html": [
       "<h4 style='text-align:center'> ~ <b>Xu, Yingying; Yuen, Pak-Wai; Lam, Jenny Ka-Wing</b></h4>"
      ],
      "text/plain": [
       "<IPython.core.display.HTML object>"
      ]
     },
     "metadata": {},
     "output_type": "display_data"
    },
    {
     "data": {
      "text/html": [
       "<blockquote>Typically, DNA vaccines are administered by intramuscular injection although other administration routes including intradermal, subcutaneous, oral and intranasal routes are also investigated\n",
       " When administered intramuscularly, both liposomal formulations were ineffective in preventing tuberculosis infection in mice even after two doses\n",
       " Human RSV lacks an approved vaccine or an antiviral therapy\n",
       " The first clinical trial of a DNA-based vaccine for HIV-1 infection was published in 1998 in 15 asymptomatic HIV-infected patients who were not using antiviral drugs</blockquote>"
      ],
      "text/plain": [
       "<IPython.core.display.HTML object>"
      ]
     },
     "metadata": {},
     "output_type": "display_data"
    },
    {
     "data": {
      "text/html": [
       "<p style='text-align:center'> *** </p>"
      ],
      "text/plain": [
       "<IPython.core.display.HTML object>"
      ]
     },
     "metadata": {},
     "output_type": "display_data"
    },
    {
     "data": {
      "text/html": [
       "<h4 style='text-align:center'>31-03-2008</h4>"
      ],
      "text/plain": [
       "<IPython.core.display.HTML object>"
      ]
     },
     "metadata": {},
     "output_type": "display_data"
    },
    {
     "data": {
      "text/html": [
       "<h3 style='text-align:center'> <a href='https://doi.org/10.1016/j.ajic.2007.04.284'> EVALUATION OF THE RATIONALE FOR CONCURRENT USE OF N95 FILTERING FACEPIECE RESPIRATORS WITH LOOSE-FITTING POWERED AIR-PURIFYING RESPIRATORS DURING AEROSOL-GENERATING MEDICAL PROCEDURES</a></h2>"
      ],
      "text/plain": [
       "<IPython.core.display.HTML object>"
      ]
     },
     "metadata": {},
     "output_type": "display_data"
    },
    {
     "data": {
      "text/html": [
       "<h4 style='text-align:center'> ~ <b>Roberge, Raymond J.</b></h4>"
      ],
      "text/plain": [
       "<IPython.core.display.HTML object>"
      ]
     },
     "metadata": {},
     "output_type": "display_data"
    },
    {
     "data": {
      "text/html": [
       "<blockquote> 7 Medical procedures that result in aerosolization and subsequent airborne dissemination of respiratory pathogens (eg, endotracheal intubation, oral suctioning, etc) were identified as placing HCWs at increased risk for SARS infection</blockquote>"
      ],
      "text/plain": [
       "<IPython.core.display.HTML object>"
      ]
     },
     "metadata": {},
     "output_type": "display_data"
    },
    {
     "data": {
      "text/html": [
       "<p style='text-align:center'> *** </p>"
      ],
      "text/plain": [
       "<IPython.core.display.HTML object>"
      ]
     },
     "metadata": {},
     "output_type": "display_data"
    },
    {
     "data": {
      "text/html": [
       "<h2>12. Use of AI in real-time health care delivery to evaluate interventions, risk factors, and outcomes in a way that could not be done manually. </h2>"
      ],
      "text/plain": [
       "<IPython.core.display.HTML object>"
      ]
     },
     "metadata": {},
     "output_type": "display_data"
    },
    {
     "data": {
      "text/html": [
       "<h4 style='text-align:center'>31-12-2013</h4>"
      ],
      "text/plain": [
       "<IPython.core.display.HTML object>"
      ]
     },
     "metadata": {},
     "output_type": "display_data"
    },
    {
     "data": {
      "text/html": [
       "<h3 style='text-align:center'> <a href='https://doi.org/10.1016/j.ajic.2013.02.017'> PHYSIOLOGIC AND OTHER EFFECTS AND COMPLIANCE WITH LONG-TERM RESPIRATOR USE AMONG MEDICAL INTENSIVE CARE UNIT NURSES</a></h2>"
      ],
      "text/plain": [
       "<IPython.core.display.HTML object>"
      ]
     },
     "metadata": {},
     "output_type": "display_data"
    },
    {
     "data": {
      "text/html": [
       "<h4 style='text-align:center'> ~ <b>Rebmann, Terri; Carrico, Ruth; Wang, Jing</b></h4>"
      ],
      "text/plain": [
       "<IPython.core.display.HTML object>"
      ]
     },
     "metadata": {},
     "output_type": "display_data"
    },
    {
     "data": {
      "text/html": [
       "<blockquote> Future studies should also examine other factors that may help increase health care personnel tolerance of long-term N95 usage\n",
       " Noncompliance with N95 use can put staff at risk from infection, a factor believed to be associated with the high rate of severe acute respiratory syndrome among health care personnel</blockquote>"
      ],
      "text/plain": [
       "<IPython.core.display.HTML object>"
      ]
     },
     "metadata": {},
     "output_type": "display_data"
    },
    {
     "data": {
      "text/html": [
       "<p style='text-align:center'> *** </p>"
      ],
      "text/plain": [
       "<IPython.core.display.HTML object>"
      ]
     },
     "metadata": {},
     "output_type": "display_data"
    },
    {
     "data": {
      "text/html": [
       "<h4 style='text-align:center'>30-11-2009</h4>"
      ],
      "text/plain": [
       "<IPython.core.display.HTML object>"
      ]
     },
     "metadata": {},
     "output_type": "display_data"
    },
    {
     "data": {
      "text/html": [
       "<h3 style='text-align:center'> <a href='https://doi.org/10.1016/j.ajic.2009.03.007'> HEALTH CARE WORKERS' PERCEPTIONS OF RESPIRATORY AND GASTROINTESTINAL ALGORITHMS FOR PATIENT MANAGEMENT IN EMERGENCY CARE SETTINGS</a></h2>"
      ],
      "text/plain": [
       "<IPython.core.display.HTML object>"
      ]
     },
     "metadata": {},
     "output_type": "display_data"
    },
    {
     "data": {
      "text/html": [
       "<h4 style='text-align:center'> ~ <b>Siow, Serena; Bryce, Elizabeth A.; Scharf, Sydney</b></h4>"
      ],
      "text/plain": [
       "<IPython.core.display.HTML object>"
      ]
     },
     "metadata": {},
     "output_type": "display_data"
    },
    {
     "data": {
      "text/html": [
       "<blockquote>Health care workers' perceptions of respiratory and gastrointestinal algorithms for patient management in emergency care settings Patients presenting with respiratory or gastrointestinal illness in emergency care settings are often not yet diagnosed but are potentially capable of transmitting disease</blockquote>"
      ],
      "text/plain": [
       "<IPython.core.display.HTML object>"
      ]
     },
     "metadata": {},
     "output_type": "display_data"
    },
    {
     "data": {
      "text/html": [
       "<p style='text-align:center'> *** </p>"
      ],
      "text/plain": [
       "<IPython.core.display.HTML object>"
      ]
     },
     "metadata": {},
     "output_type": "display_data"
    },
    {
     "data": {
      "text/html": [
       "<h4 style='text-align:center'>30-09-2008</h4>"
      ],
      "text/plain": [
       "<IPython.core.display.HTML object>"
      ]
     },
     "metadata": {},
     "output_type": "display_data"
    },
    {
     "data": {
      "text/html": [
       "<h3 style='text-align:center'> <a href='https://doi.org/10.1016/j.ajic.2007.12.004'> THE INDIVIDUAL, ENVIRONMENTAL, AND ORGANIZATIONAL FACTORS THAT INFLUENCE NURSES' USE OF FACIAL PROTECTION TO PREVENT OCCUPATIONAL TRANSMISSION OF COMMUNICABLE RESPIRATORY ILLNESS IN ACUTE CARE HOSPITALS</a></h2>"
      ],
      "text/plain": [
       "<IPython.core.display.HTML object>"
      ]
     },
     "metadata": {},
     "output_type": "display_data"
    },
    {
     "data": {
      "text/html": [
       "<h4 style='text-align:center'> ~ <b>Nichol, Kathryn; Bigelow, Philip; O'Brien-Pallas, Linda; McGeer, Allison; Manno, Mike; Holness, D. Linn</b></h4>"
      ],
      "text/plain": [
       "<IPython.core.display.HTML object>"
      ]
     },
     "metadata": {},
     "output_type": "display_data"
    },
    {
     "data": {
      "text/html": [
       "<blockquote>The individual, environmental, and organizational factors that influence nurses' use of facial protection to prevent occupational transmission of communicable respiratory illness in acute care hospitals Background: Communicable respiratory illness is an important cause of morbidity among nurses\n",
       " Communicable respiratory illness is an important cause of morbidity among health care workers each year\n",
       " One qualitative study found that media coverage of HIV and hepatitis B was an important factor in health care workers' compliance with universal precautions</blockquote>"
      ],
      "text/plain": [
       "<IPython.core.display.HTML object>"
      ]
     },
     "metadata": {},
     "output_type": "display_data"
    },
    {
     "data": {
      "text/html": [
       "<p style='text-align:center'> *** </p>"
      ],
      "text/plain": [
       "<IPython.core.display.HTML object>"
      ]
     },
     "metadata": {},
     "output_type": "display_data"
    },
    {
     "data": {
      "text/html": [
       "<h4 style='text-align:center'>31-03-2008</h4>"
      ],
      "text/plain": [
       "<IPython.core.display.HTML object>"
      ]
     },
     "metadata": {},
     "output_type": "display_data"
    },
    {
     "data": {
      "text/html": [
       "<h3 style='text-align:center'> <a href='https://doi.org/10.1016/j.ajic.2007.04.284'> EVALUATION OF THE RATIONALE FOR CONCURRENT USE OF N95 FILTERING FACEPIECE RESPIRATORS WITH LOOSE-FITTING POWERED AIR-PURIFYING RESPIRATORS DURING AEROSOL-GENERATING MEDICAL PROCEDURES</a></h2>"
      ],
      "text/plain": [
       "<IPython.core.display.HTML object>"
      ]
     },
     "metadata": {},
     "output_type": "display_data"
    },
    {
     "data": {
      "text/html": [
       "<h4 style='text-align:center'> ~ <b>Roberge, Raymond J.</b></h4>"
      ],
      "text/plain": [
       "<IPython.core.display.HTML object>"
      ]
     },
     "metadata": {},
     "output_type": "display_data"
    },
    {
     "data": {
      "text/html": [
       "<blockquote> Published reports from the health care environment suggest that PAPRs alone offer sufficiently high levels of respiratory protection during aerosolizing medical procedures</blockquote>"
      ],
      "text/plain": [
       "<IPython.core.display.HTML object>"
      ]
     },
     "metadata": {},
     "output_type": "display_data"
    },
    {
     "data": {
      "text/html": [
       "<p style='text-align:center'> *** </p>"
      ],
      "text/plain": [
       "<IPython.core.display.HTML object>"
      ]
     },
     "metadata": {},
     "output_type": "display_data"
    },
    {
     "data": {
      "text/html": [
       "<h4 style='text-align:center'>31-03-2005</h4>"
      ],
      "text/plain": [
       "<IPython.core.display.HTML object>"
      ]
     },
     "metadata": {},
     "output_type": "display_data"
    },
    {
     "data": {
      "text/html": [
       "<h3 style='text-align:center'> <a href='https://doi.org/10.1016/j.ajic.2004.11.003'> PROTECTING HEALTH CARE WORKERS FROM SARS AND OTHER RESPIRATORY PATHOGENS: ORGANIZATIONAL AND INDIVIDUAL FACTORS THAT AFFECT ADHERENCE TO INFECTION CONTROL GUIDELINES</a></h2>"
      ],
      "text/plain": [
       "<IPython.core.display.HTML object>"
      ]
     },
     "metadata": {},
     "output_type": "display_data"
    },
    {
     "data": {
      "text/html": [
       "<h4 style='text-align:center'> ~ <b>Moore, David; Gamage, Bruce; Bryce, Elizabeth; Copes, Ray; Yassi, Annalee; other members of The BC Interdisciplinary Respiratory Protection Study Group, </b></h4>"
      ],
      "text/plain": [
       "<IPython.core.display.HTML object>"
      ]
     },
     "metadata": {},
     "output_type": "display_data"
    },
    {
     "data": {
      "text/html": [
       "<blockquote> The lessons learned from SARS should be used to improve occupational health and safety for health care workers for current nosocomially transmitted infections, as well as for future potential emerging diseases</blockquote>"
      ],
      "text/plain": [
       "<IPython.core.display.HTML object>"
      ]
     },
     "metadata": {},
     "output_type": "display_data"
    },
    {
     "data": {
      "text/html": [
       "<p style='text-align:center'> *** </p>"
      ],
      "text/plain": [
       "<IPython.core.display.HTML object>"
      ]
     },
     "metadata": {},
     "output_type": "display_data"
    },
    {
     "data": {
      "text/html": [
       "<h2>13. Best practices and critical challenges and innovative solutions and technologies in hospital flow and organization, workforce protection, workforce allocation, community-based support resources, payment, and supply chain management to enhance capacity, efficiency, and outcomes. </h2>"
      ],
      "text/plain": [
       "<IPython.core.display.HTML object>"
      ]
     },
     "metadata": {},
     "output_type": "display_data"
    },
    {
     "data": {
      "text/html": [
       "<h4 style='text-align:center'>01-04-2017</h4>"
      ],
      "text/plain": [
       "<IPython.core.display.HTML object>"
      ]
     },
     "metadata": {},
     "output_type": "display_data"
    },
    {
     "data": {
      "text/html": [
       "<h3 style='text-align:center'> <a href='http://europepmc.org/articles/pmc5583561?pdf=render'> PUBLIC UNDERSTANDING OF MEDICAL COUNTERMEASURES</a></h2>"
      ],
      "text/plain": [
       "<IPython.core.display.HTML object>"
      ]
     },
     "metadata": {},
     "output_type": "display_data"
    },
    {
     "data": {
      "text/html": [
       "<h4 style='text-align:center'> ~ <b>Liu, Brooke Fisher; Quinn, Sandra C.; Egnoto, Michael; Freimuth, Vicki; Boonchaisri, Natalie</b></h4>"
      ],
      "text/plain": [
       "<IPython.core.display.HTML object>"
      ]
     },
     "metadata": {},
     "output_type": "display_data"
    },
    {
     "data": {
      "text/html": [
       "<blockquote> 18 Other key elements for effective crisis and emergency risk communication include enhancing trust through education efforts with community-based organizations and including targeted risk communication materials that are culturally relevant and appropriate, while paying specific attention to literacy levels</blockquote>"
      ],
      "text/plain": [
       "<IPython.core.display.HTML object>"
      ]
     },
     "metadata": {},
     "output_type": "display_data"
    },
    {
     "data": {
      "text/html": [
       "<p style='text-align:center'> *** </p>"
      ],
      "text/plain": [
       "<IPython.core.display.HTML object>"
      ]
     },
     "metadata": {},
     "output_type": "display_data"
    },
    {
     "data": {
      "text/html": [
       "<h4 style='text-align:center'>01-11-2015</h4>"
      ],
      "text/plain": [
       "<IPython.core.display.HTML object>"
      ]
     },
     "metadata": {},
     "output_type": "display_data"
    },
    {
     "data": {
      "text/html": [
       "<h3 style='text-align:center'> <a href='https://doi.org/10.1016/j.clinthera.2015.07.007'> PERSONAL PROTECTIVE EQUIPMENT: PROTECTING HEALTH CARE PROVIDERS IN AN EBOLA OUTBREAK</a></h2>"
      ],
      "text/plain": [
       "<IPython.core.display.HTML object>"
      ]
     },
     "metadata": {},
     "output_type": "display_data"
    },
    {
     "data": {
      "text/html": [
       "<h4 style='text-align:center'> ~ <b>Fischer, William A.; Weber, David J.; Wohl, David A.</b></h4>"
      ],
      "text/plain": [
       "<IPython.core.display.HTML object>"
      ]
     },
     "metadata": {},
     "output_type": "display_data"
    },
    {
     "data": {
      "text/html": [
       "<blockquote>The use of MS2 allows for the systematic evaluation of PPE and processes to ensure they have been optimized for health care provider safety</blockquote>"
      ],
      "text/plain": [
       "<IPython.core.display.HTML object>"
      ]
     },
     "metadata": {},
     "output_type": "display_data"
    },
    {
     "data": {
      "text/html": [
       "<p style='text-align:center'> *** </p>"
      ],
      "text/plain": [
       "<IPython.core.display.HTML object>"
      ]
     },
     "metadata": {},
     "output_type": "display_data"
    },
    {
     "data": {
      "text/html": [
       "<h4 style='text-align:center'>28-02-2014</h4>"
      ],
      "text/plain": [
       "<IPython.core.display.HTML object>"
      ]
     },
     "metadata": {},
     "output_type": "display_data"
    },
    {
     "data": {
      "text/html": [
       "<h3 style='text-align:center'> <a href='https://doi.org/10.1016/s1473-3099(13)70244-5'> INTERNET-BASED SURVEILLANCE SYSTEMS FOR MONITORING EMERGING INFECTIOUS DISEASES</a></h2>"
      ],
      "text/plain": [
       "<IPython.core.display.HTML object>"
      ]
     },
     "metadata": {},
     "output_type": "display_data"
    },
    {
     "data": {
      "text/html": [
       "<h4 style='text-align:center'> ~ <b>Milinovich, Gabriel J; Williams, Gail M; Clements, Archie C A; Hu, Wenbiao</b></h4>"
      ],
      "text/plain": [
       "<IPython.core.display.HTML object>"
      ]
     },
     "metadata": {},
     "output_type": "display_data"
    },
    {
     "data": {
      "text/html": [
       "<blockquote> 68 These studies show potential applications of internet-based surveillance systems in bolstering traditional surveillance system capacity and guiding public health action\n",
       " A global response requires concerted international approaches to strengthen the capacity of emerging infectious diseases surveillance systems worldwide</blockquote>"
      ],
      "text/plain": [
       "<IPython.core.display.HTML object>"
      ]
     },
     "metadata": {},
     "output_type": "display_data"
    },
    {
     "data": {
      "text/html": [
       "<p style='text-align:center'> *** </p>"
      ],
      "text/plain": [
       "<IPython.core.display.HTML object>"
      ]
     },
     "metadata": {},
     "output_type": "display_data"
    },
    {
     "data": {
      "text/html": [
       "<h4 style='text-align:center'>30-11-2009</h4>"
      ],
      "text/plain": [
       "<IPython.core.display.HTML object>"
      ]
     },
     "metadata": {},
     "output_type": "display_data"
    },
    {
     "data": {
      "text/html": [
       "<h3 style='text-align:center'> <a href='https://doi.org/10.1016/j.ajic.2009.03.007'> HEALTH CARE WORKERS' PERCEPTIONS OF RESPIRATORY AND GASTROINTESTINAL ALGORITHMS FOR PATIENT MANAGEMENT IN EMERGENCY CARE SETTINGS</a></h2>"
      ],
      "text/plain": [
       "<IPython.core.display.HTML object>"
      ]
     },
     "metadata": {},
     "output_type": "display_data"
    },
    {
     "data": {
      "text/html": [
       "<h4 style='text-align:center'> ~ <b>Siow, Serena; Bryce, Elizabeth A.; Scharf, Sydney</b></h4>"
      ],
      "text/plain": [
       "<IPython.core.display.HTML object>"
      ]
     },
     "metadata": {},
     "output_type": "display_data"
    },
    {
     "data": {
      "text/html": [
       "<blockquote>'' Physicians act as role models to other professionals in the delivery of patient care, and their compliance with institutional policy is critical in ensuring success of implementation</blockquote>"
      ],
      "text/plain": [
       "<IPython.core.display.HTML object>"
      ]
     },
     "metadata": {},
     "output_type": "display_data"
    },
    {
     "data": {
      "text/html": [
       "<p style='text-align:center'> *** </p>"
      ],
      "text/plain": [
       "<IPython.core.display.HTML object>"
      ]
     },
     "metadata": {},
     "output_type": "display_data"
    },
    {
     "data": {
      "text/html": [
       "<h4 style='text-align:center'>30-09-2008</h4>"
      ],
      "text/plain": [
       "<IPython.core.display.HTML object>"
      ]
     },
     "metadata": {},
     "output_type": "display_data"
    },
    {
     "data": {
      "text/html": [
       "<h3 style='text-align:center'> <a href='https://doi.org/10.1016/j.ajic.2007.12.004'> THE INDIVIDUAL, ENVIRONMENTAL, AND ORGANIZATIONAL FACTORS THAT INFLUENCE NURSES' USE OF FACIAL PROTECTION TO PREVENT OCCUPATIONAL TRANSMISSION OF COMMUNICABLE RESPIRATORY ILLNESS IN ACUTE CARE HOSPITALS</a></h2>"
      ],
      "text/plain": [
       "<IPython.core.display.HTML object>"
      ]
     },
     "metadata": {},
     "output_type": "display_data"
    },
    {
     "data": {
      "text/html": [
       "<h4 style='text-align:center'> ~ <b>Nichol, Kathryn; Bigelow, Philip; O'Brien-Pallas, Linda; McGeer, Allison; Manno, Mike; Holness, D. Linn</b></h4>"
      ],
      "text/plain": [
       "<IPython.core.display.HTML object>"
      ]
     },
     "metadata": {},
     "output_type": "display_data"
    },
    {
     "data": {
      "text/html": [
       "<blockquote> Interventions targeted at improving how supportive the organization is of employee health and safety can result in enhanced compliance\n",
       " Measures for organizational support included management making health and safety a high priority, taking all reasonable steps to minimize hazards, encouraging employees' involvement in health and safety matters, and actively working to protect employees\n",
       " Reinforcing factors are organizational factors such as communication, policies and procedures, and management commitment to health and safety</blockquote>"
      ],
      "text/plain": [
       "<IPython.core.display.HTML object>"
      ]
     },
     "metadata": {},
     "output_type": "display_data"
    },
    {
     "data": {
      "text/html": [
       "<p style='text-align:center'> *** </p>"
      ],
      "text/plain": [
       "<IPython.core.display.HTML object>"
      ]
     },
     "metadata": {},
     "output_type": "display_data"
    },
    {
     "data": {
      "text/html": [
       "<h2>14. Efforts to define the natural history of disease to inform clinical care, public health interventions, infection prevention control, transmission, and clinical trials </h2>"
      ],
      "text/plain": [
       "<IPython.core.display.HTML object>"
      ]
     },
     "metadata": {},
     "output_type": "display_data"
    },
    {
     "data": {
      "text/html": [
       "<h4 style='text-align:center'>12-10-2019</h4>"
      ],
      "text/plain": [
       "<IPython.core.display.HTML object>"
      ]
     },
     "metadata": {},
     "output_type": "display_data"
    },
    {
     "data": {
      "text/html": [
       "<h3 style='text-align:center'> <a href='https://www.ncbi.nlm.nih.gov/pmc/articles/PMC6832307/'> NOSOCOMIAL TRANSMISSION OF EMERGING VIRUSES VIA AEROSOL-GENERATING MEDICAL PROCEDURES</a></h2>"
      ],
      "text/plain": [
       "<IPython.core.display.HTML object>"
      ]
     },
     "metadata": {},
     "output_type": "display_data"
    },
    {
     "data": {
      "text/html": [
       "<h4 style='text-align:center'> ~ <b>Judson, Seth D.; Munster, Vincent J.</b></h4>"
      ],
      "text/plain": [
       "<IPython.core.display.HTML object>"
      ]
     },
     "metadata": {},
     "output_type": "display_data"
    },
    {
     "data": {
      "text/html": [
       "<blockquote>In contrast to causing a patient to produce aerosols, AGMPs can also mechanically create and disperse respiratory aerosols through procedures such as ventilation, suctioning of the airway, or nebulizer treatment</blockquote>"
      ],
      "text/plain": [
       "<IPython.core.display.HTML object>"
      ]
     },
     "metadata": {},
     "output_type": "display_data"
    },
    {
     "data": {
      "text/html": [
       "<p style='text-align:center'> *** </p>"
      ],
      "text/plain": [
       "<IPython.core.display.HTML object>"
      ]
     },
     "metadata": {},
     "output_type": "display_data"
    },
    {
     "data": {
      "text/html": [
       "<h4 style='text-align:center'>01-11-2015</h4>"
      ],
      "text/plain": [
       "<IPython.core.display.HTML object>"
      ]
     },
     "metadata": {},
     "output_type": "display_data"
    },
    {
     "data": {
      "text/html": [
       "<h3 style='text-align:center'> <a href='https://doi.org/10.1016/j.ajic.2015.06.014'> RESISTANCE TO SYNTHETIC BLOOD PENETRATION OF NATIONAL INSTITUTE FOR OCCUPATIONAL SAFETY AND HEALTH-APPROVED N95 FILTERING FACEPIECE RESPIRATORS AND SURGICAL N95 RESPIRATORS</a></h2>"
      ],
      "text/plain": [
       "<IPython.core.display.HTML object>"
      ]
     },
     "metadata": {},
     "output_type": "display_data"
    },
    {
     "data": {
      "text/html": [
       "<h4 style='text-align:center'> ~ <b>Rengasamy, Samy; Sbarra, Deborah; Nwoko, Julian; Shaffer, Ronald</b></h4>"
      ],
      "text/plain": [
       "<IPython.core.display.HTML object>"
      ]
     },
     "metadata": {},
     "output_type": "display_data"
    },
    {
     "data": {
      "text/html": [
       "<blockquote> Penetration for large numbers of samples at higher velocity can be expected because an increase in the test velocity is likely to increase the permeability of the masks for fluids, including synthetic blood</blockquote>"
      ],
      "text/plain": [
       "<IPython.core.display.HTML object>"
      ]
     },
     "metadata": {},
     "output_type": "display_data"
    },
    {
     "data": {
      "text/html": [
       "<p style='text-align:center'> *** </p>"
      ],
      "text/plain": [
       "<IPython.core.display.HTML object>"
      ]
     },
     "metadata": {},
     "output_type": "display_data"
    },
    {
     "data": {
      "text/html": [
       "<h4 style='text-align:center'>14-03-2014</h4>"
      ],
      "text/plain": [
       "<IPython.core.display.HTML object>"
      ]
     },
     "metadata": {},
     "output_type": "display_data"
    },
    {
     "data": {
      "text/html": [
       "<h3 style='text-align:center'> <a href='http://europepmc.org/articles/pmc4610368?pdf=render'> COMMENTARY CONSIDERATIONS FOR RECOMMENDING EXTENDED USE AND LIMITED REUSE OF FILTERING FACEPIECE RESPIRATORS IN HEALTH CARE SETTINGS</a></h2>"
      ],
      "text/plain": [
       "<IPython.core.display.HTML object>"
      ]
     },
     "metadata": {},
     "output_type": "display_data"
    },
    {
     "data": {
      "text/html": [
       "<h4 style='text-align:center'> ~ <b>Fisher, Edward M.; Shaffer, Ronald E.</b></h4>"
      ],
      "text/plain": [
       "<IPython.core.display.HTML object>"
      ]
     },
     "metadata": {},
     "output_type": "display_data"
    },
    {
     "data": {
      "text/html": [
       "<blockquote>NIOSH researchers found that FFR use caused no or minimal increases in heart rate, respiratory rate, and transcutaneous carbon dioxide as well as no differences in oxygen saturation on test subjects during 1 hr of low-moderate treadmill exercise when compared with wearing no respirator (control)</blockquote>"
      ],
      "text/plain": [
       "<IPython.core.display.HTML object>"
      ]
     },
     "metadata": {},
     "output_type": "display_data"
    },
    {
     "data": {
      "text/html": [
       "<p style='text-align:center'> *** </p>"
      ],
      "text/plain": [
       "<IPython.core.display.HTML object>"
      ]
     },
     "metadata": {},
     "output_type": "display_data"
    },
    {
     "data": {
      "text/html": [
       "<h4 style='text-align:center'>30-06-2010</h4>"
      ],
      "text/plain": [
       "<IPython.core.display.HTML object>"
      ]
     },
     "metadata": {},
     "output_type": "display_data"
    },
    {
     "data": {
      "text/html": [
       "<h3 style='text-align:center'> <a href='https://doi.org/10.1016/j.ajic.2009.11.006'> REUSABLE ELASTOMERIC AIR-PURIFYING RESPIRATORS: PHYSIOLOGIC IMPACT ON HEALTH CARE WORKERS</a></h2>"
      ],
      "text/plain": [
       "<IPython.core.display.HTML object>"
      ]
     },
     "metadata": {},
     "output_type": "display_data"
    },
    {
     "data": {
      "text/html": [
       "<h4 style='text-align:center'> ~ <b>Roberge, Raymond J.; Coca, Aitor; Williams, W. Jon; Powell, Jeffrey B.; Palmiero, Andrew J.</b></h4>"
      ],
      "text/plain": [
       "<IPython.core.display.HTML object>"
      ]
     },
     "metadata": {},
     "output_type": "display_data"
    },
    {
     "data": {
      "text/html": [
       "<blockquote> To determine differences for physiological variables, repeated-measures ANOVAs for oxygen saturation, partial pressure of transcutaneous carbon dioxide, breathing rate, tidal volume, minute volume, and heart rate were performed\n",
       " Paired t tests were performed to examine respirator dead space oxygen and carbon dioxide responses to EAPR at the 2 exercise intensities</blockquote>"
      ],
      "text/plain": [
       "<IPython.core.display.HTML object>"
      ]
     },
     "metadata": {},
     "output_type": "display_data"
    },
    {
     "data": {
      "text/html": [
       "<p style='text-align:center'> *** </p>"
      ],
      "text/plain": [
       "<IPython.core.display.HTML object>"
      ]
     },
     "metadata": {},
     "output_type": "display_data"
    },
    {
     "data": {
      "text/html": [
       "<h4 style='text-align:center'>30-06-2010</h4>"
      ],
      "text/plain": [
       "<IPython.core.display.HTML object>"
      ]
     },
     "metadata": {},
     "output_type": "display_data"
    },
    {
     "data": {
      "text/html": [
       "<h3 style='text-align:center'> <a href='https://doi.org/10.1016/j.ajic.2010.04.208'> APPLICATIONS OF ULTRAVIOLET GERMICIDAL IRRADIATION DISINFECTION IN HEALTH CARE FACILITIES: EFFECTIVE ADJUNCT, BUT NOT STAND-ALONE TECHNOLOGY</a></h2>"
      ],
      "text/plain": [
       "<IPython.core.display.HTML object>"
      ]
     },
     "metadata": {},
     "output_type": "display_data"
    },
    {
     "data": {
      "text/html": [
       "<h4 style='text-align:center'> ~ <b>Memarzadeh, Farhad; Olmsted, Russell N.; Bartley, Judene M.</b></h4>"
      ],
      "text/plain": [
       "<IPython.core.display.HTML object>"
      ]
     },
     "metadata": {},
     "output_type": "display_data"
    },
    {
     "data": {
      "text/html": [
       "<blockquote> Air filtration aims to reduce airborne concentrations to well below infectious doses</blockquote>"
      ],
      "text/plain": [
       "<IPython.core.display.HTML object>"
      ]
     },
     "metadata": {},
     "output_type": "display_data"
    },
    {
     "data": {
      "text/html": [
       "<p style='text-align:center'> *** </p>"
      ],
      "text/plain": [
       "<IPython.core.display.HTML object>"
      ]
     },
     "metadata": {},
     "output_type": "display_data"
    },
    {
     "data": {
      "text/html": [
       "<h4 style='text-align:center'>28-02-2010</h4>"
      ],
      "text/plain": [
       "<IPython.core.display.HTML object>"
      ]
     },
     "metadata": {},
     "output_type": "display_data"
    },
    {
     "data": {
      "text/html": [
       "<h3 style='text-align:center'> <a href='https://doi.org/10.1016/j.ajic.2009.08.006'> EVALUATION OF THE SURVIVABILITY OF MS2 VIRAL AEROSOLS DEPOSITED ON FILTERING FACE PIECE RESPIRATOR SAMPLES INCORPORATING ANTIMICROBIAL TECHNOLOGIES</a></h2>"
      ],
      "text/plain": [
       "<IPython.core.display.HTML object>"
      ]
     },
     "metadata": {},
     "output_type": "display_data"
    },
    {
     "data": {
      "text/html": [
       "<h4 style='text-align:center'> ~ <b>Rengasamy, Samy; Fisher, Edward; Shaffer, Ronald E.</b></h4>"
      ],
      "text/plain": [
       "<IPython.core.display.HTML object>"
      ]
     },
     "metadata": {},
     "output_type": "display_data"
    },
    {
     "data": {
      "text/html": [
       "<blockquote>Other reactive oxygen molecules such as ozone are also excellent antimicrobial agents</blockquote>"
      ],
      "text/plain": [
       "<IPython.core.display.HTML object>"
      ]
     },
     "metadata": {},
     "output_type": "display_data"
    },
    {
     "data": {
      "text/html": [
       "<p style='text-align:center'> *** </p>"
      ],
      "text/plain": [
       "<IPython.core.display.HTML object>"
      ]
     },
     "metadata": {},
     "output_type": "display_data"
    },
    {
     "data": {
      "text/html": [
       "<h4 style='text-align:center'>31-03-2008</h4>"
      ],
      "text/plain": [
       "<IPython.core.display.HTML object>"
      ]
     },
     "metadata": {},
     "output_type": "display_data"
    },
    {
     "data": {
      "text/html": [
       "<h3 style='text-align:center'> <a href='https://doi.org/10.1016/j.ajic.2007.04.284'> EVALUATION OF THE RATIONALE FOR CONCURRENT USE OF N95 FILTERING FACEPIECE RESPIRATORS WITH LOOSE-FITTING POWERED AIR-PURIFYING RESPIRATORS DURING AEROSOL-GENERATING MEDICAL PROCEDURES</a></h2>"
      ],
      "text/plain": [
       "<IPython.core.display.HTML object>"
      ]
     },
     "metadata": {},
     "output_type": "display_data"
    },
    {
     "data": {
      "text/html": [
       "<h4 style='text-align:center'> ~ <b>Roberge, Raymond J.</b></h4>"
      ],
      "text/plain": [
       "<IPython.core.display.HTML object>"
      ]
     },
     "metadata": {},
     "output_type": "display_data"
    },
    {
     "data": {
      "text/html": [
       "<blockquote> Hospital engineering controls (eg, negative pressure rooms, room ventilation systems with high efficiency particulate filters, ultraviolet radiation, etc 8 ) and the use of medications to suppress coughing and salivation during airway procedures 4,10,35,38,39 further limit the airborne spread of respiratory pathogens and would additionally decrease the PAPR wearer's potential inhalational exposure</blockquote>"
      ],
      "text/plain": [
       "<IPython.core.display.HTML object>"
      ]
     },
     "metadata": {},
     "output_type": "display_data"
    },
    {
     "data": {
      "text/html": [
       "<p style='text-align:center'> *** </p>"
      ],
      "text/plain": [
       "<IPython.core.display.HTML object>"
      ]
     },
     "metadata": {},
     "output_type": "display_data"
    },
    {
     "data": {
      "text/html": [
       "<h2>15. Efforts to develop a core clinical outcome set to maximize usability of data across a range of trials </h2>"
      ],
      "text/plain": [
       "<IPython.core.display.HTML object>"
      ]
     },
     "metadata": {},
     "output_type": "display_data"
    }
   ],
   "source": [
    "tags = [\n",
    "\"Resources to support skilled nursing facilities and long term care facilities.\",\n",
    "\"Mobilization of surge medical staff to address shortages in overwhelmed communities\",\n",
    "\"Age-adjusted mortality data for Acute Respiratory Distress Syndrome (ARDS) with/without other organ - failure – particularly for viral etiologies\",\n",
    "\"Extracorporeal membrane oxygenation (ECMO) outcomes data of COVID-19 patients\",\n",
    "\"Outcomes data for COVID-19 after mechanical ventilation adjusted for age.\",\n",
    "\"Knowledge of the frequency, manifestations, and course of extrapulmonary manifestations of COVID-19, including, but not limited to, possible cardiomyopathy and cardiac arrest.\",\n",
    "\"Application of regulatory standards (e.g., EUA, CLIA) and ability to adapt care to crisis standards of care level.\",\n",
    "\"Approaches for encouraging and facilitating the production of elastomeric respirators, which can save thousands of N95 masks.\",\n",
    "\"Best telemedicine practices, barriers and faciitators, and specific actions to remove/expand them within and across state boundaries.\",\n",
    "\"Guidance on the simple things people can do at home to take care of sick people and manage disease.\",\n",
    "\"Oral medications that might potentially work.\",\n",
    "\"Use of AI in real-time health care delivery to evaluate interventions, risk factors, and outcomes in a way that could not be done manually.\",\n",
    "\"Best practices and critical challenges and innovative solutions and technologies in hospital flow and organization, workforce protection, workforce allocation, community-based support resources, payment, and supply chain management to enhance capacity, efficiency, and outcomes.\",\n",
    "\"Efforts to define the natural history of disease to inform clinical care, public health interventions, infection prevention control, transmission, and clinical trials\",\n",
    "\"Efforts to develop a core clinical outcome set to maximize usability of data across a range of trials\",\n",
    "\"Efforts to determine adjunctive and supportive interventions that can improve the clinical outcomes of infected patients (e.g. steroids, high flow oxygen)\"\n",
    "]\n",
    "\n",
    "try:\n",
    "    read_data(tags, 5)\n",
    "except: pass"
   ]
  },
  {
   "cell_type": "code",
   "execution_count": 70,
   "metadata": {},
   "outputs": [
    {
     "data": {
      "text/html": [
       "<h1 style='font-size:30px'>What do we know about the effectiveness of non-pharmaceutical interventions?</h1> </br>"
      ],
      "text/plain": [
       "<IPython.core.display.HTML object>"
      ]
     },
     "metadata": {},
     "output_type": "display_data"
    },
    {
     "data": {
      "text/html": [
       "<h2>1. Guidance on ways to scale up NPIs in a more coordinated way (e.g., establish funding, infrastructure and authorities to support real time, authoritative (qualified participants) collaboration with all states to gain consensus on consistent guidance and to mobilize resources to geographic areas where critical shortfalls are identified) to give us time to enhance our health care delivery system capacity to respond to an increase in cases. </h2>"
      ],
      "text/plain": [
       "<IPython.core.display.HTML object>"
      ]
     },
     "metadata": {},
     "output_type": "display_data"
    },
    {
     "data": {
      "text/html": [
       "<h4 style='text-align:center'>15-09-2017</h4>"
      ],
      "text/plain": [
       "<IPython.core.display.HTML object>"
      ]
     },
     "metadata": {},
     "output_type": "display_data"
    },
    {
     "data": {
      "text/html": [
       "<h3 style='text-align:center'> <a href='https://www.ncbi.nlm.nih.gov/pmc/articles/PMC5615601/'> PUBLIC HEALTH NETWORK STRUCTURE AND COLLABORATION EFFECTIVENESS DURING THE 2015 MERS OUTBREAK IN SOUTH KOREA: AN INSTITUTIONAL COLLECTIVE ACTION FRAMEWORK</a></h2>"
      ],
      "text/plain": [
       "<IPython.core.display.HTML object>"
      ]
     },
     "metadata": {},
     "output_type": "display_data"
    },
    {
     "data": {
      "text/html": [
       "<h4 style='text-align:center'> ~ <b>Kim, KyungWoo; Andrew, Simon A.; Jung, Kyujin</b></h4>"
      ],
      "text/plain": [
       "<IPython.core.display.HTML object>"
      ]
     },
     "metadata": {},
     "output_type": "display_data"
    },
    {
     "data": {
      "text/html": [
       "<blockquote> This research argues that governmental agencies take strategic communication actions to gain through interactions with other agencies to improve public health service provision\n",
       " The research question guiding this study is what communication strategies governmental agencies take to enhance the effectiveness of intergovernmental collaboration during public health emergency response\n",
       ", public health agencies with populous local jurisdictions tend to have high levels of interagency collaboration effectiveness\n",
       "The effectiveness of collaboration reflects a successful implementation of planned actions and procedures to coordinate join activities among seemingly independent set of private and public agencies</blockquote>"
      ],
      "text/plain": [
       "<IPython.core.display.HTML object>"
      ]
     },
     "metadata": {},
     "output_type": "display_data"
    },
    {
     "data": {
      "text/html": [
       "<p style='text-align:center'> *** </p>"
      ],
      "text/plain": [
       "<IPython.core.display.HTML object>"
      ]
     },
     "metadata": {},
     "output_type": "display_data"
    },
    {
     "data": {
      "text/html": [
       "<h4 style='text-align:center'>16-12-2016</h4>"
      ],
      "text/plain": [
       "<IPython.core.display.HTML object>"
      ]
     },
     "metadata": {},
     "output_type": "display_data"
    },
    {
     "data": {
      "text/html": [
       "<h3 style='text-align:center'> <a href='http://europepmc.org/articles/pmc5486404?pdf=render'> CONSIDERATIONS FOR USE OF INVESTIGATIONAL DRUGS IN PUBLIC HEALTH EMERGENCIES</a></h2>"
      ],
      "text/plain": [
       "<IPython.core.display.HTML object>"
      ]
     },
     "metadata": {},
     "output_type": "display_data"
    },
    {
     "data": {
      "text/html": [
       "<h4 style='text-align:center'> ~ <b>Kirchoff, Matthew Carl; Pierson, Jerome F.</b></h4>"
      ],
      "text/plain": [
       "<IPython.core.display.HTML object>"
      ]
     },
     "metadata": {},
     "output_type": "display_data"
    },
    {
     "data": {
      "text/html": [
       "<blockquote> Kirchoff Ethical conduct to avoid exploitation-including respect for volunteers, local community engagement, and carefully informed consent Partnership with affected country investigators and officials-including identification of interested local investigators, bolstering of trial infrastructure as needed, and shared best practices regarding regulatory oversight Scientific validity-including plausibility of benefit from candidate countermeasures and sound trial design Independent review and scientific oversight-careful oversight by an independent and skilled Data and Safety Monitoring BoardTransparency-prompt sharing of data with practitioners and affected communities a Adapted in part from Emanuel et al</blockquote>"
      ],
      "text/plain": [
       "<IPython.core.display.HTML object>"
      ]
     },
     "metadata": {},
     "output_type": "display_data"
    },
    {
     "data": {
      "text/html": [
       "<p style='text-align:center'> *** </p>"
      ],
      "text/plain": [
       "<IPython.core.display.HTML object>"
      ]
     },
     "metadata": {},
     "output_type": "display_data"
    },
    {
     "data": {
      "text/html": [
       "<h4 style='text-align:center'>30-04-2007</h4>"
      ],
      "text/plain": [
       "<IPython.core.display.HTML object>"
      ]
     },
     "metadata": {},
     "output_type": "display_data"
    },
    {
     "data": {
      "text/html": [
       "<h3 style='text-align:center'> <a href='https://doi.org/10.1016/j.respol.2006.12.006'> ORPHAN DRUGS: UNMET SOCIETAL NEED FOR NON-PROFITABLE PRIVATELY SUPPLIED NEW PRODUCTS</a></h2>"
      ],
      "text/plain": [
       "<IPython.core.display.HTML object>"
      ]
     },
     "metadata": {},
     "output_type": "display_data"
    },
    {
     "data": {
      "text/html": [
       "<h4 style='text-align:center'> ~ <b>Moors, Ellen H.M.; Faber, Jan</b></h4>"
      ],
      "text/plain": [
       "<IPython.core.display.HTML object>"
      ]
     },
     "metadata": {},
     "output_type": "display_data"
    },
    {
     "data": {
      "text/html": [
       "<blockquote> This should be achieved by governmental agencies in cooperation with patient organizations</blockquote>"
      ],
      "text/plain": [
       "<IPython.core.display.HTML object>"
      ]
     },
     "metadata": {},
     "output_type": "display_data"
    },
    {
     "data": {
      "text/html": [
       "<p style='text-align:center'> *** </p>"
      ],
      "text/plain": [
       "<IPython.core.display.HTML object>"
      ]
     },
     "metadata": {},
     "output_type": "display_data"
    },
    {
     "data": {
      "text/html": [
       "<h2>2. Rapid assessment of the likely efficacy of school closures, travel bans, bans on mass gatherings of various sizes, and other social distancing approaches. </h2>"
      ],
      "text/plain": [
       "<IPython.core.display.HTML object>"
      ]
     },
     "metadata": {},
     "output_type": "display_data"
    },
    {
     "data": {
      "text/html": [
       "<h4 style='text-align:center'>06-03-2020</h4>"
      ],
      "text/plain": [
       "<IPython.core.display.HTML object>"
      ]
     },
     "metadata": {},
     "output_type": "display_data"
    },
    {
     "data": {
      "text/html": [
       "<h3 style='text-align:center'> <a href='https://doi.org/10.1101/2020.03.03.20029843'> EFFECT OF NON-PHARMACEUTICAL INTERVENTIONS FOR CONTAINING THE COVID-19 OUTBREAK IN CHINA</a></h2>"
      ],
      "text/plain": [
       "<IPython.core.display.HTML object>"
      ]
     },
     "metadata": {},
     "output_type": "display_data"
    },
    {
     "data": {
      "text/html": [
       "<h4 style='text-align:center'> ~ <b>Shengjie Lai; Nick W Ruktanonchai; Liangcai Zhou; Olivia Prosper; Wei Luo; Jessica R Floyd; Amy Wesolowski; Mauricio Santillana; Chi Zhang; Xiangjun Du; Hongjie Yu; Andrew J Tatem</b></h4>"
      ],
      "text/plain": [
       "<IPython.core.display.HTML object>"
      ]
     },
     "metadata": {},
     "output_type": "display_data"
    },
    {
     "data": {
      "text/html": [
       "<blockquote> 11 As part of these social distancing policies, Chinese government encouraged people to stay at home as much as possible, cancelled or postponed large public events and mass gatherings, and closed libraries, museums, and workplaces</blockquote>"
      ],
      "text/plain": [
       "<IPython.core.display.HTML object>"
      ]
     },
     "metadata": {},
     "output_type": "display_data"
    },
    {
     "data": {
      "text/html": [
       "<p style='text-align:center'> *** </p>"
      ],
      "text/plain": [
       "<IPython.core.display.HTML object>"
      ]
     },
     "metadata": {},
     "output_type": "display_data"
    },
    {
     "data": {
      "text/html": [
       "<h4 style='text-align:center'>24-05-2019</h4>"
      ],
      "text/plain": [
       "<IPython.core.display.HTML object>"
      ]
     },
     "metadata": {},
     "output_type": "display_data"
    },
    {
     "data": {
      "text/html": [
       "<h3 style='text-align:center'> <a href='https://doi.org/10.1016/s0140-6736(19)30501-x'> MASS GATHERINGS MEDICINE: PUBLIC HEALTH ISSUES ARISING FROM MASS GATHERING RELIGIOUS AND SPORTING EVENTS</a></h2>"
      ],
      "text/plain": [
       "<IPython.core.display.HTML object>"
      ]
     },
     "metadata": {},
     "output_type": "display_data"
    },
    {
     "data": {
      "text/html": [
       "<h4 style='text-align:center'> ~ <b>Memish, Ziad A; Steffen, Robert; White, Paul; Dar, Osman; Azhar, Esam I; Sharma, Avinash; Zumla, Alimuddin</b></h4>"
      ],
      "text/plain": [
       "<IPython.core.display.HTML object>"
      ]
     },
     "metadata": {},
     "output_type": "display_data"
    },
    {
     "data": {
      "text/html": [
       "<blockquote> 112More countryspecific religious mass gathering events exist that attract smaller numbers of pilgrims from neighbouring countries or overseas\n",
       " Three enhanced surveillance activities for mass gathering events in PICTs occurred during national or regional disease outbreaks that had the potential to severely affect the mass gatherings, place greater strain on health services, and cause substantial tourismrelated economic and reputation loss\n",
       " These advances in realtime surveillance have improved public health security for the mass gatherings at the Hajj</blockquote>"
      ],
      "text/plain": [
       "<IPython.core.display.HTML object>"
      ]
     },
     "metadata": {},
     "output_type": "display_data"
    },
    {
     "data": {
      "text/html": [
       "<p style='text-align:center'> *** </p>"
      ],
      "text/plain": [
       "<IPython.core.display.HTML object>"
      ]
     },
     "metadata": {},
     "output_type": "display_data"
    },
    {
     "data": {
      "text/html": [
       "<h4 style='text-align:center'>30-04-2017</h4>"
      ],
      "text/plain": [
       "<IPython.core.display.HTML object>"
      ]
     },
     "metadata": {},
     "output_type": "display_data"
    },
    {
     "data": {
      "text/html": [
       "<h3 style='text-align:center'> <a href='https://doi.org/10.1016/j.aogh.2016.12.001'> MASS GATHERINGS AND PUBLIC HEALTH: CASE STUDIES FROM THE HAJJ TO MECCA</a></h2>"
      ],
      "text/plain": [
       "<IPython.core.display.HTML object>"
      ]
     },
     "metadata": {},
     "output_type": "display_data"
    },
    {
     "data": {
      "text/html": [
       "<h4 style='text-align:center'> ~ <b>Rahman, Juma; Thu, Min; Arshad, Neelam; Van der Putten, Marc</b></h4>"
      ],
      "text/plain": [
       "<IPython.core.display.HTML object>"
      ]
     },
     "metadata": {},
     "output_type": "display_data"
    },
    {
     "data": {
      "text/html": [
       "<blockquote> New and challenging risks can be introduced during mass gatherings</blockquote>"
      ],
      "text/plain": [
       "<IPython.core.display.HTML object>"
      ]
     },
     "metadata": {},
     "output_type": "display_data"
    },
    {
     "data": {
      "text/html": [
       "<p style='text-align:center'> *** </p>"
      ],
      "text/plain": [
       "<IPython.core.display.HTML object>"
      ]
     },
     "metadata": {},
     "output_type": "display_data"
    },
    {
     "data": {
      "text/html": [
       "<h4 style='text-align:center'>31-12-2011</h4>"
      ],
      "text/plain": [
       "<IPython.core.display.HTML object>"
      ]
     },
     "metadata": {},
     "output_type": "display_data"
    },
    {
     "data": {
      "text/html": [
       "<h3 style='text-align:center'> <a href='https://doi.org/10.1016/j.jegh.2011.06.004'> COULD INFLUENZA TRANSMISSION BE REDUCED BY RESTRICTING MASS GATHERINGS? TOWARDS AN EVIDENCE-BASED POLICY FRAMEWORK</a></h2>"
      ],
      "text/plain": [
       "<IPython.core.display.HTML object>"
      ]
     },
     "metadata": {},
     "output_type": "display_data"
    },
    {
     "data": {
      "text/html": [
       "<h4 style='text-align:center'> ~ <b>Ishola, David A.; Phin, Nick</b></h4>"
      ],
      "text/plain": [
       "<IPython.core.display.HTML object>"
      ]
     },
     "metadata": {},
     "output_type": "display_data"
    },
    {
     "data": {
      "text/html": [
       "<blockquote> combining quarantine and isolation policies with banning mass gatherings\n",
       " Some evidence suggests that restricting mass gatherings together with other social distancing measures may help to reduce transmission\n",
       " This is particularly important given the need to weigh any potential benefits against the economic and social disruption that banning or restricting mass gatherings could have on society</blockquote>"
      ],
      "text/plain": [
       "<IPython.core.display.HTML object>"
      ]
     },
     "metadata": {},
     "output_type": "display_data"
    },
    {
     "data": {
      "text/html": [
       "<p style='text-align:center'> *** </p>"
      ],
      "text/plain": [
       "<IPython.core.display.HTML object>"
      ]
     },
     "metadata": {},
     "output_type": "display_data"
    },
    {
     "data": {
      "text/html": [
       "<h2>3. Models of potential interventions to predict costs and benefits that take account of such factors as race, income, disability, age, geographic location, immigration status, housing status, employment status, and health insurance status. </h2>"
      ],
      "text/plain": [
       "<IPython.core.display.HTML object>"
      ]
     },
     "metadata": {},
     "output_type": "display_data"
    },
    {
     "data": {
      "text/html": [
       "<h4 style='text-align:center'>31-10-2013</h4>"
      ],
      "text/plain": [
       "<IPython.core.display.HTML object>"
      ]
     },
     "metadata": {},
     "output_type": "display_data"
    },
    {
     "data": {
      "text/html": [
       "<h3 style='text-align:center'> <a href='https://doi.org/10.1016/j.annals.2013.07.007'> ECONOMIC IMPACTS OF VISA RESTRICTIONS ON TOURISM: A CASE OF TWO EVENTS IN CHINA</a></h2>"
      ],
      "text/plain": [
       "<IPython.core.display.HTML object>"
      ]
     },
     "metadata": {},
     "output_type": "display_data"
    },
    {
     "data": {
      "text/html": [
       "<h4 style='text-align:center'> ~ <b>Li, ShiNa; Song, Haiyan</b></h4>"
      ],
      "text/plain": [
       "<IPython.core.display.HTML object>"
      ]
     },
     "metadata": {},
     "output_type": "display_data"
    },
    {
     "data": {
      "text/html": [
       "<blockquote> GDP includes increased income earned by non-resident owners of capital, non-resident labour and the government through taxes while welfare can measure the wellbeing of local residents (Abelson, 2011) </blockquote>"
      ],
      "text/plain": [
       "<IPython.core.display.HTML object>"
      ]
     },
     "metadata": {},
     "output_type": "display_data"
    },
    {
     "data": {
      "text/html": [
       "<p style='text-align:center'> *** </p>"
      ],
      "text/plain": [
       "<IPython.core.display.HTML object>"
      ]
     },
     "metadata": {},
     "output_type": "display_data"
    },
    {
     "data": {
      "text/html": [
       "<h4 style='text-align:center'>30-04-2007</h4>"
      ],
      "text/plain": [
       "<IPython.core.display.HTML object>"
      ]
     },
     "metadata": {},
     "output_type": "display_data"
    },
    {
     "data": {
      "text/html": [
       "<h3 style='text-align:center'> <a href='https://doi.org/10.1016/j.respol.2006.12.006'> ORPHAN DRUGS: UNMET SOCIETAL NEED FOR NON-PROFITABLE PRIVATELY SUPPLIED NEW PRODUCTS</a></h2>"
      ],
      "text/plain": [
       "<IPython.core.display.HTML object>"
      ]
     },
     "metadata": {},
     "output_type": "display_data"
    },
    {
     "data": {
      "text/html": [
       "<h4 style='text-align:center'> ~ <b>Moors, Ellen H.M.; Faber, Jan</b></h4>"
      ],
      "text/plain": [
       "<IPython.core.display.HTML object>"
      ]
     },
     "metadata": {},
     "output_type": "display_data"
    },
    {
     "data": {
      "text/html": [
       "<blockquote> In the Netherlands, the Minister of Health, Welfare and Sports, advised by the Health Care Insurance Board (CVZ), decides whether a new product will be included in the National Health Insurance System</blockquote>"
      ],
      "text/plain": [
       "<IPython.core.display.HTML object>"
      ]
     },
     "metadata": {},
     "output_type": "display_data"
    },
    {
     "data": {
      "text/html": [
       "<p style='text-align:center'> *** </p>"
      ],
      "text/plain": [
       "<IPython.core.display.HTML object>"
      ]
     },
     "metadata": {},
     "output_type": "display_data"
    },
    {
     "data": {
      "text/html": [
       "<h4 style='text-align:center'>31-01-2006</h4>"
      ],
      "text/plain": [
       "<IPython.core.display.HTML object>"
      ]
     },
     "metadata": {},
     "output_type": "display_data"
    },
    {
     "data": {
      "text/html": [
       "<h3 style='text-align:center'> <a href='https://doi.org/10.1016/j.tmaid.2004.10.002'> A LOOPHOLE IN INTERNATIONAL QUARANTINE PROCEDURES DISCLOSED DURING THE SARS CRISIS</a></h2>"
      ],
      "text/plain": [
       "<IPython.core.display.HTML object>"
      ]
     },
     "metadata": {},
     "output_type": "display_data"
    },
    {
     "data": {
      "text/html": [
       "<h4 style='text-align:center'> ~ <b>Lee, Chi-Wei; Tsai, Yen-Shuo; Wong, Tai-Wai; Lau, Chor-Chiu</b></h4>"
      ],
      "text/plain": [
       "<IPython.core.display.HTML object>"
      ]
     },
     "metadata": {},
     "output_type": "display_data"
    },
    {
     "data": {
      "text/html": [
       "<blockquote> In comparison, all Taiwan nationals and residents are covered under the policy of the national health care insurance plan, and thus pay less than V11\n",
       " Since Taiwanese residents benefit from very low medical fees in their health care system, in contrast to Hong Kong's high hospital fees for non-residents</blockquote>"
      ],
      "text/plain": [
       "<IPython.core.display.HTML object>"
      ]
     },
     "metadata": {},
     "output_type": "display_data"
    },
    {
     "data": {
      "text/html": [
       "<p style='text-align:center'> *** </p>"
      ],
      "text/plain": [
       "<IPython.core.display.HTML object>"
      ]
     },
     "metadata": {},
     "output_type": "display_data"
    },
    {
     "data": {
      "text/html": [
       "<h2>4. Policy changes necessary to enable the compliance of individuals with limited resources and the underserved with NPIs. </h2>"
      ],
      "text/plain": [
       "<IPython.core.display.HTML object>"
      ]
     },
     "metadata": {},
     "output_type": "display_data"
    },
    {
     "data": {
      "text/html": [
       "<h4 style='text-align:center'>30-04-2017</h4>"
      ],
      "text/plain": [
       "<IPython.core.display.HTML object>"
      ]
     },
     "metadata": {},
     "output_type": "display_data"
    },
    {
     "data": {
      "text/html": [
       "<h3 style='text-align:center'> <a href='https://doi.org/10.1016/j.aogh.2016.12.001'> MASS GATHERINGS AND PUBLIC HEALTH: CASE STUDIES FROM THE HAJJ TO MECCA</a></h2>"
      ],
      "text/plain": [
       "<IPython.core.display.HTML object>"
      ]
     },
     "metadata": {},
     "output_type": "display_data"
    },
    {
     "data": {
      "text/html": [
       "<h4 style='text-align:center'> ~ <b>Rahman, Juma; Thu, Min; Arshad, Neelam; Van der Putten, Marc</b></h4>"
      ],
      "text/plain": [
       "<IPython.core.display.HTML object>"
      ]
     },
     "metadata": {},
     "output_type": "display_data"
    },
    {
     "data": {
      "text/html": [
       "<blockquote> addition to strict enforcement of vaccination policy</blockquote>"
      ],
      "text/plain": [
       "<IPython.core.display.HTML object>"
      ]
     },
     "metadata": {},
     "output_type": "display_data"
    },
    {
     "data": {
      "text/html": [
       "<p style='text-align:center'> *** </p>"
      ],
      "text/plain": [
       "<IPython.core.display.HTML object>"
      ]
     },
     "metadata": {},
     "output_type": "display_data"
    },
    {
     "data": {
      "text/html": [
       "<h4 style='text-align:center'>03-09-2010</h4>"
      ],
      "text/plain": [
       "<IPython.core.display.HTML object>"
      ]
     },
     "metadata": {},
     "output_type": "display_data"
    },
    {
     "data": {
      "text/html": [
       "<h3 style='text-align:center'> <a href='https://www.ncbi.nlm.nih.gov/pmc/articles/PMC2945945/'> PANDEMIC INFLUENZA CONTROL IN EUROPE AND THE CONSTRAINTS RESULTING FROM INCOHERENT PUBLIC HEALTH LAWS</a></h2>"
      ],
      "text/plain": [
       "<IPython.core.display.HTML object>"
      ]
     },
     "metadata": {},
     "output_type": "display_data"
    },
    {
     "data": {
      "text/html": [
       "<h4 style='text-align:center'> ~ <b>Martin, Robyn; Conseil, Alexandra; Longstaff, Abie; Kodo, Jimmy; Siegert, Joachim; Duguet, Anne-Marie; Lobato de Faria, Paula; Haringhuizen, George; Espin, Jaime; Coker, Richard</b></h4>"
      ],
      "text/plain": [
       "<IPython.core.display.HTML object>"
      ]
     },
     "metadata": {},
     "output_type": "display_data"
    },
    {
     "data": {
      "text/html": [
       "<blockquote> While public health policy and pandemic planning might propose measures beneficial to the public health, those measures cannot be applied without legal underpinning</blockquote>"
      ],
      "text/plain": [
       "<IPython.core.display.HTML object>"
      ]
     },
     "metadata": {},
     "output_type": "display_data"
    },
    {
     "data": {
      "text/html": [
       "<p style='text-align:center'> *** </p>"
      ],
      "text/plain": [
       "<IPython.core.display.HTML object>"
      ]
     },
     "metadata": {},
     "output_type": "display_data"
    },
    {
     "data": {
      "text/html": [
       "<h4 style='text-align:center'>30-04-2007</h4>"
      ],
      "text/plain": [
       "<IPython.core.display.HTML object>"
      ]
     },
     "metadata": {},
     "output_type": "display_data"
    },
    {
     "data": {
      "text/html": [
       "<h3 style='text-align:center'> <a href='https://doi.org/10.1016/j.respol.2006.12.006'> ORPHAN DRUGS: UNMET SOCIETAL NEED FOR NON-PROFITABLE PRIVATELY SUPPLIED NEW PRODUCTS</a></h2>"
      ],
      "text/plain": [
       "<IPython.core.display.HTML object>"
      ]
     },
     "metadata": {},
     "output_type": "display_data"
    },
    {
     "data": {
      "text/html": [
       "<h4 style='text-align:center'> ~ <b>Moors, Ellen H.M.; Faber, Jan</b></h4>"
      ],
      "text/plain": [
       "<IPython.core.display.HTML object>"
      ]
     },
     "metadata": {},
     "output_type": "display_data"
    },
    {
     "data": {
      "text/html": [
       "<blockquote>Willingness to develop orphan drugs is indicated by the various stages in the orphan drug development policy process, namely nothing done, policy goals defined, policy measures planned, policy instruments developed, and policy instruments implemented</blockquote>"
      ],
      "text/plain": [
       "<IPython.core.display.HTML object>"
      ]
     },
     "metadata": {},
     "output_type": "display_data"
    },
    {
     "data": {
      "text/html": [
       "<p style='text-align:center'> *** </p>"
      ],
      "text/plain": [
       "<IPython.core.display.HTML object>"
      ]
     },
     "metadata": {},
     "output_type": "display_data"
    },
    {
     "data": {
      "text/html": [
       "<h2>5. Research on why people fail to comply with public health advice, even if they want to do so (e.g., social or financial costs may be too high). </h2>"
      ],
      "text/plain": [
       "<IPython.core.display.HTML object>"
      ]
     },
     "metadata": {},
     "output_type": "display_data"
    },
    {
     "data": {
      "text/html": [
       "<h4 style='text-align:center'>15-09-2017</h4>"
      ],
      "text/plain": [
       "<IPython.core.display.HTML object>"
      ]
     },
     "metadata": {},
     "output_type": "display_data"
    },
    {
     "data": {
      "text/html": [
       "<h3 style='text-align:center'> <a href='https://www.ncbi.nlm.nih.gov/pmc/articles/PMC5615601/'> PUBLIC HEALTH NETWORK STRUCTURE AND COLLABORATION EFFECTIVENESS DURING THE 2015 MERS OUTBREAK IN SOUTH KOREA: AN INSTITUTIONAL COLLECTIVE ACTION FRAMEWORK</a></h2>"
      ],
      "text/plain": [
       "<IPython.core.display.HTML object>"
      ]
     },
     "metadata": {},
     "output_type": "display_data"
    },
    {
     "data": {
      "text/html": [
       "<h4 style='text-align:center'> ~ <b>Kim, KyungWoo; Andrew, Simon A.; Jung, Kyujin</b></h4>"
      ],
      "text/plain": [
       "<IPython.core.display.HTML object>"
      ]
     },
     "metadata": {},
     "output_type": "display_data"
    },
    {
     "data": {
      "text/html": [
       "<blockquote> This research argues that governmental agencies take strategic communication actions to gain through interactions with other agencies to improve public health service provision\n",
       " Social media also enables members of the public to communicate their situations easily with government agencies and improve situational awareness of public health emergency response organizations [45] </blockquote>"
      ],
      "text/plain": [
       "<IPython.core.display.HTML object>"
      ]
     },
     "metadata": {},
     "output_type": "display_data"
    },
    {
     "data": {
      "text/html": [
       "<p style='text-align:center'> *** </p>"
      ],
      "text/plain": [
       "<IPython.core.display.HTML object>"
      ]
     },
     "metadata": {},
     "output_type": "display_data"
    },
    {
     "data": {
      "text/html": [
       "<h4 style='text-align:center'>16-12-2016</h4>"
      ],
      "text/plain": [
       "<IPython.core.display.HTML object>"
      ]
     },
     "metadata": {},
     "output_type": "display_data"
    },
    {
     "data": {
      "text/html": [
       "<h3 style='text-align:center'> <a href='http://europepmc.org/articles/pmc5486404?pdf=render'> CONSIDERATIONS FOR USE OF INVESTIGATIONAL DRUGS IN PUBLIC HEALTH EMERGENCIES</a></h2>"
      ],
      "text/plain": [
       "<IPython.core.display.HTML object>"
      ]
     },
     "metadata": {},
     "output_type": "display_data"
    },
    {
     "data": {
      "text/html": [
       "<h4 style='text-align:center'> ~ <b>Kirchoff, Matthew Carl; Pierson, Jerome F.</b></h4>"
      ],
      "text/plain": [
       "<IPython.core.display.HTML object>"
      ]
     },
     "metadata": {},
     "output_type": "display_data"
    },
    {
     "data": {
      "text/html": [
       "<blockquote> Establishing realistic and reasonable pathways to licensure will benefit all concerned-the countries impacted, the global population at risk as these diseases spread, government and private research institutions and industry partners as well as donor organizations that frequently help respond to public health crises</blockquote>"
      ],
      "text/plain": [
       "<IPython.core.display.HTML object>"
      ]
     },
     "metadata": {},
     "output_type": "display_data"
    },
    {
     "data": {
      "text/html": [
       "<p style='text-align:center'> *** </p>"
      ],
      "text/plain": [
       "<IPython.core.display.HTML object>"
      ]
     },
     "metadata": {},
     "output_type": "display_data"
    },
    {
     "data": {
      "text/html": [
       "<h4 style='text-align:center'>27-06-2013</h4>"
      ],
      "text/plain": [
       "<IPython.core.display.HTML object>"
      ]
     },
     "metadata": {},
     "output_type": "display_data"
    },
    {
     "data": {
      "text/html": [
       "<h3 style='text-align:center'> <a href='https://www.ncbi.nlm.nih.gov/pmc/articles/PMC3826830/'> THE NEED TO INCLUDE ANIMAL PROTECTION IN PUBLIC HEALTH POLICIES</a></h2>"
      ],
      "text/plain": [
       "<IPython.core.display.HTML object>"
      ]
     },
     "metadata": {},
     "output_type": "display_data"
    },
    {
     "data": {
      "text/html": [
       "<h4 style='text-align:center'> ~ <b>Akhtar, Aysha</b></h4>"
      ],
      "text/plain": [
       "<IPython.core.display.HTML object>"
      ]
     },
     "metadata": {},
     "output_type": "display_data"
    },
    {
     "data": {
      "text/html": [
       "<blockquote> 56 Unfortunately, health agencies do not give the human-animal violence link sufficient weight in public health policy</blockquote>"
      ],
      "text/plain": [
       "<IPython.core.display.HTML object>"
      ]
     },
     "metadata": {},
     "output_type": "display_data"
    },
    {
     "data": {
      "text/html": [
       "<p style='text-align:center'> *** </p>"
      ],
      "text/plain": [
       "<IPython.core.display.HTML object>"
      ]
     },
     "metadata": {},
     "output_type": "display_data"
    },
    {
     "data": {
      "text/html": [
       "<h4 style='text-align:center'>03-09-2010</h4>"
      ],
      "text/plain": [
       "<IPython.core.display.HTML object>"
      ]
     },
     "metadata": {},
     "output_type": "display_data"
    },
    {
     "data": {
      "text/html": [
       "<h3 style='text-align:center'> <a href='https://www.ncbi.nlm.nih.gov/pmc/articles/PMC2945945/'> PANDEMIC INFLUENZA CONTROL IN EUROPE AND THE CONSTRAINTS RESULTING FROM INCOHERENT PUBLIC HEALTH LAWS</a></h2>"
      ],
      "text/plain": [
       "<IPython.core.display.HTML object>"
      ]
     },
     "metadata": {},
     "output_type": "display_data"
    },
    {
     "data": {
      "text/html": [
       "<h4 style='text-align:center'> ~ <b>Martin, Robyn; Conseil, Alexandra; Longstaff, Abie; Kodo, Jimmy; Siegert, Joachim; Duguet, Anne-Marie; Lobato de Faria, Paula; Haringhuizen, George; Espin, Jaime; Coker, Richard</b></h4>"
      ],
      "text/plain": [
       "<IPython.core.display.HTML object>"
      ]
     },
     "metadata": {},
     "output_type": "display_data"
    },
    {
     "data": {
      "text/html": [
       "<blockquote> While public health policy and pandemic planning might propose measures beneficial to the public health, those measures cannot be applied without legal underpinning</blockquote>"
      ],
      "text/plain": [
       "<IPython.core.display.HTML object>"
      ]
     },
     "metadata": {},
     "output_type": "display_data"
    },
    {
     "data": {
      "text/html": [
       "<p style='text-align:center'> *** </p>"
      ],
      "text/plain": [
       "<IPython.core.display.HTML object>"
      ]
     },
     "metadata": {},
     "output_type": "display_data"
    },
    {
     "data": {
      "text/html": [
       "<h2>6. Research on the economic impact of this or any pandemic. This would include identifying policy and programmatic alternatives that lessen/mitigate risks to critical government services,food distribution and supplies, access to critical household supplies, and access to health diagnoses, treatment, and needed care, regardless of ability to pay. </h2>"
      ],
      "text/plain": [
       "<IPython.core.display.HTML object>"
      ]
     },
     "metadata": {},
     "output_type": "display_data"
    },
    {
     "data": {
      "text/html": [
       "<h4 style='text-align:center'>15-09-2017</h4>"
      ],
      "text/plain": [
       "<IPython.core.display.HTML object>"
      ]
     },
     "metadata": {},
     "output_type": "display_data"
    },
    {
     "data": {
      "text/html": [
       "<h3 style='text-align:center'> <a href='https://www.ncbi.nlm.nih.gov/pmc/articles/PMC5615601/'> PUBLIC HEALTH NETWORK STRUCTURE AND COLLABORATION EFFECTIVENESS DURING THE 2015 MERS OUTBREAK IN SOUTH KOREA: AN INSTITUTIONAL COLLECTIVE ACTION FRAMEWORK</a></h2>"
      ],
      "text/plain": [
       "<IPython.core.display.HTML object>"
      ]
     },
     "metadata": {},
     "output_type": "display_data"
    },
    {
     "data": {
      "text/html": [
       "<h4 style='text-align:center'> ~ <b>Kim, KyungWoo; Andrew, Simon A.; Jung, Kyujin</b></h4>"
      ],
      "text/plain": [
       "<IPython.core.display.HTML object>"
      ]
     },
     "metadata": {},
     "output_type": "display_data"
    },
    {
     "data": {
      "text/html": [
       "<blockquote> Efficiency-based risk communication helps local public health agencies to obtain critical risk information and save time and resource for productive activities to prevent the further transmission of an infectious disease</blockquote>"
      ],
      "text/plain": [
       "<IPython.core.display.HTML object>"
      ]
     },
     "metadata": {},
     "output_type": "display_data"
    },
    {
     "data": {
      "text/html": [
       "<p style='text-align:center'> *** </p>"
      ],
      "text/plain": [
       "<IPython.core.display.HTML object>"
      ]
     },
     "metadata": {},
     "output_type": "display_data"
    },
    {
     "data": {
      "text/html": [
       "<h4 style='text-align:center'>01-09-2007</h4>"
      ],
      "text/plain": [
       "<IPython.core.display.HTML object>"
      ]
     },
     "metadata": {},
     "output_type": "display_data"
    },
    {
     "data": {
      "text/html": [
       "<h3 style='text-align:center'> <a href='https://www.ncbi.nlm.nih.gov/pmc/articles/PMC6975624/'> ARE WE READY? EVIDENCE OF SUPPORT MECHANISMS FOR CANADIAN HEALTH CARE WORKERS IN MULTI-JURISDICTIONAL EMERGENCY PLANNING</a></h2>"
      ],
      "text/plain": [
       "<IPython.core.display.HTML object>"
      ]
     },
     "metadata": {},
     "output_type": "display_data"
    },
    {
     "data": {
      "text/html": [
       "<h4 style='text-align:center'> ~ <b>O’sullivan, Tracey L.; Amaratunga, Carol A.; Hardt, Jill; Dow, Darcie; Phillips, Karen P.; Corneil, Wayne</b></h4>"
      ],
      "text/plain": [
       "<IPython.core.display.HTML object>"
      ]
     },
     "metadata": {},
     "output_type": "display_data"
    },
    {
     "data": {
      "text/html": [
       "<blockquote> 45)A pandemic will likely result in shortages of medications, medical supplies and potentially operational supplies</blockquote>"
      ],
      "text/plain": [
       "<IPython.core.display.HTML object>"
      ]
     },
     "metadata": {},
     "output_type": "display_data"
    },
    {
     "data": {
      "text/html": [
       "<p style='text-align:center'> *** </p>"
      ],
      "text/plain": [
       "<IPython.core.display.HTML object>"
      ]
     },
     "metadata": {},
     "output_type": "display_data"
    },
    {
     "data": {
      "text/html": [
       "<h4 style='text-align:center'>30-04-2007</h4>"
      ],
      "text/plain": [
       "<IPython.core.display.HTML object>"
      ]
     },
     "metadata": {},
     "output_type": "display_data"
    },
    {
     "data": {
      "text/html": [
       "<h3 style='text-align:center'> <a href='https://doi.org/10.1016/j.respol.2006.12.006'> ORPHAN DRUGS: UNMET SOCIETAL NEED FOR NON-PROFITABLE PRIVATELY SUPPLIED NEW PRODUCTS</a></h2>"
      ],
      "text/plain": [
       "<IPython.core.display.HTML object>"
      ]
     },
     "metadata": {},
     "output_type": "display_data"
    },
    {
     "data": {
      "text/html": [
       "<h4 style='text-align:center'> ~ <b>Moors, Ellen H.M.; Faber, Jan</b></h4>"
      ],
      "text/plain": [
       "<IPython.core.display.HTML object>"
      ]
     },
     "metadata": {},
     "output_type": "display_data"
    },
    {
     "data": {
      "text/html": [
       "<blockquote>Non-financial benefits are indicated by variables that provide incentives for orphan drug development relative to conventional drug development by reducing the costs and improving the expected revenues from orphan drug development</blockquote>"
      ],
      "text/plain": [
       "<IPython.core.display.HTML object>"
      ]
     },
     "metadata": {},
     "output_type": "display_data"
    },
    {
     "data": {
      "text/html": [
       "<p style='text-align:center'> *** </p>"
      ],
      "text/plain": [
       "<IPython.core.display.HTML object>"
      ]
     },
     "metadata": {},
     "output_type": "display_data"
    }
   ],
   "source": [
    "tags = [\n",
    "\"Guidance on ways to scale up NPIs in a more coordinated way (e.g., establish funding, infrastructure and authorities to support real time, authoritative (qualified participants) collaboration with all states to gain consensus on consistent guidance and to mobilize resources to geographic areas where critical shortfalls are identified) to give us time to enhance our health care delivery system capacity to respond to an increase in cases.\",\n",
    "\"Rapid assessment of the likely efficacy of school closures, travel bans, bans on mass gatherings of various sizes, and other social distancing approaches.\",\n",
    "\"Models of potential interventions to predict costs and benefits that take account of such factors as race, income, disability, age, geographic location, immigration status, housing status, employment status, and health insurance status.\",\n",
    "\"Policy changes necessary to enable the compliance of individuals with limited resources and the underserved with NPIs.\",\n",
    "\"Research on why people fail to comply with public health advice, even if they want to do so (e.g., social or financial costs may be too high).\",\n",
    "\"Research on the economic impact of this or any pandemic. This would include identifying policy and programmatic alternatives that lessen/mitigate risks to critical government services,food distribution and supplies, access to critical household supplies, and access to health diagnoses, treatment, and needed care, regardless of ability to pay.\"\n",
    "]\n",
    "\n",
    "read_data(tags, 6)"
   ]
  },
  {
   "cell_type": "code",
   "execution_count": 71,
   "metadata": {},
   "outputs": [
    {
     "data": {
      "text/html": [
       "<h1 style='font-size:30px'>What do we know about diagnostics and surveillance?</h1> </br>"
      ],
      "text/plain": [
       "<IPython.core.display.HTML object>"
      ]
     },
     "metadata": {},
     "output_type": "display_data"
    },
    {
     "data": {
      "text/html": [
       "<h2>1. How widespread current exposure is to be able to make immediate policy recommendations on mitigation measures. Denominators for testing and a mechanism for rapidly sharing that information, including demographics, to the extent possible. Sampling methods to determine asymptomatic disease (e.g., use of serosurveys (such as convalescent samples) and early detection of disease (e.g., use of screening of neutralizing antibodies such as ELISAs). </h2>"
      ],
      "text/plain": [
       "<IPython.core.display.HTML object>"
      ]
     },
     "metadata": {},
     "output_type": "display_data"
    },
    {
     "data": {
      "text/html": [
       "<h4 style='text-align:center'>25-01-2017</h4>"
      ],
      "text/plain": [
       "<IPython.core.display.HTML object>"
      ]
     },
     "metadata": {},
     "output_type": "display_data"
    },
    {
     "data": {
      "text/html": [
       "<h3 style='text-align:center'> <a href='https://www.ncbi.nlm.nih.gov/pmc/articles/PMC5263158/'> XMAP TECHNOLOGY: APPLICATIONS IN DETECTION OF PATHOGENS</a></h2>"
      ],
      "text/plain": [
       "<IPython.core.display.HTML object>"
      ]
     },
     "metadata": {},
     "output_type": "display_data"
    },
    {
     "data": {
      "text/html": [
       "<h4 style='text-align:center'> ~ <b>Reslova, Nikol; Michna, Veronika; Kasny, Martin; Mikel, Pavel; Kralik, Petr</b></h4>"
      ],
      "text/plain": [
       "<IPython.core.display.HTML object>"
      ]
     },
     "metadata": {},
     "output_type": "display_data"
    },
    {
     "data": {
      "text/html": [
       "<blockquote>In addition to respiratory viral diseases the MBMNA was successfully applied also for detection of viral pathogens causing acute viral gastroenteritis\n",
       "Ligation assays are also often used for multiplex detection of pathogenic bacteria\n",
       " For detection of gastrointestinal pathogens xTAG R Gastrointestinal Pathogen Panel -GPP is commercially available [multiplex detection of various viral, bacterial and parasitic nucleic acids in human stool samples (Beckmann et al</blockquote>"
      ],
      "text/plain": [
       "<IPython.core.display.HTML object>"
      ]
     },
     "metadata": {},
     "output_type": "display_data"
    },
    {
     "data": {
      "text/html": [
       "<p style='text-align:center'> *** </p>"
      ],
      "text/plain": [
       "<IPython.core.display.HTML object>"
      ]
     },
     "metadata": {},
     "output_type": "display_data"
    },
    {
     "data": {
      "text/html": [
       "<h4 style='text-align:center'>01-01-2014</h4>"
      ],
      "text/plain": [
       "<IPython.core.display.HTML object>"
      ]
     },
     "metadata": {},
     "output_type": "display_data"
    },
    {
     "data": {
      "text/html": [
       "<h3 style='text-align:center'> <a href='https://doi.org/10.1016/j.cca.2013.05.024'> ESTABLISHING BENCHMARKS AND METRICS FOR DISRUPTIVE TECHNOLOGIES, INAPPROPRIATE AND OBSOLETE TESTS IN THE CLINICAL LABORATORY</a></h2>"
      ],
      "text/plain": [
       "<IPython.core.display.HTML object>"
      ]
     },
     "metadata": {},
     "output_type": "display_data"
    },
    {
     "data": {
      "text/html": [
       "<h4 style='text-align:center'> ~ <b>Kiechle, Frederick L.; Arcenas, Rodney C.; Rogers, Linda C.</b></h4>"
      ],
      "text/plain": [
       "<IPython.core.display.HTML object>"
      ]
     },
     "metadata": {},
     "output_type": "display_data"
    },
    {
     "data": {
      "text/html": [
       "<blockquote>Bacterial antigen detection tests should be considered obsolete\n",
       " Obsolete tests in the microbiology laboratory include bacterial antigen detection tests, Group B Streptococcus antigen (GBS) testing and HIV-1 Western blot</blockquote>"
      ],
      "text/plain": [
       "<IPython.core.display.HTML object>"
      ]
     },
     "metadata": {},
     "output_type": "display_data"
    },
    {
     "data": {
      "text/html": [
       "<p style='text-align:center'> *** </p>"
      ],
      "text/plain": [
       "<IPython.core.display.HTML object>"
      ]
     },
     "metadata": {},
     "output_type": "display_data"
    },
    {
     "data": {
      "text/html": [
       "<h4 style='text-align:center'>30-04-2010</h4>"
      ],
      "text/plain": [
       "<IPython.core.display.HTML object>"
      ]
     },
     "metadata": {},
     "output_type": "display_data"
    },
    {
     "data": {
      "text/html": [
       "<h3 style='text-align:center'> <a href='https://doi.org/10.1053/j.jepm.2010.05.006'> FUTURE VETERINARY DIAGNOSTICS</a></h2>"
      ],
      "text/plain": [
       "<IPython.core.display.HTML object>"
      ]
     },
     "metadata": {},
     "output_type": "display_data"
    },
    {
     "data": {
      "text/html": [
       "<h4 style='text-align:center'> ~ <b>Dahlhausen, Bob</b></h4>"
      ],
      "text/plain": [
       "<IPython.core.display.HTML object>"
      ]
     },
     "metadata": {},
     "output_type": "display_data"
    },
    {
     "data": {
      "text/html": [
       "<blockquote> Protein microarrays have been developed for the detection of allergen-specific immunoglobulin E reactivity and detection of specific auto antibodies associated with autoimmune diseases\n",
       " Quantification also aids in the treatment of patients with chronic infectious disease and monitoring disease progression and resolution\n",
       "Several tests are now available for canine patients to identify oncogenes and clonal lymphocyte populations\n",
       " These antigen microarrays have been used to identify seropositive individuals by using the presence of serum antibodies to detect exposure to a specific pathogen</blockquote>"
      ],
      "text/plain": [
       "<IPython.core.display.HTML object>"
      ]
     },
     "metadata": {},
     "output_type": "display_data"
    },
    {
     "data": {
      "text/html": [
       "<p style='text-align:center'> *** </p>"
      ],
      "text/plain": [
       "<IPython.core.display.HTML object>"
      ]
     },
     "metadata": {},
     "output_type": "display_data"
    },
    {
     "data": {
      "text/html": [
       "<h2>2. Efforts to increase capacity on existing diagnostic platforms and tap into existing surveillance platforms. </h2>"
      ],
      "text/plain": [
       "<IPython.core.display.HTML object>"
      ]
     },
     "metadata": {},
     "output_type": "display_data"
    },
    {
     "data": {
      "text/html": [
       "<h4 style='text-align:center'>10-06-2019</h4>"
      ],
      "text/plain": [
       "<IPython.core.display.HTML object>"
      ]
     },
     "metadata": {},
     "output_type": "display_data"
    },
    {
     "data": {
      "text/html": [
       "<h3 style='text-align:center'> <a href='https://www.ncbi.nlm.nih.gov/pmc/articles/PMC7091643/'> COMMUNICABLE DISEASE SURVEILLANCE ETHICS IN THE AGE OF BIG DATA AND NEW TECHNOLOGY</a></h2>"
      ],
      "text/plain": [
       "<IPython.core.display.HTML object>"
      ]
     },
     "metadata": {},
     "output_type": "display_data"
    },
    {
     "data": {
      "text/html": [
       "<h4 style='text-align:center'> ~ <b>Gilbert, Gwendolyn L.; Degeling, Chris; Johnson, Jane</b></h4>"
      ],
      "text/plain": [
       "<IPython.core.display.HTML object>"
      ]
     },
     "metadata": {},
     "output_type": "display_data"
    },
    {
     "data": {
      "text/html": [
       "<blockquote>Moreover, to realise the additional benefits of using pathogen WGS data for communicable disease surveillance will require access to and analysis of aggregate WGS data in national or international laboratory networks, linked to clinical and epidemiological databases</blockquote>"
      ],
      "text/plain": [
       "<IPython.core.display.HTML object>"
      ]
     },
     "metadata": {},
     "output_type": "display_data"
    },
    {
     "data": {
      "text/html": [
       "<p style='text-align:center'> *** </p>"
      ],
      "text/plain": [
       "<IPython.core.display.HTML object>"
      ]
     },
     "metadata": {},
     "output_type": "display_data"
    },
    {
     "data": {
      "text/html": [
       "<h4 style='text-align:center'>27-12-2017</h4>"
      ],
      "text/plain": [
       "<IPython.core.display.HTML object>"
      ]
     },
     "metadata": {},
     "output_type": "display_data"
    },
    {
     "data": {
      "text/html": [
       "<h3 style='text-align:center'> <a href='https://www.ncbi.nlm.nih.gov/pmc/articles/PMC5711298/'> ESTABLISHMENT OF CDC GLOBAL RAPID RESPONSE TEAM TO ENSURE GLOBAL HEALTH SECURITY</a></h2>"
      ],
      "text/plain": [
       "<IPython.core.display.HTML object>"
      ]
     },
     "metadata": {},
     "output_type": "display_data"
    },
    {
     "data": {
      "text/html": [
       "<h4 style='text-align:center'> ~ <b>Stehling-Ariza, Tasha; Lefevre, Adrienne; Calles, Dinorah; Djawe, Kpandja; Garfield, Richard; Gerber, Michael; Ghiselli, Margherita; Giese, Coralie; Greiner, Ashley L.; Hoffman, Adela; Miller, Leigh Ann; Moorhouse, Lisa; Navarro-Colorado, Carlos; Walsh, James; Bugli, Dante; Shahpar, Cyrus</b></h4>"
      ],
      "text/plain": [
       "<IPython.core.display.HTML object>"
      ]
     },
     "metadata": {},
     "output_type": "display_data"
    },
    {
     "data": {
      "text/html": [
       "<blockquote> Laboratorians strengthened Zika virus testing capacity and improved existing diagnostic tools</blockquote>"
      ],
      "text/plain": [
       "<IPython.core.display.HTML object>"
      ]
     },
     "metadata": {},
     "output_type": "display_data"
    },
    {
     "data": {
      "text/html": [
       "<p style='text-align:center'> *** </p>"
      ],
      "text/plain": [
       "<IPython.core.display.HTML object>"
      ]
     },
     "metadata": {},
     "output_type": "display_data"
    },
    {
     "data": {
      "text/html": [
       "<h4 style='text-align:center'>17-01-2017</h4>"
      ],
      "text/plain": [
       "<IPython.core.display.HTML object>"
      ]
     },
     "metadata": {},
     "output_type": "display_data"
    },
    {
     "data": {
      "text/html": [
       "<h3 style='text-align:center'> <a href='https://www.ncbi.nlm.nih.gov/pmc/articles/PMC5240927/'> EVALUATING HOSPITAL-BASED SURVEILLANCE FOR OUTBREAK DETECTION IN BANGLADESH: ANALYSIS OF HEALTHCARE UTILIZATION DATA</a></h2>"
      ],
      "text/plain": [
       "<IPython.core.display.HTML object>"
      ]
     },
     "metadata": {},
     "output_type": "display_data"
    },
    {
     "data": {
      "text/html": [
       "<h4 style='text-align:center'> ~ <b>Nikolay, Birgit; Salje, Henrik; Sturm-Ramirez, Katharine; Azziz-Baumgartner, Eduardo; Homaira, Nusrat; Ahmed, Makhdum; Iuliano, A. Danielle; Paul, Repon C.; Rahman, Mahmudur; Hossain, M. Jahangir; Luby, Stephen P.; Cauchemez, Simon; Gurley, Emily S.</b></h4>"
      ],
      "text/plain": [
       "<IPython.core.display.HTML object>"
      ]
     },
     "metadata": {},
     "output_type": "display_data"
    },
    {
     "data": {
      "text/html": [
       "<blockquote> Of greater relevance is that surveillance system capacity to detect outbreaks and detection probabilities increased substantially with the number of cases\n",
       "• The capacity to detect cases and outbreaks decreased with distance from surveillance hospitals</blockquote>"
      ],
      "text/plain": [
       "<IPython.core.display.HTML object>"
      ]
     },
     "metadata": {},
     "output_type": "display_data"
    },
    {
     "data": {
      "text/html": [
       "<p style='text-align:center'> *** </p>"
      ],
      "text/plain": [
       "<IPython.core.display.HTML object>"
      ]
     },
     "metadata": {},
     "output_type": "display_data"
    },
    {
     "data": {
      "text/html": [
       "<h4 style='text-align:center'>01-09-2014</h4>"
      ],
      "text/plain": [
       "<IPython.core.display.HTML object>"
      ]
     },
     "metadata": {},
     "output_type": "display_data"
    },
    {
     "data": {
      "text/html": [
       "<h3 style='text-align:center'> <a href='http://europepmc.org/articles/pmc4171117?pdf=render'> LEVERAGING THE LABORATORY RESPONSE NETWORK MODEL FOR THE GLOBAL HEALTH SECURITY AGENDA</a></h2>"
      ],
      "text/plain": [
       "<IPython.core.display.HTML object>"
      ]
     },
     "metadata": {},
     "output_type": "display_data"
    },
    {
     "data": {
      "text/html": [
       "<h4 style='text-align:center'> ~ <b>Mangal, Chris N.; Maryogo-Robinson, Lucy</b></h4>"
      ],
      "text/plain": [
       "<IPython.core.display.HTML object>"
      ]
     },
     "metadata": {},
     "output_type": "display_data"
    },
    {
     "data": {
      "text/html": [
       "<blockquote> Use of existing CDC LRN PHEP-funded systems enabled rapid and effective communication between clinical laboratories and public health laboratories</blockquote>"
      ],
      "text/plain": [
       "<IPython.core.display.HTML object>"
      ]
     },
     "metadata": {},
     "output_type": "display_data"
    },
    {
     "data": {
      "text/html": [
       "<p style='text-align:center'> *** </p>"
      ],
      "text/plain": [
       "<IPython.core.display.HTML object>"
      ]
     },
     "metadata": {},
     "output_type": "display_data"
    },
    {
     "data": {
      "text/html": [
       "<h4 style='text-align:center'>09-07-2014</h4>"
      ],
      "text/plain": [
       "<IPython.core.display.HTML object>"
      ]
     },
     "metadata": {},
     "output_type": "display_data"
    },
    {
     "data": {
      "text/html": [
       "<h3 style='text-align:center'> <a href='https://www.ncbi.nlm.nih.gov/pmc/articles/PMC4090236/'> EPIDEMIC SURVEILLANCE USING AN ELECTRONIC MEDICAL RECORD: AN EMPIRIC APPROACH TO PERFORMANCE IMPROVEMENT</a></h2>"
      ],
      "text/plain": [
       "<IPython.core.display.HTML object>"
      ]
     },
     "metadata": {},
     "output_type": "display_data"
    },
    {
     "data": {
      "text/html": [
       "<h4 style='text-align:center'> ~ <b>Zheng, Hongzhang; Gaff, Holly; Smith, Gary; DeLisle, Sylvain</b></h4>"
      ],
      "text/plain": [
       "<IPython.core.display.HTML object>"
      ]
     },
     "metadata": {},
     "output_type": "display_data"
    },
    {
     "data": {
      "text/html": [
       "<blockquote>Most automated surveillance systems utilize diagnostic codes to find diseased individuals\n",
       " Our results further argue that diagnostic codes sets used for case-detection should routinely optimized during surveillance system development or expansion</blockquote>"
      ],
      "text/plain": [
       "<IPython.core.display.HTML object>"
      ]
     },
     "metadata": {},
     "output_type": "display_data"
    },
    {
     "data": {
      "text/html": [
       "<p style='text-align:center'> *** </p>"
      ],
      "text/plain": [
       "<IPython.core.display.HTML object>"
      ]
     },
     "metadata": {},
     "output_type": "display_data"
    },
    {
     "data": {
      "text/html": [
       "<h4 style='text-align:center'>28-02-2014</h4>"
      ],
      "text/plain": [
       "<IPython.core.display.HTML object>"
      ]
     },
     "metadata": {},
     "output_type": "display_data"
    },
    {
     "data": {
      "text/html": [
       "<h3 style='text-align:center'> <a href='https://doi.org/10.1016/s1473-3099(13)70244-5'> INTERNET-BASED SURVEILLANCE SYSTEMS FOR MONITORING EMERGING INFECTIOUS DISEASES</a></h2>"
      ],
      "text/plain": [
       "<IPython.core.display.HTML object>"
      ]
     },
     "metadata": {},
     "output_type": "display_data"
    },
    {
     "data": {
      "text/html": [
       "<h4 style='text-align:center'> ~ <b>Milinovich, Gabriel J; Williams, Gail M; Clements, Archie C A; Hu, Wenbiao</b></h4>"
      ],
      "text/plain": [
       "<IPython.core.display.HTML object>"
      ]
     },
     "metadata": {},
     "output_type": "display_data"
    },
    {
     "data": {
      "text/html": [
       "<blockquote> 68 These studies show potential applications of internet-based surveillance systems in bolstering traditional surveillance system capacity and guiding public health action\n",
       " A global response requires concerted international approaches to strengthen the capacity of emerging infectious diseases surveillance systems worldwide</blockquote>"
      ],
      "text/plain": [
       "<IPython.core.display.HTML object>"
      ]
     },
     "metadata": {},
     "output_type": "display_data"
    },
    {
     "data": {
      "text/html": [
       "<p style='text-align:center'> *** </p>"
      ],
      "text/plain": [
       "<IPython.core.display.HTML object>"
      ]
     },
     "metadata": {},
     "output_type": "display_data"
    },
    {
     "data": {
      "text/html": [
       "<h2>3. Recruitment, support, and coordination of local expertise and capacity (public, private—commercial, and non-profit, including academic), including legal, ethical, communications, and operational issues. </h2>"
      ],
      "text/plain": [
       "<IPython.core.display.HTML object>"
      ]
     },
     "metadata": {},
     "output_type": "display_data"
    },
    {
     "data": {
      "text/html": [
       "<h4 style='text-align:center'>01-09-2014</h4>"
      ],
      "text/plain": [
       "<IPython.core.display.HTML object>"
      ]
     },
     "metadata": {},
     "output_type": "display_data"
    },
    {
     "data": {
      "text/html": [
       "<h3 style='text-align:center'> <a href='http://europepmc.org/articles/pmc4171117?pdf=render'> LEVERAGING THE LABORATORY RESPONSE NETWORK MODEL FOR THE GLOBAL HEALTH SECURITY AGENDA</a></h2>"
      ],
      "text/plain": [
       "<IPython.core.display.HTML object>"
      ]
     },
     "metadata": {},
     "output_type": "display_data"
    },
    {
     "data": {
      "text/html": [
       "<h4 style='text-align:center'> ~ <b>Mangal, Chris N.; Maryogo-Robinson, Lucy</b></h4>"
      ],
      "text/plain": [
       "<IPython.core.display.HTML object>"
      ]
     },
     "metadata": {},
     "output_type": "display_data"
    },
    {
     "data": {
      "text/html": [
       "<blockquote> 12 The twinning agreements were designed to support public health laboratory services by establishing long-term mentoring partnerships between national and state public health laboratories and linking these sites\n",
       " APHL instituted the APHL-George Washington University (GWU) Institute for Public Health Leadership and Management in 2007 to provide senior-level public health professionals with essential tools for assessing national laboratory systems and strategies for strengthening the capacities and capabilities of high-quality public health laboratories\n",
       "'' 20 Nurturing laboratory leadership and management has to be supported for the effective oversight and administration of public health laboratory networks</blockquote>"
      ],
      "text/plain": [
       "<IPython.core.display.HTML object>"
      ]
     },
     "metadata": {},
     "output_type": "display_data"
    },
    {
     "data": {
      "text/html": [
       "<p style='text-align:center'> *** </p>"
      ],
      "text/plain": [
       "<IPython.core.display.HTML object>"
      ]
     },
     "metadata": {},
     "output_type": "display_data"
    },
    {
     "data": {
      "text/html": [
       "<h4 style='text-align:center'>04-03-2011</h4>"
      ],
      "text/plain": [
       "<IPython.core.display.HTML object>"
      ]
     },
     "metadata": {},
     "output_type": "display_data"
    },
    {
     "data": {
      "text/html": [
       "<h3 style='text-align:center'> <a href='https://www.ncbi.nlm.nih.gov/pmc/articles/PMC3092412/'> THE GLOBAL EMERGING INFECTION SURVEILLANCE AND RESPONSE SYSTEM (GEIS), A U.S. GOVERNMENT TOOL FOR IMPROVED GLOBAL BIOSURVEILLANCE: A REVIEW OF 2009</a></h2>"
      ],
      "text/plain": [
       "<IPython.core.display.HTML object>"
      ]
     },
     "metadata": {},
     "output_type": "display_data"
    },
    {
     "data": {
      "text/html": [
       "<h4 style='text-align:center'> ~ <b>Russell, Kevin L; Rubenstein, Jennifer; Burke, Ronald L; Vest, Kelly G; Johns, Matthew C; Sanchez, Jose L; Meyer, William; Fukuda, Mark M; Blazes, David L</b></h4>"
      ],
      "text/plain": [
       "<IPython.core.display.HTML object>"
      ]
     },
     "metadata": {},
     "output_type": "display_data"
    },
    {
     "data": {
      "text/html": [
       "<blockquote>Considerable coordination and communication with in-country ministries, academic institutions and other in-country government assets is done by AFSHC-GEIS global partners\n",
       " Despite political agendas, remarkable progress in facilitating open lines of communication can occur when two researchers or public health professionals, regardless of cultural or economic background, establish mutual rapport for a mutual interest: optimal health of their uniformed service members</blockquote>"
      ],
      "text/plain": [
       "<IPython.core.display.HTML object>"
      ]
     },
     "metadata": {},
     "output_type": "display_data"
    },
    {
     "data": {
      "text/html": [
       "<p style='text-align:center'> *** </p>"
      ],
      "text/plain": [
       "<IPython.core.display.HTML object>"
      ]
     },
     "metadata": {},
     "output_type": "display_data"
    },
    {
     "data": {
      "text/html": [
       "<h4 style='text-align:center'>30-09-2004</h4>"
      ],
      "text/plain": [
       "<IPython.core.display.HTML object>"
      ]
     },
     "metadata": {},
     "output_type": "display_data"
    },
    {
     "data": {
      "text/html": [
       "<h3 style='text-align:center'> <a href='https://doi.org/10.1016/j.ijmedinf.2004.05.010'> INVESTIGATING PUBLIC HEALTH EMERGENCY RESPONSE INFORMATION SYSTEM INITIATIVES IN CHINA</a></h2>"
      ],
      "text/plain": [
       "<IPython.core.display.HTML object>"
      ]
     },
     "metadata": {},
     "output_type": "display_data"
    },
    {
     "data": {
      "text/html": [
       "<h4 style='text-align:center'> ~ <b>Liang, Huigang; Xue, Yajiong</b></h4>"
      ],
      "text/plain": [
       "<IPython.core.display.HTML object>"
      ]
     },
     "metadata": {},
     "output_type": "display_data"
    },
    {
     "data": {
      "text/html": [
       "<blockquote> In addition, the provincial and city intranets provide network services and data services to public health related local organizations and form various community public health information networks\n",
       " The purpose of this system is to monitor the behavior of health care administrative agencies and healthcare organizations in fulfilling their legal obligation of protecting public health</blockquote>"
      ],
      "text/plain": [
       "<IPython.core.display.HTML object>"
      ]
     },
     "metadata": {},
     "output_type": "display_data"
    },
    {
     "data": {
      "text/html": [
       "<p style='text-align:center'> *** </p>"
      ],
      "text/plain": [
       "<IPython.core.display.HTML object>"
      ]
     },
     "metadata": {},
     "output_type": "display_data"
    },
    {
     "data": {
      "text/html": [
       "<h2>4. National guidance and guidelines about best practices to states (e.g., how states might leverage universities and private laboratories for testing purposes, communications to public health officials and the public). </h2>"
      ],
      "text/plain": [
       "<IPython.core.display.HTML object>"
      ]
     },
     "metadata": {},
     "output_type": "display_data"
    },
    {
     "data": {
      "text/html": [
       "<h4 style='text-align:center'>01-09-2014</h4>"
      ],
      "text/plain": [
       "<IPython.core.display.HTML object>"
      ]
     },
     "metadata": {},
     "output_type": "display_data"
    },
    {
     "data": {
      "text/html": [
       "<h3 style='text-align:center'> <a href='http://europepmc.org/articles/pmc4171117?pdf=render'> LEVERAGING THE LABORATORY RESPONSE NETWORK MODEL FOR THE GLOBAL HEALTH SECURITY AGENDA</a></h2>"
      ],
      "text/plain": [
       "<IPython.core.display.HTML object>"
      ]
     },
     "metadata": {},
     "output_type": "display_data"
    },
    {
     "data": {
      "text/html": [
       "<h4 style='text-align:center'> ~ <b>Mangal, Chris N.; Maryogo-Robinson, Lucy</b></h4>"
      ],
      "text/plain": [
       "<IPython.core.display.HTML object>"
      ]
     },
     "metadata": {},
     "output_type": "display_data"
    },
    {
     "data": {
      "text/html": [
       "<blockquote> 12 The twinning agreements were designed to support public health laboratory services by establishing long-term mentoring partnerships between national and state public health laboratories and linking these sites\n",
       " APHL instituted the APHL-George Washington University (GWU) Institute for Public Health Leadership and Management in 2007 to provide senior-level public health professionals with essential tools for assessing national laboratory systems and strategies for strengthening the capacities and capabilities of high-quality public health laboratories\n",
       " Use of existing CDC LRN PHEP-funded systems enabled rapid and effective communication between clinical laboratories and public health laboratories\n",
       " These primary characteristics of the LRN-B model can be used to develop the laboratory framework for the GHSA:Strengthens existing public health and defense laboratory systems; public health laboratories use CDCprovided funds to ensure they have safe and secure facilities, procure instrumentation and associated maintenance agreements; military laboratories use the DoD resources to support their LRN activities Invests in public health workforce; federal funds support personnel at the state and local levels Provides training to ensure a highly skilled workforce Provides technical assistance such as troubleshooting scientific assays and equipment Provides standardized protocols and tests Uses molecular diagnostics Ensures coverage for human, animal, food, and environmental specimens Provides standardized electronic data messaging with laboratory results that contribute to sound public health decisions Uses a specific system for communications and provides help desk support to member laboratories Uses a restricted access website to house materials that can be accessed by member laboratories Invests in continuous quality improvements, such as conducting multicenter evaluations of assays, seeking feedback on operations from laboratories, providing scientific and policy guidance to laboratories, and collecting and sharing model practices Maintains qualified membership by using performance measures that include ongoing proficiency tests and designated timeframes for results and communications Promotes partnerships by convening member laboratories via routine conference calls and national meetings, and by engaging with subject matter experts across the federal agencies to ensure scientific integrityIn addition to detecting biological threats and emerging infectious diseases, there are 2 other core areas to support the detection of chemical and radiological threats\n",
       " To implement LIMSi, CDC is collaborating with APHL to provide public health laboratories with necessary resources\n",
       " The network has many strategic partners, which allows for coordination among federal, state, and local public health agencies, clinical laboratories, first responders, and law enforcement\n",
       " Leveraging the highly successful LRN model allows for internal coordination with CDC to better use subject matter expertise, training models, emergency operations center procedures, data exchange, and other technical resources; continued and expanded partnerships with DoD, the Department of State, and ministries of health; and use of the vast member network including state and local public health laboratories as potential twinning and training centers</blockquote>"
      ],
      "text/plain": [
       "<IPython.core.display.HTML object>"
      ]
     },
     "metadata": {},
     "output_type": "display_data"
    },
    {
     "data": {
      "text/html": [
       "<p style='text-align:center'> *** </p>"
      ],
      "text/plain": [
       "<IPython.core.display.HTML object>"
      ]
     },
     "metadata": {},
     "output_type": "display_data"
    },
    {
     "data": {
      "text/html": [
       "<h4 style='text-align:center'>04-03-2011</h4>"
      ],
      "text/plain": [
       "<IPython.core.display.HTML object>"
      ]
     },
     "metadata": {},
     "output_type": "display_data"
    },
    {
     "data": {
      "text/html": [
       "<h3 style='text-align:center'> <a href='https://www.ncbi.nlm.nih.gov/pmc/articles/PMC3092412/'> THE GLOBAL EMERGING INFECTION SURVEILLANCE AND RESPONSE SYSTEM (GEIS), A U.S. GOVERNMENT TOOL FOR IMPROVED GLOBAL BIOSURVEILLANCE: A REVIEW OF 2009</a></h2>"
      ],
      "text/plain": [
       "<IPython.core.display.HTML object>"
      ]
     },
     "metadata": {},
     "output_type": "display_data"
    },
    {
     "data": {
      "text/html": [
       "<h4 style='text-align:center'> ~ <b>Russell, Kevin L; Rubenstein, Jennifer; Burke, Ronald L; Vest, Kelly G; Johns, Matthew C; Sanchez, Jose L; Meyer, William; Fukuda, Mark M; Blazes, David L</b></h4>"
      ],
      "text/plain": [
       "<IPython.core.display.HTML object>"
      ]
     },
     "metadata": {},
     "output_type": "display_data"
    },
    {
     "data": {
      "text/html": [
       "<blockquote> Between 1992 and 1996, numerous documents and communications within DoD recognized the need for global emerging infection surveillance initiatives leveraging these overseas laboratories, and emphasized the commitment of DoD to these endeavors\n",
       " This move centralized DoD-wide healthcare surveillance initiatives with domestic and overseas laboratory surveillance efforts</blockquote>"
      ],
      "text/plain": [
       "<IPython.core.display.HTML object>"
      ]
     },
     "metadata": {},
     "output_type": "display_data"
    },
    {
     "data": {
      "text/html": [
       "<p style='text-align:center'> *** </p>"
      ],
      "text/plain": [
       "<IPython.core.display.HTML object>"
      ]
     },
     "metadata": {},
     "output_type": "display_data"
    },
    {
     "data": {
      "text/html": [
       "<h4 style='text-align:center'>30-09-2004</h4>"
      ],
      "text/plain": [
       "<IPython.core.display.HTML object>"
      ]
     },
     "metadata": {},
     "output_type": "display_data"
    },
    {
     "data": {
      "text/html": [
       "<h3 style='text-align:center'> <a href='https://doi.org/10.1016/j.ijmedinf.2004.05.010'> INVESTIGATING PUBLIC HEALTH EMERGENCY RESPONSE INFORMATION SYSTEM INITIATIVES IN CHINA</a></h2>"
      ],
      "text/plain": [
       "<IPython.core.display.HTML object>"
      ]
     },
     "metadata": {},
     "output_type": "display_data"
    },
    {
     "data": {
      "text/html": [
       "<h4 style='text-align:center'> ~ <b>Liang, Huigang; Xue, Yajiong</b></h4>"
      ],
      "text/plain": [
       "<IPython.core.display.HTML object>"
      ]
     },
     "metadata": {},
     "output_type": "display_data"
    },
    {
     "data": {
      "text/html": [
       "<blockquote> In addition, the provincial and city intranets provide network services and data services to public health related local organizations and form various community public health information networks</blockquote>"
      ],
      "text/plain": [
       "<IPython.core.display.HTML object>"
      ]
     },
     "metadata": {},
     "output_type": "display_data"
    },
    {
     "data": {
      "text/html": [
       "<p style='text-align:center'> *** </p>"
      ],
      "text/plain": [
       "<IPython.core.display.HTML object>"
      ]
     },
     "metadata": {},
     "output_type": "display_data"
    },
    {
     "data": {
      "text/html": [
       "<h2>5. Development of a point-of-care test (like a rapid influenza test) and rapid bed-side tests, recognizing the tradeoffs between speed, accessibility, and accuracy. Rapid design and execution of targeted surveillance experiments calling for all potential testers using PCR in a defined area to start testing and report to a specific entity. These experiments could aid in collecting longitudinal samples, which are critical to understanding the impact of ad hoc local interventions (which also need to be recorded). </h2>"
      ],
      "text/plain": [
       "<IPython.core.display.HTML object>"
      ]
     },
     "metadata": {},
     "output_type": "display_data"
    },
    {
     "data": {
      "text/html": [
       "<h4 style='text-align:center'>25-01-2017</h4>"
      ],
      "text/plain": [
       "<IPython.core.display.HTML object>"
      ]
     },
     "metadata": {},
     "output_type": "display_data"
    },
    {
     "data": {
      "text/html": [
       "<h3 style='text-align:center'> <a href='https://www.ncbi.nlm.nih.gov/pmc/articles/PMC5263158/'> XMAP TECHNOLOGY: APPLICATIONS IN DETECTION OF PATHOGENS</a></h2>"
      ],
      "text/plain": [
       "<IPython.core.display.HTML object>"
      ]
     },
     "metadata": {},
     "output_type": "display_data"
    },
    {
     "data": {
      "text/html": [
       "<h4 style='text-align:center'> ~ <b>Reslova, Nikol; Michna, Veronika; Kasny, Martin; Mikel, Pavel; Kralik, Petr</b></h4>"
      ],
      "text/plain": [
       "<IPython.core.display.HTML object>"
      ]
     },
     "metadata": {},
     "output_type": "display_data"
    },
    {
     "data": {
      "text/html": [
       "<blockquote> Samples with discordant results between the routine tests and xTAG GPP were tested by singleplex PCR and sequencing\n",
       "The MBMNA method for more effective detection and genotyping of H5N1 viral isolates from clinical samples comprising pharyngeal swabs and tracheal aspirates was developed and its efficiency was compared with RT-PCR and qPCR (Zou et al</blockquote>"
      ],
      "text/plain": [
       "<IPython.core.display.HTML object>"
      ]
     },
     "metadata": {},
     "output_type": "display_data"
    },
    {
     "data": {
      "text/html": [
       "<p style='text-align:center'> *** </p>"
      ],
      "text/plain": [
       "<IPython.core.display.HTML object>"
      ]
     },
     "metadata": {},
     "output_type": "display_data"
    },
    {
     "data": {
      "text/html": [
       "<h4 style='text-align:center'>17-01-2017</h4>"
      ],
      "text/plain": [
       "<IPython.core.display.HTML object>"
      ]
     },
     "metadata": {},
     "output_type": "display_data"
    },
    {
     "data": {
      "text/html": [
       "<h3 style='text-align:center'> <a href='https://www.ncbi.nlm.nih.gov/pmc/articles/PMC5240927/'> EVALUATING HOSPITAL-BASED SURVEILLANCE FOR OUTBREAK DETECTION IN BANGLADESH: ANALYSIS OF HEALTHCARE UTILIZATION DATA</a></h2>"
      ],
      "text/plain": [
       "<IPython.core.display.HTML object>"
      ]
     },
     "metadata": {},
     "output_type": "display_data"
    },
    {
     "data": {
      "text/html": [
       "<h4 style='text-align:center'> ~ <b>Nikolay, Birgit; Salje, Henrik; Sturm-Ramirez, Katharine; Azziz-Baumgartner, Eduardo; Homaira, Nusrat; Ahmed, Makhdum; Iuliano, A. Danielle; Paul, Repon C.; Rahman, Mahmudur; Hossain, M. Jahangir; Luby, Stephen P.; Cauchemez, Simon; Gurley, Emily S.</b></h4>"
      ],
      "text/plain": [
       "<IPython.core.display.HTML object>"
      ]
     },
     "metadata": {},
     "output_type": "display_data"
    },
    {
     "data": {
      "text/html": [
       "<blockquote>• We demonstrate a novel approach using healthcare utilization data to evaluate the sensitivity and representativeness of severe infectious disease surveillance in Bangladesh</blockquote>"
      ],
      "text/plain": [
       "<IPython.core.display.HTML object>"
      ]
     },
     "metadata": {},
     "output_type": "display_data"
    },
    {
     "data": {
      "text/html": [
       "<p style='text-align:center'> *** </p>"
      ],
      "text/plain": [
       "<IPython.core.display.HTML object>"
      ]
     },
     "metadata": {},
     "output_type": "display_data"
    },
    {
     "data": {
      "text/html": [
       "<h4 style='text-align:center'>01-01-2014</h4>"
      ],
      "text/plain": [
       "<IPython.core.display.HTML object>"
      ]
     },
     "metadata": {},
     "output_type": "display_data"
    },
    {
     "data": {
      "text/html": [
       "<h3 style='text-align:center'> <a href='https://doi.org/10.1016/j.cca.2013.05.024'> ESTABLISHING BENCHMARKS AND METRICS FOR DISRUPTIVE TECHNOLOGIES, INAPPROPRIATE AND OBSOLETE TESTS IN THE CLINICAL LABORATORY</a></h2>"
      ],
      "text/plain": [
       "<IPython.core.display.HTML object>"
      ]
     },
     "metadata": {},
     "output_type": "display_data"
    },
    {
     "data": {
      "text/html": [
       "<h4 style='text-align:center'> ~ <b>Kiechle, Frederick L.; Arcenas, Rodney C.; Rogers, Linda C.</b></h4>"
      ],
      "text/plain": [
       "<IPython.core.display.HTML object>"
      ]
     },
     "metadata": {},
     "output_type": "display_data"
    },
    {
     "data": {
      "text/html": [
       "<blockquote>Bacterial antigen detection tests should be considered obsolete\n",
       " Obsolete tests in the microbiology laboratory include bacterial antigen detection tests, Group B Streptococcus antigen (GBS) testing and HIV-1 Western blot</blockquote>"
      ],
      "text/plain": [
       "<IPython.core.display.HTML object>"
      ]
     },
     "metadata": {},
     "output_type": "display_data"
    },
    {
     "data": {
      "text/html": [
       "<p style='text-align:center'> *** </p>"
      ],
      "text/plain": [
       "<IPython.core.display.HTML object>"
      ]
     },
     "metadata": {},
     "output_type": "display_data"
    },
    {
     "data": {
      "text/html": [
       "<h4 style='text-align:center'>14-11-2011</h4>"
      ],
      "text/plain": [
       "<IPython.core.display.HTML object>"
      ]
     },
     "metadata": {},
     "output_type": "display_data"
    },
    {
     "data": {
      "text/html": [
       "<h3 style='text-align:center'> <a href='https://www.ncbi.nlm.nih.gov/pmc/articles/PMC3233444/'> APPLICATIONS OF NEXT-GENERATION SEQUENCING TECHNOLOGIES TO DIAGNOSTIC VIROLOGY</a></h2>"
      ],
      "text/plain": [
       "<IPython.core.display.HTML object>"
      ]
     },
     "metadata": {},
     "output_type": "display_data"
    },
    {
     "data": {
      "text/html": [
       "<h4 style='text-align:center'> ~ <b>Barzon, Luisa; Lavezzo, Enrico; Militello, Valentina; Toppo, Stefano; Palù, Giorgio</b></h4>"
      ],
      "text/plain": [
       "<IPython.core.display.HTML object>"
      ]
     },
     "metadata": {},
     "output_type": "display_data"
    },
    {
     "data": {
      "text/html": [
       "<blockquote> High throughput deep sequencing methods have been proposed as tools for monitoring genetic consistency of live viral vaccines</blockquote>"
      ],
      "text/plain": [
       "<IPython.core.display.HTML object>"
      ]
     },
     "metadata": {},
     "output_type": "display_data"
    },
    {
     "data": {
      "text/html": [
       "<p style='text-align:center'> *** </p>"
      ],
      "text/plain": [
       "<IPython.core.display.HTML object>"
      ]
     },
     "metadata": {},
     "output_type": "display_data"
    },
    {
     "data": {
      "text/html": [
       "<h4 style='text-align:center'>30-04-2010</h4>"
      ],
      "text/plain": [
       "<IPython.core.display.HTML object>"
      ]
     },
     "metadata": {},
     "output_type": "display_data"
    },
    {
     "data": {
      "text/html": [
       "<h3 style='text-align:center'> <a href='https://doi.org/10.1053/j.jepm.2010.05.006'> FUTURE VETERINARY DIAGNOSTICS</a></h2>"
      ],
      "text/plain": [
       "<IPython.core.display.HTML object>"
      ]
     },
     "metadata": {},
     "output_type": "display_data"
    },
    {
     "data": {
      "text/html": [
       "<h4 style='text-align:center'> ~ <b>Dahlhausen, Bob</b></h4>"
      ],
      "text/plain": [
       "<IPython.core.display.HTML object>"
      ]
     },
     "metadata": {},
     "output_type": "display_data"
    },
    {
     "data": {
      "text/html": [
       "<blockquote>The exponential replication of DNA afforded by the PCR process allows for excellent diagnostic sensitivity and specificity\n",
       " This comprehensive and unbiased analysis of viral prevalence in a given biological sample also increases the feasibility of introducing molecular testing for viruses that are easily detected using classical diagnostic testing methods\n",
       " 20 Innovative strategies using biomarkers represent alternative strategies for reliable cancer testing and for detecting clinical markers predictive of cardiovascular and other diseases\n",
       " The integration of DNA and protein-based microarray methods may extend the range of rapid clinical diagnostic testing</blockquote>"
      ],
      "text/plain": [
       "<IPython.core.display.HTML object>"
      ]
     },
     "metadata": {},
     "output_type": "display_data"
    },
    {
     "data": {
      "text/html": [
       "<p style='text-align:center'> *** </p>"
      ],
      "text/plain": [
       "<IPython.core.display.HTML object>"
      ]
     },
     "metadata": {},
     "output_type": "display_data"
    },
    {
     "data": {
      "text/html": [
       "<h2>6. Separation of assay development issues from instruments, and the role of the private sector to help quickly migrate assays onto those devices. </h2>"
      ],
      "text/plain": [
       "<IPython.core.display.HTML object>"
      ]
     },
     "metadata": {},
     "output_type": "display_data"
    },
    {
     "data": {
      "text/html": [
       "<h4 style='text-align:center'>01-09-2014</h4>"
      ],
      "text/plain": [
       "<IPython.core.display.HTML object>"
      ]
     },
     "metadata": {},
     "output_type": "display_data"
    },
    {
     "data": {
      "text/html": [
       "<h3 style='text-align:center'> <a href='http://europepmc.org/articles/pmc4171117?pdf=render'> LEVERAGING THE LABORATORY RESPONSE NETWORK MODEL FOR THE GLOBAL HEALTH SECURITY AGENDA</a></h2>"
      ],
      "text/plain": [
       "<IPython.core.display.HTML object>"
      ]
     },
     "metadata": {},
     "output_type": "display_data"
    },
    {
     "data": {
      "text/html": [
       "<h4 style='text-align:center'> ~ <b>Mangal, Chris N.; Maryogo-Robinson, Lucy</b></h4>"
      ],
      "text/plain": [
       "<IPython.core.display.HTML object>"
      ]
     },
     "metadata": {},
     "output_type": "display_data"
    },
    {
     "data": {
      "text/html": [
       "<blockquote>Human resource development is critical to strengthening laboratory systems\n",
       "Promoting a training culture similar to the LRN and leveraging existing APHL domestic and global partnerships for laboratory leadership and management will greatly enhance the capabilities of the biosurveillance workforce\n",
       "'' 20 Nurturing laboratory leadership and management has to be supported for the effective oversight and administration of public health laboratory networks</blockquote>"
      ],
      "text/plain": [
       "<IPython.core.display.HTML object>"
      ]
     },
     "metadata": {},
     "output_type": "display_data"
    },
    {
     "data": {
      "text/html": [
       "<p style='text-align:center'> *** </p>"
      ],
      "text/plain": [
       "<IPython.core.display.HTML object>"
      ]
     },
     "metadata": {},
     "output_type": "display_data"
    },
    {
     "data": {
      "text/html": [
       "<h4 style='text-align:center'>01-01-2014</h4>"
      ],
      "text/plain": [
       "<IPython.core.display.HTML object>"
      ]
     },
     "metadata": {},
     "output_type": "display_data"
    },
    {
     "data": {
      "text/html": [
       "<h3 style='text-align:center'> <a href='https://doi.org/10.1016/j.cca.2013.05.024'> ESTABLISHING BENCHMARKS AND METRICS FOR DISRUPTIVE TECHNOLOGIES, INAPPROPRIATE AND OBSOLETE TESTS IN THE CLINICAL LABORATORY</a></h2>"
      ],
      "text/plain": [
       "<IPython.core.display.HTML object>"
      ]
     },
     "metadata": {},
     "output_type": "display_data"
    },
    {
     "data": {
      "text/html": [
       "<h4 style='text-align:center'> ~ <b>Kiechle, Frederick L.; Arcenas, Rodney C.; Rogers, Linda C.</b></h4>"
      ],
      "text/plain": [
       "<IPython.core.display.HTML object>"
      ]
     },
     "metadata": {},
     "output_type": "display_data"
    },
    {
     "data": {
      "text/html": [
       "<blockquote> Collaboration by subspecialty medical societies in disruptive technology development and improvements in routine clinical laboratory test utilization will be a fertile area for the development of benchmarks and metrics for future laboratory test utilization</blockquote>"
      ],
      "text/plain": [
       "<IPython.core.display.HTML object>"
      ]
     },
     "metadata": {},
     "output_type": "display_data"
    },
    {
     "data": {
      "text/html": [
       "<p style='text-align:center'> *** </p>"
      ],
      "text/plain": [
       "<IPython.core.display.HTML object>"
      ]
     },
     "metadata": {},
     "output_type": "display_data"
    },
    {
     "data": {
      "text/html": [
       "<h4 style='text-align:center'>30-04-2010</h4>"
      ],
      "text/plain": [
       "<IPython.core.display.HTML object>"
      ]
     },
     "metadata": {},
     "output_type": "display_data"
    },
    {
     "data": {
      "text/html": [
       "<h3 style='text-align:center'> <a href='https://doi.org/10.1053/j.jepm.2010.05.006'> FUTURE VETERINARY DIAGNOSTICS</a></h2>"
      ],
      "text/plain": [
       "<IPython.core.display.HTML object>"
      ]
     },
     "metadata": {},
     "output_type": "display_data"
    },
    {
     "data": {
      "text/html": [
       "<h4 style='text-align:center'> ~ <b>Dahlhausen, Bob</b></h4>"
      ],
      "text/plain": [
       "<IPython.core.display.HTML object>"
      ]
     },
     "metadata": {},
     "output_type": "display_data"
    },
    {
     "data": {
      "text/html": [
       "<blockquote>Protein microarray technology has enormous potential for application within the veterinary diagnostic testing arena</blockquote>"
      ],
      "text/plain": [
       "<IPython.core.display.HTML object>"
      ]
     },
     "metadata": {},
     "output_type": "display_data"
    },
    {
     "data": {
      "text/html": [
       "<p style='text-align:center'> *** </p>"
      ],
      "text/plain": [
       "<IPython.core.display.HTML object>"
      ]
     },
     "metadata": {},
     "output_type": "display_data"
    },
    {
     "data": {
      "text/html": [
       "<h4 style='text-align:center'>30-11-2009</h4>"
      ],
      "text/plain": [
       "<IPython.core.display.HTML object>"
      ]
     },
     "metadata": {},
     "output_type": "display_data"
    },
    {
     "data": {
      "text/html": [
       "<h3 style='text-align:center'> <a href='https://doi.org/10.1016/j.dss.2009.04.016'> AUTOMATIC ONLINE NEWS MONITORING AND CLASSIFICATION FOR SYNDROMIC SURVEILLANCE</a></h2>"
      ],
      "text/plain": [
       "<IPython.core.display.HTML object>"
      ]
     },
     "metadata": {},
     "output_type": "display_data"
    },
    {
     "data": {
      "text/html": [
       "<h4 style='text-align:center'> ~ <b>Zhang, Yulei; Dang, Yan; Chen, Hsinchun; Thurmond, Mark; Larson, Cathy</b></h4>"
      ],
      "text/plain": [
       "<IPython.core.display.HTML object>"
      ]
     },
     "metadata": {},
     "output_type": "display_data"
    },
    {
     "data": {
      "text/html": [
       "<blockquote> Thus, the current study provides important guidance and implications for future infectious disease specific classification component development for syndromic surveillance systems</blockquote>"
      ],
      "text/plain": [
       "<IPython.core.display.HTML object>"
      ]
     },
     "metadata": {},
     "output_type": "display_data"
    },
    {
     "data": {
      "text/html": [
       "<p style='text-align:center'> *** </p>"
      ],
      "text/plain": [
       "<IPython.core.display.HTML object>"
      ]
     },
     "metadata": {},
     "output_type": "display_data"
    },
    {
     "data": {
      "text/html": [
       "<h4 style='text-align:center'>27-02-2005</h4>"
      ],
      "text/plain": [
       "<IPython.core.display.HTML object>"
      ]
     },
     "metadata": {},
     "output_type": "display_data"
    },
    {
     "data": {
      "text/html": [
       "<h3 style='text-align:center'> <a href='https://www.ncbi.nlm.nih.gov/pmc/articles/PMC3320438/'> DIAGNOSTIC SYSTEM FOR RAPID AND SENSITIVE DIFFERENTIAL DETECTION OF PATHOGENS</a></h2>"
      ],
      "text/plain": [
       "<IPython.core.display.HTML object>"
      ]
     },
     "metadata": {},
     "output_type": "display_data"
    },
    {
     "data": {
      "text/html": [
       "<h4 style='text-align:center'> ~ <b>Briese, Thomas; Palacios, Gustavo; Kokoris, Mark; Jabado, Omar; Liu, Zhiqiang; Renwick, Neil; Kapoor, Vishal; Casas, Inmaculada; Pozo, Francisco; Limberger, Ron; Perez-Brena, Pilar; Ju, Jingyue; Lipkin, W. Ian</b></h4>"
      ],
      "text/plain": [
       "<IPython.core.display.HTML object>"
      ]
     },
     "metadata": {},
     "output_type": "display_data"
    },
    {
     "data": {
      "text/html": [
       "<blockquote>increasingly important to clinical management and public health</blockquote>"
      ],
      "text/plain": [
       "<IPython.core.display.HTML object>"
      ]
     },
     "metadata": {},
     "output_type": "display_data"
    },
    {
     "data": {
      "text/html": [
       "<p style='text-align:center'> *** </p>"
      ],
      "text/plain": [
       "<IPython.core.display.HTML object>"
      ]
     },
     "metadata": {},
     "output_type": "display_data"
    },
    {
     "data": {
      "text/html": [
       "<h2>7. Efforts to track the evolution of the virus (i.e., genetic drift or mutations) and avoid locking into specific reagents and surveillance/detection schemes. </h2>"
      ],
      "text/plain": [
       "<IPython.core.display.HTML object>"
      ]
     },
     "metadata": {},
     "output_type": "display_data"
    },
    {
     "data": {
      "text/html": [
       "<h4 style='text-align:center'>16-08-2017</h4>"
      ],
      "text/plain": [
       "<IPython.core.display.HTML object>"
      ]
     },
     "metadata": {},
     "output_type": "display_data"
    },
    {
     "data": {
      "text/html": [
       "<h3 style='text-align:center'> <a href='https://doi.org/10.1016/j.vaccine.2017.02.069'> PLATFORM TECHNOLOGIES FOR MODERN VACCINE MANUFACTURING</a></h2>"
      ],
      "text/plain": [
       "<IPython.core.display.HTML object>"
      ]
     },
     "metadata": {},
     "output_type": "display_data"
    },
    {
     "data": {
      "text/html": [
       "<h4 style='text-align:center'> ~ <b>Charlton Hume, Hayley K.; Lua, Linda H.L.</b></h4>"
      ],
      "text/plain": [
       "<IPython.core.display.HTML object>"
      ]
     },
     "metadata": {},
     "output_type": "display_data"
    },
    {
     "data": {
      "text/html": [
       "<blockquote> Permanent and regular module display is afforded through genetic fusion, eliminating downstream processing yet insertion sites for modulesTarget epitope Target pathogen + Bacteria Parasite Virus-like particle Virus Liposome Fig</blockquote>"
      ],
      "text/plain": [
       "<IPython.core.display.HTML object>"
      ]
     },
     "metadata": {},
     "output_type": "display_data"
    },
    {
     "data": {
      "text/html": [
       "<p style='text-align:center'> *** </p>"
      ],
      "text/plain": [
       "<IPython.core.display.HTML object>"
      ]
     },
     "metadata": {},
     "output_type": "display_data"
    },
    {
     "data": {
      "text/html": [
       "<h4 style='text-align:center'>14-11-2011</h4>"
      ],
      "text/plain": [
       "<IPython.core.display.HTML object>"
      ]
     },
     "metadata": {},
     "output_type": "display_data"
    },
    {
     "data": {
      "text/html": [
       "<h3 style='text-align:center'> <a href='https://www.ncbi.nlm.nih.gov/pmc/articles/PMC3233444/'> APPLICATIONS OF NEXT-GENERATION SEQUENCING TECHNOLOGIES TO DIAGNOSTIC VIROLOGY</a></h2>"
      ],
      "text/plain": [
       "<IPython.core.display.HTML object>"
      ]
     },
     "metadata": {},
     "output_type": "display_data"
    },
    {
     "data": {
      "text/html": [
       "<h4 style='text-align:center'> ~ <b>Barzon, Luisa; Lavezzo, Enrico; Militello, Valentina; Toppo, Stefano; Palù, Giorgio</b></h4>"
      ],
      "text/plain": [
       "<IPython.core.display.HTML object>"
      ]
     },
     "metadata": {},
     "output_type": "display_data"
    },
    {
     "data": {
      "text/html": [
       "<blockquote>Deep sequencing showed also variability of herpes simplex virus 1 (HSV-1) genome and allowed to demonstrate virulence genes\n",
       " Coreceptor usage can be screened using phenotypic coreceptor tropism assays, based on recombinant virus technology, or genotypic tests, based on sequencing of the V3 loop of HIV env gene [117] \n",
       "Several studies that employed 454 pyrosequencing for deep analysis of mutations in HIV protease and reverse transcriptase genes demonstrated the accuracy of this technique in detecting all drug-resistance mutations identified by population sequencing, and the ability to detect low-frequency mutations undetectable by population sequencing [100, 102, 103] \n",
       " Deep sequencing was used to analyze lots of oral poliovirus vaccine and the detected neurovirulence mutations were identical to the mutation detected with the standard method based on PCR and restriction enzyme cleavage [132] </blockquote>"
      ],
      "text/plain": [
       "<IPython.core.display.HTML object>"
      ]
     },
     "metadata": {},
     "output_type": "display_data"
    },
    {
     "data": {
      "text/html": [
       "<p style='text-align:center'> *** </p>"
      ],
      "text/plain": [
       "<IPython.core.display.HTML object>"
      ]
     },
     "metadata": {},
     "output_type": "display_data"
    },
    {
     "data": {
      "text/html": [
       "<h4 style='text-align:center'>30-04-2010</h4>"
      ],
      "text/plain": [
       "<IPython.core.display.HTML object>"
      ]
     },
     "metadata": {},
     "output_type": "display_data"
    },
    {
     "data": {
      "text/html": [
       "<h3 style='text-align:center'> <a href='https://doi.org/10.1053/j.jepm.2010.05.006'> FUTURE VETERINARY DIAGNOSTICS</a></h2>"
      ],
      "text/plain": [
       "<IPython.core.display.HTML object>"
      ]
     },
     "metadata": {},
     "output_type": "display_data"
    },
    {
     "data": {
      "text/html": [
       "<h4 style='text-align:center'> ~ <b>Dahlhausen, Bob</b></h4>"
      ],
      "text/plain": [
       "<IPython.core.display.HTML object>"
      ]
     },
     "metadata": {},
     "output_type": "display_data"
    },
    {
     "data": {
      "text/html": [
       "<blockquote> Microarray hybridization is a viable approach for detecting unsequenced or uncharacterized viruses and novel virus discovery\n",
       " DNA microarrays have been used for the detection of infectious and genetic disease, cancer diagnostics, and forensic and genetic identification purposes\n",
       "Scientific advancements over the previous 2 decades have enabled the sensitive detection and characterization of bacterial and viral nucleic acids\n",
       " This assay-based testing can be extended to include the detection and characterization of genes or mutations associated with antimicrobial resistance and virulence\n",
       " Protein microarrays have been developed for the detection of allergen-specific immunoglobulin E reactivity and detection of specific auto antibodies associated with autoimmune diseases</blockquote>"
      ],
      "text/plain": [
       "<IPython.core.display.HTML object>"
      ]
     },
     "metadata": {},
     "output_type": "display_data"
    },
    {
     "data": {
      "text/html": [
       "<p style='text-align:center'> *** </p>"
      ],
      "text/plain": [
       "<IPython.core.display.HTML object>"
      ]
     },
     "metadata": {},
     "output_type": "display_data"
    },
    {
     "data": {
      "text/html": [
       "<h2>8. Latency issues and when there is sufficient viral load to detect the pathogen, and understanding of what is needed in terms of biological and environmental sampling. </h2>"
      ],
      "text/plain": [
       "<IPython.core.display.HTML object>"
      ]
     },
     "metadata": {},
     "output_type": "display_data"
    },
    {
     "data": {
      "text/html": [
       "<h4 style='text-align:center'>16-08-2017</h4>"
      ],
      "text/plain": [
       "<IPython.core.display.HTML object>"
      ]
     },
     "metadata": {},
     "output_type": "display_data"
    },
    {
     "data": {
      "text/html": [
       "<h3 style='text-align:center'> <a href='https://doi.org/10.1016/j.vaccine.2017.02.069'> PLATFORM TECHNOLOGIES FOR MODERN VACCINE MANUFACTURING</a></h2>"
      ],
      "text/plain": [
       "<IPython.core.display.HTML object>"
      ]
     },
     "metadata": {},
     "output_type": "display_data"
    },
    {
     "data": {
      "text/html": [
       "<h4 style='text-align:center'> ~ <b>Charlton Hume, Hayley K.; Lua, Linda H.L.</b></h4>"
      ],
      "text/plain": [
       "<IPython.core.display.HTML object>"
      ]
     },
     "metadata": {},
     "output_type": "display_data"
    },
    {
     "data": {
      "text/html": [
       "<blockquote> Permanent and regular module display is afforded through genetic fusion, eliminating downstream processing yet insertion sites for modulesTarget epitope Target pathogen + Bacteria Parasite Virus-like particle Virus Liposome Fig</blockquote>"
      ],
      "text/plain": [
       "<IPython.core.display.HTML object>"
      ]
     },
     "metadata": {},
     "output_type": "display_data"
    },
    {
     "data": {
      "text/html": [
       "<p style='text-align:center'> *** </p>"
      ],
      "text/plain": [
       "<IPython.core.display.HTML object>"
      ]
     },
     "metadata": {},
     "output_type": "display_data"
    },
    {
     "data": {
      "text/html": [
       "<h4 style='text-align:center'>25-01-2017</h4>"
      ],
      "text/plain": [
       "<IPython.core.display.HTML object>"
      ]
     },
     "metadata": {},
     "output_type": "display_data"
    },
    {
     "data": {
      "text/html": [
       "<h3 style='text-align:center'> <a href='https://www.ncbi.nlm.nih.gov/pmc/articles/PMC5263158/'> XMAP TECHNOLOGY: APPLICATIONS IN DETECTION OF PATHOGENS</a></h2>"
      ],
      "text/plain": [
       "<IPython.core.display.HTML object>"
      ]
     },
     "metadata": {},
     "output_type": "display_data"
    },
    {
     "data": {
      "text/html": [
       "<h4 style='text-align:center'> ~ <b>Reslova, Nikol; Michna, Veronika; Kasny, Martin; Mikel, Pavel; Kralik, Petr</b></h4>"
      ],
      "text/plain": [
       "<IPython.core.display.HTML object>"
      ]
     },
     "metadata": {},
     "output_type": "display_data"
    },
    {
     "data": {
      "text/html": [
       "<blockquote> For detection of gastrointestinal pathogens xTAG R Gastrointestinal Pathogen Panel -GPP is commercially available [multiplex detection of various viral, bacterial and parasitic nucleic acids in human stool samples (Beckmann et al\n",
       " Majority of xMAP applications for the multiplex detection and identification of fungal pathogens are based on the capture of fungal nucleic acid by DDH assays</blockquote>"
      ],
      "text/plain": [
       "<IPython.core.display.HTML object>"
      ]
     },
     "metadata": {},
     "output_type": "display_data"
    },
    {
     "data": {
      "text/html": [
       "<p style='text-align:center'> *** </p>"
      ],
      "text/plain": [
       "<IPython.core.display.HTML object>"
      ]
     },
     "metadata": {},
     "output_type": "display_data"
    },
    {
     "data": {
      "text/html": [
       "<h4 style='text-align:center'>30-04-2010</h4>"
      ],
      "text/plain": [
       "<IPython.core.display.HTML object>"
      ]
     },
     "metadata": {},
     "output_type": "display_data"
    },
    {
     "data": {
      "text/html": [
       "<h3 style='text-align:center'> <a href='https://doi.org/10.1053/j.jepm.2010.05.006'> FUTURE VETERINARY DIAGNOSTICS</a></h2>"
      ],
      "text/plain": [
       "<IPython.core.display.HTML object>"
      ]
     },
     "metadata": {},
     "output_type": "display_data"
    },
    {
     "data": {
      "text/html": [
       "<h4 style='text-align:center'> ~ <b>Dahlhausen, Bob</b></h4>"
      ],
      "text/plain": [
       "<IPython.core.display.HTML object>"
      ]
     },
     "metadata": {},
     "output_type": "display_data"
    },
    {
     "data": {
      "text/html": [
       "<blockquote> Protein microarray technology has enormous potential for in vitro diagnostics and disease monitoring\n",
       " 1 Classical pathogen detection and identification are based on culture methodology, biochemical tests, and microscopy</blockquote>"
      ],
      "text/plain": [
       "<IPython.core.display.HTML object>"
      ]
     },
     "metadata": {},
     "output_type": "display_data"
    },
    {
     "data": {
      "text/html": [
       "<p style='text-align:center'> *** </p>"
      ],
      "text/plain": [
       "<IPython.core.display.HTML object>"
      ]
     },
     "metadata": {},
     "output_type": "display_data"
    },
    {
     "data": {
      "text/html": [
       "<h4 style='text-align:center'>27-02-2005</h4>"
      ],
      "text/plain": [
       "<IPython.core.display.HTML object>"
      ]
     },
     "metadata": {},
     "output_type": "display_data"
    },
    {
     "data": {
      "text/html": [
       "<h3 style='text-align:center'> <a href='https://www.ncbi.nlm.nih.gov/pmc/articles/PMC3320438/'> DIAGNOSTIC SYSTEM FOR RAPID AND SENSITIVE DIFFERENTIAL DETECTION OF PATHOGENS</a></h2>"
      ],
      "text/plain": [
       "<IPython.core.display.HTML object>"
      ]
     },
     "metadata": {},
     "output_type": "display_data"
    },
    {
     "data": {
      "text/html": [
       "<h4 style='text-align:center'> ~ <b>Briese, Thomas; Palacios, Gustavo; Kokoris, Mark; Jabado, Omar; Liu, Zhiqiang; Renwick, Neil; Kapoor, Vishal; Casas, Inmaculada; Pozo, Francisco; Limberger, Ron; Perez-Brena, Pilar; Ju, Jingyue; Lipkin, W. Ian</b></h4>"
      ],
      "text/plain": [
       "<IPython.core.display.HTML object>"
      ]
     },
     "metadata": {},
     "output_type": "display_data"
    },
    {
     "data": {
      "text/html": [
       "<blockquote> We describe a diagnostic system for rapid, sensitive, multiplex discrimination of microbial gene sequences and report its application for detecting 22 respiratory pathogens in clinical samples\n",
       " Methods to directly detect nucleic acids of microbial pathogens in clinical specimens are rapid, sensitive, and may succeed when culturing the organism fails</blockquote>"
      ],
      "text/plain": [
       "<IPython.core.display.HTML object>"
      ]
     },
     "metadata": {},
     "output_type": "display_data"
    },
    {
     "data": {
      "text/html": [
       "<p style='text-align:center'> *** </p>"
      ],
      "text/plain": [
       "<IPython.core.display.HTML object>"
      ]
     },
     "metadata": {},
     "output_type": "display_data"
    },
    {
     "data": {
      "text/html": [
       "<h2>9. Use of diagnostics such as host response markers (e.g., cytokines) to detect early disease or predict severe disease progression, which would be important to understanding best clinical practice and efficacy of therapeutic interventions. </h2>"
      ],
      "text/plain": [
       "<IPython.core.display.HTML object>"
      ]
     },
     "metadata": {},
     "output_type": "display_data"
    },
    {
     "data": {
      "text/html": [
       "<h4 style='text-align:center'>30-04-2010</h4>"
      ],
      "text/plain": [
       "<IPython.core.display.HTML object>"
      ]
     },
     "metadata": {},
     "output_type": "display_data"
    },
    {
     "data": {
      "text/html": [
       "<h3 style='text-align:center'> <a href='https://doi.org/10.1053/j.jepm.2010.05.006'> FUTURE VETERINARY DIAGNOSTICS</a></h2>"
      ],
      "text/plain": [
       "<IPython.core.display.HTML object>"
      ]
     },
     "metadata": {},
     "output_type": "display_data"
    },
    {
     "data": {
      "text/html": [
       "<h4 style='text-align:center'> ~ <b>Dahlhausen, Bob</b></h4>"
      ],
      "text/plain": [
       "<IPython.core.display.HTML object>"
      ]
     },
     "metadata": {},
     "output_type": "display_data"
    },
    {
     "data": {
      "text/html": [
       "<blockquote> 82 Biosensors can detect these changes and can analyze molecular biomarkers for tumor diagnosis and classification, monitor response to treatment, and detect recurrence of the disease\n",
       " 20 Innovative strategies using biomarkers represent alternative strategies for reliable cancer testing and for detecting clinical markers predictive of cardiovascular and other diseases\n",
       "In protein expression analysis, proteins or biomarkers from complex biological samples are identified and correlated with diagnostic patterns that are unique to specific cancer and disease conditions\n",
       " Protein microarrays have been developed for the detection of allergen-specific immunoglobulin E reactivity and detection of specific auto antibodies associated with autoimmune diseases\n",
       " 20 Prostatespecific antigen is the most reliable tumor marker to detect prostate cancer in its early stages\n",
       " Protein microarray technology has enormous potential for in vitro diagnostics and disease monitoring\n",
       " Immunoassay panels have been developed for fertility, cardiac disease, tumors, cytokines and growth factors, cell adhesion molecules, thyroid function, and drug residues\n",
       " 50 SNP technology has been diversely applied in areas such as analyzing forensics, measuring disease predisposition, evaluating germ line mutations in individuals and somatic mutations in neoplasias, diagnosing infectious and genetic disease, and diagnosing cancer\n",
       " 76, 77 Clinical application of biomarkers in the future includes the detection of subclinical diseases, diagnosis of acute or chronic syndromes, risk determination, therapy selection, and monitoring of disease progression or response to treatment</blockquote>"
      ],
      "text/plain": [
       "<IPython.core.display.HTML object>"
      ]
     },
     "metadata": {},
     "output_type": "display_data"
    },
    {
     "data": {
      "text/html": [
       "<p style='text-align:center'> *** </p>"
      ],
      "text/plain": [
       "<IPython.core.display.HTML object>"
      ]
     },
     "metadata": {},
     "output_type": "display_data"
    },
    {
     "data": {
      "text/html": [
       "<h4 style='text-align:center'>27-02-2005</h4>"
      ],
      "text/plain": [
       "<IPython.core.display.HTML object>"
      ]
     },
     "metadata": {},
     "output_type": "display_data"
    },
    {
     "data": {
      "text/html": [
       "<h3 style='text-align:center'> <a href='https://www.ncbi.nlm.nih.gov/pmc/articles/PMC3320438/'> DIAGNOSTIC SYSTEM FOR RAPID AND SENSITIVE DIFFERENTIAL DETECTION OF PATHOGENS</a></h2>"
      ],
      "text/plain": [
       "<IPython.core.display.HTML object>"
      ]
     },
     "metadata": {},
     "output_type": "display_data"
    },
    {
     "data": {
      "text/html": [
       "<h4 style='text-align:center'> ~ <b>Briese, Thomas; Palacios, Gustavo; Kokoris, Mark; Jabado, Omar; Liu, Zhiqiang; Renwick, Neil; Kapoor, Vishal; Casas, Inmaculada; Pozo, Francisco; Limberger, Ron; Perez-Brena, Pilar; Ju, Jingyue; Lipkin, W. Ian</b></h4>"
      ],
      "text/plain": [
       "<IPython.core.display.HTML object>"
      ]
     },
     "metadata": {},
     "output_type": "display_data"
    },
    {
     "data": {
      "text/html": [
       "<blockquote> We describe a diagnostic system for rapid, sensitive, multiplex discrimination of microbial gene sequences and report its application for detecting 22 respiratory pathogens in clinical samples</blockquote>"
      ],
      "text/plain": [
       "<IPython.core.display.HTML object>"
      ]
     },
     "metadata": {},
     "output_type": "display_data"
    },
    {
     "data": {
      "text/html": [
       "<p style='text-align:center'> *** </p>"
      ],
      "text/plain": [
       "<IPython.core.display.HTML object>"
      ]
     },
     "metadata": {},
     "output_type": "display_data"
    },
    {
     "data": {
      "text/html": [
       "<h2>10. Policies and protocols for screening and testing. </h2>"
      ],
      "text/plain": [
       "<IPython.core.display.HTML object>"
      ]
     },
     "metadata": {},
     "output_type": "display_data"
    },
    {
     "data": {
      "text/html": [
       "<h4 style='text-align:center'>01-01-2014</h4>"
      ],
      "text/plain": [
       "<IPython.core.display.HTML object>"
      ]
     },
     "metadata": {},
     "output_type": "display_data"
    },
    {
     "data": {
      "text/html": [
       "<h3 style='text-align:center'> <a href='https://doi.org/10.1016/j.cca.2013.05.024'> ESTABLISHING BENCHMARKS AND METRICS FOR DISRUPTIVE TECHNOLOGIES, INAPPROPRIATE AND OBSOLETE TESTS IN THE CLINICAL LABORATORY</a></h2>"
      ],
      "text/plain": [
       "<IPython.core.display.HTML object>"
      ]
     },
     "metadata": {},
     "output_type": "display_data"
    },
    {
     "data": {
      "text/html": [
       "<h4 style='text-align:center'> ~ <b>Kiechle, Frederick L.; Arcenas, Rodney C.; Rogers, Linda C.</b></h4>"
      ],
      "text/plain": [
       "<IPython.core.display.HTML object>"
      ]
     },
     "metadata": {},
     "output_type": "display_data"
    },
    {
     "data": {
      "text/html": [
       "<blockquote> The current recommendation for diagnostic testing involves a two-tiered algorithmic approach involving antibody testing [68] \n",
       " Obsolete tests in the microbiology laboratory include bacterial antigen detection tests, Group B Streptococcus antigen (GBS) testing and HIV-1 Western blot</blockquote>"
      ],
      "text/plain": [
       "<IPython.core.display.HTML object>"
      ]
     },
     "metadata": {},
     "output_type": "display_data"
    },
    {
     "data": {
      "text/html": [
       "<p style='text-align:center'> *** </p>"
      ],
      "text/plain": [
       "<IPython.core.display.HTML object>"
      ]
     },
     "metadata": {},
     "output_type": "display_data"
    },
    {
     "data": {
      "text/html": [
       "<h4 style='text-align:center'>14-11-2011</h4>"
      ],
      "text/plain": [
       "<IPython.core.display.HTML object>"
      ]
     },
     "metadata": {},
     "output_type": "display_data"
    },
    {
     "data": {
      "text/html": [
       "<h3 style='text-align:center'> <a href='https://www.ncbi.nlm.nih.gov/pmc/articles/PMC3233444/'> APPLICATIONS OF NEXT-GENERATION SEQUENCING TECHNOLOGIES TO DIAGNOSTIC VIROLOGY</a></h2>"
      ],
      "text/plain": [
       "<IPython.core.display.HTML object>"
      ]
     },
     "metadata": {},
     "output_type": "display_data"
    },
    {
     "data": {
      "text/html": [
       "<h4 style='text-align:center'> ~ <b>Barzon, Luisa; Lavezzo, Enrico; Militello, Valentina; Toppo, Stefano; Palù, Giorgio</b></h4>"
      ],
      "text/plain": [
       "<IPython.core.display.HTML object>"
      ]
     },
     "metadata": {},
     "output_type": "display_data"
    },
    {
     "data": {
      "text/html": [
       "<blockquote> High throughput deep sequencing methods have been proposed as tools for monitoring genetic consistency of live viral vaccines</blockquote>"
      ],
      "text/plain": [
       "<IPython.core.display.HTML object>"
      ]
     },
     "metadata": {},
     "output_type": "display_data"
    },
    {
     "data": {
      "text/html": [
       "<p style='text-align:center'> *** </p>"
      ],
      "text/plain": [
       "<IPython.core.display.HTML object>"
      ]
     },
     "metadata": {},
     "output_type": "display_data"
    },
    {
     "data": {
      "text/html": [
       "<h4 style='text-align:center'>30-04-2010</h4>"
      ],
      "text/plain": [
       "<IPython.core.display.HTML object>"
      ]
     },
     "metadata": {},
     "output_type": "display_data"
    },
    {
     "data": {
      "text/html": [
       "<h3 style='text-align:center'> <a href='https://doi.org/10.1053/j.jepm.2010.05.006'> FUTURE VETERINARY DIAGNOSTICS</a></h2>"
      ],
      "text/plain": [
       "<IPython.core.display.HTML object>"
      ]
     },
     "metadata": {},
     "output_type": "display_data"
    },
    {
     "data": {
      "text/html": [
       "<h4 style='text-align:center'> ~ <b>Dahlhausen, Bob</b></h4>"
      ],
      "text/plain": [
       "<IPython.core.display.HTML object>"
      ]
     },
     "metadata": {},
     "output_type": "display_data"
    },
    {
     "data": {
      "text/html": [
       "<blockquote> The integration of DNA and protein-based microarray methods may extend the range of rapid clinical diagnostic testing\n",
       "Protein microarray technology has enormous potential for application within the veterinary diagnostic testing arena\n",
       " Most laboratories offering nucleic amplification tests (NAT)-based diagnostics use methods developed inhouse or those adapted from research publications\n",
       " This comprehensive and unbiased analysis of viral prevalence in a given biological sample also increases the feasibility of introducing molecular testing for viruses that are easily detected using classical diagnostic testing methods\n",
       " 20 Innovative strategies using biomarkers represent alternative strategies for reliable cancer testing and for detecting clinical markers predictive of cardiovascular and other diseases\n",
       "Nucleic amplification technologies will continue to be a benchmark for pathogen detection in veterinary diagnostics\n",
       "For the veterinary clinical laboratory, commercially standardized assays are not readily available</blockquote>"
      ],
      "text/plain": [
       "<IPython.core.display.HTML object>"
      ]
     },
     "metadata": {},
     "output_type": "display_data"
    },
    {
     "data": {
      "text/html": [
       "<p style='text-align:center'> *** </p>"
      ],
      "text/plain": [
       "<IPython.core.display.HTML object>"
      ]
     },
     "metadata": {},
     "output_type": "display_data"
    },
    {
     "data": {
      "text/html": [
       "<h2>11. Policies to mitigate the effects on supplies associated with mass testing, including swabs and reagents. </h2>"
      ],
      "text/plain": [
       "<IPython.core.display.HTML object>"
      ]
     },
     "metadata": {},
     "output_type": "display_data"
    },
    {
     "data": {
      "text/html": [
       "<h4 style='text-align:center'>01-01-2014</h4>"
      ],
      "text/plain": [
       "<IPython.core.display.HTML object>"
      ]
     },
     "metadata": {},
     "output_type": "display_data"
    },
    {
     "data": {
      "text/html": [
       "<h3 style='text-align:center'> <a href='https://doi.org/10.1016/j.cca.2013.05.024'> ESTABLISHING BENCHMARKS AND METRICS FOR DISRUPTIVE TECHNOLOGIES, INAPPROPRIATE AND OBSOLETE TESTS IN THE CLINICAL LABORATORY</a></h2>"
      ],
      "text/plain": [
       "<IPython.core.display.HTML object>"
      ]
     },
     "metadata": {},
     "output_type": "display_data"
    },
    {
     "data": {
      "text/html": [
       "<h4 style='text-align:center'> ~ <b>Kiechle, Frederick L.; Arcenas, Rodney C.; Rogers, Linda C.</b></h4>"
      ],
      "text/plain": [
       "<IPython.core.display.HTML object>"
      ]
     },
     "metadata": {},
     "output_type": "display_data"
    },
    {
     "data": {
      "text/html": [
       "<blockquote> Obsolete tests in the microbiology laboratory include bacterial antigen detection tests, Group B Streptococcus antigen (GBS) testing and HIV-1 Western blot\n",
       "Bacterial antigen detection tests should be considered obsolete</blockquote>"
      ],
      "text/plain": [
       "<IPython.core.display.HTML object>"
      ]
     },
     "metadata": {},
     "output_type": "display_data"
    },
    {
     "data": {
      "text/html": [
       "<p style='text-align:center'> *** </p>"
      ],
      "text/plain": [
       "<IPython.core.display.HTML object>"
      ]
     },
     "metadata": {},
     "output_type": "display_data"
    },
    {
     "data": {
      "text/html": [
       "<h4 style='text-align:center'>30-04-2010</h4>"
      ],
      "text/plain": [
       "<IPython.core.display.HTML object>"
      ]
     },
     "metadata": {},
     "output_type": "display_data"
    },
    {
     "data": {
      "text/html": [
       "<h3 style='text-align:center'> <a href='https://doi.org/10.1053/j.jepm.2010.05.006'> FUTURE VETERINARY DIAGNOSTICS</a></h2>"
      ],
      "text/plain": [
       "<IPython.core.display.HTML object>"
      ]
     },
     "metadata": {},
     "output_type": "display_data"
    },
    {
     "data": {
      "text/html": [
       "<h4 style='text-align:center'> ~ <b>Dahlhausen, Bob</b></h4>"
      ],
      "text/plain": [
       "<IPython.core.display.HTML object>"
      ]
     },
     "metadata": {},
     "output_type": "display_data"
    },
    {
     "data": {
      "text/html": [
       "<blockquote> Testing kits that use this technology are commercially available for detecting Salmonella spp\n",
       "Nucleic amplification technologies will continue to be a benchmark for pathogen detection in veterinary diagnostics\n",
       "For the veterinary clinical laboratory, commercially standardized assays are not readily available\n",
       "Many amplification methods, including PCR, ligase chain reaction, NASBA, and strand displacement amplification, are used in commercially available diagnostic test kits\n",
       " Biosensors using antibodies or DNA/RNA strands can detect infectious disease agents and be used for hormone and drug assays\n",
       " Most laboratories offering nucleic amplification tests (NAT)-based diagnostics use methods developed inhouse or those adapted from research publications\n",
       " 65 Protein microarrays offer unparalleled throughput, minimal reagent consumption, and sensitive simultaneous detection of multiple targets</blockquote>"
      ],
      "text/plain": [
       "<IPython.core.display.HTML object>"
      ]
     },
     "metadata": {},
     "output_type": "display_data"
    },
    {
     "data": {
      "text/html": [
       "<p style='text-align:center'> *** </p>"
      ],
      "text/plain": [
       "<IPython.core.display.HTML object>"
      ]
     },
     "metadata": {},
     "output_type": "display_data"
    },
    {
     "data": {
      "text/html": [
       "<h4 style='text-align:center'>27-02-2005</h4>"
      ],
      "text/plain": [
       "<IPython.core.display.HTML object>"
      ]
     },
     "metadata": {},
     "output_type": "display_data"
    },
    {
     "data": {
      "text/html": [
       "<h3 style='text-align:center'> <a href='https://www.ncbi.nlm.nih.gov/pmc/articles/PMC3320438/'> DIAGNOSTIC SYSTEM FOR RAPID AND SENSITIVE DIFFERENTIAL DETECTION OF PATHOGENS</a></h2>"
      ],
      "text/plain": [
       "<IPython.core.display.HTML object>"
      ]
     },
     "metadata": {},
     "output_type": "display_data"
    },
    {
     "data": {
      "text/html": [
       "<h4 style='text-align:center'> ~ <b>Briese, Thomas; Palacios, Gustavo; Kokoris, Mark; Jabado, Omar; Liu, Zhiqiang; Renwick, Neil; Kapoor, Vishal; Casas, Inmaculada; Pozo, Francisco; Limberger, Ron; Perez-Brena, Pilar; Ju, Jingyue; Lipkin, W. Ian</b></h4>"
      ],
      "text/plain": [
       "<IPython.core.display.HTML object>"
      ]
     },
     "metadata": {},
     "output_type": "display_data"
    },
    {
     "data": {
      "text/html": [
       "<blockquote> Methods to directly detect nucleic acids of microbial pathogens in clinical specimens are rapid, sensitive, and may succeed when culturing the organism fails</blockquote>"
      ],
      "text/plain": [
       "<IPython.core.display.HTML object>"
      ]
     },
     "metadata": {},
     "output_type": "display_data"
    },
    {
     "data": {
      "text/html": [
       "<p style='text-align:center'> *** </p>"
      ],
      "text/plain": [
       "<IPython.core.display.HTML object>"
      ]
     },
     "metadata": {},
     "output_type": "display_data"
    },
    {
     "data": {
      "text/html": [
       "<h2>12. Technology roadmap for diagnostics. </h2>"
      ],
      "text/plain": [
       "<IPython.core.display.HTML object>"
      ]
     },
     "metadata": {},
     "output_type": "display_data"
    },
    {
     "data": {
      "text/html": [
       "<h4 style='text-align:center'>15-02-2020</h4>"
      ],
      "text/plain": [
       "<IPython.core.display.HTML object>"
      ]
     },
     "metadata": {},
     "output_type": "display_data"
    },
    {
     "data": {
      "text/html": [
       "<h3 style='text-align:center'> <a href='https://doi.org/10.1016/j.hlpt.2020.02.005'> ASSESSING FACTORS CRITICAL TO SMART TECHNOLOGY APPLICATIONS TO MOBILE HEALTH CARE − THE FGM-FAHP APPROACH</a></h2>"
      ],
      "text/plain": [
       "<IPython.core.display.HTML object>"
      ]
     },
     "metadata": {},
     "output_type": "display_data"
    },
    {
     "data": {
      "text/html": [
       "<h4 style='text-align:center'> ~ <b>Chen, Toly</b></h4>"
      ],
      "text/plain": [
       "<IPython.core.display.HTML object>"
      ]
     },
     "metadata": {},
     "output_type": "display_data"
    },
    {
     "data": {
      "text/html": [
       "<blockquote> These smart health monitoring systems automate patient monitoring tasks and facilitate workflow management</blockquote>"
      ],
      "text/plain": [
       "<IPython.core.display.HTML object>"
      ]
     },
     "metadata": {},
     "output_type": "display_data"
    },
    {
     "data": {
      "text/html": [
       "<p style='text-align:center'> *** </p>"
      ],
      "text/plain": [
       "<IPython.core.display.HTML object>"
      ]
     },
     "metadata": {},
     "output_type": "display_data"
    },
    {
     "data": {
      "text/html": [
       "<h4 style='text-align:center'>27-12-2017</h4>"
      ],
      "text/plain": [
       "<IPython.core.display.HTML object>"
      ]
     },
     "metadata": {},
     "output_type": "display_data"
    },
    {
     "data": {
      "text/html": [
       "<h3 style='text-align:center'> <a href='https://www.ncbi.nlm.nih.gov/pmc/articles/PMC5711298/'> ESTABLISHMENT OF CDC GLOBAL RAPID RESPONSE TEAM TO ENSURE GLOBAL HEALTH SECURITY</a></h2>"
      ],
      "text/plain": [
       "<IPython.core.display.HTML object>"
      ]
     },
     "metadata": {},
     "output_type": "display_data"
    },
    {
     "data": {
      "text/html": [
       "<h4 style='text-align:center'> ~ <b>Stehling-Ariza, Tasha; Lefevre, Adrienne; Calles, Dinorah; Djawe, Kpandja; Garfield, Richard; Gerber, Michael; Ghiselli, Margherita; Giese, Coralie; Greiner, Ashley L.; Hoffman, Adela; Miller, Leigh Ann; Moorhouse, Lisa; Navarro-Colorado, Carlos; Walsh, James; Bugli, Dante; Shahpar, Cyrus</b></h4>"
      ],
      "text/plain": [
       "<IPython.core.display.HTML object>"
      ]
     },
     "metadata": {},
     "output_type": "display_data"
    },
    {
     "data": {
      "text/html": [
       "<blockquote> Laboratorians strengthened Zika virus testing capacity and improved existing diagnostic tools</blockquote>"
      ],
      "text/plain": [
       "<IPython.core.display.HTML object>"
      ]
     },
     "metadata": {},
     "output_type": "display_data"
    },
    {
     "data": {
      "text/html": [
       "<p style='text-align:center'> *** </p>"
      ],
      "text/plain": [
       "<IPython.core.display.HTML object>"
      ]
     },
     "metadata": {},
     "output_type": "display_data"
    },
    {
     "data": {
      "text/html": [
       "<h4 style='text-align:center'>01-09-2014</h4>"
      ],
      "text/plain": [
       "<IPython.core.display.HTML object>"
      ]
     },
     "metadata": {},
     "output_type": "display_data"
    },
    {
     "data": {
      "text/html": [
       "<h3 style='text-align:center'> <a href='http://europepmc.org/articles/pmc4171117?pdf=render'> LEVERAGING THE LABORATORY RESPONSE NETWORK MODEL FOR THE GLOBAL HEALTH SECURITY AGENDA</a></h2>"
      ],
      "text/plain": [
       "<IPython.core.display.HTML object>"
      ]
     },
     "metadata": {},
     "output_type": "display_data"
    },
    {
     "data": {
      "text/html": [
       "<h4 style='text-align:center'> ~ <b>Mangal, Chris N.; Maryogo-Robinson, Lucy</b></h4>"
      ],
      "text/plain": [
       "<IPython.core.display.HTML object>"
      ]
     },
     "metadata": {},
     "output_type": "display_data"
    },
    {
     "data": {
      "text/html": [
       "<blockquote> Develop and deploy novel diagnostics and strengthen laboratory systems</blockquote>"
      ],
      "text/plain": [
       "<IPython.core.display.HTML object>"
      ]
     },
     "metadata": {},
     "output_type": "display_data"
    },
    {
     "data": {
      "text/html": [
       "<p style='text-align:center'> *** </p>"
      ],
      "text/plain": [
       "<IPython.core.display.HTML object>"
      ]
     },
     "metadata": {},
     "output_type": "display_data"
    },
    {
     "data": {
      "text/html": [
       "<h4 style='text-align:center'>01-01-2014</h4>"
      ],
      "text/plain": [
       "<IPython.core.display.HTML object>"
      ]
     },
     "metadata": {},
     "output_type": "display_data"
    },
    {
     "data": {
      "text/html": [
       "<h3 style='text-align:center'> <a href='https://doi.org/10.1016/j.cca.2013.05.024'> ESTABLISHING BENCHMARKS AND METRICS FOR DISRUPTIVE TECHNOLOGIES, INAPPROPRIATE AND OBSOLETE TESTS IN THE CLINICAL LABORATORY</a></h2>"
      ],
      "text/plain": [
       "<IPython.core.display.HTML object>"
      ]
     },
     "metadata": {},
     "output_type": "display_data"
    },
    {
     "data": {
      "text/html": [
       "<h4 style='text-align:center'> ~ <b>Kiechle, Frederick L.; Arcenas, Rodney C.; Rogers, Linda C.</b></h4>"
      ],
      "text/plain": [
       "<IPython.core.display.HTML object>"
      ]
     },
     "metadata": {},
     "output_type": "display_data"
    },
    {
     "data": {
      "text/html": [
       "<blockquote> Collaboration by subspecialty medical societies in disruptive technology development and improvements in routine clinical laboratory test utilization will be a fertile area for the development of benchmarks and metrics for future laboratory test utilization</blockquote>"
      ],
      "text/plain": [
       "<IPython.core.display.HTML object>"
      ]
     },
     "metadata": {},
     "output_type": "display_data"
    },
    {
     "data": {
      "text/html": [
       "<p style='text-align:center'> *** </p>"
      ],
      "text/plain": [
       "<IPython.core.display.HTML object>"
      ]
     },
     "metadata": {},
     "output_type": "display_data"
    },
    {
     "data": {
      "text/html": [
       "<h4 style='text-align:center'>11-05-2012</h4>"
      ],
      "text/plain": [
       "<IPython.core.display.HTML object>"
      ]
     },
     "metadata": {},
     "output_type": "display_data"
    },
    {
     "data": {
      "text/html": [
       "<h3 style='text-align:center'> <a href='https://www.ncbi.nlm.nih.gov/pmc/articles/PMC7090692/'> SMART HOME TECHNOLOGY FOR TELEMEDICINE AND EMERGENCY MANAGEMENT</a></h2>"
      ],
      "text/plain": [
       "<IPython.core.display.HTML object>"
      ]
     },
     "metadata": {},
     "output_type": "display_data"
    },
    {
     "data": {
      "text/html": [
       "<h4 style='text-align:center'> ~ <b>Li, Kin Fun</b></h4>"
      ],
      "text/plain": [
       "<IPython.core.display.HTML object>"
      ]
     },
     "metadata": {},
     "output_type": "display_data"
    },
    {
     "data": {
      "text/html": [
       "<blockquote> Section 2 introduces smart environment enabling technologies including communication, sensor and sensor network\n",
       "Telemedicine is a multidisciplinary research and application area using advanced technologies in information processing, telecommunication, bio-sensing, and artificial intelligence\n",
       " This section introduces smart telehealth systems developed for specific illnesses</blockquote>"
      ],
      "text/plain": [
       "<IPython.core.display.HTML object>"
      ]
     },
     "metadata": {},
     "output_type": "display_data"
    },
    {
     "data": {
      "text/html": [
       "<p style='text-align:center'> *** </p>"
      ],
      "text/plain": [
       "<IPython.core.display.HTML object>"
      ]
     },
     "metadata": {},
     "output_type": "display_data"
    },
    {
     "data": {
      "text/html": [
       "<h4 style='text-align:center'>30-04-2010</h4>"
      ],
      "text/plain": [
       "<IPython.core.display.HTML object>"
      ]
     },
     "metadata": {},
     "output_type": "display_data"
    },
    {
     "data": {
      "text/html": [
       "<h3 style='text-align:center'> <a href='https://doi.org/10.1053/j.jepm.2010.05.006'> FUTURE VETERINARY DIAGNOSTICS</a></h2>"
      ],
      "text/plain": [
       "<IPython.core.display.HTML object>"
      ]
     },
     "metadata": {},
     "output_type": "display_data"
    },
    {
     "data": {
      "text/html": [
       "<h4 style='text-align:center'> ~ <b>Dahlhausen, Bob</b></h4>"
      ],
      "text/plain": [
       "<IPython.core.display.HTML object>"
      ]
     },
     "metadata": {},
     "output_type": "display_data"
    },
    {
     "data": {
      "text/html": [
       "<blockquote>DNA microarrays have technologically advanced genomics research\n",
       "Protein microarray technology has enormous potential for application within the veterinary diagnostic testing arena\n",
       "Nucleic amplification technologies will continue to be a benchmark for pathogen detection in veterinary diagnostics</blockquote>"
      ],
      "text/plain": [
       "<IPython.core.display.HTML object>"
      ]
     },
     "metadata": {},
     "output_type": "display_data"
    },
    {
     "data": {
      "text/html": [
       "<p style='text-align:center'> *** </p>"
      ],
      "text/plain": [
       "<IPython.core.display.HTML object>"
      ]
     },
     "metadata": {},
     "output_type": "display_data"
    },
    {
     "data": {
      "text/html": [
       "<h2>13. Barriers to developing and scaling up new diagnostic tests (e.g., market forces), how future coalition and accelerator models (e.g., Coalition for Epidemic Preparedness Innovations) could provide critical funding for diagnostics, and opportunities for a streamlined regulatory environment. </h2>"
      ],
      "text/plain": [
       "<IPython.core.display.HTML object>"
      ]
     },
     "metadata": {},
     "output_type": "display_data"
    },
    {
     "data": {
      "text/html": [
       "<h4 style='text-align:center'>23-03-2020</h4>"
      ],
      "text/plain": [
       "<IPython.core.display.HTML object>"
      ]
     },
     "metadata": {},
     "output_type": "display_data"
    },
    {
     "data": {
      "text/html": [
       "<h3 style='text-align:center'> <a href='https://doi.org/10.1101/2020.03.20.20039966'> FINANCING VACCINES FOR GLOBAL HEALTH SECURITY</a></h2>"
      ],
      "text/plain": [
       "<IPython.core.display.HTML object>"
      ]
     },
     "metadata": {},
     "output_type": "display_data"
    },
    {
     "data": {
      "text/html": [
       "<h4 style='text-align:center'> ~ <b>Jonathan Vu; Benjamin Kaplan; Shomesh Chaudhuri; Monique Mansoura; Andrew Lo</b></h4>"
      ],
      "text/plain": [
       "<IPython.core.display.HTML object>"
      ]
     },
     "metadata": {},
     "output_type": "display_data"
    },
    {
     "data": {
      "text/html": [
       "<blockquote>Unless these market challenges are addressed, the global population will remain vulnerable to substantial human and economic losses when epidemics and pandemics arise</blockquote>"
      ],
      "text/plain": [
       "<IPython.core.display.HTML object>"
      ]
     },
     "metadata": {},
     "output_type": "display_data"
    },
    {
     "data": {
      "text/html": [
       "<p style='text-align:center'> *** </p>"
      ],
      "text/plain": [
       "<IPython.core.display.HTML object>"
      ]
     },
     "metadata": {},
     "output_type": "display_data"
    },
    {
     "data": {
      "text/html": [
       "<h4 style='text-align:center'>19-03-2019</h4>"
      ],
      "text/plain": [
       "<IPython.core.display.HTML object>"
      ]
     },
     "metadata": {},
     "output_type": "display_data"
    },
    {
     "data": {
      "text/html": [
       "<h3 style='text-align:center'> <a href='https://www.ncbi.nlm.nih.gov/pmc/articles/PMC6423775/'> DIGITAL EPIDEMIOLOGY AND GLOBAL HEALTH SECURITY; AN INTERDISCIPLINARY CONVERSATION</a></h2>"
      ],
      "text/plain": [
       "<IPython.core.display.HTML object>"
      ]
     },
     "metadata": {},
     "output_type": "display_data"
    },
    {
     "data": {
      "text/html": [
       "<h4 style='text-align:center'> ~ <b>Eckmanns, Tim; Füller, Henning; Roberts, Stephen L.</b></h4>"
      ],
      "text/plain": [
       "<IPython.core.display.HTML object>"
      ]
     },
     "metadata": {},
     "output_type": "display_data"
    },
    {
     "data": {
      "text/html": [
       "<blockquote>The ascendancy of the era of Big Data and the rise of digital disease surveillance systems have afforded unprecedented new opportunities towards the enhancement and bolstering of disease detection capacities in an era increasingly preoccupied with the emergence of future security challenges-among them pandemic illness</blockquote>"
      ],
      "text/plain": [
       "<IPython.core.display.HTML object>"
      ]
     },
     "metadata": {},
     "output_type": "display_data"
    },
    {
     "data": {
      "text/html": [
       "<p style='text-align:center'> *** </p>"
      ],
      "text/plain": [
       "<IPython.core.display.HTML object>"
      ]
     },
     "metadata": {},
     "output_type": "display_data"
    },
    {
     "data": {
      "text/html": [
       "<h4 style='text-align:center'>01-09-2014</h4>"
      ],
      "text/plain": [
       "<IPython.core.display.HTML object>"
      ]
     },
     "metadata": {},
     "output_type": "display_data"
    },
    {
     "data": {
      "text/html": [
       "<h3 style='text-align:center'> <a href='http://europepmc.org/articles/pmc4171117?pdf=render'> LEVERAGING THE LABORATORY RESPONSE NETWORK MODEL FOR THE GLOBAL HEALTH SECURITY AGENDA</a></h2>"
      ],
      "text/plain": [
       "<IPython.core.display.HTML object>"
      ]
     },
     "metadata": {},
     "output_type": "display_data"
    },
    {
     "data": {
      "text/html": [
       "<h4 style='text-align:center'> ~ <b>Mangal, Chris N.; Maryogo-Robinson, Lucy</b></h4>"
      ],
      "text/plain": [
       "<IPython.core.display.HTML object>"
      ]
     },
     "metadata": {},
     "output_type": "display_data"
    },
    {
     "data": {
      "text/html": [
       "<blockquote> Leveraging the LRN model and instituting twinning agreements to support the model could significantly accelerate progress in efforts to strengthen laboratory systems\n",
       "Promoting a training culture similar to the LRN and leveraging existing APHL domestic and global partnerships for laboratory leadership and management will greatly enhance the capabilities of the biosurveillance workforce</blockquote>"
      ],
      "text/plain": [
       "<IPython.core.display.HTML object>"
      ]
     },
     "metadata": {},
     "output_type": "display_data"
    },
    {
     "data": {
      "text/html": [
       "<p style='text-align:center'> *** </p>"
      ],
      "text/plain": [
       "<IPython.core.display.HTML object>"
      ]
     },
     "metadata": {},
     "output_type": "display_data"
    },
    {
     "data": {
      "text/html": [
       "<h4 style='text-align:center'>28-02-2014</h4>"
      ],
      "text/plain": [
       "<IPython.core.display.HTML object>"
      ]
     },
     "metadata": {},
     "output_type": "display_data"
    },
    {
     "data": {
      "text/html": [
       "<h3 style='text-align:center'> <a href='https://doi.org/10.1016/s1473-3099(13)70244-5'> INTERNET-BASED SURVEILLANCE SYSTEMS FOR MONITORING EMERGING INFECTIOUS DISEASES</a></h2>"
      ],
      "text/plain": [
       "<IPython.core.display.HTML object>"
      ]
     },
     "metadata": {},
     "output_type": "display_data"
    },
    {
     "data": {
      "text/html": [
       "<h4 style='text-align:center'> ~ <b>Milinovich, Gabriel J; Williams, Gail M; Clements, Archie C A; Hu, Wenbiao</b></h4>"
      ],
      "text/plain": [
       "<IPython.core.display.HTML object>"
      ]
     },
     "metadata": {},
     "output_type": "display_data"
    },
    {
     "data": {
      "text/html": [
       "<blockquote> A global response requires concerted international approaches to strengthen the capacity of emerging infectious diseases surveillance systems worldwide</blockquote>"
      ],
      "text/plain": [
       "<IPython.core.display.HTML object>"
      ]
     },
     "metadata": {},
     "output_type": "display_data"
    },
    {
     "data": {
      "text/html": [
       "<p style='text-align:center'> *** </p>"
      ],
      "text/plain": [
       "<IPython.core.display.HTML object>"
      ]
     },
     "metadata": {},
     "output_type": "display_data"
    },
    {
     "data": {
      "text/html": [
       "<h4 style='text-align:center'>04-03-2011</h4>"
      ],
      "text/plain": [
       "<IPython.core.display.HTML object>"
      ]
     },
     "metadata": {},
     "output_type": "display_data"
    },
    {
     "data": {
      "text/html": [
       "<h3 style='text-align:center'> <a href='https://www.ncbi.nlm.nih.gov/pmc/articles/PMC3092412/'> THE GLOBAL EMERGING INFECTION SURVEILLANCE AND RESPONSE SYSTEM (GEIS), A U.S. GOVERNMENT TOOL FOR IMPROVED GLOBAL BIOSURVEILLANCE: A REVIEW OF 2009</a></h2>"
      ],
      "text/plain": [
       "<IPython.core.display.HTML object>"
      ]
     },
     "metadata": {},
     "output_type": "display_data"
    },
    {
     "data": {
      "text/html": [
       "<h4 style='text-align:center'> ~ <b>Russell, Kevin L; Rubenstein, Jennifer; Burke, Ronald L; Vest, Kelly G; Johns, Matthew C; Sanchez, Jose L; Meyer, William; Fukuda, Mark M; Blazes, David L</b></h4>"
      ],
      "text/plain": [
       "<IPython.core.display.HTML object>"
      ]
     },
     "metadata": {},
     "output_type": "display_data"
    },
    {
     "data": {
      "text/html": [
       "<blockquote> The wisdom of establishing improved global DoD EID surveillance capabilities is reinforced by numerous contributions to global outbreaks, most recently the 2009 H1N1 pandemic\n",
       " Between 1992 and 1996, numerous documents and communications within DoD recognized the need for global emerging infection surveillance initiatives leveraging these overseas laboratories, and emphasized the commitment of DoD to these endeavors\n",
       " government organizations are becoming involved in global biosurveillance</blockquote>"
      ],
      "text/plain": [
       "<IPython.core.display.HTML object>"
      ]
     },
     "metadata": {},
     "output_type": "display_data"
    },
    {
     "data": {
      "text/html": [
       "<p style='text-align:center'> *** </p>"
      ],
      "text/plain": [
       "<IPython.core.display.HTML object>"
      ]
     },
     "metadata": {},
     "output_type": "display_data"
    },
    {
     "data": {
      "text/html": [
       "<h4 style='text-align:center'>30-09-2004</h4>"
      ],
      "text/plain": [
       "<IPython.core.display.HTML object>"
      ]
     },
     "metadata": {},
     "output_type": "display_data"
    },
    {
     "data": {
      "text/html": [
       "<h3 style='text-align:center'> <a href='https://doi.org/10.1016/j.ijmedinf.2004.05.010'> INVESTIGATING PUBLIC HEALTH EMERGENCY RESPONSE INFORMATION SYSTEM INITIATIVES IN CHINA</a></h2>"
      ],
      "text/plain": [
       "<IPython.core.display.HTML object>"
      ]
     },
     "metadata": {},
     "output_type": "display_data"
    },
    {
     "data": {
      "text/html": [
       "<h4 style='text-align:center'> ~ <b>Liang, Huigang; Xue, Yajiong</b></h4>"
      ],
      "text/plain": [
       "<IPython.core.display.HTML object>"
      ]
     },
     "metadata": {},
     "output_type": "display_data"
    },
    {
     "data": {
      "text/html": [
       "<blockquote>Realizing the weakness of its public health systems, China is undertaking tremendous efforts to improve its public health system by leveraging the power of information technology</blockquote>"
      ],
      "text/plain": [
       "<IPython.core.display.HTML object>"
      ]
     },
     "metadata": {},
     "output_type": "display_data"
    },
    {
     "data": {
      "text/html": [
       "<p style='text-align:center'> *** </p>"
      ],
      "text/plain": [
       "<IPython.core.display.HTML object>"
      ]
     },
     "metadata": {},
     "output_type": "display_data"
    },
    {
     "data": {
      "text/html": [
       "<h2>14. New platforms and technology (e.g., CRISPR) to improve response times and employ more holistic approaches to COVID-19 and future diseases. </h2>"
      ],
      "text/plain": [
       "<IPython.core.display.HTML object>"
      ]
     },
     "metadata": {},
     "output_type": "display_data"
    },
    {
     "data": {
      "text/html": [
       "<h4 style='text-align:center'>15-02-2020</h4>"
      ],
      "text/plain": [
       "<IPython.core.display.HTML object>"
      ]
     },
     "metadata": {},
     "output_type": "display_data"
    },
    {
     "data": {
      "text/html": [
       "<h3 style='text-align:center'> <a href='https://doi.org/10.1016/j.hlpt.2020.02.005'> ASSESSING FACTORS CRITICAL TO SMART TECHNOLOGY APPLICATIONS TO MOBILE HEALTH CARE − THE FGM-FAHP APPROACH</a></h2>"
      ],
      "text/plain": [
       "<IPython.core.display.HTML object>"
      ]
     },
     "metadata": {},
     "output_type": "display_data"
    },
    {
     "data": {
      "text/html": [
       "<h4 style='text-align:center'> ~ <b>Chen, Toly</b></h4>"
      ],
      "text/plain": [
       "<IPython.core.display.HTML object>"
      ]
     },
     "metadata": {},
     "output_type": "display_data"
    },
    {
     "data": {
      "text/html": [
       "<blockquote>Existing smart technology applications to mobile health care face several challenges</blockquote>"
      ],
      "text/plain": [
       "<IPython.core.display.HTML object>"
      ]
     },
     "metadata": {},
     "output_type": "display_data"
    },
    {
     "data": {
      "text/html": [
       "<p style='text-align:center'> *** </p>"
      ],
      "text/plain": [
       "<IPython.core.display.HTML object>"
      ]
     },
     "metadata": {},
     "output_type": "display_data"
    },
    {
     "data": {
      "text/html": [
       "<h4 style='text-align:center'>16-08-2017</h4>"
      ],
      "text/plain": [
       "<IPython.core.display.HTML object>"
      ]
     },
     "metadata": {},
     "output_type": "display_data"
    },
    {
     "data": {
      "text/html": [
       "<h3 style='text-align:center'> <a href='https://doi.org/10.1016/j.vaccine.2017.02.069'> PLATFORM TECHNOLOGIES FOR MODERN VACCINE MANUFACTURING</a></h2>"
      ],
      "text/plain": [
       "<IPython.core.display.HTML object>"
      ]
     },
     "metadata": {},
     "output_type": "display_data"
    },
    {
     "data": {
      "text/html": [
       "<h4 style='text-align:center'> ~ <b>Charlton Hume, Hayley K.; Lua, Linda H.L.</b></h4>"
      ],
      "text/plain": [
       "<IPython.core.display.HTML object>"
      ]
     },
     "metadata": {},
     "output_type": "display_data"
    },
    {
     "data": {
      "text/html": [
       "<blockquote> Certainly, processes will need optimization with modularization of different antigenic modules, but vaccine platform technologies provide flexibility and possibility for multi-product facilities</blockquote>"
      ],
      "text/plain": [
       "<IPython.core.display.HTML object>"
      ]
     },
     "metadata": {},
     "output_type": "display_data"
    },
    {
     "data": {
      "text/html": [
       "<p style='text-align:center'> *** </p>"
      ],
      "text/plain": [
       "<IPython.core.display.HTML object>"
      ]
     },
     "metadata": {},
     "output_type": "display_data"
    },
    {
     "data": {
      "text/html": [
       "<h4 style='text-align:center'>28-02-2014</h4>"
      ],
      "text/plain": [
       "<IPython.core.display.HTML object>"
      ]
     },
     "metadata": {},
     "output_type": "display_data"
    },
    {
     "data": {
      "text/html": [
       "<h3 style='text-align:center'> <a href='https://doi.org/10.1016/s1473-3099(13)70244-5'> INTERNET-BASED SURVEILLANCE SYSTEMS FOR MONITORING EMERGING INFECTIOUS DISEASES</a></h2>"
      ],
      "text/plain": [
       "<IPython.core.display.HTML object>"
      ]
     },
     "metadata": {},
     "output_type": "display_data"
    },
    {
     "data": {
      "text/html": [
       "<h4 style='text-align:center'> ~ <b>Milinovich, Gabriel J; Williams, Gail M; Clements, Archie C A; Hu, Wenbiao</b></h4>"
      ],
      "text/plain": [
       "<IPython.core.display.HTML object>"
      ]
     },
     "metadata": {},
     "output_type": "display_data"
    },
    {
     "data": {
      "text/html": [
       "<blockquote> Future research needs to focus on how to use internet-based surveillance systems to complement existing systems</blockquote>"
      ],
      "text/plain": [
       "<IPython.core.display.HTML object>"
      ]
     },
     "metadata": {},
     "output_type": "display_data"
    },
    {
     "data": {
      "text/html": [
       "<p style='text-align:center'> *** </p>"
      ],
      "text/plain": [
       "<IPython.core.display.HTML object>"
      ]
     },
     "metadata": {},
     "output_type": "display_data"
    },
    {
     "data": {
      "text/html": [
       "<h4 style='text-align:center'>11-05-2012</h4>"
      ],
      "text/plain": [
       "<IPython.core.display.HTML object>"
      ]
     },
     "metadata": {},
     "output_type": "display_data"
    },
    {
     "data": {
      "text/html": [
       "<h3 style='text-align:center'> <a href='https://www.ncbi.nlm.nih.gov/pmc/articles/PMC7090692/'> SMART HOME TECHNOLOGY FOR TELEMEDICINE AND EMERGENCY MANAGEMENT</a></h2>"
      ],
      "text/plain": [
       "<IPython.core.display.HTML object>"
      ]
     },
     "metadata": {},
     "output_type": "display_data"
    },
    {
     "data": {
      "text/html": [
       "<h4 style='text-align:center'> ~ <b>Li, Kin Fun</b></h4>"
      ],
      "text/plain": [
       "<IPython.core.display.HTML object>"
      ]
     },
     "metadata": {},
     "output_type": "display_data"
    },
    {
     "data": {
      "text/html": [
       "<blockquote> Using wavelet technology to process sound signals, their system achieves good performance comparable to other systems using different monitoring technologies\n",
       " To properly introduce smart environment in telemedicine and emergency management, the fundamental technologies, potential applications, their evaluations, and future directions are presented in a sequential coherent perspective\n",
       " Innovation is important to improve the efficiency and effectiveness, and hence acceptance, of these systems</blockquote>"
      ],
      "text/plain": [
       "<IPython.core.display.HTML object>"
      ]
     },
     "metadata": {},
     "output_type": "display_data"
    },
    {
     "data": {
      "text/html": [
       "<p style='text-align:center'> *** </p>"
      ],
      "text/plain": [
       "<IPython.core.display.HTML object>"
      ]
     },
     "metadata": {},
     "output_type": "display_data"
    },
    {
     "data": {
      "text/html": [
       "<h4 style='text-align:center'>14-11-2011</h4>"
      ],
      "text/plain": [
       "<IPython.core.display.HTML object>"
      ]
     },
     "metadata": {},
     "output_type": "display_data"
    },
    {
     "data": {
      "text/html": [
       "<h3 style='text-align:center'> <a href='https://www.ncbi.nlm.nih.gov/pmc/articles/PMC3233444/'> APPLICATIONS OF NEXT-GENERATION SEQUENCING TECHNOLOGIES TO DIAGNOSTIC VIROLOGY</a></h2>"
      ],
      "text/plain": [
       "<IPython.core.display.HTML object>"
      ]
     },
     "metadata": {},
     "output_type": "display_data"
    },
    {
     "data": {
      "text/html": [
       "<h4 style='text-align:center'> ~ <b>Barzon, Luisa; Lavezzo, Enrico; Militello, Valentina; Toppo, Stefano; Palù, Giorgio</b></h4>"
      ],
      "text/plain": [
       "<IPython.core.display.HTML object>"
      ]
     },
     "metadata": {},
     "output_type": "display_data"
    },
    {
     "data": {
      "text/html": [
       "<blockquote>When implemented into virus-discovery methods based on shotgun sequencing, next-generation technologies greatly enhance turnaround time and sensitivity</blockquote>"
      ],
      "text/plain": [
       "<IPython.core.display.HTML object>"
      ]
     },
     "metadata": {},
     "output_type": "display_data"
    },
    {
     "data": {
      "text/html": [
       "<p style='text-align:center'> *** </p>"
      ],
      "text/plain": [
       "<IPython.core.display.HTML object>"
      ]
     },
     "metadata": {},
     "output_type": "display_data"
    },
    {
     "data": {
      "text/html": [
       "<h4 style='text-align:center'>30-04-2010</h4>"
      ],
      "text/plain": [
       "<IPython.core.display.HTML object>"
      ]
     },
     "metadata": {},
     "output_type": "display_data"
    },
    {
     "data": {
      "text/html": [
       "<h3 style='text-align:center'> <a href='https://doi.org/10.1053/j.jepm.2010.05.006'> FUTURE VETERINARY DIAGNOSTICS</a></h2>"
      ],
      "text/plain": [
       "<IPython.core.display.HTML object>"
      ]
     },
     "metadata": {},
     "output_type": "display_data"
    },
    {
     "data": {
      "text/html": [
       "<h4 style='text-align:center'> ~ <b>Dahlhausen, Bob</b></h4>"
      ],
      "text/plain": [
       "<IPython.core.display.HTML object>"
      ]
     },
     "metadata": {},
     "output_type": "display_data"
    },
    {
     "data": {
      "text/html": [
       "<blockquote> Emerging technologies are rapidly being adapted to improve our ability to de-tect new etiological agents, to provide rapid, accurate diagnostic tests for previously difficult infections, and to develop new response-based paradigms for diagnostic testing</blockquote>"
      ],
      "text/plain": [
       "<IPython.core.display.HTML object>"
      ]
     },
     "metadata": {},
     "output_type": "display_data"
    },
    {
     "data": {
      "text/html": [
       "<p style='text-align:center'> *** </p>"
      ],
      "text/plain": [
       "<IPython.core.display.HTML object>"
      ]
     },
     "metadata": {},
     "output_type": "display_data"
    },
    {
     "data": {
      "text/html": [
       "<h2>15. Coupling genomics and diagnostic testing on a large scale. </h2>"
      ],
      "text/plain": [
       "<IPython.core.display.HTML object>"
      ]
     },
     "metadata": {},
     "output_type": "display_data"
    },
    {
     "data": {
      "text/html": [
       "<h4 style='text-align:center'>27-12-2017</h4>"
      ],
      "text/plain": [
       "<IPython.core.display.HTML object>"
      ]
     },
     "metadata": {},
     "output_type": "display_data"
    },
    {
     "data": {
      "text/html": [
       "<h3 style='text-align:center'> <a href='https://www.ncbi.nlm.nih.gov/pmc/articles/PMC5711298/'> ESTABLISHMENT OF CDC GLOBAL RAPID RESPONSE TEAM TO ENSURE GLOBAL HEALTH SECURITY</a></h2>"
      ],
      "text/plain": [
       "<IPython.core.display.HTML object>"
      ]
     },
     "metadata": {},
     "output_type": "display_data"
    },
    {
     "data": {
      "text/html": [
       "<h4 style='text-align:center'> ~ <b>Stehling-Ariza, Tasha; Lefevre, Adrienne; Calles, Dinorah; Djawe, Kpandja; Garfield, Richard; Gerber, Michael; Ghiselli, Margherita; Giese, Coralie; Greiner, Ashley L.; Hoffman, Adela; Miller, Leigh Ann; Moorhouse, Lisa; Navarro-Colorado, Carlos; Walsh, James; Bugli, Dante; Shahpar, Cyrus</b></h4>"
      ],
      "text/plain": [
       "<IPython.core.display.HTML object>"
      ]
     },
     "metadata": {},
     "output_type": "display_data"
    },
    {
     "data": {
      "text/html": [
       "<blockquote> Laboratorians strengthened Zika virus testing capacity and improved existing diagnostic tools</blockquote>"
      ],
      "text/plain": [
       "<IPython.core.display.HTML object>"
      ]
     },
     "metadata": {},
     "output_type": "display_data"
    },
    {
     "data": {
      "text/html": [
       "<p style='text-align:center'> *** </p>"
      ],
      "text/plain": [
       "<IPython.core.display.HTML object>"
      ]
     },
     "metadata": {},
     "output_type": "display_data"
    },
    {
     "data": {
      "text/html": [
       "<h4 style='text-align:center'>01-01-2014</h4>"
      ],
      "text/plain": [
       "<IPython.core.display.HTML object>"
      ]
     },
     "metadata": {},
     "output_type": "display_data"
    },
    {
     "data": {
      "text/html": [
       "<h3 style='text-align:center'> <a href='https://doi.org/10.1016/j.cca.2013.05.024'> ESTABLISHING BENCHMARKS AND METRICS FOR DISRUPTIVE TECHNOLOGIES, INAPPROPRIATE AND OBSOLETE TESTS IN THE CLINICAL LABORATORY</a></h2>"
      ],
      "text/plain": [
       "<IPython.core.display.HTML object>"
      ]
     },
     "metadata": {},
     "output_type": "display_data"
    },
    {
     "data": {
      "text/html": [
       "<h4 style='text-align:center'> ~ <b>Kiechle, Frederick L.; Arcenas, Rodney C.; Rogers, Linda C.</b></h4>"
      ],
      "text/plain": [
       "<IPython.core.display.HTML object>"
      ]
     },
     "metadata": {},
     "output_type": "display_data"
    },
    {
     "data": {
      "text/html": [
       "<blockquote> Obsolete tests in the microbiology laboratory include bacterial antigen detection tests, Group B Streptococcus antigen (GBS) testing and HIV-1 Western blot</blockquote>"
      ],
      "text/plain": [
       "<IPython.core.display.HTML object>"
      ]
     },
     "metadata": {},
     "output_type": "display_data"
    },
    {
     "data": {
      "text/html": [
       "<p style='text-align:center'> *** </p>"
      ],
      "text/plain": [
       "<IPython.core.display.HTML object>"
      ]
     },
     "metadata": {},
     "output_type": "display_data"
    },
    {
     "data": {
      "text/html": [
       "<h4 style='text-align:center'>30-04-2010</h4>"
      ],
      "text/plain": [
       "<IPython.core.display.HTML object>"
      ]
     },
     "metadata": {},
     "output_type": "display_data"
    },
    {
     "data": {
      "text/html": [
       "<h3 style='text-align:center'> <a href='https://doi.org/10.1053/j.jepm.2010.05.006'> FUTURE VETERINARY DIAGNOSTICS</a></h2>"
      ],
      "text/plain": [
       "<IPython.core.display.HTML object>"
      ]
     },
     "metadata": {},
     "output_type": "display_data"
    },
    {
     "data": {
      "text/html": [
       "<h4 style='text-align:center'> ~ <b>Dahlhausen, Bob</b></h4>"
      ],
      "text/plain": [
       "<IPython.core.display.HTML object>"
      ]
     },
     "metadata": {},
     "output_type": "display_data"
    },
    {
     "data": {
      "text/html": [
       "<blockquote>DNA microarrays have technologically advanced genomics research\n",
       "Protein microarray technology has enormous potential for application within the veterinary diagnostic testing arena\n",
       " Microarraybased comparative genomic hybridization merges molecular diagnostics with traditional chromosome analysis\n",
       " The integration of DNA and protein-based microarray methods may extend the range of rapid clinical diagnostic testing\n",
       " Protein microarray technology has enormous potential for in vitro diagnostics and disease monitoring\n",
       "Nucleic amplification technologies will continue to be a benchmark for pathogen detection in veterinary diagnostics\n",
       " DNA microarrays have been used for the detection of infectious and genetic disease, cancer diagnostics, and forensic and genetic identification purposes</blockquote>"
      ],
      "text/plain": [
       "<IPython.core.display.HTML object>"
      ]
     },
     "metadata": {},
     "output_type": "display_data"
    },
    {
     "data": {
      "text/html": [
       "<p style='text-align:center'> *** </p>"
      ],
      "text/plain": [
       "<IPython.core.display.HTML object>"
      ]
     },
     "metadata": {},
     "output_type": "display_data"
    },
    {
     "data": {
      "text/html": [
       "<h4 style='text-align:center'>27-02-2005</h4>"
      ],
      "text/plain": [
       "<IPython.core.display.HTML object>"
      ]
     },
     "metadata": {},
     "output_type": "display_data"
    },
    {
     "data": {
      "text/html": [
       "<h3 style='text-align:center'> <a href='https://www.ncbi.nlm.nih.gov/pmc/articles/PMC3320438/'> DIAGNOSTIC SYSTEM FOR RAPID AND SENSITIVE DIFFERENTIAL DETECTION OF PATHOGENS</a></h2>"
      ],
      "text/plain": [
       "<IPython.core.display.HTML object>"
      ]
     },
     "metadata": {},
     "output_type": "display_data"
    },
    {
     "data": {
      "text/html": [
       "<h4 style='text-align:center'> ~ <b>Briese, Thomas; Palacios, Gustavo; Kokoris, Mark; Jabado, Omar; Liu, Zhiqiang; Renwick, Neil; Kapoor, Vishal; Casas, Inmaculada; Pozo, Francisco; Limberger, Ron; Perez-Brena, Pilar; Ju, Jingyue; Lipkin, W. Ian</b></h4>"
      ],
      "text/plain": [
       "<IPython.core.display.HTML object>"
      ]
     },
     "metadata": {},
     "output_type": "display_data"
    },
    {
     "data": {
      "text/html": [
       "<blockquote> Potential applications include differential diagnosis of infectious diseases, blood product surveillance, forensic microbiology, and biodefense</blockquote>"
      ],
      "text/plain": [
       "<IPython.core.display.HTML object>"
      ]
     },
     "metadata": {},
     "output_type": "display_data"
    },
    {
     "data": {
      "text/html": [
       "<p style='text-align:center'> *** </p>"
      ],
      "text/plain": [
       "<IPython.core.display.HTML object>"
      ]
     },
     "metadata": {},
     "output_type": "display_data"
    },
    {
     "data": {
      "text/html": [
       "<h2>16. Enhance capabilities for rapid sequencing and bioinformatics to target regions of the genome that will allow specificity for a particular variant. Enhance capacity (people, technology, data) for sequencing with advanced analytics for unknown pathogens, and explore capabilities for distinguishing naturally-occurring pathogens from intentional. </h2>"
      ],
      "text/plain": [
       "<IPython.core.display.HTML object>"
      ]
     },
     "metadata": {},
     "output_type": "display_data"
    },
    {
     "data": {
      "text/html": [
       "<h4 style='text-align:center'>01-01-2014</h4>"
      ],
      "text/plain": [
       "<IPython.core.display.HTML object>"
      ]
     },
     "metadata": {},
     "output_type": "display_data"
    },
    {
     "data": {
      "text/html": [
       "<h3 style='text-align:center'> <a href='https://doi.org/10.1016/j.cca.2013.05.024'> ESTABLISHING BENCHMARKS AND METRICS FOR DISRUPTIVE TECHNOLOGIES, INAPPROPRIATE AND OBSOLETE TESTS IN THE CLINICAL LABORATORY</a></h2>"
      ],
      "text/plain": [
       "<IPython.core.display.HTML object>"
      ]
     },
     "metadata": {},
     "output_type": "display_data"
    },
    {
     "data": {
      "text/html": [
       "<h4 style='text-align:center'> ~ <b>Kiechle, Frederick L.; Arcenas, Rodney C.; Rogers, Linda C.</b></h4>"
      ],
      "text/plain": [
       "<IPython.core.display.HTML object>"
      ]
     },
     "metadata": {},
     "output_type": "display_data"
    },
    {
     "data": {
      "text/html": [
       "<blockquote> We evaluated whole genome sequencing, next generation sequencing and proteomics as examples of high impact disruptive technologies that generate large quantities of data that need software to reduce to clinically useful results</blockquote>"
      ],
      "text/plain": [
       "<IPython.core.display.HTML object>"
      ]
     },
     "metadata": {},
     "output_type": "display_data"
    },
    {
     "data": {
      "text/html": [
       "<p style='text-align:center'> *** </p>"
      ],
      "text/plain": [
       "<IPython.core.display.HTML object>"
      ]
     },
     "metadata": {},
     "output_type": "display_data"
    },
    {
     "data": {
      "text/html": [
       "<h4 style='text-align:center'>14-11-2011</h4>"
      ],
      "text/plain": [
       "<IPython.core.display.HTML object>"
      ]
     },
     "metadata": {},
     "output_type": "display_data"
    },
    {
     "data": {
      "text/html": [
       "<h3 style='text-align:center'> <a href='https://www.ncbi.nlm.nih.gov/pmc/articles/PMC3233444/'> APPLICATIONS OF NEXT-GENERATION SEQUENCING TECHNOLOGIES TO DIAGNOSTIC VIROLOGY</a></h2>"
      ],
      "text/plain": [
       "<IPython.core.display.HTML object>"
      ]
     },
     "metadata": {},
     "output_type": "display_data"
    },
    {
     "data": {
      "text/html": [
       "<h4 style='text-align:center'> ~ <b>Barzon, Luisa; Lavezzo, Enrico; Militello, Valentina; Toppo, Stefano; Palù, Giorgio</b></h4>"
      ],
      "text/plain": [
       "<IPython.core.display.HTML object>"
      ]
     },
     "metadata": {},
     "output_type": "display_data"
    },
    {
     "data": {
      "text/html": [
       "<blockquote> NGS technologies are currently used for whole genome sequencing, investigation of genome diversity, metagenomics, epigenetics, discovery of non-coding RNAs and protein-binding sites, and gene-expression profiling by RNA sequencing (reviewed in refs\n",
       " Typical applications of NGS methods in microbiology and virology, besides high-throughput whole genome sequencing, are discovery of new microorganisms and viruses by using metagenomic approaches, investigation of microbial communities in the environment and in human body niches in healthy and disease conditions, analysis of viral genome variability within the host (i</blockquote>"
      ],
      "text/plain": [
       "<IPython.core.display.HTML object>"
      ]
     },
     "metadata": {},
     "output_type": "display_data"
    },
    {
     "data": {
      "text/html": [
       "<p style='text-align:center'> *** </p>"
      ],
      "text/plain": [
       "<IPython.core.display.HTML object>"
      ]
     },
     "metadata": {},
     "output_type": "display_data"
    },
    {
     "data": {
      "text/html": [
       "<h4 style='text-align:center'>30-04-2010</h4>"
      ],
      "text/plain": [
       "<IPython.core.display.HTML object>"
      ]
     },
     "metadata": {},
     "output_type": "display_data"
    },
    {
     "data": {
      "text/html": [
       "<h3 style='text-align:center'> <a href='https://doi.org/10.1053/j.jepm.2010.05.006'> FUTURE VETERINARY DIAGNOSTICS</a></h2>"
      ],
      "text/plain": [
       "<IPython.core.display.HTML object>"
      ]
     },
     "metadata": {},
     "output_type": "display_data"
    },
    {
     "data": {
      "text/html": [
       "<h4 style='text-align:center'> ~ <b>Dahlhausen, Bob</b></h4>"
      ],
      "text/plain": [
       "<IPython.core.display.HTML object>"
      ]
     },
     "metadata": {},
     "output_type": "display_data"
    },
    {
     "data": {
      "text/html": [
       "<blockquote>DNA microarrays have technologically advanced genomics research\n",
       " Protein microarray technology has enormous potential for in vitro diagnostics and disease monitoring\n",
       " Specific reviews are available on DNA microarray analyses of host-pathogen interactions 34 and the use of microarrays for the molecular diagnosis of Mycobacteria spp</blockquote>"
      ],
      "text/plain": [
       "<IPython.core.display.HTML object>"
      ]
     },
     "metadata": {},
     "output_type": "display_data"
    },
    {
     "data": {
      "text/html": [
       "<p style='text-align:center'> *** </p>"
      ],
      "text/plain": [
       "<IPython.core.display.HTML object>"
      ]
     },
     "metadata": {},
     "output_type": "display_data"
    },
    {
     "data": {
      "text/html": [
       "<h4 style='text-align:center'>30-11-2006</h4>"
      ],
      "text/plain": [
       "<IPython.core.display.HTML object>"
      ]
     },
     "metadata": {},
     "output_type": "display_data"
    },
    {
     "data": {
      "text/html": [
       "<h3 style='text-align:center'> <a href='https://doi.org/10.1016/j.ddtec.2006.09.004'> NEW TECHNOLOGIES IN COMPUTER-AIDED DRUG DESIGN: TOWARD TARGET IDENTIFICATION AND NEW CHEMICAL ENTITY DISCOVERY</a></h2>"
      ],
      "text/plain": [
       "<IPython.core.display.HTML object>"
      ]
     },
     "metadata": {},
     "output_type": "display_data"
    },
    {
     "data": {
      "text/html": [
       "<h4 style='text-align:center'> ~ <b>Tang, Yun; Zhu, Weiliang; Chen, Kaixian; Jiang, Hualiang</b></h4>"
      ],
      "text/plain": [
       "<IPython.core.display.HTML object>"
      ]
     },
     "metadata": {},
     "output_type": "display_data"
    },
    {
     "data": {
      "text/html": [
       "<blockquote> Genomic and proteomic approaches are the major tools for target identification</blockquote>"
      ],
      "text/plain": [
       "<IPython.core.display.HTML object>"
      ]
     },
     "metadata": {},
     "output_type": "display_data"
    },
    {
     "data": {
      "text/html": [
       "<p style='text-align:center'> *** </p>"
      ],
      "text/plain": [
       "<IPython.core.display.HTML object>"
      ]
     },
     "metadata": {},
     "output_type": "display_data"
    },
    {
     "data": {
      "text/html": [
       "<h4 style='text-align:center'>27-02-2005</h4>"
      ],
      "text/plain": [
       "<IPython.core.display.HTML object>"
      ]
     },
     "metadata": {},
     "output_type": "display_data"
    },
    {
     "data": {
      "text/html": [
       "<h3 style='text-align:center'> <a href='https://www.ncbi.nlm.nih.gov/pmc/articles/PMC3320438/'> DIAGNOSTIC SYSTEM FOR RAPID AND SENSITIVE DIFFERENTIAL DETECTION OF PATHOGENS</a></h2>"
      ],
      "text/plain": [
       "<IPython.core.display.HTML object>"
      ]
     },
     "metadata": {},
     "output_type": "display_data"
    },
    {
     "data": {
      "text/html": [
       "<h4 style='text-align:center'> ~ <b>Briese, Thomas; Palacios, Gustavo; Kokoris, Mark; Jabado, Omar; Liu, Zhiqiang; Renwick, Neil; Kapoor, Vishal; Casas, Inmaculada; Pozo, Francisco; Limberger, Ron; Perez-Brena, Pilar; Ju, Jingyue; Lipkin, W. Ian</b></h4>"
      ],
      "text/plain": [
       "<IPython.core.display.HTML object>"
      ]
     },
     "metadata": {},
     "output_type": "display_data"
    },
    {
     "data": {
      "text/html": [
       "<blockquote> We describe a diagnostic system for rapid, sensitive, multiplex discrimination of microbial gene sequences and report its application for detecting 22 respiratory pathogens in clinical samples</blockquote>"
      ],
      "text/plain": [
       "<IPython.core.display.HTML object>"
      ]
     },
     "metadata": {},
     "output_type": "display_data"
    },
    {
     "data": {
      "text/html": [
       "<p style='text-align:center'> *** </p>"
      ],
      "text/plain": [
       "<IPython.core.display.HTML object>"
      ]
     },
     "metadata": {},
     "output_type": "display_data"
    },
    {
     "data": {
      "text/html": [
       "<h2>17. One Health surveillance of humans and potential sources of future spillover or ongoing exposure for this organism and future pathogens, including both evolutionary hosts (e.g., bats) and transmission hosts (e.g., heavily trafficked and farmed wildlife and domestic food and companion species), inclusive of environmental, demographic, and occupational risk factors. </h2>"
      ],
      "text/plain": [
       "<IPython.core.display.HTML object>"
      ]
     },
     "metadata": {},
     "output_type": "display_data"
    },
    {
     "data": {
      "text/html": [
       "<h4 style='text-align:center'>10-06-2019</h4>"
      ],
      "text/plain": [
       "<IPython.core.display.HTML object>"
      ]
     },
     "metadata": {},
     "output_type": "display_data"
    },
    {
     "data": {
      "text/html": [
       "<h3 style='text-align:center'> <a href='https://www.ncbi.nlm.nih.gov/pmc/articles/PMC7091643/'> COMMUNICABLE DISEASE SURVEILLANCE ETHICS IN THE AGE OF BIG DATA AND NEW TECHNOLOGY</a></h2>"
      ],
      "text/plain": [
       "<IPython.core.display.HTML object>"
      ]
     },
     "metadata": {},
     "output_type": "display_data"
    },
    {
     "data": {
      "text/html": [
       "<h4 style='text-align:center'> ~ <b>Gilbert, Gwendolyn L.; Degeling, Chris; Johnson, Jane</b></h4>"
      ],
      "text/plain": [
       "<IPython.core.display.HTML object>"
      ]
     },
     "metadata": {},
     "output_type": "display_data"
    },
    {
     "data": {
      "text/html": [
       "<blockquote> Data from animal and environmental health sources can help to identify emerging infectious disease risks</blockquote>"
      ],
      "text/plain": [
       "<IPython.core.display.HTML object>"
      ]
     },
     "metadata": {},
     "output_type": "display_data"
    },
    {
     "data": {
      "text/html": [
       "<p style='text-align:center'> *** </p>"
      ],
      "text/plain": [
       "<IPython.core.display.HTML object>"
      ]
     },
     "metadata": {},
     "output_type": "display_data"
    },
    {
     "data": {
      "text/html": [
       "<h4 style='text-align:center'>25-01-2017</h4>"
      ],
      "text/plain": [
       "<IPython.core.display.HTML object>"
      ]
     },
     "metadata": {},
     "output_type": "display_data"
    },
    {
     "data": {
      "text/html": [
       "<h3 style='text-align:center'> <a href='https://www.ncbi.nlm.nih.gov/pmc/articles/PMC5263158/'> XMAP TECHNOLOGY: APPLICATIONS IN DETECTION OF PATHOGENS</a></h2>"
      ],
      "text/plain": [
       "<IPython.core.display.HTML object>"
      ]
     },
     "metadata": {},
     "output_type": "display_data"
    },
    {
     "data": {
      "text/html": [
       "<h4 style='text-align:center'> ~ <b>Reslova, Nikol; Michna, Veronika; Kasny, Martin; Mikel, Pavel; Kralik, Petr</b></h4>"
      ],
      "text/plain": [
       "<IPython.core.display.HTML object>"
      ]
     },
     "metadata": {},
     "output_type": "display_data"
    },
    {
     "data": {
      "text/html": [
       "<blockquote> The surveillance of zoonotic viruses in wildlife populations is necessary in order to monitor the risk of emerging infectious disease outbreaks</blockquote>"
      ],
      "text/plain": [
       "<IPython.core.display.HTML object>"
      ]
     },
     "metadata": {},
     "output_type": "display_data"
    },
    {
     "data": {
      "text/html": [
       "<p style='text-align:center'> *** </p>"
      ],
      "text/plain": [
       "<IPython.core.display.HTML object>"
      ]
     },
     "metadata": {},
     "output_type": "display_data"
    },
    {
     "data": {
      "text/html": [
       "<h4 style='text-align:center'>01-07-2015</h4>"
      ],
      "text/plain": [
       "<IPython.core.display.HTML object>"
      ]
     },
     "metadata": {},
     "output_type": "display_data"
    },
    {
     "data": {
      "text/html": [
       "<h3 style='text-align:center'> <a href='http://europepmc.org/articles/pmc4507309?pdf=render'> TARGETING TRANSMISSION PATHWAYS FOR EMERGING ZOONOTIC DISEASE SURVEILLANCE AND CONTROL</a></h2>"
      ],
      "text/plain": [
       "<IPython.core.display.HTML object>"
      ]
     },
     "metadata": {},
     "output_type": "display_data"
    },
    {
     "data": {
      "text/html": [
       "<h4 style='text-align:center'> ~ <b>Loh, Elizabeth H.; Zambrana-Torrelio, Carlos; Olival, Kevin J.; Bogich, Tiffany L.; Johnson, Christine K.; Mazet, Jonna A. K.; Karesh, William; Daszak, Peter</b></h4>"
      ],
      "text/plain": [
       "<IPython.core.display.HTML object>"
      ]
     },
     "metadata": {},
     "output_type": "display_data"
    },
    {
     "data": {
      "text/html": [
       "<blockquote> By targeting this and other potential routes of food contamination, surveillance efforts and control measures may better minimize the risk of zoonotic disease emergence\n",
       " Proactive approaches include pathogen discovery in wildlife to identify potential zoonoses , Lipkin 2013 , however the number of microbes in wildlife remaining to be discovered is likely large and the causes and dynamics of transmission from wildlife to human are poorly understood ( Jones et al\n",
       " However, it is likely that many more novel transmission pathways remain undescribed for pathogens that pose a potential human health risk</blockquote>"
      ],
      "text/plain": [
       "<IPython.core.display.HTML object>"
      ]
     },
     "metadata": {},
     "output_type": "display_data"
    },
    {
     "data": {
      "text/html": [
       "<p style='text-align:center'> *** </p>"
      ],
      "text/plain": [
       "<IPython.core.display.HTML object>"
      ]
     },
     "metadata": {},
     "output_type": "display_data"
    }
   ],
   "source": [
    "tags = [\n",
    "\"How widespread current exposure is to be able to make immediate policy recommendations on mitigation measures. Denominators for testing and a mechanism for rapidly sharing that information, including demographics, to the extent possible. Sampling methods to determine asymptomatic disease (e.g., use of serosurveys (such as convalescent samples) and early detection of disease (e.g., use of screening of neutralizing antibodies such as ELISAs).\",\n",
    "\"Efforts to increase capacity on existing diagnostic platforms and tap into existing surveillance platforms.\",\n",
    "\"Recruitment, support, and coordination of local expertise and capacity (public, private—commercial, and non-profit, including academic), including legal, ethical, communications, and operational issues.\",\n",
    "\"National guidance and guidelines about best practices to states (e.g., how states might leverage universities and private laboratories for testing purposes, communications to public health officials and the public).\",\n",
    "\"Development of a point-of-care test (like a rapid influenza test) and rapid bed-side tests, recognizing the tradeoffs between speed, accessibility, and accuracy. Rapid design and execution of targeted surveillance experiments calling for all potential testers using PCR in a defined area to start testing and report to a specific entity. These experiments could aid in collecting longitudinal samples, which are critical to understanding the impact of ad hoc local interventions (which also need to be recorded).\",\n",
    "\"Separation of assay development issues from instruments, and the role of the private sector to help quickly migrate assays onto those devices.\",\n",
    "\"Efforts to track the evolution of the virus (i.e., genetic drift or mutations) and avoid locking into specific reagents and surveillance/detection schemes.\",\n",
    "\"Latency issues and when there is sufficient viral load to detect the pathogen, and understanding of what is needed in terms of biological and environmental sampling.\",\n",
    "\"Use of diagnostics such as host response markers (e.g., cytokines) to detect early disease or predict severe disease progression, which would be important to understanding best clinical practice and efficacy of therapeutic interventions.\",\n",
    "\"Policies and protocols for screening and testing.\",\n",
    "\"Policies to mitigate the effects on supplies associated with mass testing, including swabs and reagents.\",\n",
    "\"Technology roadmap for diagnostics.\",\n",
    "\"Barriers to developing and scaling up new diagnostic tests (e.g., market forces), how future coalition and accelerator models (e.g., Coalition for Epidemic Preparedness Innovations) could provide critical funding for diagnostics, and opportunities for a streamlined regulatory environment.\",\n",
    "\"New platforms and technology (e.g., CRISPR) to improve response times and employ more holistic approaches to COVID-19 and future diseases.\",\n",
    "\"Coupling genomics and diagnostic testing on a large scale.\",\n",
    "\"Enhance capabilities for rapid sequencing and bioinformatics to target regions of the genome that will allow specificity for a particular variant. Enhance capacity (people, technology, data) for sequencing with advanced analytics for unknown pathogens, and explore capabilities for distinguishing naturally-occurring pathogens from intentional.\",\n",
    "\"One Health surveillance of humans and potential sources of future spillover or ongoing exposure for this organism and future pathogens, including both evolutionary hosts (e.g., bats) and transmission hosts (e.g., heavily trafficked and farmed wildlife and domestic food and companion species), inclusive of environmental, demographic, and occupational risk factors.\"\n",
    "]\n",
    "\n",
    "read_data(tags, 7)\n"
   ]
  },
  {
   "cell_type": "code",
   "execution_count": 72,
   "metadata": {},
   "outputs": [
    {
     "data": {
      "text/html": [
       "<h1 style='font-size:30px'>What has been published concerning ethical considerations for research?</h1> </br>"
      ],
      "text/plain": [
       "<IPython.core.display.HTML object>"
      ]
     },
     "metadata": {},
     "output_type": "display_data"
    },
    {
     "data": {
      "text/html": [
       "<h2>1. Efforts to articulate and translate existing ethical principles and standards to salient issues in COVID-2019 </h2>"
      ],
      "text/plain": [
       "<IPython.core.display.HTML object>"
      ]
     },
     "metadata": {},
     "output_type": "display_data"
    },
    {
     "data": {
      "text/html": [
       "<h4 style='text-align:center'>31-03-2020</h4>"
      ],
      "text/plain": [
       "<IPython.core.display.HTML object>"
      ]
     },
     "metadata": {},
     "output_type": "display_data"
    },
    {
     "data": {
      "text/html": [
       "<h3 style='text-align:center'> <a href='https://doi.org/10.1016/j.pubrev.2019.04.003'> THE SOCIAL-MEDIATED CRISIS COMMUNICATION RESEARCH: REVISITING DIALOGUE BETWEEN ORGANIZATIONS AND PUBLICS IN CRISES OF CHINA</a></h2>"
      ],
      "text/plain": [
       "<IPython.core.display.HTML object>"
      ]
     },
     "metadata": {},
     "output_type": "display_data"
    },
    {
     "data": {
      "text/html": [
       "<h4 style='text-align:center'> ~ <b>Cheng, Yang</b></h4>"
      ],
      "text/plain": [
       "<IPython.core.display.HTML object>"
      ]
     },
     "metadata": {},
     "output_type": "display_data"
    },
    {
     "data": {
      "text/html": [
       "<blockquote> Future research agenda may focus on the social-mediated crisis communication from perspectives of NPOs and provide theoretical and practical suggestions to increase organizational transparency and accountability in crises</blockquote>"
      ],
      "text/plain": [
       "<IPython.core.display.HTML object>"
      ]
     },
     "metadata": {},
     "output_type": "display_data"
    },
    {
     "data": {
      "text/html": [
       "<p style='text-align:center'> *** </p>"
      ],
      "text/plain": [
       "<IPython.core.display.HTML object>"
      ]
     },
     "metadata": {},
     "output_type": "display_data"
    },
    {
     "data": {
      "text/html": [
       "<h4 style='text-align:center'>30-11-2019</h4>"
      ],
      "text/plain": [
       "<IPython.core.display.HTML object>"
      ]
     },
     "metadata": {},
     "output_type": "display_data"
    },
    {
     "data": {
      "text/html": [
       "<h3 style='text-align:center'> <a href='https://doi.org/10.1016/j.socscimed.2019.112552'> SYSTEMATIC LITERATURE REVIEW ON THE SPREAD OF HEALTH-RELATED MISINFORMATION ON SOCIAL MEDIA</a></h2>"
      ],
      "text/plain": [
       "<IPython.core.display.HTML object>"
      ]
     },
     "metadata": {},
     "output_type": "display_data"
    },
    {
     "data": {
      "text/html": [
       "<h4 style='text-align:center'> ~ <b>Wang, Yuxi; McKee, Martin; Torbica, Aleksandra; Stuckler, David</b></h4>"
      ],
      "text/plain": [
       "<IPython.core.display.HTML object>"
      ]
     },
     "metadata": {},
     "output_type": "display_data"
    },
    {
     "data": {
      "text/html": [
       "<blockquote> This requires profound understanding on how epistemic and ideology beliefs act as obstacles to accepting scientific evidence</blockquote>"
      ],
      "text/plain": [
       "<IPython.core.display.HTML object>"
      ]
     },
     "metadata": {},
     "output_type": "display_data"
    },
    {
     "data": {
      "text/html": [
       "<p style='text-align:center'> *** </p>"
      ],
      "text/plain": [
       "<IPython.core.display.HTML object>"
      ]
     },
     "metadata": {},
     "output_type": "display_data"
    },
    {
     "data": {
      "text/html": [
       "<h4 style='text-align:center'>31-03-2016</h4>"
      ],
      "text/plain": [
       "<IPython.core.display.HTML object>"
      ]
     },
     "metadata": {},
     "output_type": "display_data"
    },
    {
     "data": {
      "text/html": [
       "<h3 style='text-align:center'> <a href='https://doi.org/10.1016/j.pubrev.2015.11.015'> CRISIS COMMUNICATION IN CONTEXT: CULTURAL AND POLITICAL INFLUENCES UNDERPINNING CHINESE PUBLIC RELATIONS PRACTICE</a></h2>"
      ],
      "text/plain": [
       "<IPython.core.display.HTML object>"
      ]
     },
     "metadata": {},
     "output_type": "display_data"
    },
    {
     "data": {
      "text/html": [
       "<h4 style='text-align:center'> ~ <b>Huang, Yi-Hui Christine; Wu, Fang; Cheng, Yang</b></h4>"
      ],
      "text/plain": [
       "<IPython.core.display.HTML object>"
      ]
     },
     "metadata": {},
     "output_type": "display_data"
    },
    {
     "data": {
      "text/html": [
       "<blockquote> A preponderance of current crisis communication theories presumes the social norms and individual psychological motivations of individualistic cultures</blockquote>"
      ],
      "text/plain": [
       "<IPython.core.display.HTML object>"
      ]
     },
     "metadata": {},
     "output_type": "display_data"
    },
    {
     "data": {
      "text/html": [
       "<p style='text-align:center'> *** </p>"
      ],
      "text/plain": [
       "<IPython.core.display.HTML object>"
      ]
     },
     "metadata": {},
     "output_type": "display_data"
    },
    {
     "data": {
      "text/html": [
       "<h4 style='text-align:center'>29-12-2015</h4>"
      ],
      "text/plain": [
       "<IPython.core.display.HTML object>"
      ]
     },
     "metadata": {},
     "output_type": "display_data"
    },
    {
     "data": {
      "text/html": [
       "<h3 style='text-align:center'> <a href='https://www.ncbi.nlm.nih.gov/pmc/articles/PMC4696140/'> IMPLEMENTING A ONE HEALTH APPROACH TO EMERGING INFECTIOUS DISEASE: REFLECTIONS ON THE SOCIO-POLITICAL, ETHICAL AND LEGAL DIMENSIONS</a></h2>"
      ],
      "text/plain": [
       "<IPython.core.display.HTML object>"
      ]
     },
     "metadata": {},
     "output_type": "display_data"
    },
    {
     "data": {
      "text/html": [
       "<h4 style='text-align:center'> ~ <b>Degeling, Chris; Johnson, Jane; Kerridge, Ian; Wilson, Andrew; Ward, Michael; Stewart, Cameron; Gilbert, Gwendolyn</b></h4>"
      ],
      "text/plain": [
       "<IPython.core.display.HTML object>"
      ]
     },
     "metadata": {},
     "output_type": "display_data"
    },
    {
     "data": {
      "text/html": [
       "<blockquote> EID management must therefore be based on normative principles as well as local knowledge, operational experience and disease-specific scientific and economic evidence</blockquote>"
      ],
      "text/plain": [
       "<IPython.core.display.HTML object>"
      ]
     },
     "metadata": {},
     "output_type": "display_data"
    },
    {
     "data": {
      "text/html": [
       "<p style='text-align:center'> *** </p>"
      ],
      "text/plain": [
       "<IPython.core.display.HTML object>"
      ]
     },
     "metadata": {},
     "output_type": "display_data"
    },
    {
     "data": {
      "text/html": [
       "<h2>2. Efforts to embed ethics across all thematic areas, engage with novel ethical issues that arise and coordinate to minimize duplication of oversight </h2>"
      ],
      "text/plain": [
       "<IPython.core.display.HTML object>"
      ]
     },
     "metadata": {},
     "output_type": "display_data"
    },
    {
     "data": {
      "text/html": [
       "<h4 style='text-align:center'>31-03-2020</h4>"
      ],
      "text/plain": [
       "<IPython.core.display.HTML object>"
      ]
     },
     "metadata": {},
     "output_type": "display_data"
    },
    {
     "data": {
      "text/html": [
       "<h3 style='text-align:center'> <a href='https://doi.org/10.1016/j.pubrev.2019.04.003'> THE SOCIAL-MEDIATED CRISIS COMMUNICATION RESEARCH: REVISITING DIALOGUE BETWEEN ORGANIZATIONS AND PUBLICS IN CRISES OF CHINA</a></h2>"
      ],
      "text/plain": [
       "<IPython.core.display.HTML object>"
      ]
     },
     "metadata": {},
     "output_type": "display_data"
    },
    {
     "data": {
      "text/html": [
       "<h4 style='text-align:center'> ~ <b>Cheng, Yang</b></h4>"
      ],
      "text/plain": [
       "<IPython.core.display.HTML object>"
      ]
     },
     "metadata": {},
     "output_type": "display_data"
    },
    {
     "data": {
      "text/html": [
       "<blockquote> Future research agenda may focus on the social-mediated crisis communication from perspectives of NPOs and provide theoretical and practical suggestions to increase organizational transparency and accountability in crises</blockquote>"
      ],
      "text/plain": [
       "<IPython.core.display.HTML object>"
      ]
     },
     "metadata": {},
     "output_type": "display_data"
    },
    {
     "data": {
      "text/html": [
       "<p style='text-align:center'> *** </p>"
      ],
      "text/plain": [
       "<IPython.core.display.HTML object>"
      ]
     },
     "metadata": {},
     "output_type": "display_data"
    },
    {
     "data": {
      "text/html": [
       "<h4 style='text-align:center'>30-04-2019</h4>"
      ],
      "text/plain": [
       "<IPython.core.display.HTML object>"
      ]
     },
     "metadata": {},
     "output_type": "display_data"
    },
    {
     "data": {
      "text/html": [
       "<h3 style='text-align:center'> <a href='https://doi.org/10.1016/j.giq.2018.12.008'> COLLABORATIVE ACCOUNTABILITY FOR SUSTAINABLE PUBLIC HEALTH: A KOREAN PERSPECTIVE ON THE EFFECTIVE USE OF ICT-BASED HEALTH RISK COMMUNICATION</a></h2>"
      ],
      "text/plain": [
       "<IPython.core.display.HTML object>"
      ]
     },
     "metadata": {},
     "output_type": "display_data"
    },
    {
     "data": {
      "text/html": [
       "<h4 style='text-align:center'> ~ <b>Lee, Taejun (David); Park, Hyojung; Lee, Junesoo</b></h4>"
      ],
      "text/plain": [
       "<IPython.core.display.HTML object>"
      ]
     },
     "metadata": {},
     "output_type": "display_data"
    },
    {
     "data": {
      "text/html": [
       "<blockquote> The purpose of this study is to investigate how to increase government accountability for motivating citizens to engage in ICT-based health risk communication, thereby attaining sustainable public health practices through collaborative governance</blockquote>"
      ],
      "text/plain": [
       "<IPython.core.display.HTML object>"
      ]
     },
     "metadata": {},
     "output_type": "display_data"
    },
    {
     "data": {
      "text/html": [
       "<p style='text-align:center'> *** </p>"
      ],
      "text/plain": [
       "<IPython.core.display.HTML object>"
      ]
     },
     "metadata": {},
     "output_type": "display_data"
    },
    {
     "data": {
      "text/html": [
       "<h4 style='text-align:center'>31-03-2016</h4>"
      ],
      "text/plain": [
       "<IPython.core.display.HTML object>"
      ]
     },
     "metadata": {},
     "output_type": "display_data"
    },
    {
     "data": {
      "text/html": [
       "<h3 style='text-align:center'> <a href='https://doi.org/10.1016/j.pubrev.2015.11.015'> CRISIS COMMUNICATION IN CONTEXT: CULTURAL AND POLITICAL INFLUENCES UNDERPINNING CHINESE PUBLIC RELATIONS PRACTICE</a></h2>"
      ],
      "text/plain": [
       "<IPython.core.display.HTML object>"
      ]
     },
     "metadata": {},
     "output_type": "display_data"
    },
    {
     "data": {
      "text/html": [
       "<h4 style='text-align:center'> ~ <b>Huang, Yi-Hui Christine; Wu, Fang; Cheng, Yang</b></h4>"
      ],
      "text/plain": [
       "<IPython.core.display.HTML object>"
      ]
     },
     "metadata": {},
     "output_type": "display_data"
    },
    {
     "data": {
      "text/html": [
       "<blockquote>Moreover, the findings suggest that crisis communication research in public relations may be enriched both theoretically and pragmatically through more diverse contextual and methodological applications\n",
       "Chinese crisis communication research particularly emphasized governmental perspectives</blockquote>"
      ],
      "text/plain": [
       "<IPython.core.display.HTML object>"
      ]
     },
     "metadata": {},
     "output_type": "display_data"
    },
    {
     "data": {
      "text/html": [
       "<p style='text-align:center'> *** </p>"
      ],
      "text/plain": [
       "<IPython.core.display.HTML object>"
      ]
     },
     "metadata": {},
     "output_type": "display_data"
    },
    {
     "data": {
      "text/html": [
       "<h4 style='text-align:center'>29-12-2015</h4>"
      ],
      "text/plain": [
       "<IPython.core.display.HTML object>"
      ]
     },
     "metadata": {},
     "output_type": "display_data"
    },
    {
     "data": {
      "text/html": [
       "<h3 style='text-align:center'> <a href='https://www.ncbi.nlm.nih.gov/pmc/articles/PMC4696140/'> IMPLEMENTING A ONE HEALTH APPROACH TO EMERGING INFECTIOUS DISEASE: REFLECTIONS ON THE SOCIO-POLITICAL, ETHICAL AND LEGAL DIMENSIONS</a></h2>"
      ],
      "text/plain": [
       "<IPython.core.display.HTML object>"
      ]
     },
     "metadata": {},
     "output_type": "display_data"
    },
    {
     "data": {
      "text/html": [
       "<h4 style='text-align:center'> ~ <b>Degeling, Chris; Johnson, Jane; Kerridge, Ian; Wilson, Andrew; Ward, Michael; Stewart, Cameron; Gilbert, Gwendolyn</b></h4>"
      ],
      "text/plain": [
       "<IPython.core.display.HTML object>"
      ]
     },
     "metadata": {},
     "output_type": "display_data"
    },
    {
     "data": {
      "text/html": [
       "<blockquote> The overarching philosophical approach is that of developing sustained arguments that critically analyse the existing literature and reconceptualise or refine key concepts\n",
       " Without genuine cross-sectoral reform and a radical broadening of the scope of its inquiry into how specific social, cultural and spatial configurations promote the risks of EID emergence, One Health is in danger of becoming merely a rhetorical strategy to avoid conflict between its core disciplines, whereby practitioners, researchers and policymakers will espouse the methodological and moral case for interdisciplinary collaboration yet remain in their silos [11] </blockquote>"
      ],
      "text/plain": [
       "<IPython.core.display.HTML object>"
      ]
     },
     "metadata": {},
     "output_type": "display_data"
    },
    {
     "data": {
      "text/html": [
       "<p style='text-align:center'> *** </p>"
      ],
      "text/plain": [
       "<IPython.core.display.HTML object>"
      ]
     },
     "metadata": {},
     "output_type": "display_data"
    },
    {
     "data": {
      "text/html": [
       "<h4 style='text-align:center'>07-10-2015</h4>"
      ],
      "text/plain": [
       "<IPython.core.display.HTML object>"
      ]
     },
     "metadata": {},
     "output_type": "display_data"
    },
    {
     "data": {
      "text/html": [
       "<h3 style='text-align:center'> <a href='https://www.ncbi.nlm.nih.gov/pmc/articles/PMC4598337/'> PROMOTING PUBLIC HEALTH LEGAL PREPAREDNESS FOR EMERGENCIES: REVIEW OF CURRENT TRENDS AND THEIR RELEVANCE IN LIGHT OF THE EBOLA CRISIS</a></h2>"
      ],
      "text/plain": [
       "<IPython.core.display.HTML object>"
      ]
     },
     "metadata": {},
     "output_type": "display_data"
    },
    {
     "data": {
      "text/html": [
       "<h4 style='text-align:center'> ~ <b>Cohen, Odeya; Feder-Bubis, Paula; Bar-Dayan, Yaron; Adini, Bruria</b></h4>"
      ],
      "text/plain": [
       "<IPython.core.display.HTML object>"
      ]
     },
     "metadata": {},
     "output_type": "display_data"
    },
    {
     "data": {
      "text/html": [
       "<blockquote> Systematic research employing advanced techniques and sensitive data analyses can facilitate the study of legal preparedness and help elucidate the causal relationship between legal reforms and emergency preparedness of healthcare systems\n",
       " Studies dealing with preparedness are designed to reveal and resolve ethical and legal dilemmas in order to promote an optimal response for future situations</blockquote>"
      ],
      "text/plain": [
       "<IPython.core.display.HTML object>"
      ]
     },
     "metadata": {},
     "output_type": "display_data"
    },
    {
     "data": {
      "text/html": [
       "<p style='text-align:center'> *** </p>"
      ],
      "text/plain": [
       "<IPython.core.display.HTML object>"
      ]
     },
     "metadata": {},
     "output_type": "display_data"
    },
    {
     "data": {
      "text/html": [
       "<h4 style='text-align:center'>30-09-2013</h4>"
      ],
      "text/plain": [
       "<IPython.core.display.HTML object>"
      ]
     },
     "metadata": {},
     "output_type": "display_data"
    },
    {
     "data": {
      "text/html": [
       "<h3 style='text-align:center'> <a href='https://doi.org/10.1016/j.socscimed.2012.07.040'> UNRAVELING THE COMPLEXITIES OF DISASTER MANAGEMENT: A FRAMEWORK FOR CRITICAL SOCIAL INFRASTRUCTURE TO PROMOTE POPULATION HEALTH AND RESILIENCE</a></h2>"
      ],
      "text/plain": [
       "<IPython.core.display.HTML object>"
      ]
     },
     "metadata": {},
     "output_type": "display_data"
    },
    {
     "data": {
      "text/html": [
       "<h4 style='text-align:center'> ~ <b>O'Sullivan, Tracey L.; Kuziemsky, Craig E.; Toal-Sullivan, Darene; Corneil, Wayne</b></h4>"
      ],
      "text/plain": [
       "<IPython.core.display.HTML object>"
      ]
     },
     "metadata": {},
     "output_type": "display_data"
    },
    {
     "data": {
      "text/html": [
       "<blockquote> The key to unraveling complexity in disaster management is to understand how these issues intersect and develop interventions to enhance community capacity and promote collaborative activities, to increase situational awareness and facilitate adaptive responses to dynamic, complex events</blockquote>"
      ],
      "text/plain": [
       "<IPython.core.display.HTML object>"
      ]
     },
     "metadata": {},
     "output_type": "display_data"
    },
    {
     "data": {
      "text/html": [
       "<p style='text-align:center'> *** </p>"
      ],
      "text/plain": [
       "<IPython.core.display.HTML object>"
      ]
     },
     "metadata": {},
     "output_type": "display_data"
    },
    {
     "data": {
      "text/html": [
       "<h2>3. Efforts to support sustained education, access, and capacity building in the area of ethics </h2>"
      ],
      "text/plain": [
       "<IPython.core.display.HTML object>"
      ]
     },
     "metadata": {},
     "output_type": "display_data"
    },
    {
     "data": {
      "text/html": [
       "<h4 style='text-align:center'>30-04-2019</h4>"
      ],
      "text/plain": [
       "<IPython.core.display.HTML object>"
      ]
     },
     "metadata": {},
     "output_type": "display_data"
    },
    {
     "data": {
      "text/html": [
       "<h3 style='text-align:center'> <a href='https://doi.org/10.1016/j.giq.2018.12.008'> COLLABORATIVE ACCOUNTABILITY FOR SUSTAINABLE PUBLIC HEALTH: A KOREAN PERSPECTIVE ON THE EFFECTIVE USE OF ICT-BASED HEALTH RISK COMMUNICATION</a></h2>"
      ],
      "text/plain": [
       "<IPython.core.display.HTML object>"
      ]
     },
     "metadata": {},
     "output_type": "display_data"
    },
    {
     "data": {
      "text/html": [
       "<h4 style='text-align:center'> ~ <b>Lee, Taejun (David); Park, Hyojung; Lee, Junesoo</b></h4>"
      ],
      "text/plain": [
       "<IPython.core.display.HTML object>"
      ]
     },
     "metadata": {},
     "output_type": "display_data"
    },
    {
     "data": {
      "text/html": [
       "<blockquote> In this respect, this study has identified guiding principles and determining factors behind both government' and citizens' involvement in sustainable public health governance using ICT systems, specifically government social media sites used for health risk communication services\n",
       "Information-communication technology (ICT) can help governments and their citizens collaborate toward achieving sustainable public health practices\n",
       " The purpose of this study is to investigate how to increase government accountability for motivating citizens to engage in ICT-based health risk communication, thereby attaining sustainable public health practices through collaborative governance</blockquote>"
      ],
      "text/plain": [
       "<IPython.core.display.HTML object>"
      ]
     },
     "metadata": {},
     "output_type": "display_data"
    },
    {
     "data": {
      "text/html": [
       "<p style='text-align:center'> *** </p>"
      ],
      "text/plain": [
       "<IPython.core.display.HTML object>"
      ]
     },
     "metadata": {},
     "output_type": "display_data"
    },
    {
     "data": {
      "text/html": [
       "<h4 style='text-align:center'>14-08-2012</h4>"
      ],
      "text/plain": [
       "<IPython.core.display.HTML object>"
      ]
     },
     "metadata": {},
     "output_type": "display_data"
    },
    {
     "data": {
      "text/html": [
       "<h3 style='text-align:center'> <a href='https://www.ncbi.nlm.nih.gov/pmc/articles/PMC3492195/'> SOCIAL DETERMINANTS OF HEALTH IN CANADA: ARE HEALTHY LIVING INITIATIVES THERE YET? A POLICY ANALYSIS</a></h2>"
      ],
      "text/plain": [
       "<IPython.core.display.HTML object>"
      ]
     },
     "metadata": {},
     "output_type": "display_data"
    },
    {
     "data": {
      "text/html": [
       "<h4 style='text-align:center'> ~ <b>Gore, Dana; Kothari, Anita</b></h4>"
      ],
      "text/plain": [
       "<IPython.core.display.HTML object>"
      ]
     },
     "metadata": {},
     "output_type": "display_data"
    },
    {
     "data": {
      "text/html": [
       "<blockquote>An organization that provides services to community organizations that aim to develop health promotion programs</blockquote>"
      ],
      "text/plain": [
       "<IPython.core.display.HTML object>"
      ]
     },
     "metadata": {},
     "output_type": "display_data"
    },
    {
     "data": {
      "text/html": [
       "<p style='text-align:center'> *** </p>"
      ],
      "text/plain": [
       "<IPython.core.display.HTML object>"
      ]
     },
     "metadata": {},
     "output_type": "display_data"
    },
    {
     "data": {
      "text/html": [
       "<h4 style='text-align:center'>31-01-2011</h4>"
      ],
      "text/plain": [
       "<IPython.core.display.HTML object>"
      ]
     },
     "metadata": {},
     "output_type": "display_data"
    },
    {
     "data": {
      "text/html": [
       "<h3 style='text-align:center'> <a href='https://doi.org/10.1016/j.puhe.2010.09.003'> BASIC PUBLIC HEALTH SERVICES DELIVERED IN AN URBAN COMMUNITY: A QUALITATIVE STUDY</a></h2>"
      ],
      "text/plain": [
       "<IPython.core.display.HTML object>"
      ]
     },
     "metadata": {},
     "output_type": "display_data"
    },
    {
     "data": {
      "text/html": [
       "<h4 style='text-align:center'> ~ <b>Zhao, Y.; Cui, S.; Yang, J.; Wang, W.; Guo, A.; Liu, Y.; Liang, W.</b></h4>"
      ],
      "text/plain": [
       "<IPython.core.display.HTML object>"
      ]
     },
     "metadata": {},
     "output_type": "display_data"
    },
    {
     "data": {
      "text/html": [
       "<blockquote>The findings relate to three main themes: the content of basic public health services, funding support for basic public health services, and the providers who deliver basic public health services</blockquote>"
      ],
      "text/plain": [
       "<IPython.core.display.HTML object>"
      ]
     },
     "metadata": {},
     "output_type": "display_data"
    },
    {
     "data": {
      "text/html": [
       "<p style='text-align:center'> *** </p>"
      ],
      "text/plain": [
       "<IPython.core.display.HTML object>"
      ]
     },
     "metadata": {},
     "output_type": "display_data"
    },
    {
     "data": {
      "text/html": [
       "<h4 style='text-align:center'>29-02-2008</h4>"
      ],
      "text/plain": [
       "<IPython.core.display.HTML object>"
      ]
     },
     "metadata": {},
     "output_type": "display_data"
    },
    {
     "data": {
      "text/html": [
       "<h3 style='text-align:center'> <a href='https://doi.org/10.1016/j.puhe.2007.05.013'> THE THREE DOMAINS OF PUBLIC HEALTH: AN INTERNATIONALLY RELEVANT BASIS FOR PUBLIC HEALTH EDUCATION?</a></h2>"
      ],
      "text/plain": [
       "<IPython.core.display.HTML object>"
      ]
     },
     "metadata": {},
     "output_type": "display_data"
    },
    {
     "data": {
      "text/html": [
       "<h4 style='text-align:center'> ~ <b>Thorpe, Allison; Griffiths, Siân; Jewell, Tony; Adshead, Fiona</b></h4>"
      ],
      "text/plain": [
       "<IPython.core.display.HTML object>"
      ]
     },
     "metadata": {},
     "output_type": "display_data"
    },
    {
     "data": {
      "text/html": [
       "<blockquote> It provides broad public health perspectives and skills necessary to assume effective leadership in public health practice, reflecting the three domains of health improvement, health protection and health service quality</blockquote>"
      ],
      "text/plain": [
       "<IPython.core.display.HTML object>"
      ]
     },
     "metadata": {},
     "output_type": "display_data"
    },
    {
     "data": {
      "text/html": [
       "<p style='text-align:center'> *** </p>"
      ],
      "text/plain": [
       "<IPython.core.display.HTML object>"
      ]
     },
     "metadata": {},
     "output_type": "display_data"
    },
    {
     "data": {
      "text/html": [
       "<h2>4. Efforts to establish a team at WHO that will be integrated within multidisciplinary research and operational platforms and that will connect with existing and expanded global networks of social sciences. </h2>"
      ],
      "text/plain": [
       "<IPython.core.display.HTML object>"
      ]
     },
     "metadata": {},
     "output_type": "display_data"
    },
    {
     "data": {
      "text/html": [
       "<h4 style='text-align:center'>10-04-2019</h4>"
      ],
      "text/plain": [
       "<IPython.core.display.HTML object>"
      ]
     },
     "metadata": {},
     "output_type": "display_data"
    },
    {
     "data": {
      "text/html": [
       "<h3 style='text-align:center'> <a href='https://www.ncbi.nlm.nih.gov/pmc/articles/PMC6479867/'> PUBLIC PERCEPTION ON HEALTHCARE SERVICES: EVIDENCE FROM SOCIAL MEDIA PLATFORMS IN CHINA</a></h2>"
      ],
      "text/plain": [
       "<IPython.core.display.HTML object>"
      ]
     },
     "metadata": {},
     "output_type": "display_data"
    },
    {
     "data": {
      "text/html": [
       "<h4 style='text-align:center'> ~ <b>Hu, Guangyu; Han, Xueyan; Zhou, Huixuan; Liu, Yuanli</b></h4>"
      ],
      "text/plain": [
       "<IPython.core.display.HTML object>"
      ]
     },
     "metadata": {},
     "output_type": "display_data"
    },
    {
     "data": {
      "text/html": [
       "<blockquote> This study explored the possibility of utilizing social media to monitor public perceptions on healthcare services</blockquote>"
      ],
      "text/plain": [
       "<IPython.core.display.HTML object>"
      ]
     },
     "metadata": {},
     "output_type": "display_data"
    },
    {
     "data": {
      "text/html": [
       "<p style='text-align:center'> *** </p>"
      ],
      "text/plain": [
       "<IPython.core.display.HTML object>"
      ]
     },
     "metadata": {},
     "output_type": "display_data"
    },
    {
     "data": {
      "text/html": [
       "<h4 style='text-align:center'>31-08-2018</h4>"
      ],
      "text/plain": [
       "<IPython.core.display.HTML object>"
      ]
     },
     "metadata": {},
     "output_type": "display_data"
    },
    {
     "data": {
      "text/html": [
       "<h3 style='text-align:center'> <a href='https://doi.org/10.1016/j.tele.2017.12.017'> INFORMED PUBLIC AGAINST FALSE RUMOR IN THE SOCIAL MEDIA ERA: FOCUSING ON SOCIAL MEDIA DEPENDENCY</a></h2>"
      ],
      "text/plain": [
       "<IPython.core.display.HTML object>"
      ]
     },
     "metadata": {},
     "output_type": "display_data"
    },
    {
     "data": {
      "text/html": [
       "<h4 style='text-align:center'> ~ <b>Lee, Jiyoung; Choi, Yunjung</b></h4>"
      ],
      "text/plain": [
       "<IPython.core.display.HTML object>"
      ]
     },
     "metadata": {},
     "output_type": "display_data"
    },
    {
     "data": {
      "text/html": [
       "<blockquote> This study contributes to the growing field of research on information seeking through social media platforms</blockquote>"
      ],
      "text/plain": [
       "<IPython.core.display.HTML object>"
      ]
     },
     "metadata": {},
     "output_type": "display_data"
    },
    {
     "data": {
      "text/html": [
       "<p style='text-align:center'> *** </p>"
      ],
      "text/plain": [
       "<IPython.core.display.HTML object>"
      ]
     },
     "metadata": {},
     "output_type": "display_data"
    },
    {
     "data": {
      "text/html": [
       "<h4 style='text-align:center'>31-03-2016</h4>"
      ],
      "text/plain": [
       "<IPython.core.display.HTML object>"
      ]
     },
     "metadata": {},
     "output_type": "display_data"
    },
    {
     "data": {
      "text/html": [
       "<h3 style='text-align:center'> <a href='https://doi.org/10.1016/j.pubrev.2015.11.015'> CRISIS COMMUNICATION IN CONTEXT: CULTURAL AND POLITICAL INFLUENCES UNDERPINNING CHINESE PUBLIC RELATIONS PRACTICE</a></h2>"
      ],
      "text/plain": [
       "<IPython.core.display.HTML object>"
      ]
     },
     "metadata": {},
     "output_type": "display_data"
    },
    {
     "data": {
      "text/html": [
       "<h4 style='text-align:center'> ~ <b>Huang, Yi-Hui Christine; Wu, Fang; Cheng, Yang</b></h4>"
      ],
      "text/plain": [
       "<IPython.core.display.HTML object>"
      ]
     },
     "metadata": {},
     "output_type": "display_data"
    },
    {
     "data": {
      "text/html": [
       "<blockquote>Chinese crisis communication research particularly emphasized governmental perspectives</blockquote>"
      ],
      "text/plain": [
       "<IPython.core.display.HTML object>"
      ]
     },
     "metadata": {},
     "output_type": "display_data"
    },
    {
     "data": {
      "text/html": [
       "<p style='text-align:center'> *** </p>"
      ],
      "text/plain": [
       "<IPython.core.display.HTML object>"
      ]
     },
     "metadata": {},
     "output_type": "display_data"
    },
    {
     "ename": "ValueError",
     "evalue": "not enough values to unpack (expected 3, got 1)",
     "output_type": "error",
     "traceback": [
      "\u001b[1;31m---------------------------------------------------------------------------\u001b[0m",
      "\u001b[1;31mValueError\u001b[0m                                Traceback (most recent call last)",
      "\u001b[1;32m<ipython-input-72-9babf58532c6>\u001b[0m in \u001b[0;36m<module>\u001b[1;34m\u001b[0m\n\u001b[0;32m      9\u001b[0m ]\n\u001b[0;32m     10\u001b[0m \u001b[1;33m\u001b[0m\u001b[0m\n\u001b[1;32m---> 11\u001b[1;33m \u001b[0mread_data\u001b[0m\u001b[1;33m(\u001b[0m\u001b[0mtags\u001b[0m\u001b[1;33m,\u001b[0m \u001b[1;36m9\u001b[0m\u001b[1;33m)\u001b[0m\u001b[1;33m\u001b[0m\u001b[1;33m\u001b[0m\u001b[0m\n\u001b[0m",
      "\u001b[1;32m<ipython-input-64-756a1f8a214e>\u001b[0m in \u001b[0;36mread_data\u001b[1;34m(TAGS, TASK)\u001b[0m\n\u001b[0;32m      5\u001b[0m         \u001b[0mdf\u001b[0m \u001b[1;33m=\u001b[0m \u001b[0mpd\u001b[0m\u001b[1;33m.\u001b[0m\u001b[0mread_csv\u001b[0m\u001b[1;33m(\u001b[0m\u001b[0mDIR\u001b[0m \u001b[1;33m+\u001b[0m \u001b[1;34m\"task\"\u001b[0m \u001b[1;33m+\u001b[0m \u001b[0mstr\u001b[0m\u001b[1;33m(\u001b[0m\u001b[0mTASK\u001b[0m\u001b[1;33m)\u001b[0m \u001b[1;33m+\u001b[0m \u001b[1;34m\"_\"\u001b[0m \u001b[1;33m+\u001b[0m \u001b[0mstr\u001b[0m\u001b[1;33m(\u001b[0m\u001b[0mi\u001b[0m\u001b[1;33m)\u001b[0m \u001b[1;33m+\u001b[0m \u001b[1;34m\".csv\"\u001b[0m\u001b[1;33m)\u001b[0m\u001b[1;33m\u001b[0m\u001b[1;33m\u001b[0m\u001b[0m\n\u001b[0;32m      6\u001b[0m         \u001b[1;32mfor\u001b[0m \u001b[0mj\u001b[0m\u001b[1;33m,\u001b[0m \u001b[0mrow\u001b[0m \u001b[1;32min\u001b[0m \u001b[0mdf\u001b[0m\u001b[1;33m.\u001b[0m\u001b[0miterrows\u001b[0m\u001b[1;33m(\u001b[0m\u001b[1;33m)\u001b[0m\u001b[1;33m:\u001b[0m\u001b[1;33m\u001b[0m\u001b[1;33m\u001b[0m\u001b[0m\n\u001b[1;32m----> 7\u001b[1;33m             \u001b[0myear\u001b[0m\u001b[1;33m,\u001b[0m \u001b[0mmonth\u001b[0m\u001b[1;33m,\u001b[0m \u001b[0mday\u001b[0m \u001b[1;33m=\u001b[0m \u001b[0mrow\u001b[0m\u001b[1;33m[\u001b[0m\u001b[1;34m'publish_time'\u001b[0m\u001b[1;33m]\u001b[0m\u001b[1;33m.\u001b[0m\u001b[0msplit\u001b[0m\u001b[1;33m(\u001b[0m\u001b[1;34m'-'\u001b[0m\u001b[1;33m)\u001b[0m\u001b[1;33m\u001b[0m\u001b[1;33m\u001b[0m\u001b[0m\n\u001b[0m\u001b[0;32m      8\u001b[0m             \u001b[0mtime\u001b[0m \u001b[1;33m=\u001b[0m \u001b[1;34mf\"{day}-{month}-{year}\"\u001b[0m\u001b[1;33m\u001b[0m\u001b[1;33m\u001b[0m\u001b[0m\n\u001b[0;32m      9\u001b[0m             \u001b[0mdisplay\u001b[0m\u001b[1;33m(\u001b[0m\u001b[0mHTML\u001b[0m\u001b[1;33m(\u001b[0m\u001b[1;34m\"<h4 style='text-align:center'>\"\u001b[0m \u001b[1;33m+\u001b[0m \u001b[0mtime\u001b[0m \u001b[1;33m+\u001b[0m \u001b[1;34m\"</h4>\"\u001b[0m\u001b[1;33m)\u001b[0m\u001b[1;33m)\u001b[0m\u001b[1;33m\u001b[0m\u001b[1;33m\u001b[0m\u001b[0m\n",
      "\u001b[1;31mValueError\u001b[0m: not enough values to unpack (expected 3, got 1)"
     ]
    }
   ],
   "source": [
    "tags = [\n",
    "\"Efforts to articulate and translate existing ethical principles and standards to salient issues in COVID-2019\",\n",
    "\"Efforts to embed ethics across all thematic areas, engage with novel ethical issues that arise and coordinate to minimize duplication of oversight\",\n",
    "\"Efforts to support sustained education, access, and capacity building in the area of ethics\",\n",
    "\"Efforts to establish a team at WHO that will be integrated within multidisciplinary research and operational platforms and that will connect with existing and expanded global networks of social sciences.\",\n",
    "\"Efforts to develop qualitative assessment frameworks to systematically collect information related to local barriers and enablers for the uptake and adherence to public health measures for prevention and control. This includes the rapid identification of the secondary impacts of these measures. (e.g. use of surgical masks, modification of health seeking behaviors for SRH, school closures)\",\n",
    "\"Efforts to identify how the burden of responding to the outbreak and implementing public health measures affects the physical and psychological health of those providing care for Covid-19 patients and identify the immediate needs that must be addressed.\",\n",
    "\"Efforts to identify the underlying drivers of fear, anxiety and stigma that fuel misinformation and rumor, particularly through social media.\"\n",
    "]\n",
    "\n",
    "read_data(tags, 9)"
   ]
  },
  {
   "cell_type": "code",
   "execution_count": 73,
   "metadata": {},
   "outputs": [
    {
     "data": {
      "text/html": [
       "<h1 style='font-size:30px'>What has been published about information sharing and inter-sectoral collaboration?</h1> </br>"
      ],
      "text/plain": [
       "<IPython.core.display.HTML object>"
      ]
     },
     "metadata": {},
     "output_type": "display_data"
    },
    {
     "data": {
      "text/html": [
       "<h2>1. Methods for coordinating data-gathering with standardized nomenclature. </h2>"
      ],
      "text/plain": [
       "<IPython.core.display.HTML object>"
      ]
     },
     "metadata": {},
     "output_type": "display_data"
    },
    {
     "data": {
      "text/html": [
       "<h4 style='text-align:center'>18-09-2019</h4>"
      ],
      "text/plain": [
       "<IPython.core.display.HTML object>"
      ]
     },
     "metadata": {},
     "output_type": "display_data"
    },
    {
     "data": {
      "text/html": [
       "<h3 style='text-align:center'> <a href='https://www.ncbi.nlm.nih.gov/pmc/articles/PMC6766041/'> EVALUATION OF PUBLIC HEALTH EMERGENCY MANAGEMENT IN CHINA: A SYSTEMATIC REVIEW</a></h2>"
      ],
      "text/plain": [
       "<IPython.core.display.HTML object>"
      ]
     },
     "metadata": {},
     "output_type": "display_data"
    },
    {
     "data": {
      "text/html": [
       "<h4 style='text-align:center'> ~ <b>Wang, Jia; Yuan, Beibei; Li, Zhengmao; Wang, Zhifeng</b></h4>"
      ],
      "text/plain": [
       "<IPython.core.display.HTML object>"
      ]
     },
     "metadata": {},
     "output_type": "display_data"
    },
    {
     "data": {
      "text/html": [
       "<blockquote>Based on the characteristics of the included studies and the extracted data, qualitative data were used to analyze the collected research data</blockquote>"
      ],
      "text/plain": [
       "<IPython.core.display.HTML object>"
      ]
     },
     "metadata": {},
     "output_type": "display_data"
    },
    {
     "data": {
      "text/html": [
       "<p style='text-align:center'> *** </p>"
      ],
      "text/plain": [
       "<IPython.core.display.HTML object>"
      ]
     },
     "metadata": {},
     "output_type": "display_data"
    },
    {
     "data": {
      "text/html": [
       "<h4 style='text-align:center'>30-09-2004</h4>"
      ],
      "text/plain": [
       "<IPython.core.display.HTML object>"
      ]
     },
     "metadata": {},
     "output_type": "display_data"
    },
    {
     "data": {
      "text/html": [
       "<h3 style='text-align:center'> <a href='https://doi.org/10.1016/j.ijmedinf.2004.05.010'> INVESTIGATING PUBLIC HEALTH EMERGENCY RESPONSE INFORMATION SYSTEM INITIATIVES IN CHINA</a></h2>"
      ],
      "text/plain": [
       "<IPython.core.display.HTML object>"
      ]
     },
     "metadata": {},
     "output_type": "display_data"
    },
    {
     "data": {
      "text/html": [
       "<h4 style='text-align:center'> ~ <b>Liang, Huigang; Xue, Yajiong</b></h4>"
      ],
      "text/plain": [
       "<IPython.core.display.HTML object>"
      ]
     },
     "metadata": {},
     "output_type": "display_data"
    },
    {
     "data": {
      "text/html": [
       "<blockquote> The data collection system utilizes various technologies to capture images, graphs, statistical data, professional data, public health surveillance data, and textual data\n",
       " The data collected for PHERIS are heterogeneous\n",
       " Data storage technologies include both centralized and distributed database management models</blockquote>"
      ],
      "text/plain": [
       "<IPython.core.display.HTML object>"
      ]
     },
     "metadata": {},
     "output_type": "display_data"
    },
    {
     "data": {
      "text/html": [
       "<p style='text-align:center'> *** </p>"
      ],
      "text/plain": [
       "<IPython.core.display.HTML object>"
      ]
     },
     "metadata": {},
     "output_type": "display_data"
    },
    {
     "data": {
      "text/html": [
       "<h2>2. Sharing response information among planners, providers, and others. </h2>"
      ],
      "text/plain": [
       "<IPython.core.display.HTML object>"
      ]
     },
     "metadata": {},
     "output_type": "display_data"
    },
    {
     "data": {
      "text/html": [
       "<h4 style='text-align:center'>04-10-2019</h4>"
      ],
      "text/plain": [
       "<IPython.core.display.HTML object>"
      ]
     },
     "metadata": {},
     "output_type": "display_data"
    },
    {
     "data": {
      "text/html": [
       "<h3 style='text-align:center'> <a href='https://www.ncbi.nlm.nih.gov/pmc/articles/PMC6805005/'> A SYSTEMATIC REVIEW AND EVALUATION OF ZIKA VIRUS FORECASTING AND PREDICTION RESEARCH DURING A PUBLIC HEALTH EMERGENCY OF INTERNATIONAL CONCERN</a></h2>"
      ],
      "text/plain": [
       "<IPython.core.display.HTML object>"
      ]
     },
     "metadata": {},
     "output_type": "display_data"
    },
    {
     "data": {
      "text/html": [
       "<h4 style='text-align:center'> ~ <b>Kobres, Pei-Ying; Chretien, Jean-Paul; Johansson, Michael A.; Morgan, Jeffrey J.; Whung, Pai-Yei; Mukundan, Harshini; Del Valle, Sara Y.; Forshey, Brett M.; Quandelacy, Talia M.; Biggerstaff, Matthew; Viboud, Cecile; Pollett, Simon</b></h4>"
      ],
      "text/plain": [
       "<IPython.core.display.HTML object>"
      ]
     },
     "metadata": {},
     "output_type": "display_data"
    },
    {
     "data": {
      "text/html": [
       "<blockquote>Public health agencies, policy-makers, and other stakeholders are carefully examining the response to Zika</blockquote>"
      ],
      "text/plain": [
       "<IPython.core.display.HTML object>"
      ]
     },
     "metadata": {},
     "output_type": "display_data"
    },
    {
     "data": {
      "text/html": [
       "<p style='text-align:center'> *** </p>"
      ],
      "text/plain": [
       "<IPython.core.display.HTML object>"
      ]
     },
     "metadata": {},
     "output_type": "display_data"
    },
    {
     "data": {
      "text/html": [
       "<h4 style='text-align:center'>10-05-2019</h4>"
      ],
      "text/plain": [
       "<IPython.core.display.HTML object>"
      ]
     },
     "metadata": {},
     "output_type": "display_data"
    },
    {
     "data": {
      "text/html": [
       "<h3 style='text-align:center'> <a href='https://doi.org/10.1101/634832'> A SYSTEMATIC REVIEW AND EVALUATION OF ZIKA VIRUS FORECASTING AND PREDICTION RESEARCH DURING A PUBLIC HEALTH EMERGENCY OF INTERNATIONAL CONCERN</a></h2>"
      ],
      "text/plain": [
       "<IPython.core.display.HTML object>"
      ]
     },
     "metadata": {},
     "output_type": "display_data"
    },
    {
     "data": {
      "text/html": [
       "<h4 style='text-align:center'> ~ <b>P-Y Kobres; JP Chretien; MA Johansson; J Morgan; P-Y Whung; H Mukundan; SY Del Valle; BM Forshey; TM Quandelacy; M Biggerstaff; C Viboud; S Pollett</b></h4>"
      ],
      "text/plain": [
       "<IPython.core.display.HTML object>"
      ]
     },
     "metadata": {},
     "output_type": "display_data"
    },
    {
     "data": {
      "text/html": [
       "<blockquote>Public health agencies, policy-makers, and other stakeholders are carefully examining the response to Zika</blockquote>"
      ],
      "text/plain": [
       "<IPython.core.display.HTML object>"
      ]
     },
     "metadata": {},
     "output_type": "display_data"
    },
    {
     "data": {
      "text/html": [
       "<p style='text-align:center'> *** </p>"
      ],
      "text/plain": [
       "<IPython.core.display.HTML object>"
      ]
     },
     "metadata": {},
     "output_type": "display_data"
    },
    {
     "data": {
      "text/html": [
       "<h4 style='text-align:center'>08-12-2016</h4>"
      ],
      "text/plain": [
       "<IPython.core.display.HTML object>"
      ]
     },
     "metadata": {},
     "output_type": "display_data"
    },
    {
     "data": {
      "text/html": [
       "<h3 style='text-align:center'> <a href='https://www.ncbi.nlm.nih.gov/pmc/articles/PMC5146908/'> WEB-BASED INFECTIOUS DISEASE SURVEILLANCE SYSTEMS AND PUBLIC HEALTH PERSPECTIVES: A SYSTEMATIC REVIEW</a></h2>"
      ],
      "text/plain": [
       "<IPython.core.display.HTML object>"
      ]
     },
     "metadata": {},
     "output_type": "display_data"
    },
    {
     "data": {
      "text/html": [
       "<h4 style='text-align:center'> ~ <b>Choi, Jihye; Cho, Youngtae; Shim, Eunyoung; Woo, Hyekyung</b></h4>"
      ],
      "text/plain": [
       "<IPython.core.display.HTML object>"
      ]
     },
     "metadata": {},
     "output_type": "display_data"
    },
    {
     "data": {
      "text/html": [
       "<blockquote> Traditional passive surveillance systems typically rely on data submitted to the relevant public health authority by various healthcare providers [3] </blockquote>"
      ],
      "text/plain": [
       "<IPython.core.display.HTML object>"
      ]
     },
     "metadata": {},
     "output_type": "display_data"
    },
    {
     "data": {
      "text/html": [
       "<p style='text-align:center'> *** </p>"
      ],
      "text/plain": [
       "<IPython.core.display.HTML object>"
      ]
     },
     "metadata": {},
     "output_type": "display_data"
    },
    {
     "data": {
      "text/html": [
       "<h4 style='text-align:center'>17-05-2016</h4>"
      ],
      "text/plain": [
       "<IPython.core.display.HTML object>"
      ]
     },
     "metadata": {},
     "output_type": "display_data"
    },
    {
     "data": {
      "text/html": [
       "<h3 style='text-align:center'> <a href='https://www.ncbi.nlm.nih.gov/pmc/articles/PMC4869271/'> MOVING TOWARDS A NEW VISION: IMPLEMENTATION OF A PUBLIC HEALTH POLICY INTERVENTION</a></h2>"
      ],
      "text/plain": [
       "<IPython.core.display.HTML object>"
      ]
     },
     "metadata": {},
     "output_type": "display_data"
    },
    {
     "data": {
      "text/html": [
       "<h4 style='text-align:center'> ~ <b>Valaitis, Ruta; MacDonald, Marjorie; Kothari, Anita; O’Mara, Linda; Regan, Sandra; Garcia, John; Murray, Nancy; Manson, Heather; Peroff-Johnston, Nancy; Bursey, Gayle; Boyko, Jennifer</b></h4>"
      ],
      "text/plain": [
       "<IPython.core.display.HTML object>"
      ]
     },
     "metadata": {},
     "output_type": "display_data"
    },
    {
     "data": {
      "text/html": [
       "<blockquote>Policies were most frequently communicated through formal means by health unit managers to front line service providers</blockquote>"
      ],
      "text/plain": [
       "<IPython.core.display.HTML object>"
      ]
     },
     "metadata": {},
     "output_type": "display_data"
    },
    {
     "data": {
      "text/html": [
       "<p style='text-align:center'> *** </p>"
      ],
      "text/plain": [
       "<IPython.core.display.HTML object>"
      ]
     },
     "metadata": {},
     "output_type": "display_data"
    },
    {
     "data": {
      "text/html": [
       "<h4 style='text-align:center'>01-03-2014</h4>"
      ],
      "text/plain": [
       "<IPython.core.display.HTML object>"
      ]
     },
     "metadata": {},
     "output_type": "display_data"
    },
    {
     "data": {
      "text/html": [
       "<h3 style='text-align:center'> <a href='http://europepmc.org/articles/pmc3955375?pdf=render'> SOCIAL MEDIA AND INTERNET-BASED DATA IN GLOBAL SYSTEMS FOR PUBLIC HEALTH SURVEILLANCE: A SYSTEMATIC REVIEW</a></h2>"
      ],
      "text/plain": [
       "<IPython.core.display.HTML object>"
      ]
     },
     "metadata": {},
     "output_type": "display_data"
    },
    {
     "data": {
      "text/html": [
       "<h4 style='text-align:center'> ~ <b>VELASCO, EDWARD; AGHENEZA, TUMACHA; DENECKE, KERSTIN; KIRCHNER, GÖRAN; ECKMANNS, TIM</b></h4>"
      ],
      "text/plain": [
       "<IPython.core.display.HTML object>"
      ]
     },
     "metadata": {},
     "output_type": "display_data"
    },
    {
     "data": {
      "text/html": [
       "<blockquote> Existing systems for such event-based monitoring contain useful retrieval features that give epidemiologists and public health scientists involved in surveillance quick access to information compiled from many media and news sources\n",
       " Data on such indicators are reported by health care providers and diagnostic laboratories, by legal mandate or voluntary agreement, and are collected by surveillance specialists in governmental health agencies</blockquote>"
      ],
      "text/plain": [
       "<IPython.core.display.HTML object>"
      ]
     },
     "metadata": {},
     "output_type": "display_data"
    },
    {
     "data": {
      "text/html": [
       "<p style='text-align:center'> *** </p>"
      ],
      "text/plain": [
       "<IPython.core.display.HTML object>"
      ]
     },
     "metadata": {},
     "output_type": "display_data"
    },
    {
     "data": {
      "text/html": [
       "<h4 style='text-align:center'>30-09-2004</h4>"
      ],
      "text/plain": [
       "<IPython.core.display.HTML object>"
      ]
     },
     "metadata": {},
     "output_type": "display_data"
    },
    {
     "data": {
      "text/html": [
       "<h3 style='text-align:center'> <a href='https://doi.org/10.1016/j.ijmedinf.2004.05.010'> INVESTIGATING PUBLIC HEALTH EMERGENCY RESPONSE INFORMATION SYSTEM INITIATIVES IN CHINA</a></h2>"
      ],
      "text/plain": [
       "<IPython.core.display.HTML object>"
      ]
     },
     "metadata": {},
     "output_type": "display_data"
    },
    {
     "data": {
      "text/html": [
       "<h4 style='text-align:center'> ~ <b>Liang, Huigang; Xue, Yajiong</b></h4>"
      ],
      "text/plain": [
       "<IPython.core.display.HTML object>"
      ]
     },
     "metadata": {},
     "output_type": "display_data"
    },
    {
     "data": {
      "text/html": [
       "<blockquote> In addition, the provincial and city intranets provide network services and data services to public health related local organizations and form various community public health information networks</blockquote>"
      ],
      "text/plain": [
       "<IPython.core.display.HTML object>"
      ]
     },
     "metadata": {},
     "output_type": "display_data"
    },
    {
     "data": {
      "text/html": [
       "<p style='text-align:center'> *** </p>"
      ],
      "text/plain": [
       "<IPython.core.display.HTML object>"
      ]
     },
     "metadata": {},
     "output_type": "display_data"
    },
    {
     "data": {
      "text/html": [
       "<h2>3. Understanding and mitigating barriers to information-sharing. </h2>"
      ],
      "text/plain": [
       "<IPython.core.display.HTML object>"
      ]
     },
     "metadata": {},
     "output_type": "display_data"
    },
    {
     "data": {
      "text/html": [
       "<h4 style='text-align:center'>21-04-2017</h4>"
      ],
      "text/plain": [
       "<IPython.core.display.HTML object>"
      ]
     },
     "metadata": {},
     "output_type": "display_data"
    },
    {
     "data": {
      "text/html": [
       "<h3 style='text-align:center'> <a href='https://www.ncbi.nlm.nih.gov/pmc/articles/PMC5401385/'> SOCIAL MEDIA ENGAGEMENT ANALYSIS OF U.S. FEDERAL HEALTH AGENCIES ON FACEBOOK</a></h2>"
      ],
      "text/plain": [
       "<IPython.core.display.HTML object>"
      ]
     },
     "metadata": {},
     "output_type": "display_data"
    },
    {
     "data": {
      "text/html": [
       "<h4 style='text-align:center'> ~ <b>Bhattacharya, Sanmitra; Srinivasan, Padmini; Polgreen, Philip</b></h4>"
      ],
      "text/plain": [
       "<IPython.core.display.HTML object>"
      ]
     },
     "metadata": {},
     "output_type": "display_data"
    },
    {
     "data": {
      "text/html": [
       "<blockquote> Federal health agencies and Facebook users are meant to promote better healthcare knowledge through successful information dissemination and consumption</blockquote>"
      ],
      "text/plain": [
       "<IPython.core.display.HTML object>"
      ]
     },
     "metadata": {},
     "output_type": "display_data"
    },
    {
     "data": {
      "text/html": [
       "<p style='text-align:center'> *** </p>"
      ],
      "text/plain": [
       "<IPython.core.display.HTML object>"
      ]
     },
     "metadata": {},
     "output_type": "display_data"
    },
    {
     "data": {
      "text/html": [
       "<h4 style='text-align:center'>28-04-2015</h4>"
      ],
      "text/plain": [
       "<IPython.core.display.HTML object>"
      ]
     },
     "metadata": {},
     "output_type": "display_data"
    },
    {
     "data": {
      "text/html": [
       "<h3 style='text-align:center'> <a href='https://www.ncbi.nlm.nih.gov/pmc/articles/PMC4415223/'> THE EVIDENCE BASE OF PRIMARY RESEARCH IN PUBLIC HEALTH EMERGENCY PREPAREDNESS: A SCOPING REVIEW AND STAKEHOLDER CONSULTATION</a></h2>"
      ],
      "text/plain": [
       "<IPython.core.display.HTML object>"
      ]
     },
     "metadata": {},
     "output_type": "display_data"
    },
    {
     "data": {
      "text/html": [
       "<h4 style='text-align:center'> ~ <b>Khan, Yasmin; Fazli, Ghazal; Henry, Bonnie; de Villa, Eileen; Tsamis, Charoula; Grant, Moira; Schwartz, Brian</b></h4>"
      ],
      "text/plain": [
       "<IPython.core.display.HTML object>"
      ]
     },
     "metadata": {},
     "output_type": "display_data"
    },
    {
     "data": {
      "text/html": [
       "<blockquote> Opportunities for generating knowledge to examine complexities such as system integration could address knowledge gaps and inform operational activities and policy</blockquote>"
      ],
      "text/plain": [
       "<IPython.core.display.HTML object>"
      ]
     },
     "metadata": {},
     "output_type": "display_data"
    },
    {
     "data": {
      "text/html": [
       "<p style='text-align:center'> *** </p>"
      ],
      "text/plain": [
       "<IPython.core.display.HTML object>"
      ]
     },
     "metadata": {},
     "output_type": "display_data"
    },
    {
     "data": {
      "text/html": [
       "<h4 style='text-align:center'>13-12-2013</h4>"
      ],
      "text/plain": [
       "<IPython.core.display.HTML object>"
      ]
     },
     "metadata": {},
     "output_type": "display_data"
    },
    {
     "data": {
      "text/html": [
       "<h3 style='text-align:center'> <a href='https://www.ncbi.nlm.nih.gov/pmc/articles/PMC3864162/'> SURVEILLANCE, RESPONSE SYSTEMS, AND EVIDENCE UPDATES ON EMERGING ZOONOSES: THE ROLE OF ONE HEALTH</a></h2>"
      ],
      "text/plain": [
       "<IPython.core.display.HTML object>"
      ]
     },
     "metadata": {},
     "output_type": "display_data"
    },
    {
     "data": {
      "text/html": [
       "<h4 style='text-align:center'> ~ <b>Asokan, G. V.; Kasimanickam, Ramanathan K.; Asokan, Vanitha</b></h4>"
      ],
      "text/plain": [
       "<IPython.core.display.HTML object>"
      ]
     },
     "metadata": {},
     "output_type": "display_data"
    },
    {
     "data": {
      "text/html": [
       "<blockquote> Access to such resources addresses several barriers identified by health care decision makers regarding access to evidence-based information, including limitations of time and lack of knowledge regarding resources that synthesize, summarize, and assess evidence for quality</blockquote>"
      ],
      "text/plain": [
       "<IPython.core.display.HTML object>"
      ]
     },
     "metadata": {},
     "output_type": "display_data"
    },
    {
     "data": {
      "text/html": [
       "<p style='text-align:center'> *** </p>"
      ],
      "text/plain": [
       "<IPython.core.display.HTML object>"
      ]
     },
     "metadata": {},
     "output_type": "display_data"
    },
    {
     "data": {
      "text/html": [
       "<h4 style='text-align:center'>04-06-2013</h4>"
      ],
      "text/plain": [
       "<IPython.core.display.HTML object>"
      ]
     },
     "metadata": {},
     "output_type": "display_data"
    },
    {
     "data": {
      "text/html": [
       "<h3 style='text-align:center'> <a href='https://www.ncbi.nlm.nih.gov/pmc/articles/PMC3680003/'> FADING VISION: KNOWLEDGE TRANSLATION IN THE IMPLEMENTATION OF A PUBLIC HEALTH POLICY INTERVENTION</a></h2>"
      ],
      "text/plain": [
       "<IPython.core.display.HTML object>"
      ]
     },
     "metadata": {},
     "output_type": "display_data"
    },
    {
     "data": {
      "text/html": [
       "<h4 style='text-align:center'> ~ <b>Tomm-Bonde, Laura; Schreiber, Rita S; Allan, Diane E; MacDonald, Marjorie; Pauly, Bernie; Hancock, Trevor</b></h4>"
      ],
      "text/plain": [
       "<IPython.core.display.HTML object>"
      ]
     },
     "metadata": {},
     "output_type": "display_data"
    },
    {
     "data": {
      "text/html": [
       "<blockquote>Intra-organizational networks and communications are important influences on successful implementation</blockquote>"
      ],
      "text/plain": [
       "<IPython.core.display.HTML object>"
      ]
     },
     "metadata": {},
     "output_type": "display_data"
    },
    {
     "data": {
      "text/html": [
       "<p style='text-align:center'> *** </p>"
      ],
      "text/plain": [
       "<IPython.core.display.HTML object>"
      ]
     },
     "metadata": {},
     "output_type": "display_data"
    },
    {
     "data": {
      "text/html": [
       "<h4 style='text-align:center'>31-07-2010</h4>"
      ],
      "text/plain": [
       "<IPython.core.display.HTML object>"
      ]
     },
     "metadata": {},
     "output_type": "display_data"
    },
    {
     "data": {
      "text/html": [
       "<h3 style='text-align:center'> <a href='https://doi.org/10.1016/j.healthpol.2010.01.007'> PANDEMIC PLANNING IN PEDIATRIC CARE: A WEBSITE POLICY REVIEW AND NATIONAL SURVEY DATA</a></h2>"
      ],
      "text/plain": [
       "<IPython.core.display.HTML object>"
      ]
     },
     "metadata": {},
     "output_type": "display_data"
    },
    {
     "data": {
      "text/html": [
       "<h4 style='text-align:center'> ~ <b>Nicholas, David; Patershuk, Clare; Koller, Donna; Bruce-Barrett, Cindy; Lach, Lucy; Zlotnik Shaul, Randi; Matlow, Anne</b></h4>"
      ],
      "text/plain": [
       "<IPython.core.display.HTML object>"
      ]
     },
     "metadata": {},
     "output_type": "display_data"
    },
    {
     "data": {
      "text/html": [
       "<blockquote> They identified concerns from resource allocation to ethical decision-making, illustrating the complexity and heterogeneity of these issues</blockquote>"
      ],
      "text/plain": [
       "<IPython.core.display.HTML object>"
      ]
     },
     "metadata": {},
     "output_type": "display_data"
    },
    {
     "data": {
      "text/html": [
       "<p style='text-align:center'> *** </p>"
      ],
      "text/plain": [
       "<IPython.core.display.HTML object>"
      ]
     },
     "metadata": {},
     "output_type": "display_data"
    },
    {
     "data": {
      "text/html": [
       "<h2>4. How to recruit, support, and coordinate local (non-Federal) expertise and capacity relevant to public health emergency response (public, private, commercial and non-profit, including academic). </h2>"
      ],
      "text/plain": [
       "<IPython.core.display.HTML object>"
      ]
     },
     "metadata": {},
     "output_type": "display_data"
    },
    {
     "data": {
      "text/html": [
       "<h4 style='text-align:center'>27-12-2017</h4>"
      ],
      "text/plain": [
       "<IPython.core.display.HTML object>"
      ]
     },
     "metadata": {},
     "output_type": "display_data"
    },
    {
     "data": {
      "text/html": [
       "<h3 style='text-align:center'> <a href='https://www.ncbi.nlm.nih.gov/pmc/articles/PMC5711298/'> ESTABLISHMENT OF CDC GLOBAL RAPID RESPONSE TEAM TO ENSURE GLOBAL HEALTH SECURITY</a></h2>"
      ],
      "text/plain": [
       "<IPython.core.display.HTML object>"
      ]
     },
     "metadata": {},
     "output_type": "display_data"
    },
    {
     "data": {
      "text/html": [
       "<h4 style='text-align:center'> ~ <b>Stehling-Ariza, Tasha; Lefevre, Adrienne; Calles, Dinorah; Djawe, Kpandja; Garfield, Richard; Gerber, Michael; Ghiselli, Margherita; Giese, Coralie; Greiner, Ashley L.; Hoffman, Adela; Miller, Leigh Ann; Moorhouse, Lisa; Navarro-Colorado, Carlos; Walsh, James; Bugli, Dante; Shahpar, Cyrus</b></h4>"
      ],
      "text/plain": [
       "<IPython.core.display.HTML object>"
      ]
     },
     "metadata": {},
     "output_type": "display_data"
    },
    {
     "data": {
      "text/html": [
       "<blockquote> Included on this Atlantabased team are multilingual epidemiologists with expertise in public health and humanitarian emergencies, logisticians who support GRRT activities and coordinate with DEO during a response, highly experienced team leaders, and support staff\n",
       " GRRT dedicated response staff enable rapid and longer mobilizations to establish and sustain working relationships with governments and partner organizations and to improve continuity of response activities\n",
       " GRRT strategy Limited in-country capacity to detect and respond to disease outbreaks (1) Support the development of national outbreak detection and response systems Wide range of technical expertise required to address needs of a large outbreak response (1) Recruit team members with a wide range of technical expertise and experience Train responders in multiple technical areas for high-risk diseases Establishing working partnerships with governments and partner organizations for more efficient coordination (1, 19, 20) Train responders on working with partner organizations, incident management systems, cultural sensitivity, and foreign languages Recruit dedicated, ready responders who can mobilize for up to 6 mo for stronger partner relationships and improved coordination Short mobilizations (traditionally 30 d) and frequent rotation of staff disrupted continuity of response activities (19, 20) Recruit dedicated responders who are available and ready to mobilize for up to 6 mo if needed Expand the typical mobilization length of those in leadership roles Develop best practices and systems for information management in field response Responder preparation and readiness (19) Strengthen safety, security, and responder wellness training through a GRRT orientation Support continuous learning by offering frequent technical trainings on priority topics Track responder international travel-related mobilization requirements, training, and clearance compliance Obtain supervisor preapproval for mobilizations during on-call months Identifying appropriate responders (19) Roster GRRT responders and tracking skills and experience to match staffing needs Limited foreign language capacity (20) Develop a program to develop and validate foreign language capacity Logistical support for field efforts (19) Roster a group of dedicated and surge logisticians who can mobilize to provide support directly to responders in the field or coordinate with Atlanta-based logistics personnel to provide support *GRRT, Global Rapid Response Team\n",
       " Atlanta-based support staff mobilized to the CDC Haiti Country Office to support the Incident Management System structure, enabling the Haiti-based staff to fulfill their regular duties</blockquote>"
      ],
      "text/plain": [
       "<IPython.core.display.HTML object>"
      ]
     },
     "metadata": {},
     "output_type": "display_data"
    },
    {
     "data": {
      "text/html": [
       "<p style='text-align:center'> *** </p>"
      ],
      "text/plain": [
       "<IPython.core.display.HTML object>"
      ]
     },
     "metadata": {},
     "output_type": "display_data"
    },
    {
     "data": {
      "text/html": [
       "<h4 style='text-align:center'>17-05-2016</h4>"
      ],
      "text/plain": [
       "<IPython.core.display.HTML object>"
      ]
     },
     "metadata": {},
     "output_type": "display_data"
    },
    {
     "data": {
      "text/html": [
       "<h3 style='text-align:center'> <a href='https://www.ncbi.nlm.nih.gov/pmc/articles/PMC4869271/'> MOVING TOWARDS A NEW VISION: IMPLEMENTATION OF A PUBLIC HEALTH POLICY INTERVENTION</a></h2>"
      ],
      "text/plain": [
       "<IPython.core.display.HTML object>"
      ]
     },
     "metadata": {},
     "output_type": "display_data"
    },
    {
     "data": {
      "text/html": [
       "<h4 style='text-align:center'> ~ <b>Valaitis, Ruta; MacDonald, Marjorie; Kothari, Anita; O’Mara, Linda; Regan, Sandra; Garcia, John; Murray, Nancy; Manson, Heather; Peroff-Johnston, Nancy; Bursey, Gayle; Boyko, Jennifer</b></h4>"
      ],
      "text/plain": [
       "<IPython.core.display.HTML object>"
      ]
     },
     "metadata": {},
     "output_type": "display_data"
    },
    {
     "data": {
      "text/html": [
       "<blockquote>Planning processes engaged many stakeholders including individuals, health unit teams, and community partners</blockquote>"
      ],
      "text/plain": [
       "<IPython.core.display.HTML object>"
      ]
     },
     "metadata": {},
     "output_type": "display_data"
    },
    {
     "data": {
      "text/html": [
       "<p style='text-align:center'> *** </p>"
      ],
      "text/plain": [
       "<IPython.core.display.HTML object>"
      ]
     },
     "metadata": {},
     "output_type": "display_data"
    },
    {
     "data": {
      "text/html": [
       "<h4 style='text-align:center'>24-02-2014</h4>"
      ],
      "text/plain": [
       "<IPython.core.display.HTML object>"
      ]
     },
     "metadata": {},
     "output_type": "display_data"
    },
    {
     "data": {
      "text/html": [
       "<h3 style='text-align:center'> <a href='https://www.ncbi.nlm.nih.gov/pmc/articles/PMC3936858/'> PUBLIC HEALTH HUMAN RESOURCES: A COMPARATIVE ANALYSIS OF POLICY DOCUMENTS IN TWO CANADIAN PROVINCES</a></h2>"
      ],
      "text/plain": [
       "<IPython.core.display.HTML object>"
      ]
     },
     "metadata": {},
     "output_type": "display_data"
    },
    {
     "data": {
      "text/html": [
       "<h4 style='text-align:center'> ~ <b>Regan, Sandra; MacDonald, Marjorie; Allan, Diane E; Martin, Cheryl; Peroff-Johnston, Nancy</b></h4>"
      ],
      "text/plain": [
       "<IPython.core.display.HTML object>"
      ]
     },
     "metadata": {},
     "output_type": "display_data"
    },
    {
     "data": {
      "text/html": [
       "<blockquote> Provision of resources that support the appropriate application and mix of competencies within the organization Opportunities for training, continuing education and mentoring to acquire and enhance competencies/ support the effective application of competencies Facilitating sustainable collaborative relationships with multiple sectors and partners\n",
       " Public health needs to ensure a competent and diverse public health workforce by providing ongoing staff development and skill building related to core public health competencies, including quality improvement and life-long learning programmes for staff members</blockquote>"
      ],
      "text/plain": [
       "<IPython.core.display.HTML object>"
      ]
     },
     "metadata": {},
     "output_type": "display_data"
    },
    {
     "data": {
      "text/html": [
       "<p style='text-align:center'> *** </p>"
      ],
      "text/plain": [
       "<IPython.core.display.HTML object>"
      ]
     },
     "metadata": {},
     "output_type": "display_data"
    },
    {
     "data": {
      "text/html": [
       "<h2>5. Integration of federal/state/local public health surveillance systems. </h2>"
      ],
      "text/plain": [
       "<IPython.core.display.HTML object>"
      ]
     },
     "metadata": {},
     "output_type": "display_data"
    },
    {
     "data": {
      "text/html": [
       "<h4 style='text-align:center'>24-02-2014</h4>"
      ],
      "text/plain": [
       "<IPython.core.display.HTML object>"
      ]
     },
     "metadata": {},
     "output_type": "display_data"
    },
    {
     "data": {
      "text/html": [
       "<h3 style='text-align:center'> <a href='https://www.ncbi.nlm.nih.gov/pmc/articles/PMC3936858/'> PUBLIC HEALTH HUMAN RESOURCES: A COMPARATIVE ANALYSIS OF POLICY DOCUMENTS IN TWO CANADIAN PROVINCES</a></h2>"
      ],
      "text/plain": [
       "<IPython.core.display.HTML object>"
      ]
     },
     "metadata": {},
     "output_type": "display_data"
    },
    {
     "data": {
      "text/html": [
       "<h4 style='text-align:center'> ~ <b>Regan, Sandra; MacDonald, Marjorie; Allan, Diane E; Martin, Cheryl; Peroff-Johnston, Nancy</b></h4>"
      ],
      "text/plain": [
       "<IPython.core.display.HTML object>"
      ]
     },
     "metadata": {},
     "output_type": "display_data"
    },
    {
     "data": {
      "text/html": [
       "<blockquote> Public health units are not part of the Local Health Integration Networks (regional health authorities) in ON\n",
       " Public health is integrated into the larger health care system</blockquote>"
      ],
      "text/plain": [
       "<IPython.core.display.HTML object>"
      ]
     },
     "metadata": {},
     "output_type": "display_data"
    },
    {
     "data": {
      "text/html": [
       "<p style='text-align:center'> *** </p>"
      ],
      "text/plain": [
       "<IPython.core.display.HTML object>"
      ]
     },
     "metadata": {},
     "output_type": "display_data"
    },
    {
     "data": {
      "text/html": [
       "<h4 style='text-align:center'>30-09-2004</h4>"
      ],
      "text/plain": [
       "<IPython.core.display.HTML object>"
      ]
     },
     "metadata": {},
     "output_type": "display_data"
    },
    {
     "data": {
      "text/html": [
       "<h3 style='text-align:center'> <a href='https://doi.org/10.1016/j.ijmedinf.2004.05.010'> INVESTIGATING PUBLIC HEALTH EMERGENCY RESPONSE INFORMATION SYSTEM INITIATIVES IN CHINA</a></h2>"
      ],
      "text/plain": [
       "<IPython.core.display.HTML object>"
      ]
     },
     "metadata": {},
     "output_type": "display_data"
    },
    {
     "data": {
      "text/html": [
       "<h4 style='text-align:center'> ~ <b>Liang, Huigang; Xue, Yajiong</b></h4>"
      ],
      "text/plain": [
       "<IPython.core.display.HTML object>"
      ]
     },
     "metadata": {},
     "output_type": "display_data"
    },
    {
     "data": {
      "text/html": [
       "<blockquote>The public health regulatory system is insufficient\n",
       " A standard national public health emergency reporting platform with an underlying central database was implemented\n",
       " The Chinese central and local governments have appropriated sizable financial resources to build a public health emergency response information system (PHERIS)</blockquote>"
      ],
      "text/plain": [
       "<IPython.core.display.HTML object>"
      ]
     },
     "metadata": {},
     "output_type": "display_data"
    },
    {
     "data": {
      "text/html": [
       "<p style='text-align:center'> *** </p>"
      ],
      "text/plain": [
       "<IPython.core.display.HTML object>"
      ]
     },
     "metadata": {},
     "output_type": "display_data"
    },
    {
     "data": {
      "text/html": [
       "<h2>6. Value of investments in baseline public health response infrastructure preparedness </h2>"
      ],
      "text/plain": [
       "<IPython.core.display.HTML object>"
      ]
     },
     "metadata": {},
     "output_type": "display_data"
    },
    {
     "data": {
      "text/html": [
       "<h4 style='text-align:center'>18-09-2019</h4>"
      ],
      "text/plain": [
       "<IPython.core.display.HTML object>"
      ]
     },
     "metadata": {},
     "output_type": "display_data"
    },
    {
     "data": {
      "text/html": [
       "<h3 style='text-align:center'> <a href='https://www.ncbi.nlm.nih.gov/pmc/articles/PMC6766041/'> EVALUATION OF PUBLIC HEALTH EMERGENCY MANAGEMENT IN CHINA: A SYSTEMATIC REVIEW</a></h2>"
      ],
      "text/plain": [
       "<IPython.core.display.HTML object>"
      ]
     },
     "metadata": {},
     "output_type": "display_data"
    },
    {
     "data": {
      "text/html": [
       "<h4 style='text-align:center'> ~ <b>Wang, Jia; Yuan, Beibei; Li, Zhengmao; Wang, Zhifeng</b></h4>"
      ],
      "text/plain": [
       "<IPython.core.display.HTML object>"
      ]
     },
     "metadata": {},
     "output_type": "display_data"
    },
    {
     "data": {
      "text/html": [
       "<blockquote>China's comprehensive promotion of health infrastructure construction requires improvement of disaster prevention, mitigation/emergency response capabilities, and improvement of the emergency health emergency response system</blockquote>"
      ],
      "text/plain": [
       "<IPython.core.display.HTML object>"
      ]
     },
     "metadata": {},
     "output_type": "display_data"
    },
    {
     "data": {
      "text/html": [
       "<p style='text-align:center'> *** </p>"
      ],
      "text/plain": [
       "<IPython.core.display.HTML object>"
      ]
     },
     "metadata": {},
     "output_type": "display_data"
    },
    {
     "data": {
      "text/html": [
       "<h4 style='text-align:center'>17-05-2016</h4>"
      ],
      "text/plain": [
       "<IPython.core.display.HTML object>"
      ]
     },
     "metadata": {},
     "output_type": "display_data"
    },
    {
     "data": {
      "text/html": [
       "<h3 style='text-align:center'> <a href='https://www.ncbi.nlm.nih.gov/pmc/articles/PMC4869271/'> MOVING TOWARDS A NEW VISION: IMPLEMENTATION OF A PUBLIC HEALTH POLICY INTERVENTION</a></h2>"
      ],
      "text/plain": [
       "<IPython.core.display.HTML object>"
      ]
     },
     "metadata": {},
     "output_type": "display_data"
    },
    {
     "data": {
      "text/html": [
       "<h4 style='text-align:center'> ~ <b>Valaitis, Ruta; MacDonald, Marjorie; Kothari, Anita; O’Mara, Linda; Regan, Sandra; Garcia, John; Murray, Nancy; Manson, Heather; Peroff-Johnston, Nancy; Bursey, Gayle; Boyko, Jennifer</b></h4>"
      ],
      "text/plain": [
       "<IPython.core.display.HTML object>"
      ]
     },
     "metadata": {},
     "output_type": "display_data"
    },
    {
     "data": {
      "text/html": [
       "<blockquote> Municipal fiscal issues impacted the budgets of local public health units</blockquote>"
      ],
      "text/plain": [
       "<IPython.core.display.HTML object>"
      ]
     },
     "metadata": {},
     "output_type": "display_data"
    },
    {
     "data": {
      "text/html": [
       "<p style='text-align:center'> *** </p>"
      ],
      "text/plain": [
       "<IPython.core.display.HTML object>"
      ]
     },
     "metadata": {},
     "output_type": "display_data"
    },
    {
     "data": {
      "text/html": [
       "<h4 style='text-align:center'>01-09-2014</h4>"
      ],
      "text/plain": [
       "<IPython.core.display.HTML object>"
      ]
     },
     "metadata": {},
     "output_type": "display_data"
    },
    {
     "data": {
      "text/html": [
       "<h3 style='text-align:center'> <a href='http://europepmc.org/articles/pmc4171117?pdf=render'> LEVERAGING THE LABORATORY RESPONSE NETWORK MODEL FOR THE GLOBAL HEALTH SECURITY AGENDA</a></h2>"
      ],
      "text/plain": [
       "<IPython.core.display.HTML object>"
      ]
     },
     "metadata": {},
     "output_type": "display_data"
    },
    {
     "data": {
      "text/html": [
       "<h4 style='text-align:center'> ~ <b>Mangal, Chris N.; Maryogo-Robinson, Lucy</b></h4>"
      ],
      "text/plain": [
       "<IPython.core.display.HTML object>"
      ]
     },
     "metadata": {},
     "output_type": "display_data"
    },
    {
     "data": {
      "text/html": [
       "<blockquote> In the face of these challenges, the LRN employed the existing public health infrastructure as the backbone of its network and rebuilt it through funds awarded to states by HHS's CDC Cooperative Agreement on Public Health Preparedness and Response for Bioterrorism (now called the Public Health Emergency Preparedness [PHEP] Cooperative Agreement)</blockquote>"
      ],
      "text/plain": [
       "<IPython.core.display.HTML object>"
      ]
     },
     "metadata": {},
     "output_type": "display_data"
    },
    {
     "data": {
      "text/html": [
       "<p style='text-align:center'> *** </p>"
      ],
      "text/plain": [
       "<IPython.core.display.HTML object>"
      ]
     },
     "metadata": {},
     "output_type": "display_data"
    },
    {
     "data": {
      "text/html": [
       "<h4 style='text-align:center'>01-09-2013</h4>"
      ],
      "text/plain": [
       "<IPython.core.display.HTML object>"
      ]
     },
     "metadata": {},
     "output_type": "display_data"
    },
    {
     "data": {
      "text/html": [
       "<h3 style='text-align:center'> <a href='http://europepmc.org/articles/pmc3778998?pdf=render'> COMMUNICATIONS IN PUBLIC HEALTH EMERGENCY PREPAREDNESS: A SYSTEMATIC REVIEW OF THE LITERATURE</a></h2>"
      ],
      "text/plain": [
       "<IPython.core.display.HTML object>"
      ]
     },
     "metadata": {},
     "output_type": "display_data"
    },
    {
     "data": {
      "text/html": [
       "<h4 style='text-align:center'> ~ <b>Savoia, Elena; Lin, Leesa; Viswanath, Kasisomayajula</b></h4>"
      ],
      "text/plain": [
       "<IPython.core.display.HTML object>"
      ]
     },
     "metadata": {},
     "output_type": "display_data"
    },
    {
     "data": {
      "text/html": [
       "<blockquote> 6 Communication to the public is critically important in public health emergency preparedness\n",
       " 5 The model is a heuristic framework developed to link social determinants with preparedness outcomes through public health emergency preparedness communications\n",
       " Viswanath and colleagues developed an explanatory framework of how inequalities in public health emergency preparedness outcomes attributable to social determinants could potentially be explained by inequalities on various dimensions of public health emergency preparedness</blockquote>"
      ],
      "text/plain": [
       "<IPython.core.display.HTML object>"
      ]
     },
     "metadata": {},
     "output_type": "display_data"
    },
    {
     "data": {
      "text/html": [
       "<p style='text-align:center'> *** </p>"
      ],
      "text/plain": [
       "<IPython.core.display.HTML object>"
      ]
     },
     "metadata": {},
     "output_type": "display_data"
    },
    {
     "data": {
      "text/html": [
       "<h2>7. Modes of communicating with target high-risk populations (elderly, health care workers). </h2>"
      ],
      "text/plain": [
       "<IPython.core.display.HTML object>"
      ]
     },
     "metadata": {},
     "output_type": "display_data"
    },
    {
     "data": {
      "text/html": [
       "<h4 style='text-align:center'>24-02-2014</h4>"
      ],
      "text/plain": [
       "<IPython.core.display.HTML object>"
      ]
     },
     "metadata": {},
     "output_type": "display_data"
    },
    {
     "data": {
      "text/html": [
       "<h3 style='text-align:center'> <a href='https://www.ncbi.nlm.nih.gov/pmc/articles/PMC3936858/'> PUBLIC HEALTH HUMAN RESOURCES: A COMPARATIVE ANALYSIS OF POLICY DOCUMENTS IN TWO CANADIAN PROVINCES</a></h2>"
      ],
      "text/plain": [
       "<IPython.core.display.HTML object>"
      ]
     },
     "metadata": {},
     "output_type": "display_data"
    },
    {
     "data": {
      "text/html": [
       "<h4 style='text-align:center'> ~ <b>Regan, Sandra; MacDonald, Marjorie; Allan, Diane E; Martin, Cheryl; Peroff-Johnston, Nancy</b></h4>"
      ],
      "text/plain": [
       "<IPython.core.display.HTML object>"
      ]
     },
     "metadata": {},
     "output_type": "display_data"
    },
    {
     "data": {
      "text/html": [
       "<blockquote> Both the BC Core Public Health Functions and Ontario Public Health Standards discuss the importance of public health addressing the specific needs of those populations considered vulnerable or at-risk; BC refers to populations of concern or vulnerable populations while ON uses the term priority populations</blockquote>"
      ],
      "text/plain": [
       "<IPython.core.display.HTML object>"
      ]
     },
     "metadata": {},
     "output_type": "display_data"
    },
    {
     "data": {
      "text/html": [
       "<p style='text-align:center'> *** </p>"
      ],
      "text/plain": [
       "<IPython.core.display.HTML object>"
      ]
     },
     "metadata": {},
     "output_type": "display_data"
    },
    {
     "data": {
      "text/html": [
       "<h4 style='text-align:center'>01-12-2006</h4>"
      ],
      "text/plain": [
       "<IPython.core.display.HTML object>"
      ]
     },
     "metadata": {},
     "output_type": "display_data"
    },
    {
     "data": {
      "text/html": [
       "<h3 style='text-align:center'> <a href='http://europepmc.org/articles/pmc2563342?pdf=render'> REPORTING ETHICS COMMITTEE APPROVAL AND PATIENT CONSENT BY STUDY DESIGN IN FIVE GENERAL MEDICAL JOURNALS</a></h2>"
      ],
      "text/plain": [
       "<IPython.core.display.HTML object>"
      ]
     },
     "metadata": {},
     "output_type": "display_data"
    },
    {
     "data": {
      "text/html": [
       "<h4 style='text-align:center'> ~ <b>Schroter, S; Plowman, R; Hutchings, A; Gonzalez, A</b></h4>"
      ],
      "text/plain": [
       "<IPython.core.display.HTML object>"
      ]
     },
     "metadata": {},
     "output_type": "display_data"
    },
    {
     "data": {
      "text/html": [
       "<blockquote> 1Vulnerable population included children, elderly people, pregnant women, adults who lacked decision-making capacity-that is, prisoners, patients with HIV infection, an intensive care unit level of disability, psychiatric disease or genetic risks or disease</blockquote>"
      ],
      "text/plain": [
       "<IPython.core.display.HTML object>"
      ]
     },
     "metadata": {},
     "output_type": "display_data"
    },
    {
     "data": {
      "text/html": [
       "<p style='text-align:center'> *** </p>"
      ],
      "text/plain": [
       "<IPython.core.display.HTML object>"
      ]
     },
     "metadata": {},
     "output_type": "display_data"
    },
    {
     "data": {
      "text/html": [
       "<h2>8. Risk communication and guidelines that are easy to understand and follow (include targeting at risk populations’ families too). </h2>"
      ],
      "text/plain": [
       "<IPython.core.display.HTML object>"
      ]
     },
     "metadata": {},
     "output_type": "display_data"
    },
    {
     "data": {
      "text/html": [
       "<h4 style='text-align:center'>28-04-2015</h4>"
      ],
      "text/plain": [
       "<IPython.core.display.HTML object>"
      ]
     },
     "metadata": {},
     "output_type": "display_data"
    },
    {
     "data": {
      "text/html": [
       "<h3 style='text-align:center'> <a href='https://www.ncbi.nlm.nih.gov/pmc/articles/PMC4415223/'> THE EVIDENCE BASE OF PRIMARY RESEARCH IN PUBLIC HEALTH EMERGENCY PREPAREDNESS: A SCOPING REVIEW AND STAKEHOLDER CONSULTATION</a></h2>"
      ],
      "text/plain": [
       "<IPython.core.display.HTML object>"
      ]
     },
     "metadata": {},
     "output_type": "display_data"
    },
    {
     "data": {
      "text/html": [
       "<h4 style='text-align:center'> ~ <b>Khan, Yasmin; Fazli, Ghazal; Henry, Bonnie; de Villa, Eileen; Tsamis, Charoula; Grant, Moira; Schwartz, Brian</b></h4>"
      ],
      "text/plain": [
       "<IPython.core.display.HTML object>"
      ]
     },
     "metadata": {},
     "output_type": "display_data"
    },
    {
     "data": {
      "text/html": [
       "<blockquote>Vulnerable populations: A number of gaps pertaining to vulnerable populations were noted\n",
       " For high-risk populations, the challenges of identifying and prioritizing vulnerable populations were noted and strategies for integrating diverse communities into emergency planning and response were explored [76, 77] \n",
       " Risk assessments using surveys can provide information about exposure risk to populations [69] </blockquote>"
      ],
      "text/plain": [
       "<IPython.core.display.HTML object>"
      ]
     },
     "metadata": {},
     "output_type": "display_data"
    },
    {
     "data": {
      "text/html": [
       "<p style='text-align:center'> *** </p>"
      ],
      "text/plain": [
       "<IPython.core.display.HTML object>"
      ]
     },
     "metadata": {},
     "output_type": "display_data"
    },
    {
     "data": {
      "text/html": [
       "<h4 style='text-align:center'>24-02-2014</h4>"
      ],
      "text/plain": [
       "<IPython.core.display.HTML object>"
      ]
     },
     "metadata": {},
     "output_type": "display_data"
    },
    {
     "data": {
      "text/html": [
       "<h3 style='text-align:center'> <a href='https://www.ncbi.nlm.nih.gov/pmc/articles/PMC3936858/'> PUBLIC HEALTH HUMAN RESOURCES: A COMPARATIVE ANALYSIS OF POLICY DOCUMENTS IN TWO CANADIAN PROVINCES</a></h2>"
      ],
      "text/plain": [
       "<IPython.core.display.HTML object>"
      ]
     },
     "metadata": {},
     "output_type": "display_data"
    },
    {
     "data": {
      "text/html": [
       "<h4 style='text-align:center'> ~ <b>Regan, Sandra; MacDonald, Marjorie; Allan, Diane E; Martin, Cheryl; Peroff-Johnston, Nancy</b></h4>"
      ],
      "text/plain": [
       "<IPython.core.display.HTML object>"
      ]
     },
     "metadata": {},
     "output_type": "display_data"
    },
    {
     "data": {
      "text/html": [
       "<blockquote> Both the BC Core Public Health Functions and Ontario Public Health Standards discuss the importance of public health addressing the specific needs of those populations considered vulnerable or at-risk; BC refers to populations of concern or vulnerable populations while ON uses the term priority populations</blockquote>"
      ],
      "text/plain": [
       "<IPython.core.display.HTML object>"
      ]
     },
     "metadata": {},
     "output_type": "display_data"
    },
    {
     "data": {
      "text/html": [
       "<p style='text-align:center'> *** </p>"
      ],
      "text/plain": [
       "<IPython.core.display.HTML object>"
      ]
     },
     "metadata": {},
     "output_type": "display_data"
    },
    {
     "data": {
      "text/html": [
       "<h4 style='text-align:center'>13-12-2013</h4>"
      ],
      "text/plain": [
       "<IPython.core.display.HTML object>"
      ]
     },
     "metadata": {},
     "output_type": "display_data"
    },
    {
     "data": {
      "text/html": [
       "<h3 style='text-align:center'> <a href='https://www.ncbi.nlm.nih.gov/pmc/articles/PMC3864162/'> SURVEILLANCE, RESPONSE SYSTEMS, AND EVIDENCE UPDATES ON EMERGING ZOONOSES: THE ROLE OF ONE HEALTH</a></h2>"
      ],
      "text/plain": [
       "<IPython.core.display.HTML object>"
      ]
     },
     "metadata": {},
     "output_type": "display_data"
    },
    {
     "data": {
      "text/html": [
       "<h4 style='text-align:center'> ~ <b>Asokan, G. V.; Kasimanickam, Ramanathan K.; Asokan, Vanitha</b></h4>"
      ],
      "text/plain": [
       "<IPython.core.display.HTML object>"
      ]
     },
     "metadata": {},
     "output_type": "display_data"
    },
    {
     "data": {
      "text/html": [
       "<blockquote> Emerging zoonotic diseases are increasing, causing severe economic impacts and animal and human health risks</blockquote>"
      ],
      "text/plain": [
       "<IPython.core.display.HTML object>"
      ]
     },
     "metadata": {},
     "output_type": "display_data"
    },
    {
     "data": {
      "text/html": [
       "<p style='text-align:center'> *** </p>"
      ],
      "text/plain": [
       "<IPython.core.display.HTML object>"
      ]
     },
     "metadata": {},
     "output_type": "display_data"
    },
    {
     "data": {
      "text/html": [
       "<h4 style='text-align:center'>31-07-2010</h4>"
      ],
      "text/plain": [
       "<IPython.core.display.HTML object>"
      ]
     },
     "metadata": {},
     "output_type": "display_data"
    },
    {
     "data": {
      "text/html": [
       "<h3 style='text-align:center'> <a href='https://doi.org/10.1016/j.healthpol.2010.01.007'> PANDEMIC PLANNING IN PEDIATRIC CARE: A WEBSITE POLICY REVIEW AND NATIONAL SURVEY DATA</a></h2>"
      ],
      "text/plain": [
       "<IPython.core.display.HTML object>"
      ]
     },
     "metadata": {},
     "output_type": "display_data"
    },
    {
     "data": {
      "text/html": [
       "<h4 style='text-align:center'> ~ <b>Nicholas, David; Patershuk, Clare; Koller, Donna; Bruce-Barrett, Cindy; Lach, Lucy; Zlotnik Shaul, Randi; Matlow, Anne</b></h4>"
      ],
      "text/plain": [
       "<IPython.core.display.HTML object>"
      ]
     },
     "metadata": {},
     "output_type": "display_data"
    },
    {
     "data": {
      "text/html": [
       "<blockquote> These disparities require greater consideration of factors influencing inequities in pediatric pandemic preparedness, including population density, socioeconomic status, relative isolation, and available resources</blockquote>"
      ],
      "text/plain": [
       "<IPython.core.display.HTML object>"
      ]
     },
     "metadata": {},
     "output_type": "display_data"
    },
    {
     "data": {
      "text/html": [
       "<p style='text-align:center'> *** </p>"
      ],
      "text/plain": [
       "<IPython.core.display.HTML object>"
      ]
     },
     "metadata": {},
     "output_type": "display_data"
    },
    {
     "data": {
      "text/html": [
       "<h2>9. Communication that indicates potential risk of disease to all population groups. </h2>"
      ],
      "text/plain": [
       "<IPython.core.display.HTML object>"
      ]
     },
     "metadata": {},
     "output_type": "display_data"
    },
    {
     "data": {
      "text/html": [
       "<h4 style='text-align:center'>13-12-2013</h4>"
      ],
      "text/plain": [
       "<IPython.core.display.HTML object>"
      ]
     },
     "metadata": {},
     "output_type": "display_data"
    },
    {
     "data": {
      "text/html": [
       "<h3 style='text-align:center'> <a href='https://www.ncbi.nlm.nih.gov/pmc/articles/PMC3864162/'> SURVEILLANCE, RESPONSE SYSTEMS, AND EVIDENCE UPDATES ON EMERGING ZOONOSES: THE ROLE OF ONE HEALTH</a></h2>"
      ],
      "text/plain": [
       "<IPython.core.display.HTML object>"
      ]
     },
     "metadata": {},
     "output_type": "display_data"
    },
    {
     "data": {
      "text/html": [
       "<h4 style='text-align:center'> ~ <b>Asokan, G. V.; Kasimanickam, Ramanathan K.; Asokan, Vanitha</b></h4>"
      ],
      "text/plain": [
       "<IPython.core.display.HTML object>"
      ]
     },
     "metadata": {},
     "output_type": "display_data"
    },
    {
     "data": {
      "text/html": [
       "<blockquote> Emerging zoonotic diseases are increasing, causing severe economic impacts and animal and human health risks</blockquote>"
      ],
      "text/plain": [
       "<IPython.core.display.HTML object>"
      ]
     },
     "metadata": {},
     "output_type": "display_data"
    },
    {
     "data": {
      "text/html": [
       "<p style='text-align:center'> *** </p>"
      ],
      "text/plain": [
       "<IPython.core.display.HTML object>"
      ]
     },
     "metadata": {},
     "output_type": "display_data"
    },
    {
     "data": {
      "text/html": [
       "<h2>10. Misunderstanding around containment and mitigation. </h2>"
      ],
      "text/plain": [
       "<IPython.core.display.HTML object>"
      ]
     },
     "metadata": {},
     "output_type": "display_data"
    },
    {
     "data": {
      "text/html": [
       "<h4 style='text-align:center'>18-09-2019</h4>"
      ],
      "text/plain": [
       "<IPython.core.display.HTML object>"
      ]
     },
     "metadata": {},
     "output_type": "display_data"
    },
    {
     "data": {
      "text/html": [
       "<h3 style='text-align:center'> <a href='https://www.ncbi.nlm.nih.gov/pmc/articles/PMC6766041/'> EVALUATION OF PUBLIC HEALTH EMERGENCY MANAGEMENT IN CHINA: A SYSTEMATIC REVIEW</a></h2>"
      ],
      "text/plain": [
       "<IPython.core.display.HTML object>"
      ]
     },
     "metadata": {},
     "output_type": "display_data"
    },
    {
     "data": {
      "text/html": [
       "<h4 style='text-align:center'> ~ <b>Wang, Jia; Yuan, Beibei; Li, Zhengmao; Wang, Zhifeng</b></h4>"
      ],
      "text/plain": [
       "<IPython.core.display.HTML object>"
      ]
     },
     "metadata": {},
     "output_type": "display_data"
    },
    {
     "data": {
      "text/html": [
       "<blockquote>China's comprehensive promotion of health infrastructure construction requires improvement of disaster prevention, mitigation/emergency response capabilities, and improvement of the emergency health emergency response system\n",
       "Health emergency management assessment is a process of formulating objective judgments on assessment targets based on specific criteria</blockquote>"
      ],
      "text/plain": [
       "<IPython.core.display.HTML object>"
      ]
     },
     "metadata": {},
     "output_type": "display_data"
    },
    {
     "data": {
      "text/html": [
       "<p style='text-align:center'> *** </p>"
      ],
      "text/plain": [
       "<IPython.core.display.HTML object>"
      ]
     },
     "metadata": {},
     "output_type": "display_data"
    },
    {
     "data": {
      "text/html": [
       "<h4 style='text-align:center'>27-12-2017</h4>"
      ],
      "text/plain": [
       "<IPython.core.display.HTML object>"
      ]
     },
     "metadata": {},
     "output_type": "display_data"
    },
    {
     "data": {
      "text/html": [
       "<h3 style='text-align:center'> <a href='https://www.ncbi.nlm.nih.gov/pmc/articles/PMC5711298/'> ESTABLISHMENT OF CDC GLOBAL RAPID RESPONSE TEAM TO ENSURE GLOBAL HEALTH SECURITY</a></h2>"
      ],
      "text/plain": [
       "<IPython.core.display.HTML object>"
      ]
     },
     "metadata": {},
     "output_type": "display_data"
    },
    {
     "data": {
      "text/html": [
       "<h4 style='text-align:center'> ~ <b>Stehling-Ariza, Tasha; Lefevre, Adrienne; Calles, Dinorah; Djawe, Kpandja; Garfield, Richard; Gerber, Michael; Ghiselli, Margherita; Giese, Coralie; Greiner, Ashley L.; Hoffman, Adela; Miller, Leigh Ann; Moorhouse, Lisa; Navarro-Colorado, Carlos; Walsh, James; Bugli, Dante; Shahpar, Cyrus</b></h4>"
      ],
      "text/plain": [
       "<IPython.core.display.HTML object>"
      ]
     },
     "metadata": {},
     "output_type": "display_data"
    },
    {
     "data": {
      "text/html": [
       "<blockquote> CDC response mechanisms can be further improved through continued coordination with agency emergency response personnel and streamlined mobilization processes</blockquote>"
      ],
      "text/plain": [
       "<IPython.core.display.HTML object>"
      ]
     },
     "metadata": {},
     "output_type": "display_data"
    },
    {
     "data": {
      "text/html": [
       "<p style='text-align:center'> *** </p>"
      ],
      "text/plain": [
       "<IPython.core.display.HTML object>"
      ]
     },
     "metadata": {},
     "output_type": "display_data"
    },
    {
     "data": {
      "text/html": [
       "<h4 style='text-align:center'>28-04-2015</h4>"
      ],
      "text/plain": [
       "<IPython.core.display.HTML object>"
      ]
     },
     "metadata": {},
     "output_type": "display_data"
    },
    {
     "data": {
      "text/html": [
       "<h3 style='text-align:center'> <a href='https://www.ncbi.nlm.nih.gov/pmc/articles/PMC4415223/'> THE EVIDENCE BASE OF PRIMARY RESEARCH IN PUBLIC HEALTH EMERGENCY PREPAREDNESS: A SCOPING REVIEW AND STAKEHOLDER CONSULTATION</a></h2>"
      ],
      "text/plain": [
       "<IPython.core.display.HTML object>"
      ]
     },
     "metadata": {},
     "output_type": "display_data"
    },
    {
     "data": {
      "text/html": [
       "<h4 style='text-align:center'> ~ <b>Khan, Yasmin; Fazli, Ghazal; Henry, Bonnie; de Villa, Eileen; Tsamis, Charoula; Grant, Moira; Schwartz, Brian</b></h4>"
      ],
      "text/plain": [
       "<IPython.core.display.HTML object>"
      ]
     },
     "metadata": {},
     "output_type": "display_data"
    },
    {
     "data": {
      "text/html": [
       "<blockquote> Emergency preparedness research focused on all aspects of the emergency management cycle (prevention/mitigation, preparedness, response and recovery) was considered</blockquote>"
      ],
      "text/plain": [
       "<IPython.core.display.HTML object>"
      ]
     },
     "metadata": {},
     "output_type": "display_data"
    },
    {
     "data": {
      "text/html": [
       "<p style='text-align:center'> *** </p>"
      ],
      "text/plain": [
       "<IPython.core.display.HTML object>"
      ]
     },
     "metadata": {},
     "output_type": "display_data"
    },
    {
     "data": {
      "text/html": [
       "<h4 style='text-align:center'>01-09-2014</h4>"
      ],
      "text/plain": [
       "<IPython.core.display.HTML object>"
      ]
     },
     "metadata": {},
     "output_type": "display_data"
    },
    {
     "data": {
      "text/html": [
       "<h3 style='text-align:center'> <a href='http://europepmc.org/articles/pmc4171126?pdf=render'> REGULATORY UNDERPINNINGS OF GLOBAL HEALTH SECURITY: FDA'S ROLES IN PREVENTING, DETECTING, AND RESPONDING TO GLOBAL HEALTH THREATS</a></h2>"
      ],
      "text/plain": [
       "<IPython.core.display.HTML object>"
      ]
     },
     "metadata": {},
     "output_type": "display_data"
    },
    {
     "data": {
      "text/html": [
       "<h4 style='text-align:center'> ~ <b>Courtney, Brooke; Bond, Katherine C.; Maher, Carmen</b></h4>"
      ],
      "text/plain": [
       "<IPython.core.display.HTML object>"
      ]
     },
     "metadata": {},
     "output_type": "display_data"
    },
    {
     "data": {
      "text/html": [
       "<blockquote>The mitigation of emerging and ongoing public health emergency threats often requires the use of MCMs\n",
       "Legal and regulatory authorizations to facilitate MCM product availability are also vital to early mitigation of disease outbreaks and other public health threats</blockquote>"
      ],
      "text/plain": [
       "<IPython.core.display.HTML object>"
      ]
     },
     "metadata": {},
     "output_type": "display_data"
    },
    {
     "data": {
      "text/html": [
       "<p style='text-align:center'> *** </p>"
      ],
      "text/plain": [
       "<IPython.core.display.HTML object>"
      ]
     },
     "metadata": {},
     "output_type": "display_data"
    },
    {
     "data": {
      "text/html": [
       "<h4 style='text-align:center'>13-12-2013</h4>"
      ],
      "text/plain": [
       "<IPython.core.display.HTML object>"
      ]
     },
     "metadata": {},
     "output_type": "display_data"
    },
    {
     "data": {
      "text/html": [
       "<h3 style='text-align:center'> <a href='https://www.ncbi.nlm.nih.gov/pmc/articles/PMC3864162/'> SURVEILLANCE, RESPONSE SYSTEMS, AND EVIDENCE UPDATES ON EMERGING ZOONOSES: THE ROLE OF ONE HEALTH</a></h2>"
      ],
      "text/plain": [
       "<IPython.core.display.HTML object>"
      ]
     },
     "metadata": {},
     "output_type": "display_data"
    },
    {
     "data": {
      "text/html": [
       "<h4 style='text-align:center'> ~ <b>Asokan, G. V.; Kasimanickam, Ramanathan K.; Asokan, Vanitha</b></h4>"
      ],
      "text/plain": [
       "<IPython.core.display.HTML object>"
      ]
     },
     "metadata": {},
     "output_type": "display_data"
    },
    {
     "data": {
      "text/html": [
       "<blockquote> Emerging zoonoses causes serious health threats and global economical losses</blockquote>"
      ],
      "text/plain": [
       "<IPython.core.display.HTML object>"
      ]
     },
     "metadata": {},
     "output_type": "display_data"
    },
    {
     "data": {
      "text/html": [
       "<p style='text-align:center'> *** </p>"
      ],
      "text/plain": [
       "<IPython.core.display.HTML object>"
      ]
     },
     "metadata": {},
     "output_type": "display_data"
    },
    {
     "data": {
      "text/html": [
       "<h4 style='text-align:center'>01-09-2013</h4>"
      ],
      "text/plain": [
       "<IPython.core.display.HTML object>"
      ]
     },
     "metadata": {},
     "output_type": "display_data"
    },
    {
     "data": {
      "text/html": [
       "<h3 style='text-align:center'> <a href='http://europepmc.org/articles/pmc3778998?pdf=render'> COMMUNICATIONS IN PUBLIC HEALTH EMERGENCY PREPAREDNESS: A SYSTEMATIC REVIEW OF THE LITERATURE</a></h2>"
      ],
      "text/plain": [
       "<IPython.core.display.HTML object>"
      ]
     },
     "metadata": {},
     "output_type": "display_data"
    },
    {
     "data": {
      "text/html": [
       "<h4 style='text-align:center'> ~ <b>Savoia, Elena; Lin, Leesa; Viswanath, Kasisomayajula</b></h4>"
      ],
      "text/plain": [
       "<IPython.core.display.HTML object>"
      ]
     },
     "metadata": {},
     "output_type": "display_data"
    },
    {
     "data": {
      "text/html": [
       "<blockquote> It helps mitigate the risks, supports the implementation of protective actions, and contributes to minimizing negative mental health impacts of disasters</blockquote>"
      ],
      "text/plain": [
       "<IPython.core.display.HTML object>"
      ]
     },
     "metadata": {},
     "output_type": "display_data"
    },
    {
     "data": {
      "text/html": [
       "<p style='text-align:center'> *** </p>"
      ],
      "text/plain": [
       "<IPython.core.display.HTML object>"
      ]
     },
     "metadata": {},
     "output_type": "display_data"
    },
    {
     "data": {
      "text/html": [
       "<h2>11. Action plan to mitigate gaps and problems of inequity in the Nation’s public health capability, capacity, and funding to ensure all citizens in need are supported and can access information, surveillance, and treatment. </h2>"
      ],
      "text/plain": [
       "<IPython.core.display.HTML object>"
      ]
     },
     "metadata": {},
     "output_type": "display_data"
    },
    {
     "data": {
      "text/html": [
       "<h4 style='text-align:center'>18-03-2020</h4>"
      ],
      "text/plain": [
       "<IPython.core.display.HTML object>"
      ]
     },
     "metadata": {},
     "output_type": "display_data"
    },
    {
     "data": {
      "text/html": [
       "<h3 style='text-align:center'> <a href='https://doi.org/10.1016/s0140-6736(20)30553-5'> HEALTH SECURITY CAPACITIES IN THE CONTEXT OF COVID-19 OUTBREAK: AN ANALYSIS OF INTERNATIONAL HEALTH REGULATIONS ANNUAL REPORT DATA FROM 182 COUNTRIES</a></h2>"
      ],
      "text/plain": [
       "<IPython.core.display.HTML object>"
      ]
     },
     "metadata": {},
     "output_type": "display_data"
    },
    {
     "data": {
      "text/html": [
       "<h4 style='text-align:center'> ~ <b>Kandel, Nirmal; Chungong, Stella; Omaar, Abbas; Xing, Jun</b></h4>"
      ],
      "text/plain": [
       "<IPython.core.display.HTML object>"
      ]
     },
     "metadata": {},
     "output_type": "display_data"
    },
    {
     "data": {
      "text/html": [
       "<blockquote> 8 Another challenge underpinning low national preparedness capacities is insufficient investment in human capital and poor continuity planning</blockquote>"
      ],
      "text/plain": [
       "<IPython.core.display.HTML object>"
      ]
     },
     "metadata": {},
     "output_type": "display_data"
    },
    {
     "data": {
      "text/html": [
       "<p style='text-align:center'> *** </p>"
      ],
      "text/plain": [
       "<IPython.core.display.HTML object>"
      ]
     },
     "metadata": {},
     "output_type": "display_data"
    },
    {
     "data": {
      "text/html": [
       "<h4 style='text-align:center'>28-04-2015</h4>"
      ],
      "text/plain": [
       "<IPython.core.display.HTML object>"
      ]
     },
     "metadata": {},
     "output_type": "display_data"
    },
    {
     "data": {
      "text/html": [
       "<h3 style='text-align:center'> <a href='https://www.ncbi.nlm.nih.gov/pmc/articles/PMC4415223/'> THE EVIDENCE BASE OF PRIMARY RESEARCH IN PUBLIC HEALTH EMERGENCY PREPAREDNESS: A SCOPING REVIEW AND STAKEHOLDER CONSULTATION</a></h2>"
      ],
      "text/plain": [
       "<IPython.core.display.HTML object>"
      ]
     },
     "metadata": {},
     "output_type": "display_data"
    },
    {
     "data": {
      "text/html": [
       "<h4 style='text-align:center'> ~ <b>Khan, Yasmin; Fazli, Ghazal; Henry, Bonnie; de Villa, Eileen; Tsamis, Charoula; Grant, Moira; Schwartz, Brian</b></h4>"
      ],
      "text/plain": [
       "<IPython.core.display.HTML object>"
      ]
     },
     "metadata": {},
     "output_type": "display_data"
    },
    {
     "data": {
      "text/html": [
       "<blockquote>Public health considerations for sheltering and evacuation: Gaps in this initial theme related to understanding the logistics and implementation challenges for public health measures such as evacuation</blockquote>"
      ],
      "text/plain": [
       "<IPython.core.display.HTML object>"
      ]
     },
     "metadata": {},
     "output_type": "display_data"
    },
    {
     "data": {
      "text/html": [
       "<p style='text-align:center'> *** </p>"
      ],
      "text/plain": [
       "<IPython.core.display.HTML object>"
      ]
     },
     "metadata": {},
     "output_type": "display_data"
    },
    {
     "data": {
      "text/html": [
       "<h4 style='text-align:center'>01-09-2013</h4>"
      ],
      "text/plain": [
       "<IPython.core.display.HTML object>"
      ]
     },
     "metadata": {},
     "output_type": "display_data"
    },
    {
     "data": {
      "text/html": [
       "<h3 style='text-align:center'> <a href='http://europepmc.org/articles/pmc3778998?pdf=render'> COMMUNICATIONS IN PUBLIC HEALTH EMERGENCY PREPAREDNESS: A SYSTEMATIC REVIEW OF THE LITERATURE</a></h2>"
      ],
      "text/plain": [
       "<IPython.core.display.HTML object>"
      ]
     },
     "metadata": {},
     "output_type": "display_data"
    },
    {
     "data": {
      "text/html": [
       "<h4 style='text-align:center'> ~ <b>Savoia, Elena; Lin, Leesa; Viswanath, Kasisomayajula</b></h4>"
      ],
      "text/plain": [
       "<IPython.core.display.HTML object>"
      ]
     },
     "metadata": {},
     "output_type": "display_data"
    },
    {
     "data": {
      "text/html": [
       "<blockquote> Viswanath and colleagues developed an explanatory framework of how inequalities in public health emergency preparedness outcomes attributable to social determinants could potentially be explained by inequalities on various dimensions of public health emergency preparedness\n",
       " The understanding of communication behaviors at different stages of public health emergencies will help public health authorities to plan for strategic communication efforts in future emergencies\n",
       " It helps mitigate the risks, supports the implementation of protective actions, and contributes to minimizing negative mental health impacts of disasters</blockquote>"
      ],
      "text/plain": [
       "<IPython.core.display.HTML object>"
      ]
     },
     "metadata": {},
     "output_type": "display_data"
    },
    {
     "data": {
      "text/html": [
       "<p style='text-align:center'> *** </p>"
      ],
      "text/plain": [
       "<IPython.core.display.HTML object>"
      ]
     },
     "metadata": {},
     "output_type": "display_data"
    },
    {
     "data": {
      "text/html": [
       "<h4 style='text-align:center'>30-09-2004</h4>"
      ],
      "text/plain": [
       "<IPython.core.display.HTML object>"
      ]
     },
     "metadata": {},
     "output_type": "display_data"
    },
    {
     "data": {
      "text/html": [
       "<h3 style='text-align:center'> <a href='https://doi.org/10.1016/j.ijmedinf.2004.05.010'> INVESTIGATING PUBLIC HEALTH EMERGENCY RESPONSE INFORMATION SYSTEM INITIATIVES IN CHINA</a></h2>"
      ],
      "text/plain": [
       "<IPython.core.display.HTML object>"
      ]
     },
     "metadata": {},
     "output_type": "display_data"
    },
    {
     "data": {
      "text/html": [
       "<h4 style='text-align:center'> ~ <b>Liang, Huigang; Xue, Yajiong</b></h4>"
      ],
      "text/plain": [
       "<IPython.core.display.HTML object>"
      ]
     },
     "metadata": {},
     "output_type": "display_data"
    },
    {
     "data": {
      "text/html": [
       "<blockquote>The public health regulatory system is insufficient</blockquote>"
      ],
      "text/plain": [
       "<IPython.core.display.HTML object>"
      ]
     },
     "metadata": {},
     "output_type": "display_data"
    },
    {
     "data": {
      "text/html": [
       "<p style='text-align:center'> *** </p>"
      ],
      "text/plain": [
       "<IPython.core.display.HTML object>"
      ]
     },
     "metadata": {},
     "output_type": "display_data"
    },
    {
     "data": {
      "text/html": [
       "<h2>12. Measures to reach marginalized and disadvantaged populations. </h2>"
      ],
      "text/plain": [
       "<IPython.core.display.HTML object>"
      ]
     },
     "metadata": {},
     "output_type": "display_data"
    },
    {
     "data": {
      "text/html": [
       "<h4 style='text-align:center'>28-04-2015</h4>"
      ],
      "text/plain": [
       "<IPython.core.display.HTML object>"
      ]
     },
     "metadata": {},
     "output_type": "display_data"
    },
    {
     "data": {
      "text/html": [
       "<h3 style='text-align:center'> <a href='https://www.ncbi.nlm.nih.gov/pmc/articles/PMC4415223/'> THE EVIDENCE BASE OF PRIMARY RESEARCH IN PUBLIC HEALTH EMERGENCY PREPAREDNESS: A SCOPING REVIEW AND STAKEHOLDER CONSULTATION</a></h2>"
      ],
      "text/plain": [
       "<IPython.core.display.HTML object>"
      ]
     },
     "metadata": {},
     "output_type": "display_data"
    },
    {
     "data": {
      "text/html": [
       "<h4 style='text-align:center'> ~ <b>Khan, Yasmin; Fazli, Ghazal; Henry, Bonnie; de Villa, Eileen; Tsamis, Charoula; Grant, Moira; Schwartz, Brian</b></h4>"
      ],
      "text/plain": [
       "<IPython.core.display.HTML object>"
      ]
     },
     "metadata": {},
     "output_type": "display_data"
    },
    {
     "data": {
      "text/html": [
       "<blockquote>Vulnerable populations: A number of gaps pertaining to vulnerable populations were noted</blockquote>"
      ],
      "text/plain": [
       "<IPython.core.display.HTML object>"
      ]
     },
     "metadata": {},
     "output_type": "display_data"
    },
    {
     "data": {
      "text/html": [
       "<p style='text-align:center'> *** </p>"
      ],
      "text/plain": [
       "<IPython.core.display.HTML object>"
      ]
     },
     "metadata": {},
     "output_type": "display_data"
    },
    {
     "data": {
      "text/html": [
       "<h4 style='text-align:center'>24-02-2014</h4>"
      ],
      "text/plain": [
       "<IPython.core.display.HTML object>"
      ]
     },
     "metadata": {},
     "output_type": "display_data"
    },
    {
     "data": {
      "text/html": [
       "<h3 style='text-align:center'> <a href='https://www.ncbi.nlm.nih.gov/pmc/articles/PMC3936858/'> PUBLIC HEALTH HUMAN RESOURCES: A COMPARATIVE ANALYSIS OF POLICY DOCUMENTS IN TWO CANADIAN PROVINCES</a></h2>"
      ],
      "text/plain": [
       "<IPython.core.display.HTML object>"
      ]
     },
     "metadata": {},
     "output_type": "display_data"
    },
    {
     "data": {
      "text/html": [
       "<h4 style='text-align:center'> ~ <b>Regan, Sandra; MacDonald, Marjorie; Allan, Diane E; Martin, Cheryl; Peroff-Johnston, Nancy</b></h4>"
      ],
      "text/plain": [
       "<IPython.core.display.HTML object>"
      ]
     },
     "metadata": {},
     "output_type": "display_data"
    },
    {
     "data": {
      "text/html": [
       "<blockquote> Most BC documents explicitly identified First Nations/ Aboriginal peoples, and strongly emphasized the importance of developing culturally-appropriate programmes in partnership with Aboriginal communities and other diverse groups such as immigrants and refugees [31] \n",
       " In ON, low-income individuals and Aboriginal populations were also identified as examples of priority populations; however, the focus on Aboriginal populations is less obvious in ON documents\n",
       " Both the BC Core Public Health Functions and Ontario Public Health Standards discuss the importance of public health addressing the specific needs of those populations considered vulnerable or at-risk; BC refers to populations of concern or vulnerable populations while ON uses the term priority populations</blockquote>"
      ],
      "text/plain": [
       "<IPython.core.display.HTML object>"
      ]
     },
     "metadata": {},
     "output_type": "display_data"
    },
    {
     "data": {
      "text/html": [
       "<p style='text-align:center'> *** </p>"
      ],
      "text/plain": [
       "<IPython.core.display.HTML object>"
      ]
     },
     "metadata": {},
     "output_type": "display_data"
    },
    {
     "data": {
      "text/html": [
       "<h4 style='text-align:center'>01-09-2013</h4>"
      ],
      "text/plain": [
       "<IPython.core.display.HTML object>"
      ]
     },
     "metadata": {},
     "output_type": "display_data"
    },
    {
     "data": {
      "text/html": [
       "<h3 style='text-align:center'> <a href='http://europepmc.org/articles/pmc3778998?pdf=render'> COMMUNICATIONS IN PUBLIC HEALTH EMERGENCY PREPAREDNESS: A SYSTEMATIC REVIEW OF THE LITERATURE</a></h2>"
      ],
      "text/plain": [
       "<IPython.core.display.HTML object>"
      ]
     },
     "metadata": {},
     "output_type": "display_data"
    },
    {
     "data": {
      "text/html": [
       "<h4 style='text-align:center'> ~ <b>Savoia, Elena; Lin, Leesa; Viswanath, Kasisomayajula</b></h4>"
      ],
      "text/plain": [
       "<IPython.core.display.HTML object>"
      ]
     },
     "metadata": {},
     "output_type": "display_data"
    },
    {
     "data": {
      "text/html": [
       "<blockquote>M embers of racial and ethnic minorities and underserved population groups suffer disproportionately from the consequences of disasters and emergencies\n",
       " 9 Poorer households tend to have poorer coping strategies and suffer consequences over the longer term</blockquote>"
      ],
      "text/plain": [
       "<IPython.core.display.HTML object>"
      ]
     },
     "metadata": {},
     "output_type": "display_data"
    },
    {
     "data": {
      "text/html": [
       "<p style='text-align:center'> *** </p>"
      ],
      "text/plain": [
       "<IPython.core.display.HTML object>"
      ]
     },
     "metadata": {},
     "output_type": "display_data"
    },
    {
     "data": {
      "text/html": [
       "<h4 style='text-align:center'>31-07-2010</h4>"
      ],
      "text/plain": [
       "<IPython.core.display.HTML object>"
      ]
     },
     "metadata": {},
     "output_type": "display_data"
    },
    {
     "data": {
      "text/html": [
       "<h3 style='text-align:center'> <a href='https://doi.org/10.1016/j.healthpol.2010.01.007'> PANDEMIC PLANNING IN PEDIATRIC CARE: A WEBSITE POLICY REVIEW AND NATIONAL SURVEY DATA</a></h2>"
      ],
      "text/plain": [
       "<IPython.core.display.HTML object>"
      ]
     },
     "metadata": {},
     "output_type": "display_data"
    },
    {
     "data": {
      "text/html": [
       "<h4 style='text-align:center'> ~ <b>Nicholas, David; Patershuk, Clare; Koller, Donna; Bruce-Barrett, Cindy; Lach, Lucy; Zlotnik Shaul, Randi; Matlow, Anne</b></h4>"
      ],
      "text/plain": [
       "<IPython.core.display.HTML object>"
      ]
     },
     "metadata": {},
     "output_type": "display_data"
    },
    {
     "data": {
      "text/html": [
       "<blockquote> These disparities require greater consideration of factors influencing inequities in pediatric pandemic preparedness, including population density, socioeconomic status, relative isolation, and available resources</blockquote>"
      ],
      "text/plain": [
       "<IPython.core.display.HTML object>"
      ]
     },
     "metadata": {},
     "output_type": "display_data"
    },
    {
     "data": {
      "text/html": [
       "<p style='text-align:center'> *** </p>"
      ],
      "text/plain": [
       "<IPython.core.display.HTML object>"
      ]
     },
     "metadata": {},
     "output_type": "display_data"
    },
    {
     "data": {
      "text/html": [
       "<h4 style='text-align:center'>27-04-2010</h4>"
      ],
      "text/plain": [
       "<IPython.core.display.HTML object>"
      ]
     },
     "metadata": {},
     "output_type": "display_data"
    },
    {
     "data": {
      "text/html": [
       "<h3 style='text-align:center'> <a href='https://www.ncbi.nlm.nih.gov/pmc/articles/PMC2898916/'> GLOBAL HEALTH AND FOREIGN POLICY</a></h2>"
      ],
      "text/plain": [
       "<IPython.core.display.HTML object>"
      ]
     },
     "metadata": {},
     "output_type": "display_data"
    },
    {
     "data": {
      "text/html": [
       "<h4 style='text-align:center'> ~ <b>Feldbaum, Harley; Lee, Kelley; Michaud, Joshua</b></h4>"
      ],
      "text/plain": [
       "<IPython.core.display.HTML object>"
      ]
     },
     "metadata": {},
     "output_type": "display_data"
    },
    {
     "data": {
      "text/html": [
       "<blockquote>Militaries and nonstate actors alike are using health interventions to serve their political aims in conflict situations</blockquote>"
      ],
      "text/plain": [
       "<IPython.core.display.HTML object>"
      ]
     },
     "metadata": {},
     "output_type": "display_data"
    },
    {
     "data": {
      "text/html": [
       "<p style='text-align:center'> *** </p>"
      ],
      "text/plain": [
       "<IPython.core.display.HTML object>"
      ]
     },
     "metadata": {},
     "output_type": "display_data"
    },
    {
     "data": {
      "text/html": [
       "<h2>13. Data systems and research priorities and agendas incorporate attention to the needs and circumstances of disadvantaged populations and underrepresented minorities. </h2>"
      ],
      "text/plain": [
       "<IPython.core.display.HTML object>"
      ]
     },
     "metadata": {},
     "output_type": "display_data"
    },
    {
     "data": {
      "text/html": [
       "<h4 style='text-align:center'>17-05-2016</h4>"
      ],
      "text/plain": [
       "<IPython.core.display.HTML object>"
      ]
     },
     "metadata": {},
     "output_type": "display_data"
    },
    {
     "data": {
      "text/html": [
       "<h3 style='text-align:center'> <a href='https://www.ncbi.nlm.nih.gov/pmc/articles/PMC4869271/'> MOVING TOWARDS A NEW VISION: IMPLEMENTATION OF A PUBLIC HEALTH POLICY INTERVENTION</a></h2>"
      ],
      "text/plain": [
       "<IPython.core.display.HTML object>"
      ]
     },
     "metadata": {},
     "output_type": "display_data"
    },
    {
     "data": {
      "text/html": [
       "<h4 style='text-align:center'> ~ <b>Valaitis, Ruta; MacDonald, Marjorie; Kothari, Anita; O’Mara, Linda; Regan, Sandra; Garcia, John; Murray, Nancy; Manson, Heather; Peroff-Johnston, Nancy; Bursey, Gayle; Boyko, Jennifer</b></h4>"
      ],
      "text/plain": [
       "<IPython.core.display.HTML object>"
      ]
     },
     "metadata": {},
     "output_type": "display_data"
    },
    {
     "data": {
      "text/html": [
       "<blockquote> These structures impacted funding for public health human resources in various ways</blockquote>"
      ],
      "text/plain": [
       "<IPython.core.display.HTML object>"
      ]
     },
     "metadata": {},
     "output_type": "display_data"
    },
    {
     "data": {
      "text/html": [
       "<p style='text-align:center'> *** </p>"
      ],
      "text/plain": [
       "<IPython.core.display.HTML object>"
      ]
     },
     "metadata": {},
     "output_type": "display_data"
    },
    {
     "data": {
      "text/html": [
       "<h4 style='text-align:center'>28-04-2015</h4>"
      ],
      "text/plain": [
       "<IPython.core.display.HTML object>"
      ]
     },
     "metadata": {},
     "output_type": "display_data"
    },
    {
     "data": {
      "text/html": [
       "<h3 style='text-align:center'> <a href='https://www.ncbi.nlm.nih.gov/pmc/articles/PMC4415223/'> THE EVIDENCE BASE OF PRIMARY RESEARCH IN PUBLIC HEALTH EMERGENCY PREPAREDNESS: A SCOPING REVIEW AND STAKEHOLDER CONSULTATION</a></h2>"
      ],
      "text/plain": [
       "<IPython.core.display.HTML object>"
      ]
     },
     "metadata": {},
     "output_type": "display_data"
    },
    {
     "data": {
      "text/html": [
       "<h4 style='text-align:center'> ~ <b>Khan, Yasmin; Fazli, Ghazal; Henry, Bonnie; de Villa, Eileen; Tsamis, Charoula; Grant, Moira; Schwartz, Brian</b></h4>"
      ],
      "text/plain": [
       "<IPython.core.display.HTML object>"
      ]
     },
     "metadata": {},
     "output_type": "display_data"
    },
    {
     "data": {
      "text/html": [
       "<blockquote> Opportunities for generating knowledge to examine complexities such as system integration could address knowledge gaps and inform operational activities and policy</blockquote>"
      ],
      "text/plain": [
       "<IPython.core.display.HTML object>"
      ]
     },
     "metadata": {},
     "output_type": "display_data"
    },
    {
     "data": {
      "text/html": [
       "<p style='text-align:center'> *** </p>"
      ],
      "text/plain": [
       "<IPython.core.display.HTML object>"
      ]
     },
     "metadata": {},
     "output_type": "display_data"
    },
    {
     "data": {
      "text/html": [
       "<h4 style='text-align:center'>01-03-2014</h4>"
      ],
      "text/plain": [
       "<IPython.core.display.HTML object>"
      ]
     },
     "metadata": {},
     "output_type": "display_data"
    },
    {
     "data": {
      "text/html": [
       "<h3 style='text-align:center'> <a href='http://europepmc.org/articles/pmc3955375?pdf=render'> SOCIAL MEDIA AND INTERNET-BASED DATA IN GLOBAL SYSTEMS FOR PUBLIC HEALTH SURVEILLANCE: A SYSTEMATIC REVIEW</a></h2>"
      ],
      "text/plain": [
       "<IPython.core.display.HTML object>"
      ]
     },
     "metadata": {},
     "output_type": "display_data"
    },
    {
     "data": {
      "text/html": [
       "<h4 style='text-align:center'> ~ <b>VELASCO, EDWARD; AGHENEZA, TUMACHA; DENECKE, KERSTIN; KIRCHNER, GÖRAN; ECKMANNS, TIM</b></h4>"
      ],
      "text/plain": [
       "<IPython.core.display.HTML object>"
      ]
     },
     "metadata": {},
     "output_type": "display_data"
    },
    {
     "data": {
      "text/html": [
       "<blockquote> These issues are relevant to any surveillance tool that processes Internet or social media data, especially at governmental institutions</blockquote>"
      ],
      "text/plain": [
       "<IPython.core.display.HTML object>"
      ]
     },
     "metadata": {},
     "output_type": "display_data"
    },
    {
     "data": {
      "text/html": [
       "<p style='text-align:center'> *** </p>"
      ],
      "text/plain": [
       "<IPython.core.display.HTML object>"
      ]
     },
     "metadata": {},
     "output_type": "display_data"
    },
    {
     "data": {
      "text/html": [
       "<h4 style='text-align:center'>24-02-2014</h4>"
      ],
      "text/plain": [
       "<IPython.core.display.HTML object>"
      ]
     },
     "metadata": {},
     "output_type": "display_data"
    },
    {
     "data": {
      "text/html": [
       "<h3 style='text-align:center'> <a href='https://www.ncbi.nlm.nih.gov/pmc/articles/PMC3936858/'> PUBLIC HEALTH HUMAN RESOURCES: A COMPARATIVE ANALYSIS OF POLICY DOCUMENTS IN TWO CANADIAN PROVINCES</a></h2>"
      ],
      "text/plain": [
       "<IPython.core.display.HTML object>"
      ]
     },
     "metadata": {},
     "output_type": "display_data"
    },
    {
     "data": {
      "text/html": [
       "<h4 style='text-align:center'> ~ <b>Regan, Sandra; MacDonald, Marjorie; Allan, Diane E; Martin, Cheryl; Peroff-Johnston, Nancy</b></h4>"
      ],
      "text/plain": [
       "<IPython.core.display.HTML object>"
      ]
     },
     "metadata": {},
     "output_type": "display_data"
    },
    {
     "data": {
      "text/html": [
       "<blockquote> Both provinces undertook intensive processes to identify and explicate core public health competencies that are foundational to support public health renewal including development of core functions and public health standards\n",
       " Both the BC Core Public Health Functions and Ontario Public Health Standards discuss the importance of public health addressing the specific needs of those populations considered vulnerable or at-risk; BC refers to populations of concern or vulnerable populations while ON uses the term priority populations</blockquote>"
      ],
      "text/plain": [
       "<IPython.core.display.HTML object>"
      ]
     },
     "metadata": {},
     "output_type": "display_data"
    },
    {
     "data": {
      "text/html": [
       "<p style='text-align:center'> *** </p>"
      ],
      "text/plain": [
       "<IPython.core.display.HTML object>"
      ]
     },
     "metadata": {},
     "output_type": "display_data"
    },
    {
     "data": {
      "text/html": [
       "<h4 style='text-align:center'>04-03-2011</h4>"
      ],
      "text/plain": [
       "<IPython.core.display.HTML object>"
      ]
     },
     "metadata": {},
     "output_type": "display_data"
    },
    {
     "data": {
      "text/html": [
       "<h3 style='text-align:center'> <a href='https://www.ncbi.nlm.nih.gov/pmc/articles/PMC3092412/'> THE GLOBAL EMERGING INFECTION SURVEILLANCE AND RESPONSE SYSTEM (GEIS), A U.S. GOVERNMENT TOOL FOR IMPROVED GLOBAL BIOSURVEILLANCE: A REVIEW OF 2009</a></h2>"
      ],
      "text/plain": [
       "<IPython.core.display.HTML object>"
      ]
     },
     "metadata": {},
     "output_type": "display_data"
    },
    {
     "data": {
      "text/html": [
       "<h4 style='text-align:center'> ~ <b>Russell, Kevin L; Rubenstein, Jennifer; Burke, Ronald L; Vest, Kelly G; Johns, Matthew C; Sanchez, Jose L; Meyer, William; Fukuda, Mark M; Blazes, David L</b></h4>"
      ],
      "text/plain": [
       "<IPython.core.display.HTML object>"
      ]
     },
     "metadata": {},
     "output_type": "display_data"
    },
    {
     "data": {
      "text/html": [
       "<blockquote> AFHSC-GEIS surveillance provides baseline infectious disease risk data that directly influences priorities and viable geographic locations for the conduct of various projects within the MIDRP</blockquote>"
      ],
      "text/plain": [
       "<IPython.core.display.HTML object>"
      ]
     },
     "metadata": {},
     "output_type": "display_data"
    },
    {
     "data": {
      "text/html": [
       "<p style='text-align:center'> *** </p>"
      ],
      "text/plain": [
       "<IPython.core.display.HTML object>"
      ]
     },
     "metadata": {},
     "output_type": "display_data"
    },
    {
     "data": {
      "text/html": [
       "<h4 style='text-align:center'>31-07-2010</h4>"
      ],
      "text/plain": [
       "<IPython.core.display.HTML object>"
      ]
     },
     "metadata": {},
     "output_type": "display_data"
    },
    {
     "data": {
      "text/html": [
       "<h3 style='text-align:center'> <a href='https://doi.org/10.1016/j.healthpol.2010.01.007'> PANDEMIC PLANNING IN PEDIATRIC CARE: A WEBSITE POLICY REVIEW AND NATIONAL SURVEY DATA</a></h2>"
      ],
      "text/plain": [
       "<IPython.core.display.HTML object>"
      ]
     },
     "metadata": {},
     "output_type": "display_data"
    },
    {
     "data": {
      "text/html": [
       "<h4 style='text-align:center'> ~ <b>Nicholas, David; Patershuk, Clare; Koller, Donna; Bruce-Barrett, Cindy; Lach, Lucy; Zlotnik Shaul, Randi; Matlow, Anne</b></h4>"
      ],
      "text/plain": [
       "<IPython.core.display.HTML object>"
      ]
     },
     "metadata": {},
     "output_type": "display_data"
    },
    {
     "data": {
      "text/html": [
       "<blockquote> These disparities require greater consideration of factors influencing inequities in pediatric pandemic preparedness, including population density, socioeconomic status, relative isolation, and available resources</blockquote>"
      ],
      "text/plain": [
       "<IPython.core.display.HTML object>"
      ]
     },
     "metadata": {},
     "output_type": "display_data"
    },
    {
     "data": {
      "text/html": [
       "<p style='text-align:center'> *** </p>"
      ],
      "text/plain": [
       "<IPython.core.display.HTML object>"
      ]
     },
     "metadata": {},
     "output_type": "display_data"
    },
    {
     "data": {
      "text/html": [
       "<h4 style='text-align:center'>30-09-2004</h4>"
      ],
      "text/plain": [
       "<IPython.core.display.HTML object>"
      ]
     },
     "metadata": {},
     "output_type": "display_data"
    },
    {
     "data": {
      "text/html": [
       "<h3 style='text-align:center'> <a href='https://doi.org/10.1016/j.ijmedinf.2004.05.010'> INVESTIGATING PUBLIC HEALTH EMERGENCY RESPONSE INFORMATION SYSTEM INITIATIVES IN CHINA</a></h2>"
      ],
      "text/plain": [
       "<IPython.core.display.HTML object>"
      ]
     },
     "metadata": {},
     "output_type": "display_data"
    },
    {
     "data": {
      "text/html": [
       "<h4 style='text-align:center'> ~ <b>Liang, Huigang; Xue, Yajiong</b></h4>"
      ],
      "text/plain": [
       "<IPython.core.display.HTML object>"
      ]
     },
     "metadata": {},
     "output_type": "display_data"
    },
    {
     "data": {
      "text/html": [
       "<blockquote> Few papers examine the initiatives in public health emergency systems in developing countries</blockquote>"
      ],
      "text/plain": [
       "<IPython.core.display.HTML object>"
      ]
     },
     "metadata": {},
     "output_type": "display_data"
    },
    {
     "data": {
      "text/html": [
       "<p style='text-align:center'> *** </p>"
      ],
      "text/plain": [
       "<IPython.core.display.HTML object>"
      ]
     },
     "metadata": {},
     "output_type": "display_data"
    },
    {
     "data": {
      "text/html": [
       "<h2>14. Mitigating threats to incarcerated people from COVID-19, assuring access to information, prevention, diagnosis, and treatment. </h2>"
      ],
      "text/plain": [
       "<IPython.core.display.HTML object>"
      ]
     },
     "metadata": {},
     "output_type": "display_data"
    },
    {
     "data": {
      "text/html": [
       "<h4 style='text-align:center'>18-03-2020</h4>"
      ],
      "text/plain": [
       "<IPython.core.display.HTML object>"
      ]
     },
     "metadata": {},
     "output_type": "display_data"
    },
    {
     "data": {
      "text/html": [
       "<h3 style='text-align:center'> <a href='https://doi.org/10.1016/s0140-6736(20)30553-5'> HEALTH SECURITY CAPACITIES IN THE CONTEXT OF COVID-19 OUTBREAK: AN ANALYSIS OF INTERNATIONAL HEALTH REGULATIONS ANNUAL REPORT DATA FROM 182 COUNTRIES</a></h2>"
      ],
      "text/plain": [
       "<IPython.core.display.HTML object>"
      ]
     },
     "metadata": {},
     "output_type": "display_data"
    },
    {
     "data": {
      "text/html": [
       "<h4 style='text-align:center'> ~ <b>Kandel, Nirmal; Chungong, Stella; Omaar, Abbas; Xing, Jun</b></h4>"
      ],
      "text/plain": [
       "<IPython.core.display.HTML object>"
      ]
     },
     "metadata": {},
     "output_type": "display_data"
    },
    {
     "data": {
      "text/html": [
       "<blockquote>3-financing mechanism and funds for timely response to public health emergencies Availability and accessibility of financing mechanisms is essential for prevention, detection, and control of infectious disease outbreaks\n",
       " 24 An effective way of managing airborne infections is applying evidence-based public health prevention strategies\n",
       "Effective response to outbreaks and other health emergencies depends on case management\n",
       "Capacity for infection prevention and control is needed for effective case management and infection control\n",
       " Infection prevention and control at the community and healthcare facility level is key for prevention, control and containment of the infection\n",
       "Access to the essential health services are needed to prevent, detect, and control infectious disease outbreaks\n",
       "Capacity for verification, risk assessment, and analysis investigation is crucial for the prevention, detection, and control of infectious disease outbreaks</blockquote>"
      ],
      "text/plain": [
       "<IPython.core.display.HTML object>"
      ]
     },
     "metadata": {},
     "output_type": "display_data"
    },
    {
     "data": {
      "text/html": [
       "<p style='text-align:center'> *** </p>"
      ],
      "text/plain": [
       "<IPython.core.display.HTML object>"
      ]
     },
     "metadata": {},
     "output_type": "display_data"
    },
    {
     "data": {
      "text/html": [
       "<h4 style='text-align:center'>01-03-2014</h4>"
      ],
      "text/plain": [
       "<IPython.core.display.HTML object>"
      ]
     },
     "metadata": {},
     "output_type": "display_data"
    },
    {
     "data": {
      "text/html": [
       "<h3 style='text-align:center'> <a href='http://europepmc.org/articles/pmc3955375?pdf=render'> SOCIAL MEDIA AND INTERNET-BASED DATA IN GLOBAL SYSTEMS FOR PUBLIC HEALTH SURVEILLANCE: A SYSTEMATIC REVIEW</a></h2>"
      ],
      "text/plain": [
       "<IPython.core.display.HTML object>"
      ]
     },
     "metadata": {},
     "output_type": "display_data"
    },
    {
     "data": {
      "text/html": [
       "<h4 style='text-align:center'> ~ <b>VELASCO, EDWARD; AGHENEZA, TUMACHA; DENECKE, KERSTIN; KIRCHNER, GÖRAN; ECKMANNS, TIM</b></h4>"
      ],
      "text/plain": [
       "<IPython.core.display.HTML object>"
      ]
     },
     "metadata": {},
     "output_type": "display_data"
    },
    {
     "data": {
      "text/html": [
       "<blockquote>Regulating the identification of disease outbreaks and other emergencies with potential international public health implications also requires technical advice to develop adequate surveillance activities</blockquote>"
      ],
      "text/plain": [
       "<IPython.core.display.HTML object>"
      ]
     },
     "metadata": {},
     "output_type": "display_data"
    },
    {
     "data": {
      "text/html": [
       "<p style='text-align:center'> *** </p>"
      ],
      "text/plain": [
       "<IPython.core.display.HTML object>"
      ]
     },
     "metadata": {},
     "output_type": "display_data"
    },
    {
     "data": {
      "text/html": [
       "<h2>15. Understanding coverage policies (barriers and opportunities) related to testing, treatment, and carel media. </h2>"
      ],
      "text/plain": [
       "<IPython.core.display.HTML object>"
      ]
     },
     "metadata": {},
     "output_type": "display_data"
    },
    {
     "data": {
      "text/html": [
       "<h4 style='text-align:center'>18-09-2019</h4>"
      ],
      "text/plain": [
       "<IPython.core.display.HTML object>"
      ]
     },
     "metadata": {},
     "output_type": "display_data"
    },
    {
     "data": {
      "text/html": [
       "<h3 style='text-align:center'> <a href='https://www.ncbi.nlm.nih.gov/pmc/articles/PMC6766041/'> EVALUATION OF PUBLIC HEALTH EMERGENCY MANAGEMENT IN CHINA: A SYSTEMATIC REVIEW</a></h2>"
      ],
      "text/plain": [
       "<IPython.core.display.HTML object>"
      ]
     },
     "metadata": {},
     "output_type": "display_data"
    },
    {
     "data": {
      "text/html": [
       "<h4 style='text-align:center'> ~ <b>Wang, Jia; Yuan, Beibei; Li, Zhengmao; Wang, Zhifeng</b></h4>"
      ],
      "text/plain": [
       "<IPython.core.display.HTML object>"
      ]
     },
     "metadata": {},
     "output_type": "display_data"
    },
    {
     "data": {
      "text/html": [
       "<blockquote> Previous research on a health emergency management assessment system typically targeted certain types of public health emergencies and lacked the exploration of health emergency management assessment systems based on the commonality of multiple types of public health emergencies\n",
       " Future research should explore the optimal methods of realizing China's health emergency management, evaluate relevance and commonality, and develop sound and applicable standardization of health emergency management assessment systems to meet the developing requirements of potential emergencies in China\n",
       " Laws, regulations and policy bases for health emergency management assessment also need to attend to differences and linkages between national health emergencies and national emergency laws, regulations, and policies</blockquote>"
      ],
      "text/plain": [
       "<IPython.core.display.HTML object>"
      ]
     },
     "metadata": {},
     "output_type": "display_data"
    },
    {
     "data": {
      "text/html": [
       "<p style='text-align:center'> *** </p>"
      ],
      "text/plain": [
       "<IPython.core.display.HTML object>"
      ]
     },
     "metadata": {},
     "output_type": "display_data"
    },
    {
     "data": {
      "text/html": [
       "<h4 style='text-align:center'>28-04-2015</h4>"
      ],
      "text/plain": [
       "<IPython.core.display.HTML object>"
      ]
     },
     "metadata": {},
     "output_type": "display_data"
    },
    {
     "data": {
      "text/html": [
       "<h3 style='text-align:center'> <a href='https://www.ncbi.nlm.nih.gov/pmc/articles/PMC4415223/'> THE EVIDENCE BASE OF PRIMARY RESEARCH IN PUBLIC HEALTH EMERGENCY PREPAREDNESS: A SCOPING REVIEW AND STAKEHOLDER CONSULTATION</a></h2>"
      ],
      "text/plain": [
       "<IPython.core.display.HTML object>"
      ]
     },
     "metadata": {},
     "output_type": "display_data"
    },
    {
     "data": {
      "text/html": [
       "<h4 style='text-align:center'> ~ <b>Khan, Yasmin; Fazli, Ghazal; Henry, Bonnie; de Villa, Eileen; Tsamis, Charoula; Grant, Moira; Schwartz, Brian</b></h4>"
      ],
      "text/plain": [
       "<IPython.core.display.HTML object>"
      ]
     },
     "metadata": {},
     "output_type": "display_data"
    },
    {
     "data": {
      "text/html": [
       "<blockquote>Public health considerations for sheltering and evacuation: Gaps in this initial theme related to understanding the logistics and implementation challenges for public health measures such as evacuation</blockquote>"
      ],
      "text/plain": [
       "<IPython.core.display.HTML object>"
      ]
     },
     "metadata": {},
     "output_type": "display_data"
    },
    {
     "data": {
      "text/html": [
       "<p style='text-align:center'> *** </p>"
      ],
      "text/plain": [
       "<IPython.core.display.HTML object>"
      ]
     },
     "metadata": {},
     "output_type": "display_data"
    }
   ],
   "source": [
    "tags = [\n",
    "    \"Methods for coordinating data-gathering with standardized nomenclature.\",\n",
    "    \"Sharing response information among planners, providers, and others.\",\n",
    "    \"Understanding and mitigating barriers to information-sharing.\",\n",
    "    \"How to recruit, support, and coordinate local (non-Federal) expertise and capacity relevant to public health emergency response (public, private, commercial and non-profit, including academic).\",\n",
    "    \"Integration of federal/state/local public health surveillance systems.\",\n",
    "    \"Value of investments in baseline public health response infrastructure preparedness\",\n",
    "    \"Modes of communicating with target high-risk populations (elderly, health care workers).\",\n",
    "    \"Risk communication and guidelines that are easy to understand and follow (include targeting at risk populations’ families too).\",\n",
    "    \"Communication that indicates potential risk of disease to all population groups.\",\n",
    "    \"Misunderstanding around containment and mitigation.\",\n",
    "    \"Action plan to mitigate gaps and problems of inequity in the Nation’s public health capability, capacity, and funding to ensure all citizens in need are supported and can access information, surveillance, and treatment.\",\n",
    "    \"Measures to reach marginalized and disadvantaged populations.\",\n",
    "    \"Data systems and research priorities and agendas incorporate attention to the needs and circumstances of disadvantaged populations and underrepresented minorities.\",\n",
    "    \"Mitigating threats to incarcerated people from COVID-19, assuring access to information, prevention, diagnosis, and treatment.\",\n",
    "    \"Understanding coverage policies (barriers and opportunities) related to testing, treatment, and carel media.\"\n",
    "]\n",
    "\n",
    "read_data(tags, 10)"
   ]
  },
  {
   "cell_type": "code",
   "execution_count": null,
   "metadata": {},
   "outputs": [],
   "source": []
  }
 ],
 "metadata": {
  "kernelspec": {
   "display_name": "Python 3",
   "language": "python",
   "name": "python3"
  },
  "language_info": {
   "codemirror_mode": {
    "name": "ipython",
    "version": 3
   },
   "file_extension": ".py",
   "mimetype": "text/x-python",
   "name": "python",
   "nbconvert_exporter": "python",
   "pygments_lexer": "ipython3",
   "version": "3.7.4"
  }
 },
 "nbformat": 4,
 "nbformat_minor": 2
}
