{
 "cells": [
  {
   "cell_type": "code",
   "execution_count": 13,
   "metadata": {},
   "outputs": [],
   "source": [
    "import pandas as pd\n",
    "import os\n",
    "from IPython.core.display import display, HTML"
   ]
  },
  {
   "cell_type": "code",
   "execution_count": 14,
   "metadata": {},
   "outputs": [],
   "source": [
    "DIR = \"csvfiles/relevant/\""
   ]
  },
  {
   "cell_type": "code",
   "execution_count": 22,
   "metadata": {},
   "outputs": [
    {
     "data": {
      "text/html": [
       "<h1>1. Range of incubation periods for the disease in humans (and how this varies across age and health status) and how long individuals are contagious, even after recovery.</h1>"
      ],
      "text/plain": [
       "<IPython.core.display.HTML object>"
      ]
     },
     "metadata": {},
     "output_type": "display_data"
    },
    {
     "data": {
      "text/html": [
       "<h3> ''QUANTIFYING DYNAMICS OF SARS-COV-2 TRANSMISSION SUGGESTS THAT EPIDEMIC CONTROL AND AVOIDANCE IS FEASIBLE THROUGH INSTANTANEOUS DIGITAL CONTACT TRACING''</h2>"
      ],
      "text/plain": [
       "<IPython.core.display.HTML object>"
      ]
     },
     "metadata": {},
     "output_type": "display_data"
    },
    {
     "data": {
      "text/html": [
       "<p>The incubation period is defined as the time between infection and onset of symptoms</p>"
      ],
      "text/plain": [
       "<IPython.core.display.HTML object>"
      ]
     },
     "metadata": {},
     "output_type": "display_data"
    },
    {
     "data": {
      "text/html": [
       "<p style='text-align:center'> *** </p>"
      ],
      "text/plain": [
       "<IPython.core.display.HTML object>"
      ]
     },
     "metadata": {},
     "output_type": "display_data"
    },
    {
     "data": {
      "text/html": [
       "<h3> ''CONTACT HETEROGENEITY, RATHER THAN TRANSMISSION EFFICIENCY, LIMITS THE EMERGENCE AND SPREAD OF CANINE INFLUENZA VIRUS''</h2>"
      ],
      "text/plain": [
       "<IPython.core.display.HTML object>"
      ]
     },
     "metadata": {},
     "output_type": "display_data"
    },
    {
     "data": {
      "text/html": [
       "<p> Vaccination reduces a dog's susceptibility to infection by decreasing the probability that a virus population initially transferred through infectious contact will enter a phase of exponential growth, prerequisite to significant viral shedding and clinical symptoms [50] </p>"
      ],
      "text/plain": [
       "<IPython.core.display.HTML object>"
      ]
     },
     "metadata": {},
     "output_type": "display_data"
    },
    {
     "data": {
      "text/html": [
       "<p style='text-align:center'> *** </p>"
      ],
      "text/plain": [
       "<IPython.core.display.HTML object>"
      ]
     },
     "metadata": {},
     "output_type": "display_data"
    },
    {
     "data": {
      "text/html": [
       "<h3> ''CHARACTERIZING THE TRANSMISSION DYNAMICS AND CONTROL OF EBOLA VIRUS DISEASE''</h2>"
      ],
      "text/plain": [
       "<IPython.core.display.HTML object>"
      ]
     },
     "metadata": {},
     "output_type": "display_data"
    },
    {
     "data": {
      "text/html": [
       "<p> EVD contagiousness is most pronounced in the later and more severe stages of Ebola infection when infectious individuals are confined at home or health care settings and mostly exposed to caregivers (e</p>"
      ],
      "text/plain": [
       "<IPython.core.display.HTML object>"
      ]
     },
     "metadata": {},
     "output_type": "display_data"
    },
    {
     "data": {
      "text/html": [
       "<p style='text-align:center'> *** </p>"
      ],
      "text/plain": [
       "<IPython.core.display.HTML object>"
      ]
     },
     "metadata": {},
     "output_type": "display_data"
    },
    {
     "data": {
      "text/html": [
       "<h3> ''SEASONALITY AND PREVALENCE OF RESPIRATORY PATHOGENS DETECTED BY MULTIPLEX PCR AT A TERTIARY CARE MEDICAL CENTER''</h2>"
      ],
      "text/plain": [
       "<IPython.core.display.HTML object>"
      ]
     },
     "metadata": {},
     "output_type": "display_data"
    },
    {
     "data": {
      "text/html": [
       "<p>Acute respiratory tract illnesses are the most common illness in all age groups and are an important cause of hospitalization and mortality, especially in the winter months</p>"
      ],
      "text/plain": [
       "<IPython.core.display.HTML object>"
      ]
     },
     "metadata": {},
     "output_type": "display_data"
    },
    {
     "data": {
      "text/html": [
       "<p style='text-align:center'> *** </p>"
      ],
      "text/plain": [
       "<IPython.core.display.HTML object>"
      ]
     },
     "metadata": {},
     "output_type": "display_data"
    },
    {
     "data": {
      "text/html": [
       "<h3> ''TRANSMISSION OR WITHIN-HOST DYNAMICS DRIVING PULSES OF ZOONOTIC VIRUSES IN RESERVOIR-HOST POPULATIONS''</h2>"
      ],
      "text/plain": [
       "<IPython.core.display.HTML object>"
      ]
     },
     "metadata": {},
     "output_type": "display_data"
    },
    {
     "data": {
      "text/html": [
       "<p> In this scenario, although births or immigration contribute to the cycles of infection, loss of immunity within individuals strongly affects the age-specific incidence</p>"
      ],
      "text/plain": [
       "<IPython.core.display.HTML object>"
      ]
     },
     "metadata": {},
     "output_type": "display_data"
    },
    {
     "data": {
      "text/html": [
       "<p style='text-align:center'> *** </p>"
      ],
      "text/plain": [
       "<IPython.core.display.HTML object>"
      ]
     },
     "metadata": {},
     "output_type": "display_data"
    },
    {
     "data": {
      "text/html": [
       "<h3> ''BUYING TIME-THE IMMUNE SYSTEM DETERMINANTS OF THE INCUBATION PERIOD TO RESPIRATORY VIRUSES''</h2>"
      ],
      "text/plain": [
       "<IPython.core.display.HTML object>"
      ]
     },
     "metadata": {},
     "output_type": "display_data"
    },
    {
     "data": {
      "text/html": [
       "<p> Determining the incubation periods of different pathogens assists health authorities control and track the progress of an infectious disease, thus limiting the spread of the pathogen and a possible epidemic</p>"
      ],
      "text/plain": [
       "<IPython.core.display.HTML object>"
      ]
     },
     "metadata": {},
     "output_type": "display_data"
    },
    {
     "data": {
      "text/html": [
       "<p style='text-align:center'> *** </p>"
      ],
      "text/plain": [
       "<IPython.core.display.HTML object>"
      ]
     },
     "metadata": {},
     "output_type": "display_data"
    },
    {
     "data": {
      "text/html": [
       "<h3> ''BUYING TIME-THE IMMUNE SYSTEM DETERMINANTS OF THE INCUBATION PERIOD TO RESPIRATORY VIRUSES''</h2>"
      ],
      "text/plain": [
       "<IPython.core.display.HTML object>"
      ]
     },
     "metadata": {},
     "output_type": "display_data"
    },
    {
     "data": {
      "text/html": [
       "<p>The incubation period is a helpful definition that describes the time between virus infection and the onset of symptoms</p>"
      ],
      "text/plain": [
       "<IPython.core.display.HTML object>"
      ]
     },
     "metadata": {},
     "output_type": "display_data"
    },
    {
     "data": {
      "text/html": [
       "<p style='text-align:center'> *** </p>"
      ],
      "text/plain": [
       "<IPython.core.display.HTML object>"
      ]
     },
     "metadata": {},
     "output_type": "display_data"
    },
    {
     "data": {
      "text/html": [
       "<h3> ''SEIR TRANSMISSION DYNAMICS MODEL OF 2019 NCOV CORONAVIRUS WITH CONSIDERING THE WEAK INFECTIOUS ABILITY AND CHANGES IN LATENCY DURATION''</h2>"
      ],
      "text/plain": [
       "<IPython.core.display.HTML object>"
      ]
     },
     "metadata": {},
     "output_type": "display_data"
    },
    {
     "data": {
      "text/html": [
       "<p>77 SARS epidemic [4] 。In the absence of comprehensive treatments or vaccines, China has adopted the most effective isolation prevention and control measures to isolate patients diagnosed with 2019-nCoV to control the spread of infection, but the number of 2019-nCoV infections has far exceeded that of SARS epidemics</p>"
      ],
      "text/plain": [
       "<IPython.core.display.HTML object>"
      ]
     },
     "metadata": {},
     "output_type": "display_data"
    },
    {
     "data": {
      "text/html": [
       "<p style='text-align:center'> *** </p>"
      ],
      "text/plain": [
       "<IPython.core.display.HTML object>"
      ]
     },
     "metadata": {},
     "output_type": "display_data"
    },
    {
     "data": {
      "text/html": [
       "<h3> ''BUYING TIME-THE IMMUNE SYSTEM DETERMINANTS OF THE INCUBATION PERIOD TO RESPIRATORY VIRUSES''</h2>"
      ],
      "text/plain": [
       "<IPython.core.display.HTML object>"
      ]
     },
     "metadata": {},
     "output_type": "display_data"
    },
    {
     "data": {
      "text/html": [
       "<p> The incubation period ends as symptoms abruptly appear about two days after infection when the innate immune response becomes active</p>"
      ],
      "text/plain": [
       "<IPython.core.display.HTML object>"
      ]
     },
     "metadata": {},
     "output_type": "display_data"
    },
    {
     "data": {
      "text/html": [
       "<p style='text-align:center'> *** </p>"
      ],
      "text/plain": [
       "<IPython.core.display.HTML object>"
      ]
     },
     "metadata": {},
     "output_type": "display_data"
    },
    {
     "data": {
      "text/html": [
       "<h3> ''QUANTIFYING THE TRANSMISSION POTENTIAL OF PANDEMIC INFLUENZA''</h2>"
      ],
      "text/plain": [
       "<IPython.core.display.HTML object>"
      ]
     },
     "metadata": {},
     "output_type": "display_data"
    },
    {
     "data": {
      "text/html": [
       "<p> Besides, for many recurrent infectious diseases including seasonal influenza, estimating the background immunity p in the population is extremely difficult due to cross-immunity of antigenically-related influenza strains and vaccination campaigns</p>"
      ],
      "text/plain": [
       "<IPython.core.display.HTML object>"
      ]
     },
     "metadata": {},
     "output_type": "display_data"
    },
    {
     "data": {
      "text/html": [
       "<p style='text-align:center'> *** </p>"
      ],
      "text/plain": [
       "<IPython.core.display.HTML object>"
      ]
     },
     "metadata": {},
     "output_type": "display_data"
    },
    {
     "data": {
      "text/html": [
       "<h1>2. Prevalence of asymptomatic shedding and transmission (e.g., particularly children).</h1>"
      ],
      "text/plain": [
       "<IPython.core.display.HTML object>"
      ]
     },
     "metadata": {},
     "output_type": "display_data"
    },
    {
     "data": {
      "text/html": [
       "<h3> ''QUANTIFYING DYNAMICS OF SARS-COV-2 TRANSMISSION SUGGESTS THAT EPIDEMIC CONTROL AND AVOIDANCE IS FEASIBLE THROUGH INSTANTANEOUS DIGITAL CONTACT TRACING''</h2>"
      ],
      "text/plain": [
       "<IPython.core.display.HTML object>"
      ]
     },
     "metadata": {},
     "output_type": "display_data"
    },
    {
     "data": {
      "text/html": [
       "<p> Asymptomatic transmission: direct transmission from individuals who never experience noticeable symptoms</p>"
      ],
      "text/plain": [
       "<IPython.core.display.HTML object>"
      ]
     },
     "metadata": {},
     "output_type": "display_data"
    },
    {
     "data": {
      "text/html": [
       "<p style='text-align:center'> *** </p>"
      ],
      "text/plain": [
       "<IPython.core.display.HTML object>"
      ]
     },
     "metadata": {},
     "output_type": "display_data"
    },
    {
     "data": {
      "text/html": [
       "<h3> ''CONTACT HETEROGENEITY, RATHER THAN TRANSMISSION EFFICIENCY, LIMITS THE EMERGENCE AND SPREAD OF CANINE INFLUENZA VIRUS''</h2>"
      ],
      "text/plain": [
       "<IPython.core.display.HTML object>"
      ]
     },
     "metadata": {},
     "output_type": "display_data"
    },
    {
     "data": {
      "text/html": [
       "<p>By reducing viral load and viral shedding, vaccination reduces the risk of infection in vaccinated dogs and reduces the infectiousness of a dog who becomes infected despite vaccination</p>"
      ],
      "text/plain": [
       "<IPython.core.display.HTML object>"
      ]
     },
     "metadata": {},
     "output_type": "display_data"
    },
    {
     "data": {
      "text/html": [
       "<p style='text-align:center'> *** </p>"
      ],
      "text/plain": [
       "<IPython.core.display.HTML object>"
      ]
     },
     "metadata": {},
     "output_type": "display_data"
    },
    {
     "data": {
      "text/html": [
       "<h3> ''ENVIRONMENTAL FACTORS AFFECTING THE TRANSMISSION OF RESPIRATORY VIRUSES''</h2>"
      ],
      "text/plain": [
       "<IPython.core.display.HTML object>"
      ]
     },
     "metadata": {},
     "output_type": "display_data"
    },
    {
     "data": {
      "text/html": [
       "<p> In a study that investigated the seasonal patterns of viral and bacterial infections among hospitalized children with radiologically diagnosed pneumonia in Salvadore, Brazil (12°N), adenovirus infection was significantly correlated with total precipitation</p>"
      ],
      "text/plain": [
       "<IPython.core.display.HTML object>"
      ]
     },
     "metadata": {},
     "output_type": "display_data"
    },
    {
     "data": {
      "text/html": [
       "<p style='text-align:center'> *** </p>"
      ],
      "text/plain": [
       "<IPython.core.display.HTML object>"
      ]
     },
     "metadata": {},
     "output_type": "display_data"
    },
    {
     "data": {
      "text/html": [
       "<h3> ''SEASONALITY AND PREVALENCE OF RESPIRATORY PATHOGENS DETECTED BY MULTIPLEX PCR AT A TERTIARY CARE MEDICAL CENTER''</h2>"
      ],
      "text/plain": [
       "<IPython.core.display.HTML object>"
      ]
     },
     "metadata": {},
     "output_type": "display_data"
    },
    {
     "data": {
      "text/html": [
       "<p>Multiplex respiratory PCR has been used in some cases to reduce nosocomial infections during specific seasonal respiratory epidemics</p>"
      ],
      "text/plain": [
       "<IPython.core.display.HTML object>"
      ]
     },
     "metadata": {},
     "output_type": "display_data"
    },
    {
     "data": {
      "text/html": [
       "<p style='text-align:center'> *** </p>"
      ],
      "text/plain": [
       "<IPython.core.display.HTML object>"
      ]
     },
     "metadata": {},
     "output_type": "display_data"
    },
    {
     "data": {
      "text/html": [
       "<h3> ''INCREASED INFECTION SEVERITY IN DOWNSTREAM CITIES IN INFECTIOUS DISEASE TRANSMISSION AND TOURISTS SURVEILLANCE ANALYSIS''</h2>"
      ],
      "text/plain": [
       "<IPython.core.display.HTML object>"
      ]
     },
     "metadata": {},
     "output_type": "display_data"
    },
    {
     "data": {
      "text/html": [
       "<p>Human mobility surveillance between cities influences infectious disease transmission ( Fig</p>"
      ],
      "text/plain": [
       "<IPython.core.display.HTML object>"
      ]
     },
     "metadata": {},
     "output_type": "display_data"
    },
    {
     "data": {
      "text/html": [
       "<p style='text-align:center'> *** </p>"
      ],
      "text/plain": [
       "<IPython.core.display.HTML object>"
      ]
     },
     "metadata": {},
     "output_type": "display_data"
    },
    {
     "data": {
      "text/html": [
       "<h3> ''VACCINATION OF INFLUENZA A VIRUS DECREASES TRANSMISSION RATES IN PIGS''</h2>"
      ],
      "text/plain": [
       "<IPython.core.display.HTML object>"
      ]
     },
     "metadata": {},
     "output_type": "display_data"
    },
    {
     "data": {
      "text/html": [
       "<p>The lung lesions of the heterologous vaccine treatment pigs were highly variable ranging from absent to severe</p>"
      ],
      "text/plain": [
       "<IPython.core.display.HTML object>"
      ]
     },
     "metadata": {},
     "output_type": "display_data"
    },
    {
     "data": {
      "text/html": [
       "<p style='text-align:center'> *** </p>"
      ],
      "text/plain": [
       "<IPython.core.display.HTML object>"
      ]
     },
     "metadata": {},
     "output_type": "display_data"
    },
    {
     "data": {
      "text/html": [
       "<h3> ''HOST GENETICS DETERMINE SUSCEPTIBILITY TO AVIAN INFLUENZA INFECTION AND TRANSMISSION DYNAMICS''</h2>"
      ],
      "text/plain": [
       "<IPython.core.display.HTML object>"
      ]
     },
     "metadata": {},
     "output_type": "display_data"
    },
    {
     "data": {
      "text/html": [
       "<p> H7N7-infected birds showed the characteristic pattern of viral shedding, transmission of infection and serological responses previously described (Fig</p>"
      ],
      "text/plain": [
       "<IPython.core.display.HTML object>"
      ]
     },
     "metadata": {},
     "output_type": "display_data"
    },
    {
     "data": {
      "text/html": [
       "<p style='text-align:center'> *** </p>"
      ],
      "text/plain": [
       "<IPython.core.display.HTML object>"
      ]
     },
     "metadata": {},
     "output_type": "display_data"
    },
    {
     "data": {
      "text/html": [
       "<h3> ''WIDESPREAD RECOMBINATION, REASSORTMENT, AND TRANSMISSION OF UNBALANCED COMPOUND VIRAL GENOTYPES IN NATURAL ARENAVIRUS INFECTIONS''</h2>"
      ],
      "text/plain": [
       "<IPython.core.display.HTML object>"
      ]
     },
     "metadata": {},
     "output_type": "display_data"
    },
    {
     "data": {
      "text/html": [
       "<p> Severe disease such as Lassa hemorrhagic fever can result from these zoonotic infections</p>"
      ],
      "text/plain": [
       "<IPython.core.display.HTML object>"
      ]
     },
     "metadata": {},
     "output_type": "display_data"
    },
    {
     "data": {
      "text/html": [
       "<p style='text-align:center'> *** </p>"
      ],
      "text/plain": [
       "<IPython.core.display.HTML object>"
      ]
     },
     "metadata": {},
     "output_type": "display_data"
    },
    {
     "data": {
      "text/html": [
       "<h3> ''VACCINATION OF INFLUENZA A VIRUS DECREASES TRANSMISSION RATES IN PIGS''</h2>"
      ],
      "text/plain": [
       "<IPython.core.display.HTML object>"
      ]
     },
     "metadata": {},
     "output_type": "display_data"
    },
    {
     "data": {
      "text/html": [
       "<p> The lung lesions of the homologous vaccine treatment pigs were absent to minimal</p>"
      ],
      "text/plain": [
       "<IPython.core.display.HTML object>"
      ]
     },
     "metadata": {},
     "output_type": "display_data"
    },
    {
     "data": {
      "text/html": [
       "<p style='text-align:center'> *** </p>"
      ],
      "text/plain": [
       "<IPython.core.display.HTML object>"
      ]
     },
     "metadata": {},
     "output_type": "display_data"
    },
    {
     "data": {
      "text/html": [
       "<h3> ''VACCINATION OF INFLUENZA A VIRUS DECREASES TRANSMISSION RATES IN PIGS''</h2>"
      ],
      "text/plain": [
       "<IPython.core.display.HTML object>"
      ]
     },
     "metadata": {},
     "output_type": "display_data"
    },
    {
     "data": {
      "text/html": [
       "<p> Subclinical infections with virus shedding can occur in vaccinated animals, particularly when there is a mismatch between the vaccine and field virus strains [12, 53] </p>"
      ],
      "text/plain": [
       "<IPython.core.display.HTML object>"
      ]
     },
     "metadata": {},
     "output_type": "display_data"
    },
    {
     "data": {
      "text/html": [
       "<p style='text-align:center'> *** </p>"
      ],
      "text/plain": [
       "<IPython.core.display.HTML object>"
      ]
     },
     "metadata": {},
     "output_type": "display_data"
    },
    {
     "data": {
      "text/html": [
       "<h1>3. Seasonality of transmission.</h1>"
      ],
      "text/plain": [
       "<IPython.core.display.HTML object>"
      ]
     },
     "metadata": {},
     "output_type": "display_data"
    },
    {
     "data": {
      "text/html": [
       "<h3> ''QUANTIFYING THE TRANSMISSION POTENTIAL OF PANDEMIC INFLUENZA''</h2>"
      ],
      "text/plain": [
       "<IPython.core.display.HTML object>"
      ]
     },
     "metadata": {},
     "output_type": "display_data"
    },
    {
     "data": {
      "text/html": [
       "<p>One line of addressing heterogeneous patterns of transmission using the observed data is separating household transmission from community transmission</p>"
      ],
      "text/plain": [
       "<IPython.core.display.HTML object>"
      ]
     },
     "metadata": {},
     "output_type": "display_data"
    },
    {
     "data": {
      "text/html": [
       "<p style='text-align:center'> *** </p>"
      ],
      "text/plain": [
       "<IPython.core.display.HTML object>"
      ]
     },
     "metadata": {},
     "output_type": "display_data"
    },
    {
     "data": {
      "text/html": [
       "<h3> ''SPATIALLY ADJUSTED TIME- VARYING REPRODUCTIVE NUMBERS: UNDERSTANDING THE GEOGRAPHICAL EXPANSION OF URBAN DENGUE OUTBREAKS''</h2>"
      ],
      "text/plain": [
       "<IPython.core.display.HTML object>"
      ]
     },
     "metadata": {},
     "output_type": "display_data"
    },
    {
     "data": {
      "text/html": [
       "<p>Quantifying the temporal transmission dynamics</p>"
      ],
      "text/plain": [
       "<IPython.core.display.HTML object>"
      ]
     },
     "metadata": {},
     "output_type": "display_data"
    },
    {
     "data": {
      "text/html": [
       "<p style='text-align:center'> *** </p>"
      ],
      "text/plain": [
       "<IPython.core.display.HTML object>"
      ]
     },
     "metadata": {},
     "output_type": "display_data"
    },
    {
     "data": {
      "text/html": [
       "<h3> ''VACCINATION OF INFLUENZA A VIRUS DECREASES TRANSMISSION RATES IN PIGS''</h2>"
      ],
      "text/plain": [
       "<IPython.core.display.HTML object>"
      ]
     },
     "metadata": {},
     "output_type": "display_data"
    },
    {
     "data": {
      "text/html": [
       "<p>Understanding transmission of influenza and the factors that affect transmission is crucial for designing effective control strategies</p>"
      ],
      "text/plain": [
       "<IPython.core.display.HTML object>"
      ]
     },
     "metadata": {},
     "output_type": "display_data"
    },
    {
     "data": {
      "text/html": [
       "<p style='text-align:center'> *** </p>"
      ],
      "text/plain": [
       "<IPython.core.display.HTML object>"
      ]
     },
     "metadata": {},
     "output_type": "display_data"
    },
    {
     "data": {
      "text/html": [
       "<h3> ''NOSOCOMIAL TRANSMISSION OF EMERGING VIRUSES VIA AEROSOL-GENERATING MEDICAL PROCEDURES''</h2>"
      ],
      "text/plain": [
       "<IPython.core.display.HTML object>"
      ]
     },
     "metadata": {},
     "output_type": "display_data"
    },
    {
     "data": {
      "text/html": [
       "<p> Understanding the characteristics of the aerosol transmission of different influenza A viruses and subtypes could help us determine the risk of influenza A viruses for nosocomial transmission due to AGMPs</p>"
      ],
      "text/plain": [
       "<IPython.core.display.HTML object>"
      ]
     },
     "metadata": {},
     "output_type": "display_data"
    },
    {
     "data": {
      "text/html": [
       "<p style='text-align:center'> *** </p>"
      ],
      "text/plain": [
       "<IPython.core.display.HTML object>"
      ]
     },
     "metadata": {},
     "output_type": "display_data"
    },
    {
     "data": {
      "text/html": [
       "<h3> ''OPEN ACCESS RES EARCH AEROSOL INFLUENZA TRANSMISSION RISK CONTOURS: A STUDY OF HUMID TROPICS VERSUS WINTER TEMPERATE ZONE''</h2>"
      ],
      "text/plain": [
       "<IPython.core.display.HTML object>"
      ]
     },
     "metadata": {},
     "output_type": "display_data"
    },
    {
     "data": {
      "text/html": [
       "<p> to interpolate contours of transmission of influenza in the humidity versus temperature phase space</p>"
      ],
      "text/plain": [
       "<IPython.core.display.HTML object>"
      ]
     },
     "metadata": {},
     "output_type": "display_data"
    },
    {
     "data": {
      "text/html": [
       "<p style='text-align:center'> *** </p>"
      ],
      "text/plain": [
       "<IPython.core.display.HTML object>"
      ]
     },
     "metadata": {},
     "output_type": "display_data"
    },
    {
     "data": {
      "text/html": [
       "<h3> ''SPATIAL AND TEMPORAL ANALYSES TO INVESTIGATE INFECTIOUS DISEASE TRANSMISSION WITHIN HEALTHCARE SETTINGS''</h2>"
      ],
      "text/plain": [
       "<IPython.core.display.HTML object>"
      ]
     },
     "metadata": {},
     "output_type": "display_data"
    },
    {
     "data": {
      "text/html": [
       "<p> Analysis is key to furthering understanding of the epidemiology and dynamics of transmission of these organisms</p>"
      ],
      "text/plain": [
       "<IPython.core.display.HTML object>"
      ]
     },
     "metadata": {},
     "output_type": "display_data"
    },
    {
     "data": {
      "text/html": [
       "<p style='text-align:center'> *** </p>"
      ],
      "text/plain": [
       "<IPython.core.display.HTML object>"
      ]
     },
     "metadata": {},
     "output_type": "display_data"
    },
    {
     "data": {
      "text/html": [
       "<h3> ''ENHANCED HYGIENE MEASURES AND NOROVIRUS TRANSMISSION DURING AN OUTBREAK''</h2>"
      ],
      "text/plain": [
       "<IPython.core.display.HTML object>"
      ]
     },
     "metadata": {},
     "output_type": "display_data"
    },
    {
     "data": {
      "text/html": [
       "<p> No quantitative estimates exist of the results of such enhanced hygiene measures on reducing further transmission of norovirus</p>"
      ],
      "text/plain": [
       "<IPython.core.display.HTML object>"
      ]
     },
     "metadata": {},
     "output_type": "display_data"
    },
    {
     "data": {
      "text/html": [
       "<p style='text-align:center'> *** </p>"
      ],
      "text/plain": [
       "<IPython.core.display.HTML object>"
      ]
     },
     "metadata": {},
     "output_type": "display_data"
    },
    {
     "data": {
      "text/html": [
       "<h3> ''SPATIALLY ADJUSTED TIME- VARYING REPRODUCTIVE NUMBERS: UNDERSTANDING THE GEOGRAPHICAL EXPANSION OF URBAN DENGUE OUTBREAKS''</h2>"
      ],
      "text/plain": [
       "<IPython.core.display.HTML object>"
      ]
     },
     "metadata": {},
     "output_type": "display_data"
    },
    {
     "data": {
      "text/html": [
       "<p> However, the index conventionally does not capture spatial dynamics of disease transmission</p>"
      ],
      "text/plain": [
       "<IPython.core.display.HTML object>"
      ]
     },
     "metadata": {},
     "output_type": "display_data"
    },
    {
     "data": {
      "text/html": [
       "<p style='text-align:center'> *** </p>"
      ],
      "text/plain": [
       "<IPython.core.display.HTML object>"
      ]
     },
     "metadata": {},
     "output_type": "display_data"
    },
    {
     "data": {
      "text/html": [
       "<h3> ''ENVIRONMENTAL CONDITIONS AFFECT EXHALATION OF H3N2 SEASONAL AND VARIANT INFLUENZA VIRUSES AND RESPIRATORY DROPLET TRANSMISSION IN FERRETS''</h2>"
      ],
      "text/plain": [
       "<IPython.core.display.HTML object>"
      ]
     },
     "metadata": {},
     "output_type": "display_data"
    },
    {
     "data": {
      "text/html": [
       "<p> Climatic conditions in tropical regions of the world represent a different set of parameters affecting transmission, and furthermore, routes of transmission not involving airborne virus (e</p>"
      ],
      "text/plain": [
       "<IPython.core.display.HTML object>"
      ]
     },
     "metadata": {},
     "output_type": "display_data"
    },
    {
     "data": {
      "text/html": [
       "<p style='text-align:center'> *** </p>"
      ],
      "text/plain": [
       "<IPython.core.display.HTML object>"
      ]
     },
     "metadata": {},
     "output_type": "display_data"
    },
    {
     "data": {
      "text/html": [
       "<h3> ''QUANTIFYING THE TRANSMISSION POTENTIAL OF PANDEMIC INFLUENZA''</h2>"
      ],
      "text/plain": [
       "<IPython.core.display.HTML object>"
      ]
     },
     "metadata": {},
     "output_type": "display_data"
    },
    {
     "data": {
      "text/html": [
       "<p> In future studies, influenza models may better to highlight the increasing importance of considering household transmission to estimate the transmission potential using the temporal distribution of infection events</p>"
      ],
      "text/plain": [
       "<IPython.core.display.HTML object>"
      ]
     },
     "metadata": {},
     "output_type": "display_data"
    },
    {
     "data": {
      "text/html": [
       "<p style='text-align:center'> *** </p>"
      ],
      "text/plain": [
       "<IPython.core.display.HTML object>"
      ]
     },
     "metadata": {},
     "output_type": "display_data"
    },
    {
     "data": {
      "text/html": [
       "<h1>4. Physical science of the coronavirus (e.g., charge distribution, adhesion to hydrophilic/phobic surfaces, environmental survival to inform decontamination efforts for affected areas and provide information about viral shedding).</h1>"
      ],
      "text/plain": [
       "<IPython.core.display.HTML object>"
      ]
     },
     "metadata": {},
     "output_type": "display_data"
    },
    {
     "data": {
      "text/html": [
       "<h3> ''TISSUE TROPISM AND TRANSMISSION ECOLOGY PREDICT VIRULENCE OF HUMAN RNA VIRUSES''</h2>"
      ],
      "text/plain": [
       "<IPython.core.display.HTML object>"
      ]
     },
     "metadata": {},
     "output_type": "display_data"
    },
    {
     "data": {
      "text/html": [
       "<p> The virulence risk factors we identify suggest that broadly targeting direct contact or respiratory transmission interfaces within ecological systems and/or tailoring detection assays towards certain virus families (e</p>"
      ],
      "text/plain": [
       "<IPython.core.display.HTML object>"
      ]
     },
     "metadata": {},
     "output_type": "display_data"
    },
    {
     "data": {
      "text/html": [
       "<p style='text-align:center'> *** </p>"
      ],
      "text/plain": [
       "<IPython.core.display.HTML object>"
      ]
     },
     "metadata": {},
     "output_type": "display_data"
    },
    {
     "data": {
      "text/html": [
       "<h3> ''TRANSMISSION OR WITHIN-HOST DYNAMICS DRIVING PULSES OF ZOONOTIC VIRUSES IN RESERVOIR-HOST POPULATIONS''</h2>"
      ],
      "text/plain": [
       "<IPython.core.display.HTML object>"
      ]
     },
     "metadata": {},
     "output_type": "display_data"
    },
    {
     "data": {
      "text/html": [
       "<p>Effective interventions to limit threats to human health from emerging infectious diseases rely on understanding the connections among observed pathogen dynamics, the underlying transmission mechanisms, and their ecological and environmental drivers</p>"
      ],
      "text/plain": [
       "<IPython.core.display.HTML object>"
      ]
     },
     "metadata": {},
     "output_type": "display_data"
    },
    {
     "data": {
      "text/html": [
       "<p style='text-align:center'> *** </p>"
      ],
      "text/plain": [
       "<IPython.core.display.HTML object>"
      ]
     },
     "metadata": {},
     "output_type": "display_data"
    },
    {
     "data": {
      "text/html": [
       "<h3> ''IONIZING AIR AFFECTS INFLUENZA VIRUS INFECTIVITY AND PREVENTS AIRBORNE- TRANSMISSION OPEN''</h2>"
      ],
      "text/plain": [
       "<IPython.core.display.HTML object>"
      ]
     },
     "metadata": {},
     "output_type": "display_data"
    },
    {
     "data": {
      "text/html": [
       "<p> Reduced infectivity has been proposed to be due to reactive oxygen species and ozone, through lipid-and protein peroxidation reactions that may cause damage and destruction to the viral lipid envelope and protein capsid 36 </p>"
      ],
      "text/plain": [
       "<IPython.core.display.HTML object>"
      ]
     },
     "metadata": {},
     "output_type": "display_data"
    },
    {
     "data": {
      "text/html": [
       "<p style='text-align:center'> *** </p>"
      ],
      "text/plain": [
       "<IPython.core.display.HTML object>"
      ]
     },
     "metadata": {},
     "output_type": "display_data"
    },
    {
     "data": {
      "text/html": [
       "<h3> ''NOSOCOMIAL TRANSMISSION OF EMERGING VIRUSES VIA AEROSOL-GENERATING MEDICAL PROCEDURES''</h2>"
      ],
      "text/plain": [
       "<IPython.core.display.HTML object>"
      ]
     },
     "metadata": {},
     "output_type": "display_data"
    },
    {
     "data": {
      "text/html": [
       "<p> Determining the quantity of viable virus expelled from certain patients during AGMPs could help determine phenomena like super-spreading events, while understanding aerosol characteristics such as particle size could elucidate mechanisms of transmission</p>"
      ],
      "text/plain": [
       "<IPython.core.display.HTML object>"
      ]
     },
     "metadata": {},
     "output_type": "display_data"
    },
    {
     "data": {
      "text/html": [
       "<p style='text-align:center'> *** </p>"
      ],
      "text/plain": [
       "<IPython.core.display.HTML object>"
      ]
     },
     "metadata": {},
     "output_type": "display_data"
    },
    {
     "data": {
      "text/html": [
       "<h3> ''HVAC FILTRATION FOR CONTROLLING INFECTIOUS AIRBORNE DISEASE TRANSMISSION IN INDOOR ENVIRONMENTS: PREDICTING RISK REDUCTIONS AND OPERATIONAL COSTS''</h2>"
      ],
      "text/plain": [
       "<IPython.core.display.HTML object>"
      ]
     },
     "metadata": {},
     "output_type": "display_data"
    },
    {
     "data": {
      "text/html": [
       "<p>From a mass balance perspective, HVAC filtration and other removal mechanisms are treated similarly to outdoor air ventilation because they both can be used to reduce indoor concentrations of airborne infectious particles</p>"
      ],
      "text/plain": [
       "<IPython.core.display.HTML object>"
      ]
     },
     "metadata": {},
     "output_type": "display_data"
    },
    {
     "data": {
      "text/html": [
       "<p style='text-align:center'> *** </p>"
      ],
      "text/plain": [
       "<IPython.core.display.HTML object>"
      ]
     },
     "metadata": {},
     "output_type": "display_data"
    },
    {
     "data": {
      "text/html": [
       "<h3> ''ENVIRONMENTAL FACTORS AFFECTING THE TRANSMISSION OF RESPIRATORY VIRUSES''</h2>"
      ],
      "text/plain": [
       "<IPython.core.display.HTML object>"
      ]
     },
     "metadata": {},
     "output_type": "display_data"
    },
    {
     "data": {
      "text/html": [
       "<p> A more complete understanding of environmental factors impacting respiratory virus transmission will require enhanced epidemiological and surveillance data, as well as controlled experiments in small animal models</p>"
      ],
      "text/plain": [
       "<IPython.core.display.HTML object>"
      ]
     },
     "metadata": {},
     "output_type": "display_data"
    },
    {
     "data": {
      "text/html": [
       "<p style='text-align:center'> *** </p>"
      ],
      "text/plain": [
       "<IPython.core.display.HTML object>"
      ]
     },
     "metadata": {},
     "output_type": "display_data"
    },
    {
     "data": {
      "text/html": [
       "<h3> ''TARGETING TRANSMISSION PATHWAYS FOR EMERGING ZOONOTIC DISEASE SURVEILLANCE AND CONTROL''</h2>"
      ],
      "text/plain": [
       "<IPython.core.display.HTML object>"
      ]
     },
     "metadata": {},
     "output_type": "display_data"
    },
    {
     "data": {
      "text/html": [
       "<p> Public health efforts could develop control strategies that focus on behavioral change in high-risk populations to minimize exposure to potential reservoirs and target relevant transmission pathways (e</p>"
      ],
      "text/plain": [
       "<IPython.core.display.HTML object>"
      ]
     },
     "metadata": {},
     "output_type": "display_data"
    },
    {
     "data": {
      "text/html": [
       "<p style='text-align:center'> *** </p>"
      ],
      "text/plain": [
       "<IPython.core.display.HTML object>"
      ]
     },
     "metadata": {},
     "output_type": "display_data"
    },
    {
     "data": {
      "text/html": [
       "<h3> ''ENVIRONMENTAL CONDITIONS AFFECT EXHALATION OF H3N2 SEASONAL AND VARIANT INFLUENZA VIRUSES AND RESPIRATORY DROPLET TRANSMISSION IN FERRETS''</h2>"
      ],
      "text/plain": [
       "<IPython.core.display.HTML object>"
      ]
     },
     "metadata": {},
     "output_type": "display_data"
    },
    {
     "data": {
      "text/html": [
       "<p> Here, we Environmental Conditions Affect Influenza Transmission in Ferrets evaluated the transmissibility of two H3N2 influenza viruses (PN99 and IN11) using ferrets housed under diverse environmental conditions and concurrently evaluated the aerosol shedding profiles of infected animals</p>"
      ],
      "text/plain": [
       "<IPython.core.display.HTML object>"
      ]
     },
     "metadata": {},
     "output_type": "display_data"
    },
    {
     "data": {
      "text/html": [
       "<p style='text-align:center'> *** </p>"
      ],
      "text/plain": [
       "<IPython.core.display.HTML object>"
      ]
     },
     "metadata": {},
     "output_type": "display_data"
    },
    {
     "data": {
      "text/html": [
       "<h3> ''STABILITY OF PORCINE EPIDEMIC DIARRHEA VIRUS ON FOMITE MATERIALS AT DIFFERENT TEMPERATURES''</h2>"
      ],
      "text/plain": [
       "<IPython.core.display.HTML object>"
      ]
     },
     "metadata": {},
     "output_type": "display_data"
    },
    {
     "data": {
      "text/html": [
       "<p> In addition to storage temperature, porosity of fomite may also influence virus survival and hence virus transmission</p>"
      ],
      "text/plain": [
       "<IPython.core.display.HTML object>"
      ]
     },
     "metadata": {},
     "output_type": "display_data"
    },
    {
     "data": {
      "text/html": [
       "<p style='text-align:center'> *** </p>"
      ],
      "text/plain": [
       "<IPython.core.display.HTML object>"
      ]
     },
     "metadata": {},
     "output_type": "display_data"
    },
    {
     "data": {
      "text/html": [
       "<h3> ''NATURALLY OCCURRING MUTATIONS IN PB1 AFFECT INFLUENZA A VIRUS REPLICATION FIDELITY, VIRULENCE, AND ADAPTABILITY''</h2>"
      ],
      "text/plain": [
       "<IPython.core.display.HTML object>"
      ]
     },
     "metadata": {},
     "output_type": "display_data"
    },
    {
     "data": {
      "text/html": [
       "<p> Mutant clouds provide dynamic repositories of variants permitting certain viruses to undergo adaptation to selective pressures, including species barriers, host immune responses, and antiviral agents</p>"
      ],
      "text/plain": [
       "<IPython.core.display.HTML object>"
      ]
     },
     "metadata": {},
     "output_type": "display_data"
    },
    {
     "data": {
      "text/html": [
       "<p style='text-align:center'> *** </p>"
      ],
      "text/plain": [
       "<IPython.core.display.HTML object>"
      ]
     },
     "metadata": {},
     "output_type": "display_data"
    },
    {
     "data": {
      "text/html": [
       "<h1>5. Persistence and stability on a multitude of substrates and sources (e.g., nasal discharge, sputum, urine, fecal matter, blood).</h1>"
      ],
      "text/plain": [
       "<IPython.core.display.HTML object>"
      ]
     },
     "metadata": {},
     "output_type": "display_data"
    },
    {
     "data": {
      "text/html": [
       "<h3> ''BUYING TIME-THE IMMUNE SYSTEM DETERMINANTS OF THE INCUBATION PERIOD TO RESPIRATORY VIRUSES''</h2>"
      ],
      "text/plain": [
       "<IPython.core.display.HTML object>"
      ]
     },
     "metadata": {},
     "output_type": "display_data"
    },
    {
     "data": {
      "text/html": [
       "<p>Nasal discharge (rhinorrhoea) is a combination of goblet cell secretion, gland secretion, plasma exudate, and contains dead leukocytes such as monocytes and neutrophils</p>"
      ],
      "text/plain": [
       "<IPython.core.display.HTML object>"
      ]
     },
     "metadata": {},
     "output_type": "display_data"
    },
    {
     "data": {
      "text/html": [
       "<p style='text-align:center'> *** </p>"
      ],
      "text/plain": [
       "<IPython.core.display.HTML object>"
      ]
     },
     "metadata": {},
     "output_type": "display_data"
    },
    {
     "data": {
      "text/html": [
       "<h3> ''VACCINATION OF INFLUENZA A VIRUS DECREASES TRANSMISSION RATES IN PIGS''</h2>"
      ],
      "text/plain": [
       "<IPython.core.display.HTML object>"
      ]
     },
     "metadata": {},
     "output_type": "display_data"
    },
    {
     "data": {
      "text/html": [
       "<p> Lesions included moderate numbers of lymphocytes within the hyperplastic epithelium, intraluminal cellular debris and occasional bacterial colonies</p>"
      ],
      "text/plain": [
       "<IPython.core.display.HTML object>"
      ]
     },
     "metadata": {},
     "output_type": "display_data"
    },
    {
     "data": {
      "text/html": [
       "<p style='text-align:center'> *** </p>"
      ],
      "text/plain": [
       "<IPython.core.display.HTML object>"
      ]
     },
     "metadata": {},
     "output_type": "display_data"
    },
    {
     "data": {
      "text/html": [
       "<h3> ''SEQUENTIAL ADAPTIVE MUTATIONS ENHANCE EFFICIENT VECTOR SWITCHING BY CHIKUNGUNYA VIRUS AND ITS EPIDEMIC EMERGENCE''</h2>"
      ],
      "text/plain": [
       "<IPython.core.display.HTML object>"
      ]
     },
     "metadata": {},
     "output_type": "display_data"
    },
    {
     "data": {
      "text/html": [
       "<p> BM indicates combined titers of competitors in blood meal used for mosquito infection</p>"
      ],
      "text/plain": [
       "<IPython.core.display.HTML object>"
      ]
     },
     "metadata": {},
     "output_type": "display_data"
    },
    {
     "data": {
      "text/html": [
       "<p style='text-align:center'> *** </p>"
      ],
      "text/plain": [
       "<IPython.core.display.HTML object>"
      ]
     },
     "metadata": {},
     "output_type": "display_data"
    },
    {
     "data": {
      "text/html": [
       "<h3> ''CHIKUNGUNYA VIRUS FIDELITY VARIANTS EXHIBIT DIFFERENTIAL ATTENUATION AND POPULATION DIVERSITY IN CELL CULTURE AND ADULT MICE''</h2>"
      ],
      "text/plain": [
       "<IPython.core.display.HTML object>"
      ]
     },
     "metadata": {},
     "output_type": "display_data"
    },
    {
     "data": {
      "text/html": [
       "<p>Fidelity mutant CHIKV impair serum neutralization of less diverse WT CHIKV in vitro</p>"
      ],
      "text/plain": [
       "<IPython.core.display.HTML object>"
      ]
     },
     "metadata": {},
     "output_type": "display_data"
    },
    {
     "data": {
      "text/html": [
       "<p style='text-align:center'> *** </p>"
      ],
      "text/plain": [
       "<IPython.core.display.HTML object>"
      ]
     },
     "metadata": {},
     "output_type": "display_data"
    },
    {
     "data": {
      "text/html": [
       "<h3> ''ENVIRONMENTAL CONDITIONS AFFECT EXHALATION OF H3N2 SEASONAL AND VARIANT INFLUENZA VIRUSES AND RESPIRATORY DROPLET TRANSMISSION IN FERRETS''</h2>"
      ],
      "text/plain": [
       "<IPython.core.display.HTML object>"
      ]
     },
     "metadata": {},
     "output_type": "display_data"
    },
    {
     "data": {
      "text/html": [
       "<p> Successful transmission was noted when virus was detected in nasal wash samples within 11 dpc and hemagglutination inhibition antibody titers against homologous virus were detected in convalescent serum collected after 18 dpc</p>"
      ],
      "text/plain": [
       "<IPython.core.display.HTML object>"
      ]
     },
     "metadata": {},
     "output_type": "display_data"
    },
    {
     "data": {
      "text/html": [
       "<p style='text-align:center'> *** </p>"
      ],
      "text/plain": [
       "<IPython.core.display.HTML object>"
      ]
     },
     "metadata": {},
     "output_type": "display_data"
    },
    {
     "data": {
      "text/html": [
       "<h3> ''CHIKUNGUNYA VIRUS FIDELITY VARIANTS EXHIBIT DIFFERENTIAL ATTENUATION AND POPULATION DIVERSITY IN CELL CULTURE AND ADULT MICE''</h2>"
      ],
      "text/plain": [
       "<IPython.core.display.HTML object>"
      ]
     },
     "metadata": {},
     "output_type": "display_data"
    },
    {
     "data": {
      "text/html": [
       "<p> Infectious CHIKV titers and CHIKV RNA levels in primary target tissues, muscle and ankle, and secondary tissues, brain and liver, were measured to determine whether clinical disease severity was associated with differential viral loads</p>"
      ],
      "text/plain": [
       "<IPython.core.display.HTML object>"
      ]
     },
     "metadata": {},
     "output_type": "display_data"
    },
    {
     "data": {
      "text/html": [
       "<p style='text-align:center'> *** </p>"
      ],
      "text/plain": [
       "<IPython.core.display.HTML object>"
      ]
     },
     "metadata": {},
     "output_type": "display_data"
    },
    {
     "data": {
      "text/html": [
       "<h3> ''ENVIRONMENTAL CONDITIONS AFFECT EXHALATION OF H3N2 SEASONAL AND VARIANT INFLUENZA VIRUSES AND RESPIRATORY DROPLET TRANSMISSION IN FERRETS''</h2>"
      ],
      "text/plain": [
       "<IPython.core.display.HTML object>"
      ]
     },
     "metadata": {},
     "output_type": "display_data"
    },
    {
     "data": {
      "text/html": [
       "<p> Droplet transmission occurs when larger droplets (>5 μm), typically expelled during coughing or sneezing, encounter the upper respiratory tract or ocular mucosa of a susceptible individual</p>"
      ],
      "text/plain": [
       "<IPython.core.display.HTML object>"
      ]
     },
     "metadata": {},
     "output_type": "display_data"
    },
    {
     "data": {
      "text/html": [
       "<p style='text-align:center'> *** </p>"
      ],
      "text/plain": [
       "<IPython.core.display.HTML object>"
      ]
     },
     "metadata": {},
     "output_type": "display_data"
    },
    {
     "data": {
      "text/html": [
       "<h3> ''HOST GENETICS DETERMINE SUSCEPTIBILITY TO AVIAN INFLUENZA INFECTION AND TRANSMISSION DYNAMICS''</h2>"
      ],
      "text/plain": [
       "<IPython.core.display.HTML object>"
      ]
     },
     "metadata": {},
     "output_type": "display_data"
    },
    {
     "data": {
      "text/html": [
       "<p> However, viral shedding did not extend to higher respiratory tissues as no shedding was detected in oropharyngeal swabs (Fig</p>"
      ],
      "text/plain": [
       "<IPython.core.display.HTML object>"
      ]
     },
     "metadata": {},
     "output_type": "display_data"
    },
    {
     "data": {
      "text/html": [
       "<p style='text-align:center'> *** </p>"
      ],
      "text/plain": [
       "<IPython.core.display.HTML object>"
      ]
     },
     "metadata": {},
     "output_type": "display_data"
    },
    {
     "data": {
      "text/html": [
       "<h3> ''STABILITY OF PORCINE EPIDEMIC DIARRHEA VIRUS ON FOMITE MATERIALS AT DIFFERENT TEMPERATURES''</h2>"
      ],
      "text/plain": [
       "<IPython.core.display.HTML object>"
      ]
     },
     "metadata": {},
     "output_type": "display_data"
    },
    {
     "data": {
      "text/html": [
       "<p> In fact, eluates from fecal samples induced remarkable cell toxicity, making the infectious virus assays difficult to interpret</p>"
      ],
      "text/plain": [
       "<IPython.core.display.HTML object>"
      ]
     },
     "metadata": {},
     "output_type": "display_data"
    },
    {
     "data": {
      "text/html": [
       "<p style='text-align:center'> *** </p>"
      ],
      "text/plain": [
       "<IPython.core.display.HTML object>"
      ]
     },
     "metadata": {},
     "output_type": "display_data"
    },
    {
     "data": {
      "text/html": [
       "<h3> ''VACCINATION OF INFLUENZA A VIRUS DECREASES TRANSMISSION RATES IN PIGS''</h2>"
      ],
      "text/plain": [
       "<IPython.core.display.HTML object>"
      ]
     },
     "metadata": {},
     "output_type": "display_data"
    },
    {
     "data": {
      "text/html": [
       "<p> The lung lesions of the NV pigs had moderate to severe bronchoalveolar pneumonia with attenuation, hyperplasia, moderate numbers of lymphocytes admixed with macrophages in the epithelium, within the intraluminal necrotic cellular debris, and extending into the alveolar spaces</p>"
      ],
      "text/plain": [
       "<IPython.core.display.HTML object>"
      ]
     },
     "metadata": {},
     "output_type": "display_data"
    },
    {
     "data": {
      "text/html": [
       "<p style='text-align:center'> *** </p>"
      ],
      "text/plain": [
       "<IPython.core.display.HTML object>"
      ]
     },
     "metadata": {},
     "output_type": "display_data"
    },
    {
     "data": {
      "text/html": [
       "<h1>6. Persistence of virus on surfaces of different materials (e,g., copper, stainless steel, plastic).</h1>"
      ],
      "text/plain": [
       "<IPython.core.display.HTML object>"
      ]
     },
     "metadata": {},
     "output_type": "display_data"
    },
    {
     "data": {
      "text/html": [
       "<h3> ''STABILITY OF PORCINE EPIDEMIC DIARRHEA VIRUS ON FOMITE MATERIALS AT DIFFERENT TEMPERATURES''</h2>"
      ],
      "text/plain": [
       "<IPython.core.display.HTML object>"
      ]
     },
     "metadata": {},
     "output_type": "display_data"
    },
    {
     "data": {
      "text/html": [
       "<p> Virus recovery from surfaces of Styrofoam, nitrile gloves, aluminum foil, Tyvek ® coverall, metal, rubber, plastic, cardboard, and cloth showed no significant differences between the materials at RT, suggesting that storage temperature had a substantial influence on virus survival</p>"
      ],
      "text/plain": [
       "<IPython.core.display.HTML object>"
      ]
     },
     "metadata": {},
     "output_type": "display_data"
    },
    {
     "data": {
      "text/html": [
       "<p style='text-align:center'> *** </p>"
      ],
      "text/plain": [
       "<IPython.core.display.HTML object>"
      ]
     },
     "metadata": {},
     "output_type": "display_data"
    },
    {
     "data": {
      "text/html": [
       "<h3> ''STABILITY OF PORCINE EPIDEMIC DIARRHEA VIRUS ON FOMITE MATERIALS AT DIFFERENT TEMPERATURES''</h2>"
      ],
      "text/plain": [
       "<IPython.core.display.HTML object>"
      ]
     },
     "metadata": {},
     "output_type": "display_data"
    },
    {
     "data": {
      "text/html": [
       "<p> Materials used were Styrofoam, nitrile gloves, cardboard, aluminum foil, Tyvek ® coveralls, cloth, metal, rubber, and plastic</p>"
      ],
      "text/plain": [
       "<IPython.core.display.HTML object>"
      ]
     },
     "metadata": {},
     "output_type": "display_data"
    },
    {
     "data": {
      "text/html": [
       "<p style='text-align:center'> *** </p>"
      ],
      "text/plain": [
       "<IPython.core.display.HTML object>"
      ]
     },
     "metadata": {},
     "output_type": "display_data"
    },
    {
     "data": {
      "text/html": [
       "<h3> ''STABILITY OF PORCINE EPIDEMIC DIARRHEA VIRUS ON FOMITE MATERIALS AT DIFFERENT TEMPERATURES''</h2>"
      ],
      "text/plain": [
       "<IPython.core.display.HTML object>"
      ]
     },
     "metadata": {},
     "output_type": "display_data"
    },
    {
     "data": {
      "text/html": [
       "<p> Specifically, Styrofoam, metal, and plastic provided extensive PEDV stability</p>"
      ],
      "text/plain": [
       "<IPython.core.display.HTML object>"
      ]
     },
     "metadata": {},
     "output_type": "display_data"
    },
    {
     "data": {
      "text/html": [
       "<p style='text-align:center'> *** </p>"
      ],
      "text/plain": [
       "<IPython.core.display.HTML object>"
      ]
     },
     "metadata": {},
     "output_type": "display_data"
    },
    {
     "data": {
      "text/html": [
       "<h3> ''IONIZING AIR AFFECTS INFLUENZA VIRUS INFECTIVITY AND PREVENTS AIRBORNE- TRANSMISSION OPEN''</h2>"
      ],
      "text/plain": [
       "<IPython.core.display.HTML object>"
      ]
     },
     "metadata": {},
     "output_type": "display_data"
    },
    {
     "data": {
      "text/html": [
       "<p> Carbon/Formvar-coated 400 mesh copper grids were placed on the collector during aerosol experiment with influenza-and rotavirus</p>"
      ],
      "text/plain": [
       "<IPython.core.display.HTML object>"
      ]
     },
     "metadata": {},
     "output_type": "display_data"
    },
    {
     "data": {
      "text/html": [
       "<p style='text-align:center'> *** </p>"
      ],
      "text/plain": [
       "<IPython.core.display.HTML object>"
      ]
     },
     "metadata": {},
     "output_type": "display_data"
    },
    {
     "data": {
      "text/html": [
       "<h3> ''STABILITY OF PORCINE EPIDEMIC DIARRHEA VIRUS ON FOMITE MATERIALS AT DIFFERENT TEMPERATURES''</h2>"
      ],
      "text/plain": [
       "<IPython.core.display.HTML object>"
      ]
     },
     "metadata": {},
     "output_type": "display_data"
    },
    {
     "data": {
      "text/html": [
       "<p> The rate of loss in infectivity was uniform on Styrofoam, aluminum, plastic, and Tyvek ® coverall, whereas viral infectivity on metal, nitrile gloves, and rubber dropped rapidly after 5 days at 4 • C</p>"
      ],
      "text/plain": [
       "<IPython.core.display.HTML object>"
      ]
     },
     "metadata": {},
     "output_type": "display_data"
    },
    {
     "data": {
      "text/html": [
       "<p style='text-align:center'> *** </p>"
      ],
      "text/plain": [
       "<IPython.core.display.HTML object>"
      ]
     },
     "metadata": {},
     "output_type": "display_data"
    },
    {
     "data": {
      "text/html": [
       "<h3> ''STABILITY OF PORCINE EPIDEMIC DIARRHEA VIRUS ON FOMITE MATERIALS AT DIFFERENT TEMPERATURES''</h2>"
      ],
      "text/plain": [
       "<IPython.core.display.HTML object>"
      ]
     },
     "metadata": {},
     "output_type": "display_data"
    },
    {
     "data": {
      "text/html": [
       "<p>Circular pieces (approximately 1 cm 2 ) of various fomite materials were cut to fit into individual wells of Costar ® 24-well cell culture plates (Corning Inc</p>"
      ],
      "text/plain": [
       "<IPython.core.display.HTML object>"
      ]
     },
     "metadata": {},
     "output_type": "display_data"
    },
    {
     "data": {
      "text/html": [
       "<p style='text-align:center'> *** </p>"
      ],
      "text/plain": [
       "<IPython.core.display.HTML object>"
      ]
     },
     "metadata": {},
     "output_type": "display_data"
    },
    {
     "data": {
      "text/html": [
       "<h3> ''HVAC FILTRATION FOR CONTROLLING INFECTIOUS AIRBORNE DISEASE TRANSMISSION IN INDOOR ENVIRONMENTS: PREDICTING RISK REDUCTIONS AND OPERATIONAL COSTS''</h2>"
      ],
      "text/plain": [
       "<IPython.core.display.HTML object>"
      ]
     },
     "metadata": {},
     "output_type": "display_data"
    },
    {
     "data": {
      "text/html": [
       "<p>From a mass balance perspective, HVAC filtration and other removal mechanisms are treated similarly to outdoor air ventilation because they both can be used to reduce indoor concentrations of airborne infectious particles</p>"
      ],
      "text/plain": [
       "<IPython.core.display.HTML object>"
      ]
     },
     "metadata": {},
     "output_type": "display_data"
    },
    {
     "data": {
      "text/html": [
       "<p style='text-align:center'> *** </p>"
      ],
      "text/plain": [
       "<IPython.core.display.HTML object>"
      ]
     },
     "metadata": {},
     "output_type": "display_data"
    },
    {
     "data": {
      "text/html": [
       "<h3> ''IONIZING AIR AFFECTS INFLUENZA VIRUS INFECTIVITY AND PREVENTS AIRBORNE- TRANSMISSION OPEN''</h2>"
      ],
      "text/plain": [
       "<IPython.core.display.HTML object>"
      ]
     },
     "metadata": {},
     "output_type": "display_data"
    },
    {
     "data": {
      "text/html": [
       "<p>Collected samples were added on the surface of a polycarbonate 0</p>"
      ],
      "text/plain": [
       "<IPython.core.display.HTML object>"
      ]
     },
     "metadata": {},
     "output_type": "display_data"
    },
    {
     "data": {
      "text/html": [
       "<p style='text-align:center'> *** </p>"
      ],
      "text/plain": [
       "<IPython.core.display.HTML object>"
      ]
     },
     "metadata": {},
     "output_type": "display_data"
    },
    {
     "data": {
      "text/html": [
       "<h3> ''IONIZING AIR AFFECTS INFLUENZA VIRUS INFECTIVITY AND PREVENTS AIRBORNE- TRANSMISSION OPEN''</h2>"
      ],
      "text/plain": [
       "<IPython.core.display.HTML object>"
      ]
     },
     "metadata": {},
     "output_type": "display_data"
    },
    {
     "data": {
      "text/html": [
       "<p> Similarly, visualization of latex particles by SEM revealed that latex particles of all sizes investigated were concentrated on the active collector</p>"
      ],
      "text/plain": [
       "<IPython.core.display.HTML object>"
      ]
     },
     "metadata": {},
     "output_type": "display_data"
    },
    {
     "data": {
      "text/html": [
       "<p style='text-align:center'> *** </p>"
      ],
      "text/plain": [
       "<IPython.core.display.HTML object>"
      ]
     },
     "metadata": {},
     "output_type": "display_data"
    },
    {
     "data": {
      "text/html": [
       "<h3> ''EXAMINING LANDSCAPE FACTORS INFLUENCING RELATIVE DISTRIBUTION OF MOSQUITO GENERA AND FREQUENCY OF VIRUS INFECTION''</h2>"
      ],
      "text/plain": [
       "<IPython.core.display.HTML object>"
      ]
     },
     "metadata": {},
     "output_type": "display_data"
    },
    {
     "data": {
      "text/html": [
       "<p> Alternating Octanol, carbon dioxide-producing hand heaters, and unwashed socks were used as attractants for the light traps, which operated for 12-h periods from 6 p</p>"
      ],
      "text/plain": [
       "<IPython.core.display.HTML object>"
      ]
     },
     "metadata": {},
     "output_type": "display_data"
    },
    {
     "data": {
      "text/html": [
       "<p style='text-align:center'> *** </p>"
      ],
      "text/plain": [
       "<IPython.core.display.HTML object>"
      ]
     },
     "metadata": {},
     "output_type": "display_data"
    },
    {
     "data": {
      "text/html": [
       "<h1>7. Natural history of the virus and shedding of it from an infected person</h1>"
      ],
      "text/plain": [
       "<IPython.core.display.HTML object>"
      ]
     },
     "metadata": {},
     "output_type": "display_data"
    },
    {
     "data": {
      "text/html": [
       "<h3> ''CONTACT HETEROGENEITY, RATHER THAN TRANSMISSION EFFICIENCY, LIMITS THE EMERGENCE AND SPREAD OF CANINE INFLUENZA VIRUS''</h2>"
      ],
      "text/plain": [
       "<IPython.core.display.HTML object>"
      ]
     },
     "metadata": {},
     "output_type": "display_data"
    },
    {
     "data": {
      "text/html": [
       "<p>By reducing viral load and viral shedding, vaccination reduces the risk of infection in vaccinated dogs and reduces the infectiousness of a dog who becomes infected despite vaccination</p>"
      ],
      "text/plain": [
       "<IPython.core.display.HTML object>"
      ]
     },
     "metadata": {},
     "output_type": "display_data"
    },
    {
     "data": {
      "text/html": [
       "<p style='text-align:center'> *** </p>"
      ],
      "text/plain": [
       "<IPython.core.display.HTML object>"
      ]
     },
     "metadata": {},
     "output_type": "display_data"
    },
    {
     "data": {
      "text/html": [
       "<h3> ''INCREASED INFECTION SEVERITY IN DOWNSTREAM CITIES IN INFECTIOUS DISEASE TRANSMISSION AND TOURISTS SURVEILLANCE ANALYSIS''</h2>"
      ],
      "text/plain": [
       "<IPython.core.display.HTML object>"
      ]
     },
     "metadata": {},
     "output_type": "display_data"
    },
    {
     "data": {
      "text/html": [
       "<p> Even the probability of tourists spreading infection or becoming infected decreases</p>"
      ],
      "text/plain": [
       "<IPython.core.display.HTML object>"
      ]
     },
     "metadata": {},
     "output_type": "display_data"
    },
    {
     "data": {
      "text/html": [
       "<p style='text-align:center'> *** </p>"
      ],
      "text/plain": [
       "<IPython.core.display.HTML object>"
      ]
     },
     "metadata": {},
     "output_type": "display_data"
    },
    {
     "data": {
      "text/html": [
       "<h3> ''TISSUE TROPISM AND TRANSMISSION ECOLOGY PREDICT VIRULENCE OF HUMAN RNA VIRUSES''</h2>"
      ],
      "text/plain": [
       "<IPython.core.display.HTML object>"
      ]
     },
     "metadata": {},
     "output_type": "display_data"
    },
    {
     "data": {
      "text/html": [
       "<p> All virulence and risk factor data pertained to natural or unintentional artificially acquired human infection only, and data from intentional human infection, animal infection, and in vitro infection were not considered</p>"
      ],
      "text/plain": [
       "<IPython.core.display.HTML object>"
      ]
     },
     "metadata": {},
     "output_type": "display_data"
    },
    {
     "data": {
      "text/html": [
       "<p style='text-align:center'> *** </p>"
      ],
      "text/plain": [
       "<IPython.core.display.HTML object>"
      ]
     },
     "metadata": {},
     "output_type": "display_data"
    },
    {
     "data": {
      "text/html": [
       "<h3> ''SPATIALLY ADJUSTED TIME- VARYING REPRODUCTIVE NUMBERS: UNDERSTANDING THE GEOGRAPHICAL EXPANSION OF URBAN DENGUE OUTBREAKS''</h2>"
      ],
      "text/plain": [
       "<IPython.core.display.HTML object>"
      ]
     },
     "metadata": {},
     "output_type": "display_data"
    },
    {
     "data": {
      "text/html": [
       "<p> It may be difficult to estimate the amount of susceptible persons living around the infected cases for human infectious diseases, such as influenza and dengue fever</p>"
      ],
      "text/plain": [
       "<IPython.core.display.HTML object>"
      ]
     },
     "metadata": {},
     "output_type": "display_data"
    },
    {
     "data": {
      "text/html": [
       "<p style='text-align:center'> *** </p>"
      ],
      "text/plain": [
       "<IPython.core.display.HTML object>"
      ]
     },
     "metadata": {},
     "output_type": "display_data"
    },
    {
     "data": {
      "text/html": [
       "<h3> ''CONTACT HETEROGENEITY, RATHER THAN TRANSMISSION EFFICIENCY, LIMITS THE EMERGENCE AND SPREAD OF CANINE INFLUENZA VIRUS''</h2>"
      ],
      "text/plain": [
       "<IPython.core.display.HTML object>"
      ]
     },
     "metadata": {},
     "output_type": "display_data"
    },
    {
     "data": {
      "text/html": [
       "<p> Transmission is inefficient because many potentially infectious contacts between infected and susceptible individuals fail to spread the infection</p>"
      ],
      "text/plain": [
       "<IPython.core.display.HTML object>"
      ]
     },
     "metadata": {},
     "output_type": "display_data"
    },
    {
     "data": {
      "text/html": [
       "<p style='text-align:center'> *** </p>"
      ],
      "text/plain": [
       "<IPython.core.display.HTML object>"
      ]
     },
     "metadata": {},
     "output_type": "display_data"
    },
    {
     "data": {
      "text/html": [
       "<h3> ''VACCINATION OF INFLUENZA A VIRUS DECREASES TRANSMISSION RATES IN PIGS''</h2>"
      ],
      "text/plain": [
       "<IPython.core.display.HTML object>"
      ]
     },
     "metadata": {},
     "output_type": "display_data"
    },
    {
     "data": {
      "text/html": [
       "<p> Once the initial infected pig transmitted the infection to a susceptible pig, the infection chain proceeded until all or nearly all animals were infected</p>"
      ],
      "text/plain": [
       "<IPython.core.display.HTML object>"
      ]
     },
     "metadata": {},
     "output_type": "display_data"
    },
    {
     "data": {
      "text/html": [
       "<p style='text-align:center'> *** </p>"
      ],
      "text/plain": [
       "<IPython.core.display.HTML object>"
      ]
     },
     "metadata": {},
     "output_type": "display_data"
    },
    {
     "data": {
      "text/html": [
       "<h3> ''THE BENEFITS OF TRANSMISSION DYNAMICS MODELS IN UNDERSTANDING EMERGING INFECTIOUS DISEASES''</h2>"
      ],
      "text/plain": [
       "<IPython.core.display.HTML object>"
      ]
     },
     "metadata": {},
     "output_type": "display_data"
    },
    {
     "data": {
      "text/html": [
       "<p> With infectious diseases, the number of individuals infected at any point in time influences the chance that a susceptible individual will contact an infected person</p>"
      ],
      "text/plain": [
       "<IPython.core.display.HTML object>"
      ]
     },
     "metadata": {},
     "output_type": "display_data"
    },
    {
     "data": {
      "text/html": [
       "<p style='text-align:center'> *** </p>"
      ],
      "text/plain": [
       "<IPython.core.display.HTML object>"
      ]
     },
     "metadata": {},
     "output_type": "display_data"
    },
    {
     "data": {
      "text/html": [
       "<h3> ''THE ECOLOGY AND ADAPTIVE EVOLUTION OF INFLUENZA A INTERSPECIES TRANSMISSION''</h2>"
      ],
      "text/plain": [
       "<IPython.core.display.HTML object>"
      ]
     },
     "metadata": {},
     "output_type": "display_data"
    },
    {
     "data": {
      "text/html": [
       "<p> 15 However, there is serological evidence of H5N1 infection among Alaskan hunters who handled dead wild avian species, 16 indicating that exposure to IAVs from wild birds through close contact can potentially cause infection</p>"
      ],
      "text/plain": [
       "<IPython.core.display.HTML object>"
      ]
     },
     "metadata": {},
     "output_type": "display_data"
    },
    {
     "data": {
      "text/html": [
       "<p style='text-align:center'> *** </p>"
      ],
      "text/plain": [
       "<IPython.core.display.HTML object>"
      ]
     },
     "metadata": {},
     "output_type": "display_data"
    },
    {
     "data": {
      "text/html": [
       "<h3> ''NOSOCOMIAL TRANSMISSION OF EMERGING VIRUSES VIA AEROSOL-GENERATING MEDICAL PROCEDURES''</h2>"
      ],
      "text/plain": [
       "<IPython.core.display.HTML object>"
      ]
     },
     "metadata": {},
     "output_type": "display_data"
    },
    {
     "data": {
      "text/html": [
       "<p> Some of these viruses may cause stuttering chains of transmission before disappearing from human populations, while others, like Ebola virus or pandemic influenza A virus, may cause large outbreaks before being contained or establish themselves as endemic pathogens in the human population [18] </p>"
      ],
      "text/plain": [
       "<IPython.core.display.HTML object>"
      ]
     },
     "metadata": {},
     "output_type": "display_data"
    },
    {
     "data": {
      "text/html": [
       "<p style='text-align:center'> *** </p>"
      ],
      "text/plain": [
       "<IPython.core.display.HTML object>"
      ]
     },
     "metadata": {},
     "output_type": "display_data"
    },
    {
     "data": {
      "text/html": [
       "<h3> ''QUANTIFYING THE TRANSMISSION POTENTIAL OF PANDEMIC INFLUENZA''</h2>"
      ],
      "text/plain": [
       "<IPython.core.display.HTML object>"
      ]
     },
     "metadata": {},
     "output_type": "display_data"
    },
    {
     "data": {
      "text/html": [
       "<p>Individuals that are infected with influenza are believed to become permanently immune against the specific virus strain</p>"
      ],
      "text/plain": [
       "<IPython.core.display.HTML object>"
      ]
     },
     "metadata": {},
     "output_type": "display_data"
    },
    {
     "data": {
      "text/html": [
       "<p style='text-align:center'> *** </p>"
      ],
      "text/plain": [
       "<IPython.core.display.HTML object>"
      ]
     },
     "metadata": {},
     "output_type": "display_data"
    },
    {
     "data": {
      "text/html": [
       "<h1>8. Implementation of diagnostics and products to improve clinical processes</h1>"
      ],
      "text/plain": [
       "<IPython.core.display.HTML object>"
      ]
     },
     "metadata": {},
     "output_type": "display_data"
    },
    {
     "data": {
      "text/html": [
       "<h3> ''SEASONALITY AND PREVALENCE OF RESPIRATORY PATHOGENS DETECTED BY MULTIPLEX PCR AT A TERTIARY CARE MEDICAL CENTER''</h2>"
      ],
      "text/plain": [
       "<IPython.core.display.HTML object>"
      ]
     },
     "metadata": {},
     "output_type": "display_data"
    },
    {
     "data": {
      "text/html": [
       "<p> The use of a rapid and accurate diagnostic test enhances clinical decision making and safely promotes implementation of cost-effective treatment strategies, including limiting the unnecessary use of antibiotics</p>"
      ],
      "text/plain": [
       "<IPython.core.display.HTML object>"
      ]
     },
     "metadata": {},
     "output_type": "display_data"
    },
    {
     "data": {
      "text/html": [
       "<p style='text-align:center'> *** </p>"
      ],
      "text/plain": [
       "<IPython.core.display.HTML object>"
      ]
     },
     "metadata": {},
     "output_type": "display_data"
    },
    {
     "data": {
      "text/html": [
       "<h3> ''SPATIAL AND TEMPORAL ANALYSES TO INVESTIGATE INFECTIOUS DISEASE TRANSMISSION WITHIN HEALTHCARE SETTINGS''</h2>"
      ],
      "text/plain": [
       "<IPython.core.display.HTML object>"
      ]
     },
     "metadata": {},
     "output_type": "display_data"
    },
    {
     "data": {
      "text/html": [
       "<p> Use of interdisciplinary tools may increase the ability to identify transmission prospectively and implement preventive measures</p>"
      ],
      "text/plain": [
       "<IPython.core.display.HTML object>"
      ]
     },
     "metadata": {},
     "output_type": "display_data"
    },
    {
     "data": {
      "text/html": [
       "<p style='text-align:center'> *** </p>"
      ],
      "text/plain": [
       "<IPython.core.display.HTML object>"
      ]
     },
     "metadata": {},
     "output_type": "display_data"
    },
    {
     "data": {
      "text/html": [
       "<h3> ''SPATIAL AND TEMPORAL ANALYSES TO INVESTIGATE INFECTIOUS DISEASE TRANSMISSION WITHIN HEALTHCARE SETTINGS''</h2>"
      ],
      "text/plain": [
       "<IPython.core.display.HTML object>"
      ]
     },
     "metadata": {},
     "output_type": "display_data"
    },
    {
     "data": {
      "text/html": [
       "<p> electronic medical databases), advancement in molecular and statistical techniques, development of analytical platforms that enable greater access to non-experts and increased interdisciplinary collaboration, the potential for using pre-existing data to prevent future avoidable infections and improve patient safety can become a reality</p>"
      ],
      "text/plain": [
       "<IPython.core.display.HTML object>"
      ]
     },
     "metadata": {},
     "output_type": "display_data"
    },
    {
     "data": {
      "text/html": [
       "<p style='text-align:center'> *** </p>"
      ],
      "text/plain": [
       "<IPython.core.display.HTML object>"
      ]
     },
     "metadata": {},
     "output_type": "display_data"
    },
    {
     "data": {
      "text/html": [
       "<h3> ''SPATIAL AND TEMPORAL ANALYSES TO INVESTIGATE INFECTIOUS DISEASE TRANSMISSION WITHIN HEALTHCARE SETTINGS''</h2>"
      ],
      "text/plain": [
       "<IPython.core.display.HTML object>"
      ]
     },
     "metadata": {},
     "output_type": "display_data"
    },
    {
     "data": {
      "text/html": [
       "<p>Descriptive studies that included molecular data covered a range of applications including outbreak investigations, 94e102 cluster identification 103 and improving control interventions</p>"
      ],
      "text/plain": [
       "<IPython.core.display.HTML object>"
      ]
     },
     "metadata": {},
     "output_type": "display_data"
    },
    {
     "data": {
      "text/html": [
       "<p style='text-align:center'> *** </p>"
      ],
      "text/plain": [
       "<IPython.core.display.HTML object>"
      ]
     },
     "metadata": {},
     "output_type": "display_data"
    },
    {
     "data": {
      "text/html": [
       "<h3> ''SPATIAL AND TEMPORAL ANALYSES TO INVESTIGATE INFECTIOUS DISEASE TRANSMISSION WITHIN HEALTHCARE SETTINGS''</h2>"
      ],
      "text/plain": [
       "<IPython.core.display.HTML object>"
      ]
     },
     "metadata": {},
     "output_type": "display_data"
    },
    {
     "data": {
      "text/html": [
       "<p> Findings were synthesized to evaluate the actual use of spatiotemporal analysis on infectious diseases in healthcare settings</p>"
      ],
      "text/plain": [
       "<IPython.core.display.HTML object>"
      ]
     },
     "metadata": {},
     "output_type": "display_data"
    },
    {
     "data": {
      "text/html": [
       "<p style='text-align:center'> *** </p>"
      ],
      "text/plain": [
       "<IPython.core.display.HTML object>"
      ]
     },
     "metadata": {},
     "output_type": "display_data"
    },
    {
     "data": {
      "text/html": [
       "<h3> ''CHARACTERIZING THE TRANSMISSION DYNAMICS AND CONTROL OF EBOLA VIRUS DISEASE''</h2>"
      ],
      "text/plain": [
       "<IPython.core.display.HTML object>"
      ]
     },
     "metadata": {},
     "output_type": "display_data"
    },
    {
     "data": {
      "text/html": [
       "<p> These additional interventions include the use of household protection kits, designed to reduce transmission in the community; improvements in infection control protocols in health care settings that reduce transmission among health care workers; and the impact of rapid diagnostic kits in Ebola treatment centers, which reduce the time to isolation for infectious individuals seeking hospitalization</p>"
      ],
      "text/plain": [
       "<IPython.core.display.HTML object>"
      ]
     },
     "metadata": {},
     "output_type": "display_data"
    },
    {
     "data": {
      "text/html": [
       "<p style='text-align:center'> *** </p>"
      ],
      "text/plain": [
       "<IPython.core.display.HTML object>"
      ]
     },
     "metadata": {},
     "output_type": "display_data"
    },
    {
     "data": {
      "text/html": [
       "<h3> ''NOSOCOMIAL TRANSMISSION OF EMERGING VIRUSES VIA AEROSOL-GENERATING MEDICAL PROCEDURES''</h2>"
      ],
      "text/plain": [
       "<IPython.core.display.HTML object>"
      ]
     },
     "metadata": {},
     "output_type": "display_data"
    },
    {
     "data": {
      "text/html": [
       "<p> If we are to design proactive infection control guidelines and understand the underlying biology of viral transmission, we must conduct collaborative clinical and scientific research on nosocomial virus transmission and AGMPs</p>"
      ],
      "text/plain": [
       "<IPython.core.display.HTML object>"
      ]
     },
     "metadata": {},
     "output_type": "display_data"
    },
    {
     "data": {
      "text/html": [
       "<p style='text-align:center'> *** </p>"
      ],
      "text/plain": [
       "<IPython.core.display.HTML object>"
      ]
     },
     "metadata": {},
     "output_type": "display_data"
    },
    {
     "data": {
      "text/html": [
       "<h3> ''ENVIRONMENTAL FACTORS AFFECTING THE TRANSMISSION OF RESPIRATORY VIRUSES''</h2>"
      ],
      "text/plain": [
       "<IPython.core.display.HTML object>"
      ]
     },
     "metadata": {},
     "output_type": "display_data"
    },
    {
     "data": {
      "text/html": [
       "<p> A more complete understanding of environmental factors impacting respiratory virus transmission will require enhanced epidemiological and surveillance data, as well as controlled experiments in small animal models</p>"
      ],
      "text/plain": [
       "<IPython.core.display.HTML object>"
      ]
     },
     "metadata": {},
     "output_type": "display_data"
    },
    {
     "data": {
      "text/html": [
       "<p style='text-align:center'> *** </p>"
      ],
      "text/plain": [
       "<IPython.core.display.HTML object>"
      ]
     },
     "metadata": {},
     "output_type": "display_data"
    },
    {
     "data": {
      "text/html": [
       "<h3> ''TISSUE TROPISM AND TRANSMISSION ECOLOGY PREDICT VIRULENCE OF HUMAN RNA VIRUSES''</h2>"
      ],
      "text/plain": [
       "<IPython.core.display.HTML object>"
      ]
     },
     "metadata": {},
     "output_type": "display_data"
    },
    {
     "data": {
      "text/html": [
       "<p> The virulence risk factors we identify suggest that broadly targeting direct contact or respiratory transmission interfaces within ecological systems and/or tailoring detection assays towards certain virus families (e</p>"
      ],
      "text/plain": [
       "<IPython.core.display.HTML object>"
      ]
     },
     "metadata": {},
     "output_type": "display_data"
    },
    {
     "data": {
      "text/html": [
       "<p style='text-align:center'> *** </p>"
      ],
      "text/plain": [
       "<IPython.core.display.HTML object>"
      ]
     },
     "metadata": {},
     "output_type": "display_data"
    },
    {
     "data": {
      "text/html": [
       "<h3> ''TISSUE TROPISM AND TRANSMISSION ECOLOGY PREDICT VIRULENCE OF HUMAN RNA VIRUSES''</h2>"
      ],
      "text/plain": [
       "<IPython.core.display.HTML object>"
      ]
     },
     "metadata": {},
     "output_type": "display_data"
    },
    {
     "data": {
      "text/html": [
       "<p>For each of the 214 recognised human-infective RNA virus species, following standardised data compilation efforts and critical assessment protocols [5] , data on virulence and potential risk factors were collected via a systematic search and review of clinical and epidemiological literature</p>"
      ],
      "text/plain": [
       "<IPython.core.display.HTML object>"
      ]
     },
     "metadata": {},
     "output_type": "display_data"
    },
    {
     "data": {
      "text/html": [
       "<p style='text-align:center'> *** </p>"
      ],
      "text/plain": [
       "<IPython.core.display.HTML object>"
      ]
     },
     "metadata": {},
     "output_type": "display_data"
    },
    {
     "data": {
      "text/html": [
       "<h1>9. Disease models, including animal models for infection, disease and transmission</h1>"
      ],
      "text/plain": [
       "<IPython.core.display.HTML object>"
      ]
     },
     "metadata": {},
     "output_type": "display_data"
    },
    {
     "data": {
      "text/html": [
       "<h3> ''ENVIRONMENTAL FACTORS AFFECTING THE TRANSMISSION OF RESPIRATORY VIRUSES''</h2>"
      ],
      "text/plain": [
       "<IPython.core.display.HTML object>"
      ]
     },
     "metadata": {},
     "output_type": "display_data"
    },
    {
     "data": {
      "text/html": [
       "<p>Animal models have elucidated potential mechanisms by which humidity and temperature influence human influenza virus transmission</p>"
      ],
      "text/plain": [
       "<IPython.core.display.HTML object>"
      ]
     },
     "metadata": {},
     "output_type": "display_data"
    },
    {
     "data": {
      "text/html": [
       "<p style='text-align:center'> *** </p>"
      ],
      "text/plain": [
       "<IPython.core.display.HTML object>"
      ]
     },
     "metadata": {},
     "output_type": "display_data"
    },
    {
     "data": {
      "text/html": [
       "<h3> ''INCREASED INFECTION SEVERITY IN DOWNSTREAM CITIES IN INFECTIOUS DISEASE TRANSMISSION AND TOURISTS SURVEILLANCE ANALYSIS''</h2>"
      ],
      "text/plain": [
       "<IPython.core.display.HTML object>"
      ]
     },
     "metadata": {},
     "output_type": "display_data"
    },
    {
     "data": {
      "text/html": [
       "<p>Human mobility surveillance between cities influences infectious disease transmission ( Fig</p>"
      ],
      "text/plain": [
       "<IPython.core.display.HTML object>"
      ]
     },
     "metadata": {},
     "output_type": "display_data"
    },
    {
     "data": {
      "text/html": [
       "<p style='text-align:center'> *** </p>"
      ],
      "text/plain": [
       "<IPython.core.display.HTML object>"
      ]
     },
     "metadata": {},
     "output_type": "display_data"
    },
    {
     "data": {
      "text/html": [
       "<h3> ''IONIZING AIR AFFECTS INFLUENZA VIRUS INFECTIVITY AND PREVENTS AIRBORNE- TRANSMISSION OPEN''</h2>"
      ],
      "text/plain": [
       "<IPython.core.display.HTML object>"
      ]
     },
     "metadata": {},
     "output_type": "display_data"
    },
    {
     "data": {
      "text/html": [
       "<p> Guinea We use a guinea pig animal model to investigate whether the ionizing technique could prevent transmission of influenza virus infection, since this model have successfully been used as a model of aerosol transmission studies of influenza virus 31, 33 </p>"
      ],
      "text/plain": [
       "<IPython.core.display.HTML object>"
      ]
     },
     "metadata": {},
     "output_type": "display_data"
    },
    {
     "data": {
      "text/html": [
       "<p style='text-align:center'> *** </p>"
      ],
      "text/plain": [
       "<IPython.core.display.HTML object>"
      ]
     },
     "metadata": {},
     "output_type": "display_data"
    },
    {
     "data": {
      "text/html": [
       "<h3> ''NOSOCOMIAL TRANSMISSION OF EMERGING VIRUSES VIA AEROSOL-GENERATING MEDICAL PROCEDURES''</h2>"
      ],
      "text/plain": [
       "<IPython.core.display.HTML object>"
      ]
     },
     "metadata": {},
     "output_type": "display_data"
    },
    {
     "data": {
      "text/html": [
       "<p> Both viruses are known to cause respiratory disease in humans, and nosocomial transmission was documented for Nipah virus [42] </p>"
      ],
      "text/plain": [
       "<IPython.core.display.HTML object>"
      ]
     },
     "metadata": {},
     "output_type": "display_data"
    },
    {
     "data": {
      "text/html": [
       "<p style='text-align:center'> *** </p>"
      ],
      "text/plain": [
       "<IPython.core.display.HTML object>"
      ]
     },
     "metadata": {},
     "output_type": "display_data"
    },
    {
     "data": {
      "text/html": [
       "<h3> ''NOSOCOMIAL TRANSMISSION OF EMERGING VIRUSES VIA AEROSOL-GENERATING MEDICAL PROCEDURES''</h2>"
      ],
      "text/plain": [
       "<IPython.core.display.HTML object>"
      ]
     },
     "metadata": {},
     "output_type": "display_data"
    },
    {
     "data": {
      "text/html": [
       "<p> Nosocomial transmission [42] Lower respiratory: i, ii Causes human respiratory disease</p>"
      ],
      "text/plain": [
       "<IPython.core.display.HTML object>"
      ]
     },
     "metadata": {},
     "output_type": "display_data"
    },
    {
     "data": {
      "text/html": [
       "<p style='text-align:center'> *** </p>"
      ],
      "text/plain": [
       "<IPython.core.display.HTML object>"
      ]
     },
     "metadata": {},
     "output_type": "display_data"
    },
    {
     "data": {
      "text/html": [
       "<h3> ''ENVIRONMENTAL CONDITIONS AFFECT EXHALATION OF H3N2 SEASONAL AND VARIANT INFLUENZA VIRUSES AND RESPIRATORY DROPLET TRANSMISSION IN FERRETS''</h2>"
      ],
      "text/plain": [
       "<IPython.core.display.HTML object>"
      ]
     },
     "metadata": {},
     "output_type": "display_data"
    },
    {
     "data": {
      "text/html": [
       "<p> Transmission studies using guinea pigs revealed reduced RD transmission capabilities of influenza virus at 50%RH [18] </p>"
      ],
      "text/plain": [
       "<IPython.core.display.HTML object>"
      ]
     },
     "metadata": {},
     "output_type": "display_data"
    },
    {
     "data": {
      "text/html": [
       "<p style='text-align:center'> *** </p>"
      ],
      "text/plain": [
       "<IPython.core.display.HTML object>"
      ]
     },
     "metadata": {},
     "output_type": "display_data"
    },
    {
     "data": {
      "text/html": [
       "<h3> ''THE BENEFITS OF TRANSMISSION DYNAMICS MODELS IN UNDERSTANDING EMERGING INFECTIOUS DISEASES''</h2>"
      ],
      "text/plain": [
       "<IPython.core.display.HTML object>"
      ]
     },
     "metadata": {},
     "output_type": "display_data"
    },
    {
     "data": {
      "text/html": [
       "<p>Zoonoses are infectious diseases of humans that have an animal reservoir</p>"
      ],
      "text/plain": [
       "<IPython.core.display.HTML object>"
      ]
     },
     "metadata": {},
     "output_type": "display_data"
    },
    {
     "data": {
      "text/html": [
       "<p style='text-align:center'> *** </p>"
      ],
      "text/plain": [
       "<IPython.core.display.HTML object>"
      ]
     },
     "metadata": {},
     "output_type": "display_data"
    },
    {
     "data": {
      "text/html": [
       "<h3> ''VACCINATION OF INFLUENZA A VIRUS DECREASES TRANSMISSION RATES IN PIGS''</h2>"
      ],
      "text/plain": [
       "<IPython.core.display.HTML object>"
      ]
     },
     "metadata": {},
     "output_type": "display_data"
    },
    {
     "data": {
      "text/html": [
       "<p>Influenza in pigs is a highly contagious viral disease of the respiratory tract</p>"
      ],
      "text/plain": [
       "<IPython.core.display.HTML object>"
      ]
     },
     "metadata": {},
     "output_type": "display_data"
    },
    {
     "data": {
      "text/html": [
       "<p style='text-align:center'> *** </p>"
      ],
      "text/plain": [
       "<IPython.core.display.HTML object>"
      ]
     },
     "metadata": {},
     "output_type": "display_data"
    },
    {
     "data": {
      "text/html": [
       "<h3> ''VACCINATION OF INFLUENZA A VIRUS DECREASES TRANSMISSION RATES IN PIGS''</h2>"
      ],
      "text/plain": [
       "<IPython.core.display.HTML object>"
      ]
     },
     "metadata": {},
     "output_type": "display_data"
    },
    {
     "data": {
      "text/html": [
       "<p> Such populations can in turn also be a risk for interspecies transmission and zoonotic infections</p>"
      ],
      "text/plain": [
       "<IPython.core.display.HTML object>"
      ]
     },
     "metadata": {},
     "output_type": "display_data"
    },
    {
     "data": {
      "text/html": [
       "<p style='text-align:center'> *** </p>"
      ],
      "text/plain": [
       "<IPython.core.display.HTML object>"
      ]
     },
     "metadata": {},
     "output_type": "display_data"
    },
    {
     "data": {
      "text/html": [
       "<h3> ''TARGETING TRANSMISSION PATHWAYS FOR EMERGING ZOONOTIC DISEASE SURVEILLANCE AND CONTROL''</h2>"
      ],
      "text/plain": [
       "<IPython.core.display.HTML object>"
      ]
     },
     "metadata": {},
     "output_type": "display_data"
    },
    {
     "data": {
      "text/html": [
       "<p> Last, the oral transmission pathway was most relevant for helminth and prion-driven diseases</p>"
      ],
      "text/plain": [
       "<IPython.core.display.HTML object>"
      ]
     },
     "metadata": {},
     "output_type": "display_data"
    },
    {
     "data": {
      "text/html": [
       "<p style='text-align:center'> *** </p>"
      ],
      "text/plain": [
       "<IPython.core.display.HTML object>"
      ]
     },
     "metadata": {},
     "output_type": "display_data"
    },
    {
     "data": {
      "text/html": [
       "<h1>10. Tools and studies to monitor phenotypic change and potential adaptation of the virus</h1>"
      ],
      "text/plain": [
       "<IPython.core.display.HTML object>"
      ]
     },
     "metadata": {},
     "output_type": "display_data"
    },
    {
     "data": {
      "text/html": [
       "<h3> ''CHIKUNGUNYA VIRUS FIDELITY VARIANTS EXHIBIT DIFFERENTIAL ATTENUATION AND POPULATION DIVERSITY IN CELL CULTURE AND ADULT MICE''</h2>"
      ],
      "text/plain": [
       "<IPython.core.display.HTML object>"
      ]
     },
     "metadata": {},
     "output_type": "display_data"
    },
    {
     "data": {
      "text/html": [
       "<p> To assess the potential contribution of genetic diversification by antiviral host deaminases, we evaluated mutant spectra for evidence of mutational biases</p>"
      ],
      "text/plain": [
       "<IPython.core.display.HTML object>"
      ]
     },
     "metadata": {},
     "output_type": "display_data"
    },
    {
     "data": {
      "text/html": [
       "<p style='text-align:center'> *** </p>"
      ],
      "text/plain": [
       "<IPython.core.display.HTML object>"
      ]
     },
     "metadata": {},
     "output_type": "display_data"
    },
    {
     "data": {
      "text/html": [
       "<h3> ''CHIKUNGUNYA VIRUS FIDELITY VARIANTS EXHIBIT DIFFERENTIAL ATTENUATION AND POPULATION DIVERSITY IN CELL CULTURE AND ADULT MICE''</h2>"
      ],
      "text/plain": [
       "<IPython.core.display.HTML object>"
      ]
     },
     "metadata": {},
     "output_type": "display_data"
    },
    {
     "data": {
      "text/html": [
       "<p> Phenotypic characterization of these mutations by reverse genetics is warranted to elucidate their fitness effects</p>"
      ],
      "text/plain": [
       "<IPython.core.display.HTML object>"
      ]
     },
     "metadata": {},
     "output_type": "display_data"
    },
    {
     "data": {
      "text/html": [
       "<p style='text-align:center'> *** </p>"
      ],
      "text/plain": [
       "<IPython.core.display.HTML object>"
      ]
     },
     "metadata": {},
     "output_type": "display_data"
    },
    {
     "data": {
      "text/html": [
       "<h3> ''TISSUE TROPISM AND TRANSMISSION ECOLOGY PREDICT VIRULENCE OF HUMAN RNA VIRUSES''</h2>"
      ],
      "text/plain": [
       "<IPython.core.display.HTML object>"
      ]
     },
     "metadata": {},
     "output_type": "display_data"
    },
    {
     "data": {
      "text/html": [
       "<p> Tissue tropism should be a key consideration for future comparative and evolutionary modelling efforts</p>"
      ],
      "text/plain": [
       "<IPython.core.display.HTML object>"
      ]
     },
     "metadata": {},
     "output_type": "display_data"
    },
    {
     "data": {
      "text/html": [
       "<p style='text-align:center'> *** </p>"
      ],
      "text/plain": [
       "<IPython.core.display.HTML object>"
      ]
     },
     "metadata": {},
     "output_type": "display_data"
    },
    {
     "data": {
      "text/html": [
       "<h3> ''CHIKUNGUNYA VIRUS FIDELITY VARIANTS EXHIBIT DIFFERENTIAL ATTENUATION AND POPULATION DIVERSITY IN CELL CULTURE AND ADULT MICE''</h2>"
      ],
      "text/plain": [
       "<IPython.core.display.HTML object>"
      ]
     },
     "metadata": {},
     "output_type": "display_data"
    },
    {
     "data": {
      "text/html": [
       "<p> Fidelity variant viruses allow for manipulation of intrahost diversity and can be harnessed to study phenotypic effects of intrahost diversity</p>"
      ],
      "text/plain": [
       "<IPython.core.display.HTML object>"
      ]
     },
     "metadata": {},
     "output_type": "display_data"
    },
    {
     "data": {
      "text/html": [
       "<p style='text-align:center'> *** </p>"
      ],
      "text/plain": [
       "<IPython.core.display.HTML object>"
      ]
     },
     "metadata": {},
     "output_type": "display_data"
    },
    {
     "data": {
      "text/html": [
       "<h3> ''UNIFYING VIRAL GENETICS AND HUMAN TRANSPORTATION DATA TO PREDICT THE GLOBAL TRANSMISSION DYNAMICS OF HUMAN INFLUENZA H3N2''</h2>"
      ],
      "text/plain": [
       "<IPython.core.display.HTML object>"
      ]
     },
     "metadata": {},
     "output_type": "display_data"
    },
    {
     "data": {
      "text/html": [
       "<p>Here we use a model-based approach to explicitly tests spatial epidemiological hypotheses by integrating empirical data on human movement patterns with viral genetic data</p>"
      ],
      "text/plain": [
       "<IPython.core.display.HTML object>"
      ]
     },
     "metadata": {},
     "output_type": "display_data"
    },
    {
     "data": {
      "text/html": [
       "<p style='text-align:center'> *** </p>"
      ],
      "text/plain": [
       "<IPython.core.display.HTML object>"
      ]
     },
     "metadata": {},
     "output_type": "display_data"
    },
    {
     "data": {
      "text/html": [
       "<h3> ''TRANSMISSION OR WITHIN-HOST DYNAMICS DRIVING PULSES OF ZOONOTIC VIRUSES IN RESERVOIR-HOST POPULATIONS''</h2>"
      ],
      "text/plain": [
       "<IPython.core.display.HTML object>"
      ]
     },
     "metadata": {},
     "output_type": "display_data"
    },
    {
     "data": {
      "text/html": [
       "<p> Research methods that can be combined to distinguish among these scenarios include field sampling to document seroprevalence and prevalence, statistical modeling to identify patterns of infection, pathogen sequencing and phylogenetic analysis, and dynamic simulation modeling to generate epidemiological scenarios that can be evaluated with data</p>"
      ],
      "text/plain": [
       "<IPython.core.display.HTML object>"
      ]
     },
     "metadata": {},
     "output_type": "display_data"
    },
    {
     "data": {
      "text/html": [
       "<p style='text-align:center'> *** </p>"
      ],
      "text/plain": [
       "<IPython.core.display.HTML object>"
      ]
     },
     "metadata": {},
     "output_type": "display_data"
    },
    {
     "data": {
      "text/html": [
       "<h3> ''TISSUE TROPISM AND TRANSMISSION ECOLOGY PREDICT VIRULENCE OF HUMAN RNA VIRUSES''</h2>"
      ],
      "text/plain": [
       "<IPython.core.display.HTML object>"
      ]
     },
     "metadata": {},
     "output_type": "display_data"
    },
    {
     "data": {
      "text/html": [
       "<p> We propose that future predictive studies and preparedness initiatives with respect to emerging diseases should carefully consider potential for human virulence</p>"
      ],
      "text/plain": [
       "<IPython.core.display.HTML object>"
      ]
     },
     "metadata": {},
     "output_type": "display_data"
    },
    {
     "data": {
      "text/html": [
       "<p style='text-align:center'> *** </p>"
      ],
      "text/plain": [
       "<IPython.core.display.HTML object>"
      ]
     },
     "metadata": {},
     "output_type": "display_data"
    },
    {
     "data": {
      "text/html": [
       "<h3> ''WIDESPREAD RECOMBINATION, REASSORTMENT, AND TRANSMISSION OF UNBALANCED COMPOUND VIRAL GENOTYPES IN NATURAL ARENAVIRUS INFECTIONS''</h2>"
      ],
      "text/plain": [
       "<IPython.core.display.HTML object>"
      ]
     },
     "metadata": {},
     "output_type": "display_data"
    },
    {
     "data": {
      "text/html": [
       "<p> These findings provide an opportunity to study basic mechanisms of virus evolution and fitness through the identification of genetic determinants underpinning their action</p>"
      ],
      "text/plain": [
       "<IPython.core.display.HTML object>"
      ]
     },
     "metadata": {},
     "output_type": "display_data"
    },
    {
     "data": {
      "text/html": [
       "<p style='text-align:center'> *** </p>"
      ],
      "text/plain": [
       "<IPython.core.display.HTML object>"
      ]
     },
     "metadata": {},
     "output_type": "display_data"
    },
    {
     "data": {
      "text/html": [
       "<h3> ''EVOLUTIONARY AND TRANSMISSION DYNAMICS OF REASSORTANT H5N1 INFLUENZA VIRUS IN INDONESIA''</h2>"
      ],
      "text/plain": [
       "<IPython.core.display.HTML object>"
      ]
     },
     "metadata": {},
     "output_type": "display_data"
    },
    {
     "data": {
      "text/html": [
       "<p> We expect future development of analysis methods will help to shed more light on the interaction between viral migration and genetic diversity</p>"
      ],
      "text/plain": [
       "<IPython.core.display.HTML object>"
      ]
     },
     "metadata": {},
     "output_type": "display_data"
    },
    {
     "data": {
      "text/html": [
       "<p style='text-align:center'> *** </p>"
      ],
      "text/plain": [
       "<IPython.core.display.HTML object>"
      ]
     },
     "metadata": {},
     "output_type": "display_data"
    },
    {
     "data": {
      "text/html": [
       "<h3> ''UNIFYING VIRAL GENETICS AND HUMAN TRANSPORTATION DATA TO PREDICT THE GLOBAL TRANSMISSION DYNAMICS OF HUMAN INFLUENZA H3N2''</h2>"
      ],
      "text/plain": [
       "<IPython.core.display.HTML object>"
      ]
     },
     "metadata": {},
     "output_type": "display_data"
    },
    {
     "data": {
      "text/html": [
       "<p> In conclusion, our framework is applicable to different infectious diseases and provides new opportunities for explicitly testing how host behavior and ecology shapes the spatial distribution of pathogen genetic diversity</p>"
      ],
      "text/plain": [
       "<IPython.core.display.HTML object>"
      ]
     },
     "metadata": {},
     "output_type": "display_data"
    },
    {
     "data": {
      "text/html": [
       "<p style='text-align:center'> *** </p>"
      ],
      "text/plain": [
       "<IPython.core.display.HTML object>"
      ]
     },
     "metadata": {},
     "output_type": "display_data"
    },
    {
     "data": {
      "text/html": [
       "<h1>11. Immune response and immunity</h1>"
      ],
      "text/plain": [
       "<IPython.core.display.HTML object>"
      ]
     },
     "metadata": {},
     "output_type": "display_data"
    },
    {
     "data": {
      "text/html": [
       "<h3> ''BUYING TIME-THE IMMUNE SYSTEM DETERMINANTS OF THE INCUBATION PERIOD TO RESPIRATORY VIRUSES''</h2>"
      ],
      "text/plain": [
       "<IPython.core.display.HTML object>"
      ]
     },
     "metadata": {},
     "output_type": "display_data"
    },
    {
     "data": {
      "text/html": [
       "<p> The delayed rise of the innate immune response to a respiratory virus is explained by the suppression of immunity by the viral antagonist in vivo</p>"
      ],
      "text/plain": [
       "<IPython.core.display.HTML object>"
      ]
     },
     "metadata": {},
     "output_type": "display_data"
    },
    {
     "data": {
      "text/html": [
       "<p style='text-align:center'> *** </p>"
      ],
      "text/plain": [
       "<IPython.core.display.HTML object>"
      ]
     },
     "metadata": {},
     "output_type": "display_data"
    },
    {
     "data": {
      "text/html": [
       "<h3> ''BUYING TIME-THE IMMUNE SYSTEM DETERMINANTS OF THE INCUBATION PERIOD TO RESPIRATORY VIRUSES''</h2>"
      ],
      "text/plain": [
       "<IPython.core.display.HTML object>"
      ]
     },
     "metadata": {},
     "output_type": "display_data"
    },
    {
     "data": {
      "text/html": [
       "<p> Therefore, inhibiting inflammation for two days not only affects innate immunity but also delays the initiation of adaptive immunity</p>"
      ],
      "text/plain": [
       "<IPython.core.display.HTML object>"
      ]
     },
     "metadata": {},
     "output_type": "display_data"
    },
    {
     "data": {
      "text/html": [
       "<p style='text-align:center'> *** </p>"
      ],
      "text/plain": [
       "<IPython.core.display.HTML object>"
      ]
     },
     "metadata": {},
     "output_type": "display_data"
    },
    {
     "data": {
      "text/html": [
       "<h3> ''BUYING TIME-THE IMMUNE SYSTEM DETERMINANTS OF THE INCUBATION PERIOD TO RESPIRATORY VIRUSES''</h2>"
      ],
      "text/plain": [
       "<IPython.core.display.HTML object>"
      ]
     },
     "metadata": {},
     "output_type": "display_data"
    },
    {
     "data": {
      "text/html": [
       "<p> Type I IFN primed cells are protected from viral antagonism allowing the innate immune response to proceed</p>"
      ],
      "text/plain": [
       "<IPython.core.display.HTML object>"
      ]
     },
     "metadata": {},
     "output_type": "display_data"
    },
    {
     "data": {
      "text/html": [
       "<p style='text-align:center'> *** </p>"
      ],
      "text/plain": [
       "<IPython.core.display.HTML object>"
      ]
     },
     "metadata": {},
     "output_type": "display_data"
    },
    {
     "data": {
      "text/html": [
       "<h3> ''HOST GENETICS DETERMINE SUSCEPTIBILITY TO AVIAN INFLUENZA INFECTION AND TRANSMISSION DYNAMICS''</h2>"
      ],
      "text/plain": [
       "<IPython.core.display.HTML object>"
      ]
     },
     "metadata": {},
     "output_type": "display_data"
    },
    {
     "data": {
      "text/html": [
       "<p>The magnitude of adaptive immune responses does not explain differences in susceptibility to infection</p>"
      ],
      "text/plain": [
       "<IPython.core.display.HTML object>"
      ]
     },
     "metadata": {},
     "output_type": "display_data"
    },
    {
     "data": {
      "text/html": [
       "<p style='text-align:center'> *** </p>"
      ],
      "text/plain": [
       "<IPython.core.display.HTML object>"
      ]
     },
     "metadata": {},
     "output_type": "display_data"
    },
    {
     "data": {
      "text/html": [
       "<h3> ''BUYING TIME-THE IMMUNE SYSTEM DETERMINANTS OF THE INCUBATION PERIOD TO RESPIRATORY VIRUSES''</h2>"
      ],
      "text/plain": [
       "<IPython.core.display.HTML object>"
      ]
     },
     "metadata": {},
     "output_type": "display_data"
    },
    {
     "data": {
      "text/html": [
       "<p> This observation points out that immune modulation by the pathogen not only targets local lung immunity but also the external intervention of pre-programmed leukocytes with advantageous antiviral machinery</p>"
      ],
      "text/plain": [
       "<IPython.core.display.HTML object>"
      ]
     },
     "metadata": {},
     "output_type": "display_data"
    },
    {
     "data": {
      "text/html": [
       "<p style='text-align:center'> *** </p>"
      ],
      "text/plain": [
       "<IPython.core.display.HTML object>"
      ]
     },
     "metadata": {},
     "output_type": "display_data"
    },
    {
     "data": {
      "text/html": [
       "<h3> ''HOST GENETICS DETERMINE SUSCEPTIBILITY TO AVIAN INFLUENZA INFECTION AND TRANSMISSION DYNAMICS''</h2>"
      ],
      "text/plain": [
       "<IPython.core.display.HTML object>"
      ]
     },
     "metadata": {},
     "output_type": "display_data"
    },
    {
     "data": {
      "text/html": [
       "<p> Genetic resistance to infection, viral transmission, route of infection and regulation by immune responses were all subject to investigation</p>"
      ],
      "text/plain": [
       "<IPython.core.display.HTML object>"
      ]
     },
     "metadata": {},
     "output_type": "display_data"
    },
    {
     "data": {
      "text/html": [
       "<p style='text-align:center'> *** </p>"
      ],
      "text/plain": [
       "<IPython.core.display.HTML object>"
      ]
     },
     "metadata": {},
     "output_type": "display_data"
    },
    {
     "data": {
      "text/html": [
       "<h3> ''THE ECOLOGY AND ADAPTIVE EVOLUTION OF INFLUENZA A INTERSPECIES TRANSMISSION''</h2>"
      ],
      "text/plain": [
       "<IPython.core.display.HTML object>"
      ]
     },
     "metadata": {},
     "output_type": "display_data"
    },
    {
     "data": {
      "text/html": [
       "<p> The immune response to IAV infection in swine is similar to that of the human antiviral responses, with experimental evidence showing similar activation and secretion of cytokines is triggered in response to infection with the same virus</p>"
      ],
      "text/plain": [
       "<IPython.core.display.HTML object>"
      ]
     },
     "metadata": {},
     "output_type": "display_data"
    },
    {
     "data": {
      "text/html": [
       "<p style='text-align:center'> *** </p>"
      ],
      "text/plain": [
       "<IPython.core.display.HTML object>"
      ]
     },
     "metadata": {},
     "output_type": "display_data"
    },
    {
     "data": {
      "text/html": [
       "<h3> ''BUYING TIME-THE IMMUNE SYSTEM DETERMINANTS OF THE INCUBATION PERIOD TO RESPIRATORY VIRUSES''</h2>"
      ],
      "text/plain": [
       "<IPython.core.display.HTML object>"
      ]
     },
     "metadata": {},
     "output_type": "display_data"
    },
    {
     "data": {
      "text/html": [
       "<p>In vivo, lung secreted cytokines and chemokines also promote systemic awareness to the virus infection</p>"
      ],
      "text/plain": [
       "<IPython.core.display.HTML object>"
      ]
     },
     "metadata": {},
     "output_type": "display_data"
    },
    {
     "data": {
      "text/html": [
       "<p style='text-align:center'> *** </p>"
      ],
      "text/plain": [
       "<IPython.core.display.HTML object>"
      ]
     },
     "metadata": {},
     "output_type": "display_data"
    },
    {
     "data": {
      "text/html": [
       "<h3> ''HOST GENETICS DETERMINE SUSCEPTIBILITY TO AVIAN INFLUENZA INFECTION AND TRANSMISSION DYNAMICS''</h2>"
      ],
      "text/plain": [
       "<IPython.core.display.HTML object>"
      ]
     },
     "metadata": {},
     "output_type": "display_data"
    },
    {
     "data": {
      "text/html": [
       "<p> Firstly, differences in resistance and susceptibility were observed within 2-3 days postinfection, too early for an adaptive immune response and indicative of innate factors including innate immune mechanisms</p>"
      ],
      "text/plain": [
       "<IPython.core.display.HTML object>"
      ]
     },
     "metadata": {},
     "output_type": "display_data"
    },
    {
     "data": {
      "text/html": [
       "<p style='text-align:center'> *** </p>"
      ],
      "text/plain": [
       "<IPython.core.display.HTML object>"
      ]
     },
     "metadata": {},
     "output_type": "display_data"
    },
    {
     "data": {
      "text/html": [
       "<h3> ''NATURALLY OCCURRING MUTATIONS IN PB1 AFFECT INFLUENZA A VIRUS REPLICATION FIDELITY, VIRULENCE, AND ADAPTABILITY''</h2>"
      ],
      "text/plain": [
       "<IPython.core.display.HTML object>"
      ]
     },
     "metadata": {},
     "output_type": "display_data"
    },
    {
     "data": {
      "text/html": [
       "<p> Nucleotide misincorporation by RdRp during replication contributes to antigenic drift, which increases the probability of the virus evading host immunity against seasonal influenza viruses</p>"
      ],
      "text/plain": [
       "<IPython.core.display.HTML object>"
      ]
     },
     "metadata": {},
     "output_type": "display_data"
    },
    {
     "data": {
      "text/html": [
       "<p style='text-align:center'> *** </p>"
      ],
      "text/plain": [
       "<IPython.core.display.HTML object>"
      ]
     },
     "metadata": {},
     "output_type": "display_data"
    },
    {
     "data": {
      "text/html": [
       "<h1>12. Effectiveness of movement control strategies to prevent secondary transmission in health care and community settings</h1>"
      ],
      "text/plain": [
       "<IPython.core.display.HTML object>"
      ]
     },
     "metadata": {},
     "output_type": "display_data"
    },
    {
     "data": {
      "text/html": [
       "<h3> ''CHARACTERIZING THE TRANSMISSION DYNAMICS AND CONTROL OF EBOLA VIRUS DISEASE''</h2>"
      ],
      "text/plain": [
       "<IPython.core.display.HTML object>"
      ]
     },
     "metadata": {},
     "output_type": "display_data"
    },
    {
     "data": {
      "text/html": [
       "<p> These additional interventions include the use of household protection kits, designed to reduce transmission in the community; improvements in infection control protocols in health care settings that reduce transmission among health care workers; and the impact of rapid diagnostic kits in Ebola treatment centers, which reduce the time to isolation for infectious individuals seeking hospitalization</p>"
      ],
      "text/plain": [
       "<IPython.core.display.HTML object>"
      ]
     },
     "metadata": {},
     "output_type": "display_data"
    },
    {
     "data": {
      "text/html": [
       "<p style='text-align:center'> *** </p>"
      ],
      "text/plain": [
       "<IPython.core.display.HTML object>"
      ]
     },
     "metadata": {},
     "output_type": "display_data"
    },
    {
     "data": {
      "text/html": [
       "<h3> ''SPATIAL AND TEMPORAL ANALYSES TO INVESTIGATE INFECTIOUS DISEASE TRANSMISSION WITHIN HEALTHCARE SETTINGS''</h2>"
      ],
      "text/plain": [
       "<IPython.core.display.HTML object>"
      ]
     },
     "metadata": {},
     "output_type": "display_data"
    },
    {
     "data": {
      "text/html": [
       "<p>With movement of patients between care structures, differentiation between infection control in primary and secondary care is becoming more difficult</p>"
      ],
      "text/plain": [
       "<IPython.core.display.HTML object>"
      ]
     },
     "metadata": {},
     "output_type": "display_data"
    },
    {
     "data": {
      "text/html": [
       "<p style='text-align:center'> *** </p>"
      ],
      "text/plain": [
       "<IPython.core.display.HTML object>"
      ]
     },
     "metadata": {},
     "output_type": "display_data"
    },
    {
     "data": {
      "text/html": [
       "<h3> ''EFFECTIVELY COMMUNICATING THE UNCERTAINTIES SURROUNDING EBOLA VIRUS TRANSMISSION''</h2>"
      ],
      "text/plain": [
       "<IPython.core.display.HTML object>"
      ]
     },
     "metadata": {},
     "output_type": "display_data"
    },
    {
     "data": {
      "text/html": [
       "<p> The potential of EBOV spread via aerosol routes drastically changes health care and public health interventions</p>"
      ],
      "text/plain": [
       "<IPython.core.display.HTML object>"
      ]
     },
     "metadata": {},
     "output_type": "display_data"
    },
    {
     "data": {
      "text/html": [
       "<p style='text-align:center'> *** </p>"
      ],
      "text/plain": [
       "<IPython.core.display.HTML object>"
      ]
     },
     "metadata": {},
     "output_type": "display_data"
    },
    {
     "data": {
      "text/html": [
       "<h3> ''TARGETING TRANSMISSION PATHWAYS FOR EMERGING ZOONOTIC DISEASE SURVEILLANCE AND CONTROL''</h2>"
      ],
      "text/plain": [
       "<IPython.core.display.HTML object>"
      ]
     },
     "metadata": {},
     "output_type": "display_data"
    },
    {
     "data": {
      "text/html": [
       "<p> Public health efforts could develop control strategies that focus on behavioral change in high-risk populations to minimize exposure to potential reservoirs and target relevant transmission pathways (e</p>"
      ],
      "text/plain": [
       "<IPython.core.display.HTML object>"
      ]
     },
     "metadata": {},
     "output_type": "display_data"
    },
    {
     "data": {
      "text/html": [
       "<p style='text-align:center'> *** </p>"
      ],
      "text/plain": [
       "<IPython.core.display.HTML object>"
      ]
     },
     "metadata": {},
     "output_type": "display_data"
    },
    {
     "data": {
      "text/html": [
       "<h3> ''VACCINATION OF INFLUENZA A VIRUS DECREASES TRANSMISSION RATES IN PIGS''</h2>"
      ],
      "text/plain": [
       "<IPython.core.display.HTML object>"
      ]
     },
     "metadata": {},
     "output_type": "display_data"
    },
    {
     "data": {
      "text/html": [
       "<p>Understanding transmission of influenza and the factors that affect transmission is crucial for designing effective control strategies</p>"
      ],
      "text/plain": [
       "<IPython.core.display.HTML object>"
      ]
     },
     "metadata": {},
     "output_type": "display_data"
    },
    {
     "data": {
      "text/html": [
       "<p style='text-align:center'> *** </p>"
      ],
      "text/plain": [
       "<IPython.core.display.HTML object>"
      ]
     },
     "metadata": {},
     "output_type": "display_data"
    },
    {
     "data": {
      "text/html": [
       "<h3> ''CHARACTERIZING THE TRANSMISSION DYNAMICS AND CONTROL OF EBOLA VIRUS DISEASE''</h2>"
      ],
      "text/plain": [
       "<IPython.core.display.HTML object>"
      ]
     },
     "metadata": {},
     "output_type": "display_data"
    },
    {
     "data": {
      "text/html": [
       "<p> The modeled population can be structured according to the contributions of community, hospital, and unsafe burials to transmission as EVD transmission has been amplified in health care settings with ineffective infection control measures and during unsafe burials [23] </p>"
      ],
      "text/plain": [
       "<IPython.core.display.HTML object>"
      ]
     },
     "metadata": {},
     "output_type": "display_data"
    },
    {
     "data": {
      "text/html": [
       "<p style='text-align:center'> *** </p>"
      ],
      "text/plain": [
       "<IPython.core.display.HTML object>"
      ]
     },
     "metadata": {},
     "output_type": "display_data"
    },
    {
     "data": {
      "text/html": [
       "<h3> ''OPEN ACCESS RES EARCH AEROSOL INFLUENZA TRANSMISSION RISK CONTOURS: A STUDY OF HUMID TROPICS VERSUS WINTER TEMPERATE ZONE''</h2>"
      ],
      "text/plain": [
       "<IPython.core.display.HTML object>"
      ]
     },
     "metadata": {},
     "output_type": "display_data"
    },
    {
     "data": {
      "text/html": [
       "<p> Public health planners can use our results to consider making climate control adjustment recommendations, which can help control aerosol transmission</p>"
      ],
      "text/plain": [
       "<IPython.core.display.HTML object>"
      ]
     },
     "metadata": {},
     "output_type": "display_data"
    },
    {
     "data": {
      "text/html": [
       "<p style='text-align:center'> *** </p>"
      ],
      "text/plain": [
       "<IPython.core.display.HTML object>"
      ]
     },
     "metadata": {},
     "output_type": "display_data"
    },
    {
     "data": {
      "text/html": [
       "<h3> ''SPATIALLY ADJUSTED TIME- VARYING REPRODUCTIVE NUMBERS: UNDERSTANDING THE GEOGRAPHICAL EXPANSION OF URBAN DENGUE OUTBREAKS''</h2>"
      ],
      "text/plain": [
       "<IPython.core.display.HTML object>"
      ]
     },
     "metadata": {},
     "output_type": "display_data"
    },
    {
     "data": {
      "text/html": [
       "<p> As the change in transmission potential is highly correlated to control measures, public health practitioners can evaluate the effectiveness of control measures by determining the change in R t after implementation</p>"
      ],
      "text/plain": [
       "<IPython.core.display.HTML object>"
      ]
     },
     "metadata": {},
     "output_type": "display_data"
    },
    {
     "data": {
      "text/html": [
       "<p style='text-align:center'> *** </p>"
      ],
      "text/plain": [
       "<IPython.core.display.HTML object>"
      ]
     },
     "metadata": {},
     "output_type": "display_data"
    },
    {
     "data": {
      "text/html": [
       "<h3> ''CHARACTERIZING THE TRANSMISSION DYNAMICS AND CONTROL OF EBOLA VIRUS DISEASE''</h2>"
      ],
      "text/plain": [
       "<IPython.core.display.HTML object>"
      ]
     },
     "metadata": {},
     "output_type": "display_data"
    },
    {
     "data": {
      "text/html": [
       "<p>Drake and colleague's elegant modeling approach describes EVD transmission according to infection generations by calculating probability distributions of the number of secondary cases that arise in the community via nursing care or during unsafe burials and in health care settings via infections to health care workers and visitors</p>"
      ],
      "text/plain": [
       "<IPython.core.display.HTML object>"
      ]
     },
     "metadata": {},
     "output_type": "display_data"
    },
    {
     "data": {
      "text/html": [
       "<p style='text-align:center'> *** </p>"
      ],
      "text/plain": [
       "<IPython.core.display.HTML object>"
      ]
     },
     "metadata": {},
     "output_type": "display_data"
    },
    {
     "data": {
      "text/html": [
       "<h3> ''INTERNAL VERSUS EXTERNAL DETERMINANTS OF SCHISTOSOMA JAPONICUM TRANSMISSION IN IRRIGATED AGRICULTURAL VILLAGES''</h2>"
      ],
      "text/plain": [
       "<IPython.core.display.HTML object>"
      ]
     },
     "metadata": {},
     "output_type": "display_data"
    },
    {
     "data": {
      "text/html": [
       "<p> In order to influence rural development priorities for disease control purposes at least a semi-quantitative understanding of the effects of environmental modification on disease transmission is needed</p>"
      ],
      "text/plain": [
       "<IPython.core.display.HTML object>"
      ]
     },
     "metadata": {},
     "output_type": "display_data"
    },
    {
     "data": {
      "text/html": [
       "<p style='text-align:center'> *** </p>"
      ],
      "text/plain": [
       "<IPython.core.display.HTML object>"
      ]
     },
     "metadata": {},
     "output_type": "display_data"
    },
    {
     "data": {
      "text/html": [
       "<h1>13. Effectiveness of personal protective equipment (PPE) and its usefulness to reduce risk of transmission in health care and community settings, Role of the environment in transmission</h1>"
      ],
      "text/plain": [
       "<IPython.core.display.HTML object>"
      ]
     },
     "metadata": {},
     "output_type": "display_data"
    },
    {
     "data": {
      "text/html": [
       "<h3> ''CHARACTERIZING THE TRANSMISSION DYNAMICS AND CONTROL OF EBOLA VIRUS DISEASE''</h2>"
      ],
      "text/plain": [
       "<IPython.core.display.HTML object>"
      ]
     },
     "metadata": {},
     "output_type": "display_data"
    },
    {
     "data": {
      "text/html": [
       "<p> These additional interventions include the use of household protection kits, designed to reduce transmission in the community; improvements in infection control protocols in health care settings that reduce transmission among health care workers; and the impact of rapid diagnostic kits in Ebola treatment centers, which reduce the time to isolation for infectious individuals seeking hospitalization</p>"
      ],
      "text/plain": [
       "<IPython.core.display.HTML object>"
      ]
     },
     "metadata": {},
     "output_type": "display_data"
    },
    {
     "data": {
      "text/html": [
       "<p style='text-align:center'> *** </p>"
      ],
      "text/plain": [
       "<IPython.core.display.HTML object>"
      ]
     },
     "metadata": {},
     "output_type": "display_data"
    },
    {
     "data": {
      "text/html": [
       "<h3> ''EFFECTIVELY COMMUNICATING THE UNCERTAINTIES SURROUNDING EBOLA VIRUS TRANSMISSION''</h2>"
      ],
      "text/plain": [
       "<IPython.core.display.HTML object>"
      ]
     },
     "metadata": {},
     "output_type": "display_data"
    },
    {
     "data": {
      "text/html": [
       "<p> The potential of EBOV spread via aerosol routes drastically changes health care and public health interventions</p>"
      ],
      "text/plain": [
       "<IPython.core.display.HTML object>"
      ]
     },
     "metadata": {},
     "output_type": "display_data"
    },
    {
     "data": {
      "text/html": [
       "<p style='text-align:center'> *** </p>"
      ],
      "text/plain": [
       "<IPython.core.display.HTML object>"
      ]
     },
     "metadata": {},
     "output_type": "display_data"
    },
    {
     "data": {
      "text/html": [
       "<h3> ''TARGETING TRANSMISSION PATHWAYS FOR EMERGING ZOONOTIC DISEASE SURVEILLANCE AND CONTROL''</h2>"
      ],
      "text/plain": [
       "<IPython.core.display.HTML object>"
      ]
     },
     "metadata": {},
     "output_type": "display_data"
    },
    {
     "data": {
      "text/html": [
       "<p> Public health efforts could develop control strategies that focus on behavioral change in high-risk populations to minimize exposure to potential reservoirs and target relevant transmission pathways (e</p>"
      ],
      "text/plain": [
       "<IPython.core.display.HTML object>"
      ]
     },
     "metadata": {},
     "output_type": "display_data"
    },
    {
     "data": {
      "text/html": [
       "<p style='text-align:center'> *** </p>"
      ],
      "text/plain": [
       "<IPython.core.display.HTML object>"
      ]
     },
     "metadata": {},
     "output_type": "display_data"
    },
    {
     "data": {
      "text/html": [
       "<h3> ''NOSOCOMIAL TRANSMISSION OF EMERGING VIRUSES VIA AEROSOL-GENERATING MEDICAL PROCEDURES''</h2>"
      ],
      "text/plain": [
       "<IPython.core.display.HTML object>"
      ]
     },
     "metadata": {},
     "output_type": "display_data"
    },
    {
     "data": {
      "text/html": [
       "<p> The updated guidelines further emphasized proper personal protective equipment (PPE) and isolation when performing AGMPs on EVD patients</p>"
      ],
      "text/plain": [
       "<IPython.core.display.HTML object>"
      ]
     },
     "metadata": {},
     "output_type": "display_data"
    },
    {
     "data": {
      "text/html": [
       "<p style='text-align:center'> *** </p>"
      ],
      "text/plain": [
       "<IPython.core.display.HTML object>"
      ]
     },
     "metadata": {},
     "output_type": "display_data"
    },
    {
     "data": {
      "text/html": [
       "<h3> ''PATHOGEN TRANSMISSION AND CLINIC SCHEDULING''</h2>"
      ],
      "text/plain": [
       "<IPython.core.display.HTML object>"
      ]
     },
     "metadata": {},
     "output_type": "display_data"
    },
    {
     "data": {
      "text/html": [
       "<p>Improved hand hygiene, barrier precautions, patient use of hand sanitizers or facemasks, and avoidance of environmental fomites can each diminish dissemination risk</p>"
      ],
      "text/plain": [
       "<IPython.core.display.HTML object>"
      ]
     },
     "metadata": {},
     "output_type": "display_data"
    },
    {
     "data": {
      "text/html": [
       "<p style='text-align:center'> *** </p>"
      ],
      "text/plain": [
       "<IPython.core.display.HTML object>"
      ]
     },
     "metadata": {},
     "output_type": "display_data"
    },
    {
     "data": {
      "text/html": [
       "<h3> ''OPEN ACCESS RES EARCH AEROSOL INFLUENZA TRANSMISSION RISK CONTOURS: A STUDY OF HUMID TROPICS VERSUS WINTER TEMPERATE ZONE''</h2>"
      ],
      "text/plain": [
       "<IPython.core.display.HTML object>"
      ]
     },
     "metadata": {},
     "output_type": "display_data"
    },
    {
     "data": {
      "text/html": [
       "<p> Public health planners can use our results to consider making climate control adjustment recommendations, which can help control aerosol transmission</p>"
      ],
      "text/plain": [
       "<IPython.core.display.HTML object>"
      ]
     },
     "metadata": {},
     "output_type": "display_data"
    },
    {
     "data": {
      "text/html": [
       "<p style='text-align:center'> *** </p>"
      ],
      "text/plain": [
       "<IPython.core.display.HTML object>"
      ]
     },
     "metadata": {},
     "output_type": "display_data"
    },
    {
     "data": {
      "text/html": [
       "<h3> ''SEASONALITY AND PREVALENCE OF RESPIRATORY PATHOGENS DETECTED BY MULTIPLEX PCR AT A TERTIARY CARE MEDICAL CENTER''</h2>"
      ],
      "text/plain": [
       "<IPython.core.display.HTML object>"
      ]
     },
     "metadata": {},
     "output_type": "display_data"
    },
    {
     "data": {
      "text/html": [
       "<p> The use of a rapid and accurate diagnostic test enhances clinical decision making and safely promotes implementation of cost-effective treatment strategies, including limiting the unnecessary use of antibiotics</p>"
      ],
      "text/plain": [
       "<IPython.core.display.HTML object>"
      ]
     },
     "metadata": {},
     "output_type": "display_data"
    },
    {
     "data": {
      "text/html": [
       "<p style='text-align:center'> *** </p>"
      ],
      "text/plain": [
       "<IPython.core.display.HTML object>"
      ]
     },
     "metadata": {},
     "output_type": "display_data"
    },
    {
     "data": {
      "text/html": [
       "<h3> ''EFFECTIVELY COMMUNICATING THE UNCERTAINTIES SURROUNDING EBOLA VIRUS TRANSMISSION''</h2>"
      ],
      "text/plain": [
       "<IPython.core.display.HTML object>"
      ]
     },
     "metadata": {},
     "output_type": "display_data"
    },
    {
     "data": {
      "text/html": [
       "<p>The impact of an airborne EBOV on public health and clinical medicine would entail large structural changes in contact tracing, the use of PPE, and patient isolation</p>"
      ],
      "text/plain": [
       "<IPython.core.display.HTML object>"
      ]
     },
     "metadata": {},
     "output_type": "display_data"
    },
    {
     "data": {
      "text/html": [
       "<p style='text-align:center'> *** </p>"
      ],
      "text/plain": [
       "<IPython.core.display.HTML object>"
      ]
     },
     "metadata": {},
     "output_type": "display_data"
    },
    {
     "data": {
      "text/html": [
       "<h3> ''VACCINATION OF INFLUENZA A VIRUS DECREASES TRANSMISSION RATES IN PIGS''</h2>"
      ],
      "text/plain": [
       "<IPython.core.display.HTML object>"
      ]
     },
     "metadata": {},
     "output_type": "display_data"
    },
    {
     "data": {
      "text/html": [
       "<p>Understanding transmission of influenza and the factors that affect transmission is crucial for designing effective control strategies</p>"
      ],
      "text/plain": [
       "<IPython.core.display.HTML object>"
      ]
     },
     "metadata": {},
     "output_type": "display_data"
    },
    {
     "data": {
      "text/html": [
       "<p style='text-align:center'> *** </p>"
      ],
      "text/plain": [
       "<IPython.core.display.HTML object>"
      ]
     },
     "metadata": {},
     "output_type": "display_data"
    },
    {
     "data": {
      "text/html": [
       "<h3> ''ENVIRONMENTAL FACTORS AFFECTING THE TRANSMISSION OF RESPIRATORY VIRUSES''</h2>"
      ],
      "text/plain": [
       "<IPython.core.display.HTML object>"
      ]
     },
     "metadata": {},
     "output_type": "display_data"
    },
    {
     "data": {
      "text/html": [
       "<p> A more complete understanding of environmental factors impacting respiratory virus transmission will require enhanced epidemiological and surveillance data, as well as controlled experiments in small animal models</p>"
      ],
      "text/plain": [
       "<IPython.core.display.HTML object>"
      ]
     },
     "metadata": {},
     "output_type": "display_data"
    },
    {
     "data": {
      "text/html": [
       "<p style='text-align:center'> *** </p>"
      ],
      "text/plain": [
       "<IPython.core.display.HTML object>"
      ]
     },
     "metadata": {},
     "output_type": "display_data"
    }
   ],
   "source": [
    "TASK1 = [\n",
    "\"Range of incubation periods for the disease in humans (and how this varies across age and health status) and how long individuals are contagious, even after recovery.\",\n",
    "\"Prevalence of asymptomatic shedding and transmission (e.g., particularly children).\",\n",
    "\"Seasonality of transmission.\",\n",
    "\"Physical science of the coronavirus (e.g., charge distribution, adhesion to hydrophilic/phobic surfaces, environmental survival to inform decontamination efforts for affected areas and provide information about viral shedding).\",\n",
    "\"Persistence and stability on a multitude of substrates and sources (e.g., nasal discharge, sputum, urine, fecal matter, blood).\",\n",
    "\"Persistence of virus on surfaces of different materials (e,g., copper, stainless steel, plastic).\",\n",
    "\"Natural history of the virus and shedding of it from an infected person\",\n",
    "\"Implementation of diagnostics and products to improve clinical processes\",\n",
    "\"Disease models, including animal models for infection, disease and transmission\",\n",
    "\"Tools and studies to monitor phenotypic change and potential adaptation of the virus\",\n",
    "\"Immune response and immunity\",\n",
    "\"Effectiveness of movement control strategies to prevent secondary transmission in health care and community settings\",\n",
    "\"Effectiveness of personal protective equipment (PPE) and its usefulness to reduce risk of transmission in health care and community settings, Role of the environment in transmission\"\n",
    "]\n",
    "\n",
    "for i in range(len(TASK1)):\n",
    "    display(HTML(\"<h1>\" + str(i+1) + \". \" + TASK1[i] + \"</h1>\"))\n",
    "    df = pd.read_csv(DIR + \"task1_\" + str(i) + \".csv\")\n",
    "    for j, row in df.iterrows():\n",
    "        display(HTML(\"<h3> ''\" + row[3].upper() + \"''</h2>\"))\n",
    "        display(HTML(\"<p>\" + row[1] + \"</p>\"))\n",
    "        display(HTML(\"<p style='text-align:center'> *** </p>\"))"
   ]
  },
  {
   "cell_type": "code",
   "execution_count": 23,
   "metadata": {},
   "outputs": [
    {
     "data": {
      "text/html": [
       "<h1>1. Data on potential risks factors</h1>"
      ],
      "text/plain": [
       "<IPython.core.display.HTML object>"
      ]
     },
     "metadata": {},
     "output_type": "display_data"
    },
    {
     "data": {
      "text/html": [
       "<h3> ''RESPIRATORY VIRAL INFECTIONS AND THE RISK OF RHEUMATOID ARTHRITIS''</h2>"
      ],
      "text/plain": [
       "<IPython.core.display.HTML object>"
      ]
     },
     "metadata": {},
     "output_type": "display_data"
    },
    {
     "data": {
      "text/html": [
       "<p> More complex interactions among these virus factors or other environmental factors may be involved</p>"
      ],
      "text/plain": [
       "<IPython.core.display.HTML object>"
      ]
     },
     "metadata": {},
     "output_type": "display_data"
    },
    {
     "data": {
      "text/html": [
       "<p style='text-align:center'> *** </p>"
      ],
      "text/plain": [
       "<IPython.core.display.HTML object>"
      ]
     },
     "metadata": {},
     "output_type": "display_data"
    },
    {
     "data": {
      "text/html": [
       "<h3> ''IL-33 AND ST2 AS PREDICTORS OF DISEASE SEVERITY IN CHILDREN WITH VIRAL ACUTE LOWER RESPIRATORY INFECTION''</h2>"
      ],
      "text/plain": [
       "<IPython.core.display.HTML object>"
      ]
     },
     "metadata": {},
     "output_type": "display_data"
    },
    {
     "data": {
      "text/html": [
       "<p> The identification of predictors of disease severity may help to identify potential therapeutic targets</p>"
      ],
      "text/plain": [
       "<IPython.core.display.HTML object>"
      ]
     },
     "metadata": {},
     "output_type": "display_data"
    },
    {
     "data": {
      "text/html": [
       "<p style='text-align:center'> *** </p>"
      ],
      "text/plain": [
       "<IPython.core.display.HTML object>"
      ]
     },
     "metadata": {},
     "output_type": "display_data"
    },
    {
     "data": {
      "text/html": [
       "<h3> ''RISK FACTORS FOR SEVERE BRONCHIOLITIS CAUSED BY RESPIRATORY VIRUS INFECTIONS AMONG MEXICAN CHILDREN IN AN EMERGENCY DEPARTMENT''</h2>"
      ],
      "text/plain": [
       "<IPython.core.display.HTML object>"
      ]
     },
     "metadata": {},
     "output_type": "display_data"
    },
    {
     "data": {
      "text/html": [
       "<p> These risk factors can be categorized as environmental, maternal, and host factors</p>"
      ],
      "text/plain": [
       "<IPython.core.display.HTML object>"
      ]
     },
     "metadata": {},
     "output_type": "display_data"
    },
    {
     "data": {
      "text/html": [
       "<p style='text-align:center'> *** </p>"
      ],
      "text/plain": [
       "<IPython.core.display.HTML object>"
      ]
     },
     "metadata": {},
     "output_type": "display_data"
    },
    {
     "data": {
      "text/html": [
       "<h3> ''HUMAN METAPNEUMOVIRUS INFECTION IN JORDANIAN CHILDREN: EPIDEMIOLOGY AND RISK FACTORS FOR SEVERE DISEASE''</h2>"
      ],
      "text/plain": [
       "<IPython.core.display.HTML object>"
      ]
     },
     "metadata": {},
     "output_type": "display_data"
    },
    {
     "data": {
      "text/html": [
       "<p> Thus, the epidemiology of previously established risk factors in this population are different than other cohorts where these factors are often predictors of respiratory virus severity</p>"
      ],
      "text/plain": [
       "<IPython.core.display.HTML object>"
      ]
     },
     "metadata": {},
     "output_type": "display_data"
    },
    {
     "data": {
      "text/html": [
       "<p style='text-align:center'> *** </p>"
      ],
      "text/plain": [
       "<IPython.core.display.HTML object>"
      ]
     },
     "metadata": {},
     "output_type": "display_data"
    },
    {
     "data": {
      "text/html": [
       "<h3> ''EXERCISE AND INFECTION RISK''</h2>"
      ],
      "text/plain": [
       "<IPython.core.display.HTML object>"
      ]
     },
     "metadata": {},
     "output_type": "display_data"
    },
    {
     "data": {
      "text/html": [
       "<p> A number of other factors may also contribute to the higher number of infections experienced by athletes, including environmental factors, increased exposure to pathogens, poor nutritional practices and increased psychological stress</p>"
      ],
      "text/plain": [
       "<IPython.core.display.HTML object>"
      ]
     },
     "metadata": {},
     "output_type": "display_data"
    },
    {
     "data": {
      "text/html": [
       "<p style='text-align:center'> *** </p>"
      ],
      "text/plain": [
       "<IPython.core.display.HTML object>"
      ]
     },
     "metadata": {},
     "output_type": "display_data"
    },
    {
     "data": {
      "text/html": [
       "<h3> ''PREVENTING RESPIRATORY SYNCYTIAL VIRUS INFECTIONS IN HOSPITALIZED CHILDREN AND ADULTS: SHOULD WE DO BETTER? INFECTION PREVENTION IN PRACTICE''</h2>"
      ],
      "text/plain": [
       "<IPython.core.display.HTML object>"
      ]
     },
     "metadata": {},
     "output_type": "display_data"
    },
    {
     "data": {
      "text/html": [
       "<p> In order to evaluate the impact of this potential bias, further prospective studies are needed with systematic screening of all potential viral and bacterial coinfections</p>"
      ],
      "text/plain": [
       "<IPython.core.display.HTML object>"
      ]
     },
     "metadata": {},
     "output_type": "display_data"
    },
    {
     "data": {
      "text/html": [
       "<p style='text-align:center'> *** </p>"
      ],
      "text/plain": [
       "<IPython.core.display.HTML object>"
      ]
     },
     "metadata": {},
     "output_type": "display_data"
    },
    {
     "data": {
      "text/html": [
       "<h3> ''EPIDEMIOLOGY OF SEVERE ACUTE RESPIRATORY ILLNESS AND RISK FACTORS FOR INFLUENZA INFECTION AND CLINICAL SEVERITY AMONG ADULTS IN MALAWI, 2011-2013''</h2>"
      ],
      "text/plain": [
       "<IPython.core.display.HTML object>"
      ]
     },
     "metadata": {},
     "output_type": "display_data"
    },
    {
     "data": {
      "text/html": [
       "<p> Comorbidities were also poorly recorded; thus, we were unable to evaluate chronic lung disease as a potential risk factor for influenza or adjust for underlying comorbidities in the multivariable analysis for clinical severity</p>"
      ],
      "text/plain": [
       "<IPython.core.display.HTML object>"
      ]
     },
     "metadata": {},
     "output_type": "display_data"
    },
    {
     "data": {
      "text/html": [
       "<p style='text-align:center'> *** </p>"
      ],
      "text/plain": [
       "<IPython.core.display.HTML object>"
      ]
     },
     "metadata": {},
     "output_type": "display_data"
    },
    {
     "data": {
      "text/html": [
       "<h3> ''HUMAN METAPNEUMOVIRUS INFECTION IN JORDANIAN CHILDREN: EPIDEMIOLOGY AND RISK FACTORS FOR SEVERE DISEASE''</h2>"
      ],
      "text/plain": [
       "<IPython.core.display.HTML object>"
      ]
     },
     "metadata": {},
     "output_type": "display_data"
    },
    {
     "data": {
      "text/html": [
       "<p> Our study highlights that the epidemiology of established risk factors are unique to specific populations</p>"
      ],
      "text/plain": [
       "<IPython.core.display.HTML object>"
      ]
     },
     "metadata": {},
     "output_type": "display_data"
    },
    {
     "data": {
      "text/html": [
       "<p style='text-align:center'> *** </p>"
      ],
      "text/plain": [
       "<IPython.core.display.HTML object>"
      ]
     },
     "metadata": {},
     "output_type": "display_data"
    },
    {
     "data": {
      "text/html": [
       "<h3> ''VIRAL ETIOLOGIES OF HOSPITALIZED ACUTE LOWER RESPIRATORY INFECTION PATIENTS IN CHINA''</h2>"
      ],
      "text/plain": [
       "<IPython.core.display.HTML object>"
      ]
     },
     "metadata": {},
     "output_type": "display_data"
    },
    {
     "data": {
      "text/html": [
       "<p> These preliminary results indicate that more robust surveillance data and evaluations are needed to estimate the disease burden and to understand whether geographic areas, climate and other environmental factors and patterns of human behavior influence the timing and severity of epidemics associated with these viral agents</p>"
      ],
      "text/plain": [
       "<IPython.core.display.HTML object>"
      ]
     },
     "metadata": {},
     "output_type": "display_data"
    },
    {
     "data": {
      "text/html": [
       "<p style='text-align:center'> *** </p>"
      ],
      "text/plain": [
       "<IPython.core.display.HTML object>"
      ]
     },
     "metadata": {},
     "output_type": "display_data"
    },
    {
     "data": {
      "text/html": [
       "<h3> ''HUMAN METAPNEUMOVIRUS INFECTION IN JORDANIAN CHILDREN: EPIDEMIOLOGY AND RISK FACTORS FOR SEVERE DISEASE''</h2>"
      ],
      "text/plain": [
       "<IPython.core.display.HTML object>"
      ]
     },
     "metadata": {},
     "output_type": "display_data"
    },
    {
     "data": {
      "text/html": [
       "<p> Prematurity and daycare are underrepresented factors in this population, highlighting that factors contributing to severe disease differ substantially between geographic and developing regions</p>"
      ],
      "text/plain": [
       "<IPython.core.display.HTML object>"
      ]
     },
     "metadata": {},
     "output_type": "display_data"
    },
    {
     "data": {
      "text/html": [
       "<p style='text-align:center'> *** </p>"
      ],
      "text/plain": [
       "<IPython.core.display.HTML object>"
      ]
     },
     "metadata": {},
     "output_type": "display_data"
    },
    {
     "data": {
      "text/html": [
       "<h1>2. Smoking, pre-existing pulmonary disease</h1>"
      ],
      "text/plain": [
       "<IPython.core.display.HTML object>"
      ]
     },
     "metadata": {},
     "output_type": "display_data"
    },
    {
     "data": {
      "text/html": [
       "<h3> ''RESPIRATORY DISEASE IN PREGNANCY''</h2>"
      ],
      "text/plain": [
       "<IPython.core.display.HTML object>"
      ]
     },
     "metadata": {},
     "output_type": "display_data"
    },
    {
     "data": {
      "text/html": [
       "<p> Respiratory diseases complicated by pulmonary hypertension and cor pulmonale have a poor prognosis in pregnancy</p>"
      ],
      "text/plain": [
       "<IPython.core.display.HTML object>"
      ]
     },
     "metadata": {},
     "output_type": "display_data"
    },
    {
     "data": {
      "text/html": [
       "<p style='text-align:center'> *** </p>"
      ],
      "text/plain": [
       "<IPython.core.display.HTML object>"
      ]
     },
     "metadata": {},
     "output_type": "display_data"
    },
    {
     "data": {
      "text/html": [
       "<h3> ''ADENOVIRUS RESPIRATORY INFECTION IN HOSPITALIZED CHILDREN IN HONG KONG: SEROTYPE-CLINICAL SYNDROME ASSOCIATION AND RISK FACTORS FOR LOWER RESPIRATORY TRACT INFECTION''</h2>"
      ],
      "text/plain": [
       "<IPython.core.display.HTML object>"
      ]
     },
     "metadata": {},
     "output_type": "display_data"
    },
    {
     "data": {
      "text/html": [
       "<p> Only one patient developed chronic pulmonary sequelae</p>"
      ],
      "text/plain": [
       "<IPython.core.display.HTML object>"
      ]
     },
     "metadata": {},
     "output_type": "display_data"
    },
    {
     "data": {
      "text/html": [
       "<p style='text-align:center'> *** </p>"
      ],
      "text/plain": [
       "<IPython.core.display.HTML object>"
      ]
     },
     "metadata": {},
     "output_type": "display_data"
    },
    {
     "data": {
      "text/html": [
       "<h3> ''SEVERE MORBIDITY AND MORTALITY ASSOCIATED WITH RESPIRATORY SYNCYTIAL VIRUS VERSUS INFLUENZA INFECTION IN HOSPITALIZED OLDER ADULTS''</h2>"
      ],
      "text/plain": [
       "<IPython.core.display.HTML object>"
      ]
     },
     "metadata": {},
     "output_type": "display_data"
    },
    {
     "data": {
      "text/html": [
       "<p> While increased baseline cardiopulmonary disease in the RSV cohort likely increased their risk of pulmonary complications, including exacerbation of chronic respiratory disease and asthma, these differences were observed after adjustment for comorbidities, including baseline cardiopulmonary disease</p>"
      ],
      "text/plain": [
       "<IPython.core.display.HTML object>"
      ]
     },
     "metadata": {},
     "output_type": "display_data"
    },
    {
     "data": {
      "text/html": [
       "<p style='text-align:center'> *** </p>"
      ],
      "text/plain": [
       "<IPython.core.display.HTML object>"
      ]
     },
     "metadata": {},
     "output_type": "display_data"
    },
    {
     "data": {
      "text/html": [
       "<h3> ''COMPARING HUMAN METAPNEUMOVIRUS AND RESPIRATORY SYNCYTIAL VIRUS: VIRAL CO- DETECTIONS, GENOTYPES AND RISK FACTORS FOR SEVERE DISEASE''</h2>"
      ],
      "text/plain": [
       "<IPython.core.display.HTML object>"
      ]
     },
     "metadata": {},
     "output_type": "display_data"
    },
    {
     "data": {
      "text/html": [
       "<p> Chronic airway diseases, other than asthma, included bronchopulmonary dysplasia, congenital airway malformations, cystic fibrosis and neuromuscular disorders with hypoventilation in need of respiratory support and daily inhalations for mucus clearance</p>"
      ],
      "text/plain": [
       "<IPython.core.display.HTML object>"
      ]
     },
     "metadata": {},
     "output_type": "display_data"
    },
    {
     "data": {
      "text/html": [
       "<p style='text-align:center'> *** </p>"
      ],
      "text/plain": [
       "<IPython.core.display.HTML object>"
      ]
     },
     "metadata": {},
     "output_type": "display_data"
    },
    {
     "data": {
      "text/html": [
       "<h3> ''EPIDEMIOLOGY OF VIRAL RESPIRATORY INFECTIONS IN CHILDREN UNDERGOING HEART SURGERY''</h2>"
      ],
      "text/plain": [
       "<IPython.core.display.HTML object>"
      ]
     },
     "metadata": {},
     "output_type": "display_data"
    },
    {
     "data": {
      "text/html": [
       "<p>Children with CHD have altered lung mechanics, decreased lung compliance and increased pulmonary vascular resistance</p>"
      ],
      "text/plain": [
       "<IPython.core.display.HTML object>"
      ]
     },
     "metadata": {},
     "output_type": "display_data"
    },
    {
     "data": {
      "text/html": [
       "<p style='text-align:center'> *** </p>"
      ],
      "text/plain": [
       "<IPython.core.display.HTML object>"
      ]
     },
     "metadata": {},
     "output_type": "display_data"
    },
    {
     "data": {
      "text/html": [
       "<h3> ''CLINICAL MANIFESTATIONS AND OUTCOMES OF RESPIRATORY SYNCYTIAL VIRUS INFECTION IN ADULT HOSPITALIZED PATIENTS''</h2>"
      ],
      "text/plain": [
       "<IPython.core.display.HTML object>"
      ]
     },
     "metadata": {},
     "output_type": "display_data"
    },
    {
     "data": {
      "text/html": [
       "<p> RSV, respiratory syncytial virus; ARI, acute respiratory illness; COPD, chronic obstructive pulmonary disease; HAP, hospital-acquired pneumonia; VAP, ventilator-associated pneumonia</p>"
      ],
      "text/plain": [
       "<IPython.core.display.HTML object>"
      ]
     },
     "metadata": {},
     "output_type": "display_data"
    },
    {
     "data": {
      "text/html": [
       "<p style='text-align:center'> *** </p>"
      ],
      "text/plain": [
       "<IPython.core.display.HTML object>"
      ]
     },
     "metadata": {},
     "output_type": "display_data"
    },
    {
     "data": {
      "text/html": [
       "<h3> ''RESPIRATORY DISEASE IN PREGNANCY''</h2>"
      ],
      "text/plain": [
       "<IPython.core.display.HTML object>"
      ]
     },
     "metadata": {},
     "output_type": "display_data"
    },
    {
     "data": {
      "text/html": [
       "<p> Coexisting maternal disease, including asthma and anaemia, and immunosuppressive therapy increase the risk of contracting pneumonia</p>"
      ],
      "text/plain": [
       "<IPython.core.display.HTML object>"
      ]
     },
     "metadata": {},
     "output_type": "display_data"
    },
    {
     "data": {
      "text/html": [
       "<p style='text-align:center'> *** </p>"
      ],
      "text/plain": [
       "<IPython.core.display.HTML object>"
      ]
     },
     "metadata": {},
     "output_type": "display_data"
    },
    {
     "data": {
      "text/html": [
       "<h3> ''A PROSPECTIVE STUDY OF RESPIRATORY VIRAL INFECTION IN PREGNANT WOMEN WITH AND WITHOUT ASTHMA''</h2>"
      ],
      "text/plain": [
       "<IPython.core.display.HTML object>"
      ]
     },
     "metadata": {},
     "output_type": "display_data"
    },
    {
     "data": {
      "text/html": [
       "<p> Prevention of respiratory viral infections may improve asthma outcomes during pregnancy</p>"
      ],
      "text/plain": [
       "<IPython.core.display.HTML object>"
      ]
     },
     "metadata": {},
     "output_type": "display_data"
    },
    {
     "data": {
      "text/html": [
       "<p style='text-align:center'> *** </p>"
      ],
      "text/plain": [
       "<IPython.core.display.HTML object>"
      ]
     },
     "metadata": {},
     "output_type": "display_data"
    },
    {
     "data": {
      "text/html": [
       "<h3> ''COMPARING HUMAN METAPNEUMOVIRUS AND RESPIRATORY SYNCYTIAL VIRUS: VIRAL CO- DETECTIONS, GENOTYPES AND RISK FACTORS FOR SEVERE DISEASE''</h2>"
      ],
      "text/plain": [
       "<IPython.core.display.HTML object>"
      ]
     },
     "metadata": {},
     "output_type": "display_data"
    },
    {
     "data": {
      "text/html": [
       "<p> d detection had one or more chronic diseases, including chronic airway diseases other than asthma</p>"
      ],
      "text/plain": [
       "<IPython.core.display.HTML object>"
      ]
     },
     "metadata": {},
     "output_type": "display_data"
    },
    {
     "data": {
      "text/html": [
       "<p style='text-align:center'> *** </p>"
      ],
      "text/plain": [
       "<IPython.core.display.HTML object>"
      ]
     },
     "metadata": {},
     "output_type": "display_data"
    },
    {
     "data": {
      "text/html": [
       "<h3> ''CLINICAL CHARACTERISTICS AND OUTCOME OF RESPIRATORY SYNCYTIAL VIRUS INFECTION AMONG ADULTS HOSPITALIZED WITH INFLUENZA-LIKE ILLNESS IN FRANCE''</h2>"
      ],
      "text/plain": [
       "<IPython.core.display.HTML object>"
      ]
     },
     "metadata": {},
     "output_type": "display_data"
    },
    {
     "data": {
      "text/html": [
       "<p> Furthermore, three patients had chronic heart disease</p>"
      ],
      "text/plain": [
       "<IPython.core.display.HTML object>"
      ]
     },
     "metadata": {},
     "output_type": "display_data"
    },
    {
     "data": {
      "text/html": [
       "<p style='text-align:center'> *** </p>"
      ],
      "text/plain": [
       "<IPython.core.display.HTML object>"
      ]
     },
     "metadata": {},
     "output_type": "display_data"
    },
    {
     "data": {
      "text/html": [
       "<h1>3. Co-infections (determine whether co-existing respiratory/viral infections make the virus more transmissible or virulent) and other co-morbidities</h1>"
      ],
      "text/plain": [
       "<IPython.core.display.HTML object>"
      ]
     },
     "metadata": {},
     "output_type": "display_data"
    },
    {
     "data": {
      "text/html": [
       "<h3> ''A PROSPECTIVE STUDY OF RESPIRATORY VIRAL INFECTION IN PREGNANT WOMEN WITH AND WITHOUT ASTHMA''</h2>"
      ],
      "text/plain": [
       "<IPython.core.display.HTML object>"
      ]
     },
     "metadata": {},
     "output_type": "display_data"
    },
    {
     "data": {
      "text/html": [
       "<p> 21 Pregnant women with asthma are at increased risk of preeclampsia compared with pregnant women without asthma</p>"
      ],
      "text/plain": [
       "<IPython.core.display.HTML object>"
      ]
     },
     "metadata": {},
     "output_type": "display_data"
    },
    {
     "data": {
      "text/html": [
       "<p style='text-align:center'> *** </p>"
      ],
      "text/plain": [
       "<IPython.core.display.HTML object>"
      ]
     },
     "metadata": {},
     "output_type": "display_data"
    },
    {
     "data": {
      "text/html": [
       "<h3> ''DOES AN UPPER RESPIRATORY TRACT INFECTION DURING PREGNANCY AFFECT PERINATAL OUTCOMES? A LITERATURE REVIEW''</h2>"
      ],
      "text/plain": [
       "<IPython.core.display.HTML object>"
      ]
     },
     "metadata": {},
     "output_type": "display_data"
    },
    {
     "data": {
      "text/html": [
       "<p> Therefore, pregnant women with pneumonia are usually hospitalized and monitored</p>"
      ],
      "text/plain": [
       "<IPython.core.display.HTML object>"
      ]
     },
     "metadata": {},
     "output_type": "display_data"
    },
    {
     "data": {
      "text/html": [
       "<p style='text-align:center'> *** </p>"
      ],
      "text/plain": [
       "<IPython.core.display.HTML object>"
      ]
     },
     "metadata": {},
     "output_type": "display_data"
    },
    {
     "data": {
      "text/html": [
       "<h3> ''EMERGING INFECTIONS AND PREGNANCY: WEST NILE VIRUS, MONKEYPOX, SEVERE ACUTE RESPIRATORY SYNDROME, AND BIOTERRORISM''</h2>"
      ],
      "text/plain": [
       "<IPython.core.display.HTML object>"
      ]
     },
     "metadata": {},
     "output_type": "display_data"
    },
    {
     "data": {
      "text/html": [
       "<p>Smallpox is generally more severe in pregnant women than in nonpregnant women or in men [46] </p>"
      ],
      "text/plain": [
       "<IPython.core.display.HTML object>"
      ]
     },
     "metadata": {},
     "output_type": "display_data"
    },
    {
     "data": {
      "text/html": [
       "<p style='text-align:center'> *** </p>"
      ],
      "text/plain": [
       "<IPython.core.display.HTML object>"
      ]
     },
     "metadata": {},
     "output_type": "display_data"
    },
    {
     "data": {
      "text/html": [
       "<h3> ''PREGNANCY AND INFECTION: USING DISEASE PATHOGENESIS TO INFORM VACCINE STRATEGY''</h2>"
      ],
      "text/plain": [
       "<IPython.core.display.HTML object>"
      ]
     },
     "metadata": {},
     "output_type": "display_data"
    },
    {
     "data": {
      "text/html": [
       "<p> 16 Several studies evaluating adverse vaccine reactions in pregnant women have concluded that there is no link between pregnancy complications or adverse fetal outcomes among women who are vaccinated during pregnancy</p>"
      ],
      "text/plain": [
       "<IPython.core.display.HTML object>"
      ]
     },
     "metadata": {},
     "output_type": "display_data"
    },
    {
     "data": {
      "text/html": [
       "<p style='text-align:center'> *** </p>"
      ],
      "text/plain": [
       "<IPython.core.display.HTML object>"
      ]
     },
     "metadata": {},
     "output_type": "display_data"
    },
    {
     "data": {
      "text/html": [
       "<h3> ''MATERNAL INFECTION AND ADVERSE FETAL AND NEONATAL OUTCOMES''</h2>"
      ],
      "text/plain": [
       "<IPython.core.display.HTML object>"
      ]
     },
     "metadata": {},
     "output_type": "display_data"
    },
    {
     "data": {
      "text/html": [
       "<p>3 million pregnant women are infected/colonized with CMV</p>"
      ],
      "text/plain": [
       "<IPython.core.display.HTML object>"
      ]
     },
     "metadata": {},
     "output_type": "display_data"
    },
    {
     "data": {
      "text/html": [
       "<p style='text-align:center'> *** </p>"
      ],
      "text/plain": [
       "<IPython.core.display.HTML object>"
      ]
     },
     "metadata": {},
     "output_type": "display_data"
    },
    {
     "data": {
      "text/html": [
       "<h3> ''PREGNANCY AND PERINATAL OUTCOMES OF WOMEN WITH SEVERE ACUTE RESPIRATORY SYNDROME''</h2>"
      ],
      "text/plain": [
       "<IPython.core.display.HTML object>"
      ]
     },
     "metadata": {},
     "output_type": "display_data"
    },
    {
     "data": {
      "text/html": [
       "<p>Pregnancies in the first trimester were identified by pregnancy tests offered to all female SARS patients suspected to be pregnant</p>"
      ],
      "text/plain": [
       "<IPython.core.display.HTML object>"
      ]
     },
     "metadata": {},
     "output_type": "display_data"
    },
    {
     "data": {
      "text/html": [
       "<p style='text-align:center'> *** </p>"
      ],
      "text/plain": [
       "<IPython.core.display.HTML object>"
      ]
     },
     "metadata": {},
     "output_type": "display_data"
    },
    {
     "data": {
      "text/html": [
       "<h3> ''OPEN FORUM INFECTIOUS DISEASES ® FEBRILE RHINOVIRUS ILLNESS DURING PREGNANCY IS ASSOCIATED WITH LOW BIRTH WEIGHT IN NEPAL''</h2>"
      ],
      "text/plain": [
       "<IPython.core.display.HTML object>"
      ]
     },
     "metadata": {},
     "output_type": "display_data"
    },
    {
     "data": {
      "text/html": [
       "<p> When comparing pregnant women with non-HRV febrile viral respiratory illness to those </p>"
      ],
      "text/plain": [
       "<IPython.core.display.HTML object>"
      ]
     },
     "metadata": {},
     "output_type": "display_data"
    },
    {
     "data": {
      "text/html": [
       "<p style='text-align:center'> *** </p>"
      ],
      "text/plain": [
       "<IPython.core.display.HTML object>"
      ]
     },
     "metadata": {},
     "output_type": "display_data"
    },
    {
     "data": {
      "text/html": [
       "<h3> ''A PROSPECTIVE STUDY OF RESPIRATORY VIRAL INFECTION IN PREGNANT WOMEN WITH AND WITHOUT ASTHMA''</h2>"
      ],
      "text/plain": [
       "<IPython.core.display.HTML object>"
      ]
     },
     "metadata": {},
     "output_type": "display_data"
    },
    {
     "data": {
      "text/html": [
       "<p>Pregnant women with asthma have more common colds during pregnancy than pregnant women without asthma, both by self-report and questionnaire</p>"
      ],
      "text/plain": [
       "<IPython.core.display.HTML object>"
      ]
     },
     "metadata": {},
     "output_type": "display_data"
    },
    {
     "data": {
      "text/html": [
       "<p style='text-align:center'> *** </p>"
      ],
      "text/plain": [
       "<IPython.core.display.HTML object>"
      ]
     },
     "metadata": {},
     "output_type": "display_data"
    },
    {
     "data": {
      "text/html": [
       "<h3> ''CLINICAL CHARACTERISTICS AND OUTCOMES OF RESPIRATORY SYNCYTIAL VIRUS INFECTION IN PREGNANT WOMEN''</h2>"
      ],
      "text/plain": [
       "<IPython.core.display.HTML object>"
      ]
     },
     "metadata": {},
     "output_type": "display_data"
    },
    {
     "data": {
      "text/html": [
       "<p>At their first enrollment there were 65 pregnant women with ARI and 90 healthy pregnant women controls</p>"
      ],
      "text/plain": [
       "<IPython.core.display.HTML object>"
      ]
     },
     "metadata": {},
     "output_type": "display_data"
    },
    {
     "data": {
      "text/html": [
       "<p style='text-align:center'> *** </p>"
      ],
      "text/plain": [
       "<IPython.core.display.HTML object>"
      ]
     },
     "metadata": {},
     "output_type": "display_data"
    },
    {
     "data": {
      "text/html": [
       "<h3> ''VIRAL RESPIRATORY INFECTIONS IN PRETERM INFANTS DURING AND AFTER HOSPITALIZATION''</h2>"
      ],
      "text/plain": [
       "<IPython.core.display.HTML object>"
      ]
     },
     "metadata": {},
     "output_type": "display_data"
    },
    {
     "data": {
      "text/html": [
       "<p> 1 Preterm infants suffer significant respiratory morbidity because of lung immaturity at birth, especially those born before 32 weeks gestation</p>"
      ],
      "text/plain": [
       "<IPython.core.display.HTML object>"
      ]
     },
     "metadata": {},
     "output_type": "display_data"
    },
    {
     "data": {
      "text/html": [
       "<p style='text-align:center'> *** </p>"
      ],
      "text/plain": [
       "<IPython.core.display.HTML object>"
      ]
     },
     "metadata": {},
     "output_type": "display_data"
    },
    {
     "data": {
      "text/html": [
       "<h1>4. Neonates and pregnant women</h1>"
      ],
      "text/plain": [
       "<IPython.core.display.HTML object>"
      ]
     },
     "metadata": {},
     "output_type": "display_data"
    },
    {
     "data": {
      "text/html": [
       "<h3> ''HUMAN METAPNEUMOVIRUS INFECTION IN JORDANIAN CHILDREN: EPIDEMIOLOGY AND RISK FACTORS FOR SEVERE DISEASE''</h2>"
      ],
      "text/plain": [
       "<IPython.core.display.HTML object>"
      ]
     },
     "metadata": {},
     "output_type": "display_data"
    },
    {
     "data": {
      "text/html": [
       "<p> Table 1 Viruses detected during acute respiratory tract infection admissions</p>"
      ],
      "text/plain": [
       "<IPython.core.display.HTML object>"
      ]
     },
     "metadata": {},
     "output_type": "display_data"
    },
    {
     "data": {
      "text/html": [
       "<p style='text-align:center'> *** </p>"
      ],
      "text/plain": [
       "<IPython.core.display.HTML object>"
      ]
     },
     "metadata": {},
     "output_type": "display_data"
    },
    {
     "data": {
      "text/html": [
       "<h3> ''PREVALENCE OF VIRAL RESPIRATORY TRACT INFECTIONS IN CHILDREN WITH ASTHMA''</h2>"
      ],
      "text/plain": [
       "<IPython.core.display.HTML object>"
      ]
     },
     "metadata": {},
     "output_type": "display_data"
    },
    {
     "data": {
      "text/html": [
       "<p>05) or symptomatic respiratory tract viral infections (39</p>"
      ],
      "text/plain": [
       "<IPython.core.display.HTML object>"
      ]
     },
     "metadata": {},
     "output_type": "display_data"
    },
    {
     "data": {
      "text/html": [
       "<p style='text-align:center'> *** </p>"
      ],
      "text/plain": [
       "<IPython.core.display.HTML object>"
      ]
     },
     "metadata": {},
     "output_type": "display_data"
    },
    {
     "data": {
      "text/html": [
       "<h3> ''HOSPITAL-ACQUIRED RESPIRATORY VIRAL INFECTIONS: INCIDENCE, MORBIDITY, AND MORTALITY IN PEDIATRIC AND ADULT PATIENTS''</h2>"
      ],
      "text/plain": [
       "<IPython.core.display.HTML object>"
      ]
     },
     "metadata": {},
     "output_type": "display_data"
    },
    {
     "data": {
      "text/html": [
       "<p> Despite this policy, nosocomial respiratory viral infections occurred</p>"
      ],
      "text/plain": [
       "<IPython.core.display.HTML object>"
      ]
     },
     "metadata": {},
     "output_type": "display_data"
    },
    {
     "data": {
      "text/html": [
       "<p style='text-align:center'> *** </p>"
      ],
      "text/plain": [
       "<IPython.core.display.HTML object>"
      ]
     },
     "metadata": {},
     "output_type": "display_data"
    },
    {
     "data": {
      "text/html": [
       "<h3> ''HUMAN METAPNEUMOVIRUS INFECTION IN JORDANIAN CHILDREN: EPIDEMIOLOGY AND RISK FACTORS FOR SEVERE DISEASE''</h2>"
      ],
      "text/plain": [
       "<IPython.core.display.HTML object>"
      ]
     },
     "metadata": {},
     "output_type": "display_data"
    },
    {
     "data": {
      "text/html": [
       "<p>Viral respiratory co-infection in young children is common</p>"
      ],
      "text/plain": [
       "<IPython.core.display.HTML object>"
      ]
     },
     "metadata": {},
     "output_type": "display_data"
    },
    {
     "data": {
      "text/html": [
       "<p style='text-align:center'> *** </p>"
      ],
      "text/plain": [
       "<IPython.core.display.HTML object>"
      ]
     },
     "metadata": {},
     "output_type": "display_data"
    },
    {
     "data": {
      "text/html": [
       "<h3> ''A PROSPECTIVE STUDY OF RESPIRATORY VIRAL INFECTION IN PREGNANT WOMEN WITH AND WITHOUT ASTHMA''</h2>"
      ],
      "text/plain": [
       "<IPython.core.display.HTML object>"
      ]
     },
     "metadata": {},
     "output_type": "display_data"
    },
    {
     "data": {
      "text/html": [
       "<p> Prevention of respiratory viral infections may improve asthma outcomes during pregnancy</p>"
      ],
      "text/plain": [
       "<IPython.core.display.HTML object>"
      ]
     },
     "metadata": {},
     "output_type": "display_data"
    },
    {
     "data": {
      "text/html": [
       "<p style='text-align:center'> *** </p>"
      ],
      "text/plain": [
       "<IPython.core.display.HTML object>"
      ]
     },
     "metadata": {},
     "output_type": "display_data"
    },
    {
     "data": {
      "text/html": [
       "<h3> ''HOSPITAL-ACQUIRED RESPIRATORY VIRAL INFECTIONS: INCIDENCE, MORBIDITY, AND MORTALITY IN PEDIATRIC AND ADULT PATIENTS''</h2>"
      ],
      "text/plain": [
       "<IPython.core.display.HTML object>"
      ]
     },
     "metadata": {},
     "output_type": "display_data"
    },
    {
     "data": {
      "text/html": [
       "<p> Thus, cases of nosocomial respiratory viral infections are often unrecognized</p>"
      ],
      "text/plain": [
       "<IPython.core.display.HTML object>"
      ]
     },
     "metadata": {},
     "output_type": "display_data"
    },
    {
     "data": {
      "text/html": [
       "<p style='text-align:center'> *** </p>"
      ],
      "text/plain": [
       "<IPython.core.display.HTML object>"
      ]
     },
     "metadata": {},
     "output_type": "display_data"
    },
    {
     "data": {
      "text/html": [
       "<h3> ''PREVENTING RESPIRATORY SYNCYTIAL VIRUS INFECTIONS IN HOSPITALIZED CHILDREN AND ADULTS: SHOULD WE DO BETTER? INFECTION PREVENTION IN PRACTICE''</h2>"
      ],
      "text/plain": [
       "<IPython.core.display.HTML object>"
      ]
     },
     "metadata": {},
     "output_type": "display_data"
    },
    {
     "data": {
      "text/html": [
       "<p>Respiratory syncytial virus (RSV) is associated with 19e81% of viral acute respiratory infections causing hospitalization in infants and children [1] </p>"
      ],
      "text/plain": [
       "<IPython.core.display.HTML object>"
      ]
     },
     "metadata": {},
     "output_type": "display_data"
    },
    {
     "data": {
      "text/html": [
       "<p style='text-align:center'> *** </p>"
      ],
      "text/plain": [
       "<IPython.core.display.HTML object>"
      ]
     },
     "metadata": {},
     "output_type": "display_data"
    },
    {
     "data": {
      "text/html": [
       "<h3> ''VIRAL INFECTIONS AND ASSOCIATED FACTORS THAT PROMOTE ACUTE EXACERBATIONS OF ASTHMA VIRAL INFECTION AND ASTHMA EXACERBATION VIRAL INFECTION AND ASTHMA EXACERBATION VIRAL INFECTION AND ASTHMA EXACERBATION''</h2>"
      ],
      "text/plain": [
       "<IPython.core.display.HTML object>"
      ]
     },
     "metadata": {},
     "output_type": "display_data"
    },
    {
     "data": {
      "text/html": [
       "<p> 1,2 Detection of both viruses and airway bacteria are associated with acute wheezing illnesses; specifically, co-infections of respiratory viruses and Moraxella catarrhalis, Hemophilus influenza, and/or Streptococcus pneumonia increases the risk for more severe respiratory illnesses and exacerbations of asthma</p>"
      ],
      "text/plain": [
       "<IPython.core.display.HTML object>"
      ]
     },
     "metadata": {},
     "output_type": "display_data"
    },
    {
     "data": {
      "text/html": [
       "<p style='text-align:center'> *** </p>"
      ],
      "text/plain": [
       "<IPython.core.display.HTML object>"
      ]
     },
     "metadata": {},
     "output_type": "display_data"
    },
    {
     "data": {
      "text/html": [
       "<h3> ''RISK OF MORTALITY ASSOCIATED WITH RESPIRATORY SYNCYTIAL VIRUS AND INFLUENZA INFECTION IN ADULTS''</h2>"
      ],
      "text/plain": [
       "<IPython.core.display.HTML object>"
      ]
     },
     "metadata": {},
     "output_type": "display_data"
    },
    {
     "data": {
      "text/html": [
       "<p> Thus, the results may underestimate RSV infection or influenza in lower respiratory tract infection</p>"
      ],
      "text/plain": [
       "<IPython.core.display.HTML object>"
      ]
     },
     "metadata": {},
     "output_type": "display_data"
    },
    {
     "data": {
      "text/html": [
       "<p style='text-align:center'> *** </p>"
      ],
      "text/plain": [
       "<IPython.core.display.HTML object>"
      ]
     },
     "metadata": {},
     "output_type": "display_data"
    },
    {
     "data": {
      "text/html": [
       "<h3> ''RESPIRATORY VIRUS INFECTION AMONG HOSPITALIZED ADULT PATIENTS WITH OR WITHOUT CLINICALLY APPARENT RESPIRATORY INFECTION: A PROSPECTIVE COHORT STUDY''</h2>"
      ],
      "text/plain": [
       "<IPython.core.display.HTML object>"
      ]
     },
     "metadata": {},
     "output_type": "display_data"
    },
    {
     "data": {
      "text/html": [
       "<p> However, non-respiratory symptoms and extrapulmonary complications are common among patients with respiratory virus infection [15e18] </p>"
      ],
      "text/plain": [
       "<IPython.core.display.HTML object>"
      ]
     },
     "metadata": {},
     "output_type": "display_data"
    },
    {
     "data": {
      "text/html": [
       "<p style='text-align:center'> *** </p>"
      ],
      "text/plain": [
       "<IPython.core.display.HTML object>"
      ]
     },
     "metadata": {},
     "output_type": "display_data"
    },
    {
     "data": {
      "text/html": [
       "<h1>5. Socio-economic and behavioral factors to understand the economic impact of the virus and whether there were differences.</h1>"
      ],
      "text/plain": [
       "<IPython.core.display.HTML object>"
      ]
     },
     "metadata": {},
     "output_type": "display_data"
    },
    {
     "data": {
      "text/html": [
       "<h3> ''HUMAN METAPNEUMOVIRUS INFECTION IN JORDANIAN CHILDREN: EPIDEMIOLOGY AND RISK FACTORS FOR SEVERE DISEASE''</h2>"
      ],
      "text/plain": [
       "<IPython.core.display.HTML object>"
      ]
     },
     "metadata": {},
     "output_type": "display_data"
    },
    {
     "data": {
      "text/html": [
       "<p> Prematurity and daycare are underrepresented factors in this population, highlighting that factors contributing to severe disease differ substantially between geographic and developing regions</p>"
      ],
      "text/plain": [
       "<IPython.core.display.HTML object>"
      ]
     },
     "metadata": {},
     "output_type": "display_data"
    },
    {
     "data": {
      "text/html": [
       "<p style='text-align:center'> *** </p>"
      ],
      "text/plain": [
       "<IPython.core.display.HTML object>"
      ]
     },
     "metadata": {},
     "output_type": "display_data"
    },
    {
     "data": {
      "text/html": [
       "<h3> ''VIRUSES CAUSING LOWER RESPIRATORY SYMPTOMS IN YOUNG CHILDREN: FINDINGS FROM THE ORCHID BIRTH COHORT RESPIRATORY INFECTION''</h2>"
      ],
      "text/plain": [
       "<IPython.core.display.HTML object>"
      ]
     },
     "metadata": {},
     "output_type": "display_data"
    },
    {
     "data": {
      "text/html": [
       "<p>► The virus-specific attributable risk of ARIs is a population-level metric to inform causal inference in the aetiology of ARIs and provides quantitative estimates of the relative proportions of virus-associated ARIs in the community, yielding important insights for prioritising public health interventions</p>"
      ],
      "text/plain": [
       "<IPython.core.display.HTML object>"
      ]
     },
     "metadata": {},
     "output_type": "display_data"
    },
    {
     "data": {
      "text/html": [
       "<p style='text-align:center'> *** </p>"
      ],
      "text/plain": [
       "<IPython.core.display.HTML object>"
      ]
     },
     "metadata": {},
     "output_type": "display_data"
    },
    {
     "data": {
      "text/html": [
       "<h3> ''OBESITY AND RISK OF RESPIRATORY TRACT INFECTIONS: RESULTS OF AN INFECTION-DIARY BASED COHORT STUDY''</h2>"
      ],
      "text/plain": [
       "<IPython.core.display.HTML object>"
      ]
     },
     "metadata": {},
     "output_type": "display_data"
    },
    {
     "data": {
      "text/html": [
       "<p> This supports arguments that the observed associations between obesity and RTI burden are due to physiological differences in the immune responsiveness between obese and non-obese individuals rather than lifestyle differences</p>"
      ],
      "text/plain": [
       "<IPython.core.display.HTML object>"
      ]
     },
     "metadata": {},
     "output_type": "display_data"
    },
    {
     "data": {
      "text/html": [
       "<p style='text-align:center'> *** </p>"
      ],
      "text/plain": [
       "<IPython.core.display.HTML object>"
      ]
     },
     "metadata": {},
     "output_type": "display_data"
    },
    {
     "data": {
      "text/html": [
       "<h3> ''HUMAN METAPNEUMOVIRUS INFECTION IN JORDANIAN CHILDREN: EPIDEMIOLOGY AND RISK FACTORS FOR SEVERE DISEASE''</h2>"
      ],
      "text/plain": [
       "<IPython.core.display.HTML object>"
      ]
     },
     "metadata": {},
     "output_type": "display_data"
    },
    {
     "data": {
      "text/html": [
       "<p> Our study highlights that the epidemiology of established risk factors are unique to specific populations</p>"
      ],
      "text/plain": [
       "<IPython.core.display.HTML object>"
      ]
     },
     "metadata": {},
     "output_type": "display_data"
    },
    {
     "data": {
      "text/html": [
       "<p style='text-align:center'> *** </p>"
      ],
      "text/plain": [
       "<IPython.core.display.HTML object>"
      ]
     },
     "metadata": {},
     "output_type": "display_data"
    },
    {
     "data": {
      "text/html": [
       "<h3> ''VIRAL ETIOLOGIES OF HOSPITALIZED ACUTE LOWER RESPIRATORY INFECTION PATIENTS IN CHINA''</h2>"
      ],
      "text/plain": [
       "<IPython.core.display.HTML object>"
      ]
     },
     "metadata": {},
     "output_type": "display_data"
    },
    {
     "data": {
      "text/html": [
       "<p> These preliminary results indicate that more robust surveillance data and evaluations are needed to estimate the disease burden and to understand whether geographic areas, climate and other environmental factors and patterns of human behavior influence the timing and severity of epidemics associated with these viral agents</p>"
      ],
      "text/plain": [
       "<IPython.core.display.HTML object>"
      ]
     },
     "metadata": {},
     "output_type": "display_data"
    },
    {
     "data": {
      "text/html": [
       "<p style='text-align:center'> *** </p>"
      ],
      "text/plain": [
       "<IPython.core.display.HTML object>"
      ]
     },
     "metadata": {},
     "output_type": "display_data"
    },
    {
     "data": {
      "text/html": [
       "<h3> ''OUTCOME RISK FACTORS DURING RESPIRATORY INFECTIONS IN A PAEDIATRIC WARD IN ANTANANARIVO''</h2>"
      ],
      "text/plain": [
       "<IPython.core.display.HTML object>"
      ]
     },
     "metadata": {},
     "output_type": "display_data"
    },
    {
     "data": {
      "text/html": [
       "<p>Demographic, socio-economic, clinical and epidemiological data were recorded in case report forms (CRFs)</p>"
      ],
      "text/plain": [
       "<IPython.core.display.HTML object>"
      ]
     },
     "metadata": {},
     "output_type": "display_data"
    },
    {
     "data": {
      "text/html": [
       "<p style='text-align:center'> *** </p>"
      ],
      "text/plain": [
       "<IPython.core.display.HTML object>"
      ]
     },
     "metadata": {},
     "output_type": "display_data"
    },
    {
     "data": {
      "text/html": [
       "<h3> ''SEVERE LOWER RESPIRATORY TRACT INFECTION IN INFANTS AND TODDLERS FROM A NON-AFFLUENT POPULATION: VIRAL ETIOLOGY AND CO-DETECTION AS RISK FACTORS''</h2>"
      ],
      "text/plain": [
       "<IPython.core.display.HTML object>"
      ]
     },
     "metadata": {},
     "output_type": "display_data"
    },
    {
     "data": {
      "text/html": [
       "<p> Our data also reinforce previous findings that identified RSV as the major agent associated with severe LRTIs among children in a hospital setting, in populations of low socio-economic status, where other environmental and social variables potentially play a role [16, 17] </p>"
      ],
      "text/plain": [
       "<IPython.core.display.HTML object>"
      ]
     },
     "metadata": {},
     "output_type": "display_data"
    },
    {
     "data": {
      "text/html": [
       "<p style='text-align:center'> *** </p>"
      ],
      "text/plain": [
       "<IPython.core.display.HTML object>"
      ]
     },
     "metadata": {},
     "output_type": "display_data"
    },
    {
     "data": {
      "text/html": [
       "<h3> ''DOES AN UPPER RESPIRATORY TRACT INFECTION DURING PREGNANCY AFFECT PERINATAL OUTCOMES? A LITERATURE REVIEW''</h2>"
      ],
      "text/plain": [
       "<IPython.core.display.HTML object>"
      ]
     },
     "metadata": {},
     "output_type": "display_data"
    },
    {
     "data": {
      "text/html": [
       "<p>Few data exist on the explicit topic of URTI and adverse perinatal outcomes</p>"
      ],
      "text/plain": [
       "<IPython.core.display.HTML object>"
      ]
     },
     "metadata": {},
     "output_type": "display_data"
    },
    {
     "data": {
      "text/html": [
       "<p style='text-align:center'> *** </p>"
      ],
      "text/plain": [
       "<IPython.core.display.HTML object>"
      ]
     },
     "metadata": {},
     "output_type": "display_data"
    },
    {
     "data": {
      "text/html": [
       "<h3> ''MATERNAL INFECTION AND ADVERSE FETAL AND NEONATAL OUTCOMES''</h2>"
      ],
      "text/plain": [
       "<IPython.core.display.HTML object>"
      ]
     },
     "metadata": {},
     "output_type": "display_data"
    },
    {
     "data": {
      "text/html": [
       "<p> These differences may reflect differences in study design, laboratory methodology, or population differences (race and socioeconomic status or size of study population), or case definition</p>"
      ],
      "text/plain": [
       "<IPython.core.display.HTML object>"
      ]
     },
     "metadata": {},
     "output_type": "display_data"
    },
    {
     "data": {
      "text/html": [
       "<p style='text-align:center'> *** </p>"
      ],
      "text/plain": [
       "<IPython.core.display.HTML object>"
      ]
     },
     "metadata": {},
     "output_type": "display_data"
    },
    {
     "data": {
      "text/html": [
       "<h3> ''EPIDEMIOLOGY OF SEVERE ACUTE RESPIRATORY ILLNESS AND RISK FACTORS FOR INFLUENZA INFECTION AND CLINICAL SEVERITY AMONG ADULTS IN MALAWI, 2011-2013''</h2>"
      ],
      "text/plain": [
       "<IPython.core.display.HTML object>"
      ]
     },
     "metadata": {},
     "output_type": "display_data"
    },
    {
     "data": {
      "text/html": [
       "<p> A recent systematic review concluded that most of the sub-Saharan African countries had insufficient epidemiological data to develop rational strategies for influenza prevention and control</p>"
      ],
      "text/plain": [
       "<IPython.core.display.HTML object>"
      ]
     },
     "metadata": {},
     "output_type": "display_data"
    },
    {
     "data": {
      "text/html": [
       "<p style='text-align:center'> *** </p>"
      ],
      "text/plain": [
       "<IPython.core.display.HTML object>"
      ]
     },
     "metadata": {},
     "output_type": "display_data"
    },
    {
     "data": {
      "text/html": [
       "<h1>6. Transmission dynamics of the virus, including the basic reproductive number, incubation period, serial interval, modes of transmission and environmental factors</h1>"
      ],
      "text/plain": [
       "<IPython.core.display.HTML object>"
      ]
     },
     "metadata": {},
     "output_type": "display_data"
    },
    {
     "data": {
      "text/html": [
       "<h3> ''INCIDENCE AND IMPLICATIONS OF UNRECOGNIZED VIRAL RESPIRATORY TRACT INFECTIONS IN PREMATURE INFANTS DURING THEIR BIRTH HOSPITALIZATION: A PROSPECTIVE SURVEILLANCE STUDY IN TWO NEONATAL INTENSIVE CARE UNITS NIH PUBLIC ACCESS''</h2>"
      ],
      "text/plain": [
       "<IPython.core.display.HTML object>"
      ]
     },
     "metadata": {},
     "output_type": "display_data"
    },
    {
     "data": {
      "text/html": [
       "<p>We documented transmission of respiratory pathogens to premature neonates during their birth hospitalization despite presumed vigilance related to infection control practices in these high-risk settings</p>"
      ],
      "text/plain": [
       "<IPython.core.display.HTML object>"
      ]
     },
     "metadata": {},
     "output_type": "display_data"
    },
    {
     "data": {
      "text/html": [
       "<p style='text-align:center'> *** </p>"
      ],
      "text/plain": [
       "<IPython.core.display.HTML object>"
      ]
     },
     "metadata": {},
     "output_type": "display_data"
    },
    {
     "data": {
      "text/html": [
       "<h3> ''OPEN FORUM INFECTIOUS DISEASES ® FEBRILE RHINOVIRUS ILLNESS DURING PREGNANCY IS ASSOCIATED WITH LOW BIRTH WEIGHT IN NEPAL''</h2>"
      ],
      "text/plain": [
       "<IPython.core.display.HTML object>"
      ]
     },
     "metadata": {},
     "output_type": "display_data"
    },
    {
     "data": {
      "text/html": [
       "<p> Limited data exist examining the relationship between HRV infection during pregnancy and adverse birth outcomes</p>"
      ],
      "text/plain": [
       "<IPython.core.display.HTML object>"
      ]
     },
     "metadata": {},
     "output_type": "display_data"
    },
    {
     "data": {
      "text/html": [
       "<p style='text-align:center'> *** </p>"
      ],
      "text/plain": [
       "<IPython.core.display.HTML object>"
      ]
     },
     "metadata": {},
     "output_type": "display_data"
    },
    {
     "data": {
      "text/html": [
       "<h3> ''PREGNANCY AND INFECTION: USING DISEASE PATHOGENESIS TO INFORM VACCINE STRATEGY''</h2>"
      ],
      "text/plain": [
       "<IPython.core.display.HTML object>"
      ]
     },
     "metadata": {},
     "output_type": "display_data"
    },
    {
     "data": {
      "text/html": [
       "<p> 56 More research on the pathogenesis CMV infection is needed to define immunological correlates of protection against CMV transmission during pregnancy to inform vaccine development</p>"
      ],
      "text/plain": [
       "<IPython.core.display.HTML object>"
      ]
     },
     "metadata": {},
     "output_type": "display_data"
    },
    {
     "data": {
      "text/html": [
       "<p style='text-align:center'> *** </p>"
      ],
      "text/plain": [
       "<IPython.core.display.HTML object>"
      ]
     },
     "metadata": {},
     "output_type": "display_data"
    },
    {
     "data": {
      "text/html": [
       "<h3> ''PREGNANCY AND INFECTION: USING DISEASE PATHOGENESIS TO INFORM VACCINE STRATEGY''</h2>"
      ],
      "text/plain": [
       "<IPython.core.display.HTML object>"
      ]
     },
     "metadata": {},
     "output_type": "display_data"
    },
    {
     "data": {
      "text/html": [
       "<p> Understanding the pathogenesis of infectious diseases during pregnancy should inform vaccine design and the implementation of appropriate immunization protocols that optimize protection of pregnant women, fetuses and neonates they breach the placental barrier during critical developmental periods during pregnancy</p>"
      ],
      "text/plain": [
       "<IPython.core.display.HTML object>"
      ]
     },
     "metadata": {},
     "output_type": "display_data"
    },
    {
     "data": {
      "text/html": [
       "<p style='text-align:center'> *** </p>"
      ],
      "text/plain": [
       "<IPython.core.display.HTML object>"
      ]
     },
     "metadata": {},
     "output_type": "display_data"
    },
    {
     "data": {
      "text/html": [
       "<h3> ''OPEN FORUM INFECTIOUS DISEASES ® FEBRILE RHINOVIRUS ILLNESS DURING PREGNANCY IS ASSOCIATED WITH LOW BIRTH WEIGHT IN NEPAL''</h2>"
      ],
      "text/plain": [
       "<IPython.core.display.HTML object>"
      ]
     },
     "metadata": {},
     "output_type": "display_data"
    },
    {
     "data": {
      "text/html": [
       "<p> Identification of a relationship between HRV infection during pregnancy and adverse birth outcomes has the potential to drive improvement of diagnostics, infection control measures, and treatment options for HRV infection</p>"
      ],
      "text/plain": [
       "<IPython.core.display.HTML object>"
      ]
     },
     "metadata": {},
     "output_type": "display_data"
    },
    {
     "data": {
      "text/html": [
       "<p style='text-align:center'> *** </p>"
      ],
      "text/plain": [
       "<IPython.core.display.HTML object>"
      ]
     },
     "metadata": {},
     "output_type": "display_data"
    },
    {
     "data": {
      "text/html": [
       "<h3> ''POSTNATAL INFECTIONS AND IMMUNOLOGY AFFECTING CHRONIC LUNG DISEASE OF PREMATURITY''</h2>"
      ],
      "text/plain": [
       "<IPython.core.display.HTML object>"
      ]
     },
     "metadata": {},
     "output_type": "display_data"
    },
    {
     "data": {
      "text/html": [
       "<p> 130 The fetal and neonatal periods are unique immune developmental stages in which adaptive responses are highly plastic and dependent on gestational age</p>"
      ],
      "text/plain": [
       "<IPython.core.display.HTML object>"
      ]
     },
     "metadata": {},
     "output_type": "display_data"
    },
    {
     "data": {
      "text/html": [
       "<p style='text-align:center'> *** </p>"
      ],
      "text/plain": [
       "<IPython.core.display.HTML object>"
      ]
     },
     "metadata": {},
     "output_type": "display_data"
    },
    {
     "data": {
      "text/html": [
       "<h3> ''POSTNATAL INFECTIONS AND IMMUNOLOGY AFFECTING CHRONIC LUNG DISEASE OF PREMATURITY''</h2>"
      ],
      "text/plain": [
       "<IPython.core.display.HTML object>"
      ]
     },
     "metadata": {},
     "output_type": "display_data"
    },
    {
     "data": {
      "text/html": [
       "<p> 114 A number of additional studies, evaluating exome sequencing in extremes of disease, epigenomic regulation, transcriptome responses to exposures such as hyperoxia, and pathway analyses are ongoing to identify gene and gene regulatory susceptibility factors involved in pathogenesis of BPD</p>"
      ],
      "text/plain": [
       "<IPython.core.display.HTML object>"
      ]
     },
     "metadata": {},
     "output_type": "display_data"
    },
    {
     "data": {
      "text/html": [
       "<p style='text-align:center'> *** </p>"
      ],
      "text/plain": [
       "<IPython.core.display.HTML object>"
      ]
     },
     "metadata": {},
     "output_type": "display_data"
    },
    {
     "data": {
      "text/html": [
       "<h3> ''MATERNAL INFECTION AND ADVERSE FETAL AND NEONATAL OUTCOMES''</h2>"
      ],
      "text/plain": [
       "<IPython.core.display.HTML object>"
      ]
     },
     "metadata": {},
     "output_type": "display_data"
    },
    {
     "data": {
      "text/html": [
       "<p> Transmission rates to the fetus vary depending on whether the infection is primary or recurrent</p>"
      ],
      "text/plain": [
       "<IPython.core.display.HTML object>"
      ]
     },
     "metadata": {},
     "output_type": "display_data"
    },
    {
     "data": {
      "text/html": [
       "<p style='text-align:center'> *** </p>"
      ],
      "text/plain": [
       "<IPython.core.display.HTML object>"
      ]
     },
     "metadata": {},
     "output_type": "display_data"
    },
    {
     "data": {
      "text/html": [
       "<h3> ''PREGNANCY AND INFECTION: USING DISEASE PATHOGENESIS TO INFORM VACCINE STRATEGY''</h2>"
      ],
      "text/plain": [
       "<IPython.core.display.HTML object>"
      ]
     },
     "metadata": {},
     "output_type": "display_data"
    },
    {
     "data": {
      "text/html": [
       "<p> 6 Overall, vertical transmission of these viruses is relatively uncommon, but adverse pregnancy outcomes, including spontaneous abortion and pre-term birth can still occur as an indirect consequence of maternal inflammation</p>"
      ],
      "text/plain": [
       "<IPython.core.display.HTML object>"
      ]
     },
     "metadata": {},
     "output_type": "display_data"
    },
    {
     "data": {
      "text/html": [
       "<p style='text-align:center'> *** </p>"
      ],
      "text/plain": [
       "<IPython.core.display.HTML object>"
      ]
     },
     "metadata": {},
     "output_type": "display_data"
    },
    {
     "data": {
      "text/html": [
       "<h3> ''POSTNATAL INFECTIONS AND IMMUNOLOGY AFFECTING CHRONIC LUNG DISEASE OF PREMATURITY''</h2>"
      ],
      "text/plain": [
       "<IPython.core.display.HTML object>"
      ]
     },
     "metadata": {},
     "output_type": "display_data"
    },
    {
     "data": {
      "text/html": [
       "<p> Perinatal therapeutic and environmental exposures, most notably oxygen exposure and environmental tobacco smoke, have been reproducibly related to chronic respiratory morbidity, independent of mechanical ventilation and Pryhuber the diagnosis of BPD</p>"
      ],
      "text/plain": [
       "<IPython.core.display.HTML object>"
      ]
     },
     "metadata": {},
     "output_type": "display_data"
    },
    {
     "data": {
      "text/html": [
       "<p style='text-align:center'> *** </p>"
      ],
      "text/plain": [
       "<IPython.core.display.HTML object>"
      ]
     },
     "metadata": {},
     "output_type": "display_data"
    },
    {
     "data": {
      "text/html": [
       "<h1>7. Severity of disease, including risk of fatality among symptomatic hospitalized patients, and high-risk patient groups</h1>"
      ],
      "text/plain": [
       "<IPython.core.display.HTML object>"
      ]
     },
     "metadata": {},
     "output_type": "display_data"
    },
    {
     "data": {
      "text/html": [
       "<h3> ''CLINICAL CHARACTERISTICS AND OUTCOME OF RESPIRATORY SYNCYTIAL VIRUS INFECTION AMONG ADULTS HOSPITALIZED WITH INFLUENZA-LIKE ILLNESS IN FRANCE''</h2>"
      ],
      "text/plain": [
       "<IPython.core.display.HTML object>"
      ]
     },
     "metadata": {},
     "output_type": "display_data"
    },
    {
     "data": {
      "text/html": [
       "<p> that underlying pulmonary disease was a significant risk factor for severe RSV illness requiring hospitalization [18] </p>"
      ],
      "text/plain": [
       "<IPython.core.display.HTML object>"
      ]
     },
     "metadata": {},
     "output_type": "display_data"
    },
    {
     "data": {
      "text/html": [
       "<p style='text-align:center'> *** </p>"
      ],
      "text/plain": [
       "<IPython.core.display.HTML object>"
      ]
     },
     "metadata": {},
     "output_type": "display_data"
    },
    {
     "data": {
      "text/html": [
       "<h3> ''CLINICAL MANIFESTATIONS AND OUTCOMES OF RESPIRATORY SYNCYTIAL VIRUS INFECTION IN ADULT HOSPITALIZED PATIENTS''</h2>"
      ],
      "text/plain": [
       "<IPython.core.display.HTML object>"
      ]
     },
     "metadata": {},
     "output_type": "display_data"
    },
    {
     "data": {
      "text/html": [
       "<p> The pre-existing coronary arterial disease (CAD) was the risk factor of overall cardiovascular complications in hospitalized adult patients with RSV infection with odds ratio 6</p>"
      ],
      "text/plain": [
       "<IPython.core.display.HTML object>"
      ]
     },
     "metadata": {},
     "output_type": "display_data"
    },
    {
     "data": {
      "text/html": [
       "<p style='text-align:center'> *** </p>"
      ],
      "text/plain": [
       "<IPython.core.display.HTML object>"
      ]
     },
     "metadata": {},
     "output_type": "display_data"
    },
    {
     "data": {
      "text/html": [
       "<h3> ''SEVERE MORBIDITY AND MORTALITY ASSOCIATED WITH RESPIRATORY SYNCYTIAL VIRUS VERSUS INFLUENZA INFECTION IN HOSPITALIZED OLDER ADULTS''</h2>"
      ],
      "text/plain": [
       "<IPython.core.display.HTML object>"
      ]
     },
     "metadata": {},
     "output_type": "display_data"
    },
    {
     "data": {
      "text/html": [
       "<p> While increased baseline cardiopulmonary disease in the RSV cohort likely increased their risk of pulmonary complications, including exacerbation of chronic respiratory disease and asthma, these differences were observed after adjustment for comorbidities, including baseline cardiopulmonary disease</p>"
      ],
      "text/plain": [
       "<IPython.core.display.HTML object>"
      ]
     },
     "metadata": {},
     "output_type": "display_data"
    },
    {
     "data": {
      "text/html": [
       "<p style='text-align:center'> *** </p>"
      ],
      "text/plain": [
       "<IPython.core.display.HTML object>"
      ]
     },
     "metadata": {},
     "output_type": "display_data"
    },
    {
     "data": {
      "text/html": [
       "<h3> ''OPEN FORUM INFECTIOUS DISEASES ® FEBRILE RHINOVIRUS ILLNESS DURING PREGNANCY IS ASSOCIATED WITH LOW BIRTH WEIGHT IN NEPAL''</h2>"
      ],
      "text/plain": [
       "<IPython.core.display.HTML object>"
      ]
     },
     "metadata": {},
     "output_type": "display_data"
    },
    {
     "data": {
      "text/html": [
       "<p>Pregnant women are at high risk for severe complications due to influenza, with increased rates of morbidity, mortality, and adverse fetal outcomes most clearly demonstrated with 2009 pandemic H1N1 [28] </p>"
      ],
      "text/plain": [
       "<IPython.core.display.HTML object>"
      ]
     },
     "metadata": {},
     "output_type": "display_data"
    },
    {
     "data": {
      "text/html": [
       "<p style='text-align:center'> *** </p>"
      ],
      "text/plain": [
       "<IPython.core.display.HTML object>"
      ]
     },
     "metadata": {},
     "output_type": "display_data"
    },
    {
     "data": {
      "text/html": [
       "<h3> ''PREGNANCY AND PERINATAL OUTCOMES OF WOMEN WITH SEVERE ACUTE RESPIRATORY SYNDROME''</h2>"
      ],
      "text/plain": [
       "<IPython.core.display.HTML object>"
      ]
     },
     "metadata": {},
     "output_type": "display_data"
    },
    {
     "data": {
      "text/html": [
       "<p> Given the significant maternal and perinatal morbidity and mortality of most viral pneumonia in pregnancy, SARS may impose greater risk in pregnant compared to nonpregnant individuals</p>"
      ],
      "text/plain": [
       "<IPython.core.display.HTML object>"
      ]
     },
     "metadata": {},
     "output_type": "display_data"
    },
    {
     "data": {
      "text/html": [
       "<p style='text-align:center'> *** </p>"
      ],
      "text/plain": [
       "<IPython.core.display.HTML object>"
      ]
     },
     "metadata": {},
     "output_type": "display_data"
    },
    {
     "data": {
      "text/html": [
       "<h3> ''COMPARING HUMAN METAPNEUMOVIRUS AND RESPIRATORY SYNCYTIAL VIRUS: VIRAL CO- DETECTIONS, GENOTYPES AND RISK FACTORS FOR SEVERE DISEASE''</h2>"
      ],
      "text/plain": [
       "<IPython.core.display.HTML object>"
      ]
     },
     "metadata": {},
     "output_type": "display_data"
    },
    {
     "data": {
      "text/html": [
       "<p> A history of prematurity and chronic disease increased the risk of severe LRTI among HMPV-and RSV-infected children</p>"
      ],
      "text/plain": [
       "<IPython.core.display.HTML object>"
      ]
     },
     "metadata": {},
     "output_type": "display_data"
    },
    {
     "data": {
      "text/html": [
       "<p style='text-align:center'> *** </p>"
      ],
      "text/plain": [
       "<IPython.core.display.HTML object>"
      ]
     },
     "metadata": {},
     "output_type": "display_data"
    },
    {
     "data": {
      "text/html": [
       "<h3> ''RESPIRATORY DISEASE IN PREGNANCY''</h2>"
      ],
      "text/plain": [
       "<IPython.core.display.HTML object>"
      ]
     },
     "metadata": {},
     "output_type": "display_data"
    },
    {
     "data": {
      "text/html": [
       "<p> There is an increased risk of serious maternal complications, including respiratory failure</p>"
      ],
      "text/plain": [
       "<IPython.core.display.HTML object>"
      ]
     },
     "metadata": {},
     "output_type": "display_data"
    },
    {
     "data": {
      "text/html": [
       "<p style='text-align:center'> *** </p>"
      ],
      "text/plain": [
       "<IPython.core.display.HTML object>"
      ]
     },
     "metadata": {},
     "output_type": "display_data"
    },
    {
     "data": {
      "text/html": [
       "<h3> ''RISK OF MORTALITY ASSOCIATED WITH RESPIRATORY SYNCYTIAL VIRUS AND INFLUENZA INFECTION IN ADULTS''</h2>"
      ],
      "text/plain": [
       "<IPython.core.display.HTML object>"
      ]
     },
     "metadata": {},
     "output_type": "display_data"
    },
    {
     "data": {
      "text/html": [
       "<p>All-cause 20-day mortality rates were higher in RSV patients than in influenza patients (18</p>"
      ],
      "text/plain": [
       "<IPython.core.display.HTML object>"
      ]
     },
     "metadata": {},
     "output_type": "display_data"
    },
    {
     "data": {
      "text/html": [
       "<p style='text-align:center'> *** </p>"
      ],
      "text/plain": [
       "<IPython.core.display.HTML object>"
      ]
     },
     "metadata": {},
     "output_type": "display_data"
    },
    {
     "data": {
      "text/html": [
       "<h3> ''RISK OF MORTALITY ASSOCIATED WITH RESPIRATORY SYNCYTIAL VIRUS AND INFLUENZA INFECTION IN ADULTS''</h2>"
      ],
      "text/plain": [
       "<IPython.core.display.HTML object>"
      ]
     },
     "metadata": {},
     "output_type": "display_data"
    },
    {
     "data": {
      "text/html": [
       "<p> RSV infection can cause significant morbidity in hospitalized patients, with mortality rates up to 12% [12] </p>"
      ],
      "text/plain": [
       "<IPython.core.display.HTML object>"
      ]
     },
     "metadata": {},
     "output_type": "display_data"
    },
    {
     "data": {
      "text/html": [
       "<p style='text-align:center'> *** </p>"
      ],
      "text/plain": [
       "<IPython.core.display.HTML object>"
      ]
     },
     "metadata": {},
     "output_type": "display_data"
    },
    {
     "data": {
      "text/html": [
       "<h3> ''HUMAN METAPNEUMOVIRUS INFECTION IN JORDANIAN CHILDREN: EPIDEMIOLOGY AND RISK FACTORS FOR SEVERE DISEASE''</h2>"
      ],
      "text/plain": [
       "<IPython.core.display.HTML object>"
      ]
     },
     "metadata": {},
     "output_type": "display_data"
    },
    {
     "data": {
      "text/html": [
       "<p> Previous studies have used hospitalization, clinical severity scores, and ICU mortality as markers of disease severity</p>"
      ],
      "text/plain": [
       "<IPython.core.display.HTML object>"
      ]
     },
     "metadata": {},
     "output_type": "display_data"
    },
    {
     "data": {
      "text/html": [
       "<p style='text-align:center'> *** </p>"
      ],
      "text/plain": [
       "<IPython.core.display.HTML object>"
      ]
     },
     "metadata": {},
     "output_type": "display_data"
    },
    {
     "data": {
      "text/html": [
       "<h1>8. Susceptibility of populations</h1>"
      ],
      "text/plain": [
       "<IPython.core.display.HTML object>"
      ]
     },
     "metadata": {},
     "output_type": "display_data"
    },
    {
     "data": {
      "text/html": [
       "<h3> ''POSTNATAL INFECTIONS AND IMMUNOLOGY AFFECTING CHRONIC LUNG DISEASE OF PREMATURITY''</h2>"
      ],
      "text/plain": [
       "<IPython.core.display.HTML object>"
      ]
     },
     "metadata": {},
     "output_type": "display_data"
    },
    {
     "data": {
      "text/html": [
       "<p> 111 In infants, twin studies suggest significant genetic susceptibility to BPD</p>"
      ],
      "text/plain": [
       "<IPython.core.display.HTML object>"
      ]
     },
     "metadata": {},
     "output_type": "display_data"
    },
    {
     "data": {
      "text/html": [
       "<p style='text-align:center'> *** </p>"
      ],
      "text/plain": [
       "<IPython.core.display.HTML object>"
      ]
     },
     "metadata": {},
     "output_type": "display_data"
    },
    {
     "data": {
      "text/html": [
       "<h3> ''RESPIRATORY DISEASE IN PREGNANCY''</h2>"
      ],
      "text/plain": [
       "<IPython.core.display.HTML object>"
      ]
     },
     "metadata": {},
     "output_type": "display_data"
    },
    {
     "data": {
      "text/html": [
       "<p> Current antiviral and respiratory therapies can reduce maternal morbidity and mortality</p>"
      ],
      "text/plain": [
       "<IPython.core.display.HTML object>"
      ]
     },
     "metadata": {},
     "output_type": "display_data"
    },
    {
     "data": {
      "text/html": [
       "<p style='text-align:center'> *** </p>"
      ],
      "text/plain": [
       "<IPython.core.display.HTML object>"
      ]
     },
     "metadata": {},
     "output_type": "display_data"
    },
    {
     "data": {
      "text/html": [
       "<h3> ''EPIDEMIOLOGY OF VIRAL RESPIRATORY INFECTIONS IN CHILDREN UNDERGOING HEART SURGERY''</h2>"
      ],
      "text/plain": [
       "<IPython.core.display.HTML object>"
      ]
     },
     "metadata": {},
     "output_type": "display_data"
    },
    {
     "data": {
      "text/html": [
       "<p> studied incidence and etiology of viral infections among hospitalized children with VRI symptoms</p>"
      ],
      "text/plain": [
       "<IPython.core.display.HTML object>"
      ]
     },
     "metadata": {},
     "output_type": "display_data"
    },
    {
     "data": {
      "text/html": [
       "<p style='text-align:center'> *** </p>"
      ],
      "text/plain": [
       "<IPython.core.display.HTML object>"
      ]
     },
     "metadata": {},
     "output_type": "display_data"
    },
    {
     "data": {
      "text/html": [
       "<h3> ''POSTNATAL INFECTIONS AND IMMUNOLOGY AFFECTING CHRONIC LUNG DISEASE OF PREMATURITY''</h2>"
      ],
      "text/plain": [
       "<IPython.core.display.HTML object>"
      ]
     },
     "metadata": {},
     "output_type": "display_data"
    },
    {
     "data": {
      "text/html": [
       "<p> 114 A number of additional studies, evaluating exome sequencing in extremes of disease, epigenomic regulation, transcriptome responses to exposures such as hyperoxia, and pathway analyses are ongoing to identify gene and gene regulatory susceptibility factors involved in pathogenesis of BPD</p>"
      ],
      "text/plain": [
       "<IPython.core.display.HTML object>"
      ]
     },
     "metadata": {},
     "output_type": "display_data"
    },
    {
     "data": {
      "text/html": [
       "<p style='text-align:center'> *** </p>"
      ],
      "text/plain": [
       "<IPython.core.display.HTML object>"
      ]
     },
     "metadata": {},
     "output_type": "display_data"
    },
    {
     "data": {
      "text/html": [
       "<h3> ''VIRAL INFECTIONS AND ASSOCIATED FACTORS THAT PROMOTE ACUTE EXACERBATIONS OF ASTHMA VIRAL INFECTION AND ASTHMA EXACERBATION VIRAL INFECTION AND ASTHMA EXACERBATION VIRAL INFECTION AND ASTHMA EXACERBATION''</h2>"
      ],
      "text/plain": [
       "<IPython.core.display.HTML object>"
      ]
     },
     "metadata": {},
     "output_type": "display_data"
    },
    {
     "data": {
      "text/html": [
       "<p> 51 Thus, gene-environment interactions may contribute to susceptibility to virus-induced disease</p>"
      ],
      "text/plain": [
       "<IPython.core.display.HTML object>"
      ]
     },
     "metadata": {},
     "output_type": "display_data"
    },
    {
     "data": {
      "text/html": [
       "<p style='text-align:center'> *** </p>"
      ],
      "text/plain": [
       "<IPython.core.display.HTML object>"
      ]
     },
     "metadata": {},
     "output_type": "display_data"
    },
    {
     "data": {
      "text/html": [
       "<h3> ''EPIDEMIOLOGY OF SEVERE ACUTE RESPIRATORY ILLNESS AND RISK FACTORS FOR INFLUENZA INFECTION AND CLINICAL SEVERITY AMONG ADULTS IN MALAWI, 2011-2013''</h2>"
      ],
      "text/plain": [
       "<IPython.core.display.HTML object>"
      ]
     },
     "metadata": {},
     "output_type": "display_data"
    },
    {
     "data": {
      "text/html": [
       "<p> Human immunodeficiency virusassociated incidence rate ratios (IRRs) were calculated by dividing the incidence in HIV-infected strata by the incidence in HIV-uninfected strata</p>"
      ],
      "text/plain": [
       "<IPython.core.display.HTML object>"
      ]
     },
     "metadata": {},
     "output_type": "display_data"
    },
    {
     "data": {
      "text/html": [
       "<p style='text-align:center'> *** </p>"
      ],
      "text/plain": [
       "<IPython.core.display.HTML object>"
      ]
     },
     "metadata": {},
     "output_type": "display_data"
    },
    {
     "data": {
      "text/html": [
       "<h3> ''PREGNANCY AND INFECTION: USING DISEASE PATHOGENESIS TO INFORM VACCINE STRATEGY''</h2>"
      ],
      "text/plain": [
       "<IPython.core.display.HTML object>"
      ]
     },
     "metadata": {},
     "output_type": "display_data"
    },
    {
     "data": {
      "text/html": [
       "<p>Vaccination significantly reduces the health burden of many infectious disease, especially in high-risk populations</p>"
      ],
      "text/plain": [
       "<IPython.core.display.HTML object>"
      ]
     },
     "metadata": {},
     "output_type": "display_data"
    },
    {
     "data": {
      "text/html": [
       "<p style='text-align:center'> *** </p>"
      ],
      "text/plain": [
       "<IPython.core.display.HTML object>"
      ]
     },
     "metadata": {},
     "output_type": "display_data"
    },
    {
     "data": {
      "text/html": [
       "<h3> ''HOSPITAL-ACQUIRED RESPIRATORY VIRAL INFECTIONS: INCIDENCE, MORBIDITY, AND MORTALITY IN PEDIATRIC AND ADULT PATIENTS''</h2>"
      ],
      "text/plain": [
       "<IPython.core.display.HTML object>"
      ]
     },
     "metadata": {},
     "output_type": "display_data"
    },
    {
     "data": {
      "text/html": [
       "<p> These publications suggest that nosocomial respiratory viral infections can lead to significant morbidity and mortality</p>"
      ],
      "text/plain": [
       "<IPython.core.display.HTML object>"
      ]
     },
     "metadata": {},
     "output_type": "display_data"
    },
    {
     "data": {
      "text/html": [
       "<p style='text-align:center'> *** </p>"
      ],
      "text/plain": [
       "<IPython.core.display.HTML object>"
      ]
     },
     "metadata": {},
     "output_type": "display_data"
    },
    {
     "data": {
      "text/html": [
       "<h3> ''HUMAN METAPNEUMOVIRUS INFECTION IN JORDANIAN CHILDREN: EPIDEMIOLOGY AND RISK FACTORS FOR SEVERE DISEASE''</h2>"
      ],
      "text/plain": [
       "<IPython.core.display.HTML object>"
      ]
     },
     "metadata": {},
     "output_type": "display_data"
    },
    {
     "data": {
      "text/html": [
       "<p> Prematurity and daycare are underrepresented factors in this population, highlighting that factors contributing to severe disease differ substantially between geographic and developing regions</p>"
      ],
      "text/plain": [
       "<IPython.core.display.HTML object>"
      ]
     },
     "metadata": {},
     "output_type": "display_data"
    },
    {
     "data": {
      "text/html": [
       "<p style='text-align:center'> *** </p>"
      ],
      "text/plain": [
       "<IPython.core.display.HTML object>"
      ]
     },
     "metadata": {},
     "output_type": "display_data"
    },
    {
     "data": {
      "text/html": [
       "<h3> ''CORRELATION OF VIRAL LOAD OF RESPIRATORY PATHOGENS AND CO-INFECTIONS WITH DISEASE SEVERITY IN CHILDREN HOSPITALIZED FOR LOWER RESPIRATORY TRACT INFECTION''</h2>"
      ],
      "text/plain": [
       "<IPython.core.display.HTML object>"
      ]
     },
     "metadata": {},
     "output_type": "display_data"
    },
    {
     "data": {
      "text/html": [
       "<p> influenzae (NTHi) and Streptococcus pneumoniae adhering to human respiratory epithelial cells have been detected in RSV infections in vitro</p>"
      ],
      "text/plain": [
       "<IPython.core.display.HTML object>"
      ]
     },
     "metadata": {},
     "output_type": "display_data"
    },
    {
     "data": {
      "text/html": [
       "<p style='text-align:center'> *** </p>"
      ],
      "text/plain": [
       "<IPython.core.display.HTML object>"
      ]
     },
     "metadata": {},
     "output_type": "display_data"
    },
    {
     "data": {
      "text/html": [
       "<h1>9. Public health mitigation measures that could be effective for control</h1>"
      ],
      "text/plain": [
       "<IPython.core.display.HTML object>"
      ]
     },
     "metadata": {},
     "output_type": "display_data"
    },
    {
     "data": {
      "text/html": [
       "<h3> ''RESPIRATORY VIRUS INFECTION AMONG HOSPITALIZED ADULT PATIENTS WITH OR WITHOUT CLINICALLY APPARENT RESPIRATORY INFECTION: A PROSPECTIVE COHORT STUDY''</h2>"
      ],
      "text/plain": [
       "<IPython.core.display.HTML object>"
      ]
     },
     "metadata": {},
     "output_type": "display_data"
    },
    {
     "data": {
      "text/html": [
       "<p> Accurate data on the burden of respiratory virus infection is critical for patient management, infection control measures and public health policies</p>"
      ],
      "text/plain": [
       "<IPython.core.display.HTML object>"
      ]
     },
     "metadata": {},
     "output_type": "display_data"
    },
    {
     "data": {
      "text/html": [
       "<p style='text-align:center'> *** </p>"
      ],
      "text/plain": [
       "<IPython.core.display.HTML object>"
      ]
     },
     "metadata": {},
     "output_type": "display_data"
    },
    {
     "data": {
      "text/html": [
       "<h3> ''HOSPITAL-ACQUIRED RESPIRATORY VIRAL INFECTIONS: INCIDENCE, MORBIDITY, AND MORTALITY IN PEDIATRIC AND ADULT PATIENTS''</h2>"
      ],
      "text/plain": [
       "<IPython.core.display.HTML object>"
      ]
     },
     "metadata": {},
     "output_type": "display_data"
    },
    {
     "data": {
      "text/html": [
       "<p> Our hospital occupational health policy followed the Centers for Disease Control and Prevention guidelines for mitigating risk of influenza transmission from infected healthcare workers to patients that uses fever as a determining factor for which healthcare workers should not have patient contact [16] </p>"
      ],
      "text/plain": [
       "<IPython.core.display.HTML object>"
      ]
     },
     "metadata": {},
     "output_type": "display_data"
    },
    {
     "data": {
      "text/html": [
       "<p style='text-align:center'> *** </p>"
      ],
      "text/plain": [
       "<IPython.core.display.HTML object>"
      ]
     },
     "metadata": {},
     "output_type": "display_data"
    },
    {
     "data": {
      "text/html": [
       "<h3> ''POTENTIALLY PREVENTABLE URINARY TRACT INFECTION IN PATIENTS WITH TYPE 2 DIABETES -A HOSPITAL-BASED STUDY''</h2>"
      ],
      "text/plain": [
       "<IPython.core.display.HTML object>"
      ]
     },
     "metadata": {},
     "output_type": "display_data"
    },
    {
     "data": {
      "text/html": [
       "<p> More effective health policies should be implemented to manage T2DM, particularly in stage 1 disease</p>"
      ],
      "text/plain": [
       "<IPython.core.display.HTML object>"
      ]
     },
     "metadata": {},
     "output_type": "display_data"
    },
    {
     "data": {
      "text/html": [
       "<p style='text-align:center'> *** </p>"
      ],
      "text/plain": [
       "<IPython.core.display.HTML object>"
      ]
     },
     "metadata": {},
     "output_type": "display_data"
    },
    {
     "data": {
      "text/html": [
       "<h3> ''POTENTIALLY PREVENTABLE URINARY TRACT INFECTION IN PATIENTS WITH TYPE 2 DIABETES -A HOSPITAL-BASED STUDY''</h2>"
      ],
      "text/plain": [
       "<IPython.core.display.HTML object>"
      ]
     },
     "metadata": {},
     "output_type": "display_data"
    },
    {
     "data": {
      "text/html": [
       "<p> In hospitals, health professionals should control hyperglycemia before and after medical treatments and should adopt safe protocols to reduce UTIs</p>"
      ],
      "text/plain": [
       "<IPython.core.display.HTML object>"
      ]
     },
     "metadata": {},
     "output_type": "display_data"
    },
    {
     "data": {
      "text/html": [
       "<p style='text-align:center'> *** </p>"
      ],
      "text/plain": [
       "<IPython.core.display.HTML object>"
      ]
     },
     "metadata": {},
     "output_type": "display_data"
    },
    {
     "data": {
      "text/html": [
       "<h3> ''CLINICAL PRESENTATION AND BIRTH OUTCOMES ASSOCIATED WITH RESPIRATORY SYNCYTIAL VIRUS INFECTION IN PREGNANCY''</h2>"
      ],
      "text/plain": [
       "<IPython.core.display.HTML object>"
      ]
     },
     "metadata": {},
     "output_type": "display_data"
    },
    {
     "data": {
      "text/html": [
       "<p> These data will inform prevention and therapeutic strategies against RSV in resource-limited settings</p>"
      ],
      "text/plain": [
       "<IPython.core.display.HTML object>"
      ]
     },
     "metadata": {},
     "output_type": "display_data"
    },
    {
     "data": {
      "text/html": [
       "<p style='text-align:center'> *** </p>"
      ],
      "text/plain": [
       "<IPython.core.display.HTML object>"
      ]
     },
     "metadata": {},
     "output_type": "display_data"
    },
    {
     "data": {
      "text/html": [
       "<h3> ''VIRAL INFECTION IN ADULTS WITH SEVERE ACUTE RESPIRATORY INFECTION IN COLOMBIA''</h2>"
      ],
      "text/plain": [
       "<IPython.core.display.HTML object>"
      ]
     },
     "metadata": {},
     "output_type": "display_data"
    },
    {
     "data": {
      "text/html": [
       "<p>Due to its implications for Public Health, the efforts in reinforcing and improving the epidemiological surveillance of respiratory infections have increased</p>"
      ],
      "text/plain": [
       "<IPython.core.display.HTML object>"
      ]
     },
     "metadata": {},
     "output_type": "display_data"
    },
    {
     "data": {
      "text/html": [
       "<p style='text-align:center'> *** </p>"
      ],
      "text/plain": [
       "<IPython.core.display.HTML object>"
      ]
     },
     "metadata": {},
     "output_type": "display_data"
    },
    {
     "data": {
      "text/html": [
       "<h3> ''RESPIRATORY DISEASE IN PREGNANCY''</h2>"
      ],
      "text/plain": [
       "<IPython.core.display.HTML object>"
      ]
     },
     "metadata": {},
     "output_type": "display_data"
    },
    {
     "data": {
      "text/html": [
       "<p>In order to achieve a successful outcome, multidisciplinary management aims to ensure adequate maternal nutrition, control of pulmonary infection and avoidance of prolonged hypoxia</p>"
      ],
      "text/plain": [
       "<IPython.core.display.HTML object>"
      ]
     },
     "metadata": {},
     "output_type": "display_data"
    },
    {
     "data": {
      "text/html": [
       "<p style='text-align:center'> *** </p>"
      ],
      "text/plain": [
       "<IPython.core.display.HTML object>"
      ]
     },
     "metadata": {},
     "output_type": "display_data"
    },
    {
     "data": {
      "text/html": [
       "<h3> ''VIRAL ETIOLOGIES OF HOSPITALIZED ACUTE LOWER RESPIRATORY INFECTION PATIENTS IN CHINA''</h2>"
      ],
      "text/plain": [
       "<IPython.core.display.HTML object>"
      ]
     },
     "metadata": {},
     "output_type": "display_data"
    },
    {
     "data": {
      "text/html": [
       "<p> Our findings could serve as robust evidence for public health authorities for drawing up further plans to prevent and control of respiratory virus associated ALRIs</p>"
      ],
      "text/plain": [
       "<IPython.core.display.HTML object>"
      ]
     },
     "metadata": {},
     "output_type": "display_data"
    },
    {
     "data": {
      "text/html": [
       "<p style='text-align:center'> *** </p>"
      ],
      "text/plain": [
       "<IPython.core.display.HTML object>"
      ]
     },
     "metadata": {},
     "output_type": "display_data"
    },
    {
     "data": {
      "text/html": [
       "<h3> ''EPIDEMIOLOGY OF SEVERE ACUTE RESPIRATORY ILLNESS AND RISK FACTORS FOR INFLUENZA INFECTION AND CLINICAL SEVERITY AMONG ADULTS IN MALAWI, 2011-2013''</h2>"
      ],
      "text/plain": [
       "<IPython.core.display.HTML object>"
      ]
     },
     "metadata": {},
     "output_type": "display_data"
    },
    {
     "data": {
      "text/html": [
       "<p> A recent systematic review concluded that most of the sub-Saharan African countries had insufficient epidemiological data to develop rational strategies for influenza prevention and control</p>"
      ],
      "text/plain": [
       "<IPython.core.display.HTML object>"
      ]
     },
     "metadata": {},
     "output_type": "display_data"
    },
    {
     "data": {
      "text/html": [
       "<p style='text-align:center'> *** </p>"
      ],
      "text/plain": [
       "<IPython.core.display.HTML object>"
      ]
     },
     "metadata": {},
     "output_type": "display_data"
    },
    {
     "data": {
      "text/html": [
       "<h3> ''INCIDENCE AND IMPLICATIONS OF UNRECOGNIZED VIRAL RESPIRATORY TRACT INFECTIONS IN PREMATURE INFANTS DURING THEIR BIRTH HOSPITALIZATION: A PROSPECTIVE SURVEILLANCE STUDY IN TWO NEONATAL INTENSIVE CARE UNITS NIH PUBLIC ACCESS''</h2>"
      ],
      "text/plain": [
       "<IPython.core.display.HTML object>"
      ]
     },
     "metadata": {},
     "output_type": "display_data"
    },
    {
     "data": {
      "text/html": [
       "<p> Specifically, one needs to ask whether the presence or sequelae of these infections justify more intensive monitoring of infections and assessment of strategies of prevention and control guidelines</p>"
      ],
      "text/plain": [
       "<IPython.core.display.HTML object>"
      ]
     },
     "metadata": {},
     "output_type": "display_data"
    },
    {
     "data": {
      "text/html": [
       "<p style='text-align:center'> *** </p>"
      ],
      "text/plain": [
       "<IPython.core.display.HTML object>"
      ]
     },
     "metadata": {},
     "output_type": "display_data"
    }
   ],
   "source": [
    "TASK2 = [\n",
    "\"Data on potential risks factors\",\n",
    "\"Smoking, pre-existing pulmonary disease\",\n",
    "\"Co-infections (determine whether co-existing respiratory/viral infections make the virus more transmissible or virulent) and other co-morbidities\",\n",
    "\"Neonates and pregnant women\",\n",
    "\"Socio-economic and behavioral factors to understand the economic impact of the virus and whether there were differences.\",\n",
    "\"Transmission dynamics of the virus, including the basic reproductive number, incubation period, serial interval, modes of transmission and environmental factors\",\n",
    "\"Severity of disease, including risk of fatality among symptomatic hospitalized patients, and high-risk patient groups\",\n",
    "\"Susceptibility of populations\",\n",
    "\"Public health mitigation measures that could be effective for control\"\n",
    "]\n",
    "\n",
    "for i in range(len(TASK2)):\n",
    "    display(HTML(\"<h1>\" + str(i+1) + \". \" + TASK2[i] + \"</h1>\"))\n",
    "    df = pd.read_csv(DIR + \"task2_\" + str(i) + \".csv\")\n",
    "    for j, row in df.iterrows():\n",
    "        display(HTML(\"<h3> ''\" + row[3].upper() + \"''</h2>\"))\n",
    "        display(HTML(\"<p>\" + row[1] + \"</p>\"))\n",
    "        display(HTML(\"<p style='text-align:center'> *** </p>\"))"
   ]
  },
  {
   "cell_type": "code",
   "execution_count": 27,
   "metadata": {},
   "outputs": [
    {
     "data": {
      "text/html": [
       "<h1>1. Real-time tracking of whole genomes and a mechanism for coordinating the rapid dissemination of that information to inform the development of diagnostics and therapeutics and to track variations of the virus over time.</h1>"
      ],
      "text/plain": [
       "<IPython.core.display.HTML object>"
      ]
     },
     "metadata": {},
     "output_type": "display_data"
    },
    {
     "data": {
      "text/html": [
       "<h3> ''COMPARATIVE ANALYSIS OF TRANSCRIPTIONAL PROFILES OF ADULT SCHISTOSOMA JAPONICUM FROM DIFFERENT LABORATORY ANIMALS AND THE NATURAL HOST, WATER BUFFALO''</h2>"
      ],
      "text/plain": [
       "<IPython.core.display.HTML object>"
      ]
     },
     "metadata": {},
     "output_type": "display_data"
    },
    {
     "data": {
      "text/html": [
       "<p>Comparative genomics analysis of well characterized signaling pathways between schistosome and mammalian host indicates that schistosome genome encodes various growth factors, receptors and other critical components to regulate numerous cellular processes during tissue development and organogenesis</p>"
      ],
      "text/plain": [
       "<IPython.core.display.HTML object>"
      ]
     },
     "metadata": {},
     "output_type": "display_data"
    },
    {
     "data": {
      "text/html": [
       "<p style='text-align:center'> *** </p>"
      ],
      "text/plain": [
       "<IPython.core.display.HTML object>"
      ]
     },
     "metadata": {},
     "output_type": "display_data"
    },
    {
     "data": {
      "text/html": [
       "<h3> ''NATURAL SELECTION AND INFECTIOUS DISEASE IN HUMAN POPULATIONS''</h2>"
      ],
      "text/plain": [
       "<IPython.core.display.HTML object>"
      ]
     },
     "metadata": {},
     "output_type": "display_data"
    },
    {
     "data": {
      "text/html": [
       "<p> Incorporating ancient history into disease susceptibility studies will identify functional variants and elucidate cellular mechanisms, and facilitate the development of new therapies for a surprisingly wide range of human illnesses</p>"
      ],
      "text/plain": [
       "<IPython.core.display.HTML object>"
      ]
     },
     "metadata": {},
     "output_type": "display_data"
    },
    {
     "data": {
      "text/html": [
       "<p style='text-align:center'> *** </p>"
      ],
      "text/plain": [
       "<IPython.core.display.HTML object>"
      ]
     },
     "metadata": {},
     "output_type": "display_data"
    },
    {
     "data": {
      "text/html": [
       "<h3> ''EVOLUTION OF FELINE IMMUNODEFICIENCY VIRUS IN FELIDAE: IMPLICATIONS FOR HUMAN HEALTH AND WILDLIFE ECOLOGY''</h2>"
      ],
      "text/plain": [
       "<IPython.core.display.HTML object>"
      ]
     },
     "metadata": {},
     "output_type": "display_data"
    },
    {
     "data": {
      "text/html": [
       "<p>Molecular genetic tools are informative in evaluating emerging pathogens and provide essential information such as pathogen identification, association of particular or novel strains with disease outbreaks, mutational changes leading to increased or decreased pathogenesis, and geographic and/or evolutionary origins of the pathogen</p>"
      ],
      "text/plain": [
       "<IPython.core.display.HTML object>"
      ]
     },
     "metadata": {},
     "output_type": "display_data"
    },
    {
     "data": {
      "text/html": [
       "<p style='text-align:center'> *** </p>"
      ],
      "text/plain": [
       "<IPython.core.display.HTML object>"
      ]
     },
     "metadata": {},
     "output_type": "display_data"
    },
    {
     "data": {
      "text/html": [
       "<h3> ''A SYSTEMS BIOLOGY APPROACH TO INFECTIOUS DISEASE RESEARCH: INNOVATING THE PATHOGEN-HOST RESEARCH PARADIGM''</h2>"
      ],
      "text/plain": [
       "<IPython.core.display.HTML object>"
      ]
     },
     "metadata": {},
     "output_type": "display_data"
    },
    {
     "data": {
      "text/html": [
       "<p> Proteomic technologies and accompanying informatics pipelines are evolving rapidly, with throughput and sensitivity approaching that of microarrays</p>"
      ],
      "text/plain": [
       "<IPython.core.display.HTML object>"
      ]
     },
     "metadata": {},
     "output_type": "display_data"
    },
    {
     "data": {
      "text/html": [
       "<p style='text-align:center'> *** </p>"
      ],
      "text/plain": [
       "<IPython.core.display.HTML object>"
      ]
     },
     "metadata": {},
     "output_type": "display_data"
    },
    {
     "data": {
      "text/html": [
       "<h3> ''ORIGIN, GENETIC DIVERSITY, AND EVOLUTIONARY DYNAMICS OF NOVEL PORCINE CIRCOVIRUS 3''</h2>"
      ],
      "text/plain": [
       "<IPython.core.display.HTML object>"
      ]
     },
     "metadata": {},
     "output_type": "display_data"
    },
    {
     "data": {
      "text/html": [
       "<p>Continuous epidemiological surveillance of emerging viruses is crucial to control widespread</p>"
      ],
      "text/plain": [
       "<IPython.core.display.HTML object>"
      ]
     },
     "metadata": {},
     "output_type": "display_data"
    },
    {
     "data": {
      "text/html": [
       "<p style='text-align:center'> *** </p>"
      ],
      "text/plain": [
       "<IPython.core.display.HTML object>"
      ]
     },
     "metadata": {},
     "output_type": "display_data"
    },
    {
     "data": {
      "text/html": [
       "<h3> ''A SYSTEMS BIOLOGY APPROACH TO INFECTIOUS DISEASE RESEARCH: INNOVATING THE PATHOGEN-HOST RESEARCH PARADIGM''</h2>"
      ],
      "text/plain": [
       "<IPython.core.display.HTML object>"
      ]
     },
     "metadata": {},
     "output_type": "display_data"
    },
    {
     "data": {
      "text/html": [
       "<p> Computational integration of the transcriptomic, proteomic, and lipidomic data into an appropriate network model will illuminate the detailed signatures of extreme virulence and identify the molecular mechanisms underlying these responses</p>"
      ],
      "text/plain": [
       "<IPython.core.display.HTML object>"
      ]
     },
     "metadata": {},
     "output_type": "display_data"
    },
    {
     "data": {
      "text/html": [
       "<p style='text-align:center'> *** </p>"
      ],
      "text/plain": [
       "<IPython.core.display.HTML object>"
      ]
     },
     "metadata": {},
     "output_type": "display_data"
    },
    {
     "data": {
      "text/html": [
       "<h3> ''A SYSTEMS BIOLOGY APPROACH TO INFECTIOUS DISEASE RESEARCH: INNOVATING THE PATHOGEN-HOST RESEARCH PARADIGM''</h2>"
      ],
      "text/plain": [
       "<IPython.core.display.HTML object>"
      ]
     },
     "metadata": {},
     "output_type": "display_data"
    },
    {
     "data": {
      "text/html": [
       "<p> A comprehensive model of the influenza virus-host interaction, aided significantly by recent advances in sequencing technologies and advances in viral genetic manipulation, will serve to calibrate the global public health response to a newly emergent strain as well as uncover novel targets for therapeutic intervention</p>"
      ],
      "text/plain": [
       "<IPython.core.display.HTML object>"
      ]
     },
     "metadata": {},
     "output_type": "display_data"
    },
    {
     "data": {
      "text/html": [
       "<p style='text-align:center'> *** </p>"
      ],
      "text/plain": [
       "<IPython.core.display.HTML object>"
      ]
     },
     "metadata": {},
     "output_type": "display_data"
    },
    {
     "data": {
      "text/html": [
       "<h3> ''EVOLUTION OF FELINE IMMUNODEFICIENCY VIRUS IN FELIDAE: IMPLICATIONS FOR HUMAN HEALTH AND WILDLIFE ECOLOGY''</h2>"
      ],
      "text/plain": [
       "<IPython.core.display.HTML object>"
      ]
     },
     "metadata": {},
     "output_type": "display_data"
    },
    {
     "data": {
      "text/html": [
       "<p> Emerging pathogens utilize diverse strategies for genome adaptation and re-organization to successfully infect new host species that are only discernable through full genome scans</p>"
      ],
      "text/plain": [
       "<IPython.core.display.HTML object>"
      ]
     },
     "metadata": {},
     "output_type": "display_data"
    },
    {
     "data": {
      "text/html": [
       "<p style='text-align:center'> *** </p>"
      ],
      "text/plain": [
       "<IPython.core.display.HTML object>"
      ]
     },
     "metadata": {},
     "output_type": "display_data"
    },
    {
     "data": {
      "text/html": [
       "<h3> ''A SYSTEMS BIOLOGY APPROACH TO INFECTIOUS DISEASE RESEARCH: INNOVATING THE PATHOGEN-HOST RESEARCH PARADIGM''</h2>"
      ],
      "text/plain": [
       "<IPython.core.display.HTML object>"
      ]
     },
     "metadata": {},
     "output_type": "display_data"
    },
    {
     "data": {
      "text/html": [
       "<p> Understanding the regulatory and metabolic programs required for infection will enable the development of effective therapeutic treatments in the future</p>"
      ],
      "text/plain": [
       "<IPython.core.display.HTML object>"
      ]
     },
     "metadata": {},
     "output_type": "display_data"
    },
    {
     "data": {
      "text/html": [
       "<p style='text-align:center'> *** </p>"
      ],
      "text/plain": [
       "<IPython.core.display.HTML object>"
      ]
     },
     "metadata": {},
     "output_type": "display_data"
    },
    {
     "data": {
      "text/html": [
       "<h3> ''GENETIC SUSCEPTIBILITY TO INFECTIOUS DISEASES: CURRENT STATUS AND FUTURE PERSPECTIVES FROM GENOME-WIDE APPROACHES''</h2>"
      ],
      "text/plain": [
       "<IPython.core.display.HTML object>"
      ]
     },
     "metadata": {},
     "output_type": "display_data"
    },
    {
     "data": {
      "text/html": [
       "<p> Thus, these data highlight the ability of GWASs to pinpoint molecular disease pathways</p>"
      ],
      "text/plain": [
       "<IPython.core.display.HTML object>"
      ]
     },
     "metadata": {},
     "output_type": "display_data"
    },
    {
     "data": {
      "text/html": [
       "<p style='text-align:center'> *** </p>"
      ],
      "text/plain": [
       "<IPython.core.display.HTML object>"
      ]
     },
     "metadata": {},
     "output_type": "display_data"
    },
    {
     "data": {
      "text/html": [
       "<h1>2. Access to geographic and temporal diverse sample sets to understand geographic distribution and genomic differences, and determine whether there is more than one strain in circulation. Multi-lateral agreements such as the Nagoya Protocol could be leveraged.Evidence that livestock could be infected (e.g., field surveillance, genetic sequencing, receptor binding) and serve as a reservoir after the epidemic appears to be over.</h1>"
      ],
      "text/plain": [
       "<IPython.core.display.HTML object>"
      ]
     },
     "metadata": {},
     "output_type": "display_data"
    },
    {
     "data": {
      "text/html": [
       "<h3> ''PATHOGEN DIVERSITY DRIVES THE EVOLUTION OF GENERALIST MHC-II ALLELES IN HUMAN POPULATIONS''</h2>"
      ],
      "text/plain": [
       "<IPython.core.display.HTML object>"
      ]
     },
     "metadata": {},
     "output_type": "display_data"
    },
    {
     "data": {
      "text/html": [
       "<p>To test this hypothesis, we combined data on the geographic distribution of human MHC class II alleles and prevalence of extracellular pathogens, empirical/computational estimates of epitope-binding promiscuity, and phylogenetic analyses</p>"
      ],
      "text/plain": [
       "<IPython.core.display.HTML object>"
      ]
     },
     "metadata": {},
     "output_type": "display_data"
    },
    {
     "data": {
      "text/html": [
       "<p style='text-align:center'> *** </p>"
      ],
      "text/plain": [
       "<IPython.core.display.HTML object>"
      ]
     },
     "metadata": {},
     "output_type": "display_data"
    },
    {
     "data": {
      "text/html": [
       "<h3> ''EVOLUTION OF FELINE IMMUNODEFICIENCY VIRUS IN FELIDAE: IMPLICATIONS FOR HUMAN HEALTH AND WILDLIFE ECOLOGY''</h2>"
      ],
      "text/plain": [
       "<IPython.core.display.HTML object>"
      ]
     },
     "metadata": {},
     "output_type": "display_data"
    },
    {
     "data": {
      "text/html": [
       "<p> Patterns of divergence describe substantial genetic differences among strains across the entire FIV genome and define monophyletic viral lineages unique to specific host species (Barr et al</p>"
      ],
      "text/plain": [
       "<IPython.core.display.HTML object>"
      ]
     },
     "metadata": {},
     "output_type": "display_data"
    },
    {
     "data": {
      "text/html": [
       "<p style='text-align:center'> *** </p>"
      ],
      "text/plain": [
       "<IPython.core.display.HTML object>"
      ]
     },
     "metadata": {},
     "output_type": "display_data"
    },
    {
     "data": {
      "text/html": [
       "<h3> ''GENOMIC ANALYSIS OF CODON USAGE SHOWS INFLUENCE OF MUTATION PRESSURE, NATURAL SELECTION, AND HOST FEATURES ON MARBURG VIRUS EVOLUTION''</h2>"
      ],
      "text/plain": [
       "<IPython.core.display.HTML object>"
      ]
     },
     "metadata": {},
     "output_type": "display_data"
    },
    {
     "data": {
      "text/html": [
       "<p>Our initial analysis indicated influence of nucleotide constraints on MARV codon usage patterns</p>"
      ],
      "text/plain": [
       "<IPython.core.display.HTML object>"
      ]
     },
     "metadata": {},
     "output_type": "display_data"
    },
    {
     "data": {
      "text/html": [
       "<p style='text-align:center'> *** </p>"
      ],
      "text/plain": [
       "<IPython.core.display.HTML object>"
      ]
     },
     "metadata": {},
     "output_type": "display_data"
    },
    {
     "data": {
      "text/html": [
       "<h3> ''NATURAL SELECTION AND INFECTIOUS DISEASE IN HUMAN POPULATIONS''</h2>"
      ],
      "text/plain": [
       "<IPython.core.display.HTML object>"
      ]
     },
     "metadata": {},
     "output_type": "display_data"
    },
    {
     "data": {
      "text/html": [
       "<p> Population events that alter genetic diversity -including bottlenecks, expansions, splits and admixture -complicate accurate detection of selected loci</p>"
      ],
      "text/plain": [
       "<IPython.core.display.HTML object>"
      ]
     },
     "metadata": {},
     "output_type": "display_data"
    },
    {
     "data": {
      "text/html": [
       "<p style='text-align:center'> *** </p>"
      ],
      "text/plain": [
       "<IPython.core.display.HTML object>"
      ]
     },
     "metadata": {},
     "output_type": "display_data"
    },
    {
     "data": {
      "text/html": [
       "<h3> ''GENETIC DIVERSITY, SEASONALITY AND TRANSMISSION NETWORK OF HUMAN METAPNEUMOVIRUS: IDENTIFICATION OF A UNIQUE SUB-LINEAGE OF THE FUSION AND ATTACHMENT GENES OPEN''</h2>"
      ],
      "text/plain": [
       "<IPython.core.display.HTML object>"
      ]
     },
     "metadata": {},
     "output_type": "display_data"
    },
    {
     "data": {
      "text/html": [
       "<p> discordant clustering generated by different genetic regions</p>"
      ],
      "text/plain": [
       "<IPython.core.display.HTML object>"
      ]
     },
     "metadata": {},
     "output_type": "display_data"
    },
    {
     "data": {
      "text/html": [
       "<p style='text-align:center'> *** </p>"
      ],
      "text/plain": [
       "<IPython.core.display.HTML object>"
      ]
     },
     "metadata": {},
     "output_type": "display_data"
    },
    {
     "data": {
      "text/html": [
       "<h3> ''EVOLUTION OF FELINE IMMUNODEFICIENCY VIRUS IN FELIDAE: IMPLICATIONS FOR HUMAN HEALTH AND WILDLIFE ECOLOGY''</h2>"
      ],
      "text/plain": [
       "<IPython.core.display.HTML object>"
      ]
     },
     "metadata": {},
     "output_type": "display_data"
    },
    {
     "data": {
      "text/html": [
       "<p>Phylogenetic analyses of concatenated sequences from coding regions excluding env (6435 bp) recapitulate that FIV strains are specific to their host species</p>"
      ],
      "text/plain": [
       "<IPython.core.display.HTML object>"
      ]
     },
     "metadata": {},
     "output_type": "display_data"
    },
    {
     "data": {
      "text/html": [
       "<p style='text-align:center'> *** </p>"
      ],
      "text/plain": [
       "<IPython.core.display.HTML object>"
      ]
     },
     "metadata": {},
     "output_type": "display_data"
    },
    {
     "data": {
      "text/html": [
       "<h3> ''ORIGIN AND EVOLUTION OF VIRUSES''</h2>"
      ],
      "text/plain": [
       "<IPython.core.display.HTML object>"
      ]
     },
     "metadata": {},
     "output_type": "display_data"
    },
    {
     "data": {
      "text/html": [
       "<p> A Weibull distribution describes disparate physical and biological processes</p>"
      ],
      "text/plain": [
       "<IPython.core.display.HTML object>"
      ]
     },
     "metadata": {},
     "output_type": "display_data"
    },
    {
     "data": {
      "text/html": [
       "<p style='text-align:center'> *** </p>"
      ],
      "text/plain": [
       "<IPython.core.display.HTML object>"
      ]
     },
     "metadata": {},
     "output_type": "display_data"
    },
    {
     "data": {
      "text/html": [
       "<h3> ''COMPARATIVE ANALYSIS OF TRANSCRIPTIONAL PROFILES OF ADULT SCHISTOSOMA JAPONICUM FROM DIFFERENT LABORATORY ANIMALS AND THE NATURAL HOST, WATER BUFFALO''</h2>"
      ],
      "text/plain": [
       "<IPython.core.display.HTML object>"
      ]
     },
     "metadata": {},
     "output_type": "display_data"
    },
    {
     "data": {
      "text/html": [
       "<p>Comparative genomics analysis of well characterized signaling pathways between schistosome and mammalian host indicates that schistosome genome encodes various growth factors, receptors and other critical components to regulate numerous cellular processes during tissue development and organogenesis</p>"
      ],
      "text/plain": [
       "<IPython.core.display.HTML object>"
      ]
     },
     "metadata": {},
     "output_type": "display_data"
    },
    {
     "data": {
      "text/html": [
       "<p style='text-align:center'> *** </p>"
      ],
      "text/plain": [
       "<IPython.core.display.HTML object>"
      ]
     },
     "metadata": {},
     "output_type": "display_data"
    },
    {
     "data": {
      "text/html": [
       "<h3> ''EVOLUTION OF FELINE IMMUNODEFICIENCY VIRUS IN FELIDAE: IMPLICATIONS FOR HUMAN HEALTH AND WILDLIFE ECOLOGY''</h2>"
      ],
      "text/plain": [
       "<IPython.core.display.HTML object>"
      ]
     },
     "metadata": {},
     "output_type": "display_data"
    },
    {
     "data": {
      "text/html": [
       "<p>Although sharing conserved genome organization, large genetic differences exist among species-specific FIV strains</p>"
      ],
      "text/plain": [
       "<IPython.core.display.HTML object>"
      ]
     },
     "metadata": {},
     "output_type": "display_data"
    },
    {
     "data": {
      "text/html": [
       "<p style='text-align:center'> *** </p>"
      ],
      "text/plain": [
       "<IPython.core.display.HTML object>"
      ]
     },
     "metadata": {},
     "output_type": "display_data"
    },
    {
     "data": {
      "text/html": [
       "<h3> ''V IRUS RESEARCH EVOLUTIONARY IMPLICATIONS OF GENETIC VARIATIONS IN THE SL GENE OF INFECTIOUS BRONCHITIS VIRUS''</h2>"
      ],
      "text/plain": [
       "<IPython.core.display.HTML object>"
      ]
     },
     "metadata": {},
     "output_type": "display_data"
    },
    {
     "data": {
      "text/html": [
       "<p> Factors determining genetic variability of coronaviruses include point mutations and recombination events</p>"
      ],
      "text/plain": [
       "<IPython.core.display.HTML object>"
      ]
     },
     "metadata": {},
     "output_type": "display_data"
    },
    {
     "data": {
      "text/html": [
       "<p style='text-align:center'> *** </p>"
      ],
      "text/plain": [
       "<IPython.core.display.HTML object>"
      ]
     },
     "metadata": {},
     "output_type": "display_data"
    },
    {
     "data": {
      "text/html": [
       "<h1>3. Evidence of whether farmers are infected, and whether farmers could have played a role in the origin.</h1>"
      ],
      "text/plain": [
       "<IPython.core.display.HTML object>"
      ]
     },
     "metadata": {},
     "output_type": "display_data"
    },
    {
     "data": {
      "text/html": [
       "<h3> ''PATHOGEN DIVERSITY DRIVES THE EVOLUTION OF GENERALIST MHC-II ALLELES IN HUMAN POPULATIONS''</h2>"
      ],
      "text/plain": [
       "<IPython.core.display.HTML object>"
      ]
     },
     "metadata": {},
     "output_type": "display_data"
    },
    {
     "data": {
      "text/html": [
       "<p> The authors suggested that the breadth of epitope-binding repertoire shapes genetic susceptibility to Marek's disease virus in chickens and HIV disease progression in humans</p>"
      ],
      "text/plain": [
       "<IPython.core.display.HTML object>"
      ]
     },
     "metadata": {},
     "output_type": "display_data"
    },
    {
     "data": {
      "text/html": [
       "<p style='text-align:center'> *** </p>"
      ],
      "text/plain": [
       "<IPython.core.display.HTML object>"
      ]
     },
     "metadata": {},
     "output_type": "display_data"
    },
    {
     "data": {
      "text/html": [
       "<h3> ''MOLECULAR EVOLUTION AND EMERGENCE OF AVIAN GAMMACORONAVIRUSES''</h2>"
      ],
      "text/plain": [
       "<IPython.core.display.HTML object>"
      ]
     },
     "metadata": {},
     "output_type": "display_data"
    },
    {
     "data": {
      "text/html": [
       "<p>Avian coronavirus IBV creates genetic diversity through rapid replication and large population sizes coupled with a high mutation rate and recombination</p>"
      ],
      "text/plain": [
       "<IPython.core.display.HTML object>"
      ]
     },
     "metadata": {},
     "output_type": "display_data"
    },
    {
     "data": {
      "text/html": [
       "<p style='text-align:center'> *** </p>"
      ],
      "text/plain": [
       "<IPython.core.display.HTML object>"
      ]
     },
     "metadata": {},
     "output_type": "display_data"
    },
    {
     "data": {
      "text/html": [
       "<h3> ''FEATURE SELECTION METHODS FOR IDENTIFYING GENETIC DETERMINANTS OF HOST SPECIES IN RNA VIRUSES''</h2>"
      ],
      "text/plain": [
       "<IPython.core.display.HTML object>"
      ]
     },
     "metadata": {},
     "output_type": "display_data"
    },
    {
     "data": {
      "text/html": [
       "<p>We first analyse polymerase gene sequences of RNA viruses to identify the genetic signatures predicting host species</p>"
      ],
      "text/plain": [
       "<IPython.core.display.HTML object>"
      ]
     },
     "metadata": {},
     "output_type": "display_data"
    },
    {
     "data": {
      "text/html": [
       "<p style='text-align:center'> *** </p>"
      ],
      "text/plain": [
       "<IPython.core.display.HTML object>"
      ]
     },
     "metadata": {},
     "output_type": "display_data"
    },
    {
     "data": {
      "text/html": [
       "<h3> ''ORIGIN AND EVOLUTION OF VIRUSES''</h2>"
      ],
      "text/plain": [
       "<IPython.core.display.HTML object>"
      ]
     },
     "metadata": {},
     "output_type": "display_data"
    },
    {
     "data": {
      "text/html": [
       "<p>The complexity of mutant spectra can infl uence disease progression and viral pathogenesis, as demonstrated using virus variants selected for increased replicative fi delity</p>"
      ],
      "text/plain": [
       "<IPython.core.display.HTML object>"
      ]
     },
     "metadata": {},
     "output_type": "display_data"
    },
    {
     "data": {
      "text/html": [
       "<p style='text-align:center'> *** </p>"
      ],
      "text/plain": [
       "<IPython.core.display.HTML object>"
      ]
     },
     "metadata": {},
     "output_type": "display_data"
    },
    {
     "data": {
      "text/html": [
       "<h3> ''EVOLUTION OF FELINE IMMUNODEFICIENCY VIRUS IN FELIDAE: IMPLICATIONS FOR HUMAN HEALTH AND WILDLIFE ECOLOGY''</h2>"
      ],
      "text/plain": [
       "<IPython.core.display.HTML object>"
      ]
     },
     "metadata": {},
     "output_type": "display_data"
    },
    {
     "data": {
      "text/html": [
       "<p>Molecular genetic tools are informative in evaluating emerging pathogens and provide essential information such as pathogen identification, association of particular or novel strains with disease outbreaks, mutational changes leading to increased or decreased pathogenesis, and geographic and/or evolutionary origins of the pathogen</p>"
      ],
      "text/plain": [
       "<IPython.core.display.HTML object>"
      ]
     },
     "metadata": {},
     "output_type": "display_data"
    },
    {
     "data": {
      "text/html": [
       "<p style='text-align:center'> *** </p>"
      ],
      "text/plain": [
       "<IPython.core.display.HTML object>"
      ]
     },
     "metadata": {},
     "output_type": "display_data"
    },
    {
     "data": {
      "text/html": [
       "<h3> ''V IRUS RESEARCH EVOLUTIONARY IMPLICATIONS OF GENETIC VARIATIONS IN THE SL GENE OF INFECTIOUS BRONCHITIS VIRUS''</h2>"
      ],
      "text/plain": [
       "<IPython.core.display.HTML object>"
      ]
     },
     "metadata": {},
     "output_type": "display_data"
    },
    {
     "data": {
      "text/html": [
       "<p>The large number of phenotypically distinct strains of IBV provide a broad genetic background to examine naturally occurring variation associated with outbreaks of coronavirus induced disease</p>"
      ],
      "text/plain": [
       "<IPython.core.display.HTML object>"
      ]
     },
     "metadata": {},
     "output_type": "display_data"
    },
    {
     "data": {
      "text/html": [
       "<p style='text-align:center'> *** </p>"
      ],
      "text/plain": [
       "<IPython.core.display.HTML object>"
      ]
     },
     "metadata": {},
     "output_type": "display_data"
    },
    {
     "data": {
      "text/html": [
       "<h3> ''NATURAL SELECTION AND INFECTIOUS DISEASE IN HUMAN POPULATIONS''</h2>"
      ],
      "text/plain": [
       "<IPython.core.display.HTML object>"
      ]
     },
     "metadata": {},
     "output_type": "display_data"
    },
    {
     "data": {
      "text/html": [
       "<p> tuberculosis strain, an accurate phenotype would include sequence data from the pathogen</p>"
      ],
      "text/plain": [
       "<IPython.core.display.HTML object>"
      ]
     },
     "metadata": {},
     "output_type": "display_data"
    },
    {
     "data": {
      "text/html": [
       "<p style='text-align:center'> *** </p>"
      ],
      "text/plain": [
       "<IPython.core.display.HTML object>"
      ]
     },
     "metadata": {},
     "output_type": "display_data"
    },
    {
     "data": {
      "text/html": [
       "<h3> ''PATHOGEN DIVERSITY DRIVES THE EVOLUTION OF GENERALIST MHC-II ALLELES IN HUMAN POPULATIONS''</h2>"
      ],
      "text/plain": [
       "<IPython.core.display.HTML object>"
      ]
     },
     "metadata": {},
     "output_type": "display_data"
    },
    {
     "data": {
      "text/html": [
       "<p> Immunization of the corresponding HLA transgenic mouse strains with a set of dengue virus-derived peptides revealed a positive relationship between epitope repertoire size and immunogenicity</p>"
      ],
      "text/plain": [
       "<IPython.core.display.HTML object>"
      ]
     },
     "metadata": {},
     "output_type": "display_data"
    },
    {
     "data": {
      "text/html": [
       "<p style='text-align:center'> *** </p>"
      ],
      "text/plain": [
       "<IPython.core.display.HTML object>"
      ]
     },
     "metadata": {},
     "output_type": "display_data"
    },
    {
     "data": {
      "text/html": [
       "<h3> ''EVOLUTION OF FELINE IMMUNODEFICIENCY VIRUS IN FELIDAE: IMPLICATIONS FOR HUMAN HEALTH AND WILDLIFE ECOLOGY''</h2>"
      ],
      "text/plain": [
       "<IPython.core.display.HTML object>"
      ]
     },
     "metadata": {},
     "output_type": "display_data"
    },
    {
     "data": {
      "text/html": [
       "<p> These are but a few of the growing number of studies using molecular genomic technologies in nonhuman animal species that will advance our ability to identify regulatory/virulence genes in pathogens as well as host genes that regulate transmission, incubation, latency, virulence, morbidity, mortality and the immune response</p>"
      ],
      "text/plain": [
       "<IPython.core.display.HTML object>"
      ]
     },
     "metadata": {},
     "output_type": "display_data"
    },
    {
     "data": {
      "text/html": [
       "<p style='text-align:center'> *** </p>"
      ],
      "text/plain": [
       "<IPython.core.display.HTML object>"
      ]
     },
     "metadata": {},
     "output_type": "display_data"
    },
    {
     "data": {
      "text/html": [
       "<h3> ''ORIGIN AND EVOLUTION OF VIRUSES''</h2>"
      ],
      "text/plain": [
       "<IPython.core.display.HTML object>"
      ]
     },
     "metadata": {},
     "output_type": "display_data"
    },
    {
     "data": {
      "text/html": [
       "<p>Populations of RNA viruses subjected to increased mutagenesis by nucleoside analogues display decreases in specifi c infectivity due to accumulation of viral genomes harboring deleterious or lethal mutations ( Crotty et al</p>"
      ],
      "text/plain": [
       "<IPython.core.display.HTML object>"
      ]
     },
     "metadata": {},
     "output_type": "display_data"
    },
    {
     "data": {
      "text/html": [
       "<p style='text-align:center'> *** </p>"
      ],
      "text/plain": [
       "<IPython.core.display.HTML object>"
      ]
     },
     "metadata": {},
     "output_type": "display_data"
    },
    {
     "data": {
      "text/html": [
       "<h1>4. Surveillance of mixed wildlife- livestock farms for SARS-CoV-2 and other coronaviruses in Southeast Asia.</h1>"
      ],
      "text/plain": [
       "<IPython.core.display.HTML object>"
      ]
     },
     "metadata": {},
     "output_type": "display_data"
    },
    {
     "data": {
      "text/html": [
       "<h3> ''EVOLUTION OF FELINE IMMUNODEFICIENCY VIRUS IN FELIDAE: IMPLICATIONS FOR HUMAN HEALTH AND WILDLIFE ECOLOGY''</h2>"
      ],
      "text/plain": [
       "<IPython.core.display.HTML object>"
      ]
     },
     "metadata": {},
     "output_type": "display_data"
    },
    {
     "data": {
      "text/html": [
       "<p>The emergence of infectious disease within new host species or naïve populations can greatly influence species survival and adaptation</p>"
      ],
      "text/plain": [
       "<IPython.core.display.HTML object>"
      ]
     },
     "metadata": {},
     "output_type": "display_data"
    },
    {
     "data": {
      "text/html": [
       "<p style='text-align:center'> *** </p>"
      ],
      "text/plain": [
       "<IPython.core.display.HTML object>"
      ]
     },
     "metadata": {},
     "output_type": "display_data"
    },
    {
     "data": {
      "text/html": [
       "<h3> ''DOES GENETIC DIVERSITY LIMIT DISEASE SPREAD IN NATURAL HOST POPULATIONS?''</h2>"
      ],
      "text/plain": [
       "<IPython.core.display.HTML object>"
      ]
     },
     "metadata": {},
     "output_type": "display_data"
    },
    {
     "data": {
      "text/html": [
       "<p> Thus, host population genetic diversity seems to have an important role in buffering populations against epidemics</p>"
      ],
      "text/plain": [
       "<IPython.core.display.HTML object>"
      ]
     },
     "metadata": {},
     "output_type": "display_data"
    },
    {
     "data": {
      "text/html": [
       "<p style='text-align:center'> *** </p>"
      ],
      "text/plain": [
       "<IPython.core.display.HTML object>"
      ]
     },
     "metadata": {},
     "output_type": "display_data"
    },
    {
     "data": {
      "text/html": [
       "<h3> ''GENETIC DIVERSITY AND PHYLODYNAMICS OF AVIAN CORONAVIRUSES IN EGYPTIAN WILD BIRDS''</h2>"
      ],
      "text/plain": [
       "<IPython.core.display.HTML object>"
      ]
     },
     "metadata": {},
     "output_type": "display_data"
    },
    {
     "data": {
      "text/html": [
       "<p> Phylodynamic and evolutionary analysis indicate that wild bird ACoV strains are closely related to the infectious bronchitis viruses (IBVs) reported from commercial poultry, indicating their possible threat to commercial poultry</p>"
      ],
      "text/plain": [
       "<IPython.core.display.HTML object>"
      ]
     },
     "metadata": {},
     "output_type": "display_data"
    },
    {
     "data": {
      "text/html": [
       "<p style='text-align:center'> *** </p>"
      ],
      "text/plain": [
       "<IPython.core.display.HTML object>"
      ]
     },
     "metadata": {},
     "output_type": "display_data"
    },
    {
     "data": {
      "text/html": [
       "<h3> ''DOES GENETIC DIVERSITY LIMIT DISEASE SPREAD IN NATURAL HOST POPULATIONS?''</h2>"
      ],
      "text/plain": [
       "<IPython.core.display.HTML object>"
      ]
     },
     "metadata": {},
     "output_type": "display_data"
    },
    {
     "data": {
      "text/html": [
       "<p>Consistent with results from agricultural populations, the existing literature suggests that high genetic diversity could buffer host populations against disease spread</p>"
      ],
      "text/plain": [
       "<IPython.core.display.HTML object>"
      ]
     },
     "metadata": {},
     "output_type": "display_data"
    },
    {
     "data": {
      "text/html": [
       "<p style='text-align:center'> *** </p>"
      ],
      "text/plain": [
       "<IPython.core.display.HTML object>"
      ]
     },
     "metadata": {},
     "output_type": "display_data"
    },
    {
     "data": {
      "text/html": [
       "<h3> ''VIRUSES RELIABLE AND STANDARDIZED ANIMAL MODELS TO STUDY THE PATHOGENESIS OF BLUETONGUE AND SCHMALLENBERG VIRUSES IN RUMINANT NATURAL HOST SPECIES WITH SPECIAL EMPHASIS ON PLACENTAL CROSSING''</h2>"
      ],
      "text/plain": [
       "<IPython.core.display.HTML object>"
      ]
     },
     "metadata": {},
     "output_type": "display_data"
    },
    {
     "data": {
      "text/html": [
       "<p>Two pathogens affecting cattle and sheep were responsible for major outbreaks in Mainland Europe in the past 15 years: Bluetongue virus (BTV) and Schmallenberg virus (SBV)</p>"
      ],
      "text/plain": [
       "<IPython.core.display.HTML object>"
      ]
     },
     "metadata": {},
     "output_type": "display_data"
    },
    {
     "data": {
      "text/html": [
       "<p style='text-align:center'> *** </p>"
      ],
      "text/plain": [
       "<IPython.core.display.HTML object>"
      ]
     },
     "metadata": {},
     "output_type": "display_data"
    },
    {
     "data": {
      "text/html": [
       "<h3> ''GENETIC SUSCEPTIBILITY TO INFECTIOUS DISEASES: CURRENT STATUS AND FUTURE PERSPECTIVES FROM GENOME-WIDE APPROACHES''</h2>"
      ],
      "text/plain": [
       "<IPython.core.display.HTML object>"
      ]
     },
     "metadata": {},
     "output_type": "display_data"
    },
    {
     "data": {
      "text/html": [
       "<p> The majority of patients recruited in the study were infected with genotype 3 and HCV is genetically heterogeneous, suggesting that other and possibly different interactions exist in patients infected by distinct HCV genotypes</p>"
      ],
      "text/plain": [
       "<IPython.core.display.HTML object>"
      ]
     },
     "metadata": {},
     "output_type": "display_data"
    },
    {
     "data": {
      "text/html": [
       "<p style='text-align:center'> *** </p>"
      ],
      "text/plain": [
       "<IPython.core.display.HTML object>"
      ]
     },
     "metadata": {},
     "output_type": "display_data"
    },
    {
     "data": {
      "text/html": [
       "<h3> ''ASTROVIRUS INFECTIONS IN HUMANS AND ANIMALS -MOLECULAR BIOLOGY, GENETIC DIVERSITY, AND INTERSPECIES TRANSMISSIONS''</h2>"
      ],
      "text/plain": [
       "<IPython.core.display.HTML object>"
      ]
     },
     "metadata": {},
     "output_type": "display_data"
    },
    {
     "data": {
      "text/html": [
       "<p> The virus responsible for the infection was further shown to be genetically related to BoAstV, suggesting that this virus could cross the species barrier to infect both cattle and roe deer (Tse et al</p>"
      ],
      "text/plain": [
       "<IPython.core.display.HTML object>"
      ]
     },
     "metadata": {},
     "output_type": "display_data"
    },
    {
     "data": {
      "text/html": [
       "<p style='text-align:center'> *** </p>"
      ],
      "text/plain": [
       "<IPython.core.display.HTML object>"
      ]
     },
     "metadata": {},
     "output_type": "display_data"
    },
    {
     "data": {
      "text/html": [
       "<h3> ''NATURAL SELECTION AND INFECTIOUS DISEASE IN HUMAN POPULATIONS''</h2>"
      ],
      "text/plain": [
       "<IPython.core.display.HTML object>"
      ]
     },
     "metadata": {},
     "output_type": "display_data"
    },
    {
     "data": {
      "text/html": [
       "<p> Consistent with long host-pathogen co-evolution, only 10% of infected individuals develop active disease; in most infected individuals the host immune system contains the pathogen</p>"
      ],
      "text/plain": [
       "<IPython.core.display.HTML object>"
      ]
     },
     "metadata": {},
     "output_type": "display_data"
    },
    {
     "data": {
      "text/html": [
       "<p style='text-align:center'> *** </p>"
      ],
      "text/plain": [
       "<IPython.core.display.HTML object>"
      ]
     },
     "metadata": {},
     "output_type": "display_data"
    },
    {
     "data": {
      "text/html": [
       "<h3> ''ANIMAL VIRUS ECOLOGY AND EVOLUTION ARE SHAPED BY THE VIRUS HOST-BODY INFILTRATION AND COLONIZATION PATTERN''</h2>"
      ],
      "text/plain": [
       "<IPython.core.display.HTML object>"
      ]
     },
     "metadata": {},
     "output_type": "display_data"
    },
    {
     "data": {
      "text/html": [
       "<p> For example, an opportunistic, epithelial virus of wildlife origin is likely to be found circulating in livestock before becoming first detected in humans as host</p>"
      ],
      "text/plain": [
       "<IPython.core.display.HTML object>"
      ]
     },
     "metadata": {},
     "output_type": "display_data"
    },
    {
     "data": {
      "text/html": [
       "<p style='text-align:center'> *** </p>"
      ],
      "text/plain": [
       "<IPython.core.display.HTML object>"
      ]
     },
     "metadata": {},
     "output_type": "display_data"
    },
    {
     "data": {
      "text/html": [
       "<h3> ''ORIGIN, GENETIC DIVERSITY, AND EVOLUTIONARY DYNAMICS OF NOVEL PORCINE CIRCOVIRUS 3''</h2>"
      ],
      "text/plain": [
       "<IPython.core.display.HTML object>"
      ]
     },
     "metadata": {},
     "output_type": "display_data"
    },
    {
     "data": {
      "text/html": [
       "<p> This suggests the potential to become endemic in pigs, at least if compared to human influenza viruses</p>"
      ],
      "text/plain": [
       "<IPython.core.display.HTML object>"
      ]
     },
     "metadata": {},
     "output_type": "display_data"
    },
    {
     "data": {
      "text/html": [
       "<p style='text-align:center'> *** </p>"
      ],
      "text/plain": [
       "<IPython.core.display.HTML object>"
      ]
     },
     "metadata": {},
     "output_type": "display_data"
    },
    {
     "data": {
      "text/html": [
       "<h1>5. Experimental infections to test host range for this pathogen.</h1>"
      ],
      "text/plain": [
       "<IPython.core.display.HTML object>"
      ]
     },
     "metadata": {},
     "output_type": "display_data"
    },
    {
     "data": {
      "text/html": [
       "<h3> ''VIRUSES THE BROAD HOST RANGE AND GENETIC DIVERSITY OF MAMMALIAN AND AVIAN ASTROVIRUSES''</h2>"
      ],
      "text/plain": [
       "<IPython.core.display.HTML object>"
      ]
     },
     "metadata": {},
     "output_type": "display_data"
    },
    {
     "data": {
      "text/html": [
       "<p> Farms and abattoirs have also been recognized as environments facilitating transmission between livestock species and to farm and abattoir workers [114] </p>"
      ],
      "text/plain": [
       "<IPython.core.display.HTML object>"
      ]
     },
     "metadata": {},
     "output_type": "display_data"
    },
    {
     "data": {
      "text/html": [
       "<p style='text-align:center'> *** </p>"
      ],
      "text/plain": [
       "<IPython.core.display.HTML object>"
      ]
     },
     "metadata": {},
     "output_type": "display_data"
    },
    {
     "data": {
      "text/html": [
       "<h3> ''VIRUS-HOST COEVOLUTION WITH A FOCUS ON ANIMAL AND HUMAN DNA VIRUSES''</h2>"
      ],
      "text/plain": [
       "<IPython.core.display.HTML object>"
      ]
     },
     "metadata": {},
     "output_type": "display_data"
    },
    {
     "data": {
      "text/html": [
       "<p> Chronologically, HVs of mammals and birds were known first causing different diseases in humans, livestock and poultry</p>"
      ],
      "text/plain": [
       "<IPython.core.display.HTML object>"
      ]
     },
     "metadata": {},
     "output_type": "display_data"
    },
    {
     "data": {
      "text/html": [
       "<p style='text-align:center'> *** </p>"
      ],
      "text/plain": [
       "<IPython.core.display.HTML object>"
      ]
     },
     "metadata": {},
     "output_type": "display_data"
    },
    {
     "data": {
      "text/html": [
       "<h3> ''ANIMAL VIRUS ECOLOGY AND EVOLUTION ARE SHAPED BY THE VIRUS HOST-BODY INFILTRATION AND COLONIZATION PATTERN''</h2>"
      ],
      "text/plain": [
       "<IPython.core.display.HTML object>"
      ]
     },
     "metadata": {},
     "output_type": "display_data"
    },
    {
     "data": {
      "text/html": [
       "<p> Livestock infections and diseases resulting from virus spill-over from wildlife were excluded from the analysis</p>"
      ],
      "text/plain": [
       "<IPython.core.display.HTML object>"
      ]
     },
     "metadata": {},
     "output_type": "display_data"
    },
    {
     "data": {
      "text/html": [
       "<p style='text-align:center'> *** </p>"
      ],
      "text/plain": [
       "<IPython.core.display.HTML object>"
      ]
     },
     "metadata": {},
     "output_type": "display_data"
    },
    {
     "data": {
      "text/html": [
       "<h3> ''NEWLY EMERGED PORCINE ENTERIC ALPHACORONAVIRUS IN SOUTHERN CHINA: IDENTIFICATION, ORIGIN AND EVOLUTIONARY HISTORY ANALYSIS''</h2>"
      ],
      "text/plain": [
       "<IPython.core.display.HTML object>"
      ]
     },
     "metadata": {},
     "output_type": "display_data"
    },
    {
     "data": {
      "text/html": [
       "<p> Small intestinal and fecal samples were collected from ill pigs and submitted to the Animal Disease Detection Diagnosis Center of Southern China Agricultural University for pathogen detection</p>"
      ],
      "text/plain": [
       "<IPython.core.display.HTML object>"
      ]
     },
     "metadata": {},
     "output_type": "display_data"
    },
    {
     "data": {
      "text/html": [
       "<p style='text-align:center'> *** </p>"
      ],
      "text/plain": [
       "<IPython.core.display.HTML object>"
      ]
     },
     "metadata": {},
     "output_type": "display_data"
    },
    {
     "data": {
      "text/html": [
       "<h3> ''VIRUSES THE BROAD HOST RANGE AND GENETIC DIVERSITY OF MAMMALIAN AND AVIAN ASTROVIRUSES''</h2>"
      ],
      "text/plain": [
       "<IPython.core.display.HTML object>"
      ]
     },
     "metadata": {},
     "output_type": "display_data"
    },
    {
     "data": {
      "text/html": [
       "<p> Avian astroviruses have been documented to cause infection in poultry leading to economic losses in farms and affecting food production worldwide [85] </p>"
      ],
      "text/plain": [
       "<IPython.core.display.HTML object>"
      ]
     },
     "metadata": {},
     "output_type": "display_data"
    },
    {
     "data": {
      "text/html": [
       "<p style='text-align:center'> *** </p>"
      ],
      "text/plain": [
       "<IPython.core.display.HTML object>"
      ]
     },
     "metadata": {},
     "output_type": "display_data"
    },
    {
     "data": {
      "text/html": [
       "<h3> ''ANIMAL VIRUS ECOLOGY AND EVOLUTION ARE SHAPED BY THE VIRUS HOST-BODY INFILTRATION AND COLONIZATION PATTERN''</h2>"
      ],
      "text/plain": [
       "<IPython.core.display.HTML object>"
      ]
     },
     "metadata": {},
     "output_type": "display_data"
    },
    {
     "data": {
      "text/html": [
       "<p> For this, the ruminant plus equine viruses were contrasted to the poultry plus pig viruses</p>"
      ],
      "text/plain": [
       "<IPython.core.display.HTML object>"
      ]
     },
     "metadata": {},
     "output_type": "display_data"
    },
    {
     "data": {
      "text/html": [
       "<p style='text-align:center'> *** </p>"
      ],
      "text/plain": [
       "<IPython.core.display.HTML object>"
      ]
     },
     "metadata": {},
     "output_type": "display_data"
    },
    {
     "data": {
      "text/html": [
       "<h3> ''VIRUSES THE BROAD HOST RANGE AND GENETIC DIVERSITY OF MAMMALIAN AND AVIAN ASTROVIRUSES''</h2>"
      ],
      "text/plain": [
       "<IPython.core.display.HTML object>"
      ]
     },
     "metadata": {},
     "output_type": "display_data"
    },
    {
     "data": {
      "text/html": [
       "<p> Many other species have contact with livestock in a farming environment; in addition to wild species, companion animals such as cats and dogs and other peri-domestic animals have contact with livestock and their biological waste providing substantial opportunities for cross-species transmission</p>"
      ],
      "text/plain": [
       "<IPython.core.display.HTML object>"
      ]
     },
     "metadata": {},
     "output_type": "display_data"
    },
    {
     "data": {
      "text/html": [
       "<p style='text-align:center'> *** </p>"
      ],
      "text/plain": [
       "<IPython.core.display.HTML object>"
      ]
     },
     "metadata": {},
     "output_type": "display_data"
    },
    {
     "data": {
      "text/html": [
       "<h3> ''VIRUSES RELIABLE AND STANDARDIZED ANIMAL MODELS TO STUDY THE PATHOGENESIS OF BLUETONGUE AND SCHMALLENBERG VIRUSES IN RUMINANT NATURAL HOST SPECIES WITH SPECIAL EMPHASIS ON PLACENTAL CROSSING''</h2>"
      ],
      "text/plain": [
       "<IPython.core.display.HTML object>"
      ]
     },
     "metadata": {},
     "output_type": "display_data"
    },
    {
     "data": {
      "text/html": [
       "<p>Two pathogens affecting cattle and sheep were responsible for major outbreaks in Mainland Europe in the past 15 years: Bluetongue virus (BTV) and Schmallenberg virus (SBV)</p>"
      ],
      "text/plain": [
       "<IPython.core.display.HTML object>"
      ]
     },
     "metadata": {},
     "output_type": "display_data"
    },
    {
     "data": {
      "text/html": [
       "<p style='text-align:center'> *** </p>"
      ],
      "text/plain": [
       "<IPython.core.display.HTML object>"
      ]
     },
     "metadata": {},
     "output_type": "display_data"
    },
    {
     "data": {
      "text/html": [
       "<h3> ''NEWLY EMERGED PORCINE ENTERIC ALPHACORONAVIRUS IN SOUTHERN CHINA: IDENTIFICATION, ORIGIN AND EVOLUTIONARY HISTORY ANALYSIS''</h2>"
      ],
      "text/plain": [
       "<IPython.core.display.HTML object>"
      ]
     },
     "metadata": {},
     "output_type": "display_data"
    },
    {
     "data": {
      "text/html": [
       "<p>In March 2017, an acute diarrheal outbreak of newborn-piglet diarrhea occurred in a commercial pig farm in Guangdong Province, China</p>"
      ],
      "text/plain": [
       "<IPython.core.display.HTML object>"
      ]
     },
     "metadata": {},
     "output_type": "display_data"
    },
    {
     "data": {
      "text/html": [
       "<p style='text-align:center'> *** </p>"
      ],
      "text/plain": [
       "<IPython.core.display.HTML object>"
      ]
     },
     "metadata": {},
     "output_type": "display_data"
    },
    {
     "data": {
      "text/html": [
       "<h3> ''MOLECULAR EVOLUTION AND EMERGENCE OF AVIAN GAMMACORONAVIRUSES''</h2>"
      ],
      "text/plain": [
       "<IPython.core.display.HTML object>"
      ]
     },
     "metadata": {},
     "output_type": "display_data"
    },
    {
     "data": {
      "text/html": [
       "<p>Gammacoronaviruses frequently emerge in avian species</p>"
      ],
      "text/plain": [
       "<IPython.core.display.HTML object>"
      ]
     },
     "metadata": {},
     "output_type": "display_data"
    },
    {
     "data": {
      "text/html": [
       "<p style='text-align:center'> *** </p>"
      ],
      "text/plain": [
       "<IPython.core.display.HTML object>"
      ]
     },
     "metadata": {},
     "output_type": "display_data"
    },
    {
     "data": {
      "text/html": [
       "<h1>6. Animal host(s) and any evidence of continued spill-over to humans</h1>"
      ],
      "text/plain": [
       "<IPython.core.display.HTML object>"
      ]
     },
     "metadata": {},
     "output_type": "display_data"
    },
    {
     "data": {
      "text/html": [
       "<h3> ''THE EVOLUTION AND GENETICS OF VIRUS HOST SHIFTS''</h2>"
      ],
      "text/plain": [
       "<IPython.core.display.HTML object>"
      ]
     },
     "metadata": {},
     "output_type": "display_data"
    },
    {
     "data": {
      "text/html": [
       "<p> Avian influenza viruses bind SAa-2,3 receptors in the respiratory The pathogen is less successful in host clades more distantly related to its natural host</p>"
      ],
      "text/plain": [
       "<IPython.core.display.HTML object>"
      ]
     },
     "metadata": {},
     "output_type": "display_data"
    },
    {
     "data": {
      "text/html": [
       "<p style='text-align:center'> *** </p>"
      ],
      "text/plain": [
       "<IPython.core.display.HTML object>"
      ]
     },
     "metadata": {},
     "output_type": "display_data"
    },
    {
     "data": {
      "text/html": [
       "<h3> ''THE EVOLUTION AND GENETICS OF VIRUS HOST SHIFTS''</h2>"
      ],
      "text/plain": [
       "<IPython.core.display.HTML object>"
      ]
     },
     "metadata": {},
     "output_type": "display_data"
    },
    {
     "data": {
      "text/html": [
       "<p> Both processes result in closely related host species harbouring similar pathogens, and in some host clades harbouring more pathogen species</p>"
      ],
      "text/plain": [
       "<IPython.core.display.HTML object>"
      ]
     },
     "metadata": {},
     "output_type": "display_data"
    },
    {
     "data": {
      "text/html": [
       "<p style='text-align:center'> *** </p>"
      ],
      "text/plain": [
       "<IPython.core.display.HTML object>"
      ]
     },
     "metadata": {},
     "output_type": "display_data"
    },
    {
     "data": {
      "text/html": [
       "<h3> ''DOES GENETIC DIVERSITY LIMIT DISEASE SPREAD IN NATURAL HOST POPULATIONS?''</h2>"
      ],
      "text/plain": [
       "<IPython.core.display.HTML object>"
      ]
     },
     "metadata": {},
     "output_type": "display_data"
    },
    {
     "data": {
      "text/html": [
       "<p> In these models, hosts varied in susceptibility to a single pathogen strain, but no host genotype was completely resistant to infection</p>"
      ],
      "text/plain": [
       "<IPython.core.display.HTML object>"
      ]
     },
     "metadata": {},
     "output_type": "display_data"
    },
    {
     "data": {
      "text/html": [
       "<p style='text-align:center'> *** </p>"
      ],
      "text/plain": [
       "<IPython.core.display.HTML object>"
      ]
     },
     "metadata": {},
     "output_type": "display_data"
    },
    {
     "data": {
      "text/html": [
       "<h3> ''A SYSTEMS BIOLOGY APPROACH TO INFECTIOUS DISEASE RESEARCH: INNOVATING THE PATHOGEN-HOST RESEARCH PARADIGM''</h2>"
      ],
      "text/plain": [
       "<IPython.core.display.HTML object>"
      ]
     },
     "metadata": {},
     "output_type": "display_data"
    },
    {
     "data": {
      "text/html": [
       "<p> These studies are being extended to identify and model those hostvirus interactions that predispose an infected lung to secondary bacterial invasion by Staphylococcus aureus</p>"
      ],
      "text/plain": [
       "<IPython.core.display.HTML object>"
      ]
     },
     "metadata": {},
     "output_type": "display_data"
    },
    {
     "data": {
      "text/html": [
       "<p style='text-align:center'> *** </p>"
      ],
      "text/plain": [
       "<IPython.core.display.HTML object>"
      ]
     },
     "metadata": {},
     "output_type": "display_data"
    },
    {
     "data": {
      "text/html": [
       "<h3> ''EVOLUTION OF FELINE IMMUNODEFICIENCY VIRUS IN FELIDAE: IMPLICATIONS FOR HUMAN HEALTH AND WILDLIFE ECOLOGY''</h2>"
      ],
      "text/plain": [
       "<IPython.core.display.HTML object>"
      ]
     },
     "metadata": {},
     "output_type": "display_data"
    },
    {
     "data": {
      "text/html": [
       "<p>Molecular genetic tools are informative in evaluating emerging pathogens and provide essential information such as pathogen identification, association of particular or novel strains with disease outbreaks, mutational changes leading to increased or decreased pathogenesis, and geographic and/or evolutionary origins of the pathogen</p>"
      ],
      "text/plain": [
       "<IPython.core.display.HTML object>"
      ]
     },
     "metadata": {},
     "output_type": "display_data"
    },
    {
     "data": {
      "text/html": [
       "<p style='text-align:center'> *** </p>"
      ],
      "text/plain": [
       "<IPython.core.display.HTML object>"
      ]
     },
     "metadata": {},
     "output_type": "display_data"
    },
    {
     "data": {
      "text/html": [
       "<h3> ''ORIGIN AND EVOLUTION OF VIRUSES''</h2>"
      ],
      "text/plain": [
       "<IPython.core.display.HTML object>"
      ]
     },
     "metadata": {},
     "output_type": "display_data"
    },
    {
     "data": {
      "text/html": [
       "<p>The complexity of mutant spectra can infl uence disease progression and viral pathogenesis, as demonstrated using virus variants selected for increased replicative fi delity</p>"
      ],
      "text/plain": [
       "<IPython.core.display.HTML object>"
      ]
     },
     "metadata": {},
     "output_type": "display_data"
    },
    {
     "data": {
      "text/html": [
       "<p style='text-align:center'> *** </p>"
      ],
      "text/plain": [
       "<IPython.core.display.HTML object>"
      ]
     },
     "metadata": {},
     "output_type": "display_data"
    },
    {
     "data": {
      "text/html": [
       "<h3> ''NATURAL SELECTION AND INFECTIOUS DISEASE IN HUMAN POPULATIONS''</h2>"
      ],
      "text/plain": [
       "<IPython.core.display.HTML object>"
      ]
     },
     "metadata": {},
     "output_type": "display_data"
    },
    {
     "data": {
      "text/html": [
       "<p> The range of diseases affected by ancient pathogen-driven selection extends beyond infectious diseases and immune-mediated disorders</p>"
      ],
      "text/plain": [
       "<IPython.core.display.HTML object>"
      ]
     },
     "metadata": {},
     "output_type": "display_data"
    },
    {
     "data": {
      "text/html": [
       "<p style='text-align:center'> *** </p>"
      ],
      "text/plain": [
       "<IPython.core.display.HTML object>"
      ]
     },
     "metadata": {},
     "output_type": "display_data"
    },
    {
     "data": {
      "text/html": [
       "<h3> ''UNIFYING VIRAL GENETICS AND HUMAN TRANSPORTATION DATA TO PREDICT THE GLOBAL TRANSMISSION DYNAMICS OF HUMAN INFLUENZA H3N2''</h2>"
      ],
      "text/plain": [
       "<IPython.core.display.HTML object>"
      ]
     },
     "metadata": {},
     "output_type": "display_data"
    },
    {
     "data": {
      "text/html": [
       "<p>Notable recent examples include novel influenza strains, severe acute respiratory syndrome (SARS) virus and Methicillin-resistant Staphylococcus aureus, which all exploit today's complex and voluminous transport networks to rapidly disseminate in a globalized world</p>"
      ],
      "text/plain": [
       "<IPython.core.display.HTML object>"
      ]
     },
     "metadata": {},
     "output_type": "display_data"
    },
    {
     "data": {
      "text/html": [
       "<p style='text-align:center'> *** </p>"
      ],
      "text/plain": [
       "<IPython.core.display.HTML object>"
      ]
     },
     "metadata": {},
     "output_type": "display_data"
    },
    {
     "data": {
      "text/html": [
       "<h3> ''PATHOGEN DIVERSITY DRIVES THE EVOLUTION OF GENERALIST MHC-II ALLELES IN HUMAN POPULATIONS''</h2>"
      ],
      "text/plain": [
       "<IPython.core.display.HTML object>"
      ]
     },
     "metadata": {},
     "output_type": "display_data"
    },
    {
     "data": {
      "text/html": [
       "<p> It consists of 95 diseases caused by 168 extracellular pathogens, including diverse bacterial species, fungi, protozoa, and helminthes</p>"
      ],
      "text/plain": [
       "<IPython.core.display.HTML object>"
      ]
     },
     "metadata": {},
     "output_type": "display_data"
    },
    {
     "data": {
      "text/html": [
       "<p style='text-align:center'> *** </p>"
      ],
      "text/plain": [
       "<IPython.core.display.HTML object>"
      ]
     },
     "metadata": {},
     "output_type": "display_data"
    },
    {
     "data": {
      "text/html": [
       "<h3> ''NATURAL SELECTION AND INFECTIOUS DISEASE IN HUMAN POPULATIONS''</h2>"
      ],
      "text/plain": [
       "<IPython.core.display.HTML object>"
      ]
     },
     "metadata": {},
     "output_type": "display_data"
    },
    {
     "data": {
      "text/html": [
       "<p> tuberculosis strain, an accurate phenotype would include sequence data from the pathogen</p>"
      ],
      "text/plain": [
       "<IPython.core.display.HTML object>"
      ]
     },
     "metadata": {},
     "output_type": "display_data"
    },
    {
     "data": {
      "text/html": [
       "<p style='text-align:center'> *** </p>"
      ],
      "text/plain": [
       "<IPython.core.display.HTML object>"
      ]
     },
     "metadata": {},
     "output_type": "display_data"
    },
    {
     "data": {
      "text/html": [
       "<h1>7. Socioeconomic and behavioral risk factors for this spill-over</h1>"
      ],
      "text/plain": [
       "<IPython.core.display.HTML object>"
      ]
     },
     "metadata": {},
     "output_type": "display_data"
    },
    {
     "data": {
      "text/html": [
       "<h3> ''ANIMAL VIRUS ECOLOGY AND EVOLUTION ARE SHAPED BY THE VIRUS HOST-BODY INFILTRATION AND COLONIZATION PATTERN''</h2>"
      ],
      "text/plain": [
       "<IPython.core.display.HTML object>"
      ]
     },
     "metadata": {},
     "output_type": "display_data"
    },
    {
     "data": {
      "text/html": [
       "<p> Further, the SARS corona virus infected civet cats raised as food animals before appearing in humans as host [26] </p>"
      ],
      "text/plain": [
       "<IPython.core.display.HTML object>"
      ]
     },
     "metadata": {},
     "output_type": "display_data"
    },
    {
     "data": {
      "text/html": [
       "<p style='text-align:center'> *** </p>"
      ],
      "text/plain": [
       "<IPython.core.display.HTML object>"
      ]
     },
     "metadata": {},
     "output_type": "display_data"
    },
    {
     "data": {
      "text/html": [
       "<h3> ''VIRUSES THE BROAD HOST RANGE AND GENETIC DIVERSITY OF MAMMALIAN AND AVIAN ASTROVIRUSES''</h2>"
      ],
      "text/plain": [
       "<IPython.core.display.HTML object>"
      ]
     },
     "metadata": {},
     "output_type": "display_data"
    },
    {
     "data": {
      "text/html": [
       "<p> Many other species have contact with livestock in a farming environment; in addition to wild species, companion animals such as cats and dogs and other peri-domestic animals have contact with livestock and their biological waste providing substantial opportunities for cross-species transmission</p>"
      ],
      "text/plain": [
       "<IPython.core.display.HTML object>"
      ]
     },
     "metadata": {},
     "output_type": "display_data"
    },
    {
     "data": {
      "text/html": [
       "<p style='text-align:center'> *** </p>"
      ],
      "text/plain": [
       "<IPython.core.display.HTML object>"
      ]
     },
     "metadata": {},
     "output_type": "display_data"
    },
    {
     "data": {
      "text/html": [
       "<h3> ''THE EVOLUTION AND GENETICS OF VIRUS HOST SHIFTS''</h2>"
      ],
      "text/plain": [
       "<IPython.core.display.HTML object>"
      ]
     },
     "metadata": {},
     "output_type": "display_data"
    },
    {
     "data": {
      "text/html": [
       "<p>Emerging infectious diseases affecting humans, wildlife, and agriculture are often the result of a pathogen jumping from its original host into a novel host species</p>"
      ],
      "text/plain": [
       "<IPython.core.display.HTML object>"
      ]
     },
     "metadata": {},
     "output_type": "display_data"
    },
    {
     "data": {
      "text/html": [
       "<p style='text-align:center'> *** </p>"
      ],
      "text/plain": [
       "<IPython.core.display.HTML object>"
      ]
     },
     "metadata": {},
     "output_type": "display_data"
    },
    {
     "data": {
      "text/html": [
       "<h3> ''THE EVOLUTION AND GENETICS OF VIRUS HOST SHIFTS''</h2>"
      ],
      "text/plain": [
       "<IPython.core.display.HTML object>"
      ]
     },
     "metadata": {},
     "output_type": "display_data"
    },
    {
     "data": {
      "text/html": [
       "<p>One little-explored consequence of host shifts is how they affect the distribution of pathogens across host species [85] </p>"
      ],
      "text/plain": [
       "<IPython.core.display.HTML object>"
      ]
     },
     "metadata": {},
     "output_type": "display_data"
    },
    {
     "data": {
      "text/html": [
       "<p style='text-align:center'> *** </p>"
      ],
      "text/plain": [
       "<IPython.core.display.HTML object>"
      ]
     },
     "metadata": {},
     "output_type": "display_data"
    },
    {
     "data": {
      "text/html": [
       "<h3> ''MICROBIAL GENOMES FROM NON-HUMAN PRIMATE GUT METAGENOMES EXPAND THE PRIMATE-ASSOCIATED BACTERIAL TREE OF LIFE WITH OVER 1000 NOVEL SPECIES''</h2>"
      ],
      "text/plain": [
       "<IPython.core.display.HTML object>"
      ]
     },
     "metadata": {},
     "output_type": "display_data"
    },
    {
     "data": {
      "text/html": [
       "<p>Despite the low overall degree of microbial sharing between human and non-human hosts at the species level, some bacterial families were common among primate hosts (Fig</p>"
      ],
      "text/plain": [
       "<IPython.core.display.HTML object>"
      ]
     },
     "metadata": {},
     "output_type": "display_data"
    },
    {
     "data": {
      "text/html": [
       "<p style='text-align:center'> *** </p>"
      ],
      "text/plain": [
       "<IPython.core.display.HTML object>"
      ]
     },
     "metadata": {},
     "output_type": "display_data"
    },
    {
     "data": {
      "text/html": [
       "<h3> ''EVOLUTIONARY ORIGINS OF EPIDEMIC POTENTIAL AMONG HUMAN RNA VIRUSES''</h2>"
      ],
      "text/plain": [
       "<IPython.core.display.HTML object>"
      ]
     },
     "metadata": {},
     "output_type": "display_data"
    },
    {
     "data": {
      "text/html": [
       "<p> L2 and L3/4 viruses in non-human hosts may cross the species barrier and enter human populations</p>"
      ],
      "text/plain": [
       "<IPython.core.display.HTML object>"
      ]
     },
     "metadata": {},
     "output_type": "display_data"
    },
    {
     "data": {
      "text/html": [
       "<p style='text-align:center'> *** </p>"
      ],
      "text/plain": [
       "<IPython.core.display.HTML object>"
      ]
     },
     "metadata": {},
     "output_type": "display_data"
    },
    {
     "data": {
      "text/html": [
       "<h3> ''EVOLUTION AND GENETIC DIVERSITY OF PORCINE CIRCOVIRUS 3 IN CHINA''</h2>"
      ],
      "text/plain": [
       "<IPython.core.display.HTML object>"
      ]
     },
     "metadata": {},
     "output_type": "display_data"
    },
    {
     "data": {
      "text/html": [
       "<p>The Circovirus genus claimed veterinarians' attention shortly after its discovery, most members infect avian species but swine also serve as natural hosts [1, 2] </p>"
      ],
      "text/plain": [
       "<IPython.core.display.HTML object>"
      ]
     },
     "metadata": {},
     "output_type": "display_data"
    },
    {
     "data": {
      "text/html": [
       "<p style='text-align:center'> *** </p>"
      ],
      "text/plain": [
       "<IPython.core.display.HTML object>"
      ]
     },
     "metadata": {},
     "output_type": "display_data"
    },
    {
     "data": {
      "text/html": [
       "<h3> ''THE DIVERSITY, EVOLUTION AND ORIGINS OF VERTEBRATE RNA VIRUSES''</h2>"
      ],
      "text/plain": [
       "<IPython.core.display.HTML object>"
      ]
     },
     "metadata": {},
     "output_type": "display_data"
    },
    {
     "data": {
      "text/html": [
       "<p> As mammals and birds often experience relatively similar infectious disease to humans, and live in close proximity to us, they are commonly thought to be the natural reservoir hosts of the RNA viruses that subsequently emerge and cause diseases in humans through a process of cross-species transmission [1, 2] </p>"
      ],
      "text/plain": [
       "<IPython.core.display.HTML object>"
      ]
     },
     "metadata": {},
     "output_type": "display_data"
    },
    {
     "data": {
      "text/html": [
       "<p style='text-align:center'> *** </p>"
      ],
      "text/plain": [
       "<IPython.core.display.HTML object>"
      ]
     },
     "metadata": {},
     "output_type": "display_data"
    },
    {
     "data": {
      "text/html": [
       "<h3> ''ORIGINS AND EVOLUTION OF THE GLOBAL RNA VIROME''</h2>"
      ],
      "text/plain": [
       "<IPython.core.display.HTML object>"
      ]
     },
     "metadata": {},
     "output_type": "display_data"
    },
    {
     "data": {
      "text/html": [
       "<p> Finally, it seems plausible that, given the high prevalence of ϪRNA viruses in metazoa and their virtual absence in protists (with the exception of the recently discovered \"leishbuviruses\" that likely invaded their parasitic protist hosts via HVT from an animal host [49, 50] ), the viruses that comprise RdRp branch 5 evolved in animals via mixing and matching genes from reovirus-like and flavivirus-like ancestors</p>"
      ],
      "text/plain": [
       "<IPython.core.display.HTML object>"
      ]
     },
     "metadata": {},
     "output_type": "display_data"
    },
    {
     "data": {
      "text/html": [
       "<p style='text-align:center'> *** </p>"
      ],
      "text/plain": [
       "<IPython.core.display.HTML object>"
      ]
     },
     "metadata": {},
     "output_type": "display_data"
    },
    {
     "data": {
      "text/html": [
       "<h3> ''ASTROVIRUS INFECTIONS IN HUMANS AND ANIMALS -MOLECULAR BIOLOGY, GENETIC DIVERSITY, AND INTERSPECIES TRANSMISSIONS''</h2>"
      ],
      "text/plain": [
       "<IPython.core.display.HTML object>"
      ]
     },
     "metadata": {},
     "output_type": "display_data"
    },
    {
     "data": {
      "text/html": [
       "<p> At present, the list of animal species susceptible to astrovirus infection has expanded to include domestic, synantropic and wild animals, avian and mammalian species in the terrestrial and aquatic environments (Table 1 )</p>"
      ],
      "text/plain": [
       "<IPython.core.display.HTML object>"
      ]
     },
     "metadata": {},
     "output_type": "display_data"
    },
    {
     "data": {
      "text/html": [
       "<p style='text-align:center'> *** </p>"
      ],
      "text/plain": [
       "<IPython.core.display.HTML object>"
      ]
     },
     "metadata": {},
     "output_type": "display_data"
    },
    {
     "data": {
      "text/html": [
       "<h1>8. Sustainable risk reduction strategies</h1>"
      ],
      "text/plain": [
       "<IPython.core.display.HTML object>"
      ]
     },
     "metadata": {},
     "output_type": "display_data"
    },
    {
     "data": {
      "text/html": [
       "<h3> ''MOLECULAR SCIENCES EFFECTS OF ANTAGOMIRS ON DIFFERENT LUNG DISEASES IN HUMAN, CELLULAR, AND ANIMAL MODELS''</h2>"
      ],
      "text/plain": [
       "<IPython.core.display.HTML object>"
      ]
     },
     "metadata": {},
     "output_type": "display_data"
    },
    {
     "data": {
      "text/html": [
       "<p> Disease exacerbations and the associated hospitalizations often represent a considerable expense at a socio-economic level</p>"
      ],
      "text/plain": [
       "<IPython.core.display.HTML object>"
      ]
     },
     "metadata": {},
     "output_type": "display_data"
    },
    {
     "data": {
      "text/html": [
       "<p style='text-align:center'> *** </p>"
      ],
      "text/plain": [
       "<IPython.core.display.HTML object>"
      ]
     },
     "metadata": {},
     "output_type": "display_data"
    },
    {
     "data": {
      "text/html": [
       "<h3> ''GENETIC DIVERSITY, SEASONALITY AND TRANSMISSION NETWORK OF HUMAN METAPNEUMOVIRUS: IDENTIFICATION OF A UNIQUE SUB-LINEAGE OF THE FUSION AND ATTACHMENT GENES OPEN''</h2>"
      ],
      "text/plain": [
       "<IPython.core.display.HTML object>"
      ]
     },
     "metadata": {},
     "output_type": "display_data"
    },
    {
     "data": {
      "text/html": [
       "<p> Further studies to assess the impact of HMPV genotypes on disease severity are warranted</p>"
      ],
      "text/plain": [
       "<IPython.core.display.HTML object>"
      ]
     },
     "metadata": {},
     "output_type": "display_data"
    },
    {
     "data": {
      "text/html": [
       "<p style='text-align:center'> *** </p>"
      ],
      "text/plain": [
       "<IPython.core.display.HTML object>"
      ]
     },
     "metadata": {},
     "output_type": "display_data"
    },
    {
     "data": {
      "text/html": [
       "<h3> ''GENETIC SUSCEPTIBILITY TO INFECTIOUS DISEASES: CURRENT STATUS AND FUTURE PERSPECTIVES FROM GENOME-WIDE APPROACHES''</h2>"
      ],
      "text/plain": [
       "<IPython.core.display.HTML object>"
      ]
     },
     "metadata": {},
     "output_type": "display_data"
    },
    {
     "data": {
      "text/html": [
       "<p> Indeed, poor socioeconomic conditions represent a risk factor for several infectious diseases (Baker et al</p>"
      ],
      "text/plain": [
       "<IPython.core.display.HTML object>"
      ]
     },
     "metadata": {},
     "output_type": "display_data"
    },
    {
     "data": {
      "text/html": [
       "<p style='text-align:center'> *** </p>"
      ],
      "text/plain": [
       "<IPython.core.display.HTML object>"
      ]
     },
     "metadata": {},
     "output_type": "display_data"
    },
    {
     "data": {
      "text/html": [
       "<h3> ''GENETIC SUSCEPTIBILITY TO INFECTIOUS DISEASES: CURRENT STATUS AND FUTURE PERSPECTIVES FROM GENOME-WIDE APPROACHES''</h2>"
      ],
      "text/plain": [
       "<IPython.core.display.HTML object>"
      ]
     },
     "metadata": {},
     "output_type": "display_data"
    },
    {
     "data": {
      "text/html": [
       "<p> These data suggest that both immunological and carcinogenic factors contribute to the risk of cervical cancer development</p>"
      ],
      "text/plain": [
       "<IPython.core.display.HTML object>"
      ]
     },
     "metadata": {},
     "output_type": "display_data"
    },
    {
     "data": {
      "text/html": [
       "<p style='text-align:center'> *** </p>"
      ],
      "text/plain": [
       "<IPython.core.display.HTML object>"
      ]
     },
     "metadata": {},
     "output_type": "display_data"
    },
    {
     "data": {
      "text/html": [
       "<h3> ''DOMESTICATION AND THE BEHAVIOR-GENETIC ANALYSIS OF CAPTIVE POPULATIONS''</h2>"
      ],
      "text/plain": [
       "<IPython.core.display.HTML object>"
      ]
     },
     "metadata": {},
     "output_type": "display_data"
    },
    {
     "data": {
      "text/html": [
       "<p> These less severe breakdowns in development may limit the generalizability of behavioral research in captivity</p>"
      ],
      "text/plain": [
       "<IPython.core.display.HTML object>"
      ]
     },
     "metadata": {},
     "output_type": "display_data"
    },
    {
     "data": {
      "text/html": [
       "<p style='text-align:center'> *** </p>"
      ],
      "text/plain": [
       "<IPython.core.display.HTML object>"
      ]
     },
     "metadata": {},
     "output_type": "display_data"
    },
    {
     "data": {
      "text/html": [
       "<h3> ''GENETIC SUSCEPTIBILITY TO INFECTIOUS DISEASES: CURRENT STATUS AND FUTURE PERSPECTIVES FROM GENOME-WIDE APPROACHES''</h2>"
      ],
      "text/plain": [
       "<IPython.core.display.HTML object>"
      ]
     },
     "metadata": {},
     "output_type": "display_data"
    },
    {
     "data": {
      "text/html": [
       "<p> This exemplifies how the combined effect of genetic admixture and environmental factors has the potential to affect genetic associations</p>"
      ],
      "text/plain": [
       "<IPython.core.display.HTML object>"
      ]
     },
     "metadata": {},
     "output_type": "display_data"
    },
    {
     "data": {
      "text/html": [
       "<p style='text-align:center'> *** </p>"
      ],
      "text/plain": [
       "<IPython.core.display.HTML object>"
      ]
     },
     "metadata": {},
     "output_type": "display_data"
    },
    {
     "data": {
      "text/html": [
       "<h3> ''FEATURE SELECTION METHODS FOR IDENTIFYING GENETIC DETERMINANTS OF HOST SPECIES IN RNA VIRUSES''</h2>"
      ],
      "text/plain": [
       "<IPython.core.display.HTML object>"
      ]
     },
     "metadata": {},
     "output_type": "display_data"
    },
    {
     "data": {
      "text/html": [
       "<p>The identification of genetic markers predicting cross-species disease emergence faces many of the same challenges as genotypeto-phenotype mapping in other spheres, such as human genomewide association studies of risk factors for chronic diseases [13] </p>"
      ],
      "text/plain": [
       "<IPython.core.display.HTML object>"
      ]
     },
     "metadata": {},
     "output_type": "display_data"
    },
    {
     "data": {
      "text/html": [
       "<p style='text-align:center'> *** </p>"
      ],
      "text/plain": [
       "<IPython.core.display.HTML object>"
      ]
     },
     "metadata": {},
     "output_type": "display_data"
    },
    {
     "data": {
      "text/html": [
       "<h3> ''PATHOGEN DIVERSITY DRIVES THE EVOLUTION OF GENERALIST MHC-II ALLELES IN HUMAN POPULATIONS''</h2>"
      ],
      "text/plain": [
       "<IPython.core.display.HTML object>"
      ]
     },
     "metadata": {},
     "output_type": "display_data"
    },
    {
     "data": {
      "text/html": [
       "<p> Clearly, future work should elucidate the evolutionary trade-offs between protection from pathogens and genetic susceptibility to autoimmune diseases</p>"
      ],
      "text/plain": [
       "<IPython.core.display.HTML object>"
      ]
     },
     "metadata": {},
     "output_type": "display_data"
    },
    {
     "data": {
      "text/html": [
       "<p style='text-align:center'> *** </p>"
      ],
      "text/plain": [
       "<IPython.core.display.HTML object>"
      ]
     },
     "metadata": {},
     "output_type": "display_data"
    },
    {
     "data": {
      "text/html": [
       "<h3> ''DOES GENETIC DIVERSITY LIMIT DISEASE SPREAD IN NATURAL HOST POPULATIONS?''</h2>"
      ],
      "text/plain": [
       "<IPython.core.display.HTML object>"
      ]
     },
     "metadata": {},
     "output_type": "display_data"
    },
    {
     "data": {
      "text/html": [
       "<p>By reducing individual-level and population-level genetic heterozygosity, inbreeding can increase host susceptibility to infectious parasites (Dwyer et al</p>"
      ],
      "text/plain": [
       "<IPython.core.display.HTML object>"
      ]
     },
     "metadata": {},
     "output_type": "display_data"
    },
    {
     "data": {
      "text/html": [
       "<p style='text-align:center'> *** </p>"
      ],
      "text/plain": [
       "<IPython.core.display.HTML object>"
      ]
     },
     "metadata": {},
     "output_type": "display_data"
    },
    {
     "data": {
      "text/html": [
       "<h3> ''UNIFYING VIRAL GENETICS AND HUMAN TRANSPORTATION DATA TO PREDICT THE GLOBAL TRANSMISSION DYNAMICS OF HUMAN INFLUENZA H3N2''</h2>"
      ],
      "text/plain": [
       "<IPython.core.display.HTML object>"
      ]
     },
     "metadata": {},
     "output_type": "display_data"
    },
    {
     "data": {
      "text/html": [
       "<p>Our analysis reveals that many potential predictors of global influenza virus spread are not associated with viral lineage movement, specifically, geographical proximity, demography and economic measures, antigenic divergence, epidemiological synchronity and seasonality do not yield noticeable support (Fig</p>"
      ],
      "text/plain": [
       "<IPython.core.display.HTML object>"
      ]
     },
     "metadata": {},
     "output_type": "display_data"
    },
    {
     "data": {
      "text/html": [
       "<p style='text-align:center'> *** </p>"
      ],
      "text/plain": [
       "<IPython.core.display.HTML object>"
      ]
     },
     "metadata": {},
     "output_type": "display_data"
    }
   ],
   "source": [
    "TASK3 = [\n",
    "\"Real-time tracking of whole genomes and a mechanism for coordinating the rapid dissemination of that information to inform the development of diagnostics and therapeutics and to track variations of the virus over time.\",\n",
    "\"Access to geographic and temporal diverse sample sets to understand geographic distribution and genomic differences, and determine whether there is more than one strain in circulation. Multi-lateral agreements such as the Nagoya Protocol could be leveraged.\"\n",
    "\"Evidence that livestock could be infected (e.g., field surveillance, genetic sequencing, receptor binding) and serve as a reservoir after the epidemic appears to be over.\",\n",
    "\"Evidence of whether farmers are infected, and whether farmers could have played a role in the origin.\",\n",
    "\"Surveillance of mixed wildlife- livestock farms for SARS-CoV-2 and other coronaviruses in Southeast Asia.\",\n",
    "\"Experimental infections to test host range for this pathogen.\",\n",
    "\"Animal host(s) and any evidence of continued spill-over to humans\",\n",
    "\"Socioeconomic and behavioral risk factors for this spill-over\",\n",
    "\"Sustainable risk reduction strategies\"\n",
    "]\n",
    "\n",
    "for i in range(len(TASK3)):\n",
    "    display(HTML(\"<h1>\" + str(i+1) + \". \" + TASK3[i] + \"</h1>\"))\n",
    "    df = pd.read_csv(DIR + \"task3_\" + str(i) + \".csv\")\n",
    "    for j, row in df.iterrows():\n",
    "        display(HTML(\"<h3> ''\" + row[3].upper() + \"''</h2>\"))\n",
    "        display(HTML(\"<p>\" + row[1] + \"</p>\"))\n",
    "        display(HTML(\"<p style='text-align:center'> *** </p>\"))"
   ]
  },
  {
   "cell_type": "code",
   "execution_count": 30,
   "metadata": {},
   "outputs": [
    {
     "data": {
      "text/html": [
       "<h1 style='font-size:30px'>What do we know about vaccines and therapeutics? What has been published concerning research and development and evaluation efforts of vaccines and therapeutics?</h1>"
      ],
      "text/plain": [
       "<IPython.core.display.HTML object>"
      ]
     },
     "metadata": {},
     "output_type": "display_data"
    },
    {
     "data": {
      "text/html": [
       "<h1>1. Effectiveness of drugs being developed and tried to treat COVID-19 patients.</h1>"
      ],
      "text/plain": [
       "<IPython.core.display.HTML object>"
      ]
     },
     "metadata": {},
     "output_type": "display_data"
    },
    {
     "data": {
      "text/html": [
       "<h3> ''ASSAY DEVELOPMENT AND HIGH THROUGHPUT ANTIVIRAL DRUG SCREENING AGAINST BLUETONGUE VIRUS''</h2>"
      ],
      "text/plain": [
       "<IPython.core.display.HTML object>"
      ]
     },
     "metadata": {},
     "output_type": "display_data"
    },
    {
     "data": {
      "text/html": [
       "<p>There are no antiviral drugs and no effective control measures developed against BTV</p>"
      ],
      "text/plain": [
       "<IPython.core.display.HTML object>"
      ]
     },
     "metadata": {},
     "output_type": "display_data"
    },
    {
     "data": {
      "text/html": [
       "<p style='text-align:center'> *** </p>"
      ],
      "text/plain": [
       "<IPython.core.display.HTML object>"
      ]
     },
     "metadata": {},
     "output_type": "display_data"
    },
    {
     "data": {
      "text/html": [
       "<h3> ''MONOCLONAL ANTIBODY-BASED THERAPIES FOR MICROBIAL DISEASES''</h2>"
      ],
      "text/plain": [
       "<IPython.core.display.HTML object>"
      ]
     },
     "metadata": {},
     "output_type": "display_data"
    },
    {
     "data": {
      "text/html": [
       "<p> Consequently, mAbs are unlikely to successfully compete with antimicrobial drugs against diseases for which cheap effective therapy is available unless a clear superiority is established for the immunoglobulin therapy alone or in combination with conventional antimicrobial therapy</p>"
      ],
      "text/plain": [
       "<IPython.core.display.HTML object>"
      ]
     },
     "metadata": {},
     "output_type": "display_data"
    },
    {
     "data": {
      "text/html": [
       "<p style='text-align:center'> *** </p>"
      ],
      "text/plain": [
       "<IPython.core.display.HTML object>"
      ]
     },
     "metadata": {},
     "output_type": "display_data"
    },
    {
     "data": {
      "text/html": [
       "<h3> ''NEW CLASS OF MONOCLONAL ANTIBODIES AGAINST SEVERE INFLUENZA: PROPHYLACTIC AND THERAPEUTIC EFFICACY IN FERRETS''</h2>"
      ],
      "text/plain": [
       "<IPython.core.display.HTML object>"
      ]
     },
     "metadata": {},
     "output_type": "display_data"
    },
    {
     "data": {
      "text/html": [
       "<p>In the absence of reliable antiviral drugs and vaccines, development of alternative strategies for influenza prophylaxis and therapy is urgently required</p>"
      ],
      "text/plain": [
       "<IPython.core.display.HTML object>"
      ]
     },
     "metadata": {},
     "output_type": "display_data"
    },
    {
     "data": {
      "text/html": [
       "<p style='text-align:center'> *** </p>"
      ],
      "text/plain": [
       "<IPython.core.display.HTML object>"
      ]
     },
     "metadata": {},
     "output_type": "display_data"
    },
    {
     "data": {
      "text/html": [
       "<h3> ''MONOCLONAL ANTIBODY-BASED THERAPIES FOR MICROBIAL DISEASES''</h2>"
      ],
      "text/plain": [
       "<IPython.core.display.HTML object>"
      ]
     },
     "metadata": {},
     "output_type": "display_data"
    },
    {
     "data": {
      "text/html": [
       "<p> Although there are numerous antiretroviral drugs available for the treatment of HIV, the availability of effective mAb therapy could complement chemotherapy by slowing the onset of resistance and possibly enhancing therapeutic efficacy</p>"
      ],
      "text/plain": [
       "<IPython.core.display.HTML object>"
      ]
     },
     "metadata": {},
     "output_type": "display_data"
    },
    {
     "data": {
      "text/html": [
       "<p style='text-align:center'> *** </p>"
      ],
      "text/plain": [
       "<IPython.core.display.HTML object>"
      ]
     },
     "metadata": {},
     "output_type": "display_data"
    },
    {
     "data": {
      "text/html": [
       "<h3> ''INTERNATIONAL JOURNAL OF NANOMEDICINE DOVEPRESS ANTIVIRAL EFFICACY OF NANOPARTICULATE VACUOLAR ATPASE INHIBITORS AGAINST INFLUENZA VIRUS INFECTION''</h2>"
      ],
      "text/plain": [
       "<IPython.core.display.HTML object>"
      ]
     },
     "metadata": {},
     "output_type": "display_data"
    },
    {
     "data": {
      "text/html": [
       "<p> To overcome these challenges, nanoparticulate drug delivery system offers several advantages in terms of improving drug delivery and reducing toxicity compared with the traditional forms of drugs</p>"
      ],
      "text/plain": [
       "<IPython.core.display.HTML object>"
      ]
     },
     "metadata": {},
     "output_type": "display_data"
    },
    {
     "data": {
      "text/html": [
       "<p style='text-align:center'> *** </p>"
      ],
      "text/plain": [
       "<IPython.core.display.HTML object>"
      ]
     },
     "metadata": {},
     "output_type": "display_data"
    },
    {
     "data": {
      "text/html": [
       "<h3> ''ASSAY DEVELOPMENT AND HIGH THROUGHPUT ANTIVIRAL DRUG SCREENING AGAINST BLUETONGUE VIRUS''</h2>"
      ],
      "text/plain": [
       "<IPython.core.display.HTML object>"
      ]
     },
     "metadata": {},
     "output_type": "display_data"
    },
    {
     "data": {
      "text/html": [
       "<p>Developing robust and reliable biological assay(s) is critical for antiviral drug discovery</p>"
      ],
      "text/plain": [
       "<IPython.core.display.HTML object>"
      ]
     },
     "metadata": {},
     "output_type": "display_data"
    },
    {
     "data": {
      "text/html": [
       "<p style='text-align:center'> *** </p>"
      ],
      "text/plain": [
       "<IPython.core.display.HTML object>"
      ]
     },
     "metadata": {},
     "output_type": "display_data"
    },
    {
     "data": {
      "text/html": [
       "<h3> ''VACCINES AND THERAPEUTICS AGAINST HANTAVIRUSES''</h2>"
      ],
      "text/plain": [
       "<IPython.core.display.HTML object>"
      ]
     },
     "metadata": {},
     "output_type": "display_data"
    },
    {
     "data": {
      "text/html": [
       "<p>, 2018) , it is feasible to repurpose those FDA-approved drugs targeting vasoactive mediators for use as hantaviral infection therapy</p>"
      ],
      "text/plain": [
       "<IPython.core.display.HTML object>"
      ]
     },
     "metadata": {},
     "output_type": "display_data"
    },
    {
     "data": {
      "text/html": [
       "<p style='text-align:center'> *** </p>"
      ],
      "text/plain": [
       "<IPython.core.display.HTML object>"
      ]
     },
     "metadata": {},
     "output_type": "display_data"
    },
    {
     "data": {
      "text/html": [
       "<h3> ''MOLECULES PHARMACOLOGICAL AND BIOLOGICAL ANTIVIRAL THERAPEUTICS FOR CARDIAC COXSACKIEVIRUS INFECTIONS''</h2>"
      ],
      "text/plain": [
       "<IPython.core.display.HTML object>"
      ]
     },
     "metadata": {},
     "output_type": "display_data"
    },
    {
     "data": {
      "text/html": [
       "<p> Although UPS inhibitors may be potential therapeutic tools for treatment coxsackievirus infection their relatively low efficiency and possible drug-induced side effects may limit their use for treatment of coxsackievirus infections in humans</p>"
      ],
      "text/plain": [
       "<IPython.core.display.HTML object>"
      ]
     },
     "metadata": {},
     "output_type": "display_data"
    },
    {
     "data": {
      "text/html": [
       "<p style='text-align:center'> *** </p>"
      ],
      "text/plain": [
       "<IPython.core.display.HTML object>"
      ]
     },
     "metadata": {},
     "output_type": "display_data"
    },
    {
     "data": {
      "text/html": [
       "<h3> ''THERAPEUTICS AND VACCINES''</h2>"
      ],
      "text/plain": [
       "<IPython.core.display.HTML object>"
      ]
     },
     "metadata": {},
     "output_type": "display_data"
    },
    {
     "data": {
      "text/html": [
       "<p> Accordingly, development of effective therapeutics and vaccines is critical for early intervention and prevention</p>"
      ],
      "text/plain": [
       "<IPython.core.display.HTML object>"
      ]
     },
     "metadata": {},
     "output_type": "display_data"
    },
    {
     "data": {
      "text/html": [
       "<p style='text-align:center'> *** </p>"
      ],
      "text/plain": [
       "<IPython.core.display.HTML object>"
      ]
     },
     "metadata": {},
     "output_type": "display_data"
    },
    {
     "data": {
      "text/html": [
       "<h3> ''CLINICAL MEDICINE REVIEW ADVANCEMENTS IN NUCLEIC ACID BASED THERAPEUTICS AGAINST RESPIRATORY VIRAL INFECTIONS''</h2>"
      ],
      "text/plain": [
       "<IPython.core.display.HTML object>"
      ]
     },
     "metadata": {},
     "output_type": "display_data"
    },
    {
     "data": {
      "text/html": [
       "<p> The study also suggested that if properly designed, low dosages of inhaled siRNA might prove to be an effective antiviral treatment against respiratory viral infections in humans</p>"
      ],
      "text/plain": [
       "<IPython.core.display.HTML object>"
      ]
     },
     "metadata": {},
     "output_type": "display_data"
    },
    {
     "data": {
      "text/html": [
       "<p style='text-align:center'> *** </p>"
      ],
      "text/plain": [
       "<IPython.core.display.HTML object>"
      ]
     },
     "metadata": {},
     "output_type": "display_data"
    },
    {
     "data": {
      "text/html": [
       "<h1>2. Clinical and bench trials to investigate less common viral inhibitors against COVID-19 such as naproxen, clarithromycin, and minocyclinethat that may exert effects on viral replication.</h1>"
      ],
      "text/plain": [
       "<IPython.core.display.HTML object>"
      ]
     },
     "metadata": {},
     "output_type": "display_data"
    },
    {
     "data": {
      "text/html": [
       "<h3> ''INHIBITOR-BASED THERAPEUTICS FOR TREATMENT OF VIRAL HEPATITIS''</h2>"
      ],
      "text/plain": [
       "<IPython.core.display.HTML object>"
      ]
     },
     "metadata": {},
     "output_type": "display_data"
    },
    {
     "data": {
      "text/html": [
       "<p> These include potent polymerase inhibitors, entry inhibitors, cccDNA inhibitors, nucleocapsid assembly inhibitors, inhibitors of viral gene expression and HBsAg release inhibitors</p>"
      ],
      "text/plain": [
       "<IPython.core.display.HTML object>"
      ]
     },
     "metadata": {},
     "output_type": "display_data"
    },
    {
     "data": {
      "text/html": [
       "<p style='text-align:center'> *** </p>"
      ],
      "text/plain": [
       "<IPython.core.display.HTML object>"
      ]
     },
     "metadata": {},
     "output_type": "display_data"
    },
    {
     "data": {
      "text/html": [
       "<h3> ''VIRUSES HUMAN ANTIMICROBIAL PEPTIDES AS THERAPEUTICS FOR VIRAL INFECTIONS''</h2>"
      ],
      "text/plain": [
       "<IPython.core.display.HTML object>"
      ]
     },
     "metadata": {},
     "output_type": "display_data"
    },
    {
     "data": {
      "text/html": [
       "<p>Defensins demonstrate antiviral activity against human immunodeficiency virus (HIV), mediated by direct virus-peptide interaction and/or inhibition of viral genome replication</p>"
      ],
      "text/plain": [
       "<IPython.core.display.HTML object>"
      ]
     },
     "metadata": {},
     "output_type": "display_data"
    },
    {
     "data": {
      "text/html": [
       "<p style='text-align:center'> *** </p>"
      ],
      "text/plain": [
       "<IPython.core.display.HTML object>"
      ]
     },
     "metadata": {},
     "output_type": "display_data"
    },
    {
     "data": {
      "text/html": [
       "<h3> ''MOLECULAR MECHANISMS FOR ENHANCED DNA VACCINE IMMUNOGENICITY''</h2>"
      ],
      "text/plain": [
       "<IPython.core.display.HTML object>"
      ]
     },
     "metadata": {},
     "output_type": "display_data"
    },
    {
     "data": {
      "text/html": [
       "<p> A recent study showed that cation-complexed HIV-1 plasmid DNA vaccines applied topically to the murine pulmonary mucosa induced both mucosal and systemic immune responses models [175] </p>"
      ],
      "text/plain": [
       "<IPython.core.display.HTML object>"
      ]
     },
     "metadata": {},
     "output_type": "display_data"
    },
    {
     "data": {
      "text/html": [
       "<p style='text-align:center'> *** </p>"
      ],
      "text/plain": [
       "<IPython.core.display.HTML object>"
      ]
     },
     "metadata": {},
     "output_type": "display_data"
    },
    {
     "data": {
      "text/html": [
       "<h3> ''MOLECULAR MECHANISMS FOR ENHANCED DNA VACCINE IMMUNOGENICITY''</h2>"
      ],
      "text/plain": [
       "<IPython.core.display.HTML object>"
      ]
     },
     "metadata": {},
     "output_type": "display_data"
    },
    {
     "data": {
      "text/html": [
       "<p> Hence combinations of multiple cytokines in a DNA vaccine formulation or sequential vaccination with cytokines may enhance vaccine efficacy</p>"
      ],
      "text/plain": [
       "<IPython.core.display.HTML object>"
      ]
     },
     "metadata": {},
     "output_type": "display_data"
    },
    {
     "data": {
      "text/html": [
       "<p style='text-align:center'> *** </p>"
      ],
      "text/plain": [
       "<IPython.core.display.HTML object>"
      ]
     },
     "metadata": {},
     "output_type": "display_data"
    },
    {
     "data": {
      "text/html": [
       "<h3> ''INHIBITION OF SARS CORONAVIRUS INFECTION IN VITRO WITH CLINICALLY APPROVED ANTIVIRAL DRUGS''</h2>"
      ],
      "text/plain": [
       "<IPython.core.display.HTML object>"
      ]
     },
     "metadata": {},
     "output_type": "display_data"
    },
    {
     "data": {
      "text/html": [
       "<p> They are representative compounds from major antiviral pharmacologic classes that are currently commercially available: nucleoside analogs, interferons, protease inhibitors, reverse transcriptase inhibitors and neuraminidase inhibitors</p>"
      ],
      "text/plain": [
       "<IPython.core.display.HTML object>"
      ]
     },
     "metadata": {},
     "output_type": "display_data"
    },
    {
     "data": {
      "text/html": [
       "<p style='text-align:center'> *** </p>"
      ],
      "text/plain": [
       "<IPython.core.display.HTML object>"
      ]
     },
     "metadata": {},
     "output_type": "display_data"
    },
    {
     "data": {
      "text/html": [
       "<h3> ''CLINICAL MEDICINE REVIEW ADVANCEMENTS IN NUCLEIC ACID BASED THERAPEUTICS AGAINST RESPIRATORY VIRAL INFECTIONS''</h2>"
      ],
      "text/plain": [
       "<IPython.core.display.HTML object>"
      ]
     },
     "metadata": {},
     "output_type": "display_data"
    },
    {
     "data": {
      "text/html": [
       "<p> Their study demonstrated that RNA oligonucleotides targeting at the viral NS1 gene could potently inhibit highly pathogenic avian H5N1 influenza virus reproduction and thus, could potentially be used as prophylaxis and therapy for H5N1 influenza virus infection in humans [102] </p>"
      ],
      "text/plain": [
       "<IPython.core.display.HTML object>"
      ]
     },
     "metadata": {},
     "output_type": "display_data"
    },
    {
     "data": {
      "text/html": [
       "<p style='text-align:center'> *** </p>"
      ],
      "text/plain": [
       "<IPython.core.display.HTML object>"
      ]
     },
     "metadata": {},
     "output_type": "display_data"
    },
    {
     "data": {
      "text/html": [
       "<h3> ''INHIBITION OF SARS CORONAVIRUS INFECTION IN VITRO WITH CLINICALLY APPROVED ANTIVIRAL DRUGS''</h2>"
      ],
      "text/plain": [
       "<IPython.core.display.HTML object>"
      ]
     },
     "metadata": {},
     "output_type": "display_data"
    },
    {
     "data": {
      "text/html": [
       "<p> Antiretroviral (HIV) drugs include reverse transcriptase (RT) inhibitors and protease inhibitors</p>"
      ],
      "text/plain": [
       "<IPython.core.display.HTML object>"
      ]
     },
     "metadata": {},
     "output_type": "display_data"
    },
    {
     "data": {
      "text/html": [
       "<p style='text-align:center'> *** </p>"
      ],
      "text/plain": [
       "<IPython.core.display.HTML object>"
      ]
     },
     "metadata": {},
     "output_type": "display_data"
    },
    {
     "data": {
      "text/html": [
       "<h3> ''ANTIBODY THERAPIES FOR THE PREVENTION AND TREATMENT OF VIRAL INFECTIONS''</h2>"
      ],
      "text/plain": [
       "<IPython.core.display.HTML object>"
      ]
     },
     "metadata": {},
     "output_type": "display_data"
    },
    {
     "data": {
      "text/html": [
       "<p> Typical therapy involves respiratory precautions and medication such as oseltamivir (Tamiflu), that inhibit the influenza protein neuraminidase involved in release of virus particles</p>"
      ],
      "text/plain": [
       "<IPython.core.display.HTML object>"
      ]
     },
     "metadata": {},
     "output_type": "display_data"
    },
    {
     "data": {
      "text/html": [
       "<p style='text-align:center'> *** </p>"
      ],
      "text/plain": [
       "<IPython.core.display.HTML object>"
      ]
     },
     "metadata": {},
     "output_type": "display_data"
    },
    {
     "data": {
      "text/html": [
       "<h3> ''MOLECULES PHARMACOLOGICAL AND BIOLOGICAL ANTIVIRAL THERAPEUTICS FOR CARDIAC COXSACKIEVIRUS INFECTIONS''</h2>"
      ],
      "text/plain": [
       "<IPython.core.display.HTML object>"
      ]
     },
     "metadata": {},
     "output_type": "display_data"
    },
    {
     "data": {
      "text/html": [
       "<p> These compounds interact with non-structural proteins, viral proteases or the RNA-dependent RNA polymerase and thereby inhibit viral replication in infected cells</p>"
      ],
      "text/plain": [
       "<IPython.core.display.HTML object>"
      ]
     },
     "metadata": {},
     "output_type": "display_data"
    },
    {
     "data": {
      "text/html": [
       "<p style='text-align:center'> *** </p>"
      ],
      "text/plain": [
       "<IPython.core.display.HTML object>"
      ]
     },
     "metadata": {},
     "output_type": "display_data"
    },
    {
     "data": {
      "text/html": [
       "<h3> ''THERAPY WITH CTLA4-IG AND AN ANTIVIRAL MONOCLONAL ANTIBODY CONTROLS CHIKUNGUNYA VIRUS ARTHRITIS''</h2>"
      ],
      "text/plain": [
       "<IPython.core.display.HTML object>"
      ]
     },
     "metadata": {},
     "output_type": "display_data"
    },
    {
     "data": {
      "text/html": [
       "<p> Tofacitinib therapy may blunt cytokine production and/or leukocyte infiltration without enhancement of CHIKV replication</p>"
      ],
      "text/plain": [
       "<IPython.core.display.HTML object>"
      ]
     },
     "metadata": {},
     "output_type": "display_data"
    },
    {
     "data": {
      "text/html": [
       "<p style='text-align:center'> *** </p>"
      ],
      "text/plain": [
       "<IPython.core.display.HTML object>"
      ]
     },
     "metadata": {},
     "output_type": "display_data"
    },
    {
     "data": {
      "text/html": [
       "<h1>3. Methods evaluating potential complication of Antibody-Dependent Enhancement (ADE) in vaccine recipients.</h1>"
      ],
      "text/plain": [
       "<IPython.core.display.HTML object>"
      ]
     },
     "metadata": {},
     "output_type": "display_data"
    },
    {
     "data": {
      "text/html": [
       "<h3> ''VIROLOGY JOURNAL PROPHYLACTIC AND THERAPEUTIC ACTIVITY OF FULLY HUMAN MONOCLONAL ANTIBODIES DIRECTED AGAINST INFLUENZA A M2 PROTEIN''</h2>"
      ],
      "text/plain": [
       "<IPython.core.display.HTML object>"
      ]
     },
     "metadata": {},
     "output_type": "display_data"
    },
    {
     "data": {
      "text/html": [
       "<p>Passive immunization with monoclonal antibodies has several advantages over vaccination</p>"
      ],
      "text/plain": [
       "<IPython.core.display.HTML object>"
      ]
     },
     "metadata": {},
     "output_type": "display_data"
    },
    {
     "data": {
      "text/html": [
       "<p style='text-align:center'> *** </p>"
      ],
      "text/plain": [
       "<IPython.core.display.HTML object>"
      ]
     },
     "metadata": {},
     "output_type": "display_data"
    },
    {
     "data": {
      "text/html": [
       "<h3> ''MOLECULAR MECHANISMS FOR ENHANCED DNA VACCINE IMMUNOGENICITY''</h2>"
      ],
      "text/plain": [
       "<IPython.core.display.HTML object>"
      ]
     },
     "metadata": {},
     "output_type": "display_data"
    },
    {
     "data": {
      "text/html": [
       "<p> Hence combinations of multiple cytokines in a DNA vaccine formulation or sequential vaccination with cytokines may enhance vaccine efficacy</p>"
      ],
      "text/plain": [
       "<IPython.core.display.HTML object>"
      ]
     },
     "metadata": {},
     "output_type": "display_data"
    },
    {
     "data": {
      "text/html": [
       "<p style='text-align:center'> *** </p>"
      ],
      "text/plain": [
       "<IPython.core.display.HTML object>"
      ]
     },
     "metadata": {},
     "output_type": "display_data"
    },
    {
     "data": {
      "text/html": [
       "<h3> ''IMMUNOGENICITY AND PROTECTION EFFICACY OF SUBUNIT-BASED SMALLPOX VACCINES USING VARIOLA MAJOR ANTIGENS''</h2>"
      ],
      "text/plain": [
       "<IPython.core.display.HTML object>"
      ]
     },
     "metadata": {},
     "output_type": "display_data"
    },
    {
     "data": {
      "text/html": [
       "<p> The protein immunization elicited significantly higher antibody when compared to DNA immunization (* indicates p<0</p>"
      ],
      "text/plain": [
       "<IPython.core.display.HTML object>"
      ]
     },
     "metadata": {},
     "output_type": "display_data"
    },
    {
     "data": {
      "text/html": [
       "<p style='text-align:center'> *** </p>"
      ],
      "text/plain": [
       "<IPython.core.display.HTML object>"
      ]
     },
     "metadata": {},
     "output_type": "display_data"
    },
    {
     "data": {
      "text/html": [
       "<h3> ''IMMUNOGENICITY AND PROTECTION EFFICACY OF SUBUNIT-BASED SMALLPOX VACCINES USING VARIOLA MAJOR ANTIGENS''</h2>"
      ],
      "text/plain": [
       "<IPython.core.display.HTML object>"
      ]
     },
     "metadata": {},
     "output_type": "display_data"
    },
    {
     "data": {
      "text/html": [
       "<p> Immunization with the polyvalent recombinant VARV protein vaccines was significantly more immunogenic than immunization with the polyvalent VARV DNA vaccines (p<0</p>"
      ],
      "text/plain": [
       "<IPython.core.display.HTML object>"
      ]
     },
     "metadata": {},
     "output_type": "display_data"
    },
    {
     "data": {
      "text/html": [
       "<p style='text-align:center'> *** </p>"
      ],
      "text/plain": [
       "<IPython.core.display.HTML object>"
      ]
     },
     "metadata": {},
     "output_type": "display_data"
    },
    {
     "data": {
      "text/html": [
       "<h3> ''PREPARATION OF RECOMBINANT VACCINES''</h2>"
      ],
      "text/plain": [
       "<IPython.core.display.HTML object>"
      ]
     },
     "metadata": {},
     "output_type": "display_data"
    },
    {
     "data": {
      "text/html": [
       "<p> Mice vaccinated with an influenza virus vaccine with LTB showed higher systemic and mucosal antibody responses than mice receiving the vaccine alone [82] </p>"
      ],
      "text/plain": [
       "<IPython.core.display.HTML object>"
      ]
     },
     "metadata": {},
     "output_type": "display_data"
    },
    {
     "data": {
      "text/html": [
       "<p style='text-align:center'> *** </p>"
      ],
      "text/plain": [
       "<IPython.core.display.HTML object>"
      ]
     },
     "metadata": {},
     "output_type": "display_data"
    },
    {
     "data": {
      "text/html": [
       "<h3> ''ANTIBODY-DEPENDENT NK CELL DEGRANULATION AS A MARKER FOR ASSESSING ANTIBODY-DEPENDENT CYTOTOXICITY AGAINST PANDEMIC 2009 INFLUENZA A(H1N1) INFECTION IN HUMAN PLASMA AND INFLUENZA-VACCINATED TRANSCHROMOSOMIC BOVINE INTRAVENOUS IMMUNOGLOBULIN THERAPY''</h2>"
      ],
      "text/plain": [
       "<IPython.core.display.HTML object>"
      ]
     },
     "metadata": {},
     "output_type": "display_data"
    },
    {
     "data": {
      "text/html": [
       "<p> Influenza passive immunotherapy treatments include use of convalescent plasma, hyperimmune immunoglobulins, or monoclonal antibody therapies</p>"
      ],
      "text/plain": [
       "<IPython.core.display.HTML object>"
      ]
     },
     "metadata": {},
     "output_type": "display_data"
    },
    {
     "data": {
      "text/html": [
       "<p style='text-align:center'> *** </p>"
      ],
      "text/plain": [
       "<IPython.core.display.HTML object>"
      ]
     },
     "metadata": {},
     "output_type": "display_data"
    },
    {
     "data": {
      "text/html": [
       "<h3> ''ANTIBODY-DEPENDENT NK CELL DEGRANULATION AS A MARKER FOR ASSESSING ANTIBODY-DEPENDENT CYTOTOXICITY AGAINST PANDEMIC 2009 INFLUENZA A(H1N1) INFECTION IN HUMAN PLASMA AND INFLUENZA-VACCINATED TRANSCHROMOSOMIC BOVINE INTRAVENOUS IMMUNOGLOBULIN THERAPY''</h2>"
      ],
      "text/plain": [
       "<IPython.core.display.HTML object>"
      ]
     },
     "metadata": {},
     "output_type": "display_data"
    },
    {
     "data": {
      "text/html": [
       "<p> Using our assay and assessing an influenza-vaccinated Tc bovine IVIG therapeutic, NK cell degranulation was specific for virally-infected cells and demonstrated a high titer of NK degranulation antibodies (1:5000)</p>"
      ],
      "text/plain": [
       "<IPython.core.display.HTML object>"
      ]
     },
     "metadata": {},
     "output_type": "display_data"
    },
    {
     "data": {
      "text/html": [
       "<p style='text-align:center'> *** </p>"
      ],
      "text/plain": [
       "<IPython.core.display.HTML object>"
      ]
     },
     "metadata": {},
     "output_type": "display_data"
    },
    {
     "data": {
      "text/html": [
       "<h3> ''MOLECULAR MECHANISMS FOR ENHANCED DNA VACCINE IMMUNOGENICITY''</h2>"
      ],
      "text/plain": [
       "<IPython.core.display.HTML object>"
      ]
     },
     "metadata": {},
     "output_type": "display_data"
    },
    {
     "data": {
      "text/html": [
       "<p> Using this system, increased neutralizing antibody titers to HIV-1 gp120 DNA vaccination was achieved in rabbits [47] </p>"
      ],
      "text/plain": [
       "<IPython.core.display.HTML object>"
      ]
     },
     "metadata": {},
     "output_type": "display_data"
    },
    {
     "data": {
      "text/html": [
       "<p style='text-align:center'> *** </p>"
      ],
      "text/plain": [
       "<IPython.core.display.HTML object>"
      ]
     },
     "metadata": {},
     "output_type": "display_data"
    },
    {
     "data": {
      "text/html": [
       "<h3> ''ANTIBODY THERAPIES FOR THE PREVENTION AND TREATMENT OF VIRAL INFECTIONS''</h2>"
      ],
      "text/plain": [
       "<IPython.core.display.HTML object>"
      ]
     },
     "metadata": {},
     "output_type": "display_data"
    },
    {
     "data": {
      "text/html": [
       "<p> Hepatitis B immunoglobulin antibody preparations are one form of countermeasure under investigation</p>"
      ],
      "text/plain": [
       "<IPython.core.display.HTML object>"
      ]
     },
     "metadata": {},
     "output_type": "display_data"
    },
    {
     "data": {
      "text/html": [
       "<p style='text-align:center'> *** </p>"
      ],
      "text/plain": [
       "<IPython.core.display.HTML object>"
      ]
     },
     "metadata": {},
     "output_type": "display_data"
    },
    {
     "data": {
      "text/html": [
       "<h3> ''VACCINES AND THERAPEUTICS AGAINST HANTAVIRUSES''</h2>"
      ],
      "text/plain": [
       "<IPython.core.display.HTML object>"
      ]
     },
     "metadata": {},
     "output_type": "display_data"
    },
    {
     "data": {
      "text/html": [
       "<p> Rabbits vaccinated with SNV DNA vaccine with muscle electroporation (mEP) produced increased neutralizing antibody titers</p>"
      ],
      "text/plain": [
       "<IPython.core.display.HTML object>"
      ]
     },
     "metadata": {},
     "output_type": "display_data"
    },
    {
     "data": {
      "text/html": [
       "<p style='text-align:center'> *** </p>"
      ],
      "text/plain": [
       "<IPython.core.display.HTML object>"
      ]
     },
     "metadata": {},
     "output_type": "display_data"
    },
    {
     "data": {
      "text/html": [
       "<h1>4. Exploration of use of best animal models and their predictive value for a human vaccine.</h1>"
      ],
      "text/plain": [
       "<IPython.core.display.HTML object>"
      ]
     },
     "metadata": {},
     "output_type": "display_data"
    },
    {
     "data": {
      "text/html": [
       "<h3> ''MOLECULAR MECHANISMS FOR ENHANCED DNA VACCINE IMMUNOGENICITY''</h2>"
      ],
      "text/plain": [
       "<IPython.core.display.HTML object>"
      ]
     },
     "metadata": {},
     "output_type": "display_data"
    },
    {
     "data": {
      "text/html": [
       "<p>As in traditional vaccine research, small rodent laboratory animals are principally used for DNA vaccine research</p>"
      ],
      "text/plain": [
       "<IPython.core.display.HTML object>"
      ]
     },
     "metadata": {},
     "output_type": "display_data"
    },
    {
     "data": {
      "text/html": [
       "<p style='text-align:center'> *** </p>"
      ],
      "text/plain": [
       "<IPython.core.display.HTML object>"
      ]
     },
     "metadata": {},
     "output_type": "display_data"
    },
    {
     "data": {
      "text/html": [
       "<h3> ''MOLECULAR MECHANISMS FOR ENHANCED DNA VACCINE IMMUNOGENICITY''</h2>"
      ],
      "text/plain": [
       "<IPython.core.display.HTML object>"
      ]
     },
     "metadata": {},
     "output_type": "display_data"
    },
    {
     "data": {
      "text/html": [
       "<p> While vaccine success in small animal models does not guarantee translation to humans, such studies remain an important part of the vaccine development pipeline</p>"
      ],
      "text/plain": [
       "<IPython.core.display.HTML object>"
      ]
     },
     "metadata": {},
     "output_type": "display_data"
    },
    {
     "data": {
      "text/html": [
       "<p style='text-align:center'> *** </p>"
      ],
      "text/plain": [
       "<IPython.core.display.HTML object>"
      ]
     },
     "metadata": {},
     "output_type": "display_data"
    },
    {
     "data": {
      "text/html": [
       "<h3> ''DEVELOPMENT OF NOVEL DNA-ENCODED PCSK9 MONOCLONAL ANTIBODIES AS LIPID-LOWERING THERAPEUTICS''</h2>"
      ],
      "text/plain": [
       "<IPython.core.display.HTML object>"
      ]
     },
     "metadata": {},
     "output_type": "display_data"
    },
    {
     "data": {
      "text/html": [
       "<p> 81 In a phase I clinical trial evaluating the safety and immunogenicity of DNA vaccine GLS-5700, healthy adults demonstrated development of both binding and neutralizing antibodies, associated with protection in animal models</p>"
      ],
      "text/plain": [
       "<IPython.core.display.HTML object>"
      ]
     },
     "metadata": {},
     "output_type": "display_data"
    },
    {
     "data": {
      "text/html": [
       "<p style='text-align:center'> *** </p>"
      ],
      "text/plain": [
       "<IPython.core.display.HTML object>"
      ]
     },
     "metadata": {},
     "output_type": "display_data"
    },
    {
     "data": {
      "text/html": [
       "<h3> ''VACCINES CYTOLYTIC PERFORIN AS AN ADJUVANT TO ENHANCE THE IMMUNOGENICITY OF DNA VACCINES''</h2>"
      ],
      "text/plain": [
       "<IPython.core.display.HTML object>"
      ]
     },
     "metadata": {},
     "output_type": "display_data"
    },
    {
     "data": {
      "text/html": [
       "<p> Limited published data on clinical trials pose difficulty to compare efficacy between adjuvants in animals and humans</p>"
      ],
      "text/plain": [
       "<IPython.core.display.HTML object>"
      ]
     },
     "metadata": {},
     "output_type": "display_data"
    },
    {
     "data": {
      "text/html": [
       "<p style='text-align:center'> *** </p>"
      ],
      "text/plain": [
       "<IPython.core.display.HTML object>"
      ]
     },
     "metadata": {},
     "output_type": "display_data"
    },
    {
     "data": {
      "text/html": [
       "<h3> ''PRECLINICAL SAFETY AND TOLERABILITY OF A REPEATEDLY ADMINISTERED HUMAN LEISHMANIASIS DNA VACCINE''</h2>"
      ],
      "text/plain": [
       "<IPython.core.display.HTML object>"
      ]
     },
     "metadata": {},
     "output_type": "display_data"
    },
    {
     "data": {
      "text/html": [
       "<p> 12 However, immunogenicity of DNA vaccines was often modest in humans, necessitating better delivery methods and improved vaccine antigen expression</p>"
      ],
      "text/plain": [
       "<IPython.core.display.HTML object>"
      ]
     },
     "metadata": {},
     "output_type": "display_data"
    },
    {
     "data": {
      "text/html": [
       "<p style='text-align:center'> *** </p>"
      ],
      "text/plain": [
       "<IPython.core.display.HTML object>"
      ]
     },
     "metadata": {},
     "output_type": "display_data"
    },
    {
     "data": {
      "text/html": [
       "<h3> ''VIRUSES HUMAN ANTIMICROBIAL PEPTIDES AS THERAPEUTICS FOR VIRAL INFECTIONS''</h2>"
      ],
      "text/plain": [
       "<IPython.core.display.HTML object>"
      ]
     },
     "metadata": {},
     "output_type": "display_data"
    },
    {
     "data": {
      "text/html": [
       "<p> Although these formulations have only been investigated in experimental animal models and in vitro applications, the outcomes for developing future AMP-based therapeutics appear promising</p>"
      ],
      "text/plain": [
       "<IPython.core.display.HTML object>"
      ]
     },
     "metadata": {},
     "output_type": "display_data"
    },
    {
     "data": {
      "text/html": [
       "<p style='text-align:center'> *** </p>"
      ],
      "text/plain": [
       "<IPython.core.display.HTML object>"
      ]
     },
     "metadata": {},
     "output_type": "display_data"
    },
    {
     "data": {
      "text/html": [
       "<h3> ''VACCINES REPLICON RNA VIRAL VECTORS AS VACCINES''</h2>"
      ],
      "text/plain": [
       "<IPython.core.display.HTML object>"
      ]
     },
     "metadata": {},
     "output_type": "display_data"
    },
    {
     "data": {
      "text/html": [
       "<p> In this context, self-replicating RNA virus vectors have proven highly efficient for immunization studies in various animal models [9] </p>"
      ],
      "text/plain": [
       "<IPython.core.display.HTML object>"
      ]
     },
     "metadata": {},
     "output_type": "display_data"
    },
    {
     "data": {
      "text/html": [
       "<p style='text-align:center'> *** </p>"
      ],
      "text/plain": [
       "<IPython.core.display.HTML object>"
      ]
     },
     "metadata": {},
     "output_type": "display_data"
    },
    {
     "data": {
      "text/html": [
       "<h3> ''CHOLESTERYL PULLULAN ENCAPSULATED TNF-NANOPARTICLES ARE AN EFFECTIVE MUCOSAL VACCINE ADJUVANT AGAINST INFLUENZA VIRUS''</h2>"
      ],
      "text/plain": [
       "<IPython.core.display.HTML object>"
      ]
     },
     "metadata": {},
     "output_type": "display_data"
    },
    {
     "data": {
      "text/html": [
       "<p> Then, we examined the potential of the nanoparticles as a nasal vaccine adjuvant and protection against lethal influenza infection in a mouse model and conducted mechanistic analyses</p>"
      ],
      "text/plain": [
       "<IPython.core.display.HTML object>"
      ]
     },
     "metadata": {},
     "output_type": "display_data"
    },
    {
     "data": {
      "text/html": [
       "<p style='text-align:center'> *** </p>"
      ],
      "text/plain": [
       "<IPython.core.display.HTML object>"
      ]
     },
     "metadata": {},
     "output_type": "display_data"
    },
    {
     "data": {
      "text/html": [
       "<h3> ''NEW CLASS OF MONOCLONAL ANTIBODIES AGAINST SEVERE INFLUENZA: PROPHYLACTIC AND THERAPEUTIC EFFICACY IN FERRETS''</h2>"
      ],
      "text/plain": [
       "<IPython.core.display.HTML object>"
      ]
     },
     "metadata": {},
     "output_type": "display_data"
    },
    {
     "data": {
      "text/html": [
       "<p> The data of these two experiments demonstrate the prophylactic and therapeutic efficacy of this new class of human monoclonal antibodies in a highly stringent and clinically relevant ferret model of human influenza</p>"
      ],
      "text/plain": [
       "<IPython.core.display.HTML object>"
      ]
     },
     "metadata": {},
     "output_type": "display_data"
    },
    {
     "data": {
      "text/html": [
       "<p style='text-align:center'> *** </p>"
      ],
      "text/plain": [
       "<IPython.core.display.HTML object>"
      ]
     },
     "metadata": {},
     "output_type": "display_data"
    },
    {
     "data": {
      "text/html": [
       "<h3> ''PROTECTIVE EFFICACY OF PASSIVE IMMUNIZATION WITH MONOCLONAL ANTIBODIES IN ANIMAL MODELS OF H5N1 HIGHLY PATHOGENIC AVIAN INFLUENZA VIRUS INFECTION''</h2>"
      ],
      "text/plain": [
       "<IPython.core.display.HTML object>"
      ]
     },
     "metadata": {},
     "output_type": "display_data"
    },
    {
     "data": {
      "text/html": [
       "<p> In particular, we used a cynomolgus macaque model, which simulates the H5N1 HPAI virus infection of humans more faithfully and thus has been used as an animal model for vaccine and pathogenesis studies on influenza virus infection [50] </p>"
      ],
      "text/plain": [
       "<IPython.core.display.HTML object>"
      ]
     },
     "metadata": {},
     "output_type": "display_data"
    },
    {
     "data": {
      "text/html": [
       "<p style='text-align:center'> *** </p>"
      ],
      "text/plain": [
       "<IPython.core.display.HTML object>"
      ]
     },
     "metadata": {},
     "output_type": "display_data"
    },
    {
     "data": {
      "text/html": [
       "<h1>5. Capabilities to discover a therapeutic (not vaccine) for the disease, and clinical effectiveness studies to discover therapeutics, to include antiviral agents.</h1>"
      ],
      "text/plain": [
       "<IPython.core.display.HTML object>"
      ]
     },
     "metadata": {},
     "output_type": "display_data"
    },
    {
     "data": {
      "text/html": [
       "<h3> ''VACCINES REPLICON RNA VIRAL VECTORS AS VACCINES''</h2>"
      ],
      "text/plain": [
       "<IPython.core.display.HTML object>"
      ]
     },
     "metadata": {},
     "output_type": "display_data"
    },
    {
     "data": {
      "text/html": [
       "<p>Breast cancer has been targeted in several therapeutic and prophylactic vaccine studies</p>"
      ],
      "text/plain": [
       "<IPython.core.display.HTML object>"
      ]
     },
     "metadata": {},
     "output_type": "display_data"
    },
    {
     "data": {
      "text/html": [
       "<p style='text-align:center'> *** </p>"
      ],
      "text/plain": [
       "<IPython.core.display.HTML object>"
      ]
     },
     "metadata": {},
     "output_type": "display_data"
    },
    {
     "data": {
      "text/html": [
       "<h3> ''THERAPY WITH CTLA4-IG AND AN ANTIVIRAL MONOCLONAL ANTIBODY CONTROLS CHIKUNGUNYA VIRUS ARTHRITIS''</h2>"
      ],
      "text/plain": [
       "<IPython.core.display.HTML object>"
      ]
     },
     "metadata": {},
     "output_type": "display_data"
    },
    {
     "data": {
      "text/html": [
       "<p>We initiated this study to determine whether anti-inflammatory and antiviral therapy control acute CHIKV arthritis in mice</p>"
      ],
      "text/plain": [
       "<IPython.core.display.HTML object>"
      ]
     },
     "metadata": {},
     "output_type": "display_data"
    },
    {
     "data": {
      "text/html": [
       "<p style='text-align:center'> *** </p>"
      ],
      "text/plain": [
       "<IPython.core.display.HTML object>"
      ]
     },
     "metadata": {},
     "output_type": "display_data"
    },
    {
     "data": {
      "text/html": [
       "<h3> ''VIRUSES ANTIVIRAL DRUG DISCOVERY: NOROVIRUS PROTEASES AND DEVELOPMENT OF INHIBITORS''</h2>"
      ],
      "text/plain": [
       "<IPython.core.display.HTML object>"
      ]
     },
     "metadata": {},
     "output_type": "display_data"
    },
    {
     "data": {
      "text/html": [
       "<p>Proteases are proven therapeutic targets for antivirals</p>"
      ],
      "text/plain": [
       "<IPython.core.display.HTML object>"
      ]
     },
     "metadata": {},
     "output_type": "display_data"
    },
    {
     "data": {
      "text/html": [
       "<p style='text-align:center'> *** </p>"
      ],
      "text/plain": [
       "<IPython.core.display.HTML object>"
      ]
     },
     "metadata": {},
     "output_type": "display_data"
    },
    {
     "data": {
      "text/html": [
       "<h3> ''ANTIBODY THERAPIES FOR THE PREVENTION AND TREATMENT OF VIRAL INFECTIONS''</h2>"
      ],
      "text/plain": [
       "<IPython.core.display.HTML object>"
      ]
     },
     "metadata": {},
     "output_type": "display_data"
    },
    {
     "data": {
      "text/html": [
       "<p> Although no dengue antibody therapeutics have reached the stage of clinical trials, some of Antibody therapies for viral infections G Salazar et al</p>"
      ],
      "text/plain": [
       "<IPython.core.display.HTML object>"
      ]
     },
     "metadata": {},
     "output_type": "display_data"
    },
    {
     "data": {
      "text/html": [
       "<p style='text-align:center'> *** </p>"
      ],
      "text/plain": [
       "<IPython.core.display.HTML object>"
      ]
     },
     "metadata": {},
     "output_type": "display_data"
    },
    {
     "data": {
      "text/html": [
       "<h3> ''CLINICAL MEDICINE REVIEW ADVANCEMENTS IN NUCLEIC ACID BASED THERAPEUTICS AGAINST RESPIRATORY VIRAL INFECTIONS''</h2>"
      ],
      "text/plain": [
       "<IPython.core.display.HTML object>"
      ]
     },
     "metadata": {},
     "output_type": "display_data"
    },
    {
     "data": {
      "text/html": [
       "<p> Antimicrobial resistance has made treatment difficult for many infectious diseases including respiratory infections and RNAi therapeutics have proven to be effective against infections [26] </p>"
      ],
      "text/plain": [
       "<IPython.core.display.HTML object>"
      ]
     },
     "metadata": {},
     "output_type": "display_data"
    },
    {
     "data": {
      "text/html": [
       "<p style='text-align:center'> *** </p>"
      ],
      "text/plain": [
       "<IPython.core.display.HTML object>"
      ]
     },
     "metadata": {},
     "output_type": "display_data"
    },
    {
     "data": {
      "text/html": [
       "<h3> ''THERAPEUTIC APPLICATIONS OF MONOCLONAL ANTIBODIES''</h2>"
      ],
      "text/plain": [
       "<IPython.core.display.HTML object>"
      ]
     },
     "metadata": {},
     "output_type": "display_data"
    },
    {
     "data": {
      "text/html": [
       "<p> Many physicians use a combination of antiviral agents and immunoglobulins in patients at risk for CMV infection</p>"
      ],
      "text/plain": [
       "<IPython.core.display.HTML object>"
      ]
     },
     "metadata": {},
     "output_type": "display_data"
    },
    {
     "data": {
      "text/html": [
       "<p style='text-align:center'> *** </p>"
      ],
      "text/plain": [
       "<IPython.core.display.HTML object>"
      ]
     },
     "metadata": {},
     "output_type": "display_data"
    },
    {
     "data": {
      "text/html": [
       "<h3> ''CLINICAL MEDICINE REVIEW ADVANCEMENTS IN NUCLEIC ACID BASED THERAPEUTICS AGAINST RESPIRATORY VIRAL INFECTIONS''</h2>"
      ],
      "text/plain": [
       "<IPython.core.display.HTML object>"
      ]
     },
     "metadata": {},
     "output_type": "display_data"
    },
    {
     "data": {
      "text/html": [
       "<p> Since RNAi therapy target RNA, these are very advantageous over conventional small molecule drug used for therapy against respiratory diseases</p>"
      ],
      "text/plain": [
       "<IPython.core.display.HTML object>"
      ]
     },
     "metadata": {},
     "output_type": "display_data"
    },
    {
     "data": {
      "text/html": [
       "<p style='text-align:center'> *** </p>"
      ],
      "text/plain": [
       "<IPython.core.display.HTML object>"
      ]
     },
     "metadata": {},
     "output_type": "display_data"
    },
    {
     "data": {
      "text/html": [
       "<h3> ''NEW CLASS OF MONOCLONAL ANTIBODIES AGAINST SEVERE INFLUENZA: PROPHYLACTIC AND THERAPEUTIC EFFICACY IN FERRETS''</h2>"
      ],
      "text/plain": [
       "<IPython.core.display.HTML object>"
      ]
     },
     "metadata": {},
     "output_type": "display_data"
    },
    {
     "data": {
      "text/html": [
       "<p>In the absence of reliable antiviral drugs and vaccines, development of alternative strategies for influenza prophylaxis and therapy is urgently required</p>"
      ],
      "text/plain": [
       "<IPython.core.display.HTML object>"
      ]
     },
     "metadata": {},
     "output_type": "display_data"
    },
    {
     "data": {
      "text/html": [
       "<p style='text-align:center'> *** </p>"
      ],
      "text/plain": [
       "<IPython.core.display.HTML object>"
      ]
     },
     "metadata": {},
     "output_type": "display_data"
    },
    {
     "data": {
      "text/html": [
       "<h3> ''DEVELOPMENT OF NOVEL DNA-ENCODED PCSK9 MONOCLONAL ANTIBODIES AS LIPID-LOWERING THERAPEUTICS''</h2>"
      ],
      "text/plain": [
       "<IPython.core.display.HTML object>"
      ]
     },
     "metadata": {},
     "output_type": "display_data"
    },
    {
     "data": {
      "text/html": [
       "<p> Clinical trials on highrisk cardiovascular patients have demonstrated their efficacy in reducing LDL-C</p>"
      ],
      "text/plain": [
       "<IPython.core.display.HTML object>"
      ]
     },
     "metadata": {},
     "output_type": "display_data"
    },
    {
     "data": {
      "text/html": [
       "<p style='text-align:center'> *** </p>"
      ],
      "text/plain": [
       "<IPython.core.display.HTML object>"
      ]
     },
     "metadata": {},
     "output_type": "display_data"
    },
    {
     "data": {
      "text/html": [
       "<h3> ''PROTECTIVE EFFICACY OF PASSIVE IMMUNIZATION WITH MONOCLONAL ANTIBODIES IN ANIMAL MODELS OF H5N1 HIGHLY PATHOGENIC AVIAN INFLUENZA VIRUS INFECTION''</h2>"
      ],
      "text/plain": [
       "<IPython.core.display.HTML object>"
      ]
     },
     "metadata": {},
     "output_type": "display_data"
    },
    {
     "data": {
      "text/html": [
       "<p>Current strategies for the control of influenza include vaccination and antiviral drug treatment</p>"
      ],
      "text/plain": [
       "<IPython.core.display.HTML object>"
      ]
     },
     "metadata": {},
     "output_type": "display_data"
    },
    {
     "data": {
      "text/html": [
       "<p style='text-align:center'> *** </p>"
      ],
      "text/plain": [
       "<IPython.core.display.HTML object>"
      ]
     },
     "metadata": {},
     "output_type": "display_data"
    },
    {
     "data": {
      "text/html": [
       "<h1>6. Alternative models to aid decision makers in determining how to prioritize and distribute scarce, newly proven therapeutics as production ramps up. This could include identifying approaches for expanding production capacity to ensure equitable and timely distribution to populations in need.</h1>"
      ],
      "text/plain": [
       "<IPython.core.display.HTML object>"
      ]
     },
     "metadata": {},
     "output_type": "display_data"
    },
    {
     "data": {
      "text/html": [
       "<h3> ''VIRUSES HUMAN ANTIMICROBIAL PEPTIDES AS THERAPEUTICS FOR VIRAL INFECTIONS''</h2>"
      ],
      "text/plain": [
       "<IPython.core.display.HTML object>"
      ]
     },
     "metadata": {},
     "output_type": "display_data"
    },
    {
     "data": {
      "text/html": [
       "<p> Although these formulations have only been investigated in experimental animal models and in vitro applications, the outcomes for developing future AMP-based therapeutics appear promising</p>"
      ],
      "text/plain": [
       "<IPython.core.display.HTML object>"
      ]
     },
     "metadata": {},
     "output_type": "display_data"
    },
    {
     "data": {
      "text/html": [
       "<p style='text-align:center'> *** </p>"
      ],
      "text/plain": [
       "<IPython.core.display.HTML object>"
      ]
     },
     "metadata": {},
     "output_type": "display_data"
    },
    {
     "data": {
      "text/html": [
       "<h3> ''PREPARATION OF RECOMBINANT VACCINES''</h2>"
      ],
      "text/plain": [
       "<IPython.core.display.HTML object>"
      ]
     },
     "metadata": {},
     "output_type": "display_data"
    },
    {
     "data": {
      "text/html": [
       "<p> The demand of vaccines including recombinant vaccines remains relatively modest as these biopharmaceuticals require relatively a high investment in research</p>"
      ],
      "text/plain": [
       "<IPython.core.display.HTML object>"
      ]
     },
     "metadata": {},
     "output_type": "display_data"
    },
    {
     "data": {
      "text/html": [
       "<p style='text-align:center'> *** </p>"
      ],
      "text/plain": [
       "<IPython.core.display.HTML object>"
      ]
     },
     "metadata": {},
     "output_type": "display_data"
    },
    {
     "data": {
      "text/html": [
       "<h3> ''PREPARATION OF RECOMBINANT VACCINES''</h2>"
      ],
      "text/plain": [
       "<IPython.core.display.HTML object>"
      ]
     },
     "metadata": {},
     "output_type": "display_data"
    },
    {
     "data": {
      "text/html": [
       "<p>Several systems are becoming efficient to produce large amount of recombinant proteins including vaccines</p>"
      ],
      "text/plain": [
       "<IPython.core.display.HTML object>"
      ]
     },
     "metadata": {},
     "output_type": "display_data"
    },
    {
     "data": {
      "text/html": [
       "<p style='text-align:center'> *** </p>"
      ],
      "text/plain": [
       "<IPython.core.display.HTML object>"
      ]
     },
     "metadata": {},
     "output_type": "display_data"
    },
    {
     "data": {
      "text/html": [
       "<h3> ''PREPARATION OF RECOMBINANT VACCINES''</h2>"
      ],
      "text/plain": [
       "<IPython.core.display.HTML object>"
      ]
     },
     "metadata": {},
     "output_type": "display_data"
    },
    {
     "data": {
      "text/html": [
       "<p>The different systems to produce recombinant vaccines Different systems are being implemented to produce recombinant proteins for experimental use or for biotechnological applications</p>"
      ],
      "text/plain": [
       "<IPython.core.display.HTML object>"
      ]
     },
     "metadata": {},
     "output_type": "display_data"
    },
    {
     "data": {
      "text/html": [
       "<p style='text-align:center'> *** </p>"
      ],
      "text/plain": [
       "<IPython.core.display.HTML object>"
      ]
     },
     "metadata": {},
     "output_type": "display_data"
    },
    {
     "data": {
      "text/html": [
       "<h3> ''NANOPARTICLE VACCINES AGAINST INFECTIOUS DISEASES''</h2>"
      ],
      "text/plain": [
       "<IPython.core.display.HTML object>"
      ]
     },
     "metadata": {},
     "output_type": "display_data"
    },
    {
     "data": {
      "text/html": [
       "<p> Nanotechnology based formulations offer numerous advantages for the development of new generation vaccines</p>"
      ],
      "text/plain": [
       "<IPython.core.display.HTML object>"
      ]
     },
     "metadata": {},
     "output_type": "display_data"
    },
    {
     "data": {
      "text/html": [
       "<p style='text-align:center'> *** </p>"
      ],
      "text/plain": [
       "<IPython.core.display.HTML object>"
      ]
     },
     "metadata": {},
     "output_type": "display_data"
    },
    {
     "data": {
      "text/html": [
       "<h3> ''MONOCLONAL ANTIBODY-BASED THERAPIES FOR MICROBIAL DISEASES''</h2>"
      ],
      "text/plain": [
       "<IPython.core.display.HTML object>"
      ]
     },
     "metadata": {},
     "output_type": "display_data"
    },
    {
     "data": {
      "text/html": [
       "<p> This combined with the relatively high costs of producing and delivering immunoglobulin therapies can make the market analysis of many reagents not economically viable</p>"
      ],
      "text/plain": [
       "<IPython.core.display.HTML object>"
      ]
     },
     "metadata": {},
     "output_type": "display_data"
    },
    {
     "data": {
      "text/html": [
       "<p style='text-align:center'> *** </p>"
      ],
      "text/plain": [
       "<IPython.core.display.HTML object>"
      ]
     },
     "metadata": {},
     "output_type": "display_data"
    },
    {
     "data": {
      "text/html": [
       "<h3> ''MOLECULAR MECHANISMS FOR ENHANCED DNA VACCINE IMMUNOGENICITY''</h2>"
      ],
      "text/plain": [
       "<IPython.core.display.HTML object>"
      ]
     },
     "metadata": {},
     "output_type": "display_data"
    },
    {
     "data": {
      "text/html": [
       "<p>Developments in next-generation sequencing, microarrays, and high throughput proteomics approaches now provide opportunity to identify additional potential molecular adjuvants for DNA vaccines</p>"
      ],
      "text/plain": [
       "<IPython.core.display.HTML object>"
      ]
     },
     "metadata": {},
     "output_type": "display_data"
    },
    {
     "data": {
      "text/html": [
       "<p style='text-align:center'> *** </p>"
      ],
      "text/plain": [
       "<IPython.core.display.HTML object>"
      ]
     },
     "metadata": {},
     "output_type": "display_data"
    },
    {
     "data": {
      "text/html": [
       "<h3> ''PREPARATION OF RECOMBINANT VACCINES''</h2>"
      ],
      "text/plain": [
       "<IPython.core.display.HTML object>"
      ]
     },
     "metadata": {},
     "output_type": "display_data"
    },
    {
     "data": {
      "text/html": [
       "<p> Apart from their use for basic studies, transgenic plants are increasingly used to improve food production</p>"
      ],
      "text/plain": [
       "<IPython.core.display.HTML object>"
      ]
     },
     "metadata": {},
     "output_type": "display_data"
    },
    {
     "data": {
      "text/html": [
       "<p style='text-align:center'> *** </p>"
      ],
      "text/plain": [
       "<IPython.core.display.HTML object>"
      ]
     },
     "metadata": {},
     "output_type": "display_data"
    },
    {
     "data": {
      "text/html": [
       "<h3> ''HUMAN MONOCLONAL ANTIBODIES AS CANDIDATE THERAPEUTICS AGAINST EMERGING VIRUSES''</h2>"
      ],
      "text/plain": [
       "<IPython.core.display.HTML object>"
      ]
     },
     "metadata": {},
     "output_type": "display_data"
    },
    {
     "data": {
      "text/html": [
       "<p> Among these methods, large naïve antibody phage library-based technologies have enabled the rapid development of highaffinity hmAbs against emerging viral diseases that occur in an outbreak setting</p>"
      ],
      "text/plain": [
       "<IPython.core.display.HTML object>"
      ]
     },
     "metadata": {},
     "output_type": "display_data"
    },
    {
     "data": {
      "text/html": [
       "<p style='text-align:center'> *** </p>"
      ],
      "text/plain": [
       "<IPython.core.display.HTML object>"
      ]
     },
     "metadata": {},
     "output_type": "display_data"
    },
    {
     "data": {
      "text/html": [
       "<h3> ''ANTIBODY THERAPIES FOR THE PREVENTION AND TREATMENT OF VIRAL INFECTIONS''</h2>"
      ],
      "text/plain": [
       "<IPython.core.display.HTML object>"
      ]
     },
     "metadata": {},
     "output_type": "display_data"
    },
    {
     "data": {
      "text/html": [
       "<p> One key challenge is the relatively small market for antibody treatments of viral diseases, and potentially higher cost associated with production of recombinant antibodies, as compared to small molecule antivirals</p>"
      ],
      "text/plain": [
       "<IPython.core.display.HTML object>"
      ]
     },
     "metadata": {},
     "output_type": "display_data"
    },
    {
     "data": {
      "text/html": [
       "<p style='text-align:center'> *** </p>"
      ],
      "text/plain": [
       "<IPython.core.display.HTML object>"
      ]
     },
     "metadata": {},
     "output_type": "display_data"
    },
    {
     "data": {
      "text/html": [
       "<h1>7. Efforts targeted at a universal coronavirus vaccine.</h1>"
      ],
      "text/plain": [
       "<IPython.core.display.HTML object>"
      ]
     },
     "metadata": {},
     "output_type": "display_data"
    },
    {
     "data": {
      "text/html": [
       "<h3> ''IMMUNOGENICITY AND PROTECTION EFFICACY OF SUBUNIT-BASED SMALLPOX VACCINES USING VARIOLA MAJOR ANTIGENS''</h2>"
      ],
      "text/plain": [
       "<IPython.core.display.HTML object>"
      ]
     },
     "metadata": {},
     "output_type": "display_data"
    },
    {
     "data": {
      "text/html": [
       "<p> Immunogenicity and protection efficacy of polyvalent recombinant variola protein vaccines and polyvalent DNA vaccines expressing variola antigens</p>"
      ],
      "text/plain": [
       "<IPython.core.display.HTML object>"
      ]
     },
     "metadata": {},
     "output_type": "display_data"
    },
    {
     "data": {
      "text/html": [
       "<p style='text-align:center'> *** </p>"
      ],
      "text/plain": [
       "<IPython.core.display.HTML object>"
      ]
     },
     "metadata": {},
     "output_type": "display_data"
    },
    {
     "data": {
      "text/html": [
       "<h3> ''IMMUNOGENICITY AND PROTECTION EFFICACY OF SUBUNIT-BASED SMALLPOX VACCINES USING VARIOLA MAJOR ANTIGENS''</h2>"
      ],
      "text/plain": [
       "<IPython.core.display.HTML object>"
      ]
     },
     "metadata": {},
     "output_type": "display_data"
    },
    {
     "data": {
      "text/html": [
       "<p> Immunization with the polyvalent recombinant VARV protein vaccines was significantly more immunogenic than immunization with the polyvalent VARV DNA vaccines (p<0</p>"
      ],
      "text/plain": [
       "<IPython.core.display.HTML object>"
      ]
     },
     "metadata": {},
     "output_type": "display_data"
    },
    {
     "data": {
      "text/html": [
       "<p style='text-align:center'> *** </p>"
      ],
      "text/plain": [
       "<IPython.core.display.HTML object>"
      ]
     },
     "metadata": {},
     "output_type": "display_data"
    },
    {
     "data": {
      "text/html": [
       "<h3> ''ANTIVIRAL THERAPEUTIC APPROACHES FOR HUMAN RHINOVIRUS INFECTIONS''</h2>"
      ],
      "text/plain": [
       "<IPython.core.display.HTML object>"
      ]
     },
     "metadata": {},
     "output_type": "display_data"
    },
    {
     "data": {
      "text/html": [
       "<p> The viral infections with antiviral treatment options include HIV, hepatitis B and C virus, herpesvirus, influenza virus, human cytomegalovirus, varicella-zoster virus, respiratory syncytial virus (RSV) and human papillomavirus</p>"
      ],
      "text/plain": [
       "<IPython.core.display.HTML object>"
      ]
     },
     "metadata": {},
     "output_type": "display_data"
    },
    {
     "data": {
      "text/html": [
       "<p style='text-align:center'> *** </p>"
      ],
      "text/plain": [
       "<IPython.core.display.HTML object>"
      ]
     },
     "metadata": {},
     "output_type": "display_data"
    },
    {
     "data": {
      "text/html": [
       "<h3> ''VACCINES REPLICON RNA VIRAL VECTORS AS VACCINES''</h2>"
      ],
      "text/plain": [
       "<IPython.core.display.HTML object>"
      ]
     },
     "metadata": {},
     "output_type": "display_data"
    },
    {
     "data": {
      "text/html": [
       "<p> Obvious targets for vaccine development have been antigens of influenza virus and HIV</p>"
      ],
      "text/plain": [
       "<IPython.core.display.HTML object>"
      ]
     },
     "metadata": {},
     "output_type": "display_data"
    },
    {
     "data": {
      "text/html": [
       "<p style='text-align:center'> *** </p>"
      ],
      "text/plain": [
       "<IPython.core.display.HTML object>"
      ]
     },
     "metadata": {},
     "output_type": "display_data"
    },
    {
     "data": {
      "text/html": [
       "<h3> ''HUMAN MONOCLONAL ANTIBODIES AS CANDIDATE THERAPEUTICS AGAINST EMERGING VIRUSES''</h2>"
      ],
      "text/plain": [
       "<IPython.core.display.HTML object>"
      ]
     },
     "metadata": {},
     "output_type": "display_data"
    },
    {
     "data": {
      "text/html": [
       "<p>SARS-CoV belongs to the Coronavirus family, Coronavirus genus</p>"
      ],
      "text/plain": [
       "<IPython.core.display.HTML object>"
      ]
     },
     "metadata": {},
     "output_type": "display_data"
    },
    {
     "data": {
      "text/html": [
       "<p style='text-align:center'> *** </p>"
      ],
      "text/plain": [
       "<IPython.core.display.HTML object>"
      ]
     },
     "metadata": {},
     "output_type": "display_data"
    },
    {
     "data": {
      "text/html": [
       "<h3> ''JOURNAL OF IMMUNE BASED THERAPIES AND VACCINES PROSPECTS FOR CONTROL OF EMERGING INFECTIOUS DISEASES WITH PLASMID DNA VACCINES''</h2>"
      ],
      "text/plain": [
       "<IPython.core.display.HTML object>"
      ]
     },
     "metadata": {},
     "output_type": "display_data"
    },
    {
     "data": {
      "text/html": [
       "<p> Lastly, the first human clinical trial of a DNA vaccine formulated with Vaxfectin ® has been completed with plasmids that encode pandemic influenza virus antigens (H5N1)</p>"
      ],
      "text/plain": [
       "<IPython.core.display.HTML object>"
      ]
     },
     "metadata": {},
     "output_type": "display_data"
    },
    {
     "data": {
      "text/html": [
       "<p style='text-align:center'> *** </p>"
      ],
      "text/plain": [
       "<IPython.core.display.HTML object>"
      ]
     },
     "metadata": {},
     "output_type": "display_data"
    },
    {
     "data": {
      "text/html": [
       "<h3> ''CHIMPANZEE-HUMAN MONOCLONAL ANTIBODIES FOR TREATMENT OF CHRONIC POLIOVIRUS EXCRETORS AND EMERGENCY POSTEXPOSURE PROPHYLAXIS ᰔ ‡''</h2>"
      ],
      "text/plain": [
       "<IPython.core.display.HTML object>"
      ]
     },
     "metadata": {},
     "output_type": "display_data"
    },
    {
     "data": {
      "text/html": [
       "<p>Immunization of chimpanzees with poliovirus vaccines and construction of combinatorial Fab antibody library</p>"
      ],
      "text/plain": [
       "<IPython.core.display.HTML object>"
      ]
     },
     "metadata": {},
     "output_type": "display_data"
    },
    {
     "data": {
      "text/html": [
       "<p style='text-align:center'> *** </p>"
      ],
      "text/plain": [
       "<IPython.core.display.HTML object>"
      ]
     },
     "metadata": {},
     "output_type": "display_data"
    },
    {
     "data": {
      "text/html": [
       "<h3> ''IMMUNOGENICITY AND PROTECTION EFFICACY OF SUBUNIT-BASED SMALLPOX VACCINES USING VARIOLA MAJOR ANTIGENS''</h2>"
      ],
      "text/plain": [
       "<IPython.core.display.HTML object>"
      ]
     },
     "metadata": {},
     "output_type": "display_data"
    },
    {
     "data": {
      "text/html": [
       "<p>) VACV challenge in Balb/C mice immunized with DNA vaccines expressing variola antigens</p>"
      ],
      "text/plain": [
       "<IPython.core.display.HTML object>"
      ]
     },
     "metadata": {},
     "output_type": "display_data"
    },
    {
     "data": {
      "text/html": [
       "<p style='text-align:center'> *** </p>"
      ],
      "text/plain": [
       "<IPython.core.display.HTML object>"
      ]
     },
     "metadata": {},
     "output_type": "display_data"
    },
    {
     "data": {
      "text/html": [
       "<h3> ''IMMUNOGENICITY AND PROTECTION EFFICACY OF SUBUNIT-BASED SMALLPOX VACCINES USING VARIOLA MAJOR ANTIGENS''</h2>"
      ],
      "text/plain": [
       "<IPython.core.display.HTML object>"
      ]
     },
     "metadata": {},
     "output_type": "display_data"
    },
    {
     "data": {
      "text/html": [
       "<p> The protein vaccine was even more immunogenic than the live vaccinia vaccine in generating specific antibodies against three tested pox antigens</p>"
      ],
      "text/plain": [
       "<IPython.core.display.HTML object>"
      ]
     },
     "metadata": {},
     "output_type": "display_data"
    },
    {
     "data": {
      "text/html": [
       "<p style='text-align:center'> *** </p>"
      ],
      "text/plain": [
       "<IPython.core.display.HTML object>"
      ]
     },
     "metadata": {},
     "output_type": "display_data"
    },
    {
     "data": {
      "text/html": [
       "<h3> ''PREPARATION OF RECOMBINANT VACCINES''</h2>"
      ],
      "text/plain": [
       "<IPython.core.display.HTML object>"
      ]
     },
     "metadata": {},
     "output_type": "display_data"
    },
    {
     "data": {
      "text/html": [
       "<p> Mice vaccinated with an influenza virus vaccine with LTB showed higher systemic and mucosal antibody responses than mice receiving the vaccine alone [82] </p>"
      ],
      "text/plain": [
       "<IPython.core.display.HTML object>"
      ]
     },
     "metadata": {},
     "output_type": "display_data"
    },
    {
     "data": {
      "text/html": [
       "<p style='text-align:center'> *** </p>"
      ],
      "text/plain": [
       "<IPython.core.display.HTML object>"
      ]
     },
     "metadata": {},
     "output_type": "display_data"
    },
    {
     "data": {
      "text/html": [
       "<h1>8. Efforts to develop animal models and standardize challenge studies</h1>"
      ],
      "text/plain": [
       "<IPython.core.display.HTML object>"
      ]
     },
     "metadata": {},
     "output_type": "display_data"
    },
    {
     "data": {
      "text/html": [
       "<h3> ''VIRUSES HUMAN ANTIMICROBIAL PEPTIDES AS THERAPEUTICS FOR VIRAL INFECTIONS''</h2>"
      ],
      "text/plain": [
       "<IPython.core.display.HTML object>"
      ]
     },
     "metadata": {},
     "output_type": "display_data"
    },
    {
     "data": {
      "text/html": [
       "<p> Although these formulations have only been investigated in experimental animal models and in vitro applications, the outcomes for developing future AMP-based therapeutics appear promising</p>"
      ],
      "text/plain": [
       "<IPython.core.display.HTML object>"
      ]
     },
     "metadata": {},
     "output_type": "display_data"
    },
    {
     "data": {
      "text/html": [
       "<p style='text-align:center'> *** </p>"
      ],
      "text/plain": [
       "<IPython.core.display.HTML object>"
      ]
     },
     "metadata": {},
     "output_type": "display_data"
    },
    {
     "data": {
      "text/html": [
       "<h3> ''DEVELOPMENT OF NOVEL DNA-ENCODED PCSK9 MONOCLONAL ANTIBODIES AS LIPID-LOWERING THERAPEUTICS''</h2>"
      ],
      "text/plain": [
       "<IPython.core.display.HTML object>"
      ]
     },
     "metadata": {},
     "output_type": "display_data"
    },
    {
     "data": {
      "text/html": [
       "<p> The results of human DMAb studies in wild-type mice demonstrate the importance of considering intraspecies differences in antibody evaluation and how this may impact translation to other models</p>"
      ],
      "text/plain": [
       "<IPython.core.display.HTML object>"
      ]
     },
     "metadata": {},
     "output_type": "display_data"
    },
    {
     "data": {
      "text/html": [
       "<p style='text-align:center'> *** </p>"
      ],
      "text/plain": [
       "<IPython.core.display.HTML object>"
      ]
     },
     "metadata": {},
     "output_type": "display_data"
    },
    {
     "data": {
      "text/html": [
       "<h3> ''MOLECULAR MECHANISMS FOR ENHANCED DNA VACCINE IMMUNOGENICITY''</h2>"
      ],
      "text/plain": [
       "<IPython.core.display.HTML object>"
      ]
     },
     "metadata": {},
     "output_type": "display_data"
    },
    {
     "data": {
      "text/html": [
       "<p>As in traditional vaccine research, small rodent laboratory animals are principally used for DNA vaccine research</p>"
      ],
      "text/plain": [
       "<IPython.core.display.HTML object>"
      ]
     },
     "metadata": {},
     "output_type": "display_data"
    },
    {
     "data": {
      "text/html": [
       "<p style='text-align:center'> *** </p>"
      ],
      "text/plain": [
       "<IPython.core.display.HTML object>"
      ]
     },
     "metadata": {},
     "output_type": "display_data"
    },
    {
     "data": {
      "text/html": [
       "<h3> ''VACCINES CYTOLYTIC PERFORIN AS AN ADJUVANT TO ENHANCE THE IMMUNOGENICITY OF DNA VACCINES''</h2>"
      ],
      "text/plain": [
       "<IPython.core.display.HTML object>"
      ]
     },
     "metadata": {},
     "output_type": "display_data"
    },
    {
     "data": {
      "text/html": [
       "<p> Limited published data on clinical trials pose difficulty to compare efficacy between adjuvants in animals and humans</p>"
      ],
      "text/plain": [
       "<IPython.core.display.HTML object>"
      ]
     },
     "metadata": {},
     "output_type": "display_data"
    },
    {
     "data": {
      "text/html": [
       "<p style='text-align:center'> *** </p>"
      ],
      "text/plain": [
       "<IPython.core.display.HTML object>"
      ]
     },
     "metadata": {},
     "output_type": "display_data"
    },
    {
     "data": {
      "text/html": [
       "<h3> ''MOLECULAR MECHANISMS FOR ENHANCED DNA VACCINE IMMUNOGENICITY''</h2>"
      ],
      "text/plain": [
       "<IPython.core.display.HTML object>"
      ]
     },
     "metadata": {},
     "output_type": "display_data"
    },
    {
     "data": {
      "text/html": [
       "<p> An increasing number of these advances from preclinical models have advanced into human clinical trials</p>"
      ],
      "text/plain": [
       "<IPython.core.display.HTML object>"
      ]
     },
     "metadata": {},
     "output_type": "display_data"
    },
    {
     "data": {
      "text/html": [
       "<p style='text-align:center'> *** </p>"
      ],
      "text/plain": [
       "<IPython.core.display.HTML object>"
      ]
     },
     "metadata": {},
     "output_type": "display_data"
    },
    {
     "data": {
      "text/html": [
       "<h3> ''PREPARATION OF RECOMBINANT VACCINES''</h2>"
      ],
      "text/plain": [
       "<IPython.core.display.HTML object>"
      ]
     },
     "metadata": {},
     "output_type": "display_data"
    },
    {
     "data": {
      "text/html": [
       "<p> Validating a mode of administration and determining the valuable adjuvant require specific studies on animal models</p>"
      ],
      "text/plain": [
       "<IPython.core.display.HTML object>"
      ]
     },
     "metadata": {},
     "output_type": "display_data"
    },
    {
     "data": {
      "text/html": [
       "<p style='text-align:center'> *** </p>"
      ],
      "text/plain": [
       "<IPython.core.display.HTML object>"
      ]
     },
     "metadata": {},
     "output_type": "display_data"
    },
    {
     "data": {
      "text/html": [
       "<h3> ''COMPARATIVE IMMUNOLOGICAL EVALUATION OF RECOMBINANT SALMONELLA TYPHIMURIUM STRAINS EXPRESSING MODEL ANTIGENS AS LIVE ORAL VACCINES''</h2>"
      ],
      "text/plain": [
       "<IPython.core.display.HTML object>"
      ]
     },
     "metadata": {},
     "output_type": "display_data"
    },
    {
     "data": {
      "text/html": [
       "<p>All animal work was conducted according to relevant national and international guidelines (Animal Research: Reporting In Vivo Experiments guidelines)</p>"
      ],
      "text/plain": [
       "<IPython.core.display.HTML object>"
      ]
     },
     "metadata": {},
     "output_type": "display_data"
    },
    {
     "data": {
      "text/html": [
       "<p style='text-align:center'> *** </p>"
      ],
      "text/plain": [
       "<IPython.core.display.HTML object>"
      ]
     },
     "metadata": {},
     "output_type": "display_data"
    },
    {
     "data": {
      "text/html": [
       "<h3> ''JOURNAL OF IMMUNE BASED THERAPIES AND VACCINES PROSPECTS FOR CONTROL OF EMERGING INFECTIOUS DISEASES WITH PLASMID DNA VACCINES''</h2>"
      ],
      "text/plain": [
       "<IPython.core.display.HTML object>"
      ]
     },
     "metadata": {},
     "output_type": "display_data"
    },
    {
     "data": {
      "text/html": [
       "<p> Studies in animals also demonstrated that Vaxfectin ® -adjuvanted DNA vaccines can be protective against lethal viral challenges</p>"
      ],
      "text/plain": [
       "<IPython.core.display.HTML object>"
      ]
     },
     "metadata": {},
     "output_type": "display_data"
    },
    {
     "data": {
      "text/html": [
       "<p style='text-align:center'> *** </p>"
      ],
      "text/plain": [
       "<IPython.core.display.HTML object>"
      ]
     },
     "metadata": {},
     "output_type": "display_data"
    },
    {
     "data": {
      "text/html": [
       "<h3> ''MOLECULAR MECHANISMS FOR ENHANCED DNA VACCINE IMMUNOGENICITY''</h2>"
      ],
      "text/plain": [
       "<IPython.core.display.HTML object>"
      ]
     },
     "metadata": {},
     "output_type": "display_data"
    },
    {
     "data": {
      "text/html": [
       "<p> While vaccine success in small animal models does not guarantee translation to humans, such studies remain an important part of the vaccine development pipeline</p>"
      ],
      "text/plain": [
       "<IPython.core.display.HTML object>"
      ]
     },
     "metadata": {},
     "output_type": "display_data"
    },
    {
     "data": {
      "text/html": [
       "<p style='text-align:center'> *** </p>"
      ],
      "text/plain": [
       "<IPython.core.display.HTML object>"
      ]
     },
     "metadata": {},
     "output_type": "display_data"
    },
    {
     "data": {
      "text/html": [
       "<h3> ''VIRUSES NEUTRALIZING MONOCLONAL ANTIBODIES AS PROMISING THERAPEUTICS AGAINST MIDDLE EAST RESPIRATORY SYNDROME CORONAVIRUS INFECTION''</h2>"
      ],
      "text/plain": [
       "<IPython.core.display.HTML object>"
      ]
     },
     "metadata": {},
     "output_type": "display_data"
    },
    {
     "data": {
      "text/html": [
       "<p> With robust animal models, the protective effects of these neutralizing mAbs will be better evaluated</p>"
      ],
      "text/plain": [
       "<IPython.core.display.HTML object>"
      ]
     },
     "metadata": {},
     "output_type": "display_data"
    },
    {
     "data": {
      "text/html": [
       "<p style='text-align:center'> *** </p>"
      ],
      "text/plain": [
       "<IPython.core.display.HTML object>"
      ]
     },
     "metadata": {},
     "output_type": "display_data"
    },
    {
     "data": {
      "text/html": [
       "<h1>9. Efforts to develop prophylaxis clinical studies and prioritize in healthcare workers</h1>"
      ],
      "text/plain": [
       "<IPython.core.display.HTML object>"
      ]
     },
     "metadata": {},
     "output_type": "display_data"
    },
    {
     "data": {
      "text/html": [
       "<h3> ''DEVELOPMENT OF NOVEL DNA-ENCODED PCSK9 MONOCLONAL ANTIBODIES AS LIPID-LOWERING THERAPEUTICS''</h2>"
      ],
      "text/plain": [
       "<IPython.core.display.HTML object>"
      ]
     },
     "metadata": {},
     "output_type": "display_data"
    },
    {
     "data": {
      "text/html": [
       "<p> Clinical trials on highrisk cardiovascular patients have demonstrated their efficacy in reducing LDL-C</p>"
      ],
      "text/plain": [
       "<IPython.core.display.HTML object>"
      ]
     },
     "metadata": {},
     "output_type": "display_data"
    },
    {
     "data": {
      "text/html": [
       "<p style='text-align:center'> *** </p>"
      ],
      "text/plain": [
       "<IPython.core.display.HTML object>"
      ]
     },
     "metadata": {},
     "output_type": "display_data"
    },
    {
     "data": {
      "text/html": [
       "<h3> ''ANTIBODY-DEPENDENT NK CELL DEGRANULATION AS A MARKER FOR ASSESSING ANTIBODY-DEPENDENT CYTOTOXICITY AGAINST PANDEMIC 2009 INFLUENZA A(H1N1) INFECTION IN HUMAN PLASMA AND INFLUENZA-VACCINATED TRANSCHROMOSOMIC BOVINE INTRAVENOUS IMMUNOGLOBULIN THERAPY''</h2>"
      ],
      "text/plain": [
       "<IPython.core.display.HTML object>"
      ]
     },
     "metadata": {},
     "output_type": "display_data"
    },
    {
     "data": {
      "text/html": [
       "<p> However, influenza-vaccinated Tc bovine IVIG therapy deserves additional evaluation as a potential therapeutic for critically ill H1N1-infected patients</p>"
      ],
      "text/plain": [
       "<IPython.core.display.HTML object>"
      ]
     },
     "metadata": {},
     "output_type": "display_data"
    },
    {
     "data": {
      "text/html": [
       "<p style='text-align:center'> *** </p>"
      ],
      "text/plain": [
       "<IPython.core.display.HTML object>"
      ]
     },
     "metadata": {},
     "output_type": "display_data"
    },
    {
     "data": {
      "text/html": [
       "<h3> ''VACCINES REPLICON RNA VIRAL VECTORS AS VACCINES''</h2>"
      ],
      "text/plain": [
       "<IPython.core.display.HTML object>"
      ]
     },
     "metadata": {},
     "output_type": "display_data"
    },
    {
     "data": {
      "text/html": [
       "<p>Breast cancer has been targeted in several therapeutic and prophylactic vaccine studies</p>"
      ],
      "text/plain": [
       "<IPython.core.display.HTML object>"
      ]
     },
     "metadata": {},
     "output_type": "display_data"
    },
    {
     "data": {
      "text/html": [
       "<p style='text-align:center'> *** </p>"
      ],
      "text/plain": [
       "<IPython.core.display.HTML object>"
      ]
     },
     "metadata": {},
     "output_type": "display_data"
    },
    {
     "data": {
      "text/html": [
       "<h3> ''NEW CLASS OF MONOCLONAL ANTIBODIES AGAINST SEVERE INFLUENZA: PROPHYLACTIC AND THERAPEUTIC EFFICACY IN FERRETS''</h2>"
      ],
      "text/plain": [
       "<IPython.core.display.HTML object>"
      ]
     },
     "metadata": {},
     "output_type": "display_data"
    },
    {
     "data": {
      "text/html": [
       "<p>In the absence of reliable antiviral drugs and vaccines, development of alternative strategies for influenza prophylaxis and therapy is urgently required</p>"
      ],
      "text/plain": [
       "<IPython.core.display.HTML object>"
      ]
     },
     "metadata": {},
     "output_type": "display_data"
    },
    {
     "data": {
      "text/html": [
       "<p style='text-align:center'> *** </p>"
      ],
      "text/plain": [
       "<IPython.core.display.HTML object>"
      ]
     },
     "metadata": {},
     "output_type": "display_data"
    },
    {
     "data": {
      "text/html": [
       "<h3> ''PREPARATION OF RECOMBINANT VACCINES''</h2>"
      ],
      "text/plain": [
       "<IPython.core.display.HTML object>"
      ]
     },
     "metadata": {},
     "output_type": "display_data"
    },
    {
     "data": {
      "text/html": [
       "<p> CpG ODN are currently evaluated in clinical trials in humans in the field of infectious diseases, cancer treatment and asthma/allergy</p>"
      ],
      "text/plain": [
       "<IPython.core.display.HTML object>"
      ]
     },
     "metadata": {},
     "output_type": "display_data"
    },
    {
     "data": {
      "text/html": [
       "<p style='text-align:center'> *** </p>"
      ],
      "text/plain": [
       "<IPython.core.display.HTML object>"
      ]
     },
     "metadata": {},
     "output_type": "display_data"
    },
    {
     "data": {
      "text/html": [
       "<h3> ''ANTIBODY THERAPIES FOR THE PREVENTION AND TREATMENT OF VIRAL INFECTIONS''</h2>"
      ],
      "text/plain": [
       "<IPython.core.display.HTML object>"
      ]
     },
     "metadata": {},
     "output_type": "display_data"
    },
    {
     "data": {
      "text/html": [
       "<p> 63 MHAA4549A is currently in Phase 2 clinical trials for the treatment of patients hospitalized with severe influenza A infection</p>"
      ],
      "text/plain": [
       "<IPython.core.display.HTML object>"
      ]
     },
     "metadata": {},
     "output_type": "display_data"
    },
    {
     "data": {
      "text/html": [
       "<p style='text-align:center'> *** </p>"
      ],
      "text/plain": [
       "<IPython.core.display.HTML object>"
      ]
     },
     "metadata": {},
     "output_type": "display_data"
    },
    {
     "data": {
      "text/html": [
       "<h3> ''THERAPEUTIC APPLICATIONS OF MONOCLONAL ANTIBODIES''</h2>"
      ],
      "text/plain": [
       "<IPython.core.display.HTML object>"
      ]
     },
     "metadata": {},
     "output_type": "display_data"
    },
    {
     "data": {
      "text/html": [
       "<p> Many physicians use a combination of antiviral agents and immunoglobulins in patients at risk for CMV infection</p>"
      ],
      "text/plain": [
       "<IPython.core.display.HTML object>"
      ]
     },
     "metadata": {},
     "output_type": "display_data"
    },
    {
     "data": {
      "text/html": [
       "<p style='text-align:center'> *** </p>"
      ],
      "text/plain": [
       "<IPython.core.display.HTML object>"
      ]
     },
     "metadata": {},
     "output_type": "display_data"
    },
    {
     "data": {
      "text/html": [
       "<h3> ''INHIBITOR-BASED THERAPEUTICS FOR TREATMENT OF VIRAL HEPATITIS''</h2>"
      ],
      "text/plain": [
       "<IPython.core.display.HTML object>"
      ]
     },
     "metadata": {},
     "output_type": "display_data"
    },
    {
     "data": {
      "text/html": [
       "<p> 44, 45 Studies suggest that poor prenatal care and nutrition may constitute major contributory factors for such severe outcomes in selected populations</p>"
      ],
      "text/plain": [
       "<IPython.core.display.HTML object>"
      ]
     },
     "metadata": {},
     "output_type": "display_data"
    },
    {
     "data": {
      "text/html": [
       "<p style='text-align:center'> *** </p>"
      ],
      "text/plain": [
       "<IPython.core.display.HTML object>"
      ]
     },
     "metadata": {},
     "output_type": "display_data"
    },
    {
     "data": {
      "text/html": [
       "<h3> ''INHIBITION OF SARS CORONAVIRUS INFECTION IN VITRO WITH CLINICALLY APPROVED ANTIVIRAL DRUGS''</h2>"
      ],
      "text/plain": [
       "<IPython.core.display.HTML object>"
      ]
     },
     "metadata": {},
     "output_type": "display_data"
    },
    {
     "data": {
      "text/html": [
       "<p> Centers for Disease Control and Prevention concluded that further in vitro testing of antiviral drugs on other coronavirus isolates and more information on the clinical outcome of patients treated with ribavirin or other antiviral drugs in controlled trials is needed (5) </p>"
      ],
      "text/plain": [
       "<IPython.core.display.HTML object>"
      ]
     },
     "metadata": {},
     "output_type": "display_data"
    },
    {
     "data": {
      "text/html": [
       "<p style='text-align:center'> *** </p>"
      ],
      "text/plain": [
       "<IPython.core.display.HTML object>"
      ]
     },
     "metadata": {},
     "output_type": "display_data"
    },
    {
     "data": {
      "text/html": [
       "<h3> ''MOLECULES PHARMACOLOGICAL AND BIOLOGICAL ANTIVIRAL THERAPEUTICS FOR CARDIAC COXSACKIEVIRUS INFECTIONS''</h2>"
      ],
      "text/plain": [
       "<IPython.core.display.HTML object>"
      ]
     },
     "metadata": {},
     "output_type": "display_data"
    },
    {
     "data": {
      "text/html": [
       "<p> Further investigations of the therapeutic potential of IFN-β are currently being carried out in an ongoing multicenter randomized Betaferon ® (Bayer Schering Pharma AG) study in patients with chronic viral cardiomyopathy (BICC study) [102] </p>"
      ],
      "text/plain": [
       "<IPython.core.display.HTML object>"
      ]
     },
     "metadata": {},
     "output_type": "display_data"
    },
    {
     "data": {
      "text/html": [
       "<p style='text-align:center'> *** </p>"
      ],
      "text/plain": [
       "<IPython.core.display.HTML object>"
      ]
     },
     "metadata": {},
     "output_type": "display_data"
    },
    {
     "data": {
      "text/html": [
       "<h1>10. Approaches to evaluate risk for enhanced disease after vaccination</h1>"
      ],
      "text/plain": [
       "<IPython.core.display.HTML object>"
      ]
     },
     "metadata": {},
     "output_type": "display_data"
    },
    {
     "data": {
      "text/html": [
       "<h3> ''PREPARATION OF RECOMBINANT VACCINES''</h2>"
      ],
      "text/plain": [
       "<IPython.core.display.HTML object>"
      ]
     },
     "metadata": {},
     "output_type": "display_data"
    },
    {
     "data": {
      "text/html": [
       "<p> Other diseases like hepatitis B and gastroenteritis induced by rotavirus might also be markedly reduced using vaccination</p>"
      ],
      "text/plain": [
       "<IPython.core.display.HTML object>"
      ]
     },
     "metadata": {},
     "output_type": "display_data"
    },
    {
     "data": {
      "text/html": [
       "<p style='text-align:center'> *** </p>"
      ],
      "text/plain": [
       "<IPython.core.display.HTML object>"
      ]
     },
     "metadata": {},
     "output_type": "display_data"
    },
    {
     "data": {
      "text/html": [
       "<h3> ''INTERNATIONAL JOURNAL OF NANOMEDICINE DOVEPRESS ANTIVIRAL EFFICACY OF NANOPARTICULATE VACUOLAR ATPASE INHIBITORS AGAINST INFLUENZA VIRUS INFECTION''</h2>"
      ],
      "text/plain": [
       "<IPython.core.display.HTML object>"
      ]
     },
     "metadata": {},
     "output_type": "display_data"
    },
    {
     "data": {
      "text/html": [
       "<p> 34 Depletion of AMs during influenza infection promotes secondary bacterial superinfections, thereby increasing severity of the disease</p>"
      ],
      "text/plain": [
       "<IPython.core.display.HTML object>"
      ]
     },
     "metadata": {},
     "output_type": "display_data"
    },
    {
     "data": {
      "text/html": [
       "<p style='text-align:center'> *** </p>"
      ],
      "text/plain": [
       "<IPython.core.display.HTML object>"
      ]
     },
     "metadata": {},
     "output_type": "display_data"
    },
    {
     "data": {
      "text/html": [
       "<h3> ''ANTIBODY-DEPENDENT NK CELL DEGRANULATION AS A MARKER FOR ASSESSING ANTIBODY-DEPENDENT CYTOTOXICITY AGAINST PANDEMIC 2009 INFLUENZA A(H1N1) INFECTION IN HUMAN PLASMA AND INFLUENZA-VACCINATED TRANSCHROMOSOMIC BOVINE INTRAVENOUS IMMUNOGLOBULIN THERAPY''</h2>"
      ],
      "text/plain": [
       "<IPython.core.display.HTML object>"
      ]
     },
     "metadata": {},
     "output_type": "display_data"
    },
    {
     "data": {
      "text/html": [
       "<p>ADCC-mediated clearance of virally infectected cells and ADCC protection following vaccination or natural infection are potentially important immune mechanisms against influenza infection</p>"
      ],
      "text/plain": [
       "<IPython.core.display.HTML object>"
      ]
     },
     "metadata": {},
     "output_type": "display_data"
    },
    {
     "data": {
      "text/html": [
       "<p style='text-align:center'> *** </p>"
      ],
      "text/plain": [
       "<IPython.core.display.HTML object>"
      ]
     },
     "metadata": {},
     "output_type": "display_data"
    },
    {
     "data": {
      "text/html": [
       "<h3> ''PREPARATION OF RECOMBINANT VACCINES''</h2>"
      ],
      "text/plain": [
       "<IPython.core.display.HTML object>"
      ]
     },
     "metadata": {},
     "output_type": "display_data"
    },
    {
     "data": {
      "text/html": [
       "<p> Mice vaccinated with an influenza virus vaccine with LTB showed higher systemic and mucosal antibody responses than mice receiving the vaccine alone [82] </p>"
      ],
      "text/plain": [
       "<IPython.core.display.HTML object>"
      ]
     },
     "metadata": {},
     "output_type": "display_data"
    },
    {
     "data": {
      "text/html": [
       "<p style='text-align:center'> *** </p>"
      ],
      "text/plain": [
       "<IPython.core.display.HTML object>"
      ]
     },
     "metadata": {},
     "output_type": "display_data"
    },
    {
     "data": {
      "text/html": [
       "<h3> ''HUMAN MONOCLONAL ANTIBODIES AS ADJUVANT TREATMENT OF CHRONIC HEPATITIS B VIRUS INFECTION''</h2>"
      ],
      "text/plain": [
       "<IPython.core.display.HTML object>"
      ]
     },
     "metadata": {},
     "output_type": "display_data"
    },
    {
     "data": {
      "text/html": [
       "<p>Despite the availability of an effective prophylactic vaccine leading to sterilizing immunity, hepatitis B virus (HBV) is responsible for chronic liver disease in more than 250 million individuals, potentially leading to cirrhosis and hepatocellular carcinoma</p>"
      ],
      "text/plain": [
       "<IPython.core.display.HTML object>"
      ]
     },
     "metadata": {},
     "output_type": "display_data"
    },
    {
     "data": {
      "text/html": [
       "<p style='text-align:center'> *** </p>"
      ],
      "text/plain": [
       "<IPython.core.display.HTML object>"
      ]
     },
     "metadata": {},
     "output_type": "display_data"
    },
    {
     "data": {
      "text/html": [
       "<h3> ''NEW CLASS OF MONOCLONAL ANTIBODIES AGAINST SEVERE INFLUENZA: PROPHYLACTIC AND THERAPEUTIC EFFICACY IN FERRETS''</h2>"
      ],
      "text/plain": [
       "<IPython.core.display.HTML object>"
      ]
     },
     "metadata": {},
     "output_type": "display_data"
    },
    {
     "data": {
      "text/html": [
       "<p>These findings show that, in a dose dependent way, prophylactically administered CR6261 confers protection against lethal H5N1 challenge, prevents morbidity and viral dissemination and reduces pulmonary pathology</p>"
      ],
      "text/plain": [
       "<IPython.core.display.HTML object>"
      ]
     },
     "metadata": {},
     "output_type": "display_data"
    },
    {
     "data": {
      "text/html": [
       "<p style='text-align:center'> *** </p>"
      ],
      "text/plain": [
       "<IPython.core.display.HTML object>"
      ]
     },
     "metadata": {},
     "output_type": "display_data"
    },
    {
     "data": {
      "text/html": [
       "<h3> ''VACCINES REPLICON RNA VIRAL VECTORS AS VACCINES''</h2>"
      ],
      "text/plain": [
       "<IPython.core.display.HTML object>"
      ]
     },
     "metadata": {},
     "output_type": "display_data"
    },
    {
     "data": {
      "text/html": [
       "<p> The low-dose immunization improved early tolerability, but generated inferior antibody responses and failed to prevent vaccine-induced arthritis, dermatitis or vasculitis</p>"
      ],
      "text/plain": [
       "<IPython.core.display.HTML object>"
      ]
     },
     "metadata": {},
     "output_type": "display_data"
    },
    {
     "data": {
      "text/html": [
       "<p style='text-align:center'> *** </p>"
      ],
      "text/plain": [
       "<IPython.core.display.HTML object>"
      ]
     },
     "metadata": {},
     "output_type": "display_data"
    },
    {
     "data": {
      "text/html": [
       "<h3> ''ANTIBODY-DEPENDENT NK CELL DEGRANULATION AS A MARKER FOR ASSESSING ANTIBODY-DEPENDENT CYTOTOXICITY AGAINST PANDEMIC 2009 INFLUENZA A(H1N1) INFECTION IN HUMAN PLASMA AND INFLUENZA-VACCINATED TRANSCHROMOSOMIC BOVINE INTRAVENOUS IMMUNOGLOBULIN THERAPY''</h2>"
      ],
      "text/plain": [
       "<IPython.core.display.HTML object>"
      ]
     },
     "metadata": {},
     "output_type": "display_data"
    },
    {
     "data": {
      "text/html": [
       "<p> However, influenza-vaccinated Tc bovine IVIG therapy deserves additional evaluation as a potential therapeutic for critically ill H1N1-infected patients</p>"
      ],
      "text/plain": [
       "<IPython.core.display.HTML object>"
      ]
     },
     "metadata": {},
     "output_type": "display_data"
    },
    {
     "data": {
      "text/html": [
       "<p style='text-align:center'> *** </p>"
      ],
      "text/plain": [
       "<IPython.core.display.HTML object>"
      ]
     },
     "metadata": {},
     "output_type": "display_data"
    },
    {
     "data": {
      "text/html": [
       "<h3> ''CHOLESTERYL PULLULAN ENCAPSULATED TNF-NANOPARTICLES ARE AN EFFECTIVE MUCOSAL VACCINE ADJUVANT AGAINST INFLUENZA VIRUS''</h2>"
      ],
      "text/plain": [
       "<IPython.core.display.HTML object>"
      ]
     },
     "metadata": {},
     "output_type": "display_data"
    },
    {
     "data": {
      "text/html": [
       "<p>Vaccines are the most effective interventions against infectious diseases</p>"
      ],
      "text/plain": [
       "<IPython.core.display.HTML object>"
      ]
     },
     "metadata": {},
     "output_type": "display_data"
    },
    {
     "data": {
      "text/html": [
       "<p style='text-align:center'> *** </p>"
      ],
      "text/plain": [
       "<IPython.core.display.HTML object>"
      ]
     },
     "metadata": {},
     "output_type": "display_data"
    },
    {
     "data": {
      "text/html": [
       "<h3> ''THERAPY WITH CTLA4-IG AND AN ANTIVIRAL MONOCLONAL ANTIBODY CONTROLS CHIKUNGUNYA VIRUS ARTHRITIS''</h2>"
      ],
      "text/plain": [
       "<IPython.core.display.HTML object>"
      ]
     },
     "metadata": {},
     "output_type": "display_data"
    },
    {
     "data": {
      "text/html": [
       "<p> The near-complete effectiveness of combination therapy in our mouse model of acute CHIKV arthritis has implications for treatment of other viral infections in which both virus-and immune-mediated pathology result in morbidity and mortality (for example, influenza and severe acute respiratory syndrome coronavirus)</p>"
      ],
      "text/plain": [
       "<IPython.core.display.HTML object>"
      ]
     },
     "metadata": {},
     "output_type": "display_data"
    },
    {
     "data": {
      "text/html": [
       "<p style='text-align:center'> *** </p>"
      ],
      "text/plain": [
       "<IPython.core.display.HTML object>"
      ]
     },
     "metadata": {},
     "output_type": "display_data"
    },
    {
     "data": {
      "text/html": [
       "<h1>11. Assays to evaluate vaccine immune response and process development for vaccines, alongside suitable animal models</h1>"
      ],
      "text/plain": [
       "<IPython.core.display.HTML object>"
      ]
     },
     "metadata": {},
     "output_type": "display_data"
    },
    {
     "data": {
      "text/html": [
       "<h3> ''ANTIBODY-DEPENDENT NK CELL DEGRANULATION AS A MARKER FOR ASSESSING ANTIBODY-DEPENDENT CYTOTOXICITY AGAINST PANDEMIC 2009 INFLUENZA A(H1N1) INFECTION IN HUMAN PLASMA AND INFLUENZA-VACCINATED TRANSCHROMOSOMIC BOVINE INTRAVENOUS IMMUNOGLOBULIN THERAPY''</h2>"
      ],
      "text/plain": [
       "<IPython.core.display.HTML object>"
      ]
     },
     "metadata": {},
     "output_type": "display_data"
    },
    {
     "data": {
      "text/html": [
       "<p> Vaccine induction or therapeutic production of antibodies that target influenza internal proteins via ADCC response may prove to be a new development for influenza vaccine/treatment design</p>"
      ],
      "text/plain": [
       "<IPython.core.display.HTML object>"
      ]
     },
     "metadata": {},
     "output_type": "display_data"
    },
    {
     "data": {
      "text/html": [
       "<p style='text-align:center'> *** </p>"
      ],
      "text/plain": [
       "<IPython.core.display.HTML object>"
      ]
     },
     "metadata": {},
     "output_type": "display_data"
    },
    {
     "data": {
      "text/html": [
       "<h3> ''VASCULAR DISRUPTING AGENT DMXAA ENHANCES THE ANTITUMOR EFFECTS GENERATED BY THERAPEUTIC HPV DNA VACCINES''</h2>"
      ],
      "text/plain": [
       "<IPython.core.display.HTML object>"
      ]
     },
     "metadata": {},
     "output_type": "display_data"
    },
    {
     "data": {
      "text/html": [
       "<p> Thus, CRT has been shown to be highly potent in enhancing the antigen-specific immune responses and antitumor effects generated by DNA vaccination in several preclinical models</p>"
      ],
      "text/plain": [
       "<IPython.core.display.HTML object>"
      ]
     },
     "metadata": {},
     "output_type": "display_data"
    },
    {
     "data": {
      "text/html": [
       "<p style='text-align:center'> *** </p>"
      ],
      "text/plain": [
       "<IPython.core.display.HTML object>"
      ]
     },
     "metadata": {},
     "output_type": "display_data"
    },
    {
     "data": {
      "text/html": [
       "<h3> ''CHOLESTERYL PULLULAN ENCAPSULATED TNF-NANOPARTICLES ARE AN EFFECTIVE MUCOSAL VACCINE ADJUVANT AGAINST INFLUENZA VIRUS''</h2>"
      ],
      "text/plain": [
       "<IPython.core.display.HTML object>"
      ]
     },
     "metadata": {},
     "output_type": "display_data"
    },
    {
     "data": {
      "text/html": [
       "<p>Vaccine adjuvants trigger the innate immune system to enhance humoral and cellular responses to the coadministered vaccine antigens</p>"
      ],
      "text/plain": [
       "<IPython.core.display.HTML object>"
      ]
     },
     "metadata": {},
     "output_type": "display_data"
    },
    {
     "data": {
      "text/html": [
       "<p style='text-align:center'> *** </p>"
      ],
      "text/plain": [
       "<IPython.core.display.HTML object>"
      ]
     },
     "metadata": {},
     "output_type": "display_data"
    },
    {
     "data": {
      "text/html": [
       "<h3> ''MOLECULAR MECHANISMS FOR ENHANCED DNA VACCINE IMMUNOGENICITY''</h2>"
      ],
      "text/plain": [
       "<IPython.core.display.HTML object>"
      ]
     },
     "metadata": {},
     "output_type": "display_data"
    },
    {
     "data": {
      "text/html": [
       "<p> Hence combinations of multiple cytokines in a DNA vaccine formulation or sequential vaccination with cytokines may enhance vaccine efficacy</p>"
      ],
      "text/plain": [
       "<IPython.core.display.HTML object>"
      ]
     },
     "metadata": {},
     "output_type": "display_data"
    },
    {
     "data": {
      "text/html": [
       "<p style='text-align:center'> *** </p>"
      ],
      "text/plain": [
       "<IPython.core.display.HTML object>"
      ]
     },
     "metadata": {},
     "output_type": "display_data"
    },
    {
     "data": {
      "text/html": [
       "<h3> ''PROTECTIVE EFFICACY OF PASSIVE IMMUNIZATION WITH MONOCLONAL ANTIBODIES IN ANIMAL MODELS OF H5N1 HIGHLY PATHOGENIC AVIAN INFLUENZA VIRUS INFECTION''</h2>"
      ],
      "text/plain": [
       "<IPython.core.display.HTML object>"
      ]
     },
     "metadata": {},
     "output_type": "display_data"
    },
    {
     "data": {
      "text/html": [
       "<p>To help develop a clinical antibody therapy, we also generated a human-mouse chimeric monoclonal antibody (MAb ch61) that showed strong neutralizing activity against H5N1 HPAI viruses isolated from humans and evaluated its protective potential in animal models</p>"
      ],
      "text/plain": [
       "<IPython.core.display.HTML object>"
      ]
     },
     "metadata": {},
     "output_type": "display_data"
    },
    {
     "data": {
      "text/html": [
       "<p style='text-align:center'> *** </p>"
      ],
      "text/plain": [
       "<IPython.core.display.HTML object>"
      ]
     },
     "metadata": {},
     "output_type": "display_data"
    },
    {
     "data": {
      "text/html": [
       "<h3> ''GENETIC VACCINES AND THERAPY GENETIC IMMUNIZATION WITH HANTAVIRUS VACCINE COMBINING EXPRESSION OF G2 GLYCOPROTEIN AND FUSED INTERLEUKIN-2''</h2>"
      ],
      "text/plain": [
       "<IPython.core.display.HTML object>"
      ]
     },
     "metadata": {},
     "output_type": "display_data"
    },
    {
     "data": {
      "text/html": [
       "<p>To investigate whether the recombinant DNA vectors could elicit HTNV G2-specific humoral response, ELISA and cell microculture neutralization test in vitro were used to detect the humoral immune response in immunized BALB/c mice</p>"
      ],
      "text/plain": [
       "<IPython.core.display.HTML object>"
      ]
     },
     "metadata": {},
     "output_type": "display_data"
    },
    {
     "data": {
      "text/html": [
       "<p style='text-align:center'> *** </p>"
      ],
      "text/plain": [
       "<IPython.core.display.HTML object>"
      ]
     },
     "metadata": {},
     "output_type": "display_data"
    },
    {
     "data": {
      "text/html": [
       "<h3> ''MOLECULAR MECHANISMS FOR ENHANCED DNA VACCINE IMMUNOGENICITY''</h2>"
      ],
      "text/plain": [
       "<IPython.core.display.HTML object>"
      ]
     },
     "metadata": {},
     "output_type": "display_data"
    },
    {
     "data": {
      "text/html": [
       "<p>Targeting DNA vaccine to specific cells or subcellular compartments can greatly increase antigen processing and presentation and promote the desired immune responses, while minimizing systemic toxicity</p>"
      ],
      "text/plain": [
       "<IPython.core.display.HTML object>"
      ]
     },
     "metadata": {},
     "output_type": "display_data"
    },
    {
     "data": {
      "text/html": [
       "<p style='text-align:center'> *** </p>"
      ],
      "text/plain": [
       "<IPython.core.display.HTML object>"
      ]
     },
     "metadata": {},
     "output_type": "display_data"
    },
    {
     "data": {
      "text/html": [
       "<h3> ''PREPARATION OF RECOMBINANT VACCINES''</h2>"
      ],
      "text/plain": [
       "<IPython.core.display.HTML object>"
      ]
     },
     "metadata": {},
     "output_type": "display_data"
    },
    {
     "data": {
      "text/html": [
       "<p> ISCOM-based vaccines are able to induce strong antibody and cellular immune response</p>"
      ],
      "text/plain": [
       "<IPython.core.display.HTML object>"
      ]
     },
     "metadata": {},
     "output_type": "display_data"
    },
    {
     "data": {
      "text/html": [
       "<p style='text-align:center'> *** </p>"
      ],
      "text/plain": [
       "<IPython.core.display.HTML object>"
      ]
     },
     "metadata": {},
     "output_type": "display_data"
    },
    {
     "data": {
      "text/html": [
       "<h3> ''PREPARATION OF RECOMBINANT VACCINES''</h2>"
      ],
      "text/plain": [
       "<IPython.core.display.HTML object>"
      ]
     },
     "metadata": {},
     "output_type": "display_data"
    },
    {
     "data": {
      "text/html": [
       "<p> Studies in mice showed that CpG ODN can boost both humoral and cell-mediated immune responses against a broad range of proteins or vaccines</p>"
      ],
      "text/plain": [
       "<IPython.core.display.HTML object>"
      ]
     },
     "metadata": {},
     "output_type": "display_data"
    },
    {
     "data": {
      "text/html": [
       "<p style='text-align:center'> *** </p>"
      ],
      "text/plain": [
       "<IPython.core.display.HTML object>"
      ]
     },
     "metadata": {},
     "output_type": "display_data"
    },
    {
     "data": {
      "text/html": [
       "<h3> ''ANTIBODY-DEPENDENT NK CELL DEGRANULATION AS A MARKER FOR ASSESSING ANTIBODY-DEPENDENT CYTOTOXICITY AGAINST PANDEMIC 2009 INFLUENZA A(H1N1) INFECTION IN HUMAN PLASMA AND INFLUENZA-VACCINATED TRANSCHROMOSOMIC BOVINE INTRAVENOUS IMMUNOGLOBULIN THERAPY''</h2>"
      ],
      "text/plain": [
       "<IPython.core.display.HTML object>"
      ]
     },
     "metadata": {},
     "output_type": "display_data"
    },
    {
     "data": {
      "text/html": [
       "<p> Routine evaluation of vaccine-induced antibody responses and determination of protective titers will potentially benefit from utilizing additional influenza assays such as NI, MN, and ADCC assays</p>"
      ],
      "text/plain": [
       "<IPython.core.display.HTML object>"
      ]
     },
     "metadata": {},
     "output_type": "display_data"
    },
    {
     "data": {
      "text/html": [
       "<p style='text-align:center'> *** </p>"
      ],
      "text/plain": [
       "<IPython.core.display.HTML object>"
      ]
     },
     "metadata": {},
     "output_type": "display_data"
    }
   ],
   "source": [
    "TASK4 = [\n",
    "\"Effectiveness of drugs being developed and tried to treat COVID-19 patients.\",\n",
    "\"Clinical and bench trials to investigate less common viral inhibitors against COVID-19 such as naproxen, clarithromycin, and minocyclinethat that may exert effects on viral replication.\",\n",
    "\"Methods evaluating potential complication of Antibody-Dependent Enhancement (ADE) in vaccine recipients.\",\n",
    "\"Exploration of use of best animal models and their predictive value for a human vaccine.\",\n",
    "\"Capabilities to discover a therapeutic (not vaccine) for the disease, and clinical effectiveness studies to discover therapeutics, to include antiviral agents.\",\n",
    "\"Alternative models to aid decision makers in determining how to prioritize and distribute scarce, newly proven therapeutics as production ramps up. This could include identifying approaches for expanding production capacity to ensure equitable and timely distribution to populations in need.\",\n",
    "\"Efforts targeted at a universal coronavirus vaccine.\",\n",
    "\"Efforts to develop animal models and standardize challenge studies\",\n",
    "\"Efforts to develop prophylaxis clinical studies and prioritize in healthcare workers\",\n",
    "\"Approaches to evaluate risk for enhanced disease after vaccination\",\n",
    "\"Assays to evaluate vaccine immune response and process development for vaccines, alongside suitable animal models\"\n",
    "]\n",
    "\n",
    "display(HTML(\"<h1 style='font-size:30px'>What do we know about vaccines and therapeutics? What has been published concerning research and development and evaluation efforts of vaccines and therapeutics?</h1>\"))\n",
    "\n",
    "for i in range(len(TASK4)):\n",
    "    display(HTML(\"<h1>\" + str(i+1) + \". \" + TASK4[i] + \"</h1>\"))\n",
    "    df = pd.read_csv(DIR + \"task4_\" + str(i) + \".csv\")\n",
    "    for j, row in df.iterrows():\n",
    "        display(HTML(\"<h3> ''\" + row[3].upper() + \"''</h2>\"))\n",
    "        display(HTML(\"<p>\" + row[1] + \"</p>\"))\n",
    "        display(HTML(\"<p style='text-align:center'> *** </p>\"))"
   ]
  },
  {
   "cell_type": "code",
   "execution_count": 33,
   "metadata": {},
   "outputs": [
    {
     "data": {
      "text/html": [
       "<h1>1. Effectiveness of drugs being developed and tried to treat COVID-19 patients.</h1>"
      ],
      "text/plain": [
       "<IPython.core.display.HTML object>"
      ]
     },
     "metadata": {},
     "output_type": "display_data"
    },
    {
     "data": {
      "text/html": [
       "<h3> ''PHYSIOLOGIC AND OTHER EFFECTS AND COMPLIANCE WITH LONG-TERM RESPIRATOR USE AMONG MEDICAL INTENSIVE CARE UNIT NURSES''</h2>"
      ],
      "text/plain": [
       "<IPython.core.display.HTML object>"
      ]
     },
     "metadata": {},
     "output_type": "display_data"
    },
    {
     "data": {
      "text/html": [
       "<p> Researchers have indicated that intensive care unit staff are often more compliant with N95s than health care personnel in other areas/units</p>"
      ],
      "text/plain": [
       "<IPython.core.display.HTML object>"
      ]
     },
     "metadata": {},
     "output_type": "display_data"
    },
    {
     "data": {
      "text/html": [
       "<p style='text-align:center'> *** </p>"
      ],
      "text/plain": [
       "<IPython.core.display.HTML object>"
      ]
     },
     "metadata": {},
     "output_type": "display_data"
    },
    {
     "data": {
      "text/html": [
       "<h3> ''HEALTH CARE WORKERS' PERCEPTIONS OF RESPIRATORY AND GASTROINTESTINAL ALGORITHMS FOR PATIENT MANAGEMENT IN EMERGENCY CARE SETTINGS''</h2>"
      ],
      "text/plain": [
       "<IPython.core.display.HTML object>"
      ]
     },
     "metadata": {},
     "output_type": "display_data"
    },
    {
     "data": {
      "text/html": [
       "<p> VGH is a 955-bed, adult, tertiary care teaching hospital, offering 24-hour emergency services to residents from across British Columbia</p>"
      ],
      "text/plain": [
       "<IPython.core.display.HTML object>"
      ]
     },
     "metadata": {},
     "output_type": "display_data"
    },
    {
     "data": {
      "text/html": [
       "<p style='text-align:center'> *** </p>"
      ],
      "text/plain": [
       "<IPython.core.display.HTML object>"
      ]
     },
     "metadata": {},
     "output_type": "display_data"
    },
    {
     "data": {
      "text/html": [
       "<h3> ''LOW USAGE OF GOVERNMENT HEALTHCARE FACILITIES FOR ACUTE RESPIRATORY INFECTIONS IN GUATEMALA: IMPLICATIONS FOR INFLUENZA SURVEILLANCE''</h2>"
      ],
      "text/plain": [
       "<IPython.core.display.HTML object>"
      ]
     },
     "metadata": {},
     "output_type": "display_data"
    },
    {
     "data": {
      "text/html": [
       "<p> Outreach centers provide preventive and primary healthcare but are only visited by trained medical staff a few days each month</p>"
      ],
      "text/plain": [
       "<IPython.core.display.HTML object>"
      ]
     },
     "metadata": {},
     "output_type": "display_data"
    },
    {
     "data": {
      "text/html": [
       "<p style='text-align:center'> *** </p>"
      ],
      "text/plain": [
       "<IPython.core.display.HTML object>"
      ]
     },
     "metadata": {},
     "output_type": "display_data"
    },
    {
     "data": {
      "text/html": [
       "<h3> ''PHYSIOLOGIC AND OTHER EFFECTS AND COMPLIANCE WITH LONG-TERM RESPIRATOR USE AMONG MEDICAL INTENSIVE CARE UNIT NURSES''</h2>"
      ],
      "text/plain": [
       "<IPython.core.display.HTML object>"
      ]
     },
     "metadata": {},
     "output_type": "display_data"
    },
    {
     "data": {
      "text/html": [
       "<p> 1, 7 Last, because only intensive care unit nurses were recruited, the findings may not be generalizable to workers in other areas of the hospital or to non-nurse health care personnel</p>"
      ],
      "text/plain": [
       "<IPython.core.display.HTML object>"
      ]
     },
     "metadata": {},
     "output_type": "display_data"
    },
    {
     "data": {
      "text/html": [
       "<p style='text-align:center'> *** </p>"
      ],
      "text/plain": [
       "<IPython.core.display.HTML object>"
      ]
     },
     "metadata": {},
     "output_type": "display_data"
    },
    {
     "data": {
      "text/html": [
       "<h3> ''PHYSIOLOGIC AND OTHER EFFECTS AND COMPLIANCE WITH LONG-TERM RESPIRATOR USE AMONG MEDICAL INTENSIVE CARE UNIT NURSES''</h2>"
      ],
      "text/plain": [
       "<IPython.core.display.HTML object>"
      ]
     },
     "metadata": {},
     "output_type": "display_data"
    },
    {
     "data": {
      "text/html": [
       "<p> 16 A prospective study examining tolerance and observed compliance with long-term N95 use among health care personnel providing routine patient care in an actual work environment has never been conducted</p>"
      ],
      "text/plain": [
       "<IPython.core.display.HTML object>"
      ]
     },
     "metadata": {},
     "output_type": "display_data"
    },
    {
     "data": {
      "text/html": [
       "<p style='text-align:center'> *** </p>"
      ],
      "text/plain": [
       "<IPython.core.display.HTML object>"
      ]
     },
     "metadata": {},
     "output_type": "display_data"
    },
    {
     "data": {
      "text/html": [
       "<h3> ''EVALUATION OF RESPIRATORY PROTECTION PROGRAMS AND PRACTICES IN CALIFORNIA HOSPITALS H1N1 INFLUENZA PANDEMIC''</h2>"
      ],
      "text/plain": [
       "<IPython.core.display.HTML object>"
      ]
     },
     "metadata": {},
     "output_type": "display_data"
    },
    {
     "data": {
      "text/html": [
       "<p>Despite the years of experience accumulated by health care workplaces in which respirators have been used to protect health care workers from tuberculosis and other ATDs, relatively little information exists to describe comprehensively acute care hospital implementation of RPPs</p>"
      ],
      "text/plain": [
       "<IPython.core.display.HTML object>"
      ]
     },
     "metadata": {},
     "output_type": "display_data"
    },
    {
     "data": {
      "text/html": [
       "<p style='text-align:center'> *** </p>"
      ],
      "text/plain": [
       "<IPython.core.display.HTML object>"
      ]
     },
     "metadata": {},
     "output_type": "display_data"
    },
    {
     "data": {
      "text/html": [
       "<h3> ''CONTINUING EDUCATION PROPER USE OF SURGICAL N95 RESPIRATORS AND SURGICAL MASKS IN THE OR PURPOSE/GOAL APPROVALS SPONSORSHIP OR COMMERCIAL SUPPORT PROPER USE OF SURGICAL N95 RESPIRATORS AND SURGICAL MASKS IN THE OR N95 RESPIRATORS AND SURGICAL MASKS''</h2>"
      ],
      "text/plain": [
       "<IPython.core.display.HTML object>"
      ]
     },
     "metadata": {},
     "output_type": "display_data"
    },
    {
     "data": {
      "text/html": [
       "<p> Health care administrators should encourage individual health care workers, in conjunction with infection preventionists and occupational health or industrial hygienists, to examine the appropriate selection and use of protective facemasks</p>"
      ],
      "text/plain": [
       "<IPython.core.display.HTML object>"
      ]
     },
     "metadata": {},
     "output_type": "display_data"
    },
    {
     "data": {
      "text/html": [
       "<p style='text-align:center'> *** </p>"
      ],
      "text/plain": [
       "<IPython.core.display.HTML object>"
      ]
     },
     "metadata": {},
     "output_type": "display_data"
    },
    {
     "data": {
      "text/html": [
       "<h3> ''STOCKPILE OF PERSONAL PROTECTIVE EQUIPMENT IN HOSPITAL SETTINGS: PREPAREDNESS FOR INFLUENZA PANDEMICS''</h2>"
      ],
      "text/plain": [
       "<IPython.core.display.HTML object>"
      ]
     },
     "metadata": {},
     "output_type": "display_data"
    },
    {
     "data": {
      "text/html": [
       "<p> 5 All medical and nonmedical workers in the hospital, such as doctors, nurses, medical technologists, pharmacists, caregivers who provide critical care or spiritual care, respiratory therapists, reprocessors of reusable medical devices, and cafeteria workers, in addition to the family members and visitors, also require at least 2 surgical masks per day</p>"
      ],
      "text/plain": [
       "<IPython.core.display.HTML object>"
      ]
     },
     "metadata": {},
     "output_type": "display_data"
    },
    {
     "data": {
      "text/html": [
       "<p style='text-align:center'> *** </p>"
      ],
      "text/plain": [
       "<IPython.core.display.HTML object>"
      ]
     },
     "metadata": {},
     "output_type": "display_data"
    },
    {
     "data": {
      "text/html": [
       "<h3> ''EVALUATION OF RESPIRATORY PROTECTION PROGRAMS AND PRACTICES IN CALIFORNIA HOSPITALS H1N1 INFLUENZA PANDEMIC''</h2>"
      ],
      "text/plain": [
       "<IPython.core.display.HTML object>"
      ]
     },
     "metadata": {},
     "output_type": "display_data"
    },
    {
     "data": {
      "text/html": [
       "<p>Separate evaluation instruments were designed by project staff for use in interviewing health care workers on specific units likely to care for patients with pH1N1 infection, managers of those units, and hospital managers with higher-level responsibilities related to the RPP</p>"
      ],
      "text/plain": [
       "<IPython.core.display.HTML object>"
      ]
     },
     "metadata": {},
     "output_type": "display_data"
    },
    {
     "data": {
      "text/html": [
       "<p style='text-align:center'> *** </p>"
      ],
      "text/plain": [
       "<IPython.core.display.HTML object>"
      ]
     },
     "metadata": {},
     "output_type": "display_data"
    },
    {
     "data": {
      "text/html": [
       "<h3> ''THE INDIVIDUAL, ENVIRONMENTAL, AND ORGANIZATIONAL FACTORS THAT INFLUENCE NURSES' USE OF FACIAL PROTECTION TO PREVENT OCCUPATIONAL TRANSMISSION OF COMMUNICABLE RESPIRATORY ILLNESS IN ACUTE CARE HOSPITALS''</h2>"
      ],
      "text/plain": [
       "<IPython.core.display.HTML object>"
      ]
     },
     "metadata": {},
     "output_type": "display_data"
    },
    {
     "data": {
      "text/html": [
       "<p>According to the 2005 Canadian Nurses Association RN Workforce Profile by Area of Responsibility, our sample is fairly representative of the population of nurses working in medicine/surgery, critical care, and emergency</p>"
      ],
      "text/plain": [
       "<IPython.core.display.HTML object>"
      ]
     },
     "metadata": {},
     "output_type": "display_data"
    },
    {
     "data": {
      "text/html": [
       "<p style='text-align:center'> *** </p>"
      ],
      "text/plain": [
       "<IPython.core.display.HTML object>"
      ]
     },
     "metadata": {},
     "output_type": "display_data"
    },
    {
     "data": {
      "text/html": [
       "<h1>2. Clinical and bench trials to investigate less common viral inhibitors against COVID-19 such as naproxen, clarithromycin, and minocyclinethat that may exert effects on viral replication.</h1>"
      ],
      "text/plain": [
       "<IPython.core.display.HTML object>"
      ]
     },
     "metadata": {},
     "output_type": "display_data"
    },
    {
     "data": {
      "text/html": [
       "<h3> ''USER ACCEPTANCE OF REUSABLE RESPIRATORS IN HEALTH CARE''</h2>"
      ],
      "text/plain": [
       "<IPython.core.display.HTML object>"
      ]
     },
     "metadata": {},
     "output_type": "display_data"
    },
    {
     "data": {
      "text/html": [
       "<p> Thus, the health care sector must plan to address these foreseeable shortages</p>"
      ],
      "text/plain": [
       "<IPython.core.display.HTML object>"
      ]
     },
     "metadata": {},
     "output_type": "display_data"
    },
    {
     "data": {
      "text/html": [
       "<p style='text-align:center'> *** </p>"
      ],
      "text/plain": [
       "<IPython.core.display.HTML object>"
      ]
     },
     "metadata": {},
     "output_type": "display_data"
    },
    {
     "data": {
      "text/html": [
       "<h3> ''EVALUATION OF RESPIRATORY PROTECTION PROGRAMS AND PRACTICES IN CALIFORNIA HOSPITALS H1N1 INFLUENZA PANDEMIC''</h2>"
      ],
      "text/plain": [
       "<IPython.core.display.HTML object>"
      ]
     },
     "metadata": {},
     "output_type": "display_data"
    },
    {
     "data": {
      "text/html": [
       "<p> Participation of hospitals, individual managers, and health care workers was voluntary</p>"
      ],
      "text/plain": [
       "<IPython.core.display.HTML object>"
      ]
     },
     "metadata": {},
     "output_type": "display_data"
    },
    {
     "data": {
      "text/html": [
       "<p style='text-align:center'> *** </p>"
      ],
      "text/plain": [
       "<IPython.core.display.HTML object>"
      ]
     },
     "metadata": {},
     "output_type": "display_data"
    },
    {
     "data": {
      "text/html": [
       "<h3> ''PUBLIC UNDERSTANDING OF MEDICAL COUNTERMEASURES''</h2>"
      ],
      "text/plain": [
       "<IPython.core.display.HTML object>"
      ]
     },
     "metadata": {},
     "output_type": "display_data"
    },
    {
     "data": {
      "text/html": [
       "<p> Prior research linked high public anxiety to crisis and emergency risk communication</p>"
      ],
      "text/plain": [
       "<IPython.core.display.HTML object>"
      ]
     },
     "metadata": {},
     "output_type": "display_data"
    },
    {
     "data": {
      "text/html": [
       "<p style='text-align:center'> *** </p>"
      ],
      "text/plain": [
       "<IPython.core.display.HTML object>"
      ]
     },
     "metadata": {},
     "output_type": "display_data"
    },
    {
     "data": {
      "text/html": [
       "<h3> ''PERSONAL PROTECTIVE EQUIPMENT: PROTECTING HEALTH CARE PROVIDERS IN AN EBOLA OUTBREAK''</h2>"
      ],
      "text/plain": [
       "<IPython.core.display.HTML object>"
      ]
     },
     "metadata": {},
     "output_type": "display_data"
    },
    {
     "data": {
      "text/html": [
       "<p>The recent Ebola epidemic that devastated West Africa evolved within months from a regional humanitarian crisis to a global public health emergency</p>"
      ],
      "text/plain": [
       "<IPython.core.display.HTML object>"
      ]
     },
     "metadata": {},
     "output_type": "display_data"
    },
    {
     "data": {
      "text/html": [
       "<p style='text-align:center'> *** </p>"
      ],
      "text/plain": [
       "<IPython.core.display.HTML object>"
      ]
     },
     "metadata": {},
     "output_type": "display_data"
    },
    {
     "data": {
      "text/html": [
       "<h3> ''EVALUATION OF RESPIRATORY PROTECTION PROGRAMS AND PRACTICES IN CALIFORNIA HOSPITALS H1N1 INFLUENZA PANDEMIC''</h2>"
      ],
      "text/plain": [
       "<IPython.core.display.HTML object>"
      ]
     },
     "metadata": {},
     "output_type": "display_data"
    },
    {
     "data": {
      "text/html": [
       "<p> Half of interviewed hospital managers reported experiencing a shortage of respirators; they cited increased demand due to higher patient loads and supplier inability to fill orders as the key reasons for a shortage</p>"
      ],
      "text/plain": [
       "<IPython.core.display.HTML object>"
      ]
     },
     "metadata": {},
     "output_type": "display_data"
    },
    {
     "data": {
      "text/html": [
       "<p style='text-align:center'> *** </p>"
      ],
      "text/plain": [
       "<IPython.core.display.HTML object>"
      ]
     },
     "metadata": {},
     "output_type": "display_data"
    },
    {
     "data": {
      "text/html": [
       "<h3> ''HEALTH CARE WORKERS' PERCEPTIONS OF RESPIRATORY AND GASTROINTESTINAL ALGORITHMS FOR PATIENT MANAGEMENT IN EMERGENCY CARE SETTINGS''</h2>"
      ],
      "text/plain": [
       "<IPython.core.display.HTML object>"
      ]
     },
     "metadata": {},
     "output_type": "display_data"
    },
    {
     "data": {
      "text/html": [
       "<p>The current study advances knowledge surrounding HCWs perceptions of organizational-specific guidelines for managing patients with suspected communicable respiratory and GI illnesses in emergency departments</p>"
      ],
      "text/plain": [
       "<IPython.core.display.HTML object>"
      ]
     },
     "metadata": {},
     "output_type": "display_data"
    },
    {
     "data": {
      "text/html": [
       "<p style='text-align:center'> *** </p>"
      ],
      "text/plain": [
       "<IPython.core.display.HTML object>"
      ]
     },
     "metadata": {},
     "output_type": "display_data"
    },
    {
     "data": {
      "text/html": [
       "<h3> ''LOW USAGE OF GOVERNMENT HEALTHCARE FACILITIES FOR ACUTE RESPIRATORY INFECTIONS IN GUATEMALA: IMPLICATIONS FOR INFLUENZA SURVEILLANCE''</h2>"
      ],
      "text/plain": [
       "<IPython.core.display.HTML object>"
      ]
     },
     "metadata": {},
     "output_type": "display_data"
    },
    {
     "data": {
      "text/html": [
       "<p> Hospitals and health centers are staffed by physicians and nurses, whereas health posts are staffed by nurses</p>"
      ],
      "text/plain": [
       "<IPython.core.display.HTML object>"
      ]
     },
     "metadata": {},
     "output_type": "display_data"
    },
    {
     "data": {
      "text/html": [
       "<p style='text-align:center'> *** </p>"
      ],
      "text/plain": [
       "<IPython.core.display.HTML object>"
      ]
     },
     "metadata": {},
     "output_type": "display_data"
    },
    {
     "data": {
      "text/html": [
       "<h3> ''A CLUSTER RANDOMIZED CLINICAL TRIAL COMPARING FIT-TESTED AND NON-FIT-TESTED N95 RESPIRATORS TO MEDICAL MASKS TO PREVENT RESPIRATORY VIRUS INFECTION IN HEALTH CARE WORKERS''</h2>"
      ],
      "text/plain": [
       "<IPython.core.display.HTML object>"
      ]
     },
     "metadata": {},
     "output_type": "display_data"
    },
    {
     "data": {
      "text/html": [
       "<p> Hospital health care workers (HCWs) are key to effective pandemic response and the capacity of health care systems</p>"
      ],
      "text/plain": [
       "<IPython.core.display.HTML object>"
      ]
     },
     "metadata": {},
     "output_type": "display_data"
    },
    {
     "data": {
      "text/html": [
       "<p style='text-align:center'> *** </p>"
      ],
      "text/plain": [
       "<IPython.core.display.HTML object>"
      ]
     },
     "metadata": {},
     "output_type": "display_data"
    },
    {
     "data": {
      "text/html": [
       "<h3> ''PUBLIC UNDERSTANDING OF MEDICAL COUNTERMEASURES''</h2>"
      ],
      "text/plain": [
       "<IPython.core.display.HTML object>"
      ]
     },
     "metadata": {},
     "output_type": "display_data"
    },
    {
     "data": {
      "text/html": [
       "<p> 1, 2 Ongoing research is developing medical countermeasures deployable in public health emergencies, enabling the best emergency medicines and tools to be available when disaster strikes</p>"
      ],
      "text/plain": [
       "<IPython.core.display.HTML object>"
      ]
     },
     "metadata": {},
     "output_type": "display_data"
    },
    {
     "data": {
      "text/html": [
       "<p style='text-align:center'> *** </p>"
      ],
      "text/plain": [
       "<IPython.core.display.HTML object>"
      ]
     },
     "metadata": {},
     "output_type": "display_data"
    },
    {
     "data": {
      "text/html": [
       "<h3> ''RESISTANCE TO SYNTHETIC BLOOD PENETRATION OF NATIONAL INSTITUTE FOR OCCUPATIONAL SAFETY AND HEALTH-APPROVED N95 FILTERING FACEPIECE RESPIRATORS AND SURGICAL N95 RESPIRATORS''</h2>"
      ],
      "text/plain": [
       "<IPython.core.display.HTML object>"
      ]
     },
     "metadata": {},
     "output_type": "display_data"
    },
    {
     "data": {
      "text/html": [
       "<p> The extensive use of surgical N95 FFRs in surgical and nonsurgical health care practices results in shortages during emergencies and pandemic events involving a respiratory pathogen</p>"
      ],
      "text/plain": [
       "<IPython.core.display.HTML object>"
      ]
     },
     "metadata": {},
     "output_type": "display_data"
    },
    {
     "data": {
      "text/html": [
       "<p style='text-align:center'> *** </p>"
      ],
      "text/plain": [
       "<IPython.core.display.HTML object>"
      ]
     },
     "metadata": {},
     "output_type": "display_data"
    },
    {
     "data": {
      "text/html": [
       "<h1>3. Methods evaluating potential complication of Antibody-Dependent Enhancement (ADE) in vaccine recipients.</h1>"
      ],
      "text/plain": [
       "<IPython.core.display.HTML object>"
      ]
     },
     "metadata": {},
     "output_type": "display_data"
    },
    {
     "data": {
      "text/html": [
       "<h3> ''PRECAUTIONS ARE NEEDED FOR COVID-19 PATIENTS WITH COINFECTION OF COMMON RESPIRATORY PATHOGENS''</h2>"
      ],
      "text/plain": [
       "<IPython.core.display.HTML object>"
      ]
     },
     "metadata": {},
     "output_type": "display_data"
    },
    {
     "data": {
      "text/html": [
       "<p>20027698 doi: medRxiv preprint the pathogenesis and outcome of severe acute respiratory illnesses like SARS and MERS</p>"
      ],
      "text/plain": [
       "<IPython.core.display.HTML object>"
      ]
     },
     "metadata": {},
     "output_type": "display_data"
    },
    {
     "data": {
      "text/html": [
       "<p style='text-align:center'> *** </p>"
      ],
      "text/plain": [
       "<IPython.core.display.HTML object>"
      ]
     },
     "metadata": {},
     "output_type": "display_data"
    },
    {
     "data": {
      "text/html": [
       "<h3> ''SELF-CONTAMINATION DURING DOFFING OF PERSONAL PROTECTIVE EQUIPMENT BY HEALTHCARE WORKERS TO PREVENT EBOLA TRANSMISSION''</h2>"
      ],
      "text/plain": [
       "<IPython.core.display.HTML object>"
      ]
     },
     "metadata": {},
     "output_type": "display_data"
    },
    {
     "data": {
      "text/html": [
       "<p> Pregnant females and participants suffering from upper respiratory tract infection and respiratory diseases requiring treatment were excluded</p>"
      ],
      "text/plain": [
       "<IPython.core.display.HTML object>"
      ]
     },
     "metadata": {},
     "output_type": "display_data"
    },
    {
     "data": {
      "text/html": [
       "<p style='text-align:center'> *** </p>"
      ],
      "text/plain": [
       "<IPython.core.display.HTML object>"
      ]
     },
     "metadata": {},
     "output_type": "display_data"
    },
    {
     "data": {
      "text/html": [
       "<h3> ''A CLUSTER RANDOMIZED CLINICAL TRIAL COMPARING FIT-TESTED AND NON-FIT-TESTED N95 RESPIRATORS TO MEDICAL MASKS TO PREVENT RESPIRATORY VIRUS INFECTION IN HEALTH CARE WORKERS''</h2>"
      ],
      "text/plain": [
       "<IPython.core.display.HTML object>"
      ]
     },
     "metadata": {},
     "output_type": "display_data"
    },
    {
     "data": {
      "text/html": [
       "<p> 4 During outbreaks of infectious diseases, hospitals may amplify virus transmission, as demonstrated during severe acute respiratory syndrome (SARS)</p>"
      ],
      "text/plain": [
       "<IPython.core.display.HTML object>"
      ]
     },
     "metadata": {},
     "output_type": "display_data"
    },
    {
     "data": {
      "text/html": [
       "<p style='text-align:center'> *** </p>"
      ],
      "text/plain": [
       "<IPython.core.display.HTML object>"
      ]
     },
     "metadata": {},
     "output_type": "display_data"
    },
    {
     "data": {
      "text/html": [
       "<h3> ''A CLUSTER RANDOMIZED CLINICAL TRIAL COMPARING FIT-TESTED AND NON-FIT-TESTED N95 RESPIRATORS TO MEDICAL MASKS TO PREVENT RESPIRATORY VIRUS INFECTION IN HEALTH CARE WORKERS''</h2>"
      ],
      "text/plain": [
       "<IPython.core.display.HTML object>"
      ]
     },
     "metadata": {},
     "output_type": "display_data"
    },
    {
     "data": {
      "text/html": [
       "<p> Outcomes included clinical respiratory illness (CRI), influenza-like illness (ILI), laboratoryconfirmed respiratory virus infection and influenza</p>"
      ],
      "text/plain": [
       "<IPython.core.display.HTML object>"
      ]
     },
     "metadata": {},
     "output_type": "display_data"
    },
    {
     "data": {
      "text/html": [
       "<p style='text-align:center'> *** </p>"
      ],
      "text/plain": [
       "<IPython.core.display.HTML object>"
      ]
     },
     "metadata": {},
     "output_type": "display_data"
    },
    {
     "data": {
      "text/html": [
       "<h3> ''AEROSOL GENERATING PROCEDURES AND RISK OF TRANSMISSION OF ACUTE RESPIRATORY INFECTIONS TO HEALTHCARE WORKERS: A SYSTEMATIC REVIEW''</h2>"
      ],
      "text/plain": [
       "<IPython.core.display.HTML object>"
      ]
     },
     "metadata": {},
     "output_type": "display_data"
    },
    {
     "data": {
      "text/html": [
       "<p> The study population involved HCWs caring for patients with acute respiratory infections</p>"
      ],
      "text/plain": [
       "<IPython.core.display.HTML object>"
      ]
     },
     "metadata": {},
     "output_type": "display_data"
    },
    {
     "data": {
      "text/html": [
       "<p style='text-align:center'> *** </p>"
      ],
      "text/plain": [
       "<IPython.core.display.HTML object>"
      ]
     },
     "metadata": {},
     "output_type": "display_data"
    },
    {
     "data": {
      "text/html": [
       "<h3> ''EVALUATION OF RESPIRATORY PROTECTION PROGRAMS AND PRACTICES IN CALIFORNIA HOSPITALS H1N1 INFLUENZA PANDEMIC''</h2>"
      ],
      "text/plain": [
       "<IPython.core.display.HTML object>"
      ]
     },
     "metadata": {},
     "output_type": "display_data"
    },
    {
     "data": {
      "text/html": [
       "<p> Investigations related to severe acute respiratory syndrome outbreaks have identified difficulties achieving compliance with PPE policies, especially for respiratory and facial protection</p>"
      ],
      "text/plain": [
       "<IPython.core.display.HTML object>"
      ]
     },
     "metadata": {},
     "output_type": "display_data"
    },
    {
     "data": {
      "text/html": [
       "<p style='text-align:center'> *** </p>"
      ],
      "text/plain": [
       "<IPython.core.display.HTML object>"
      ]
     },
     "metadata": {},
     "output_type": "display_data"
    },
    {
     "data": {
      "text/html": [
       "<h3> ''COMMENTARY CONSIDERATIONS FOR RECOMMENDING EXTENDED USE AND LIMITED REUSE OF FILTERING FACEPIECE RESPIRATORS IN HEALTH CARE SETTINGS''</h2>"
      ],
      "text/plain": [
       "<IPython.core.display.HTML object>"
      ]
     },
     "metadata": {},
     "output_type": "display_data"
    },
    {
     "data": {
      "text/html": [
       "<p>, epidemiologically important organisms such as severe acute respiratory syndrome (SARS)] and influenza), CDC publishes detailed specialized infection control guidance</p>"
      ],
      "text/plain": [
       "<IPython.core.display.HTML object>"
      ]
     },
     "metadata": {},
     "output_type": "display_data"
    },
    {
     "data": {
      "text/html": [
       "<p style='text-align:center'> *** </p>"
      ],
      "text/plain": [
       "<IPython.core.display.HTML object>"
      ]
     },
     "metadata": {},
     "output_type": "display_data"
    },
    {
     "data": {
      "text/html": [
       "<h3> ''NOSOCOMIAL TRANSMISSION OF EMERGING VIRUSES VIA AEROSOL-GENERATING MEDICAL PROCEDURES''</h2>"
      ],
      "text/plain": [
       "<IPython.core.display.HTML object>"
      ]
     },
     "metadata": {},
     "output_type": "display_data"
    },
    {
     "data": {
      "text/html": [
       "<p> Arenavirus infections can cause viral hemorrhagic fevers (VHFs) in humans</p>"
      ],
      "text/plain": [
       "<IPython.core.display.HTML object>"
      ]
     },
     "metadata": {},
     "output_type": "display_data"
    },
    {
     "data": {
      "text/html": [
       "<p style='text-align:center'> *** </p>"
      ],
      "text/plain": [
       "<IPython.core.display.HTML object>"
      ]
     },
     "metadata": {},
     "output_type": "display_data"
    },
    {
     "data": {
      "text/html": [
       "<h3> ''VALIDATION OF SYNDROMIC SURVEILLANCE FOR RESPIRATORY INFECTIONS''</h2>"
      ],
      "text/plain": [
       "<IPython.core.display.HTML object>"
      ]
     },
     "metadata": {},
     "output_type": "display_data"
    },
    {
     "data": {
      "text/html": [
       "<p> Figure 3 demonstrates the correlation of respiratory syndrome frequencies with RSV and influenza</p>"
      ],
      "text/plain": [
       "<IPython.core.display.HTML object>"
      ]
     },
     "metadata": {},
     "output_type": "display_data"
    },
    {
     "data": {
      "text/html": [
       "<p style='text-align:center'> *** </p>"
      ],
      "text/plain": [
       "<IPython.core.display.HTML object>"
      ]
     },
     "metadata": {},
     "output_type": "display_data"
    },
    {
     "data": {
      "text/html": [
       "<h3> ''A CLUSTER RANDOMIZED CLINICAL TRIAL COMPARING FIT-TESTED AND NON-FIT-TESTED N95 RESPIRATORS TO MEDICAL MASKS TO PREVENT RESPIRATORY VIRUS INFECTION IN HEALTH CARE WORKERS''</h2>"
      ],
      "text/plain": [
       "<IPython.core.display.HTML object>"
      ]
     },
     "metadata": {},
     "output_type": "display_data"
    },
    {
     "data": {
      "text/html": [
       "<p> CRI, clinical respiratory illness; ILI, influenza-like illness</p>"
      ],
      "text/plain": [
       "<IPython.core.display.HTML object>"
      ]
     },
     "metadata": {},
     "output_type": "display_data"
    },
    {
     "data": {
      "text/html": [
       "<p style='text-align:center'> *** </p>"
      ],
      "text/plain": [
       "<IPython.core.display.HTML object>"
      ]
     },
     "metadata": {},
     "output_type": "display_data"
    },
    {
     "data": {
      "text/html": [
       "<h1>4. Exploration of use of best animal models and their predictive value for a human vaccine.</h1>"
      ],
      "text/plain": [
       "<IPython.core.display.HTML object>"
      ]
     },
     "metadata": {},
     "output_type": "display_data"
    },
    {
     "data": {
      "text/html": [
       "<h3> ''INTRANASAL DNA VACCINE FOR PROTECTION AGAINST RESPIRATORY INFECTIOUS DISEASES: THE DELIVERY PERSPECTIVES''</h2>"
      ],
      "text/plain": [
       "<IPython.core.display.HTML object>"
      ]
     },
     "metadata": {},
     "output_type": "display_data"
    },
    {
     "data": {
      "text/html": [
       "<p>Liposomes are vesicles comprised of phospholipid bilayers</p>"
      ],
      "text/plain": [
       "<IPython.core.display.HTML object>"
      ]
     },
     "metadata": {},
     "output_type": "display_data"
    },
    {
     "data": {
      "text/html": [
       "<p style='text-align:center'> *** </p>"
      ],
      "text/plain": [
       "<IPython.core.display.HTML object>"
      ]
     },
     "metadata": {},
     "output_type": "display_data"
    },
    {
     "data": {
      "text/html": [
       "<h3> ''INTRANASAL DNA VACCINE FOR PROTECTION AGAINST RESPIRATORY INFECTIOUS DISEASES: THE DELIVERY PERSPECTIVES''</h2>"
      ],
      "text/plain": [
       "<IPython.core.display.HTML object>"
      ]
     },
     "metadata": {},
     "output_type": "display_data"
    },
    {
     "data": {
      "text/html": [
       "<p> Effective mucosal immunity often correlates with the uptake of antigen by mucosal inductive tissues, such as NALT in the upper respiratory tract following intranasal immunization</p>"
      ],
      "text/plain": [
       "<IPython.core.display.HTML object>"
      ]
     },
     "metadata": {},
     "output_type": "display_data"
    },
    {
     "data": {
      "text/html": [
       "<p style='text-align:center'> *** </p>"
      ],
      "text/plain": [
       "<IPython.core.display.HTML object>"
      ]
     },
     "metadata": {},
     "output_type": "display_data"
    },
    {
     "data": {
      "text/html": [
       "<h3> ''UNIVERSAL AND REUSABLE VIRUS DEACTIVATION SYSTEM FOR RESPIRATORY PROTECTION OPEN''</h2>"
      ],
      "text/plain": [
       "<IPython.core.display.HTML object>"
      ]
     },
     "metadata": {},
     "output_type": "display_data"
    },
    {
     "data": {
      "text/html": [
       "<p> Filtration efficiency against viral aerosols and protective efficacy in vivo</p>"
      ],
      "text/plain": [
       "<IPython.core.display.HTML object>"
      ]
     },
     "metadata": {},
     "output_type": "display_data"
    },
    {
     "data": {
      "text/html": [
       "<p style='text-align:center'> *** </p>"
      ],
      "text/plain": [
       "<IPython.core.display.HTML object>"
      ]
     },
     "metadata": {},
     "output_type": "display_data"
    },
    {
     "data": {
      "text/html": [
       "<h3> ''INTRANASAL DNA VACCINE FOR PROTECTION AGAINST RESPIRATORY INFECTIOUS DISEASES: THE DELIVERY PERSPECTIVES''</h2>"
      ],
      "text/plain": [
       "<IPython.core.display.HTML object>"
      ]
     },
     "metadata": {},
     "output_type": "display_data"
    },
    {
     "data": {
      "text/html": [
       "<p> Apart from cellular uptake, particle size also affects the kinetics of lymphatic drainage</p>"
      ],
      "text/plain": [
       "<IPython.core.display.HTML object>"
      ]
     },
     "metadata": {},
     "output_type": "display_data"
    },
    {
     "data": {
      "text/html": [
       "<p style='text-align:center'> *** </p>"
      ],
      "text/plain": [
       "<IPython.core.display.HTML object>"
      ]
     },
     "metadata": {},
     "output_type": "display_data"
    },
    {
     "data": {
      "text/html": [
       "<h3> ''EVALUATION OF THE SURVIVABILITY OF MS2 VIRAL AEROSOLS DEPOSITED ON FILTERING FACE PIECE RESPIRATOR SAMPLES INCORPORATING ANTIMICROBIAL TECHNOLOGIES''</h2>"
      ],
      "text/plain": [
       "<IPython.core.display.HTML object>"
      ]
     },
     "metadata": {},
     "output_type": "display_data"
    },
    {
     "data": {
      "text/html": [
       "<p> The aerosol particles undergo desiccation to become droplet nuclei</p>"
      ],
      "text/plain": [
       "<IPython.core.display.HTML object>"
      ]
     },
     "metadata": {},
     "output_type": "display_data"
    },
    {
     "data": {
      "text/html": [
       "<p style='text-align:center'> *** </p>"
      ],
      "text/plain": [
       "<IPython.core.display.HTML object>"
      ]
     },
     "metadata": {},
     "output_type": "display_data"
    },
    {
     "data": {
      "text/html": [
       "<h3> ''AEROSOL GENERATING PROCEDURES AND RISK OF TRANSMISSION OF ACUTE RESPIRATORY INFECTIONS TO HEALTHCARE WORKERS: A SYSTEMATIC REVIEW''</h2>"
      ],
      "text/plain": [
       "<IPython.core.display.HTML object>"
      ]
     },
     "metadata": {},
     "output_type": "display_data"
    },
    {
     "data": {
      "text/html": [
       "<p> Procedures that might promote the generation of droplets or aerosols (nonexhaustive list) included non-invasive ventilation (CPAP and BiPAP), endotracheal intubation, airway suctioning, high frequency oscillatory ventilation, bag-valve mask ventilation, chest physiotherapy, nebulizer therapies, aerosol humidification, bronchoscopy or other upper airway endoscopy, tracheotomy, and open thoracotomy</p>"
      ],
      "text/plain": [
       "<IPython.core.display.HTML object>"
      ]
     },
     "metadata": {},
     "output_type": "display_data"
    },
    {
     "data": {
      "text/html": [
       "<p style='text-align:center'> *** </p>"
      ],
      "text/plain": [
       "<IPython.core.display.HTML object>"
      ]
     },
     "metadata": {},
     "output_type": "display_data"
    },
    {
     "data": {
      "text/html": [
       "<h3> ''UNIVERSAL AND REUSABLE VIRUS DEACTIVATION SYSTEM FOR RESPIRATORY PROTECTION OPEN''</h2>"
      ],
      "text/plain": [
       "<IPython.core.display.HTML object>"
      ]
     },
     "metadata": {},
     "output_type": "display_data"
    },
    {
     "data": {
      "text/html": [
       "<p> The conformational stability of antigenic proteins was characterized by measuring intrinsic fluorescence using 0</p>"
      ],
      "text/plain": [
       "<IPython.core.display.HTML object>"
      ]
     },
     "metadata": {},
     "output_type": "display_data"
    },
    {
     "data": {
      "text/html": [
       "<p style='text-align:center'> *** </p>"
      ],
      "text/plain": [
       "<IPython.core.display.HTML object>"
      ]
     },
     "metadata": {},
     "output_type": "display_data"
    },
    {
     "data": {
      "text/html": [
       "<h3> ''ASSESSMENT OF HEALTHCARE WORKER PROTOCOL DEVIATIONS AND SELF-CONTAMINATION DURING PERSONAL PROTECTIVE EQUIPMENT DONNING AND DOFFING RECOMMENDED CITATION''</h2>"
      ],
      "text/plain": [
       "<IPython.core.display.HTML object>"
      ]
     },
     "metadata": {},
     "output_type": "display_data"
    },
    {
     "data": {
      "text/html": [
       "<p> The syringe was attached to a pediatric intranasal laryngeal mask airway mucosal atomization device (LMA MAD Nasal, Teleflex, Westmeath, Ireland)</p>"
      ],
      "text/plain": [
       "<IPython.core.display.HTML object>"
      ]
     },
     "metadata": {},
     "output_type": "display_data"
    },
    {
     "data": {
      "text/html": [
       "<p style='text-align:center'> *** </p>"
      ],
      "text/plain": [
       "<IPython.core.display.HTML object>"
      ]
     },
     "metadata": {},
     "output_type": "display_data"
    },
    {
     "data": {
      "text/html": [
       "<h3> ''PHARMACEUTICALS USE OF APTAMERS AS DIAGNOSTICS TOOLS AND ANTIVIRAL AGENTS FOR HUMAN VIRUSES''</h2>"
      ],
      "text/plain": [
       "<IPython.core.display.HTML object>"
      ]
     },
     "metadata": {},
     "output_type": "display_data"
    },
    {
     "data": {
      "text/html": [
       "<p>28 prevents nucleocapsid assembly and viral replication in the hepatic cellular line HepG2</p>"
      ],
      "text/plain": [
       "<IPython.core.display.HTML object>"
      ]
     },
     "metadata": {},
     "output_type": "display_data"
    },
    {
     "data": {
      "text/html": [
       "<p style='text-align:center'> *** </p>"
      ],
      "text/plain": [
       "<IPython.core.display.HTML object>"
      ]
     },
     "metadata": {},
     "output_type": "display_data"
    },
    {
     "data": {
      "text/html": [
       "<h3> ''INTRANASAL DNA VACCINE FOR PROTECTION AGAINST RESPIRATORY INFECTIOUS DISEASES: THE DELIVERY PERSPECTIVES''</h2>"
      ],
      "text/plain": [
       "<IPython.core.display.HTML object>"
      ]
     },
     "metadata": {},
     "output_type": "display_data"
    },
    {
     "data": {
      "text/html": [
       "<p> In addition, the overlying epithelium of mucosal follicles forms a specialized cell layer</p>"
      ],
      "text/plain": [
       "<IPython.core.display.HTML object>"
      ]
     },
     "metadata": {},
     "output_type": "display_data"
    },
    {
     "data": {
      "text/html": [
       "<p style='text-align:center'> *** </p>"
      ],
      "text/plain": [
       "<IPython.core.display.HTML object>"
      ]
     },
     "metadata": {},
     "output_type": "display_data"
    },
    {
     "data": {
      "text/html": [
       "<h1>5. Capabilities to discover a therapeutic (not vaccine) for the disease, and clinical effectiveness studies to discover therapeutics, to include antiviral agents.</h1>"
      ],
      "text/plain": [
       "<IPython.core.display.HTML object>"
      ]
     },
     "metadata": {},
     "output_type": "display_data"
    },
    {
     "data": {
      "text/html": [
       "<h3> ''PERSONAL PROTECTION EQUIPMENT FOR BIOLOGICAL HAZARDS: DOES IT AFFECT TRACHEAL INTUBATION PERFORMANCE? ଝ''</h2>"
      ],
      "text/plain": [
       "<IPython.core.display.HTML object>"
      ]
     },
     "metadata": {},
     "output_type": "display_data"
    },
    {
     "data": {
      "text/html": [
       "<p>Pulmonary complications are a prominent feature of these diseases and patients frequently require intensive respiratory therapy and mechanical ventilation</p>"
      ],
      "text/plain": [
       "<IPython.core.display.HTML object>"
      ]
     },
     "metadata": {},
     "output_type": "display_data"
    },
    {
     "data": {
      "text/html": [
       "<p style='text-align:center'> *** </p>"
      ],
      "text/plain": [
       "<IPython.core.display.HTML object>"
      ]
     },
     "metadata": {},
     "output_type": "display_data"
    },
    {
     "data": {
      "text/html": [
       "<h3> ''AEROSOL GENERATING PROCEDURES AND RISK OF TRANSMISSION OF ACUTE RESPIRATORY INFECTIONS TO HEALTHCARE WORKERS: A SYSTEMATIC REVIEW''</h2>"
      ],
      "text/plain": [
       "<IPython.core.display.HTML object>"
      ]
     },
     "metadata": {},
     "output_type": "display_data"
    },
    {
     "data": {
      "text/html": [
       "<p> Procedures that might promote the generation of droplets or aerosols (nonexhaustive list) included non-invasive ventilation (CPAP and BiPAP), endotracheal intubation, airway suctioning, high frequency oscillatory ventilation, bag-valve mask ventilation, chest physiotherapy, nebulizer therapies, aerosol humidification, bronchoscopy or other upper airway endoscopy, tracheotomy, and open thoracotomy</p>"
      ],
      "text/plain": [
       "<IPython.core.display.HTML object>"
      ]
     },
     "metadata": {},
     "output_type": "display_data"
    },
    {
     "data": {
      "text/html": [
       "<p style='text-align:center'> *** </p>"
      ],
      "text/plain": [
       "<IPython.core.display.HTML object>"
      ]
     },
     "metadata": {},
     "output_type": "display_data"
    },
    {
     "data": {
      "text/html": [
       "<h3> ''APPLICATIONS OF ULTRAVIOLET GERMICIDAL IRRADIATION DISINFECTION IN HEALTH CARE FACILITIES: EFFECTIVE ADJUNCT, BUT NOT STAND-ALONE TECHNOLOGY''</h2>"
      ],
      "text/plain": [
       "<IPython.core.display.HTML object>"
      ]
     },
     "metadata": {},
     "output_type": "display_data"
    },
    {
     "data": {
      "text/html": [
       "<p> Under experimental laboratory conditions with mechanical ventilation rates of up to 6 ACH, the rate at which microorganisms are killed or inactivated by UVGI systems appears to be additive with mechanical ventilation systems in well-mixed rooms</p>"
      ],
      "text/plain": [
       "<IPython.core.display.HTML object>"
      ]
     },
     "metadata": {},
     "output_type": "display_data"
    },
    {
     "data": {
      "text/html": [
       "<p style='text-align:center'> *** </p>"
      ],
      "text/plain": [
       "<IPython.core.display.HTML object>"
      ]
     },
     "metadata": {},
     "output_type": "display_data"
    },
    {
     "data": {
      "text/html": [
       "<h3> ''EVALUATION OF THE RATIONALE FOR CONCURRENT USE OF N95 FILTERING FACEPIECE RESPIRATORS WITH LOOSE-FITTING POWERED AIR-PURIFYING RESPIRATORS DURING AEROSOL-GENERATING MEDICAL PROCEDURES''</h2>"
      ],
      "text/plain": [
       "<IPython.core.display.HTML object>"
      ]
     },
     "metadata": {},
     "output_type": "display_data"
    },
    {
     "data": {
      "text/html": [
       "<p> Hospital engineering controls (eg, negative pressure rooms, room ventilation systems with high efficiency particulate filters, ultraviolet radiation, etc 8 ) and the use of medications to suppress coughing and salivation during airway procedures 4,10,35,38,39 further limit the airborne spread of respiratory pathogens and would additionally decrease the PAPR wearer's potential inhalational exposure</p>"
      ],
      "text/plain": [
       "<IPython.core.display.HTML object>"
      ]
     },
     "metadata": {},
     "output_type": "display_data"
    },
    {
     "data": {
      "text/html": [
       "<p style='text-align:center'> *** </p>"
      ],
      "text/plain": [
       "<IPython.core.display.HTML object>"
      ]
     },
     "metadata": {},
     "output_type": "display_data"
    },
    {
     "data": {
      "text/html": [
       "<h3> ''APPLICATIONS OF ULTRAVIOLET GERMICIDAL IRRADIATION DISINFECTION IN HEALTH CARE FACILITIES: EFFECTIVE ADJUNCT, BUT NOT STAND-ALONE TECHNOLOGY''</h2>"
      ],
      "text/plain": [
       "<IPython.core.display.HTML object>"
      ]
     },
     "metadata": {},
     "output_type": "display_data"
    },
    {
     "data": {
      "text/html": [
       "<p> Experimental research has indicated that mechanical ventilation of up to 6 ACH does not have a significant effect on the effectiveness of upper-room UVGI systems; studies are needed to examine whether mechanical ventilation </p>"
      ],
      "text/plain": [
       "<IPython.core.display.HTML object>"
      ]
     },
     "metadata": {},
     "output_type": "display_data"
    },
    {
     "data": {
      "text/html": [
       "<p style='text-align:center'> *** </p>"
      ],
      "text/plain": [
       "<IPython.core.display.HTML object>"
      ]
     },
     "metadata": {},
     "output_type": "display_data"
    },
    {
     "data": {
      "text/html": [
       "<h3> ''CONTINUING EDUCATION PROPER USE OF SURGICAL N95 RESPIRATORS AND SURGICAL MASKS IN THE OR PURPOSE/GOAL APPROVALS SPONSORSHIP OR COMMERCIAL SUPPORT PROPER USE OF SURGICAL N95 RESPIRATORS AND SURGICAL MASKS IN THE OR N95 RESPIRATORS AND SURGICAL MASKS''</h2>"
      ],
      "text/plain": [
       "<IPython.core.display.HTML object>"
      ]
     },
     "metadata": {},
     "output_type": "display_data"
    },
    {
     "data": {
      "text/html": [
       "<p> 47 High-filtration surgical laser masks are not designed to provide protection from the atmospheric contaminants present in surgical smoke, 43 and high-filtration surgical laser masks provide less protection to the wearer from particulate hazards than a fit-tested surgical N95 respirator</p>"
      ],
      "text/plain": [
       "<IPython.core.display.HTML object>"
      ]
     },
     "metadata": {},
     "output_type": "display_data"
    },
    {
     "data": {
      "text/html": [
       "<p style='text-align:center'> *** </p>"
      ],
      "text/plain": [
       "<IPython.core.display.HTML object>"
      ]
     },
     "metadata": {},
     "output_type": "display_data"
    },
    {
     "data": {
      "text/html": [
       "<h3> ''A CLUSTER RANDOMIZED CLINICAL TRIAL COMPARING FIT-TESTED AND NON-FIT-TESTED N95 RESPIRATORS TO MEDICAL MASKS TO PREVENT RESPIRATORY VIRUS INFECTION IN HEALTH CARE WORKERS''</h2>"
      ],
      "text/plain": [
       "<IPython.core.display.HTML object>"
      ]
     },
     "metadata": {},
     "output_type": "display_data"
    },
    {
     "data": {
      "text/html": [
       "<p> This assessment measured ventilation, spatial dimensions, bedding configuration, handwashing facilities and personal protective equipment use</p>"
      ],
      "text/plain": [
       "<IPython.core.display.HTML object>"
      ]
     },
     "metadata": {},
     "output_type": "display_data"
    },
    {
     "data": {
      "text/html": [
       "<p style='text-align:center'> *** </p>"
      ],
      "text/plain": [
       "<IPython.core.display.HTML object>"
      ]
     },
     "metadata": {},
     "output_type": "display_data"
    },
    {
     "data": {
      "text/html": [
       "<h3> ''RESISTANCE TO SYNTHETIC BLOOD PENETRATION OF NATIONAL INSTITUTE FOR OCCUPATIONAL SAFETY AND HEALTH-APPROVED N95 FILTERING FACEPIECE RESPIRATORS AND SURGICAL N95 RESPIRATORS''</h2>"
      ],
      "text/plain": [
       "<IPython.core.display.HTML object>"
      ]
     },
     "metadata": {},
     "output_type": "display_data"
    },
    {
     "data": {
      "text/html": [
       "<p> 8 For N95 FFRs, the primary tests are filtration efficiency and airflow resistance</p>"
      ],
      "text/plain": [
       "<IPython.core.display.HTML object>"
      ]
     },
     "metadata": {},
     "output_type": "display_data"
    },
    {
     "data": {
      "text/html": [
       "<p style='text-align:center'> *** </p>"
      ],
      "text/plain": [
       "<IPython.core.display.HTML object>"
      ]
     },
     "metadata": {},
     "output_type": "display_data"
    },
    {
     "data": {
      "text/html": [
       "<h3> ''APPLICATIONS OF ULTRAVIOLET GERMICIDAL IRRADIATION DISINFECTION IN HEALTH CARE FACILITIES: EFFECTIVE ADJUNCT, BUT NOT STAND-ALONE TECHNOLOGY''</h2>"
      ],
      "text/plain": [
       "<IPython.core.display.HTML object>"
      ]
     },
     "metadata": {},
     "output_type": "display_data"
    },
    {
     "data": {
      "text/html": [
       "<p> Thus, room airflow is governed primarily, but not solely, by mechanical ventilation</p>"
      ],
      "text/plain": [
       "<IPython.core.display.HTML object>"
      ]
     },
     "metadata": {},
     "output_type": "display_data"
    },
    {
     "data": {
      "text/html": [
       "<p style='text-align:center'> *** </p>"
      ],
      "text/plain": [
       "<IPython.core.display.HTML object>"
      ]
     },
     "metadata": {},
     "output_type": "display_data"
    },
    {
     "data": {
      "text/html": [
       "<h3> ''APPLICATIONS OF ULTRAVIOLET GERMICIDAL IRRADIATION DISINFECTION IN HEALTH CARE FACILITIES: EFFECTIVE ADJUNCT, BUT NOT STAND-ALONE TECHNOLOGY''</h2>"
      ],
      "text/plain": [
       "<IPython.core.display.HTML object>"
      ]
     },
     "metadata": {},
     "output_type": "display_data"
    },
    {
     "data": {
      "text/html": [
       "<p> High ventilation rates, in terms of high values of air changes/hour (ACH), control particles by removal through ventilation</p>"
      ],
      "text/plain": [
       "<IPython.core.display.HTML object>"
      ]
     },
     "metadata": {},
     "output_type": "display_data"
    },
    {
     "data": {
      "text/html": [
       "<p style='text-align:center'> *** </p>"
      ],
      "text/plain": [
       "<IPython.core.display.HTML object>"
      ]
     },
     "metadata": {},
     "output_type": "display_data"
    },
    {
     "data": {
      "text/html": [
       "<h1>6. Alternative models to aid decision makers in determining how to prioritize and distribute scarce, newly proven therapeutics as production ramps up. This could include identifying approaches for expanding production capacity to ensure equitable and timely distribution to populations in need.</h1>"
      ],
      "text/plain": [
       "<IPython.core.display.HTML object>"
      ]
     },
     "metadata": {},
     "output_type": "display_data"
    },
    {
     "data": {
      "text/html": [
       "<h3> ''PRECAUTIONS ARE NEEDED FOR COVID-19 PATIENTS WITH COINFECTION OF COMMON RESPIRATORY PATHOGENS''</h2>"
      ],
      "text/plain": [
       "<IPython.core.display.HTML object>"
      ]
     },
     "metadata": {},
     "output_type": "display_data"
    },
    {
     "data": {
      "text/html": [
       "<p>20027698 doi: medRxiv preprint the pathogenesis and outcome of severe acute respiratory illnesses like SARS and MERS</p>"
      ],
      "text/plain": [
       "<IPython.core.display.HTML object>"
      ]
     },
     "metadata": {},
     "output_type": "display_data"
    },
    {
     "data": {
      "text/html": [
       "<p style='text-align:center'> *** </p>"
      ],
      "text/plain": [
       "<IPython.core.display.HTML object>"
      ]
     },
     "metadata": {},
     "output_type": "display_data"
    },
    {
     "data": {
      "text/html": [
       "<h3> ''PERSONAL PROTECTION EQUIPMENT FOR BIOLOGICAL HAZARDS: DOES IT AFFECT TRACHEAL INTUBATION PERFORMANCE? ଝ''</h2>"
      ],
      "text/plain": [
       "<IPython.core.display.HTML object>"
      ]
     },
     "metadata": {},
     "output_type": "display_data"
    },
    {
     "data": {
      "text/html": [
       "<p>Pulmonary complications are a prominent feature of these diseases and patients frequently require intensive respiratory therapy and mechanical ventilation</p>"
      ],
      "text/plain": [
       "<IPython.core.display.HTML object>"
      ]
     },
     "metadata": {},
     "output_type": "display_data"
    },
    {
     "data": {
      "text/html": [
       "<p style='text-align:center'> *** </p>"
      ],
      "text/plain": [
       "<IPython.core.display.HTML object>"
      ]
     },
     "metadata": {},
     "output_type": "display_data"
    },
    {
     "data": {
      "text/html": [
       "<h3> ''AEROSOL GENERATING PROCEDURES AND RISK OF TRANSMISSION OF ACUTE RESPIRATORY INFECTIONS TO HEALTHCARE WORKERS: A SYSTEMATIC REVIEW''</h2>"
      ],
      "text/plain": [
       "<IPython.core.display.HTML object>"
      ]
     },
     "metadata": {},
     "output_type": "display_data"
    },
    {
     "data": {
      "text/html": [
       "<p> The study population involved HCWs caring for patients with acute respiratory infections</p>"
      ],
      "text/plain": [
       "<IPython.core.display.HTML object>"
      ]
     },
     "metadata": {},
     "output_type": "display_data"
    },
    {
     "data": {
      "text/html": [
       "<p style='text-align:center'> *** </p>"
      ],
      "text/plain": [
       "<IPython.core.display.HTML object>"
      ]
     },
     "metadata": {},
     "output_type": "display_data"
    },
    {
     "data": {
      "text/html": [
       "<h3> ''A CLUSTER RANDOMIZED CLINICAL TRIAL COMPARING FIT-TESTED AND NON-FIT-TESTED N95 RESPIRATORS TO MEDICAL MASKS TO PREVENT RESPIRATORY VIRUS INFECTION IN HEALTH CARE WORKERS''</h2>"
      ],
      "text/plain": [
       "<IPython.core.display.HTML object>"
      ]
     },
     "metadata": {},
     "output_type": "display_data"
    },
    {
     "data": {
      "text/html": [
       "<p> 4 During outbreaks of infectious diseases, hospitals may amplify virus transmission, as demonstrated during severe acute respiratory syndrome (SARS)</p>"
      ],
      "text/plain": [
       "<IPython.core.display.HTML object>"
      ]
     },
     "metadata": {},
     "output_type": "display_data"
    },
    {
     "data": {
      "text/html": [
       "<p style='text-align:center'> *** </p>"
      ],
      "text/plain": [
       "<IPython.core.display.HTML object>"
      ]
     },
     "metadata": {},
     "output_type": "display_data"
    },
    {
     "data": {
      "text/html": [
       "<h3> ''VETERINARY MICROBIOLOGY DETECTION OF RESPIRATORY VIRUSES IN SHELTER DOGS MAINTAINED UNDER VARYING ENVIRONMENTAL CONDITIONS''</h2>"
      ],
      "text/plain": [
       "<IPython.core.display.HTML object>"
      ]
     },
     "metadata": {},
     "output_type": "display_data"
    },
    {
     "data": {
      "text/html": [
       "<p> CDV replication occurs in epithelial cells and macrophages of the upper respiratory system, pharynx and tonsils, followed by lymph node infection and systemic dissemination that can evolve to multisystem disease and immunosuppression</p>"
      ],
      "text/plain": [
       "<IPython.core.display.HTML object>"
      ]
     },
     "metadata": {},
     "output_type": "display_data"
    },
    {
     "data": {
      "text/html": [
       "<p style='text-align:center'> *** </p>"
      ],
      "text/plain": [
       "<IPython.core.display.HTML object>"
      ]
     },
     "metadata": {},
     "output_type": "display_data"
    },
    {
     "data": {
      "text/html": [
       "<h3> ''SELF-CONTAMINATION DURING DOFFING OF PERSONAL PROTECTIVE EQUIPMENT BY HEALTHCARE WORKERS TO PREVENT EBOLA TRANSMISSION''</h2>"
      ],
      "text/plain": [
       "<IPython.core.display.HTML object>"
      ]
     },
     "metadata": {},
     "output_type": "display_data"
    },
    {
     "data": {
      "text/html": [
       "<p> Pregnant females and participants suffering from upper respiratory tract infection and respiratory diseases requiring treatment were excluded</p>"
      ],
      "text/plain": [
       "<IPython.core.display.HTML object>"
      ]
     },
     "metadata": {},
     "output_type": "display_data"
    },
    {
     "data": {
      "text/html": [
       "<p style='text-align:center'> *** </p>"
      ],
      "text/plain": [
       "<IPython.core.display.HTML object>"
      ]
     },
     "metadata": {},
     "output_type": "display_data"
    },
    {
     "data": {
      "text/html": [
       "<h3> ''VETERINARY MICROBIOLOGY DETECTION OF RESPIRATORY VIRUSES IN SHELTER DOGS MAINTAINED UNDER VARYING ENVIRONMENTAL CONDITIONS''</h2>"
      ],
      "text/plain": [
       "<IPython.core.display.HTML object>"
      ]
     },
     "metadata": {},
     "output_type": "display_data"
    },
    {
     "data": {
      "text/html": [
       "<p> Although CaHV-1 may cause respiratory disease, the infection has also been associated with other clinical outcomes, including reproductive disease</p>"
      ],
      "text/plain": [
       "<IPython.core.display.HTML object>"
      ]
     },
     "metadata": {},
     "output_type": "display_data"
    },
    {
     "data": {
      "text/html": [
       "<p style='text-align:center'> *** </p>"
      ],
      "text/plain": [
       "<IPython.core.display.HTML object>"
      ]
     },
     "metadata": {},
     "output_type": "display_data"
    },
    {
     "data": {
      "text/html": [
       "<h3> ''PERSONAL PROTECTION EQUIPMENT FOR BIOLOGICAL HAZARDS: DOES IT AFFECT TRACHEAL INTUBATION PERFORMANCE? ଝ''</h2>"
      ],
      "text/plain": [
       "<IPython.core.display.HTML object>"
      ]
     },
     "metadata": {},
     "output_type": "display_data"
    },
    {
     "data": {
      "text/html": [
       "<p> Failure was defined by the occurrence of oesophageal intubation</p>"
      ],
      "text/plain": [
       "<IPython.core.display.HTML object>"
      ]
     },
     "metadata": {},
     "output_type": "display_data"
    },
    {
     "data": {
      "text/html": [
       "<p style='text-align:center'> *** </p>"
      ],
      "text/plain": [
       "<IPython.core.display.HTML object>"
      ]
     },
     "metadata": {},
     "output_type": "display_data"
    },
    {
     "data": {
      "text/html": [
       "<h3> ''EVALUATION OF RESPIRATORY PROTECTION PROGRAMS AND PRACTICES IN CALIFORNIA HOSPITALS H1N1 INFLUENZA PANDEMIC''</h2>"
      ],
      "text/plain": [
       "<IPython.core.display.HTML object>"
      ]
     },
     "metadata": {},
     "output_type": "display_data"
    },
    {
     "data": {
      "text/html": [
       "<p> Investigations related to severe acute respiratory syndrome outbreaks have identified difficulties achieving compliance with PPE policies, especially for respiratory and facial protection</p>"
      ],
      "text/plain": [
       "<IPython.core.display.HTML object>"
      ]
     },
     "metadata": {},
     "output_type": "display_data"
    },
    {
     "data": {
      "text/html": [
       "<p style='text-align:center'> *** </p>"
      ],
      "text/plain": [
       "<IPython.core.display.HTML object>"
      ]
     },
     "metadata": {},
     "output_type": "display_data"
    },
    {
     "data": {
      "text/html": [
       "<h3> ''N95 FILTERING FACEPIECE RESPIRATORS DO NOT RELIABLY AFFORD RESPIRATORY PROTECTION DURING CHEST COMPRESSION: A SIMULATION STUDY''</h2>"
      ],
      "text/plain": [
       "<IPython.core.display.HTML object>"
      ]
     },
     "metadata": {},
     "output_type": "display_data"
    },
    {
     "data": {
      "text/html": [
       "<p> One retrospective cohort study has reported that one of nine HCWs who participated in cardiac compression developed severe acute respiratory syndrome (SARS) [25] </p>"
      ],
      "text/plain": [
       "<IPython.core.display.HTML object>"
      ]
     },
     "metadata": {},
     "output_type": "display_data"
    },
    {
     "data": {
      "text/html": [
       "<p style='text-align:center'> *** </p>"
      ],
      "text/plain": [
       "<IPython.core.display.HTML object>"
      ]
     },
     "metadata": {},
     "output_type": "display_data"
    },
    {
     "data": {
      "text/html": [
       "<h1>7. Efforts targeted at a universal coronavirus vaccine.</h1>"
      ],
      "text/plain": [
       "<IPython.core.display.HTML object>"
      ]
     },
     "metadata": {},
     "output_type": "display_data"
    },
    {
     "data": {
      "text/html": [
       "<h3> ''COMMENTARY CONSIDERATIONS FOR RECOMMENDING EXTENDED USE AND LIMITED REUSE OF FILTERING FACEPIECE RESPIRATORS IN HEALTH CARE SETTINGS''</h2>"
      ],
      "text/plain": [
       "<IPython.core.display.HTML object>"
      ]
     },
     "metadata": {},
     "output_type": "display_data"
    },
    {
     "data": {
      "text/html": [
       "<p> OSHA develops and enforces workplace regulations on respiratory protection</p>"
      ],
      "text/plain": [
       "<IPython.core.display.HTML object>"
      ]
     },
     "metadata": {},
     "output_type": "display_data"
    },
    {
     "data": {
      "text/html": [
       "<p style='text-align:center'> *** </p>"
      ],
      "text/plain": [
       "<IPython.core.display.HTML object>"
      ]
     },
     "metadata": {},
     "output_type": "display_data"
    },
    {
     "data": {
      "text/html": [
       "<h3> ''ASSESSING THE EFFICACY OF TABS ON FILTERING FACEPIECE RESPIRATOR STRAPS TO INCREASE PROPER DOFFING TECHNIQUES WHILE REDUCING CONTACT TRANSMISSION OF PATHOGENS HHS PUBLIC ACCESS''</h2>"
      ],
      "text/plain": [
       "<IPython.core.display.HTML object>"
      ]
     },
     "metadata": {},
     "output_type": "display_data"
    },
    {
     "data": {
      "text/html": [
       "<p> Despite its importance, proper PPE use and respiratory protection compliance in healthcare is lacking</p>"
      ],
      "text/plain": [
       "<IPython.core.display.HTML object>"
      ]
     },
     "metadata": {},
     "output_type": "display_data"
    },
    {
     "data": {
      "text/html": [
       "<p style='text-align:center'> *** </p>"
      ],
      "text/plain": [
       "<IPython.core.display.HTML object>"
      ]
     },
     "metadata": {},
     "output_type": "display_data"
    },
    {
     "data": {
      "text/html": [
       "<h3> ''USER ACCEPTANCE OF REUSABLE RESPIRATORS IN HEALTH CARE''</h2>"
      ],
      "text/plain": [
       "<IPython.core.display.HTML object>"
      ]
     },
     "metadata": {},
     "output_type": "display_data"
    },
    {
     "data": {
      "text/html": [
       "<p> Thus, the health care sector must plan to address these foreseeable shortages</p>"
      ],
      "text/plain": [
       "<IPython.core.display.HTML object>"
      ]
     },
     "metadata": {},
     "output_type": "display_data"
    },
    {
     "data": {
      "text/html": [
       "<p style='text-align:center'> *** </p>"
      ],
      "text/plain": [
       "<IPython.core.display.HTML object>"
      ]
     },
     "metadata": {},
     "output_type": "display_data"
    },
    {
     "data": {
      "text/html": [
       "<h3> ''EVALUATION OF RESPIRATORY PROTECTION PROGRAMS AND PRACTICES IN CALIFORNIA HOSPITALS H1N1 INFLUENZA PANDEMIC''</h2>"
      ],
      "text/plain": [
       "<IPython.core.display.HTML object>"
      ]
     },
     "metadata": {},
     "output_type": "display_data"
    },
    {
     "data": {
      "text/html": [
       "<p> 2 The US Occupational Safety and Health Administration (OSHA) issued guidance in 2007 for workplace preparedness, including control measures appropriate for a pandemic influenza virus</p>"
      ],
      "text/plain": [
       "<IPython.core.display.HTML object>"
      ]
     },
     "metadata": {},
     "output_type": "display_data"
    },
    {
     "data": {
      "text/html": [
       "<p style='text-align:center'> *** </p>"
      ],
      "text/plain": [
       "<IPython.core.display.HTML object>"
      ]
     },
     "metadata": {},
     "output_type": "display_data"
    },
    {
     "data": {
      "text/html": [
       "<h3> ''COMMENTARY CONSIDERATIONS FOR RECOMMENDING EXTENDED USE AND LIMITED REUSE OF FILTERING FACEPIECE RESPIRATORS IN HEALTH CARE SETTINGS''</h2>"
      ],
      "text/plain": [
       "<IPython.core.display.HTML object>"
      ]
     },
     "metadata": {},
     "output_type": "display_data"
    },
    {
     "data": {
      "text/html": [
       "<p> NIOSH certifies respirators and develops recommendations on the use of respiratory protection in health care workplaces to protect workers</p>"
      ],
      "text/plain": [
       "<IPython.core.display.HTML object>"
      ]
     },
     "metadata": {},
     "output_type": "display_data"
    },
    {
     "data": {
      "text/html": [
       "<p style='text-align:center'> *** </p>"
      ],
      "text/plain": [
       "<IPython.core.display.HTML object>"
      ]
     },
     "metadata": {},
     "output_type": "display_data"
    },
    {
     "data": {
      "text/html": [
       "<h3> ''THE INDIVIDUAL, ENVIRONMENTAL, AND ORGANIZATIONAL FACTORS THAT INFLUENCE NURSES' USE OF FACIAL PROTECTION TO PREVENT OCCUPATIONAL TRANSMISSION OF COMMUNICABLE RESPIRATORY ILLNESS IN ACUTE CARE HOSPITALS''</h2>"
      ],
      "text/plain": [
       "<IPython.core.display.HTML object>"
      ]
     },
     "metadata": {},
     "output_type": "display_data"
    },
    {
     "data": {
      "text/html": [
       "<p> Reinforcing factors are organizational factors such as communication, policies and procedures, and management commitment to health and safety</p>"
      ],
      "text/plain": [
       "<IPython.core.display.HTML object>"
      ]
     },
     "metadata": {},
     "output_type": "display_data"
    },
    {
     "data": {
      "text/html": [
       "<p style='text-align:center'> *** </p>"
      ],
      "text/plain": [
       "<IPython.core.display.HTML object>"
      ]
     },
     "metadata": {},
     "output_type": "display_data"
    },
    {
     "data": {
      "text/html": [
       "<h3> ''COMMENTARY CONSIDERATIONS FOR RECOMMENDING EXTENDED USE AND LIMITED REUSE OF FILTERING FACEPIECE RESPIRATORS IN HEALTH CARE SETTINGS''</h2>"
      ],
      "text/plain": [
       "<IPython.core.display.HTML object>"
      ]
     },
     "metadata": {},
     "output_type": "display_data"
    },
    {
     "data": {
      "text/html": [
       "<p> There is also a general lack of awareness among infection control professionals and safety/ employee health administrators in understanding FDA's role in regulating surgical N95 respirators</p>"
      ],
      "text/plain": [
       "<IPython.core.display.HTML object>"
      ]
     },
     "metadata": {},
     "output_type": "display_data"
    },
    {
     "data": {
      "text/html": [
       "<p style='text-align:center'> *** </p>"
      ],
      "text/plain": [
       "<IPython.core.display.HTML object>"
      ]
     },
     "metadata": {},
     "output_type": "display_data"
    },
    {
     "data": {
      "text/html": [
       "<h3> ''HEALTH CARE WORKERS' PERCEPTIONS OF RESPIRATORY AND GASTROINTESTINAL ALGORITHMS FOR PATIENT MANAGEMENT IN EMERGENCY CARE SETTINGS''</h2>"
      ],
      "text/plain": [
       "<IPython.core.display.HTML object>"
      ]
     },
     "metadata": {},
     "output_type": "display_data"
    },
    {
     "data": {
      "text/html": [
       "<p>The current study advances knowledge surrounding HCWs perceptions of organizational-specific guidelines for managing patients with suspected communicable respiratory and GI illnesses in emergency departments</p>"
      ],
      "text/plain": [
       "<IPython.core.display.HTML object>"
      ]
     },
     "metadata": {},
     "output_type": "display_data"
    },
    {
     "data": {
      "text/html": [
       "<p style='text-align:center'> *** </p>"
      ],
      "text/plain": [
       "<IPython.core.display.HTML object>"
      ]
     },
     "metadata": {},
     "output_type": "display_data"
    },
    {
     "data": {
      "text/html": [
       "<h3> ''INTERNET-BASED SURVEILLANCE SYSTEMS FOR MONITORING EMERGING INFECTIOUS DISEASES''</h2>"
      ],
      "text/plain": [
       "<IPython.core.display.HTML object>"
      ]
     },
     "metadata": {},
     "output_type": "display_data"
    },
    {
     "data": {
      "text/html": [
       "<p> A global response requires concerted international approaches to strengthen the capacity of emerging infectious diseases surveillance systems worldwide</p>"
      ],
      "text/plain": [
       "<IPython.core.display.HTML object>"
      ]
     },
     "metadata": {},
     "output_type": "display_data"
    },
    {
     "data": {
      "text/html": [
       "<p style='text-align:center'> *** </p>"
      ],
      "text/plain": [
       "<IPython.core.display.HTML object>"
      ]
     },
     "metadata": {},
     "output_type": "display_data"
    },
    {
     "data": {
      "text/html": [
       "<h3> ''COMMENTARY CONSIDERATIONS FOR RECOMMENDING EXTENDED USE AND LIMITED REUSE OF FILTERING FACEPIECE RESPIRATORS IN HEALTH CARE SETTINGS''</h2>"
      ],
      "text/plain": [
       "<IPython.core.display.HTML object>"
      ]
     },
     "metadata": {},
     "output_type": "display_data"
    },
    {
     "data": {
      "text/html": [
       "<p>While OSHA is responsible for regulating employers to provide a safe workplace for their employees and CDC makes public health recommendations that are often adopted by hospitals, FDA has a different role in health care settings</p>"
      ],
      "text/plain": [
       "<IPython.core.display.HTML object>"
      ]
     },
     "metadata": {},
     "output_type": "display_data"
    },
    {
     "data": {
      "text/html": [
       "<p style='text-align:center'> *** </p>"
      ],
      "text/plain": [
       "<IPython.core.display.HTML object>"
      ]
     },
     "metadata": {},
     "output_type": "display_data"
    },
    {
     "data": {
      "text/html": [
       "<h1>8. Efforts to develop animal models and standardize challenge studies</h1>"
      ],
      "text/plain": [
       "<IPython.core.display.HTML object>"
      ]
     },
     "metadata": {},
     "output_type": "display_data"
    },
    {
     "data": {
      "text/html": [
       "<h3> ''USER ACCEPTANCE OF REUSABLE RESPIRATORS IN HEALTH CARE''</h2>"
      ],
      "text/plain": [
       "<IPython.core.display.HTML object>"
      ]
     },
     "metadata": {},
     "output_type": "display_data"
    },
    {
     "data": {
      "text/html": [
       "<p> EHFR, elastomeric half-face respirator; N95-FFR, N95 filtering facepiece respirator; PAPR, powered air-purifying respirator</p>"
      ],
      "text/plain": [
       "<IPython.core.display.HTML object>"
      ]
     },
     "metadata": {},
     "output_type": "display_data"
    },
    {
     "data": {
      "text/html": [
       "<p style='text-align:center'> *** </p>"
      ],
      "text/plain": [
       "<IPython.core.display.HTML object>"
      ]
     },
     "metadata": {},
     "output_type": "display_data"
    },
    {
     "data": {
      "text/html": [
       "<h3> ''RESISTANCE TO SYNTHETIC BLOOD PENETRATION OF NATIONAL INSTITUTE FOR OCCUPATIONAL SAFETY AND HEALTH-APPROVED N95 FILTERING FACEPIECE RESPIRATORS AND SURGICAL N95 RESPIRATORS''</h2>"
      ],
      "text/plain": [
       "<IPython.core.display.HTML object>"
      ]
     },
     "metadata": {},
     "output_type": "display_data"
    },
    {
     "data": {
      "text/html": [
       "<p> FDA clears only a small percentage of NIOSHapproved N95 FFRs as surgical N95 respirators</p>"
      ],
      "text/plain": [
       "<IPython.core.display.HTML object>"
      ]
     },
     "metadata": {},
     "output_type": "display_data"
    },
    {
     "data": {
      "text/html": [
       "<p style='text-align:center'> *** </p>"
      ],
      "text/plain": [
       "<IPython.core.display.HTML object>"
      ]
     },
     "metadata": {},
     "output_type": "display_data"
    },
    {
     "data": {
      "text/html": [
       "<h3> ''STOCKPILE OF PERSONAL PROTECTIVE EQUIPMENT IN HOSPITAL SETTINGS: PREPAREDNESS FOR INFLUENZA PANDEMICS''</h2>"
      ],
      "text/plain": [
       "<IPython.core.display.HTML object>"
      ]
     },
     "metadata": {},
     "output_type": "display_data"
    },
    {
     "data": {
      "text/html": [
       "<p> According to this system, the total number of PPE is 10,528 N95 respirators (with exhalation valve), 8848 N95 respirators, 122,192 surgical masks, 21,280 goggles and gowns, 34,832 aprons, and 172,480 pairs of gloves</p>"
      ],
      "text/plain": [
       "<IPython.core.display.HTML object>"
      ]
     },
     "metadata": {},
     "output_type": "display_data"
    },
    {
     "data": {
      "text/html": [
       "<p style='text-align:center'> *** </p>"
      ],
      "text/plain": [
       "<IPython.core.display.HTML object>"
      ]
     },
     "metadata": {},
     "output_type": "display_data"
    },
    {
     "data": {
      "text/html": [
       "<h3> ''COMMENTARY CONSIDERATIONS FOR RECOMMENDING EXTENDED USE AND LIMITED REUSE OF FILTERING FACEPIECE RESPIRATORS IN HEALTH CARE SETTINGS''</h2>"
      ],
      "text/plain": [
       "<IPython.core.display.HTML object>"
      ]
     },
     "metadata": {},
     "output_type": "display_data"
    },
    {
     "data": {
      "text/html": [
       "<p>The most commonly used type of respirator in health care settings are NIOSH certified N95 filtering facepiece respirators (FFRs)</p>"
      ],
      "text/plain": [
       "<IPython.core.display.HTML object>"
      ]
     },
     "metadata": {},
     "output_type": "display_data"
    },
    {
     "data": {
      "text/html": [
       "<p style='text-align:center'> *** </p>"
      ],
      "text/plain": [
       "<IPython.core.display.HTML object>"
      ]
     },
     "metadata": {},
     "output_type": "display_data"
    },
    {
     "data": {
      "text/html": [
       "<h3> ''THE RESPIRATORY PROTECTION EFFECTIVENESS CLINICAL TRIAL (RESPECT): A CLUSTER- RANDOMIZED COMPARISON OF RESPIRATOR AND MEDICAL MASK EFFECTIVENESS AGAINST RESPIRATORY INFECTIONS IN HEALTHCARE PERSONNEL''</h2>"
      ],
      "text/plain": [
       "<IPython.core.display.HTML object>"
      ]
     },
     "metadata": {},
     "output_type": "display_data"
    },
    {
     "data": {
      "text/html": [
       "<p> Filter results between N95 respirator models and between medical mask models were comparable</p>"
      ],
      "text/plain": [
       "<IPython.core.display.HTML object>"
      ]
     },
     "metadata": {},
     "output_type": "display_data"
    },
    {
     "data": {
      "text/html": [
       "<p style='text-align:center'> *** </p>"
      ],
      "text/plain": [
       "<IPython.core.display.HTML object>"
      ]
     },
     "metadata": {},
     "output_type": "display_data"
    },
    {
     "data": {
      "text/html": [
       "<h3> ''THE EFFICACY OF MEDICAL MASKS AND RESPIRATORS AGAINST RESPIRATORY INFECTION IN HEALTHCARE WORKERS''</h2>"
      ],
      "text/plain": [
       "<IPython.core.display.HTML object>"
      ]
     },
     "metadata": {},
     "output_type": "display_data"
    },
    {
     "data": {
      "text/html": [
       "<p> Respirators are designed to provide respiratory protection through filtration and fit, and properly fitted respirators provide better protection compared to medical masks</p>"
      ],
      "text/plain": [
       "<IPython.core.display.HTML object>"
      ]
     },
     "metadata": {},
     "output_type": "display_data"
    },
    {
     "data": {
      "text/html": [
       "<p style='text-align:center'> *** </p>"
      ],
      "text/plain": [
       "<IPython.core.display.HTML object>"
      ]
     },
     "metadata": {},
     "output_type": "display_data"
    },
    {
     "data": {
      "text/html": [
       "<h3> ''CONTINUING EDUCATION PROPER USE OF SURGICAL N95 RESPIRATORS AND SURGICAL MASKS IN THE OR PURPOSE/GOAL APPROVALS SPONSORSHIP OR COMMERCIAL SUPPORT PROPER USE OF SURGICAL N95 RESPIRATORS AND SURGICAL MASKS IN THE OR N95 RESPIRATORS AND SURGICAL MASKS''</h2>"
      ],
      "text/plain": [
       "<IPython.core.display.HTML object>"
      ]
     },
     "metadata": {},
     "output_type": "display_data"
    },
    {
     "data": {
      "text/html": [
       "<p> In certain clinical situations, however, potential exposure to airborne contaminants and infectious agents also necessitates the use of respiratory PPE, such as an N95 particulate filtering facepiece respirator (ie, surgical N95 respirator)</p>"
      ],
      "text/plain": [
       "<IPython.core.display.HTML object>"
      ]
     },
     "metadata": {},
     "output_type": "display_data"
    },
    {
     "data": {
      "text/html": [
       "<p style='text-align:center'> *** </p>"
      ],
      "text/plain": [
       "<IPython.core.display.HTML object>"
      ]
     },
     "metadata": {},
     "output_type": "display_data"
    },
    {
     "data": {
      "text/html": [
       "<h3> ''N95 FILTERING FACEPIECE RESPIRATORS DO NOT RELIABLY AFFORD RESPIRATORY PROTECTION DURING CHEST COMPRESSION: A SIMULATION STUDY''</h2>"
      ],
      "text/plain": [
       "<IPython.core.display.HTML object>"
      ]
     },
     "metadata": {},
     "output_type": "display_data"
    },
    {
     "data": {
      "text/html": [
       "<p> In addition, HCWs engaging in chest compression of patients with airborne diseases could wear powered air-purifying respirators with hoods (PAPRs) rather than N95 respirators</p>"
      ],
      "text/plain": [
       "<IPython.core.display.HTML object>"
      ]
     },
     "metadata": {},
     "output_type": "display_data"
    },
    {
     "data": {
      "text/html": [
       "<p style='text-align:center'> *** </p>"
      ],
      "text/plain": [
       "<IPython.core.display.HTML object>"
      ]
     },
     "metadata": {},
     "output_type": "display_data"
    },
    {
     "data": {
      "text/html": [
       "<h3> ''SELF-CONTAMINATION DURING DOFFING OF PERSONAL PROTECTIVE EQUIPMENT BY HEALTHCARE WORKERS TO PREVENT EBOLA TRANSMISSION''</h2>"
      ],
      "text/plain": [
       "<IPython.core.display.HTML object>"
      ]
     },
     "metadata": {},
     "output_type": "display_data"
    },
    {
     "data": {
      "text/html": [
       "<p> The whole outfit includes double gloves, boots, disposable face shield and an N95 respirator</p>"
      ],
      "text/plain": [
       "<IPython.core.display.HTML object>"
      ]
     },
     "metadata": {},
     "output_type": "display_data"
    },
    {
     "data": {
      "text/html": [
       "<p style='text-align:center'> *** </p>"
      ],
      "text/plain": [
       "<IPython.core.display.HTML object>"
      ]
     },
     "metadata": {},
     "output_type": "display_data"
    },
    {
     "data": {
      "text/html": [
       "<h3> ''EVALUATION OF THE SURVIVABILITY OF MS2 VIRAL AEROSOLS DEPOSITED ON FILTERING FACE PIECE RESPIRATOR SAMPLES INCORPORATING ANTIMICROBIAL TECHNOLOGIES''</h2>"
      ],
      "text/plain": [
       "<IPython.core.display.HTML object>"
      ]
     },
     "metadata": {},
     "output_type": "display_data"
    },
    {
     "data": {
      "text/html": [
       "<p> One of them was a NIOSH-approved P95 particulate respirator</p>"
      ],
      "text/plain": [
       "<IPython.core.display.HTML object>"
      ]
     },
     "metadata": {},
     "output_type": "display_data"
    },
    {
     "data": {
      "text/html": [
       "<p style='text-align:center'> *** </p>"
      ],
      "text/plain": [
       "<IPython.core.display.HTML object>"
      ]
     },
     "metadata": {},
     "output_type": "display_data"
    },
    {
     "data": {
      "text/html": [
       "<h1>9. Efforts to develop prophylaxis clinical studies and prioritize in healthcare workers</h1>"
      ],
      "text/plain": [
       "<IPython.core.display.HTML object>"
      ]
     },
     "metadata": {},
     "output_type": "display_data"
    },
    {
     "data": {
      "text/html": [
       "<h3> ''OCCUPATIONAL EXPOSURE TO INFECTION RISK AND USE OF PERSONAL PROTECTIVE EQUIPMENT BY EMERGENCY MEDICAL PERSONNEL IN THE REPUBLIC OF KOREA''</h2>"
      ],
      "text/plain": [
       "<IPython.core.display.HTML object>"
      ]
     },
     "metadata": {},
     "output_type": "display_data"
    },
    {
     "data": {
      "text/html": [
       "<p> Furthermore, national occupational exposure prevention programs should be developed to address regional disparities</p>"
      ],
      "text/plain": [
       "<IPython.core.display.HTML object>"
      ]
     },
     "metadata": {},
     "output_type": "display_data"
    },
    {
     "data": {
      "text/html": [
       "<p style='text-align:center'> *** </p>"
      ],
      "text/plain": [
       "<IPython.core.display.HTML object>"
      ]
     },
     "metadata": {},
     "output_type": "display_data"
    },
    {
     "data": {
      "text/html": [
       "<h3> ''CLINICAL INFECTIOUS DISEASES HEALTHCARE WORKERS' STRATEGIES FOR DOFFING PERSONAL PROTECTIVE EQUIPMENT''</h2>"
      ],
      "text/plain": [
       "<IPython.core.display.HTML object>"
      ]
     },
     "metadata": {},
     "output_type": "display_data"
    },
    {
     "data": {
      "text/html": [
       "<p> We identified 3 overarching interview themes: doffing strategies, cognitive processes, and barriers and facilitators</p>"
      ],
      "text/plain": [
       "<IPython.core.display.HTML object>"
      ]
     },
     "metadata": {},
     "output_type": "display_data"
    },
    {
     "data": {
      "text/html": [
       "<p style='text-align:center'> *** </p>"
      ],
      "text/plain": [
       "<IPython.core.display.HTML object>"
      ]
     },
     "metadata": {},
     "output_type": "display_data"
    },
    {
     "data": {
      "text/html": [
       "<h3> ''THE INDIVIDUAL, ENVIRONMENTAL, AND ORGANIZATIONAL FACTORS THAT INFLUENCE NURSES' USE OF FACIAL PROTECTION TO PREVENT OCCUPATIONAL TRANSMISSION OF COMMUNICABLE RESPIRATORY ILLNESS IN ACUTE CARE HOSPITALS''</h2>"
      ],
      "text/plain": [
       "<IPython.core.display.HTML object>"
      ]
     },
     "metadata": {},
     "output_type": "display_data"
    },
    {
     "data": {
      "text/html": [
       "<p> Reinforcing factors are organizational factors such as communication, policies and procedures, and management commitment to health and safety</p>"
      ],
      "text/plain": [
       "<IPython.core.display.HTML object>"
      ]
     },
     "metadata": {},
     "output_type": "display_data"
    },
    {
     "data": {
      "text/html": [
       "<p style='text-align:center'> *** </p>"
      ],
      "text/plain": [
       "<IPython.core.display.HTML object>"
      ]
     },
     "metadata": {},
     "output_type": "display_data"
    },
    {
     "data": {
      "text/html": [
       "<h3> ''HEALTH CARE WORKERS' PERCEPTIONS OF RESPIRATORY AND GASTROINTESTINAL ALGORITHMS FOR PATIENT MANAGEMENT IN EMERGENCY CARE SETTINGS''</h2>"
      ],
      "text/plain": [
       "<IPython.core.display.HTML object>"
      ]
     },
     "metadata": {},
     "output_type": "display_data"
    },
    {
     "data": {
      "text/html": [
       "<p>The current study advances knowledge surrounding HCWs perceptions of organizational-specific guidelines for managing patients with suspected communicable respiratory and GI illnesses in emergency departments</p>"
      ],
      "text/plain": [
       "<IPython.core.display.HTML object>"
      ]
     },
     "metadata": {},
     "output_type": "display_data"
    },
    {
     "data": {
      "text/html": [
       "<p style='text-align:center'> *** </p>"
      ],
      "text/plain": [
       "<IPython.core.display.HTML object>"
      ]
     },
     "metadata": {},
     "output_type": "display_data"
    },
    {
     "data": {
      "text/html": [
       "<h3> ''CLINICAL INFECTIOUS DISEASES HEALTHCARE WORKERS' STRATEGIES FOR DOFFING PERSONAL PROTECTIVE EQUIPMENT''</h2>"
      ],
      "text/plain": [
       "<IPython.core.display.HTML object>"
      ]
     },
     "metadata": {},
     "output_type": "display_data"
    },
    {
     "data": {
      "text/html": [
       "<p>Doffing barriers and facilitators typically pertained to PPE design</p>"
      ],
      "text/plain": [
       "<IPython.core.display.HTML object>"
      ]
     },
     "metadata": {},
     "output_type": "display_data"
    },
    {
     "data": {
      "text/html": [
       "<p style='text-align:center'> *** </p>"
      ],
      "text/plain": [
       "<IPython.core.display.HTML object>"
      ]
     },
     "metadata": {},
     "output_type": "display_data"
    },
    {
     "data": {
      "text/html": [
       "<h3> ''HEALTH CARE WORKERS' PERCEPTIONS OF RESPIRATORY AND GASTROINTESTINAL ALGORITHMS FOR PATIENT MANAGEMENT IN EMERGENCY CARE SETTINGS''</h2>"
      ],
      "text/plain": [
       "<IPython.core.display.HTML object>"
      ]
     },
     "metadata": {},
     "output_type": "display_data"
    },
    {
     "data": {
      "text/html": [
       "<p>'' Physicians act as role models to other professionals in the delivery of patient care, and their compliance with institutional policy is critical in ensuring success of implementation</p>"
      ],
      "text/plain": [
       "<IPython.core.display.HTML object>"
      ]
     },
     "metadata": {},
     "output_type": "display_data"
    },
    {
     "data": {
      "text/html": [
       "<p style='text-align:center'> *** </p>"
      ],
      "text/plain": [
       "<IPython.core.display.HTML object>"
      ]
     },
     "metadata": {},
     "output_type": "display_data"
    },
    {
     "data": {
      "text/html": [
       "<h3> ''CLINICAL INFECTIOUS DISEASES HEALTHCARE WORKERS' STRATEGIES FOR DOFFING PERSONAL PROTECTIVE EQUIPMENT''</h2>"
      ],
      "text/plain": [
       "<IPython.core.display.HTML object>"
      ]
     },
     "metadata": {},
     "output_type": "display_data"
    },
    {
     "data": {
      "text/html": [
       "<p> These findings have implications for designing the next generation of PPE and new doffing methods, developing and implementing PPE training protocols, and revising policies and procedures in hospitals and other healthcare organizations</p>"
      ],
      "text/plain": [
       "<IPython.core.display.HTML object>"
      ]
     },
     "metadata": {},
     "output_type": "display_data"
    },
    {
     "data": {
      "text/html": [
       "<p style='text-align:center'> *** </p>"
      ],
      "text/plain": [
       "<IPython.core.display.HTML object>"
      ]
     },
     "metadata": {},
     "output_type": "display_data"
    },
    {
     "data": {
      "text/html": [
       "<h3> ''PUBLIC UNDERSTANDING OF MEDICAL COUNTERMEASURES''</h2>"
      ],
      "text/plain": [
       "<IPython.core.display.HTML object>"
      ]
     },
     "metadata": {},
     "output_type": "display_data"
    },
    {
     "data": {
      "text/html": [
       "<p> 18 Other key elements for effective crisis and emergency risk communication include enhancing trust through education efforts with community-based organizations and including targeted risk communication materials that are culturally relevant and appropriate, while paying specific attention to literacy levels</p>"
      ],
      "text/plain": [
       "<IPython.core.display.HTML object>"
      ]
     },
     "metadata": {},
     "output_type": "display_data"
    },
    {
     "data": {
      "text/html": [
       "<p style='text-align:center'> *** </p>"
      ],
      "text/plain": [
       "<IPython.core.display.HTML object>"
      ]
     },
     "metadata": {},
     "output_type": "display_data"
    },
    {
     "data": {
      "text/html": [
       "<h3> ''PROTECTING HEALTH CARE WORKERS FROM SARS AND OTHER RESPIRATORY PATHOGENS: ORGANIZATIONAL AND INDIVIDUAL FACTORS THAT AFFECT ADHERENCE TO INFECTION CONTROL GUIDELINES''</h2>"
      ],
      "text/plain": [
       "<IPython.core.display.HTML object>"
      ]
     },
     "metadata": {},
     "output_type": "display_data"
    },
    {
     "data": {
      "text/html": [
       "<p>Certainly, organizational issues impact individual attitudes considerably</p>"
      ],
      "text/plain": [
       "<IPython.core.display.HTML object>"
      ]
     },
     "metadata": {},
     "output_type": "display_data"
    },
    {
     "data": {
      "text/html": [
       "<p style='text-align:center'> *** </p>"
      ],
      "text/plain": [
       "<IPython.core.display.HTML object>"
      ]
     },
     "metadata": {},
     "output_type": "display_data"
    },
    {
     "data": {
      "text/html": [
       "<h3> ''PUBLIC UNDERSTANDING OF MEDICAL COUNTERMEASURES''</h2>"
      ],
      "text/plain": [
       "<IPython.core.display.HTML object>"
      ]
     },
     "metadata": {},
     "output_type": "display_data"
    },
    {
     "data": {
      "text/html": [
       "<p> 17 Although strong emotions can create substantial barriers to effective communication during a crisis, several studies find that increased perceived risk correlates with greater public adherence to public health recommendations</p>"
      ],
      "text/plain": [
       "<IPython.core.display.HTML object>"
      ]
     },
     "metadata": {},
     "output_type": "display_data"
    },
    {
     "data": {
      "text/html": [
       "<p style='text-align:center'> *** </p>"
      ],
      "text/plain": [
       "<IPython.core.display.HTML object>"
      ]
     },
     "metadata": {},
     "output_type": "display_data"
    },
    {
     "data": {
      "text/html": [
       "<h1>10. Approaches to evaluate risk for enhanced disease after vaccination</h1>"
      ],
      "text/plain": [
       "<IPython.core.display.HTML object>"
      ]
     },
     "metadata": {},
     "output_type": "display_data"
    },
    {
     "data": {
      "text/html": [
       "<h3> ''LOW USAGE OF GOVERNMENT HEALTHCARE FACILITIES FOR ACUTE RESPIRATORY INFECTIONS IN GUATEMALA: IMPLICATIONS FOR INFLUENZA SURVEILLANCE''</h2>"
      ],
      "text/plain": [
       "<IPython.core.display.HTML object>"
      ]
     },
     "metadata": {},
     "output_type": "display_data"
    },
    {
     "data": {
      "text/html": [
       "<p>We conducted a HUS to help inform establishment of a sentinel surveillance system for pneumonia and influenza-like illness in Santa Rosa, Guatemala, and found that private clinics are the single most important source of healthcare for pneumonia both in children <5 years old and older persons</p>"
      ],
      "text/plain": [
       "<IPython.core.display.HTML object>"
      ]
     },
     "metadata": {},
     "output_type": "display_data"
    },
    {
     "data": {
      "text/html": [
       "<p style='text-align:center'> *** </p>"
      ],
      "text/plain": [
       "<IPython.core.display.HTML object>"
      ]
     },
     "metadata": {},
     "output_type": "display_data"
    },
    {
     "data": {
      "text/html": [
       "<h3> ''EVALUATION OF RESPIRATORY PROTECTION PROGRAMS AND PRACTICES IN CALIFORNIA HOSPITALS H1N1 INFLUENZA PANDEMIC''</h2>"
      ],
      "text/plain": [
       "<IPython.core.display.HTML object>"
      ]
     },
     "metadata": {},
     "output_type": "display_data"
    },
    {
     "data": {
      "text/html": [
       "<p>Despite the years of experience accumulated by health care workplaces in which respirators have been used to protect health care workers from tuberculosis and other ATDs, relatively little information exists to describe comprehensively acute care hospital implementation of RPPs</p>"
      ],
      "text/plain": [
       "<IPython.core.display.HTML object>"
      ]
     },
     "metadata": {},
     "output_type": "display_data"
    },
    {
     "data": {
      "text/html": [
       "<p style='text-align:center'> *** </p>"
      ],
      "text/plain": [
       "<IPython.core.display.HTML object>"
      ]
     },
     "metadata": {},
     "output_type": "display_data"
    },
    {
     "data": {
      "text/html": [
       "<h3> ''THE INDIVIDUAL, ENVIRONMENTAL, AND ORGANIZATIONAL FACTORS THAT INFLUENCE NURSES' USE OF FACIAL PROTECTION TO PREVENT OCCUPATIONAL TRANSMISSION OF COMMUNICABLE RESPIRATORY ILLNESS IN ACUTE CARE HOSPITALS''</h2>"
      ],
      "text/plain": [
       "<IPython.core.display.HTML object>"
      ]
     },
     "metadata": {},
     "output_type": "display_data"
    },
    {
     "data": {
      "text/html": [
       "<p> 19 The Canadian Nurses Association profile indicates that the average age of this population was Health care workers' compliance with safe work behaviors to prevent the spread of infectious disease is historically poor</p>"
      ],
      "text/plain": [
       "<IPython.core.display.HTML object>"
      ]
     },
     "metadata": {},
     "output_type": "display_data"
    },
    {
     "data": {
      "text/html": [
       "<p style='text-align:center'> *** </p>"
      ],
      "text/plain": [
       "<IPython.core.display.HTML object>"
      ]
     },
     "metadata": {},
     "output_type": "display_data"
    },
    {
     "data": {
      "text/html": [
       "<h3> ''CONTINUING EDUCATION PROPER USE OF SURGICAL N95 RESPIRATORS AND SURGICAL MASKS IN THE OR PURPOSE/GOAL APPROVALS SPONSORSHIP OR COMMERCIAL SUPPORT PROPER USE OF SURGICAL N95 RESPIRATORS AND SURGICAL MASKS IN THE OR N95 RESPIRATORS AND SURGICAL MASKS''</h2>"
      ],
      "text/plain": [
       "<IPython.core.display.HTML object>"
      ]
     },
     "metadata": {},
     "output_type": "display_data"
    },
    {
     "data": {
      "text/html": [
       "<p> 29, 30 A systematic review of studies revealed that health care workers who performed endotracheal intubation on patients diagnosed with SARS were 13 times more likely to contract the illness than were health care workers who cared for patients with SARS but did not assist in the intubation</p>"
      ],
      "text/plain": [
       "<IPython.core.display.HTML object>"
      ]
     },
     "metadata": {},
     "output_type": "display_data"
    },
    {
     "data": {
      "text/html": [
       "<p style='text-align:center'> *** </p>"
      ],
      "text/plain": [
       "<IPython.core.display.HTML object>"
      ]
     },
     "metadata": {},
     "output_type": "display_data"
    },
    {
     "data": {
      "text/html": [
       "<h3> ''CONTINUING EDUCATION PROPER USE OF SURGICAL N95 RESPIRATORS AND SURGICAL MASKS IN THE OR PURPOSE/GOAL APPROVALS SPONSORSHIP OR COMMERCIAL SUPPORT PROPER USE OF SURGICAL N95 RESPIRATORS AND SURGICAL MASKS IN THE OR N95 RESPIRATORS AND SURGICAL MASKS''</h2>"
      ],
      "text/plain": [
       "<IPython.core.display.HTML object>"
      ]
     },
     "metadata": {},
     "output_type": "display_data"
    },
    {
     "data": {
      "text/html": [
       "<p> Health care workers should personally consider the patient's diagnosis, how closely they will be working with the patient, and the treatments being performed</p>"
      ],
      "text/plain": [
       "<IPython.core.display.HTML object>"
      ]
     },
     "metadata": {},
     "output_type": "display_data"
    },
    {
     "data": {
      "text/html": [
       "<p style='text-align:center'> *** </p>"
      ],
      "text/plain": [
       "<IPython.core.display.HTML object>"
      ]
     },
     "metadata": {},
     "output_type": "display_data"
    },
    {
     "data": {
      "text/html": [
       "<h3> ''STOCKPILE OF PERSONAL PROTECTIVE EQUIPMENT IN HOSPITAL SETTINGS: PREPAREDNESS FOR INFLUENZA PANDEMICS''</h2>"
      ],
      "text/plain": [
       "<IPython.core.display.HTML object>"
      ]
     },
     "metadata": {},
     "output_type": "display_data"
    },
    {
     "data": {
      "text/html": [
       "<p>During the SARS period, another key factor occurred: many health care workers (HCWs) who cared for SARS patients in hospital settings became infected</p>"
      ],
      "text/plain": [
       "<IPython.core.display.HTML object>"
      ]
     },
     "metadata": {},
     "output_type": "display_data"
    },
    {
     "data": {
      "text/html": [
       "<p style='text-align:center'> *** </p>"
      ],
      "text/plain": [
       "<IPython.core.display.HTML object>"
      ]
     },
     "metadata": {},
     "output_type": "display_data"
    },
    {
     "data": {
      "text/html": [
       "<h3> ''HEALTH CARE WORKERS' PERCEPTIONS OF RESPIRATORY AND GASTROINTESTINAL ALGORITHMS FOR PATIENT MANAGEMENT IN EMERGENCY CARE SETTINGS''</h2>"
      ],
      "text/plain": [
       "<IPython.core.display.HTML object>"
      ]
     },
     "metadata": {},
     "output_type": "display_data"
    },
    {
     "data": {
      "text/html": [
       "<p>Health care workers' perceptions of respiratory and gastrointestinal algorithms for patient management in emergency care settings Patients presenting with respiratory or gastrointestinal illness in emergency care settings are often not yet diagnosed but are potentially capable of transmitting disease</p>"
      ],
      "text/plain": [
       "<IPython.core.display.HTML object>"
      ]
     },
     "metadata": {},
     "output_type": "display_data"
    },
    {
     "data": {
      "text/html": [
       "<p style='text-align:center'> *** </p>"
      ],
      "text/plain": [
       "<IPython.core.display.HTML object>"
      ]
     },
     "metadata": {},
     "output_type": "display_data"
    },
    {
     "data": {
      "text/html": [
       "<h3> ''THE INDIVIDUAL, ENVIRONMENTAL, AND ORGANIZATIONAL FACTORS THAT INFLUENCE NURSES' USE OF FACIAL PROTECTION TO PREVENT OCCUPATIONAL TRANSMISSION OF COMMUNICABLE RESPIRATORY ILLNESS IN ACUTE CARE HOSPITALS''</h2>"
      ],
      "text/plain": [
       "<IPython.core.display.HTML object>"
      ]
     },
     "metadata": {},
     "output_type": "display_data"
    },
    {
     "data": {
      "text/html": [
       "<p> Although this relationship may have some inherent contributory bias, it is important to note that nurses who report daily, weekly, or monthly use of facial protection should be the ones to care for patients with communicable respiratory disease or supervise those who are providing the care</p>"
      ],
      "text/plain": [
       "<IPython.core.display.HTML object>"
      ]
     },
     "metadata": {},
     "output_type": "display_data"
    },
    {
     "data": {
      "text/html": [
       "<p style='text-align:center'> *** </p>"
      ],
      "text/plain": [
       "<IPython.core.display.HTML object>"
      ]
     },
     "metadata": {},
     "output_type": "display_data"
    },
    {
     "data": {
      "text/html": [
       "<h3> ''INTERNET-BASED SURVEILLANCE SYSTEMS FOR MONITORING EMERGING INFECTIOUS DISEASES''</h2>"
      ],
      "text/plain": [
       "<IPython.core.display.HTML object>"
      ]
     },
     "metadata": {},
     "output_type": "display_data"
    },
    {
     "data": {
      "text/html": [
       "<p> Attrition during disease pathogenesis or healthseeking pathways is both high and cumulative-results of a study done in rural Cambodia showed that 67% of cases of haemorrhagic fever were treated at home, rather than in a health facility; thus, a health-care-based surveillance system would miss 67% of information before it even becomes accessible</p>"
      ],
      "text/plain": [
       "<IPython.core.display.HTML object>"
      ]
     },
     "metadata": {},
     "output_type": "display_data"
    },
    {
     "data": {
      "text/html": [
       "<p style='text-align:center'> *** </p>"
      ],
      "text/plain": [
       "<IPython.core.display.HTML object>"
      ]
     },
     "metadata": {},
     "output_type": "display_data"
    },
    {
     "data": {
      "text/html": [
       "<h3> ''EVALUATION OF THE RATIONALE FOR CONCURRENT USE OF N95 FILTERING FACEPIECE RESPIRATORS WITH LOOSE-FITTING POWERED AIR-PURIFYING RESPIRATORS DURING AEROSOL-GENERATING MEDICAL PROCEDURES''</h2>"
      ],
      "text/plain": [
       "<IPython.core.display.HTML object>"
      ]
     },
     "metadata": {},
     "output_type": "display_data"
    },
    {
     "data": {
      "text/html": [
       "<p> 46 HCWs treating patients infected with severe respiratory pathogens have every right to be concerned about their own safety</p>"
      ],
      "text/plain": [
       "<IPython.core.display.HTML object>"
      ]
     },
     "metadata": {},
     "output_type": "display_data"
    },
    {
     "data": {
      "text/html": [
       "<p style='text-align:center'> *** </p>"
      ],
      "text/plain": [
       "<IPython.core.display.HTML object>"
      ]
     },
     "metadata": {},
     "output_type": "display_data"
    },
    {
     "data": {
      "text/html": [
       "<h1>11. Assays to evaluate vaccine immune response and process development for vaccines, alongside suitable animal models</h1>"
      ],
      "text/plain": [
       "<IPython.core.display.HTML object>"
      ]
     },
     "metadata": {},
     "output_type": "display_data"
    },
    {
     "data": {
      "text/html": [
       "<h3> ''OCCUPATIONAL EXPOSURE TO INFECTION RISK AND USE OF PERSONAL PROTECTIVE EQUIPMENT BY EMERGENCY MEDICAL PERSONNEL IN THE REPUBLIC OF KOREA''</h2>"
      ],
      "text/plain": [
       "<IPython.core.display.HTML object>"
      ]
     },
     "metadata": {},
     "output_type": "display_data"
    },
    {
     "data": {
      "text/html": [
       "<p> The duties of EMT-P include invasive medical treatments (including endotracheal intubation, initiating intravenous access, and injecting intravenous glucose for hypoglycemic shock), administering medication (sublingual nitroglycerin and bronchodilator for asthma attack), and performing cardiopulmonary resuscitation and ventilator support</p>"
      ],
      "text/plain": [
       "<IPython.core.display.HTML object>"
      ]
     },
     "metadata": {},
     "output_type": "display_data"
    },
    {
     "data": {
      "text/html": [
       "<p style='text-align:center'> *** </p>"
      ],
      "text/plain": [
       "<IPython.core.display.HTML object>"
      ]
     },
     "metadata": {},
     "output_type": "display_data"
    },
    {
     "data": {
      "text/html": [
       "<h3> ''PHARMACEUTICALS USE OF APTAMERS AS DIAGNOSTICS TOOLS AND ANTIVIRAL AGENTS FOR HUMAN VIRUSES''</h2>"
      ],
      "text/plain": [
       "<IPython.core.display.HTML object>"
      ]
     },
     "metadata": {},
     "output_type": "display_data"
    },
    {
     "data": {
      "text/html": [
       "<p> Some of the most frequently prescribed antiviral nucleoside analogues based-drugs are aciclovir for Herpes simplex virus infections and lamivudine for HIV and Hepatitis B virus infections [1] </p>"
      ],
      "text/plain": [
       "<IPython.core.display.HTML object>"
      ]
     },
     "metadata": {},
     "output_type": "display_data"
    },
    {
     "data": {
      "text/html": [
       "<p style='text-align:center'> *** </p>"
      ],
      "text/plain": [
       "<IPython.core.display.HTML object>"
      ]
     },
     "metadata": {},
     "output_type": "display_data"
    },
    {
     "data": {
      "text/html": [
       "<h3> ''INTRANASAL DNA VACCINE FOR PROTECTION AGAINST RESPIRATORY INFECTIOUS DISEASES: THE DELIVERY PERSPECTIVES''</h2>"
      ],
      "text/plain": [
       "<IPython.core.display.HTML object>"
      ]
     },
     "metadata": {},
     "output_type": "display_data"
    },
    {
     "data": {
      "text/html": [
       "<p>Typically, DNA vaccines are administered by intramuscular injection although other administration routes including intradermal, subcutaneous, oral and intranasal routes are also investigated</p>"
      ],
      "text/plain": [
       "<IPython.core.display.HTML object>"
      ]
     },
     "metadata": {},
     "output_type": "display_data"
    },
    {
     "data": {
      "text/html": [
       "<p style='text-align:center'> *** </p>"
      ],
      "text/plain": [
       "<IPython.core.display.HTML object>"
      ]
     },
     "metadata": {},
     "output_type": "display_data"
    },
    {
     "data": {
      "text/html": [
       "<h3> ''INTRANASAL DNA VACCINE FOR PROTECTION AGAINST RESPIRATORY INFECTIOUS DISEASES: THE DELIVERY PERSPECTIVES''</h2>"
      ],
      "text/plain": [
       "<IPython.core.display.HTML object>"
      ]
     },
     "metadata": {},
     "output_type": "display_data"
    },
    {
     "data": {
      "text/html": [
       "<p> When administered intramuscularly, both liposomal formulations were ineffective in preventing tuberculosis infection in mice even after two doses</p>"
      ],
      "text/plain": [
       "<IPython.core.display.HTML object>"
      ]
     },
     "metadata": {},
     "output_type": "display_data"
    },
    {
     "data": {
      "text/html": [
       "<p style='text-align:center'> *** </p>"
      ],
      "text/plain": [
       "<IPython.core.display.HTML object>"
      ]
     },
     "metadata": {},
     "output_type": "display_data"
    },
    {
     "data": {
      "text/html": [
       "<h3> ''SELF-CONTAMINATION DURING DOFFING OF PERSONAL PROTECTIVE EQUIPMENT BY HEALTHCARE WORKERS TO PREVENT EBOLA TRANSMISSION''</h2>"
      ],
      "text/plain": [
       "<IPython.core.display.HTML object>"
      ]
     },
     "metadata": {},
     "output_type": "display_data"
    },
    {
     "data": {
      "text/html": [
       "<p> Pregnant females and participants suffering from upper respiratory tract infection and respiratory diseases requiring treatment were excluded</p>"
      ],
      "text/plain": [
       "<IPython.core.display.HTML object>"
      ]
     },
     "metadata": {},
     "output_type": "display_data"
    },
    {
     "data": {
      "text/html": [
       "<p style='text-align:center'> *** </p>"
      ],
      "text/plain": [
       "<IPython.core.display.HTML object>"
      ]
     },
     "metadata": {},
     "output_type": "display_data"
    },
    {
     "data": {
      "text/html": [
       "<h3> ''INTRANASAL DNA VACCINE FOR PROTECTION AGAINST RESPIRATORY INFECTIOUS DISEASES: THE DELIVERY PERSPECTIVES''</h2>"
      ],
      "text/plain": [
       "<IPython.core.display.HTML object>"
      ]
     },
     "metadata": {},
     "output_type": "display_data"
    },
    {
     "data": {
      "text/html": [
       "<p> Human RSV lacks an approved vaccine or an antiviral therapy</p>"
      ],
      "text/plain": [
       "<IPython.core.display.HTML object>"
      ]
     },
     "metadata": {},
     "output_type": "display_data"
    },
    {
     "data": {
      "text/html": [
       "<p style='text-align:center'> *** </p>"
      ],
      "text/plain": [
       "<IPython.core.display.HTML object>"
      ]
     },
     "metadata": {},
     "output_type": "display_data"
    },
    {
     "data": {
      "text/html": [
       "<h3> ''EVALUATION OF THE RATIONALE FOR CONCURRENT USE OF N95 FILTERING FACEPIECE RESPIRATORS WITH LOOSE-FITTING POWERED AIR-PURIFYING RESPIRATORS DURING AEROSOL-GENERATING MEDICAL PROCEDURES''</h2>"
      ],
      "text/plain": [
       "<IPython.core.display.HTML object>"
      ]
     },
     "metadata": {},
     "output_type": "display_data"
    },
    {
     "data": {
      "text/html": [
       "<p> 7 Medical procedures that result in aerosolization and subsequent airborne dissemination of respiratory pathogens (eg, endotracheal intubation, oral suctioning, etc) were identified as placing HCWs at increased risk for SARS infection</p>"
      ],
      "text/plain": [
       "<IPython.core.display.HTML object>"
      ]
     },
     "metadata": {},
     "output_type": "display_data"
    },
    {
     "data": {
      "text/html": [
       "<p style='text-align:center'> *** </p>"
      ],
      "text/plain": [
       "<IPython.core.display.HTML object>"
      ]
     },
     "metadata": {},
     "output_type": "display_data"
    },
    {
     "data": {
      "text/html": [
       "<h3> ''PHARMACEUTICALS USE OF APTAMERS AS DIAGNOSTICS TOOLS AND ANTIVIRAL AGENTS FOR HUMAN VIRUSES''</h2>"
      ],
      "text/plain": [
       "<IPython.core.display.HTML object>"
      ]
     },
     "metadata": {},
     "output_type": "display_data"
    },
    {
     "data": {
      "text/html": [
       "<p> Neuraminidase inhibitors like oseltamivir, laninamivir, zanamivir, and peramivir are commonly used as antiviral agents to treat influenza infection, especially in Japan</p>"
      ],
      "text/plain": [
       "<IPython.core.display.HTML object>"
      ]
     },
     "metadata": {},
     "output_type": "display_data"
    },
    {
     "data": {
      "text/html": [
       "<p style='text-align:center'> *** </p>"
      ],
      "text/plain": [
       "<IPython.core.display.HTML object>"
      ]
     },
     "metadata": {},
     "output_type": "display_data"
    },
    {
     "data": {
      "text/html": [
       "<h3> ''PHARMACEUTICALS USE OF APTAMERS AS DIAGNOSTICS TOOLS AND ANTIVIRAL AGENTS FOR HUMAN VIRUSES''</h2>"
      ],
      "text/plain": [
       "<IPython.core.display.HTML object>"
      ]
     },
     "metadata": {},
     "output_type": "display_data"
    },
    {
     "data": {
      "text/html": [
       "<p> The most effective medical approaches to viral diseases are vaccinations to provide immunity to infection, and antiviral drugs that selectively interfere with viral replication</p>"
      ],
      "text/plain": [
       "<IPython.core.display.HTML object>"
      ]
     },
     "metadata": {},
     "output_type": "display_data"
    },
    {
     "data": {
      "text/html": [
       "<p style='text-align:center'> *** </p>"
      ],
      "text/plain": [
       "<IPython.core.display.HTML object>"
      ]
     },
     "metadata": {},
     "output_type": "display_data"
    },
    {
     "data": {
      "text/html": [
       "<h3> ''INTRANASAL DNA VACCINE FOR PROTECTION AGAINST RESPIRATORY INFECTIOUS DISEASES: THE DELIVERY PERSPECTIVES''</h2>"
      ],
      "text/plain": [
       "<IPython.core.display.HTML object>"
      ]
     },
     "metadata": {},
     "output_type": "display_data"
    },
    {
     "data": {
      "text/html": [
       "<p> The first clinical trial of a DNA-based vaccine for HIV-1 infection was published in 1998 in 15 asymptomatic HIV-infected patients who were not using antiviral drugs</p>"
      ],
      "text/plain": [
       "<IPython.core.display.HTML object>"
      ]
     },
     "metadata": {},
     "output_type": "display_data"
    },
    {
     "data": {
      "text/html": [
       "<p style='text-align:center'> *** </p>"
      ],
      "text/plain": [
       "<IPython.core.display.HTML object>"
      ]
     },
     "metadata": {},
     "output_type": "display_data"
    }
   ],
   "source": [
    "TASK5 = [\n",
    "\"Resources to support skilled nursing facilities and long term care facilities.\",\n",
    "\"Mobilization of surge medical staff to address shortages in overwhelmed communities\",\n",
    "\"Age-adjusted mortality data for Acute Respiratory Distress Syndrome (ARDS) with/without other organ - failure – particularly for viral etiologies\",\n",
    "\"Extracorporeal membrane oxygenation (ECMO) outcomes data of COVID-19 patients\",\n",
    "\"Outcomes data for COVID-19 after mechanical ventilation adjusted for age.\",\n",
    "\"Knowledge of the frequency, manifestations, and course of extrapulmonary manifestations of COVID-19, including, but not limited to, possible cardiomyopathy and cardiac arrest.\",\n",
    "\"Application of regulatory standards (e.g., EUA, CLIA) and ability to adapt care to crisis standards of care level.\",\n",
    "\"Approaches for encouraging and facilitating the production of elastomeric respirators, which can save thousands of N95 masks.\",\n",
    "\"Best telemedicine practices, barriers and faciitators, and specific actions to remove/expand them within and across state boundaries.\",\n",
    "\"Guidance on the simple things people can do at home to take care of sick people and manage disease.\",\n",
    "\"Oral medications that might potentially work.\",\n",
    "\"Use of AI in real-time health care delivery to evaluate interventions, risk factors, and outcomes in a way that could not be done manually.\",\n",
    "\"Best practices and critical challenges and innovative solutions and technologies in hospital flow and organization, workforce protection, workforce allocation, community-based support resources, payment, and supply chain management to enhance capacity, efficiency, and outcomes.\",\n",
    "\"Efforts to define the natural history of disease to inform clinical care, public health interventions, infection prevention control, transmission, and clinical trials\",\n",
    "\"Efforts to develop a core clinical outcome set to maximize usability of data across a range of trials\",\n",
    "\"Efforts to determine adjunctive and supportive interventions that can improve the clinical outcomes of infected patients (e.g. steroids, high flow oxygen)\"\n",
    "]\n",
    "\n",
    "try:\n",
    "    for i in range(len(TASK5)):\n",
    "        display(HTML(\"<h1>\" + str(i+1) + \". \" + TASK4[i] + \"</h1>\"))\n",
    "        df = pd.read_csv(DIR + \"task5_\" + str(i) + \".csv\")\n",
    "        for j, row in df.iterrows():\n",
    "            display(HTML(\"<h3> ''\" + row[3].upper() + \"''</h2>\"))\n",
    "            display(HTML(\"<p>\" + row[1] + \"</p>\"))\n",
    "            display(HTML(\"<p style='text-align:center'> *** </p>\"))\n",
    "except: pass"
   ]
  },
  {
   "cell_type": "code",
   "execution_count": null,
   "metadata": {},
   "outputs": [],
   "source": []
  }
 ],
 "metadata": {
  "kernelspec": {
   "display_name": "Python 3",
   "language": "python",
   "name": "python3"
  },
  "language_info": {
   "codemirror_mode": {
    "name": "ipython",
    "version": 3
   },
   "file_extension": ".py",
   "mimetype": "text/x-python",
   "name": "python",
   "nbconvert_exporter": "python",
   "pygments_lexer": "ipython3",
   "version": "3.7.4"
  }
 },
 "nbformat": 4,
 "nbformat_minor": 2
}
