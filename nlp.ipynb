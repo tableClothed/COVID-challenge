{
 "cells": [
  {
   "cell_type": "code",
   "execution_count": 2,
   "metadata": {},
   "outputs": [],
   "source": [
    "import nltk\n",
    "import pandas as pd\n",
    "import os\n",
    "import json\n",
    "from nltk.stem import PorterStemmer\n",
    "import pycountry\n",
    "import numpy as np\n",
    "import spacy\n",
    "# nltk.download('averaged_perceptron_tagger')"
   ]
  },
  {
   "cell_type": "code",
   "execution_count": 3,
   "metadata": {},
   "outputs": [],
   "source": [
    "# ps = PorterStemmer()\n",
    "nlp = spacy.load('en_core_web_lg')\n",
    "\n",
    "df = pd.read_csv(\"COVID.csv\")"
   ]
  },
  {
   "cell_type": "code",
   "execution_count": 4,
   "metadata": {},
   "outputs": [
    {
     "data": {
      "text/html": [
       "<div>\n",
       "<style scoped>\n",
       "    .dataframe tbody tr th:only-of-type {\n",
       "        vertical-align: middle;\n",
       "    }\n",
       "\n",
       "    .dataframe tbody tr th {\n",
       "        vertical-align: top;\n",
       "    }\n",
       "\n",
       "    .dataframe thead th {\n",
       "        text-align: right;\n",
       "    }\n",
       "</style>\n",
       "<table border=\"1\" class=\"dataframe\">\n",
       "  <thead>\n",
       "    <tr style=\"text-align: right;\">\n",
       "      <th></th>\n",
       "      <th>title</th>\n",
       "      <th>abstract</th>\n",
       "      <th>text</th>\n",
       "    </tr>\n",
       "  </thead>\n",
       "  <tbody>\n",
       "    <tr>\n",
       "      <td>0</td>\n",
       "      <td>The RNA pseudoknots in foot-and-mouth disease ...</td>\n",
       "      <td>word count: 194 22 Text word count: 5168 23 24...</td>\n",
       "      <td>VP3, and VP0 (which is further processed to VP...</td>\n",
       "    </tr>\n",
       "    <tr>\n",
       "      <td>1</td>\n",
       "      <td>Analysis Title: Regaining perspective on SARS-...</td>\n",
       "      <td>During the past three months, a new coronaviru...</td>\n",
       "      <td>In December 2019, a novel coronavirus, SARS-Co...</td>\n",
       "    </tr>\n",
       "    <tr>\n",
       "      <td>3</td>\n",
       "      <td>Real-time, MinION-based, amplicon sequencing f...</td>\n",
       "      <td>Infectious bronchitis (IB) causes significant ...</td>\n",
       "      <td>Infectious bronchitis (IB), which is caused by...</td>\n",
       "    </tr>\n",
       "    <tr>\n",
       "      <td>4</td>\n",
       "      <td>A Combined Evidence Approach to Prioritize Nip...</td>\n",
       "      <td>Nipah Virus (NiV) came into limelight recently...</td>\n",
       "      <td>Nipah is an infectious negative-sense single-s...</td>\n",
       "    </tr>\n",
       "    <tr>\n",
       "      <td>5</td>\n",
       "      <td>Assessing spread risk of Wuhan novel coronavir...</td>\n",
       "      <td>Background: A novel coronavirus (2019-nCoV) em...</td>\n",
       "      <td>In December 2019, a cluster of patients with p...</td>\n",
       "    </tr>\n",
       "  </tbody>\n",
       "</table>\n",
       "</div>"
      ],
      "text/plain": [
       "                                               title  \\\n",
       "0  The RNA pseudoknots in foot-and-mouth disease ...   \n",
       "1  Analysis Title: Regaining perspective on SARS-...   \n",
       "3  Real-time, MinION-based, amplicon sequencing f...   \n",
       "4  A Combined Evidence Approach to Prioritize Nip...   \n",
       "5  Assessing spread risk of Wuhan novel coronavir...   \n",
       "\n",
       "                                            abstract  \\\n",
       "0  word count: 194 22 Text word count: 5168 23 24...   \n",
       "1  During the past three months, a new coronaviru...   \n",
       "3  Infectious bronchitis (IB) causes significant ...   \n",
       "4  Nipah Virus (NiV) came into limelight recently...   \n",
       "5  Background: A novel coronavirus (2019-nCoV) em...   \n",
       "\n",
       "                                                text  \n",
       "0  VP3, and VP0 (which is further processed to VP...  \n",
       "1  In December 2019, a novel coronavirus, SARS-Co...  \n",
       "3  Infectious bronchitis (IB), which is caused by...  \n",
       "4  Nipah is an infectious negative-sense single-s...  \n",
       "5  In December 2019, a cluster of patients with p...  "
      ]
     },
     "execution_count": 4,
     "metadata": {},
     "output_type": "execute_result"
    }
   ],
   "source": [
    "fil = df['abstract'] != \"[]\"\n",
    "df = df[fil]\n",
    "df = df[[\"title\", \"abstract\", \"text\"]]\n",
    "df.head()"
   ]
  },
  {
   "cell_type": "markdown",
   "metadata": {},
   "source": [
    "# TASK 1\n",
    "## What is known about transmission, incubation, and environmental stability?\n",
    "- Range of incubation periods for the disease in humans (and how this varies across age and health status) and how long individuals are contagious, even after recovery.\n",
    "- Prevalence of asymptomatic shedding and transmission (e.g., particularly children).\n",
    "- Seasonality of transmission.\n",
    "- Physical science of the coronavirus (e.g., charge distribution, adhesion to hydrophilic/phobic surfaces, environmental survival to inform decontamination efforts for affected areas and provide information about viral shedding).\n",
    "- Persistence and stability on a multitude of substrates and sources (e.g., nasal discharge, sputum, urine, fecal matter, blood).\n",
    "- Persistence of virus on surfaces of different materials (e,g., copper, stainless steel, plastic).\n",
    "- Natural history of the virus and shedding of it from an infected person\n",
    "- Implementation of diagnostics and products to improve clinical processes\n",
    "- Disease models, including animal models for infection, disease and transmission\n",
    "- Tools and studies to monitor phenotypic change and potential adaptation of the virus\n",
    "- Immune response and immunity\n",
    "- Effectiveness of movement control strategies to prevent secondary transmission in health care and community settings\n",
    "- Effectiveness of personal protective equipment (PPE) and its usefulness to reduce risk of transmission in health care and community settings\n",
    "- Role of the environment in transmission"
   ]
  },
  {
   "cell_type": "code",
   "execution_count": null,
   "metadata": {},
   "outputs": [
    {
     "name": "stdout",
     "output_type": "stream",
     "text": [
      "24827\n",
      "0\n",
      "1000\n"
     ]
    }
   ],
   "source": [
    "# keywords = [\"incubation periods\", \"asymptomatic shedding\", \"asymptomatic transmission\",\n",
    "#                \"seasonality of transmission\", \"charge distribution\", \"viral shedding\",\n",
    "#                \"disease model\", \"potential adaptation\", \"immunity\", \"protective equipment\",\n",
    "#                \"phenotypic change\", \"persistence of virus on surfaces\"]\n",
    "tags = nlp(\"transmission incubation environment seasonality\")\n",
    "titles = list(df['text'])\n",
    "print(len(titles))\n",
    "results = []\n",
    "for i, title in enumerate(titles):\n",
    "    t = nlp(title.lower())\n",
    "    result = t.similarity(tags)\n",
    "    results.append([i, result])\n",
    "    if i % 1000 == 0:\n",
    "        print(i)"
   ]
  },
  {
   "cell_type": "markdown",
   "metadata": {},
   "source": [
    "# TASK 2\n",
    "## What do we know about COVID-19 risk factors? What have we learned from epidemiological studies?\n",
    "- Data on potential risks factors\n",
    "- Smoking, pre-existing pulmonary disease\n",
    "- Co-infections (determine whether co-existing respiratory/viral infections make the virus more transmissible or virulent) and other co-morbidities\n",
    "- Neonates and pregnant women\n",
    "- Socio-economic and behavioral factors to understand the economic impact of the virus and whether there were differences.\n",
    "- Transmission dynamics of the virus, including the basic reproductive number, incubation period, serial interval, modes of transmission and environmental factors\n",
    "- Severity of disease, including risk of fatality among symptomatic hospitalized patients, and high-risk patient groups\n",
    "- Susceptibility of populations\n",
    "- Public health mitigation measures that could be effective for control"
   ]
  },
  {
   "cell_type": "code",
   "execution_count": null,
   "metadata": {},
   "outputs": [],
   "source": [
    "tags2 = nlp('risk smoking infections pregnancy fatality')"
   ]
  },
  {
   "cell_type": "markdown",
   "metadata": {},
   "source": [
    "# TASK 3\n",
    "## What do we know about virus genetics, origin, and evolution? What do we know about the virus origin and management measures at the human-animal interface?\n",
    "- Real-time tracking of whole genomes and a mechanism for coordinating the rapid dissemination of that information to inform the development of diagnostics and therapeutics and to track variations of the virus over time.\n",
    "- Access to geographic and temporal diverse sample sets to understand geographic distribution and genomic differences, and determine whether there is more than one strain in circulation. Multi-lateral agreements such as the Nagoya Protocol could be leveraged.\n",
    "- Evidence that livestock could be infected (e.g., field surveillance, genetic sequencing, receptor binding) and serve as a reservoir after the epidemic appears to be over.\n",
    "- Evidence of whether farmers are infected, and whether farmers could have played a role in the origin.\n",
    "- Surveillance of mixed wildlife- livestock farms for SARS-CoV-2 and other coronaviruses in Southeast Asia.\n",
    "- Experimental infections to test host range for this pathogen.\n",
    "- Animal host(s) and any evidence of continued spill-over to humans\n",
    "- Socioeconomic and behavioral risk factors for this spill-over\n",
    "- Sustainable risk reduction strategies"
   ]
  },
  {
   "cell_type": "code",
   "execution_count": null,
   "metadata": {},
   "outputs": [],
   "source": [
    "tags3 = nlp('genetics origin evolution animal range host')"
   ]
  },
  {
   "cell_type": "markdown",
   "metadata": {},
   "source": [
    "# TASK 4\n",
    "## What do we know about vaccines and therapeutics? What has been published concerning research and development and evaluation efforts of vaccines and therapeutics?\n",
    "- Effectiveness of drugs being developed and tried to treat COVID-19 patients.\n",
    "- Clinical and bench trials to investigate less common viral inhibitors against COVID-19 such as naproxen, clarithromycin, and minocyclinethat that may exert effects on viral replication.\n",
    "- Methods evaluating potential complication of Antibody-Dependent Enhancement (ADE) in vaccine recipients.\n",
    "- Exploration of use of best animal models and their predictive value for a human vaccine.\n",
    "- Capabilities to discover a therapeutic (not vaccine) for the disease, and clinical effectiveness studies to discover therapeutics, to include antiviral agents.\n",
    "- Alternative models to aid decision makers in determining how to prioritize and distribute scarce, newly proven therapeutics as production ramps up. This could include identifying approaches for expanding production capacity to ensure equitable and timely distribution to populations in need.\n",
    "- Efforts targeted at a universal coronavirus vaccine.\n",
    "- Efforts to develop animal models and standardize challenge studies\n",
    "- Efforts to develop prophylaxis clinical studies and prioritize in healthcare workers\n",
    "- Approaches to evaluate risk for enhanced disease after vaccination\n",
    "- Assays to evaluate vaccine immune response and process development for vaccines, alongside suitable animal models"
   ]
  },
  {
   "cell_type": "code",
   "execution_count": null,
   "metadata": {},
   "outputs": [],
   "source": [
    "tags4 = nlp('vaccines therapeutics drugs antibody effectiveness')"
   ]
  },
  {
   "cell_type": "markdown",
   "metadata": {},
   "source": [
    "# TASK 5\n",
    "## What has been published about medical care? What has been published concerning surge capacity and nursing homes? What has been published concerning efforts to inform allocation of scarce resources? What do we know about personal protective equipment? What has been published concerning alternative methods to advise on disease management? What has been published concerning processes of care? What do we know about the clinical characterization and management of the virus?\n",
    "- Resources to support skilled nursing facilities and long term care facilities.\n",
    "- Mobilization of surge medical staff to address shortages in overwhelmed communities\n",
    "- Age-adjusted mortality data for Acute Respiratory Distress Syndrome (ARDS) with/without other organ - failure – particularly for viral etiologies\n",
    "- Extracorporeal membrane oxygenation (ECMO) outcomes data of COVID-19 patients\n",
    "- Outcomes data for COVID-19 after mechanical ventilation adjusted for age.\n",
    "- Knowledge of the frequency, manifestations, and course of extrapulmonary manifestations of COVID-19, including, but not limited to, possible cardiomyopathy and cardiac arrest.\n",
    "- Application of regulatory standards (e.g., EUA, CLIA) and ability to adapt care to crisis standards of care level.\n",
    "- Approaches for encouraging and facilitating the production of elastomeric respirators, which can save thousands of N95 masks.\n",
    "- Best telemedicine practices, barriers and faciitators, and specific actions to remove/expand them within and across state boundaries.\n",
    "- Guidance on the simple things people can do at home to take care of sick people and manage disease.\n",
    "- Oral medications that might potentially work.\n",
    "- Use of AI in real-time health care delivery to evaluate interventions, risk factors, and outcomes in a way that could not be done manually.\n",
    "- Best practices and critical challenges and innovative solutions and technologies in hospital flow and organization, workforce protection, workforce allocation, community-based support resources, payment, and supply chain management to enhance capacity, efficiency, and outcomes.\n",
    "- Efforts to define the natural history of disease to inform clinical care, public health interventions, infection prevention control, transmission, and clinical trials\n",
    "- Efforts to develop a core clinical outcome set to maximize usability of data across a range of trials\n",
    "- Efforts to determine adjunctive and supportive interventions that can improve the clinical outcomes of infected patients (e.g. steroids, high flow oxygen)"
   ]
  },
  {
   "cell_type": "code",
   "execution_count": null,
   "metadata": {},
   "outputs": [],
   "source": [
    "tags5 = nlp('medical manifestations respirators technologies protection')"
   ]
  },
  {
   "cell_type": "markdown",
   "metadata": {},
   "source": [
    "# TASK 6\n",
    "## What do we know about the effectiveness of non-pharmaceutical interventions? What is known about equity and barriers to compliance for non-pharmaceutical interventions?\n",
    "- Guidance on ways to scale up NPIs in a more coordinated way (e.g., establish funding, infrastructure and authorities to support real time, authoritative (qualified participants) collaboration with all states to gain consensus on consistent guidance and to mobilize resources to geographic areas where critical shortfalls are identified) to give us time to enhance our health care delivery system capacity to respond to an increase in cases.\n",
    "- Rapid design and execution of experiments to examine and compare NPIs currently being implemented. DHS Centers for Excellence could potentially be leveraged to conduct these experiments.\n",
    "- Rapid assessment of the likely efficacy of school closures, travel bans, bans on mass gatherings of various sizes, and other social distancing approaches.\n",
    "- Methods to control the spread in communities, barriers to compliance and how these vary among different populations..\n",
    "- Models of potential interventions to predict costs and benefits that take account of such factors as race, income, disability, age, geographic location, immigration status, housing status, employment status, and health insurance status.\n",
    "- Policy changes necessary to enable the compliance of individuals with limited resources and the underserved with NPIs.\n",
    "- Research on why people fail to comply with public health advice, even if they want to do so (e.g., social or financial costs may be too high).\n",
    "- Research on the economic impact of this or any pandemic. This would include identifying policy and programmatic alternatives that lessen/mitigate risks to critical government services, food distribution and supplies, access to critical household supplies, and access to health diagnoses, treatment, and needed care, regardless of ability to pay."
   ]
  },
  {
   "cell_type": "code",
   "execution_count": 11,
   "metadata": {},
   "outputs": [],
   "source": [
    "tags6 = nlp('pharmaceutical closures ban gatherings depending')"
   ]
  },
  {
   "cell_type": "markdown",
   "metadata": {},
   "source": [
    "# TASK 7\n",
    "## What do we know about diagnostics and surveillance? What has been published concerning systematic, holistic approach to diagnostics (from the public health surveillance perspective to being able to predict clinical outcomes)?\n",
    "- How widespread current exposure is to be able to make immediate policy recommendations on mitigation measures. Denominators for testing and a mechanism for rapidly sharing that information, including demographics, to the extent possible. Sampling methods to determine asymptomatic disease (e.g., use of serosurveys (such as convalescent samples) and early detection of disease (e.g., use of screening of neutralizing antibodies such as ELISAs).\n",
    "- Efforts to increase capacity on existing diagnostic platforms and tap into existing surveillance platforms.\n",
    "- Recruitment, support, and coordination of local expertise and capacity (public, private—commercial, and non-profit, including academic), including legal, ethical, communications, and operational issues.\n",
    "- National guidance and guidelines about best practices to states (e.g., how states might leverage universities and private laboratories for testing purposes, communications to public health officials and the public).\n",
    "- Development of a point-of-care test (like a rapid influenza test) and rapid bed-side tests, recognizing the tradeoffs between speed, accessibility, and accuracy.\n",
    "Rapid design and execution of targeted surveillance experiments calling for all potential testers using PCR in a defined area to start testing and report to a specific entity. These experiments could aid in collecting longitudinal samples, which are critical to understanding the impact of ad hoc local interventions (which also need to be recorded).\n",
    "- Separation of assay development issues from instruments, and the role of the private sector to help quickly migrate assays onto those devices.\n",
    "- Efforts to track the evolution of the virus (i.e., genetic drift or mutations) and avoid locking into specific reagents and surveillance/detection schemes.\n",
    "- Latency issues and when there is sufficient viral load to detect the pathogen, and understanding of what is needed in terms of biological and environmental sampling.\n",
    "- Use of diagnostics such as host response markers (e.g., cytokines) to detect early disease or predict severe disease progression, which would be important to understanding best clinical practice and efficacy of therapeutic interventions.\n",
    "- Policies and protocols for screening and testing.\n",
    "- Policies to mitigate the effects on supplies associated with mass testing, including swabs and reagents.\n",
    "- Technology roadmap for diagnostics.\n",
    "- Barriers to developing and scaling up new diagnostic tests (e.g., market forces), how future coalition and accelerator models (e.g., Coalition for Epidemic Preparedness Innovations) could provide critical funding for diagnostics, and opportunities for a streamlined regulatory environment.\n",
    "- New platforms and technology (e.g., CRISPR) to improve response times and employ more holistic approaches to COVID-19 and future diseases.\n",
    "- Coupling genomics and diagnostic testing on a large scale.\n",
    "- Enhance capabilities for rapid sequencing and bioinformatics to target regions of the genome that will allow specificity for a particular variant.\n",
    "Enhance capacity (people, technology, data) for sequencing with advanced analytics for unknown pathogens, and explore capabilities for distinguishing naturally-occurring pathogens from intentional.\n",
    "- One Health surveillance of humans and potential sources of future spillover or ongoing exposure for this organism and future pathogens, including both evolutionary hosts (e.g., bats) and transmission hosts (e.g., heavily trafficked and farmed wildlife and domestic food and companion species), inclusive of environmental, demographic, and occupational risk factors."
   ]
  },
  {
   "cell_type": "code",
   "execution_count": null,
   "metadata": {},
   "outputs": [],
   "source": [
    "tags7 = nlp(\"diagnostics surveillance policy technology\")"
   ]
  },
  {
   "cell_type": "markdown",
   "metadata": {},
   "source": [
    "# TASK 8\n",
    "- Are there geographic variations in the rate of COVID-19 spread?\n",
    "- Are there geographic variations in the mortality rate of COVID-19?\n",
    "- Is there any evidence to suggest geographic based virus mutations?"
   ]
  },
  {
   "cell_type": "code",
   "execution_count": 9,
   "metadata": {},
   "outputs": [
    {
     "data": {
      "text/html": [
       "<div>\n",
       "<style scoped>\n",
       "    .dataframe tbody tr th:only-of-type {\n",
       "        vertical-align: middle;\n",
       "    }\n",
       "\n",
       "    .dataframe tbody tr th {\n",
       "        vertical-align: top;\n",
       "    }\n",
       "\n",
       "    .dataframe thead th {\n",
       "        text-align: right;\n",
       "    }\n",
       "</style>\n",
       "<table border=\"1\" class=\"dataframe\">\n",
       "  <thead>\n",
       "    <tr style=\"text-align: right;\">\n",
       "      <th></th>\n",
       "      <th>title</th>\n",
       "      <th>abstract</th>\n",
       "      <th>text</th>\n",
       "    </tr>\n",
       "  </thead>\n",
       "  <tbody>\n",
       "    <tr>\n",
       "      <td>2</td>\n",
       "      <td>Healthcare-resource-adjusted vulnerabilities t...</td>\n",
       "      <td>[]</td>\n",
       "      <td>The 2019-nCoV epidemic has spread across China...</td>\n",
       "    </tr>\n",
       "    <tr>\n",
       "      <td>5</td>\n",
       "      <td>Assessing spread risk of Wuhan novel coronavir...</td>\n",
       "      <td>Background: A novel coronavirus (2019-nCoV) em...</td>\n",
       "      <td>In December 2019, a cluster of patients with p...</td>\n",
       "    </tr>\n",
       "    <tr>\n",
       "      <td>8</td>\n",
       "      <td>The impact of regular school closure on season...</td>\n",
       "      <td>School closure is often considered as an optio...</td>\n",
       "      <td>they affect seasonal influenza dynamics. The m...</td>\n",
       "    </tr>\n",
       "    <tr>\n",
       "      <td>29</td>\n",
       "      <td>Epidemiological characteristics of 1212 COVID-...</td>\n",
       "      <td>Based on publicly released data for 1212 patie...</td>\n",
       "      <td>Arising from Wuhan South China seafood market ...</td>\n",
       "    </tr>\n",
       "    <tr>\n",
       "      <td>33</td>\n",
       "      <td>Age profile of susceptibility, mixing, and soc...</td>\n",
       "      <td>Strict interventions were successful to contro...</td>\n",
       "      <td>also estimate age differences in susceptibilit...</td>\n",
       "    </tr>\n",
       "  </tbody>\n",
       "</table>\n",
       "</div>"
      ],
      "text/plain": [
       "                                                title  \\\n",
       "2   Healthcare-resource-adjusted vulnerabilities t...   \n",
       "5   Assessing spread risk of Wuhan novel coronavir...   \n",
       "8   The impact of regular school closure on season...   \n",
       "29  Epidemiological characteristics of 1212 COVID-...   \n",
       "33  Age profile of susceptibility, mixing, and soc...   \n",
       "\n",
       "                                             abstract  \\\n",
       "2                                                  []   \n",
       "5   Background: A novel coronavirus (2019-nCoV) em...   \n",
       "8   School closure is often considered as an optio...   \n",
       "29  Based on publicly released data for 1212 patie...   \n",
       "33  Strict interventions were successful to contro...   \n",
       "\n",
       "                                                 text  \n",
       "2   The 2019-nCoV epidemic has spread across China...  \n",
       "5   In December 2019, a cluster of patients with p...  \n",
       "8   they affect seasonal influenza dynamics. The m...  \n",
       "29  Arising from Wuhan South China seafood market ...  \n",
       "33  also estimate age differences in susceptibilit...  "
      ]
     },
     "execution_count": 9,
     "metadata": {},
     "output_type": "execute_result"
    }
   ],
   "source": [
    "tags8 = []\n",
    "countries = [c.name.lower() for c in pycountry.countries]\n",
    "relevant = []\n",
    "\n",
    "for id_, row in df.iterrows():\n",
    "    for i in range(len(row)):\n",
    "        try:\n",
    "            sentences = row[i]\n",
    "            sentences = sentences.split(\". \")\n",
    "            for sentence in sentences:\n",
    "                for country in countries:\n",
    "                    if country in sentence.lower():\n",
    "                        relevant.append(id_)\n",
    "        except:\n",
    "            pass\n",
    "        break\n",
    "\n",
    "geo_df = df.loc[relevant]\n",
    "geo_df.head()"
   ]
  },
  {
   "cell_type": "code",
   "execution_count": null,
   "metadata": {},
   "outputs": [],
   "source": [
    "# countries = [c.name for c in pycountry.countries]\n",
    "# countries  = set([ps.stem(tok) for tok in countries])\n",
    "# relevant = []\n",
    "\n",
    "# for id_, row in df.iterrows():\n",
    "#     for i in range(len(row)):\n",
    "#         try:\n",
    "#             tokenized_data = nltk.word_tokenize(row[i].lower())\n",
    "#             tags = nltk.pos_tag(tokenized_data)\n",
    "#             filtered_tags = [tok for tok, tag in tags if tag in include_tags]\n",
    "#             stemmed_tokens = set([ps.stem(tok).lower() for tok in filtered_tags])\n",
    "#             matches = countries.intersection(stemmed_tokens)\n",
    "#             if matches != set():\n",
    "#                 relevant.append([id_, matches])\n",
    "#         except:\n",
    "#             pass\n",
    "#         break\n",
    "# print(relevant)"
   ]
  },
  {
   "cell_type": "markdown",
   "metadata": {},
   "source": [
    "# TASK 9\n",
    "## What has been published concerning ethical considerations for research? What has been published concerning social sciences at the outbreak response?\n",
    "- Efforts to articulate and translate existing ethical principles and standards to salient issues in COVID-2019\n",
    "- Efforts to embed ethics across all thematic areas, engage with novel ethical issues that arise and coordinate to minimize duplication of oversight\n",
    "- Efforts to support sustained education, access, and capacity building in the area of ethics\n",
    "- Efforts to establish a team at WHO that will be integrated within multidisciplinary research and operational platforms and that will connect with existing and expanded global networks of social sciences.\n",
    "- Efforts to develop qualitative assessment frameworks to systematically collect information related to local barriers and enablers for the uptake and adherence to public health measures for prevention and control. This includes the rapid identification of the secondary impacts of these measures. (e.g. use of surgical masks, modification of health seeking behaviors for SRH, school closures)\n",
    "- Efforts to identify how the burden of responding to the outbreak and implementing public health measures affects the physical and psychological health of those providing care for Covid-19 patients and identify the immediate needs that must be addressed.\n",
    "- Efforts to identify the underlying drivers of fear, anxiety and stigma that fuel misinformation and rumor, particularly through social media."
   ]
  },
  {
   "cell_type": "code",
   "execution_count": null,
   "metadata": {},
   "outputs": [],
   "source": [
    "tags9 = nlp(\"ethical social education access fear\")"
   ]
  },
  {
   "cell_type": "markdown",
   "metadata": {},
   "source": [
    "# TASK 10\n",
    "## What has been published about information sharing and inter-sectoral collaboration? What has been published about data standards and nomenclature? What has been published about governmental public health? What do we know about risk communication? What has been published about communicating with high-risk populations? What has been published to clarify community measures? What has been published about equity considerations and problems of inequity?\n",
    "- Methods for coordinating data-gathering with standardized nomenclature.\n",
    "- Sharing response information among planners, providers, and others.\n",
    "- Understanding and mitigating barriers to information-sharing.\n",
    "- How to recruit, support, and coordinate local (non-Federal) expertise and capacity relevant to public health emergency response (public, private, commercial and non-profit, including academic).\n",
    "- Integration of federal/state/local public health surveillance systems.\n",
    "- Value of investments in baseline public health response infrastructure preparedness\n",
    "- Modes of communicating with target high-risk populations (elderly, health care workers).\n",
    "- Risk communication and guidelines that are easy to understand and follow (include targeting at risk populations’ families too).\n",
    "- Communication that indicates potential risk of disease to all population groups.\n",
    "- Misunderstanding around containment and mitigation.\n",
    "- Action plan to mitigate gaps and problems of inequity in the Nation’s public health capability, capacity, and funding to ensure all citizens in need are supported and can access information, surveillance, and treatment.\n",
    "- Measures to reach marginalized and disadvantaged populations.\n",
    "- Data systems and research priorities and agendas incorporate attention to the needs and circumstances of disadvantaged populations and underrepresented minorities.\n",
    "- Mitigating threats to incarcerated people from COVID-19, assuring access to information, prevention, diagnosis, and treatment.\n",
    "- Understanding coverage policies (barriers and opportunities) related to testing, treatment, and care"
   ]
  },
  {
   "cell_type": "code",
   "execution_count": null,
   "metadata": {},
   "outputs": [],
   "source": [
    "tags10 = nlp('government published surveillance policy')"
   ]
  }
 ],
 "metadata": {
  "kernelspec": {
   "display_name": "Python 3",
   "language": "python",
   "name": "python3"
  },
  "language_info": {
   "codemirror_mode": {
    "name": "ipython",
    "version": 3
   },
   "file_extension": ".py",
   "mimetype": "text/x-python",
   "name": "python",
   "nbconvert_exporter": "python",
   "pygments_lexer": "ipython3",
   "version": "3.7.4"
  }
 },
 "nbformat": 4,
 "nbformat_minor": 2
}
