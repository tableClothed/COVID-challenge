{
 "cells": [
  {
   "cell_type": "code",
   "execution_count": 6,
   "metadata": {},
   "outputs": [],
   "source": [
    "import json\n",
    "import os\n",
    "\n",
    "DIRS = [\"biorxiv_medrxiv\", \"comm_use_subset\", \"custom_license\", \"noncomm_use_subset\"]\n",
    "docs = []\n",
    "\n",
    "for DIR in DIRS:\n",
    "    for file in os.listdir(f'{DIR}/{DIR}'):\n",
    "        path = f'{DIR}/{DIR}/{file}'\n",
    "        j = json.load(open(path, 'rb'))\n",
    "        title = j['metadata']['title']\n",
    "\n",
    "        try:\n",
    "            abstract = j['abstract'][0]['text']\n",
    "        except:\n",
    "            abstract = []\n",
    "\n",
    "        full_text = \"\"\n",
    "        for text in j[\"body_text\"]:\n",
    "            full_text += text['text'] + '\\n\\n'\n",
    "\n",
    "        docs.append([title, abstract, full_text])\n"
   ]
  },
  {
   "cell_type": "code",
   "execution_count": 7,
   "metadata": {},
   "outputs": [
    {
     "name": "stdout",
     "output_type": "stream",
     "text": [
      "TITLE: \n",
      " The RNA pseudoknots in foot-and-mouth disease virus are dispensable for genome replication but essential for the production of infectious virus. 2 3\n",
      "ABSTRACT: \n",
      " word count: 194 22 Text word count: 5168 23 24 25 author/funder. All rights reserved. No reuse allowed without permission. Abstract 27 The positive stranded RNA genomes of picornaviruses comprise a single large open reading 28 frame flanked by 5′ and 3′ untranslated regions (UTRs). Foot-and-mouth disease virus (FMDV) 29 has an unusually large 5′ UTR (1.3 kb) containing five structural domains. These include the 30 internal ribosome entry site (IRES), which facilitates initiation of translation, and the cis-acting 31 replication element (cre). Less well characterised structures are a 5′ terminal 360 nucleotide 32 stem-loop, a variable length poly-C-tract of approximately 100-200 nucleotides and a series of 33 two to four tandemly repeated pseudoknots (PKs). We investigated the structures of the PKs 34 by selective 2′ hydroxyl acetylation analysed by primer extension (SHAPE) analysis and 35 determined their contribution to genome replication by mutation and deletion experiments. 36 SHAPE and mutation experiments confirmed the importance of the previously predicted PK 37 structures for their function. Deletion experiments showed that although PKs are not essential 38\n",
      "TEXT: \n",
      " VP3, and VP0 (which is further processed to VP2 and VP4 during virus assembly) (6). The P2 64 and P3 regions encode the non-structural proteins 2B and 2C and 3A, 3B (1-3) (VPg), 3C pro and 4 structura\n"
     ]
    }
   ],
   "source": [
    "for i in docs:\n",
    "    print(\"TITLE: \\n\", i[0])\n",
    "    print(\"ABSTRACT: \\n\", i[1])\n",
    "    print(\"TEXT: \\n\", i[2][0:200])\n",
    "    break"
   ]
  },
  {
   "cell_type": "code",
   "execution_count": 8,
   "metadata": {},
   "outputs": [
    {
     "data": {
      "text/html": [
       "<div>\n",
       "<style scoped>\n",
       "    .dataframe tbody tr th:only-of-type {\n",
       "        vertical-align: middle;\n",
       "    }\n",
       "\n",
       "    .dataframe tbody tr th {\n",
       "        vertical-align: top;\n",
       "    }\n",
       "\n",
       "    .dataframe thead th {\n",
       "        text-align: right;\n",
       "    }\n",
       "</style>\n",
       "<table border=\"1\" class=\"dataframe\">\n",
       "  <thead>\n",
       "    <tr style=\"text-align: right;\">\n",
       "      <th></th>\n",
       "      <th>title</th>\n",
       "      <th>abstract</th>\n",
       "      <th>text</th>\n",
       "    </tr>\n",
       "  </thead>\n",
       "  <tbody>\n",
       "    <tr>\n",
       "      <td>0</td>\n",
       "      <td>The RNA pseudoknots in foot-and-mouth disease ...</td>\n",
       "      <td>word count: 194 22 Text word count: 5168 23 24...</td>\n",
       "      <td>VP3, and VP0 (which is further processed to VP...</td>\n",
       "    </tr>\n",
       "    <tr>\n",
       "      <td>1</td>\n",
       "      <td>Analysis Title: Regaining perspective on SARS-...</td>\n",
       "      <td>During the past three months, a new coronaviru...</td>\n",
       "      <td>In December 2019, a novel coronavirus, SARS-Co...</td>\n",
       "    </tr>\n",
       "    <tr>\n",
       "      <td>2</td>\n",
       "      <td>Healthcare-resource-adjusted vulnerabilities t...</td>\n",
       "      <td>[]</td>\n",
       "      <td>The 2019-nCoV epidemic has spread across China...</td>\n",
       "    </tr>\n",
       "    <tr>\n",
       "      <td>3</td>\n",
       "      <td>Real-time, MinION-based, amplicon sequencing f...</td>\n",
       "      <td>Infectious bronchitis (IB) causes significant ...</td>\n",
       "      <td>Infectious bronchitis (IB), which is caused by...</td>\n",
       "    </tr>\n",
       "    <tr>\n",
       "      <td>4</td>\n",
       "      <td>A Combined Evidence Approach to Prioritize Nip...</td>\n",
       "      <td>Nipah Virus (NiV) came into limelight recently...</td>\n",
       "      <td>Nipah is an infectious negative-sense single-s...</td>\n",
       "    </tr>\n",
       "    <tr>\n",
       "      <td>...</td>\n",
       "      <td>...</td>\n",
       "      <td>...</td>\n",
       "      <td>...</td>\n",
       "    </tr>\n",
       "    <tr>\n",
       "      <td>33370</td>\n",
       "      <td>Understanding Human Coronavirus HCoV-NL63</td>\n",
       "      <td>Even though coronavirus infection of humans is...</td>\n",
       "      <td>Regardless of geographic location, respiratory...</td>\n",
       "    </tr>\n",
       "    <tr>\n",
       "      <td>33371</td>\n",
       "      <td>Brief Definitive Report MACROPHAGES GENETICALL...</td>\n",
       "      <td>There is extensive evidence that cultured macr...</td>\n",
       "      <td>Experiments were designed to test whether subs...</td>\n",
       "    </tr>\n",
       "    <tr>\n",
       "      <td>33372</td>\n",
       "      <td>Identification of a Subdomain of CENPB That Is...</td>\n",
       "      <td>We have combined in vivo and in vitro approach...</td>\n",
       "      <td>can function in an autonomous fashion, relocat...</td>\n",
       "    </tr>\n",
       "    <tr>\n",
       "      <td>33373</td>\n",
       "      <td>Replication enhancer elements within the open ...</td>\n",
       "      <td>We provide experimental evidence of a replicat...</td>\n",
       "      <td>Tick-borne encephalitis virus (TBEV) is a huma...</td>\n",
       "    </tr>\n",
       "    <tr>\n",
       "      <td>33374</td>\n",
       "      <td>Supplemental material for the paper \"Evidence ...</td>\n",
       "      <td>Israel. *Corresponding author (TT): tamirtul@p...</td>\n",
       "      <td>20min). We trimmed the poly-A adaptors from th...</td>\n",
       "    </tr>\n",
       "  </tbody>\n",
       "</table>\n",
       "<p>33375 rows × 3 columns</p>\n",
       "</div>"
      ],
      "text/plain": [
       "                                                   title  \\\n",
       "0      The RNA pseudoknots in foot-and-mouth disease ...   \n",
       "1      Analysis Title: Regaining perspective on SARS-...   \n",
       "2      Healthcare-resource-adjusted vulnerabilities t...   \n",
       "3      Real-time, MinION-based, amplicon sequencing f...   \n",
       "4      A Combined Evidence Approach to Prioritize Nip...   \n",
       "...                                                  ...   \n",
       "33370          Understanding Human Coronavirus HCoV-NL63   \n",
       "33371  Brief Definitive Report MACROPHAGES GENETICALL...   \n",
       "33372  Identification of a Subdomain of CENPB That Is...   \n",
       "33373  Replication enhancer elements within the open ...   \n",
       "33374  Supplemental material for the paper \"Evidence ...   \n",
       "\n",
       "                                                abstract  \\\n",
       "0      word count: 194 22 Text word count: 5168 23 24...   \n",
       "1      During the past three months, a new coronaviru...   \n",
       "2                                                     []   \n",
       "3      Infectious bronchitis (IB) causes significant ...   \n",
       "4      Nipah Virus (NiV) came into limelight recently...   \n",
       "...                                                  ...   \n",
       "33370  Even though coronavirus infection of humans is...   \n",
       "33371  There is extensive evidence that cultured macr...   \n",
       "33372  We have combined in vivo and in vitro approach...   \n",
       "33373  We provide experimental evidence of a replicat...   \n",
       "33374  Israel. *Corresponding author (TT): tamirtul@p...   \n",
       "\n",
       "                                                    text  \n",
       "0      VP3, and VP0 (which is further processed to VP...  \n",
       "1      In December 2019, a novel coronavirus, SARS-Co...  \n",
       "2      The 2019-nCoV epidemic has spread across China...  \n",
       "3      Infectious bronchitis (IB), which is caused by...  \n",
       "4      Nipah is an infectious negative-sense single-s...  \n",
       "...                                                  ...  \n",
       "33370  Regardless of geographic location, respiratory...  \n",
       "33371  Experiments were designed to test whether subs...  \n",
       "33372  can function in an autonomous fashion, relocat...  \n",
       "33373  Tick-borne encephalitis virus (TBEV) is a huma...  \n",
       "33374  20min). We trimmed the poly-A adaptors from th...  \n",
       "\n",
       "[33375 rows x 3 columns]"
      ]
     },
     "execution_count": 8,
     "metadata": {},
     "output_type": "execute_result"
    }
   ],
   "source": [
    "import pandas as pd\n",
    "\n",
    "df = pd.DataFrame(docs, columns=['title', 'abstract', 'text'])\n",
    "df.to_csv(\"COVID.csv\")\n",
    "df"
   ]
  },
  {
   "cell_type": "code",
   "execution_count": 9,
   "metadata": {},
   "outputs": [],
   "source": [
    "import re\n",
    "\n",
    "inc = df['text'].str.contains(\"incubation\")\n",
    "inc = df[inc]\n",
    "texts = inc['text'].values\n",
    "\n",
    "inc_days = []\n",
    "\n",
    "for t in texts:\n",
    "    tt = t.split(\".\")\n",
    "    for text in tt:\n",
    "        if 'incubation' in text:\n",
    "#             print(text)\n",
    "            day = re.findall(r\" \\d{1,2} day\", text)\n",
    "            if day != []:\n",
    "                n = day[0].split(\" \")\n",
    "                inc_days.append(int(n[1]))\n",
    "# inc_days"
   ]
  },
  {
   "cell_type": "code",
   "execution_count": 10,
   "metadata": {},
   "outputs": [
    {
     "name": "stdout",
     "output_type": "stream",
     "text": [
      "Mean: 9.623835213339872\n"
     ]
    },
    {
     "data": {
      "image/png": "[encoded data removed]",
      "text/plain": [
       "<Figure size 432x288 with 1 Axes>"
      ]
     },
     "metadata": {},
     "output_type": "display_data"
    }
   ],
   "source": [
    "import matplotlib.pyplot as plt\n",
    "import seaborn as sns\n",
    "import numpy as np\n",
    "\n",
    "sns.set()\n",
    "\n",
    "plt.hist(inc_days)\n",
    "print(f\"Mean: {np.mean(inc_days)}\")"
   ]
  },
  {
   "cell_type": "code",
   "execution_count": null,
   "metadata": {},
   "outputs": [],
   "source": []
  }
 ],
 "metadata": {
  "kernelspec": {
   "display_name": "Python 3",
   "language": "python",
   "name": "python3"
  },
  "language_info": {
   "codemirror_mode": {
    "name": "ipython",
    "version": 3
   },
   "file_extension": ".py",
   "mimetype": "text/x-python",
   "name": "python",
   "nbconvert_exporter": "python",
   "pygments_lexer": "ipython3",
   "version": "3.7.4"
  }
 },
 "nbformat": 4,
 "nbformat_minor": 2
}
